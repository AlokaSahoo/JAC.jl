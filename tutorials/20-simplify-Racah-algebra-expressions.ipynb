{
 "cells": [
  {
   "cell_type": "markdown",
   "metadata": {},
   "source": [
    "# Simplify symbolic Racah algebra expressions "
   ]
  },
  {
   "cell_type": "code",
   "execution_count": 2,
   "metadata": {},
   "outputs": [],
   "source": [
    "using JAC"
   ]
  },
  {
   "cell_type": "markdown",
   "metadata": {},
   "source": [
    "# **The following part of this nootebook is still under construction.**"
   ]
  },
  {
   "cell_type": "markdown",
   "metadata": {},
   "source": [
    "\n",
    "In atomic and quantum many-particle physics, (the coupling of) angular momenta and spherical tensors play a crucial role for the the evaluation and spin-angular integration of many-particle matrix elements. This coupling often leads to algebraic expressions which are usually written in terms of generalized Clebsch-Gordan coefficients and/or Wigner 3n–j symbols as well as the Wigner rotation matrices and spherical harmonics. Although the evaluation and simplification of such expressions is *in principle* a straigthforward task, it may become very cumbersome if complex systems or physical scenarios are considered.\n",
    "\n",
    "After the pioneering work by Wigner in the late 1930s, in particular Racah developed a powerful machinery, known as **Racah algebra** today, in order to deal with the angular momentum of (rotational invariant) quantum many-particle systems. Briefly speaking, this machinery includes a number of strategies to simplify (so-called) **Racah expressions**. In JAC, these expressions are defined by a summation over Wigner n-j symbols of different kind(s) as well as (various integrals over) the spherical harmonics and Kronecker and triangular deltas, cf. User Guide, Section 15.1. Here, the summation may formally run over any number of angular momenta. Since all these symbols obey a rather high symmetry, the complexity of such Racah expressions increases very rapidly as more Wigner symbols, rotation matrices and or spherical harmonics appear in the (product) terms over which the summation runs.\n",
    "\n",
    "There are different strategies, that can be (successively) applied to simplify such Racah expressions algebracially, i.e. if the angular momenta are not specified numerically. These strategies include:\n",
    "\n",
    "\n",
    "\n",
    "What is a Racah expression ... and how easily could it be displayed in such a tutorial.\n",
    "\n",
    "What are the major strategies for the simplification of Racah algebra expressions ?\n",
    "\n",
    "We first look for the internal representation of a Wigner 3-j symbol `W3j(..)`"
   ]
  },
  {
   "cell_type": "code",
   "execution_count": null,
   "metadata": {},
   "outputs": [],
   "source": [
    "?W3j"
   ]
  },
  {
   "cell_type": "markdown",
   "metadata": {},
   "source": [
    "and similarly for a `RacahExpression`"
   ]
  },
  {
   "cell_type": "code",
   "execution_count": null,
   "metadata": {},
   "outputs": [],
   "source": [
    "?RacahExpression"
   ]
  },
  {
   "cell_type": "markdown",
   "metadata": {},
   "source": [
    "A simple strategy in looking for simplifications of either general Racah expressions or individual Wigner symbols is to *detect special values* of the Wigner n-j symbols. Let us consider, for instance:"
   ]
  },
  {
   "cell_type": "code",
   "execution_count": null,
   "metadata": {},
   "outputs": [],
   "source": [
    "define special values from earlier CPC papers; w3j = ... w6J = ..."
   ]
  },
  {
   "cell_type": "markdown",
   "metadata": {},
   "source": [
    "We can try to simplify these Wigner symbols by"
   ]
  },
  {
   "cell_type": "code",
   "execution_count": null,
   "metadata": {},
   "outputs": [],
   "source": [
    "RacahAlgebra.evaluate(w3j)"
   ]
  },
  {
   "cell_type": "code",
   "execution_count": null,
   "metadata": {},
   "outputs": [],
   "source": [
    "RacahAlgebra.evaluate(w6j)"
   ]
  },
  {
   "cell_type": "markdown",
   "metadata": {},
   "source": [
    "This is not surprising since the special value of the Wigner symbols are frequently shown in the literature. The same simplification works if we (randomly) generate an *equivalent form* of the Wigner 3-j symbol due to the 12 classical symmetries"
   ]
  },
  {
   "cell_type": "code",
   "execution_count": null,
   "metadata": {},
   "outputs": [],
   "source": [
    "w3jb = RacahAlgebra.equivalentForm(w3j)"
   ]
  },
  {
   "cell_type": "code",
   "execution_count": null,
   "metadata": {},
   "outputs": [],
   "source": [
    "RacahAlgebra.evaluate(w3jb)"
   ]
  },
  {
   "cell_type": "markdown",
   "metadata": {},
   "source": [
    "We could (randomly) re-write this Wigner 3-j symbol 'w3j' also by means of the 72 Regge symmetries although, at present, these symmetries are at not supported in all detail"
   ]
  },
  {
   "cell_type": "code",
   "execution_count": null,
   "metadata": {},
   "outputs": [],
   "source": [
    "w3jb = RacahAlgebra.equivalentForm(w3j, regge=true)"
   ]
  },
  {
   "cell_type": "markdown",
   "metadata": {},
   "source": [
    "The simplification of the Regge symmetries is simple and can easily be established if the need arises. In practice, such special values are also recognized by Mathematica and perhaps other computer-algebra systems.\n",
    "\n",
    "A more frequent and challenging task refers to the symbolic simplification by using sum rules. Only a standard form of each sum rule is typically shown in the literature. In general, however, one needs to recognize all the symmetries, phases and possible (weight) factors of the symbols involved. In JAC, this is realized by automatically through all symmetric forms of the Wigner n-j (n = 3,6,9) symbols."
   ]
  },
  {
   "cell_type": "markdown",
   "metadata": {},
   "source": [
    "Until the present, only a rather restricted set of sum rules are implemented and tested in detail. ... Here construct a product expression of three sum-rules: one-w3j, two-w6j, one-w9j and\n",
    "modify it randomly. ... Evaluate this expression in three steps ... and hopefully to just some delta-factors"
   ]
  },
  {
   "cell_type": "code",
   "execution_count": null,
   "metadata": {},
   "outputs": [],
   "source": [
    "rex = "
   ]
  },
  {
   "cell_type": "markdown",
   "metadata": {},
   "source": [
    "In the future, we shall implement further rules though this might also depend on the interest from the user side."
   ]
  },
  {
   "cell_type": "code",
   "execution_count": null,
   "metadata": {},
   "outputs": [],
   "source": []
  },
  {
   "cell_type": "code",
   "execution_count": null,
   "metadata": {},
   "outputs": [],
   "source": []
  }
 ],
 "metadata": {
  "@webio": {
   "lastCommId": null,
   "lastKernelId": null
  },
  "kernelspec": {
   "display_name": "Julia 1.0.3",
   "language": "julia",
   "name": "julia-1.0"
  },
  "language_info": {
   "file_extension": ".jl",
   "mimetype": "application/julia",
   "name": "julia",
   "version": "1.0.3"
  }
 },
 "nbformat": 4,
 "nbformat_minor": 2
}
