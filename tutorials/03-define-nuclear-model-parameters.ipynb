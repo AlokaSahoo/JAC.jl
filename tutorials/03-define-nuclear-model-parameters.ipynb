{
 "cells": [
  {
   "cell_type": "markdown",
   "metadata": {},
   "source": [
    "# Define the nuclear (model) parameters & potential"
   ]
  },
  {
   "cell_type": "code",
   "execution_count": 10,
   "metadata": {},
   "outputs": [],
   "source": [
    "using JAC"
   ]
  },
  {
   "cell_type": "code",
   "execution_count": 2,
   "metadata": {},
   "outputs": [],
   "source": [
    "using Interact"
   ]
  },
  {
   "cell_type": "markdown",
   "metadata": {},
   "source": [
    "The charge and shape of the nucleus is essential to understand the electronic level structure and  some of the processes that may occur in an atom or ion. Usually, these and other nuclear parameters need to be specified prior to the generation of (electronic) wave functions, state representations as well as the computation of atomic amplitudes, properties and processes.\n",
    "\n",
    "In JAC, all information about the underlying **nuclear model** are kept in the data structure `Nuclear.Model` which carries the following information:"
   ]
  },
  {
   "cell_type": "code",
   "execution_count": 3,
   "metadata": {
    "scrolled": false
   },
   "outputs": [
    {
     "data": {
      "text/latex": [
       "\\texttt{struct  Nuclear.Model}  ... defines a type for the nuclear model, i.e. for its form and parameters.\n",
       "\n",
       "\\begin{verbatim}\n",
       "+ Z        ::Float64         ... nuclear charge\n",
       "+ model    ::String          ... identifier of the nuclear model: {\"Fermi\", \"Point\", \"Uniform\"}\n",
       "+ mass     ::Float64         ... atomic mass\n",
       "+ radius   ::Float64         ... (root-mean square) radius of a uniform or Fermi-distributed nucleus\n",
       "+ spinI    ::AngularJ64      ... nuclear spin I, must be >= 0\n",
       "+ mu       ::Float64         ... magnetic dipole moment in Bohr magnetons\n",
       "+ Q        ::Float64         ... electric qadrupole moment\n",
       "\\end{verbatim}\n",
       "\\rule{\\textwidth}{1pt}\n",
       "\\texttt{Nuclear.Model(Z::Real)}       ... to specify a Fermi-type nucleus with charge Z, and where the nuclear spin and nuclear moments are all set to zero.\n",
       "\n",
       "\\rule{\\textwidth}{1pt}\n",
       "\\texttt{Nuclear.Model(Z::Real, model::String)}       ... to specify a nucleus with charge Z, model = \\{\"Fermi\", \"point\", \"uniform\"\\}, and where the nuclear spin and          nuclear moments are all set to zero.\n",
       "\n",
       "\\rule{\\textwidth}{1pt}\n",
       "\\texttt{Nuclear.Model(gui::Guint; model::Nuclear.Model=Model(36.0))}       ... constructor to re-fine a nuclear model by a graphical user interface, and which may starts from          the parameters of a given model.\n",
       "\n"
      ],
      "text/markdown": [
       "`struct  Nuclear.Model`  ... defines a type for the nuclear model, i.e. for its form and parameters.\n",
       "\n",
       "```\n",
       "+ Z        ::Float64         ... nuclear charge\n",
       "+ model    ::String          ... identifier of the nuclear model: {\"Fermi\", \"Point\", \"Uniform\"}\n",
       "+ mass     ::Float64         ... atomic mass\n",
       "+ radius   ::Float64         ... (root-mean square) radius of a uniform or Fermi-distributed nucleus\n",
       "+ spinI    ::AngularJ64      ... nuclear spin I, must be >= 0\n",
       "+ mu       ::Float64         ... magnetic dipole moment in Bohr magnetons\n",
       "+ Q        ::Float64         ... electric qadrupole moment\n",
       "```\n",
       "\n",
       "---\n",
       "\n",
       "`Nuclear.Model(Z::Real)`       ... to specify a Fermi-type nucleus with charge Z, and where the nuclear spin and nuclear moments are all set to zero.\n",
       "\n",
       "---\n",
       "\n",
       "`Nuclear.Model(Z::Real, model::String)`       ... to specify a nucleus with charge Z, model = {\"Fermi\", \"point\", \"uniform\"}, and where the nuclear spin and          nuclear moments are all set to zero.\n",
       "\n",
       "---\n",
       "\n",
       "`Nuclear.Model(gui::Guint; model::Nuclear.Model=Model(36.0))`       ... constructor to re-fine a nuclear model by a graphical user interface, and which may starts from          the parameters of a given model.\n"
      ],
      "text/plain": [
       "  \u001b[36mstruct  Nuclear.Model\u001b[39m ... defines a type for the nuclear model, i.e. for its\n",
       "  form and parameters.\n",
       "\n",
       "\u001b[36m  + Z        ::Float64         ... nuclear charge\u001b[39m\n",
       "\u001b[36m  + model    ::String          ... identifier of the nuclear model: {\"Fermi\", \"Point\", \"Uniform\"}\u001b[39m\n",
       "\u001b[36m  + mass     ::Float64         ... atomic mass\u001b[39m\n",
       "\u001b[36m  + radius   ::Float64         ... (root-mean square) radius of a uniform or Fermi-distributed nucleus\u001b[39m\n",
       "\u001b[36m  + spinI    ::AngularJ64      ... nuclear spin I, must be >= 0\u001b[39m\n",
       "\u001b[36m  + mu       ::Float64         ... magnetic dipole moment in Bohr magnetons\u001b[39m\n",
       "\u001b[36m  + Q        ::Float64         ... electric qadrupole moment\u001b[39m\n",
       "\n",
       "  ────────────────────────────────────────────────────────────────────────────\n",
       "\n",
       "  \u001b[36mNuclear.Model(Z::Real)\u001b[39m ... to specify a Fermi-type nucleus with charge Z,\n",
       "  and where the nuclear spin and nuclear moments are all set to zero.\n",
       "\n",
       "  ────────────────────────────────────────────────────────────────────────────\n",
       "\n",
       "  \u001b[36mNuclear.Model(Z::Real, model::String)\u001b[39m ... to specify a nucleus with charge\n",
       "  Z, model = {\"Fermi\", \"point\", \"uniform\"}, and where the nuclear spin and\n",
       "  nuclear moments are all set to zero.\n",
       "\n",
       "  ────────────────────────────────────────────────────────────────────────────\n",
       "\n",
       "  \u001b[36mNuclear.Model(gui::Guint; model::Nuclear.Model=Model(36.0))\u001b[39m ... constructor\n",
       "  to re-fine a nuclear model by a graphical user interface, and which may\n",
       "  starts from the parameters of a given model."
      ]
     },
     "execution_count": 3,
     "metadata": {},
     "output_type": "execute_result"
    }
   ],
   "source": [
    "? Nuclear.Model"
   ]
  },
  {
   "cell_type": "markdown",
   "metadata": {},
   "source": [
    "For quick computations and for most atomic processes, it is often sufficient to just specify the nuclear charge $Z$ and to leave all other parameters to their default values. For example, we here define such a nucleus for xenon $(Z=54)$ and will immediatly see the details of this specification:"
   ]
  },
  {
   "cell_type": "code",
   "execution_count": 4,
   "metadata": {},
   "outputs": [
    {
     "data": {
      "text/plain": [
       "Fermi nuclear model for Z = 54.0 with mass = 122.58, radius R = 4.722849091608491 fm and nuclear spin I = 0, dipole moment mu = 0.0 and quadrupole moment Q = 0.0."
      ]
     },
     "execution_count": 4,
     "metadata": {},
     "output_type": "execute_result"
    }
   ],
   "source": [
    "wa = Nuclear.Model(54.)"
   ]
  },
  {
   "cell_type": "markdown",
   "metadata": {},
   "source": [
    "Of course, we can also specify all details about the nucleus by using the *standard* constructor:"
   ]
  },
  {
   "cell_type": "code",
   "execution_count": 5,
   "metadata": {},
   "outputs": [
    {
     "data": {
      "text/plain": [
       "Uniform nuclear model for Z = 54.0 with mass = 132.0, radius R = 5.75 fm and nuclear spin I = 5/2, dipole moment mu = 1.0 and quadrupole moment Q = 2.0."
      ]
     },
     "execution_count": 5,
     "metadata": {},
     "output_type": "execute_result"
    }
   ],
   "source": [
    "wb = Nuclear.Model(54., \"uniform\", 132., 5.75, AngularJ64(5//2), 1.0, 2.0)"
   ]
  },
  {
   "cell_type": "markdown",
   "metadata": {},
   "source": [
    "... or we make use of the **graphical (GUI)** constructor by starting from scratch or by just refining a previously specified nuclear model. For this, all values can first be set and then *up-dated*. This constructor returns an `observable` whose value is obtained by obs[]:"
   ]
  },
  {
   "cell_type": "code",
   "execution_count": 1,
   "metadata": {},
   "outputs": [
    {
     "ename": "UndefVarError",
     "evalue": "UndefVarError: Nuclear not defined",
     "output_type": "error",
     "traceback": [
      "UndefVarError: Nuclear not defined",
      "",
      "Stacktrace:",
      " [1] top-level scope at In[1]:1"
     ]
    }
   ],
   "source": [
    "wx = Nuclear.Model(Gui)"
   ]
  },
  {
   "cell_type": "code",
   "execution_count": 7,
   "metadata": {},
   "outputs": [
    {
     "data": {
      "text/plain": [
       "Fermi nuclear model for Z = 36.0 with mass = 78.48, radius R = 4.149254741065642 fm and nuclear spin I = 0, dipole moment mu = 0.0 and quadrupole moment Q = 0.0."
      ]
     },
     "execution_count": 7,
     "metadata": {},
     "output_type": "execute_result"
    }
   ],
   "source": [
    "wd = wx[]"
   ]
  },
  {
   "cell_type": "code",
   "execution_count": 8,
   "metadata": {},
   "outputs": [
    {
     "data": {
      "application/vnd.webio.node+json": {
       "children": [
        {
         "children": [
          {
           "children": [
            "Nuclear model with: "
           ],
           "instanceArgs": {
            "namespace": "html",
            "tag": "div"
           },
           "nodeType": "DOM",
           "props": {
            "style": {
             "padding": "0.0em"
            }
           },
           "type": "node"
          }
         ],
         "instanceArgs": {
          "namespace": "html",
          "tag": "div"
         },
         "nodeType": "DOM",
         "props": {
          "style": {
           "display": "flex",
           "flex-direction": "row"
          }
         },
         "type": "node"
        },
        {
         "children": [
          {
           "children": [
            {
             "children": [
              {
               "children": [
                {
                 "children": [
                  {
                   "children": [
                    {
                     "children": [
                      "charge"
                     ],
                     "instanceArgs": {
                      "namespace": "html",
                      "tag": "label"
                     },
                     "nodeType": "DOM",
                     "props": {
                      "className": "interact ",
                      "style": {
                       "padding": "5px 10px 0px 10px"
                      }
                     },
                     "type": "node"
                    }
                   ],
                   "instanceArgs": {
                    "namespace": "html",
                    "tag": "div"
                   },
                   "nodeType": "DOM",
                   "props": {
                    "className": "interact-flex-row-left"
                   },
                   "type": "node"
                  },
                  {
                   "children": [
                    {
                     "children": [],
                     "instanceArgs": {
                      "namespace": "html",
                      "tag": "input"
                     },
                     "nodeType": "DOM",
                     "props": {
                      "attributes": {
                       "data-bind": "numericValue: index, valueUpdate: 'input', event: {change: function (){this.changes(this.changes()+1)}}",
                       "orient": "horizontal",
                       "type": "range"
                      },
                      "className": "slider slider is-fullwidth",
                      "max": 110,
                      "min": 1,
                      "step": 1,
                      "style": {}
                     },
                     "type": "node"
                    }
                   ],
                   "instanceArgs": {
                    "namespace": "html",
                    "tag": "div"
                   },
                   "nodeType": "DOM",
                   "props": {
                    "className": "interact-flex-row-center"
                   },
                   "type": "node"
                  },
                  {
                   "children": [
                    {
                     "children": [],
                     "instanceArgs": {
                      "namespace": "html",
                      "tag": "p"
                     },
                     "nodeType": "DOM",
                     "props": {
                      "attributes": {
                       "data-bind": "text: formatted_val"
                      }
                     },
                     "type": "node"
                    }
                   ],
                   "instanceArgs": {
                    "namespace": "html",
                    "tag": "div"
                   },
                   "nodeType": "DOM",
                   "props": {
                    "className": "interact-flex-row-right"
                   },
                   "type": "node"
                  }
                 ],
                 "instanceArgs": {
                  "namespace": "html",
                  "tag": "div"
                 },
                 "nodeType": "DOM",
                 "props": {
                  "className": "interact-flex-row interact-widget"
                 },
                 "type": "node"
                }
               ],
               "instanceArgs": {
                "handlers": {
                 "changes": [
                  "(function (val){return (val!=this.model[\"changes\"]()) ? (this.valueFromJulia[\"changes\"]=true, this.model[\"changes\"](val)) : undefined})"
                 ],
                 "index": [
                  "(function (val){return (val!=this.model[\"index\"]()) ? (this.valueFromJulia[\"index\"]=true, this.model[\"index\"](val)) : undefined})"
                 ]
                },
                "id": "2004783675536961241",
                "imports": {
                 "data": [
                  {
                   "name": "knockout",
                   "type": "js",
                   "url": "/assetserver/527b7d1e38fd1189920eac026f6b42444ea6f4c1-knockout.js"
                  },
                  {
                   "name": "knockout_punches",
                   "type": "js",
                   "url": "/assetserver/806fdc7f8b09930f85ffd148c249c72ecb4a5db6-knockout_punches.js"
                  },
                  {
                   "name": null,
                   "type": "js",
                   "url": "/assetserver/20bab344d017878945756fa9ae950f97b5514fa4-all.js"
                  },
                  {
                   "name": null,
                   "type": "css",
                   "url": "/assetserver/7c74a0f7ad26a631f501fce93e7e337f546c51e1-style.css"
                  },
                  {
                   "name": null,
                   "type": "css",
                   "url": "/assetserver/57003efb4bed418a119cf4406bc5d9ffd579f0b4-bulma_confined.min.css"
                  }
                 ],
                 "type": "async_block"
                },
                "mount_callbacks": [
                 "function () {\n    var handler = (function (ko, koPunches) {\n    ko.punches.enableAll();\n    ko.bindingHandlers.numericValue = {\n        init: function(element, valueAccessor, allBindings, data, context) {\n            var stringified = ko.observable(ko.unwrap(valueAccessor()));\n            stringified.subscribe(function(value) {\n                var val = parseFloat(value);\n                if (!isNaN(val)) {\n                    valueAccessor()(val);\n                }\n            });\n            valueAccessor().subscribe(function(value) {\n                var str = JSON.stringify(value);\n                if ((str == \"0\") && ([\"-0\", \"-0.\"].indexOf(stringified()) >= 0))\n                     return;\n                 if ([\"null\", \"\"].indexOf(str) >= 0)\n                     return;\n                stringified(str);\n            });\n            ko.applyBindingsToNode(\n                element,\n                {\n                    value: stringified,\n                    valueUpdate: allBindings.get('valueUpdate'),\n                },\n                context,\n            );\n        }\n    };\n    var json_data = {\"formatted_vals\":[\"1\",\"2\",\"3\",\"4\",\"5\",\"6\",\"7\",\"8\",\"9\",\"10\",\"11\",\"12\",\"13\",\"14\",\"15\",\"16\",\"17\",\"18\",\"19\",\"20\",\"21\",\"22\",\"23\",\"24\",\"25\",\"26\",\"27\",\"28\",\"29\",\"30\",\"31\",\"32\",\"33\",\"34\",\"35\",\"36\",\"37\",\"38\",\"39\",\"40\",\"41\",\"42\",\"43\",\"44\",\"45\",\"46\",\"47\",\"48\",\"49\",\"50\",\"51\",\"52\",\"53\",\"54\",\"55\",\"56\",\"57\",\"58\",\"59\",\"60\",\"61\",\"62\",\"63\",\"64\",\"65\",\"66\",\"67\",\"68\",\"69\",\"70\",\"71\",\"72\",\"73\",\"74\",\"75\",\"76\",\"77\",\"78\",\"79\",\"80\",\"81\",\"82\",\"83\",\"84\",\"85\",\"86\",\"87\",\"88\",\"89\",\"90\",\"91\",\"92\",\"93\",\"94\",\"95\",\"96\",\"97\",\"98\",\"99\",\"100\",\"101\",\"102\",\"103\",\"104\",\"105\",\"106\",\"107\",\"108\",\"109\",\"110\"],\"changes\":WebIO.getval({\"name\":\"changes\",\"scope\":\"2004783675536961241\",\"id\":\"ob_24\",\"type\":\"observable\"}),\"index\":WebIO.getval({\"name\":\"index\",\"scope\":\"2004783675536961241\",\"id\":\"ob_23\",\"type\":\"observable\"})};\n    var self = this;\n    function AppViewModel() {\n        for (var key in json_data) {\n            var el = json_data[key];\n            this[key] = Array.isArray(el) ? ko.observableArray(el) : ko.observable(el);\n        }\n        \n        [this[\"formatted_val\"]=ko.computed(    function(){\n        return this.formatted_vals()[parseInt(this.index())-(1)];\n    }\n,this)]\n        [this[\"changes\"].subscribe((function (val){!(this.valueFromJulia[\"changes\"]) ? (WebIO.setval({\"name\":\"changes\",\"scope\":\"2004783675536961241\",\"id\":\"ob_24\",\"type\":\"observable\"},val)) : undefined; return this.valueFromJulia[\"changes\"]=false}),self),this[\"index\"].subscribe((function (val){!(this.valueFromJulia[\"index\"]) ? (WebIO.setval({\"name\":\"index\",\"scope\":\"2004783675536961241\",\"id\":\"ob_23\",\"type\":\"observable\"},val)) : undefined; return this.valueFromJulia[\"index\"]=false}),self)]\n        \n    }\n    self.model = new AppViewModel();\n    self.valueFromJulia = {};\n    for (var key in json_data) {\n        self.valueFromJulia[key] = false;\n    }\n    ko.applyBindings(self.model, self.dom);\n}\n);\n    (WebIO.importBlock({\"data\":[{\"name\":\"knockout\",\"type\":\"js\",\"url\":\"/assetserver/527b7d1e38fd1189920eac026f6b42444ea6f4c1-knockout.js\"},{\"name\":\"knockout_punches\",\"type\":\"js\",\"url\":\"/assetserver/806fdc7f8b09930f85ffd148c249c72ecb4a5db6-knockout_punches.js\"}],\"type\":\"async_block\"})).then((imports) => handler.apply(this, imports));\n}\n"
                ],
                "observables": {
                 "changes": {
                  "id": "ob_24",
                  "sync": false,
                  "value": 0
                 },
                 "index": {
                  "id": "ob_23",
                  "sync": false,
                  "value": 54
                 }
                },
                "systemjs_options": null
               },
               "nodeType": "Scope",
               "props": {},
               "type": "node"
              }
             ],
             "instanceArgs": {
              "namespace": "html",
              "tag": "div"
             },
             "nodeType": "DOM",
             "props": {
              "className": "field interact-widget"
             },
             "type": "node"
            }
           ],
           "instanceArgs": {
            "namespace": "html",
            "tag": "div"
           },
           "nodeType": "DOM",
           "props": {
            "style": {
             "padding": "1.0em"
            }
           },
           "type": "node"
          }
         ],
         "instanceArgs": {
          "namespace": "html",
          "tag": "div"
         },
         "nodeType": "DOM",
         "props": {
          "style": {
           "display": "flex",
           "flex-direction": "row"
          }
         },
         "type": "node"
        },
        {
         "children": [
          {
           "children": [
            {
             "children": [
              {
               "children": [
                {
                 "children": [
                  {
                   "children": [],
                   "instanceArgs": {
                    "namespace": "html",
                    "tag": "select"
                   },
                   "nodeType": "DOM",
                   "props": {
                    "attributes": {
                     "data-bind": "options : options_js, value : index, optionsText: 'key', optionsValue: 'val', valueAllowUnset: true, optionsAfterRender: disablePlaceholder"
                    }
                   },
                   "type": "node"
                  }
                 ],
                 "instanceArgs": {
                  "namespace": "html",
                  "tag": "div"
                 },
                 "nodeType": "DOM",
                 "props": {
                  "className": "select "
                 },
                 "type": "node"
                }
               ],
               "instanceArgs": {
                "handlers": {
                 "index": [
                  "(function (val){return (val!=this.model[\"index\"]()) ? (this.valueFromJulia[\"index\"]=true, this.model[\"index\"](val)) : undefined})"
                 ],
                 "options_js": [
                  "(function (val){return (val!=this.model[\"options_js\"]()) ? (this.valueFromJulia[\"options_js\"]=true, this.model[\"options_js\"](val)) : undefined})"
                 ]
                },
                "id": "13333142051536004783",
                "imports": {
                 "data": [
                  {
                   "name": "knockout",
                   "type": "js",
                   "url": "/assetserver/527b7d1e38fd1189920eac026f6b42444ea6f4c1-knockout.js"
                  },
                  {
                   "name": "knockout_punches",
                   "type": "js",
                   "url": "/assetserver/806fdc7f8b09930f85ffd148c249c72ecb4a5db6-knockout_punches.js"
                  },
                  {
                   "name": null,
                   "type": "js",
                   "url": "/assetserver/20bab344d017878945756fa9ae950f97b5514fa4-all.js"
                  },
                  {
                   "name": null,
                   "type": "css",
                   "url": "/assetserver/7c74a0f7ad26a631f501fce93e7e337f546c51e1-style.css"
                  },
                  {
                   "name": null,
                   "type": "css",
                   "url": "/assetserver/57003efb4bed418a119cf4406bc5d9ffd579f0b4-bulma_confined.min.css"
                  }
                 ],
                 "type": "async_block"
                },
                "mount_callbacks": [
                 "function () {\n    var handler = (function (ko, koPunches) {\n    ko.punches.enableAll();\n    ko.bindingHandlers.numericValue = {\n        init: function(element, valueAccessor, allBindings, data, context) {\n            var stringified = ko.observable(ko.unwrap(valueAccessor()));\n            stringified.subscribe(function(value) {\n                var val = parseFloat(value);\n                if (!isNaN(val)) {\n                    valueAccessor()(val);\n                }\n            });\n            valueAccessor().subscribe(function(value) {\n                var str = JSON.stringify(value);\n                if ((str == \"0\") && ([\"-0\", \"-0.\"].indexOf(stringified()) >= 0))\n                     return;\n                 if ([\"null\", \"\"].indexOf(str) >= 0)\n                     return;\n                stringified(str);\n            });\n            ko.applyBindingsToNode(\n                element,\n                {\n                    value: stringified,\n                    valueUpdate: allBindings.get('valueUpdate'),\n                },\n                context,\n            );\n        }\n    };\n    var json_data = {\"options_js\":WebIO.getval({\"name\":\"options_js\",\"scope\":\"13333142051536004783\",\"id\":\"ob_29\",\"type\":\"observable\"}),\"index\":WebIO.getval({\"name\":\"index\",\"scope\":\"13333142051536004783\",\"id\":\"ob_28\",\"type\":\"observable\"})};\n    var self = this;\n    function AppViewModel() {\n        for (var key in json_data) {\n            var el = json_data[key];\n            this[key] = Array.isArray(el) ? ko.observableArray(el) : ko.observable(el);\n        }\n        [this[\"disablePlaceholder\"]=function(option, item) {\n    ko.applyBindingsToNode(option, {disable: item.val == 0}, item);\n}\n]\n        \n        [this[\"options_js\"].subscribe((function (val){!(this.valueFromJulia[\"options_js\"]) ? (WebIO.setval({\"name\":\"options_js\",\"scope\":\"13333142051536004783\",\"id\":\"ob_29\",\"type\":\"observable\"},val)) : undefined; return this.valueFromJulia[\"options_js\"]=false}),self),this[\"index\"].subscribe((function (val){!(this.valueFromJulia[\"index\"]) ? (WebIO.setval({\"name\":\"index\",\"scope\":\"13333142051536004783\",\"id\":\"ob_28\",\"type\":\"observable\"},val)) : undefined; return this.valueFromJulia[\"index\"]=false}),self)]\n        \n    }\n    self.model = new AppViewModel();\n    self.valueFromJulia = {};\n    for (var key in json_data) {\n        self.valueFromJulia[key] = false;\n    }\n    ko.applyBindings(self.model, self.dom);\n}\n);\n    (WebIO.importBlock({\"data\":[{\"name\":\"knockout\",\"type\":\"js\",\"url\":\"/assetserver/527b7d1e38fd1189920eac026f6b42444ea6f4c1-knockout.js\"},{\"name\":\"knockout_punches\",\"type\":\"js\",\"url\":\"/assetserver/806fdc7f8b09930f85ffd148c249c72ecb4a5db6-knockout_punches.js\"}],\"type\":\"async_block\"})).then((imports) => handler.apply(this, imports));\n}\n"
                ],
                "observables": {
                 "index": {
                  "id": "ob_28",
                  "sync": true,
                  "value": 4
                 },
                 "options_js": {
                  "id": "ob_29",
                  "sync": false,
                  "value": [
                   {
                    "id": "ida4BAxI5I",
                    "key": "uniform",
                    "val": 1
                   },
                   {
                    "id": "idu6fid7Yg",
                    "key": "Fermi",
                    "val": 2
                   },
                   {
                    "id": "id2Aj7ZF8V",
                    "key": "point",
                    "val": 3
                   },
                   {
                    "id": "idD7OZB95j",
                    "key": "uniform",
                    "val": 4
                   }
                  ]
                 }
                },
                "systemjs_options": null
               },
               "nodeType": "Scope",
               "props": {},
               "type": "node"
              }
             ],
             "instanceArgs": {
              "namespace": "html",
              "tag": "div"
             },
             "nodeType": "DOM",
             "props": {
              "className": "field interact-widget"
             },
             "type": "node"
            }
           ],
           "instanceArgs": {
            "namespace": "html",
            "tag": "div"
           },
           "nodeType": "DOM",
           "props": {
            "style": {
             "padding": "1.0em"
            }
           },
           "type": "node"
          },
          {
           "children": [
            {
             "children": [
              {
               "children": [
                {
                 "children": [
                  {
                   "children": [
                    {
                     "children": [
                      "mass  "
                     ],
                     "instanceArgs": {
                      "namespace": "html",
                      "tag": "label"
                     },
                     "nodeType": "DOM",
                     "props": {
                      "className": "interact ",
                      "style": {
                       "padding": "5px 10px 0px 10px"
                      }
                     },
                     "type": "node"
                    }
                   ],
                   "instanceArgs": {
                    "namespace": "html",
                    "tag": "div"
                   },
                   "nodeType": "DOM",
                   "props": {
                    "className": "interact-flex-row-left"
                   },
                   "type": "node"
                  },
                  {
                   "children": [
                    {
                     "children": [],
                     "instanceArgs": {
                      "namespace": "html",
                      "tag": "input"
                     },
                     "nodeType": "DOM",
                     "props": {
                      "attributes": {
                       "data-bind": "numericValue: value, valueUpdate: 'input', event: {change: function (){this.changes(this.changes()+1)}}",
                       "type": "number"
                      },
                      "className": "input ",
                      "placeholder": "",
                      "style": {}
                     },
                     "type": "node"
                    }
                   ],
                   "instanceArgs": {
                    "namespace": "html",
                    "tag": "div"
                   },
                   "nodeType": "DOM",
                   "props": {
                    "className": "interact-flex-row-center"
                   },
                   "type": "node"
                  },
                  {
                   "children": [
                    {
                     "children": [],
                     "instanceArgs": {
                      "namespace": "html",
                      "tag": "div"
                     },
                     "nodeType": "DOM",
                     "props": {},
                     "type": "node"
                    }
                   ],
                   "instanceArgs": {
                    "namespace": "html",
                    "tag": "div"
                   },
                   "nodeType": "DOM",
                   "props": {
                    "className": "interact-flex-row-right"
                   },
                   "type": "node"
                  }
                 ],
                 "instanceArgs": {
                  "namespace": "html",
                  "tag": "div"
                 },
                 "nodeType": "DOM",
                 "props": {
                  "className": "interact-flex-row interact-widget"
                 },
                 "type": "node"
                }
               ],
               "instanceArgs": {
                "handlers": {
                 "changes": [
                  "(function (val){return (val!=this.model[\"changes\"]()) ? (this.valueFromJulia[\"changes\"]=true, this.model[\"changes\"](val)) : undefined})"
                 ],
                 "value": [
                  "(function (val){return (val!=this.model[\"value\"]()) ? (this.valueFromJulia[\"value\"]=true, this.model[\"value\"](val)) : undefined})"
                 ]
                },
                "id": "10306955698781944223",
                "imports": {
                 "data": [
                  {
                   "name": "knockout",
                   "type": "js",
                   "url": "/assetserver/527b7d1e38fd1189920eac026f6b42444ea6f4c1-knockout.js"
                  },
                  {
                   "name": "knockout_punches",
                   "type": "js",
                   "url": "/assetserver/806fdc7f8b09930f85ffd148c249c72ecb4a5db6-knockout_punches.js"
                  },
                  {
                   "name": null,
                   "type": "js",
                   "url": "/assetserver/20bab344d017878945756fa9ae950f97b5514fa4-all.js"
                  },
                  {
                   "name": null,
                   "type": "css",
                   "url": "/assetserver/7c74a0f7ad26a631f501fce93e7e337f546c51e1-style.css"
                  },
                  {
                   "name": null,
                   "type": "css",
                   "url": "/assetserver/57003efb4bed418a119cf4406bc5d9ffd579f0b4-bulma_confined.min.css"
                  }
                 ],
                 "type": "async_block"
                },
                "mount_callbacks": [
                 "function () {\n    var handler = (function (ko, koPunches) {\n    ko.punches.enableAll();\n    ko.bindingHandlers.numericValue = {\n        init: function(element, valueAccessor, allBindings, data, context) {\n            var stringified = ko.observable(ko.unwrap(valueAccessor()));\n            stringified.subscribe(function(value) {\n                var val = parseFloat(value);\n                if (!isNaN(val)) {\n                    valueAccessor()(val);\n                }\n            });\n            valueAccessor().subscribe(function(value) {\n                var str = JSON.stringify(value);\n                if ((str == \"0\") && ([\"-0\", \"-0.\"].indexOf(stringified()) >= 0))\n                     return;\n                 if ([\"null\", \"\"].indexOf(str) >= 0)\n                     return;\n                stringified(str);\n            });\n            ko.applyBindingsToNode(\n                element,\n                {\n                    value: stringified,\n                    valueUpdate: allBindings.get('valueUpdate'),\n                },\n                context,\n            );\n        }\n    };\n    var json_data = {\"changes\":WebIO.getval({\"name\":\"changes\",\"scope\":\"10306955698781944223\",\"id\":\"ob_31\",\"type\":\"observable\"}),\"value\":WebIO.getval({\"name\":\"value\",\"scope\":\"10306955698781944223\",\"id\":\"ob_30\",\"type\":\"observable\"})};\n    var self = this;\n    function AppViewModel() {\n        for (var key in json_data) {\n            var el = json_data[key];\n            this[key] = Array.isArray(el) ? ko.observableArray(el) : ko.observable(el);\n        }\n        \n        \n        [this[\"changes\"].subscribe((function (val){!(this.valueFromJulia[\"changes\"]) ? (WebIO.setval({\"name\":\"changes\",\"scope\":\"10306955698781944223\",\"id\":\"ob_31\",\"type\":\"observable\"},val)) : undefined; return this.valueFromJulia[\"changes\"]=false}),self),this[\"value\"].subscribe((function (val){!(this.valueFromJulia[\"value\"]) ? (WebIO.setval({\"name\":\"value\",\"scope\":\"10306955698781944223\",\"id\":\"ob_30\",\"type\":\"observable\"},val)) : undefined; return this.valueFromJulia[\"value\"]=false}),self)]\n        \n    }\n    self.model = new AppViewModel();\n    self.valueFromJulia = {};\n    for (var key in json_data) {\n        self.valueFromJulia[key] = false;\n    }\n    ko.applyBindings(self.model, self.dom);\n}\n);\n    (WebIO.importBlock({\"data\":[{\"name\":\"knockout\",\"type\":\"js\",\"url\":\"/assetserver/527b7d1e38fd1189920eac026f6b42444ea6f4c1-knockout.js\"},{\"name\":\"knockout_punches\",\"type\":\"js\",\"url\":\"/assetserver/806fdc7f8b09930f85ffd148c249c72ecb4a5db6-knockout_punches.js\"}],\"type\":\"async_block\"})).then((imports) => handler.apply(this, imports));\n}\n"
                ],
                "observables": {
                 "changes": {
                  "id": "ob_31",
                  "sync": false,
                  "value": 0
                 },
                 "value": {
                  "id": "ob_30",
                  "sync": false,
                  "value": 132
                 }
                },
                "systemjs_options": null
               },
               "nodeType": "Scope",
               "props": {},
               "type": "node"
              }
             ],
             "instanceArgs": {
              "namespace": "html",
              "tag": "div"
             },
             "nodeType": "DOM",
             "props": {
              "className": "field interact-widget"
             },
             "type": "node"
            }
           ],
           "instanceArgs": {
            "namespace": "html",
            "tag": "div"
           },
           "nodeType": "DOM",
           "props": {
            "style": {
             "padding": "1.0em"
            }
           },
           "type": "node"
          },
          {
           "children": [
            {
             "children": [
              {
               "children": [
                {
                 "children": [
                  {
                   "children": [
                    {
                     "children": [
                      "radius"
                     ],
                     "instanceArgs": {
                      "namespace": "html",
                      "tag": "label"
                     },
                     "nodeType": "DOM",
                     "props": {
                      "className": "interact ",
                      "style": {
                       "padding": "5px 10px 0px 10px"
                      }
                     },
                     "type": "node"
                    }
                   ],
                   "instanceArgs": {
                    "namespace": "html",
                    "tag": "div"
                   },
                   "nodeType": "DOM",
                   "props": {
                    "className": "interact-flex-row-left"
                   },
                   "type": "node"
                  },
                  {
                   "children": [
                    {
                     "children": [],
                     "instanceArgs": {
                      "namespace": "html",
                      "tag": "input"
                     },
                     "nodeType": "DOM",
                     "props": {
                      "attributes": {
                       "data-bind": "numericValue: value, valueUpdate: 'input', event: {change: function (){this.changes(this.changes()+1)}}",
                       "type": "number"
                      },
                      "className": "input ",
                      "placeholder": "",
                      "style": {}
                     },
                     "type": "node"
                    }
                   ],
                   "instanceArgs": {
                    "namespace": "html",
                    "tag": "div"
                   },
                   "nodeType": "DOM",
                   "props": {
                    "className": "interact-flex-row-center"
                   },
                   "type": "node"
                  },
                  {
                   "children": [
                    {
                     "children": [],
                     "instanceArgs": {
                      "namespace": "html",
                      "tag": "div"
                     },
                     "nodeType": "DOM",
                     "props": {},
                     "type": "node"
                    }
                   ],
                   "instanceArgs": {
                    "namespace": "html",
                    "tag": "div"
                   },
                   "nodeType": "DOM",
                   "props": {
                    "className": "interact-flex-row-right"
                   },
                   "type": "node"
                  }
                 ],
                 "instanceArgs": {
                  "namespace": "html",
                  "tag": "div"
                 },
                 "nodeType": "DOM",
                 "props": {
                  "className": "interact-flex-row interact-widget"
                 },
                 "type": "node"
                }
               ],
               "instanceArgs": {
                "handlers": {
                 "changes": [
                  "(function (val){return (val!=this.model[\"changes\"]()) ? (this.valueFromJulia[\"changes\"]=true, this.model[\"changes\"](val)) : undefined})"
                 ],
                 "value": [
                  "(function (val){return (val!=this.model[\"value\"]()) ? (this.valueFromJulia[\"value\"]=true, this.model[\"value\"](val)) : undefined})"
                 ]
                },
                "id": "17513257603237023159",
                "imports": {
                 "data": [
                  {
                   "name": "knockout",
                   "type": "js",
                   "url": "/assetserver/527b7d1e38fd1189920eac026f6b42444ea6f4c1-knockout.js"
                  },
                  {
                   "name": "knockout_punches",
                   "type": "js",
                   "url": "/assetserver/806fdc7f8b09930f85ffd148c249c72ecb4a5db6-knockout_punches.js"
                  },
                  {
                   "name": null,
                   "type": "js",
                   "url": "/assetserver/20bab344d017878945756fa9ae950f97b5514fa4-all.js"
                  },
                  {
                   "name": null,
                   "type": "css",
                   "url": "/assetserver/7c74a0f7ad26a631f501fce93e7e337f546c51e1-style.css"
                  },
                  {
                   "name": null,
                   "type": "css",
                   "url": "/assetserver/57003efb4bed418a119cf4406bc5d9ffd579f0b4-bulma_confined.min.css"
                  }
                 ],
                 "type": "async_block"
                },
                "mount_callbacks": [
                 "function () {\n    var handler = (function (ko, koPunches) {\n    ko.punches.enableAll();\n    ko.bindingHandlers.numericValue = {\n        init: function(element, valueAccessor, allBindings, data, context) {\n            var stringified = ko.observable(ko.unwrap(valueAccessor()));\n            stringified.subscribe(function(value) {\n                var val = parseFloat(value);\n                if (!isNaN(val)) {\n                    valueAccessor()(val);\n                }\n            });\n            valueAccessor().subscribe(function(value) {\n                var str = JSON.stringify(value);\n                if ((str == \"0\") && ([\"-0\", \"-0.\"].indexOf(stringified()) >= 0))\n                     return;\n                 if ([\"null\", \"\"].indexOf(str) >= 0)\n                     return;\n                stringified(str);\n            });\n            ko.applyBindingsToNode(\n                element,\n                {\n                    value: stringified,\n                    valueUpdate: allBindings.get('valueUpdate'),\n                },\n                context,\n            );\n        }\n    };\n    var json_data = {\"changes\":WebIO.getval({\"name\":\"changes\",\"scope\":\"17513257603237023159\",\"id\":\"ob_33\",\"type\":\"observable\"}),\"value\":WebIO.getval({\"name\":\"value\",\"scope\":\"17513257603237023159\",\"id\":\"ob_32\",\"type\":\"observable\"})};\n    var self = this;\n    function AppViewModel() {\n        for (var key in json_data) {\n            var el = json_data[key];\n            this[key] = Array.isArray(el) ? ko.observableArray(el) : ko.observable(el);\n        }\n        \n        \n        [this[\"changes\"].subscribe((function (val){!(this.valueFromJulia[\"changes\"]) ? (WebIO.setval({\"name\":\"changes\",\"scope\":\"17513257603237023159\",\"id\":\"ob_33\",\"type\":\"observable\"},val)) : undefined; return this.valueFromJulia[\"changes\"]=false}),self),this[\"value\"].subscribe((function (val){!(this.valueFromJulia[\"value\"]) ? (WebIO.setval({\"name\":\"value\",\"scope\":\"17513257603237023159\",\"id\":\"ob_32\",\"type\":\"observable\"},val)) : undefined; return this.valueFromJulia[\"value\"]=false}),self)]\n        \n    }\n    self.model = new AppViewModel();\n    self.valueFromJulia = {};\n    for (var key in json_data) {\n        self.valueFromJulia[key] = false;\n    }\n    ko.applyBindings(self.model, self.dom);\n}\n);\n    (WebIO.importBlock({\"data\":[{\"name\":\"knockout\",\"type\":\"js\",\"url\":\"/assetserver/527b7d1e38fd1189920eac026f6b42444ea6f4c1-knockout.js\"},{\"name\":\"knockout_punches\",\"type\":\"js\",\"url\":\"/assetserver/806fdc7f8b09930f85ffd148c249c72ecb4a5db6-knockout_punches.js\"}],\"type\":\"async_block\"})).then((imports) => handler.apply(this, imports));\n}\n"
                ],
                "observables": {
                 "changes": {
                  "id": "ob_33",
                  "sync": false,
                  "value": 0
                 },
                 "value": {
                  "id": "ob_32",
                  "sync": false,
                  "value": 5.75
                 }
                },
                "systemjs_options": null
               },
               "nodeType": "Scope",
               "props": {},
               "type": "node"
              }
             ],
             "instanceArgs": {
              "namespace": "html",
              "tag": "div"
             },
             "nodeType": "DOM",
             "props": {
              "className": "field interact-widget"
             },
             "type": "node"
            }
           ],
           "instanceArgs": {
            "namespace": "html",
            "tag": "div"
           },
           "nodeType": "DOM",
           "props": {
            "style": {
             "padding": "1.0em"
            }
           },
           "type": "node"
          }
         ],
         "instanceArgs": {
          "namespace": "html",
          "tag": "div"
         },
         "nodeType": "DOM",
         "props": {
          "style": {
           "display": "flex",
           "flex-direction": "row"
          }
         },
         "type": "node"
        },
        {
         "children": [
          {
           "children": [
            {
             "children": [
              {
               "children": [
                {
                 "children": [
                  {
                   "children": [
                    {
                     "children": [
                      "2*spin"
                     ],
                     "instanceArgs": {
                      "namespace": "html",
                      "tag": "label"
                     },
                     "nodeType": "DOM",
                     "props": {
                      "className": "interact ",
                      "style": {
                       "padding": "5px 10px 0px 10px"
                      }
                     },
                     "type": "node"
                    }
                   ],
                   "instanceArgs": {
                    "namespace": "html",
                    "tag": "div"
                   },
                   "nodeType": "DOM",
                   "props": {
                    "className": "interact-flex-row-left"
                   },
                   "type": "node"
                  },
                  {
                   "children": [
                    {
                     "children": [],
                     "instanceArgs": {
                      "namespace": "html",
                      "tag": "input"
                     },
                     "nodeType": "DOM",
                     "props": {
                      "attributes": {
                       "data-bind": "numericValue: value, valueUpdate: 'input', event: {change: function (){this.changes(this.changes()+1)}}",
                       "type": "number"
                      },
                      "className": "input ",
                      "placeholder": "",
                      "style": {}
                     },
                     "type": "node"
                    }
                   ],
                   "instanceArgs": {
                    "namespace": "html",
                    "tag": "div"
                   },
                   "nodeType": "DOM",
                   "props": {
                    "className": "interact-flex-row-center"
                   },
                   "type": "node"
                  },
                  {
                   "children": [
                    {
                     "children": [],
                     "instanceArgs": {
                      "namespace": "html",
                      "tag": "div"
                     },
                     "nodeType": "DOM",
                     "props": {},
                     "type": "node"
                    }
                   ],
                   "instanceArgs": {
                    "namespace": "html",
                    "tag": "div"
                   },
                   "nodeType": "DOM",
                   "props": {
                    "className": "interact-flex-row-right"
                   },
                   "type": "node"
                  }
                 ],
                 "instanceArgs": {
                  "namespace": "html",
                  "tag": "div"
                 },
                 "nodeType": "DOM",
                 "props": {
                  "className": "interact-flex-row interact-widget"
                 },
                 "type": "node"
                }
               ],
               "instanceArgs": {
                "handlers": {
                 "changes": [
                  "(function (val){return (val!=this.model[\"changes\"]()) ? (this.valueFromJulia[\"changes\"]=true, this.model[\"changes\"](val)) : undefined})"
                 ],
                 "value": [
                  "(function (val){return (val!=this.model[\"value\"]()) ? (this.valueFromJulia[\"value\"]=true, this.model[\"value\"](val)) : undefined})"
                 ]
                },
                "id": "18126985991063846926",
                "imports": {
                 "data": [
                  {
                   "name": "knockout",
                   "type": "js",
                   "url": "/assetserver/527b7d1e38fd1189920eac026f6b42444ea6f4c1-knockout.js"
                  },
                  {
                   "name": "knockout_punches",
                   "type": "js",
                   "url": "/assetserver/806fdc7f8b09930f85ffd148c249c72ecb4a5db6-knockout_punches.js"
                  },
                  {
                   "name": null,
                   "type": "js",
                   "url": "/assetserver/20bab344d017878945756fa9ae950f97b5514fa4-all.js"
                  },
                  {
                   "name": null,
                   "type": "css",
                   "url": "/assetserver/7c74a0f7ad26a631f501fce93e7e337f546c51e1-style.css"
                  },
                  {
                   "name": null,
                   "type": "css",
                   "url": "/assetserver/57003efb4bed418a119cf4406bc5d9ffd579f0b4-bulma_confined.min.css"
                  }
                 ],
                 "type": "async_block"
                },
                "mount_callbacks": [
                 "function () {\n    var handler = (function (ko, koPunches) {\n    ko.punches.enableAll();\n    ko.bindingHandlers.numericValue = {\n        init: function(element, valueAccessor, allBindings, data, context) {\n            var stringified = ko.observable(ko.unwrap(valueAccessor()));\n            stringified.subscribe(function(value) {\n                var val = parseFloat(value);\n                if (!isNaN(val)) {\n                    valueAccessor()(val);\n                }\n            });\n            valueAccessor().subscribe(function(value) {\n                var str = JSON.stringify(value);\n                if ((str == \"0\") && ([\"-0\", \"-0.\"].indexOf(stringified()) >= 0))\n                     return;\n                 if ([\"null\", \"\"].indexOf(str) >= 0)\n                     return;\n                stringified(str);\n            });\n            ko.applyBindingsToNode(\n                element,\n                {\n                    value: stringified,\n                    valueUpdate: allBindings.get('valueUpdate'),\n                },\n                context,\n            );\n        }\n    };\n    var json_data = {\"changes\":WebIO.getval({\"name\":\"changes\",\"scope\":\"18126985991063846926\",\"id\":\"ob_35\",\"type\":\"observable\"}),\"value\":WebIO.getval({\"name\":\"value\",\"scope\":\"18126985991063846926\",\"id\":\"ob_34\",\"type\":\"observable\"})};\n    var self = this;\n    function AppViewModel() {\n        for (var key in json_data) {\n            var el = json_data[key];\n            this[key] = Array.isArray(el) ? ko.observableArray(el) : ko.observable(el);\n        }\n        \n        \n        [this[\"changes\"].subscribe((function (val){!(this.valueFromJulia[\"changes\"]) ? (WebIO.setval({\"name\":\"changes\",\"scope\":\"18126985991063846926\",\"id\":\"ob_35\",\"type\":\"observable\"},val)) : undefined; return this.valueFromJulia[\"changes\"]=false}),self),this[\"value\"].subscribe((function (val){!(this.valueFromJulia[\"value\"]) ? (WebIO.setval({\"name\":\"value\",\"scope\":\"18126985991063846926\",\"id\":\"ob_34\",\"type\":\"observable\"},val)) : undefined; return this.valueFromJulia[\"value\"]=false}),self)]\n        \n    }\n    self.model = new AppViewModel();\n    self.valueFromJulia = {};\n    for (var key in json_data) {\n        self.valueFromJulia[key] = false;\n    }\n    ko.applyBindings(self.model, self.dom);\n}\n);\n    (WebIO.importBlock({\"data\":[{\"name\":\"knockout\",\"type\":\"js\",\"url\":\"/assetserver/527b7d1e38fd1189920eac026f6b42444ea6f4c1-knockout.js\"},{\"name\":\"knockout_punches\",\"type\":\"js\",\"url\":\"/assetserver/806fdc7f8b09930f85ffd148c249c72ecb4a5db6-knockout_punches.js\"}],\"type\":\"async_block\"})).then((imports) => handler.apply(this, imports));\n}\n"
                ],
                "observables": {
                 "changes": {
                  "id": "ob_35",
                  "sync": false,
                  "value": 0
                 },
                 "value": {
                  "id": "ob_34",
                  "sync": false,
                  "value": 5
                 }
                },
                "systemjs_options": null
               },
               "nodeType": "Scope",
               "props": {},
               "type": "node"
              }
             ],
             "instanceArgs": {
              "namespace": "html",
              "tag": "div"
             },
             "nodeType": "DOM",
             "props": {
              "className": "field interact-widget"
             },
             "type": "node"
            }
           ],
           "instanceArgs": {
            "namespace": "html",
            "tag": "div"
           },
           "nodeType": "DOM",
           "props": {
            "style": {
             "padding": "1.0em"
            }
           },
           "type": "node"
          },
          {
           "children": [
            {
             "children": [
              {
               "children": [
                {
                 "children": [
                  {
                   "children": [
                    {
                     "children": [
                      "mu    "
                     ],
                     "instanceArgs": {
                      "namespace": "html",
                      "tag": "label"
                     },
                     "nodeType": "DOM",
                     "props": {
                      "className": "interact ",
                      "style": {
                       "padding": "5px 10px 0px 10px"
                      }
                     },
                     "type": "node"
                    }
                   ],
                   "instanceArgs": {
                    "namespace": "html",
                    "tag": "div"
                   },
                   "nodeType": "DOM",
                   "props": {
                    "className": "interact-flex-row-left"
                   },
                   "type": "node"
                  },
                  {
                   "children": [
                    {
                     "children": [],
                     "instanceArgs": {
                      "namespace": "html",
                      "tag": "input"
                     },
                     "nodeType": "DOM",
                     "props": {
                      "attributes": {
                       "data-bind": "numericValue: value, valueUpdate: 'input', event: {change: function (){this.changes(this.changes()+1)}}",
                       "type": "number"
                      },
                      "className": "input ",
                      "placeholder": "",
                      "style": {}
                     },
                     "type": "node"
                    }
                   ],
                   "instanceArgs": {
                    "namespace": "html",
                    "tag": "div"
                   },
                   "nodeType": "DOM",
                   "props": {
                    "className": "interact-flex-row-center"
                   },
                   "type": "node"
                  },
                  {
                   "children": [
                    {
                     "children": [],
                     "instanceArgs": {
                      "namespace": "html",
                      "tag": "div"
                     },
                     "nodeType": "DOM",
                     "props": {},
                     "type": "node"
                    }
                   ],
                   "instanceArgs": {
                    "namespace": "html",
                    "tag": "div"
                   },
                   "nodeType": "DOM",
                   "props": {
                    "className": "interact-flex-row-right"
                   },
                   "type": "node"
                  }
                 ],
                 "instanceArgs": {
                  "namespace": "html",
                  "tag": "div"
                 },
                 "nodeType": "DOM",
                 "props": {
                  "className": "interact-flex-row interact-widget"
                 },
                 "type": "node"
                }
               ],
               "instanceArgs": {
                "handlers": {
                 "changes": [
                  "(function (val){return (val!=this.model[\"changes\"]()) ? (this.valueFromJulia[\"changes\"]=true, this.model[\"changes\"](val)) : undefined})"
                 ],
                 "value": [
                  "(function (val){return (val!=this.model[\"value\"]()) ? (this.valueFromJulia[\"value\"]=true, this.model[\"value\"](val)) : undefined})"
                 ]
                },
                "id": "2701180640405523296",
                "imports": {
                 "data": [
                  {
                   "name": "knockout",
                   "type": "js",
                   "url": "/assetserver/527b7d1e38fd1189920eac026f6b42444ea6f4c1-knockout.js"
                  },
                  {
                   "name": "knockout_punches",
                   "type": "js",
                   "url": "/assetserver/806fdc7f8b09930f85ffd148c249c72ecb4a5db6-knockout_punches.js"
                  },
                  {
                   "name": null,
                   "type": "js",
                   "url": "/assetserver/20bab344d017878945756fa9ae950f97b5514fa4-all.js"
                  },
                  {
                   "name": null,
                   "type": "css",
                   "url": "/assetserver/7c74a0f7ad26a631f501fce93e7e337f546c51e1-style.css"
                  },
                  {
                   "name": null,
                   "type": "css",
                   "url": "/assetserver/57003efb4bed418a119cf4406bc5d9ffd579f0b4-bulma_confined.min.css"
                  }
                 ],
                 "type": "async_block"
                },
                "mount_callbacks": [
                 "function () {\n    var handler = (function (ko, koPunches) {\n    ko.punches.enableAll();\n    ko.bindingHandlers.numericValue = {\n        init: function(element, valueAccessor, allBindings, data, context) {\n            var stringified = ko.observable(ko.unwrap(valueAccessor()));\n            stringified.subscribe(function(value) {\n                var val = parseFloat(value);\n                if (!isNaN(val)) {\n                    valueAccessor()(val);\n                }\n            });\n            valueAccessor().subscribe(function(value) {\n                var str = JSON.stringify(value);\n                if ((str == \"0\") && ([\"-0\", \"-0.\"].indexOf(stringified()) >= 0))\n                     return;\n                 if ([\"null\", \"\"].indexOf(str) >= 0)\n                     return;\n                stringified(str);\n            });\n            ko.applyBindingsToNode(\n                element,\n                {\n                    value: stringified,\n                    valueUpdate: allBindings.get('valueUpdate'),\n                },\n                context,\n            );\n        }\n    };\n    var json_data = {\"changes\":WebIO.getval({\"name\":\"changes\",\"scope\":\"2701180640405523296\",\"id\":\"ob_37\",\"type\":\"observable\"}),\"value\":WebIO.getval({\"name\":\"value\",\"scope\":\"2701180640405523296\",\"id\":\"ob_36\",\"type\":\"observable\"})};\n    var self = this;\n    function AppViewModel() {\n        for (var key in json_data) {\n            var el = json_data[key];\n            this[key] = Array.isArray(el) ? ko.observableArray(el) : ko.observable(el);\n        }\n        \n        \n        [this[\"changes\"].subscribe((function (val){!(this.valueFromJulia[\"changes\"]) ? (WebIO.setval({\"name\":\"changes\",\"scope\":\"2701180640405523296\",\"id\":\"ob_37\",\"type\":\"observable\"},val)) : undefined; return this.valueFromJulia[\"changes\"]=false}),self),this[\"value\"].subscribe((function (val){!(this.valueFromJulia[\"value\"]) ? (WebIO.setval({\"name\":\"value\",\"scope\":\"2701180640405523296\",\"id\":\"ob_36\",\"type\":\"observable\"},val)) : undefined; return this.valueFromJulia[\"value\"]=false}),self)]\n        \n    }\n    self.model = new AppViewModel();\n    self.valueFromJulia = {};\n    for (var key in json_data) {\n        self.valueFromJulia[key] = false;\n    }\n    ko.applyBindings(self.model, self.dom);\n}\n);\n    (WebIO.importBlock({\"data\":[{\"name\":\"knockout\",\"type\":\"js\",\"url\":\"/assetserver/527b7d1e38fd1189920eac026f6b42444ea6f4c1-knockout.js\"},{\"name\":\"knockout_punches\",\"type\":\"js\",\"url\":\"/assetserver/806fdc7f8b09930f85ffd148c249c72ecb4a5db6-knockout_punches.js\"}],\"type\":\"async_block\"})).then((imports) => handler.apply(this, imports));\n}\n"
                ],
                "observables": {
                 "changes": {
                  "id": "ob_37",
                  "sync": false,
                  "value": 0
                 },
                 "value": {
                  "id": "ob_36",
                  "sync": false,
                  "value": 1
                 }
                },
                "systemjs_options": null
               },
               "nodeType": "Scope",
               "props": {},
               "type": "node"
              }
             ],
             "instanceArgs": {
              "namespace": "html",
              "tag": "div"
             },
             "nodeType": "DOM",
             "props": {
              "className": "field interact-widget"
             },
             "type": "node"
            }
           ],
           "instanceArgs": {
            "namespace": "html",
            "tag": "div"
           },
           "nodeType": "DOM",
           "props": {
            "style": {
             "padding": "1.0em"
            }
           },
           "type": "node"
          },
          {
           "children": [
            {
             "children": [
              {
               "children": [
                {
                 "children": [
                  {
                   "children": [
                    {
                     "children": [
                      "Q     "
                     ],
                     "instanceArgs": {
                      "namespace": "html",
                      "tag": "label"
                     },
                     "nodeType": "DOM",
                     "props": {
                      "className": "interact ",
                      "style": {
                       "padding": "5px 10px 0px 10px"
                      }
                     },
                     "type": "node"
                    }
                   ],
                   "instanceArgs": {
                    "namespace": "html",
                    "tag": "div"
                   },
                   "nodeType": "DOM",
                   "props": {
                    "className": "interact-flex-row-left"
                   },
                   "type": "node"
                  },
                  {
                   "children": [
                    {
                     "children": [],
                     "instanceArgs": {
                      "namespace": "html",
                      "tag": "input"
                     },
                     "nodeType": "DOM",
                     "props": {
                      "attributes": {
                       "data-bind": "numericValue: value, valueUpdate: 'input', event: {change: function (){this.changes(this.changes()+1)}}",
                       "type": "number"
                      },
                      "className": "input ",
                      "placeholder": "",
                      "style": {}
                     },
                     "type": "node"
                    }
                   ],
                   "instanceArgs": {
                    "namespace": "html",
                    "tag": "div"
                   },
                   "nodeType": "DOM",
                   "props": {
                    "className": "interact-flex-row-center"
                   },
                   "type": "node"
                  },
                  {
                   "children": [
                    {
                     "children": [],
                     "instanceArgs": {
                      "namespace": "html",
                      "tag": "div"
                     },
                     "nodeType": "DOM",
                     "props": {},
                     "type": "node"
                    }
                   ],
                   "instanceArgs": {
                    "namespace": "html",
                    "tag": "div"
                   },
                   "nodeType": "DOM",
                   "props": {
                    "className": "interact-flex-row-right"
                   },
                   "type": "node"
                  }
                 ],
                 "instanceArgs": {
                  "namespace": "html",
                  "tag": "div"
                 },
                 "nodeType": "DOM",
                 "props": {
                  "className": "interact-flex-row interact-widget"
                 },
                 "type": "node"
                }
               ],
               "instanceArgs": {
                "handlers": {
                 "changes": [
                  "(function (val){return (val!=this.model[\"changes\"]()) ? (this.valueFromJulia[\"changes\"]=true, this.model[\"changes\"](val)) : undefined})"
                 ],
                 "value": [
                  "(function (val){return (val!=this.model[\"value\"]()) ? (this.valueFromJulia[\"value\"]=true, this.model[\"value\"](val)) : undefined})"
                 ]
                },
                "id": "13009118998319202955",
                "imports": {
                 "data": [
                  {
                   "name": "knockout",
                   "type": "js",
                   "url": "/assetserver/527b7d1e38fd1189920eac026f6b42444ea6f4c1-knockout.js"
                  },
                  {
                   "name": "knockout_punches",
                   "type": "js",
                   "url": "/assetserver/806fdc7f8b09930f85ffd148c249c72ecb4a5db6-knockout_punches.js"
                  },
                  {
                   "name": null,
                   "type": "js",
                   "url": "/assetserver/20bab344d017878945756fa9ae950f97b5514fa4-all.js"
                  },
                  {
                   "name": null,
                   "type": "css",
                   "url": "/assetserver/7c74a0f7ad26a631f501fce93e7e337f546c51e1-style.css"
                  },
                  {
                   "name": null,
                   "type": "css",
                   "url": "/assetserver/57003efb4bed418a119cf4406bc5d9ffd579f0b4-bulma_confined.min.css"
                  }
                 ],
                 "type": "async_block"
                },
                "mount_callbacks": [
                 "function () {\n    var handler = (function (ko, koPunches) {\n    ko.punches.enableAll();\n    ko.bindingHandlers.numericValue = {\n        init: function(element, valueAccessor, allBindings, data, context) {\n            var stringified = ko.observable(ko.unwrap(valueAccessor()));\n            stringified.subscribe(function(value) {\n                var val = parseFloat(value);\n                if (!isNaN(val)) {\n                    valueAccessor()(val);\n                }\n            });\n            valueAccessor().subscribe(function(value) {\n                var str = JSON.stringify(value);\n                if ((str == \"0\") && ([\"-0\", \"-0.\"].indexOf(stringified()) >= 0))\n                     return;\n                 if ([\"null\", \"\"].indexOf(str) >= 0)\n                     return;\n                stringified(str);\n            });\n            ko.applyBindingsToNode(\n                element,\n                {\n                    value: stringified,\n                    valueUpdate: allBindings.get('valueUpdate'),\n                },\n                context,\n            );\n        }\n    };\n    var json_data = {\"changes\":WebIO.getval({\"name\":\"changes\",\"scope\":\"13009118998319202955\",\"id\":\"ob_39\",\"type\":\"observable\"}),\"value\":WebIO.getval({\"name\":\"value\",\"scope\":\"13009118998319202955\",\"id\":\"ob_38\",\"type\":\"observable\"})};\n    var self = this;\n    function AppViewModel() {\n        for (var key in json_data) {\n            var el = json_data[key];\n            this[key] = Array.isArray(el) ? ko.observableArray(el) : ko.observable(el);\n        }\n        \n        \n        [this[\"changes\"].subscribe((function (val){!(this.valueFromJulia[\"changes\"]) ? (WebIO.setval({\"name\":\"changes\",\"scope\":\"13009118998319202955\",\"id\":\"ob_39\",\"type\":\"observable\"},val)) : undefined; return this.valueFromJulia[\"changes\"]=false}),self),this[\"value\"].subscribe((function (val){!(this.valueFromJulia[\"value\"]) ? (WebIO.setval({\"name\":\"value\",\"scope\":\"13009118998319202955\",\"id\":\"ob_38\",\"type\":\"observable\"},val)) : undefined; return this.valueFromJulia[\"value\"]=false}),self)]\n        \n    }\n    self.model = new AppViewModel();\n    self.valueFromJulia = {};\n    for (var key in json_data) {\n        self.valueFromJulia[key] = false;\n    }\n    ko.applyBindings(self.model, self.dom);\n}\n);\n    (WebIO.importBlock({\"data\":[{\"name\":\"knockout\",\"type\":\"js\",\"url\":\"/assetserver/527b7d1e38fd1189920eac026f6b42444ea6f4c1-knockout.js\"},{\"name\":\"knockout_punches\",\"type\":\"js\",\"url\":\"/assetserver/806fdc7f8b09930f85ffd148c249c72ecb4a5db6-knockout_punches.js\"}],\"type\":\"async_block\"})).then((imports) => handler.apply(this, imports));\n}\n"
                ],
                "observables": {
                 "changes": {
                  "id": "ob_39",
                  "sync": false,
                  "value": 0
                 },
                 "value": {
                  "id": "ob_38",
                  "sync": false,
                  "value": 2
                 }
                },
                "systemjs_options": null
               },
               "nodeType": "Scope",
               "props": {},
               "type": "node"
              }
             ],
             "instanceArgs": {
              "namespace": "html",
              "tag": "div"
             },
             "nodeType": "DOM",
             "props": {
              "className": "field interact-widget"
             },
             "type": "node"
            }
           ],
           "instanceArgs": {
            "namespace": "html",
            "tag": "div"
           },
           "nodeType": "DOM",
           "props": {
            "style": {
             "padding": "1.0em"
            }
           },
           "type": "node"
          },
          {
           "children": [
            {
             "children": [
              {
               "children": [
                {
                 "children": [
                  "Update"
                 ],
                 "instanceArgs": {
                  "namespace": "html",
                  "tag": "button"
                 },
                 "nodeType": "DOM",
                 "props": {
                  "attributes": {
                   "data-bind": "click: function (){this.clicks(this.clicks()+1)}, css: {'is-loading' : loading}"
                  },
                  "className": "is-medium button is-primary",
                  "style": {}
                 },
                 "type": "node"
                }
               ],
               "instanceArgs": {
                "handlers": {
                 "clicks": [
                  "(function (val){return (val!=this.model[\"clicks\"]()) ? (this.valueFromJulia[\"clicks\"]=true, this.model[\"clicks\"](val)) : undefined})"
                 ],
                 "loading": [
                  "(function (val){return (val!=this.model[\"loading\"]()) ? (this.valueFromJulia[\"loading\"]=true, this.model[\"loading\"](val)) : undefined})"
                 ]
                },
                "id": "2816743059889311461",
                "imports": {
                 "data": [
                  {
                   "name": "knockout",
                   "type": "js",
                   "url": "/assetserver/527b7d1e38fd1189920eac026f6b42444ea6f4c1-knockout.js"
                  },
                  {
                   "name": "knockout_punches",
                   "type": "js",
                   "url": "/assetserver/806fdc7f8b09930f85ffd148c249c72ecb4a5db6-knockout_punches.js"
                  },
                  {
                   "name": null,
                   "type": "js",
                   "url": "/assetserver/20bab344d017878945756fa9ae950f97b5514fa4-all.js"
                  },
                  {
                   "name": null,
                   "type": "css",
                   "url": "/assetserver/7c74a0f7ad26a631f501fce93e7e337f546c51e1-style.css"
                  },
                  {
                   "name": null,
                   "type": "css",
                   "url": "/assetserver/57003efb4bed418a119cf4406bc5d9ffd579f0b4-bulma_confined.min.css"
                  }
                 ],
                 "type": "async_block"
                },
                "mount_callbacks": [
                 "function () {\n    var handler = (function (ko, koPunches) {\n    ko.punches.enableAll();\n    ko.bindingHandlers.numericValue = {\n        init: function(element, valueAccessor, allBindings, data, context) {\n            var stringified = ko.observable(ko.unwrap(valueAccessor()));\n            stringified.subscribe(function(value) {\n                var val = parseFloat(value);\n                if (!isNaN(val)) {\n                    valueAccessor()(val);\n                }\n            });\n            valueAccessor().subscribe(function(value) {\n                var str = JSON.stringify(value);\n                if ((str == \"0\") && ([\"-0\", \"-0.\"].indexOf(stringified()) >= 0))\n                     return;\n                 if ([\"null\", \"\"].indexOf(str) >= 0)\n                     return;\n                stringified(str);\n            });\n            ko.applyBindingsToNode(\n                element,\n                {\n                    value: stringified,\n                    valueUpdate: allBindings.get('valueUpdate'),\n                },\n                context,\n            );\n        }\n    };\n    var json_data = {\"loading\":WebIO.getval({\"name\":\"loading\",\"scope\":\"2816743059889311461\",\"id\":\"ob_41\",\"type\":\"observable\"}),\"clicks\":WebIO.getval({\"name\":\"clicks\",\"scope\":\"2816743059889311461\",\"id\":\"ob_40\",\"type\":\"observable\"})};\n    var self = this;\n    function AppViewModel() {\n        for (var key in json_data) {\n            var el = json_data[key];\n            this[key] = Array.isArray(el) ? ko.observableArray(el) : ko.observable(el);\n        }\n        \n        \n        [this[\"loading\"].subscribe((function (val){!(this.valueFromJulia[\"loading\"]) ? (WebIO.setval({\"name\":\"loading\",\"scope\":\"2816743059889311461\",\"id\":\"ob_41\",\"type\":\"observable\"},val)) : undefined; return this.valueFromJulia[\"loading\"]=false}),self),this[\"clicks\"].subscribe((function (val){!(this.valueFromJulia[\"clicks\"]) ? (WebIO.setval({\"name\":\"clicks\",\"scope\":\"2816743059889311461\",\"id\":\"ob_40\",\"type\":\"observable\"},val)) : undefined; return this.valueFromJulia[\"clicks\"]=false}),self)]\n        \n    }\n    self.model = new AppViewModel();\n    self.valueFromJulia = {};\n    for (var key in json_data) {\n        self.valueFromJulia[key] = false;\n    }\n    ko.applyBindings(self.model, self.dom);\n}\n);\n    (WebIO.importBlock({\"data\":[{\"name\":\"knockout\",\"type\":\"js\",\"url\":\"/assetserver/527b7d1e38fd1189920eac026f6b42444ea6f4c1-knockout.js\"},{\"name\":\"knockout_punches\",\"type\":\"js\",\"url\":\"/assetserver/806fdc7f8b09930f85ffd148c249c72ecb4a5db6-knockout_punches.js\"}],\"type\":\"async_block\"})).then((imports) => handler.apply(this, imports));\n}\n"
                ],
                "observables": {
                 "clicks": {
                  "id": "ob_40",
                  "sync": false,
                  "value": 0
                 },
                 "loading": {
                  "id": "ob_41",
                  "sync": false,
                  "value": false
                 }
                },
                "systemjs_options": null
               },
               "nodeType": "Scope",
               "props": {},
               "type": "node"
              }
             ],
             "instanceArgs": {
              "namespace": "html",
              "tag": "div"
             },
             "nodeType": "DOM",
             "props": {
              "className": "field interact-widget"
             },
             "type": "node"
            }
           ],
           "instanceArgs": {
            "namespace": "html",
            "tag": "div"
           },
           "nodeType": "DOM",
           "props": {
            "style": {
             "padding": "1.0em"
            }
           },
           "type": "node"
          }
         ],
         "instanceArgs": {
          "namespace": "html",
          "tag": "div"
         },
         "nodeType": "DOM",
         "props": {
          "style": {
           "display": "flex",
           "flex-direction": "row"
          }
         },
         "type": "node"
        }
       ],
       "instanceArgs": {
        "namespace": "html",
        "tag": "div"
       },
       "nodeType": "DOM",
       "props": {
        "style": {
         "display": "flex",
         "flex-direction": "column"
        }
       },
       "type": "node"
      },
      "text/html": [
       "<div\n",
       "    class=\"webio-mountpoint\"\n",
       "    data-webio-mountpoint=\"6592199016442072033\"\n",
       ">\n",
       "    <script>\n",
       "    if (window.require && require.defined && require.defined(\"nbextensions/webio-jupyter-notebook\")) {\n",
       "        console.log(\"Jupyter WebIO extension detected, not mounting.\");\n",
       "    } else if (window.WebIO) {\n",
       "        WebIO.mount(\n",
       "            document.querySelector('[data-webio-mountpoint=\"6592199016442072033\"]'),\n",
       "            {\"props\":{\"style\":{\"display\":\"flex\",\"flex-direction\":\"column\"}},\"nodeType\":\"DOM\",\"type\":\"node\",\"instanceArgs\":{\"namespace\":\"html\",\"tag\":\"div\"},\"children\":[{\"props\":{\"style\":{\"display\":\"flex\",\"flex-direction\":\"row\"}},\"nodeType\":\"DOM\",\"type\":\"node\",\"instanceArgs\":{\"namespace\":\"html\",\"tag\":\"div\"},\"children\":[{\"props\":{\"style\":{\"padding\":\"0.0em\"}},\"nodeType\":\"DOM\",\"type\":\"node\",\"instanceArgs\":{\"namespace\":\"html\",\"tag\":\"div\"},\"children\":[\"Nuclear model with: \"]}]},{\"props\":{\"style\":{\"display\":\"flex\",\"flex-direction\":\"row\"}},\"nodeType\":\"DOM\",\"type\":\"node\",\"instanceArgs\":{\"namespace\":\"html\",\"tag\":\"div\"},\"children\":[{\"props\":{\"style\":{\"padding\":\"1.0em\"}},\"nodeType\":\"DOM\",\"type\":\"node\",\"instanceArgs\":{\"namespace\":\"html\",\"tag\":\"div\"},\"children\":[{\"props\":{\"className\":\"field interact-widget\"},\"nodeType\":\"DOM\",\"type\":\"node\",\"instanceArgs\":{\"namespace\":\"html\",\"tag\":\"div\"},\"children\":[{\"props\":{},\"nodeType\":\"Scope\",\"type\":\"node\",\"instanceArgs\":{\"imports\":{\"data\":[{\"name\":\"knockout\",\"type\":\"js\",\"url\":\"\\/assetserver\\/527b7d1e38fd1189920eac026f6b42444ea6f4c1-knockout.js\"},{\"name\":\"knockout_punches\",\"type\":\"js\",\"url\":\"\\/assetserver\\/806fdc7f8b09930f85ffd148c249c72ecb4a5db6-knockout_punches.js\"},{\"name\":null,\"type\":\"js\",\"url\":\"\\/assetserver\\/20bab344d017878945756fa9ae950f97b5514fa4-all.js\"},{\"name\":null,\"type\":\"css\",\"url\":\"\\/assetserver\\/7c74a0f7ad26a631f501fce93e7e337f546c51e1-style.css\"},{\"name\":null,\"type\":\"css\",\"url\":\"\\/assetserver\\/57003efb4bed418a119cf4406bc5d9ffd579f0b4-bulma_confined.min.css\"}],\"type\":\"async_block\"},\"id\":\"2004783675536961241\",\"handlers\":{\"changes\":[\"(function (val){return (val!=this.model[\\\"changes\\\"]()) ? (this.valueFromJulia[\\\"changes\\\"]=true, this.model[\\\"changes\\\"](val)) : undefined})\"],\"index\":[\"(function (val){return (val!=this.model[\\\"index\\\"]()) ? (this.valueFromJulia[\\\"index\\\"]=true, this.model[\\\"index\\\"](val)) : undefined})\"]},\"systemjs_options\":null,\"mount_callbacks\":[\"function () {\\n    var handler = (function (ko, koPunches) {\\n    ko.punches.enableAll();\\n    ko.bindingHandlers.numericValue = {\\n        init: function(element, valueAccessor, allBindings, data, context) {\\n            var stringified = ko.observable(ko.unwrap(valueAccessor()));\\n            stringified.subscribe(function(value) {\\n                var val = parseFloat(value);\\n                if (!isNaN(val)) {\\n                    valueAccessor()(val);\\n                }\\n            });\\n            valueAccessor().subscribe(function(value) {\\n                var str = JSON.stringify(value);\\n                if ((str == \\\"0\\\") && ([\\\"-0\\\", \\\"-0.\\\"].indexOf(stringified()) >= 0))\\n                     return;\\n                 if ([\\\"null\\\", \\\"\\\"].indexOf(str) >= 0)\\n                     return;\\n                stringified(str);\\n            });\\n            ko.applyBindingsToNode(\\n                element,\\n                {\\n                    value: stringified,\\n                    valueUpdate: allBindings.get('valueUpdate'),\\n                },\\n                context,\\n            );\\n        }\\n    };\\n    var json_data = {\\\"formatted_vals\\\":[\\\"1\\\",\\\"2\\\",\\\"3\\\",\\\"4\\\",\\\"5\\\",\\\"6\\\",\\\"7\\\",\\\"8\\\",\\\"9\\\",\\\"10\\\",\\\"11\\\",\\\"12\\\",\\\"13\\\",\\\"14\\\",\\\"15\\\",\\\"16\\\",\\\"17\\\",\\\"18\\\",\\\"19\\\",\\\"20\\\",\\\"21\\\",\\\"22\\\",\\\"23\\\",\\\"24\\\",\\\"25\\\",\\\"26\\\",\\\"27\\\",\\\"28\\\",\\\"29\\\",\\\"30\\\",\\\"31\\\",\\\"32\\\",\\\"33\\\",\\\"34\\\",\\\"35\\\",\\\"36\\\",\\\"37\\\",\\\"38\\\",\\\"39\\\",\\\"40\\\",\\\"41\\\",\\\"42\\\",\\\"43\\\",\\\"44\\\",\\\"45\\\",\\\"46\\\",\\\"47\\\",\\\"48\\\",\\\"49\\\",\\\"50\\\",\\\"51\\\",\\\"52\\\",\\\"53\\\",\\\"54\\\",\\\"55\\\",\\\"56\\\",\\\"57\\\",\\\"58\\\",\\\"59\\\",\\\"60\\\",\\\"61\\\",\\\"62\\\",\\\"63\\\",\\\"64\\\",\\\"65\\\",\\\"66\\\",\\\"67\\\",\\\"68\\\",\\\"69\\\",\\\"70\\\",\\\"71\\\",\\\"72\\\",\\\"73\\\",\\\"74\\\",\\\"75\\\",\\\"76\\\",\\\"77\\\",\\\"78\\\",\\\"79\\\",\\\"80\\\",\\\"81\\\",\\\"82\\\",\\\"83\\\",\\\"84\\\",\\\"85\\\",\\\"86\\\",\\\"87\\\",\\\"88\\\",\\\"89\\\",\\\"90\\\",\\\"91\\\",\\\"92\\\",\\\"93\\\",\\\"94\\\",\\\"95\\\",\\\"96\\\",\\\"97\\\",\\\"98\\\",\\\"99\\\",\\\"100\\\",\\\"101\\\",\\\"102\\\",\\\"103\\\",\\\"104\\\",\\\"105\\\",\\\"106\\\",\\\"107\\\",\\\"108\\\",\\\"109\\\",\\\"110\\\"],\\\"changes\\\":WebIO.getval({\\\"name\\\":\\\"changes\\\",\\\"scope\\\":\\\"2004783675536961241\\\",\\\"id\\\":\\\"ob_24\\\",\\\"type\\\":\\\"observable\\\"}),\\\"index\\\":WebIO.getval({\\\"name\\\":\\\"index\\\",\\\"scope\\\":\\\"2004783675536961241\\\",\\\"id\\\":\\\"ob_23\\\",\\\"type\\\":\\\"observable\\\"})};\\n    var self = this;\\n    function AppViewModel() {\\n        for (var key in json_data) {\\n            var el = json_data[key];\\n            this[key] = Array.isArray(el) ? ko.observableArray(el) : ko.observable(el);\\n        }\\n        \\n        [this[\\\"formatted_val\\\"]=ko.computed(    function(){\\n        return this.formatted_vals()[parseInt(this.index())-(1)];\\n    }\\n,this)]\\n        [this[\\\"changes\\\"].subscribe((function (val){!(this.valueFromJulia[\\\"changes\\\"]) ? (WebIO.setval({\\\"name\\\":\\\"changes\\\",\\\"scope\\\":\\\"2004783675536961241\\\",\\\"id\\\":\\\"ob_24\\\",\\\"type\\\":\\\"observable\\\"},val)) : undefined; return this.valueFromJulia[\\\"changes\\\"]=false}),self),this[\\\"index\\\"].subscribe((function (val){!(this.valueFromJulia[\\\"index\\\"]) ? (WebIO.setval({\\\"name\\\":\\\"index\\\",\\\"scope\\\":\\\"2004783675536961241\\\",\\\"id\\\":\\\"ob_23\\\",\\\"type\\\":\\\"observable\\\"},val)) : undefined; return this.valueFromJulia[\\\"index\\\"]=false}),self)]\\n        \\n    }\\n    self.model = new AppViewModel();\\n    self.valueFromJulia = {};\\n    for (var key in json_data) {\\n        self.valueFromJulia[key] = false;\\n    }\\n    ko.applyBindings(self.model, self.dom);\\n}\\n);\\n    (WebIO.importBlock({\\\"data\\\":[{\\\"name\\\":\\\"knockout\\\",\\\"type\\\":\\\"js\\\",\\\"url\\\":\\\"\\/assetserver\\/527b7d1e38fd1189920eac026f6b42444ea6f4c1-knockout.js\\\"},{\\\"name\\\":\\\"knockout_punches\\\",\\\"type\\\":\\\"js\\\",\\\"url\\\":\\\"\\/assetserver\\/806fdc7f8b09930f85ffd148c249c72ecb4a5db6-knockout_punches.js\\\"}],\\\"type\\\":\\\"async_block\\\"})).then((imports) => handler.apply(this, imports));\\n}\\n\"],\"observables\":{\"changes\":{\"sync\":false,\"id\":\"ob_24\",\"value\":0},\"index\":{\"sync\":false,\"id\":\"ob_23\",\"value\":54}}},\"children\":[{\"props\":{\"className\":\"interact-flex-row interact-widget\"},\"nodeType\":\"DOM\",\"type\":\"node\",\"instanceArgs\":{\"namespace\":\"html\",\"tag\":\"div\"},\"children\":[{\"props\":{\"className\":\"interact-flex-row-left\"},\"nodeType\":\"DOM\",\"type\":\"node\",\"instanceArgs\":{\"namespace\":\"html\",\"tag\":\"div\"},\"children\":[{\"props\":{\"className\":\"interact \",\"style\":{\"padding\":\"5px 10px 0px 10px\"}},\"nodeType\":\"DOM\",\"type\":\"node\",\"instanceArgs\":{\"namespace\":\"html\",\"tag\":\"label\"},\"children\":[\"charge\"]}]},{\"props\":{\"className\":\"interact-flex-row-center\"},\"nodeType\":\"DOM\",\"type\":\"node\",\"instanceArgs\":{\"namespace\":\"html\",\"tag\":\"div\"},\"children\":[{\"props\":{\"max\":110,\"min\":1,\"attributes\":{\"type\":\"range\",\"data-bind\":\"numericValue: index, valueUpdate: 'input', event: {change: function (){this.changes(this.changes()+1)}}\",\"orient\":\"horizontal\"},\"step\":1,\"className\":\"slider slider is-fullwidth\",\"style\":{}},\"nodeType\":\"DOM\",\"type\":\"node\",\"instanceArgs\":{\"namespace\":\"html\",\"tag\":\"input\"},\"children\":[]}]},{\"props\":{\"className\":\"interact-flex-row-right\"},\"nodeType\":\"DOM\",\"type\":\"node\",\"instanceArgs\":{\"namespace\":\"html\",\"tag\":\"div\"},\"children\":[{\"props\":{\"attributes\":{\"data-bind\":\"text: formatted_val\"}},\"nodeType\":\"DOM\",\"type\":\"node\",\"instanceArgs\":{\"namespace\":\"html\",\"tag\":\"p\"},\"children\":[]}]}]}]}]}]}]},{\"props\":{\"style\":{\"display\":\"flex\",\"flex-direction\":\"row\"}},\"nodeType\":\"DOM\",\"type\":\"node\",\"instanceArgs\":{\"namespace\":\"html\",\"tag\":\"div\"},\"children\":[{\"props\":{\"style\":{\"padding\":\"1.0em\"}},\"nodeType\":\"DOM\",\"type\":\"node\",\"instanceArgs\":{\"namespace\":\"html\",\"tag\":\"div\"},\"children\":[{\"props\":{\"className\":\"field interact-widget\"},\"nodeType\":\"DOM\",\"type\":\"node\",\"instanceArgs\":{\"namespace\":\"html\",\"tag\":\"div\"},\"children\":[{\"props\":{},\"nodeType\":\"Scope\",\"type\":\"node\",\"instanceArgs\":{\"imports\":{\"data\":[{\"name\":\"knockout\",\"type\":\"js\",\"url\":\"\\/assetserver\\/527b7d1e38fd1189920eac026f6b42444ea6f4c1-knockout.js\"},{\"name\":\"knockout_punches\",\"type\":\"js\",\"url\":\"\\/assetserver\\/806fdc7f8b09930f85ffd148c249c72ecb4a5db6-knockout_punches.js\"},{\"name\":null,\"type\":\"js\",\"url\":\"\\/assetserver\\/20bab344d017878945756fa9ae950f97b5514fa4-all.js\"},{\"name\":null,\"type\":\"css\",\"url\":\"\\/assetserver\\/7c74a0f7ad26a631f501fce93e7e337f546c51e1-style.css\"},{\"name\":null,\"type\":\"css\",\"url\":\"\\/assetserver\\/57003efb4bed418a119cf4406bc5d9ffd579f0b4-bulma_confined.min.css\"}],\"type\":\"async_block\"},\"id\":\"13333142051536004783\",\"handlers\":{\"options_js\":[\"(function (val){return (val!=this.model[\\\"options_js\\\"]()) ? (this.valueFromJulia[\\\"options_js\\\"]=true, this.model[\\\"options_js\\\"](val)) : undefined})\"],\"index\":[\"(function (val){return (val!=this.model[\\\"index\\\"]()) ? (this.valueFromJulia[\\\"index\\\"]=true, this.model[\\\"index\\\"](val)) : undefined})\"]},\"systemjs_options\":null,\"mount_callbacks\":[\"function () {\\n    var handler = (function (ko, koPunches) {\\n    ko.punches.enableAll();\\n    ko.bindingHandlers.numericValue = {\\n        init: function(element, valueAccessor, allBindings, data, context) {\\n            var stringified = ko.observable(ko.unwrap(valueAccessor()));\\n            stringified.subscribe(function(value) {\\n                var val = parseFloat(value);\\n                if (!isNaN(val)) {\\n                    valueAccessor()(val);\\n                }\\n            });\\n            valueAccessor().subscribe(function(value) {\\n                var str = JSON.stringify(value);\\n                if ((str == \\\"0\\\") && ([\\\"-0\\\", \\\"-0.\\\"].indexOf(stringified()) >= 0))\\n                     return;\\n                 if ([\\\"null\\\", \\\"\\\"].indexOf(str) >= 0)\\n                     return;\\n                stringified(str);\\n            });\\n            ko.applyBindingsToNode(\\n                element,\\n                {\\n                    value: stringified,\\n                    valueUpdate: allBindings.get('valueUpdate'),\\n                },\\n                context,\\n            );\\n        }\\n    };\\n    var json_data = {\\\"options_js\\\":WebIO.getval({\\\"name\\\":\\\"options_js\\\",\\\"scope\\\":\\\"13333142051536004783\\\",\\\"id\\\":\\\"ob_29\\\",\\\"type\\\":\\\"observable\\\"}),\\\"index\\\":WebIO.getval({\\\"name\\\":\\\"index\\\",\\\"scope\\\":\\\"13333142051536004783\\\",\\\"id\\\":\\\"ob_28\\\",\\\"type\\\":\\\"observable\\\"})};\\n    var self = this;\\n    function AppViewModel() {\\n        for (var key in json_data) {\\n            var el = json_data[key];\\n            this[key] = Array.isArray(el) ? ko.observableArray(el) : ko.observable(el);\\n        }\\n        [this[\\\"disablePlaceholder\\\"]=function(option, item) {\\n    ko.applyBindingsToNode(option, {disable: item.val == 0}, item);\\n}\\n]\\n        \\n        [this[\\\"options_js\\\"].subscribe((function (val){!(this.valueFromJulia[\\\"options_js\\\"]) ? (WebIO.setval({\\\"name\\\":\\\"options_js\\\",\\\"scope\\\":\\\"13333142051536004783\\\",\\\"id\\\":\\\"ob_29\\\",\\\"type\\\":\\\"observable\\\"},val)) : undefined; return this.valueFromJulia[\\\"options_js\\\"]=false}),self),this[\\\"index\\\"].subscribe((function (val){!(this.valueFromJulia[\\\"index\\\"]) ? (WebIO.setval({\\\"name\\\":\\\"index\\\",\\\"scope\\\":\\\"13333142051536004783\\\",\\\"id\\\":\\\"ob_28\\\",\\\"type\\\":\\\"observable\\\"},val)) : undefined; return this.valueFromJulia[\\\"index\\\"]=false}),self)]\\n        \\n    }\\n    self.model = new AppViewModel();\\n    self.valueFromJulia = {};\\n    for (var key in json_data) {\\n        self.valueFromJulia[key] = false;\\n    }\\n    ko.applyBindings(self.model, self.dom);\\n}\\n);\\n    (WebIO.importBlock({\\\"data\\\":[{\\\"name\\\":\\\"knockout\\\",\\\"type\\\":\\\"js\\\",\\\"url\\\":\\\"\\/assetserver\\/527b7d1e38fd1189920eac026f6b42444ea6f4c1-knockout.js\\\"},{\\\"name\\\":\\\"knockout_punches\\\",\\\"type\\\":\\\"js\\\",\\\"url\\\":\\\"\\/assetserver\\/806fdc7f8b09930f85ffd148c249c72ecb4a5db6-knockout_punches.js\\\"}],\\\"type\\\":\\\"async_block\\\"})).then((imports) => handler.apply(this, imports));\\n}\\n\"],\"observables\":{\"options_js\":{\"sync\":false,\"id\":\"ob_29\",\"value\":[{\"key\":\"uniform\",\"val\":1,\"id\":\"ida4BAxI5I\"},{\"key\":\"Fermi\",\"val\":2,\"id\":\"idu6fid7Yg\"},{\"key\":\"point\",\"val\":3,\"id\":\"id2Aj7ZF8V\"},{\"key\":\"uniform\",\"val\":4,\"id\":\"idD7OZB95j\"}]},\"index\":{\"sync\":true,\"id\":\"ob_28\",\"value\":4}}},\"children\":[{\"props\":{\"className\":\"select \"},\"nodeType\":\"DOM\",\"type\":\"node\",\"instanceArgs\":{\"namespace\":\"html\",\"tag\":\"div\"},\"children\":[{\"props\":{\"attributes\":{\"data-bind\":\"options : options_js, value : index, optionsText: 'key', optionsValue: 'val', valueAllowUnset: true, optionsAfterRender: disablePlaceholder\"}},\"nodeType\":\"DOM\",\"type\":\"node\",\"instanceArgs\":{\"namespace\":\"html\",\"tag\":\"select\"},\"children\":[]}]}]}]}]},{\"props\":{\"style\":{\"padding\":\"1.0em\"}},\"nodeType\":\"DOM\",\"type\":\"node\",\"instanceArgs\":{\"namespace\":\"html\",\"tag\":\"div\"},\"children\":[{\"props\":{\"className\":\"field interact-widget\"},\"nodeType\":\"DOM\",\"type\":\"node\",\"instanceArgs\":{\"namespace\":\"html\",\"tag\":\"div\"},\"children\":[{\"props\":{},\"nodeType\":\"Scope\",\"type\":\"node\",\"instanceArgs\":{\"imports\":{\"data\":[{\"name\":\"knockout\",\"type\":\"js\",\"url\":\"\\/assetserver\\/527b7d1e38fd1189920eac026f6b42444ea6f4c1-knockout.js\"},{\"name\":\"knockout_punches\",\"type\":\"js\",\"url\":\"\\/assetserver\\/806fdc7f8b09930f85ffd148c249c72ecb4a5db6-knockout_punches.js\"},{\"name\":null,\"type\":\"js\",\"url\":\"\\/assetserver\\/20bab344d017878945756fa9ae950f97b5514fa4-all.js\"},{\"name\":null,\"type\":\"css\",\"url\":\"\\/assetserver\\/7c74a0f7ad26a631f501fce93e7e337f546c51e1-style.css\"},{\"name\":null,\"type\":\"css\",\"url\":\"\\/assetserver\\/57003efb4bed418a119cf4406bc5d9ffd579f0b4-bulma_confined.min.css\"}],\"type\":\"async_block\"},\"id\":\"10306955698781944223\",\"handlers\":{\"changes\":[\"(function (val){return (val!=this.model[\\\"changes\\\"]()) ? (this.valueFromJulia[\\\"changes\\\"]=true, this.model[\\\"changes\\\"](val)) : undefined})\"],\"value\":[\"(function (val){return (val!=this.model[\\\"value\\\"]()) ? (this.valueFromJulia[\\\"value\\\"]=true, this.model[\\\"value\\\"](val)) : undefined})\"]},\"systemjs_options\":null,\"mount_callbacks\":[\"function () {\\n    var handler = (function (ko, koPunches) {\\n    ko.punches.enableAll();\\n    ko.bindingHandlers.numericValue = {\\n        init: function(element, valueAccessor, allBindings, data, context) {\\n            var stringified = ko.observable(ko.unwrap(valueAccessor()));\\n            stringified.subscribe(function(value) {\\n                var val = parseFloat(value);\\n                if (!isNaN(val)) {\\n                    valueAccessor()(val);\\n                }\\n            });\\n            valueAccessor().subscribe(function(value) {\\n                var str = JSON.stringify(value);\\n                if ((str == \\\"0\\\") && ([\\\"-0\\\", \\\"-0.\\\"].indexOf(stringified()) >= 0))\\n                     return;\\n                 if ([\\\"null\\\", \\\"\\\"].indexOf(str) >= 0)\\n                     return;\\n                stringified(str);\\n            });\\n            ko.applyBindingsToNode(\\n                element,\\n                {\\n                    value: stringified,\\n                    valueUpdate: allBindings.get('valueUpdate'),\\n                },\\n                context,\\n            );\\n        }\\n    };\\n    var json_data = {\\\"changes\\\":WebIO.getval({\\\"name\\\":\\\"changes\\\",\\\"scope\\\":\\\"10306955698781944223\\\",\\\"id\\\":\\\"ob_31\\\",\\\"type\\\":\\\"observable\\\"}),\\\"value\\\":WebIO.getval({\\\"name\\\":\\\"value\\\",\\\"scope\\\":\\\"10306955698781944223\\\",\\\"id\\\":\\\"ob_30\\\",\\\"type\\\":\\\"observable\\\"})};\\n    var self = this;\\n    function AppViewModel() {\\n        for (var key in json_data) {\\n            var el = json_data[key];\\n            this[key] = Array.isArray(el) ? ko.observableArray(el) : ko.observable(el);\\n        }\\n        \\n        \\n        [this[\\\"changes\\\"].subscribe((function (val){!(this.valueFromJulia[\\\"changes\\\"]) ? (WebIO.setval({\\\"name\\\":\\\"changes\\\",\\\"scope\\\":\\\"10306955698781944223\\\",\\\"id\\\":\\\"ob_31\\\",\\\"type\\\":\\\"observable\\\"},val)) : undefined; return this.valueFromJulia[\\\"changes\\\"]=false}),self),this[\\\"value\\\"].subscribe((function (val){!(this.valueFromJulia[\\\"value\\\"]) ? (WebIO.setval({\\\"name\\\":\\\"value\\\",\\\"scope\\\":\\\"10306955698781944223\\\",\\\"id\\\":\\\"ob_30\\\",\\\"type\\\":\\\"observable\\\"},val)) : undefined; return this.valueFromJulia[\\\"value\\\"]=false}),self)]\\n        \\n    }\\n    self.model = new AppViewModel();\\n    self.valueFromJulia = {};\\n    for (var key in json_data) {\\n        self.valueFromJulia[key] = false;\\n    }\\n    ko.applyBindings(self.model, self.dom);\\n}\\n);\\n    (WebIO.importBlock({\\\"data\\\":[{\\\"name\\\":\\\"knockout\\\",\\\"type\\\":\\\"js\\\",\\\"url\\\":\\\"\\/assetserver\\/527b7d1e38fd1189920eac026f6b42444ea6f4c1-knockout.js\\\"},{\\\"name\\\":\\\"knockout_punches\\\",\\\"type\\\":\\\"js\\\",\\\"url\\\":\\\"\\/assetserver\\/806fdc7f8b09930f85ffd148c249c72ecb4a5db6-knockout_punches.js\\\"}],\\\"type\\\":\\\"async_block\\\"})).then((imports) => handler.apply(this, imports));\\n}\\n\"],\"observables\":{\"changes\":{\"sync\":false,\"id\":\"ob_31\",\"value\":0},\"value\":{\"sync\":false,\"id\":\"ob_30\",\"value\":132.0}}},\"children\":[{\"props\":{\"className\":\"interact-flex-row interact-widget\"},\"nodeType\":\"DOM\",\"type\":\"node\",\"instanceArgs\":{\"namespace\":\"html\",\"tag\":\"div\"},\"children\":[{\"props\":{\"className\":\"interact-flex-row-left\"},\"nodeType\":\"DOM\",\"type\":\"node\",\"instanceArgs\":{\"namespace\":\"html\",\"tag\":\"div\"},\"children\":[{\"props\":{\"className\":\"interact \",\"style\":{\"padding\":\"5px 10px 0px 10px\"}},\"nodeType\":\"DOM\",\"type\":\"node\",\"instanceArgs\":{\"namespace\":\"html\",\"tag\":\"label\"},\"children\":[\"mass  \"]}]},{\"props\":{\"className\":\"interact-flex-row-center\"},\"nodeType\":\"DOM\",\"type\":\"node\",\"instanceArgs\":{\"namespace\":\"html\",\"tag\":\"div\"},\"children\":[{\"props\":{\"attributes\":{\"type\":\"number\",\"data-bind\":\"numericValue: value, valueUpdate: 'input', event: {change: function (){this.changes(this.changes()+1)}}\"},\"placeholder\":\"\",\"className\":\"input \",\"style\":{}},\"nodeType\":\"DOM\",\"type\":\"node\",\"instanceArgs\":{\"namespace\":\"html\",\"tag\":\"input\"},\"children\":[]}]},{\"props\":{\"className\":\"interact-flex-row-right\"},\"nodeType\":\"DOM\",\"type\":\"node\",\"instanceArgs\":{\"namespace\":\"html\",\"tag\":\"div\"},\"children\":[{\"props\":{},\"nodeType\":\"DOM\",\"type\":\"node\",\"instanceArgs\":{\"namespace\":\"html\",\"tag\":\"div\"},\"children\":[]}]}]}]}]}]},{\"props\":{\"style\":{\"padding\":\"1.0em\"}},\"nodeType\":\"DOM\",\"type\":\"node\",\"instanceArgs\":{\"namespace\":\"html\",\"tag\":\"div\"},\"children\":[{\"props\":{\"className\":\"field interact-widget\"},\"nodeType\":\"DOM\",\"type\":\"node\",\"instanceArgs\":{\"namespace\":\"html\",\"tag\":\"div\"},\"children\":[{\"props\":{},\"nodeType\":\"Scope\",\"type\":\"node\",\"instanceArgs\":{\"imports\":{\"data\":[{\"name\":\"knockout\",\"type\":\"js\",\"url\":\"\\/assetserver\\/527b7d1e38fd1189920eac026f6b42444ea6f4c1-knockout.js\"},{\"name\":\"knockout_punches\",\"type\":\"js\",\"url\":\"\\/assetserver\\/806fdc7f8b09930f85ffd148c249c72ecb4a5db6-knockout_punches.js\"},{\"name\":null,\"type\":\"js\",\"url\":\"\\/assetserver\\/20bab344d017878945756fa9ae950f97b5514fa4-all.js\"},{\"name\":null,\"type\":\"css\",\"url\":\"\\/assetserver\\/7c74a0f7ad26a631f501fce93e7e337f546c51e1-style.css\"},{\"name\":null,\"type\":\"css\",\"url\":\"\\/assetserver\\/57003efb4bed418a119cf4406bc5d9ffd579f0b4-bulma_confined.min.css\"}],\"type\":\"async_block\"},\"id\":\"17513257603237023159\",\"handlers\":{\"changes\":[\"(function (val){return (val!=this.model[\\\"changes\\\"]()) ? (this.valueFromJulia[\\\"changes\\\"]=true, this.model[\\\"changes\\\"](val)) : undefined})\"],\"value\":[\"(function (val){return (val!=this.model[\\\"value\\\"]()) ? (this.valueFromJulia[\\\"value\\\"]=true, this.model[\\\"value\\\"](val)) : undefined})\"]},\"systemjs_options\":null,\"mount_callbacks\":[\"function () {\\n    var handler = (function (ko, koPunches) {\\n    ko.punches.enableAll();\\n    ko.bindingHandlers.numericValue = {\\n        init: function(element, valueAccessor, allBindings, data, context) {\\n            var stringified = ko.observable(ko.unwrap(valueAccessor()));\\n            stringified.subscribe(function(value) {\\n                var val = parseFloat(value);\\n                if (!isNaN(val)) {\\n                    valueAccessor()(val);\\n                }\\n            });\\n            valueAccessor().subscribe(function(value) {\\n                var str = JSON.stringify(value);\\n                if ((str == \\\"0\\\") && ([\\\"-0\\\", \\\"-0.\\\"].indexOf(stringified()) >= 0))\\n                     return;\\n                 if ([\\\"null\\\", \\\"\\\"].indexOf(str) >= 0)\\n                     return;\\n                stringified(str);\\n            });\\n            ko.applyBindingsToNode(\\n                element,\\n                {\\n                    value: stringified,\\n                    valueUpdate: allBindings.get('valueUpdate'),\\n                },\\n                context,\\n            );\\n        }\\n    };\\n    var json_data = {\\\"changes\\\":WebIO.getval({\\\"name\\\":\\\"changes\\\",\\\"scope\\\":\\\"17513257603237023159\\\",\\\"id\\\":\\\"ob_33\\\",\\\"type\\\":\\\"observable\\\"}),\\\"value\\\":WebIO.getval({\\\"name\\\":\\\"value\\\",\\\"scope\\\":\\\"17513257603237023159\\\",\\\"id\\\":\\\"ob_32\\\",\\\"type\\\":\\\"observable\\\"})};\\n    var self = this;\\n    function AppViewModel() {\\n        for (var key in json_data) {\\n            var el = json_data[key];\\n            this[key] = Array.isArray(el) ? ko.observableArray(el) : ko.observable(el);\\n        }\\n        \\n        \\n        [this[\\\"changes\\\"].subscribe((function (val){!(this.valueFromJulia[\\\"changes\\\"]) ? (WebIO.setval({\\\"name\\\":\\\"changes\\\",\\\"scope\\\":\\\"17513257603237023159\\\",\\\"id\\\":\\\"ob_33\\\",\\\"type\\\":\\\"observable\\\"},val)) : undefined; return this.valueFromJulia[\\\"changes\\\"]=false}),self),this[\\\"value\\\"].subscribe((function (val){!(this.valueFromJulia[\\\"value\\\"]) ? (WebIO.setval({\\\"name\\\":\\\"value\\\",\\\"scope\\\":\\\"17513257603237023159\\\",\\\"id\\\":\\\"ob_32\\\",\\\"type\\\":\\\"observable\\\"},val)) : undefined; return this.valueFromJulia[\\\"value\\\"]=false}),self)]\\n        \\n    }\\n    self.model = new AppViewModel();\\n    self.valueFromJulia = {};\\n    for (var key in json_data) {\\n        self.valueFromJulia[key] = false;\\n    }\\n    ko.applyBindings(self.model, self.dom);\\n}\\n);\\n    (WebIO.importBlock({\\\"data\\\":[{\\\"name\\\":\\\"knockout\\\",\\\"type\\\":\\\"js\\\",\\\"url\\\":\\\"\\/assetserver\\/527b7d1e38fd1189920eac026f6b42444ea6f4c1-knockout.js\\\"},{\\\"name\\\":\\\"knockout_punches\\\",\\\"type\\\":\\\"js\\\",\\\"url\\\":\\\"\\/assetserver\\/806fdc7f8b09930f85ffd148c249c72ecb4a5db6-knockout_punches.js\\\"}],\\\"type\\\":\\\"async_block\\\"})).then((imports) => handler.apply(this, imports));\\n}\\n\"],\"observables\":{\"changes\":{\"sync\":false,\"id\":\"ob_33\",\"value\":0},\"value\":{\"sync\":false,\"id\":\"ob_32\",\"value\":5.75}}},\"children\":[{\"props\":{\"className\":\"interact-flex-row interact-widget\"},\"nodeType\":\"DOM\",\"type\":\"node\",\"instanceArgs\":{\"namespace\":\"html\",\"tag\":\"div\"},\"children\":[{\"props\":{\"className\":\"interact-flex-row-left\"},\"nodeType\":\"DOM\",\"type\":\"node\",\"instanceArgs\":{\"namespace\":\"html\",\"tag\":\"div\"},\"children\":[{\"props\":{\"className\":\"interact \",\"style\":{\"padding\":\"5px 10px 0px 10px\"}},\"nodeType\":\"DOM\",\"type\":\"node\",\"instanceArgs\":{\"namespace\":\"html\",\"tag\":\"label\"},\"children\":[\"radius\"]}]},{\"props\":{\"className\":\"interact-flex-row-center\"},\"nodeType\":\"DOM\",\"type\":\"node\",\"instanceArgs\":{\"namespace\":\"html\",\"tag\":\"div\"},\"children\":[{\"props\":{\"attributes\":{\"type\":\"number\",\"data-bind\":\"numericValue: value, valueUpdate: 'input', event: {change: function (){this.changes(this.changes()+1)}}\"},\"placeholder\":\"\",\"className\":\"input \",\"style\":{}},\"nodeType\":\"DOM\",\"type\":\"node\",\"instanceArgs\":{\"namespace\":\"html\",\"tag\":\"input\"},\"children\":[]}]},{\"props\":{\"className\":\"interact-flex-row-right\"},\"nodeType\":\"DOM\",\"type\":\"node\",\"instanceArgs\":{\"namespace\":\"html\",\"tag\":\"div\"},\"children\":[{\"props\":{},\"nodeType\":\"DOM\",\"type\":\"node\",\"instanceArgs\":{\"namespace\":\"html\",\"tag\":\"div\"},\"children\":[]}]}]}]}]}]}]},{\"props\":{\"style\":{\"display\":\"flex\",\"flex-direction\":\"row\"}},\"nodeType\":\"DOM\",\"type\":\"node\",\"instanceArgs\":{\"namespace\":\"html\",\"tag\":\"div\"},\"children\":[{\"props\":{\"style\":{\"padding\":\"1.0em\"}},\"nodeType\":\"DOM\",\"type\":\"node\",\"instanceArgs\":{\"namespace\":\"html\",\"tag\":\"div\"},\"children\":[{\"props\":{\"className\":\"field interact-widget\"},\"nodeType\":\"DOM\",\"type\":\"node\",\"instanceArgs\":{\"namespace\":\"html\",\"tag\":\"div\"},\"children\":[{\"props\":{},\"nodeType\":\"Scope\",\"type\":\"node\",\"instanceArgs\":{\"imports\":{\"data\":[{\"name\":\"knockout\",\"type\":\"js\",\"url\":\"\\/assetserver\\/527b7d1e38fd1189920eac026f6b42444ea6f4c1-knockout.js\"},{\"name\":\"knockout_punches\",\"type\":\"js\",\"url\":\"\\/assetserver\\/806fdc7f8b09930f85ffd148c249c72ecb4a5db6-knockout_punches.js\"},{\"name\":null,\"type\":\"js\",\"url\":\"\\/assetserver\\/20bab344d017878945756fa9ae950f97b5514fa4-all.js\"},{\"name\":null,\"type\":\"css\",\"url\":\"\\/assetserver\\/7c74a0f7ad26a631f501fce93e7e337f546c51e1-style.css\"},{\"name\":null,\"type\":\"css\",\"url\":\"\\/assetserver\\/57003efb4bed418a119cf4406bc5d9ffd579f0b4-bulma_confined.min.css\"}],\"type\":\"async_block\"},\"id\":\"18126985991063846926\",\"handlers\":{\"changes\":[\"(function (val){return (val!=this.model[\\\"changes\\\"]()) ? (this.valueFromJulia[\\\"changes\\\"]=true, this.model[\\\"changes\\\"](val)) : undefined})\"],\"value\":[\"(function (val){return (val!=this.model[\\\"value\\\"]()) ? (this.valueFromJulia[\\\"value\\\"]=true, this.model[\\\"value\\\"](val)) : undefined})\"]},\"systemjs_options\":null,\"mount_callbacks\":[\"function () {\\n    var handler = (function (ko, koPunches) {\\n    ko.punches.enableAll();\\n    ko.bindingHandlers.numericValue = {\\n        init: function(element, valueAccessor, allBindings, data, context) {\\n            var stringified = ko.observable(ko.unwrap(valueAccessor()));\\n            stringified.subscribe(function(value) {\\n                var val = parseFloat(value);\\n                if (!isNaN(val)) {\\n                    valueAccessor()(val);\\n                }\\n            });\\n            valueAccessor().subscribe(function(value) {\\n                var str = JSON.stringify(value);\\n                if ((str == \\\"0\\\") && ([\\\"-0\\\", \\\"-0.\\\"].indexOf(stringified()) >= 0))\\n                     return;\\n                 if ([\\\"null\\\", \\\"\\\"].indexOf(str) >= 0)\\n                     return;\\n                stringified(str);\\n            });\\n            ko.applyBindingsToNode(\\n                element,\\n                {\\n                    value: stringified,\\n                    valueUpdate: allBindings.get('valueUpdate'),\\n                },\\n                context,\\n            );\\n        }\\n    };\\n    var json_data = {\\\"changes\\\":WebIO.getval({\\\"name\\\":\\\"changes\\\",\\\"scope\\\":\\\"18126985991063846926\\\",\\\"id\\\":\\\"ob_35\\\",\\\"type\\\":\\\"observable\\\"}),\\\"value\\\":WebIO.getval({\\\"name\\\":\\\"value\\\",\\\"scope\\\":\\\"18126985991063846926\\\",\\\"id\\\":\\\"ob_34\\\",\\\"type\\\":\\\"observable\\\"})};\\n    var self = this;\\n    function AppViewModel() {\\n        for (var key in json_data) {\\n            var el = json_data[key];\\n            this[key] = Array.isArray(el) ? ko.observableArray(el) : ko.observable(el);\\n        }\\n        \\n        \\n        [this[\\\"changes\\\"].subscribe((function (val){!(this.valueFromJulia[\\\"changes\\\"]) ? (WebIO.setval({\\\"name\\\":\\\"changes\\\",\\\"scope\\\":\\\"18126985991063846926\\\",\\\"id\\\":\\\"ob_35\\\",\\\"type\\\":\\\"observable\\\"},val)) : undefined; return this.valueFromJulia[\\\"changes\\\"]=false}),self),this[\\\"value\\\"].subscribe((function (val){!(this.valueFromJulia[\\\"value\\\"]) ? (WebIO.setval({\\\"name\\\":\\\"value\\\",\\\"scope\\\":\\\"18126985991063846926\\\",\\\"id\\\":\\\"ob_34\\\",\\\"type\\\":\\\"observable\\\"},val)) : undefined; return this.valueFromJulia[\\\"value\\\"]=false}),self)]\\n        \\n    }\\n    self.model = new AppViewModel();\\n    self.valueFromJulia = {};\\n    for (var key in json_data) {\\n        self.valueFromJulia[key] = false;\\n    }\\n    ko.applyBindings(self.model, self.dom);\\n}\\n);\\n    (WebIO.importBlock({\\\"data\\\":[{\\\"name\\\":\\\"knockout\\\",\\\"type\\\":\\\"js\\\",\\\"url\\\":\\\"\\/assetserver\\/527b7d1e38fd1189920eac026f6b42444ea6f4c1-knockout.js\\\"},{\\\"name\\\":\\\"knockout_punches\\\",\\\"type\\\":\\\"js\\\",\\\"url\\\":\\\"\\/assetserver\\/806fdc7f8b09930f85ffd148c249c72ecb4a5db6-knockout_punches.js\\\"}],\\\"type\\\":\\\"async_block\\\"})).then((imports) => handler.apply(this, imports));\\n}\\n\"],\"observables\":{\"changes\":{\"sync\":false,\"id\":\"ob_35\",\"value\":0},\"value\":{\"sync\":false,\"id\":\"ob_34\",\"value\":5}}},\"children\":[{\"props\":{\"className\":\"interact-flex-row interact-widget\"},\"nodeType\":\"DOM\",\"type\":\"node\",\"instanceArgs\":{\"namespace\":\"html\",\"tag\":\"div\"},\"children\":[{\"props\":{\"className\":\"interact-flex-row-left\"},\"nodeType\":\"DOM\",\"type\":\"node\",\"instanceArgs\":{\"namespace\":\"html\",\"tag\":\"div\"},\"children\":[{\"props\":{\"className\":\"interact \",\"style\":{\"padding\":\"5px 10px 0px 10px\"}},\"nodeType\":\"DOM\",\"type\":\"node\",\"instanceArgs\":{\"namespace\":\"html\",\"tag\":\"label\"},\"children\":[\"2*spin\"]}]},{\"props\":{\"className\":\"interact-flex-row-center\"},\"nodeType\":\"DOM\",\"type\":\"node\",\"instanceArgs\":{\"namespace\":\"html\",\"tag\":\"div\"},\"children\":[{\"props\":{\"attributes\":{\"type\":\"number\",\"data-bind\":\"numericValue: value, valueUpdate: 'input', event: {change: function (){this.changes(this.changes()+1)}}\"},\"placeholder\":\"\",\"className\":\"input \",\"style\":{}},\"nodeType\":\"DOM\",\"type\":\"node\",\"instanceArgs\":{\"namespace\":\"html\",\"tag\":\"input\"},\"children\":[]}]},{\"props\":{\"className\":\"interact-flex-row-right\"},\"nodeType\":\"DOM\",\"type\":\"node\",\"instanceArgs\":{\"namespace\":\"html\",\"tag\":\"div\"},\"children\":[{\"props\":{},\"nodeType\":\"DOM\",\"type\":\"node\",\"instanceArgs\":{\"namespace\":\"html\",\"tag\":\"div\"},\"children\":[]}]}]}]}]}]},{\"props\":{\"style\":{\"padding\":\"1.0em\"}},\"nodeType\":\"DOM\",\"type\":\"node\",\"instanceArgs\":{\"namespace\":\"html\",\"tag\":\"div\"},\"children\":[{\"props\":{\"className\":\"field interact-widget\"},\"nodeType\":\"DOM\",\"type\":\"node\",\"instanceArgs\":{\"namespace\":\"html\",\"tag\":\"div\"},\"children\":[{\"props\":{},\"nodeType\":\"Scope\",\"type\":\"node\",\"instanceArgs\":{\"imports\":{\"data\":[{\"name\":\"knockout\",\"type\":\"js\",\"url\":\"\\/assetserver\\/527b7d1e38fd1189920eac026f6b42444ea6f4c1-knockout.js\"},{\"name\":\"knockout_punches\",\"type\":\"js\",\"url\":\"\\/assetserver\\/806fdc7f8b09930f85ffd148c249c72ecb4a5db6-knockout_punches.js\"},{\"name\":null,\"type\":\"js\",\"url\":\"\\/assetserver\\/20bab344d017878945756fa9ae950f97b5514fa4-all.js\"},{\"name\":null,\"type\":\"css\",\"url\":\"\\/assetserver\\/7c74a0f7ad26a631f501fce93e7e337f546c51e1-style.css\"},{\"name\":null,\"type\":\"css\",\"url\":\"\\/assetserver\\/57003efb4bed418a119cf4406bc5d9ffd579f0b4-bulma_confined.min.css\"}],\"type\":\"async_block\"},\"id\":\"2701180640405523296\",\"handlers\":{\"changes\":[\"(function (val){return (val!=this.model[\\\"changes\\\"]()) ? (this.valueFromJulia[\\\"changes\\\"]=true, this.model[\\\"changes\\\"](val)) : undefined})\"],\"value\":[\"(function (val){return (val!=this.model[\\\"value\\\"]()) ? (this.valueFromJulia[\\\"value\\\"]=true, this.model[\\\"value\\\"](val)) : undefined})\"]},\"systemjs_options\":null,\"mount_callbacks\":[\"function () {\\n    var handler = (function (ko, koPunches) {\\n    ko.punches.enableAll();\\n    ko.bindingHandlers.numericValue = {\\n        init: function(element, valueAccessor, allBindings, data, context) {\\n            var stringified = ko.observable(ko.unwrap(valueAccessor()));\\n            stringified.subscribe(function(value) {\\n                var val = parseFloat(value);\\n                if (!isNaN(val)) {\\n                    valueAccessor()(val);\\n                }\\n            });\\n            valueAccessor().subscribe(function(value) {\\n                var str = JSON.stringify(value);\\n                if ((str == \\\"0\\\") && ([\\\"-0\\\", \\\"-0.\\\"].indexOf(stringified()) >= 0))\\n                     return;\\n                 if ([\\\"null\\\", \\\"\\\"].indexOf(str) >= 0)\\n                     return;\\n                stringified(str);\\n            });\\n            ko.applyBindingsToNode(\\n                element,\\n                {\\n                    value: stringified,\\n                    valueUpdate: allBindings.get('valueUpdate'),\\n                },\\n                context,\\n            );\\n        }\\n    };\\n    var json_data = {\\\"changes\\\":WebIO.getval({\\\"name\\\":\\\"changes\\\",\\\"scope\\\":\\\"2701180640405523296\\\",\\\"id\\\":\\\"ob_37\\\",\\\"type\\\":\\\"observable\\\"}),\\\"value\\\":WebIO.getval({\\\"name\\\":\\\"value\\\",\\\"scope\\\":\\\"2701180640405523296\\\",\\\"id\\\":\\\"ob_36\\\",\\\"type\\\":\\\"observable\\\"})};\\n    var self = this;\\n    function AppViewModel() {\\n        for (var key in json_data) {\\n            var el = json_data[key];\\n            this[key] = Array.isArray(el) ? ko.observableArray(el) : ko.observable(el);\\n        }\\n        \\n        \\n        [this[\\\"changes\\\"].subscribe((function (val){!(this.valueFromJulia[\\\"changes\\\"]) ? (WebIO.setval({\\\"name\\\":\\\"changes\\\",\\\"scope\\\":\\\"2701180640405523296\\\",\\\"id\\\":\\\"ob_37\\\",\\\"type\\\":\\\"observable\\\"},val)) : undefined; return this.valueFromJulia[\\\"changes\\\"]=false}),self),this[\\\"value\\\"].subscribe((function (val){!(this.valueFromJulia[\\\"value\\\"]) ? (WebIO.setval({\\\"name\\\":\\\"value\\\",\\\"scope\\\":\\\"2701180640405523296\\\",\\\"id\\\":\\\"ob_36\\\",\\\"type\\\":\\\"observable\\\"},val)) : undefined; return this.valueFromJulia[\\\"value\\\"]=false}),self)]\\n        \\n    }\\n    self.model = new AppViewModel();\\n    self.valueFromJulia = {};\\n    for (var key in json_data) {\\n        self.valueFromJulia[key] = false;\\n    }\\n    ko.applyBindings(self.model, self.dom);\\n}\\n);\\n    (WebIO.importBlock({\\\"data\\\":[{\\\"name\\\":\\\"knockout\\\",\\\"type\\\":\\\"js\\\",\\\"url\\\":\\\"\\/assetserver\\/527b7d1e38fd1189920eac026f6b42444ea6f4c1-knockout.js\\\"},{\\\"name\\\":\\\"knockout_punches\\\",\\\"type\\\":\\\"js\\\",\\\"url\\\":\\\"\\/assetserver\\/806fdc7f8b09930f85ffd148c249c72ecb4a5db6-knockout_punches.js\\\"}],\\\"type\\\":\\\"async_block\\\"})).then((imports) => handler.apply(this, imports));\\n}\\n\"],\"observables\":{\"changes\":{\"sync\":false,\"id\":\"ob_37\",\"value\":0},\"value\":{\"sync\":false,\"id\":\"ob_36\",\"value\":1.0}}},\"children\":[{\"props\":{\"className\":\"interact-flex-row interact-widget\"},\"nodeType\":\"DOM\",\"type\":\"node\",\"instanceArgs\":{\"namespace\":\"html\",\"tag\":\"div\"},\"children\":[{\"props\":{\"className\":\"interact-flex-row-left\"},\"nodeType\":\"DOM\",\"type\":\"node\",\"instanceArgs\":{\"namespace\":\"html\",\"tag\":\"div\"},\"children\":[{\"props\":{\"className\":\"interact \",\"style\":{\"padding\":\"5px 10px 0px 10px\"}},\"nodeType\":\"DOM\",\"type\":\"node\",\"instanceArgs\":{\"namespace\":\"html\",\"tag\":\"label\"},\"children\":[\"mu    \"]}]},{\"props\":{\"className\":\"interact-flex-row-center\"},\"nodeType\":\"DOM\",\"type\":\"node\",\"instanceArgs\":{\"namespace\":\"html\",\"tag\":\"div\"},\"children\":[{\"props\":{\"attributes\":{\"type\":\"number\",\"data-bind\":\"numericValue: value, valueUpdate: 'input', event: {change: function (){this.changes(this.changes()+1)}}\"},\"placeholder\":\"\",\"className\":\"input \",\"style\":{}},\"nodeType\":\"DOM\",\"type\":\"node\",\"instanceArgs\":{\"namespace\":\"html\",\"tag\":\"input\"},\"children\":[]}]},{\"props\":{\"className\":\"interact-flex-row-right\"},\"nodeType\":\"DOM\",\"type\":\"node\",\"instanceArgs\":{\"namespace\":\"html\",\"tag\":\"div\"},\"children\":[{\"props\":{},\"nodeType\":\"DOM\",\"type\":\"node\",\"instanceArgs\":{\"namespace\":\"html\",\"tag\":\"div\"},\"children\":[]}]}]}]}]}]},{\"props\":{\"style\":{\"padding\":\"1.0em\"}},\"nodeType\":\"DOM\",\"type\":\"node\",\"instanceArgs\":{\"namespace\":\"html\",\"tag\":\"div\"},\"children\":[{\"props\":{\"className\":\"field interact-widget\"},\"nodeType\":\"DOM\",\"type\":\"node\",\"instanceArgs\":{\"namespace\":\"html\",\"tag\":\"div\"},\"children\":[{\"props\":{},\"nodeType\":\"Scope\",\"type\":\"node\",\"instanceArgs\":{\"imports\":{\"data\":[{\"name\":\"knockout\",\"type\":\"js\",\"url\":\"\\/assetserver\\/527b7d1e38fd1189920eac026f6b42444ea6f4c1-knockout.js\"},{\"name\":\"knockout_punches\",\"type\":\"js\",\"url\":\"\\/assetserver\\/806fdc7f8b09930f85ffd148c249c72ecb4a5db6-knockout_punches.js\"},{\"name\":null,\"type\":\"js\",\"url\":\"\\/assetserver\\/20bab344d017878945756fa9ae950f97b5514fa4-all.js\"},{\"name\":null,\"type\":\"css\",\"url\":\"\\/assetserver\\/7c74a0f7ad26a631f501fce93e7e337f546c51e1-style.css\"},{\"name\":null,\"type\":\"css\",\"url\":\"\\/assetserver\\/57003efb4bed418a119cf4406bc5d9ffd579f0b4-bulma_confined.min.css\"}],\"type\":\"async_block\"},\"id\":\"13009118998319202955\",\"handlers\":{\"changes\":[\"(function (val){return (val!=this.model[\\\"changes\\\"]()) ? (this.valueFromJulia[\\\"changes\\\"]=true, this.model[\\\"changes\\\"](val)) : undefined})\"],\"value\":[\"(function (val){return (val!=this.model[\\\"value\\\"]()) ? (this.valueFromJulia[\\\"value\\\"]=true, this.model[\\\"value\\\"](val)) : undefined})\"]},\"systemjs_options\":null,\"mount_callbacks\":[\"function () {\\n    var handler = (function (ko, koPunches) {\\n    ko.punches.enableAll();\\n    ko.bindingHandlers.numericValue = {\\n        init: function(element, valueAccessor, allBindings, data, context) {\\n            var stringified = ko.observable(ko.unwrap(valueAccessor()));\\n            stringified.subscribe(function(value) {\\n                var val = parseFloat(value);\\n                if (!isNaN(val)) {\\n                    valueAccessor()(val);\\n                }\\n            });\\n            valueAccessor().subscribe(function(value) {\\n                var str = JSON.stringify(value);\\n                if ((str == \\\"0\\\") && ([\\\"-0\\\", \\\"-0.\\\"].indexOf(stringified()) >= 0))\\n                     return;\\n                 if ([\\\"null\\\", \\\"\\\"].indexOf(str) >= 0)\\n                     return;\\n                stringified(str);\\n            });\\n            ko.applyBindingsToNode(\\n                element,\\n                {\\n                    value: stringified,\\n                    valueUpdate: allBindings.get('valueUpdate'),\\n                },\\n                context,\\n            );\\n        }\\n    };\\n    var json_data = {\\\"changes\\\":WebIO.getval({\\\"name\\\":\\\"changes\\\",\\\"scope\\\":\\\"13009118998319202955\\\",\\\"id\\\":\\\"ob_39\\\",\\\"type\\\":\\\"observable\\\"}),\\\"value\\\":WebIO.getval({\\\"name\\\":\\\"value\\\",\\\"scope\\\":\\\"13009118998319202955\\\",\\\"id\\\":\\\"ob_38\\\",\\\"type\\\":\\\"observable\\\"})};\\n    var self = this;\\n    function AppViewModel() {\\n        for (var key in json_data) {\\n            var el = json_data[key];\\n            this[key] = Array.isArray(el) ? ko.observableArray(el) : ko.observable(el);\\n        }\\n        \\n        \\n        [this[\\\"changes\\\"].subscribe((function (val){!(this.valueFromJulia[\\\"changes\\\"]) ? (WebIO.setval({\\\"name\\\":\\\"changes\\\",\\\"scope\\\":\\\"13009118998319202955\\\",\\\"id\\\":\\\"ob_39\\\",\\\"type\\\":\\\"observable\\\"},val)) : undefined; return this.valueFromJulia[\\\"changes\\\"]=false}),self),this[\\\"value\\\"].subscribe((function (val){!(this.valueFromJulia[\\\"value\\\"]) ? (WebIO.setval({\\\"name\\\":\\\"value\\\",\\\"scope\\\":\\\"13009118998319202955\\\",\\\"id\\\":\\\"ob_38\\\",\\\"type\\\":\\\"observable\\\"},val)) : undefined; return this.valueFromJulia[\\\"value\\\"]=false}),self)]\\n        \\n    }\\n    self.model = new AppViewModel();\\n    self.valueFromJulia = {};\\n    for (var key in json_data) {\\n        self.valueFromJulia[key] = false;\\n    }\\n    ko.applyBindings(self.model, self.dom);\\n}\\n);\\n    (WebIO.importBlock({\\\"data\\\":[{\\\"name\\\":\\\"knockout\\\",\\\"type\\\":\\\"js\\\",\\\"url\\\":\\\"\\/assetserver\\/527b7d1e38fd1189920eac026f6b42444ea6f4c1-knockout.js\\\"},{\\\"name\\\":\\\"knockout_punches\\\",\\\"type\\\":\\\"js\\\",\\\"url\\\":\\\"\\/assetserver\\/806fdc7f8b09930f85ffd148c249c72ecb4a5db6-knockout_punches.js\\\"}],\\\"type\\\":\\\"async_block\\\"})).then((imports) => handler.apply(this, imports));\\n}\\n\"],\"observables\":{\"changes\":{\"sync\":false,\"id\":\"ob_39\",\"value\":0},\"value\":{\"sync\":false,\"id\":\"ob_38\",\"value\":2.0}}},\"children\":[{\"props\":{\"className\":\"interact-flex-row interact-widget\"},\"nodeType\":\"DOM\",\"type\":\"node\",\"instanceArgs\":{\"namespace\":\"html\",\"tag\":\"div\"},\"children\":[{\"props\":{\"className\":\"interact-flex-row-left\"},\"nodeType\":\"DOM\",\"type\":\"node\",\"instanceArgs\":{\"namespace\":\"html\",\"tag\":\"div\"},\"children\":[{\"props\":{\"className\":\"interact \",\"style\":{\"padding\":\"5px 10px 0px 10px\"}},\"nodeType\":\"DOM\",\"type\":\"node\",\"instanceArgs\":{\"namespace\":\"html\",\"tag\":\"label\"},\"children\":[\"Q     \"]}]},{\"props\":{\"className\":\"interact-flex-row-center\"},\"nodeType\":\"DOM\",\"type\":\"node\",\"instanceArgs\":{\"namespace\":\"html\",\"tag\":\"div\"},\"children\":[{\"props\":{\"attributes\":{\"type\":\"number\",\"data-bind\":\"numericValue: value, valueUpdate: 'input', event: {change: function (){this.changes(this.changes()+1)}}\"},\"placeholder\":\"\",\"className\":\"input \",\"style\":{}},\"nodeType\":\"DOM\",\"type\":\"node\",\"instanceArgs\":{\"namespace\":\"html\",\"tag\":\"input\"},\"children\":[]}]},{\"props\":{\"className\":\"interact-flex-row-right\"},\"nodeType\":\"DOM\",\"type\":\"node\",\"instanceArgs\":{\"namespace\":\"html\",\"tag\":\"div\"},\"children\":[{\"props\":{},\"nodeType\":\"DOM\",\"type\":\"node\",\"instanceArgs\":{\"namespace\":\"html\",\"tag\":\"div\"},\"children\":[]}]}]}]}]}]},{\"props\":{\"style\":{\"padding\":\"1.0em\"}},\"nodeType\":\"DOM\",\"type\":\"node\",\"instanceArgs\":{\"namespace\":\"html\",\"tag\":\"div\"},\"children\":[{\"props\":{\"className\":\"field interact-widget\"},\"nodeType\":\"DOM\",\"type\":\"node\",\"instanceArgs\":{\"namespace\":\"html\",\"tag\":\"div\"},\"children\":[{\"props\":{},\"nodeType\":\"Scope\",\"type\":\"node\",\"instanceArgs\":{\"imports\":{\"data\":[{\"name\":\"knockout\",\"type\":\"js\",\"url\":\"\\/assetserver\\/527b7d1e38fd1189920eac026f6b42444ea6f4c1-knockout.js\"},{\"name\":\"knockout_punches\",\"type\":\"js\",\"url\":\"\\/assetserver\\/806fdc7f8b09930f85ffd148c249c72ecb4a5db6-knockout_punches.js\"},{\"name\":null,\"type\":\"js\",\"url\":\"\\/assetserver\\/20bab344d017878945756fa9ae950f97b5514fa4-all.js\"},{\"name\":null,\"type\":\"css\",\"url\":\"\\/assetserver\\/7c74a0f7ad26a631f501fce93e7e337f546c51e1-style.css\"},{\"name\":null,\"type\":\"css\",\"url\":\"\\/assetserver\\/57003efb4bed418a119cf4406bc5d9ffd579f0b4-bulma_confined.min.css\"}],\"type\":\"async_block\"},\"id\":\"2816743059889311461\",\"handlers\":{\"loading\":[\"(function (val){return (val!=this.model[\\\"loading\\\"]()) ? (this.valueFromJulia[\\\"loading\\\"]=true, this.model[\\\"loading\\\"](val)) : undefined})\"],\"clicks\":[\"(function (val){return (val!=this.model[\\\"clicks\\\"]()) ? (this.valueFromJulia[\\\"clicks\\\"]=true, this.model[\\\"clicks\\\"](val)) : undefined})\"]},\"systemjs_options\":null,\"mount_callbacks\":[\"function () {\\n    var handler = (function (ko, koPunches) {\\n    ko.punches.enableAll();\\n    ko.bindingHandlers.numericValue = {\\n        init: function(element, valueAccessor, allBindings, data, context) {\\n            var stringified = ko.observable(ko.unwrap(valueAccessor()));\\n            stringified.subscribe(function(value) {\\n                var val = parseFloat(value);\\n                if (!isNaN(val)) {\\n                    valueAccessor()(val);\\n                }\\n            });\\n            valueAccessor().subscribe(function(value) {\\n                var str = JSON.stringify(value);\\n                if ((str == \\\"0\\\") && ([\\\"-0\\\", \\\"-0.\\\"].indexOf(stringified()) >= 0))\\n                     return;\\n                 if ([\\\"null\\\", \\\"\\\"].indexOf(str) >= 0)\\n                     return;\\n                stringified(str);\\n            });\\n            ko.applyBindingsToNode(\\n                element,\\n                {\\n                    value: stringified,\\n                    valueUpdate: allBindings.get('valueUpdate'),\\n                },\\n                context,\\n            );\\n        }\\n    };\\n    var json_data = {\\\"loading\\\":WebIO.getval({\\\"name\\\":\\\"loading\\\",\\\"scope\\\":\\\"2816743059889311461\\\",\\\"id\\\":\\\"ob_41\\\",\\\"type\\\":\\\"observable\\\"}),\\\"clicks\\\":WebIO.getval({\\\"name\\\":\\\"clicks\\\",\\\"scope\\\":\\\"2816743059889311461\\\",\\\"id\\\":\\\"ob_40\\\",\\\"type\\\":\\\"observable\\\"})};\\n    var self = this;\\n    function AppViewModel() {\\n        for (var key in json_data) {\\n            var el = json_data[key];\\n            this[key] = Array.isArray(el) ? ko.observableArray(el) : ko.observable(el);\\n        }\\n        \\n        \\n        [this[\\\"loading\\\"].subscribe((function (val){!(this.valueFromJulia[\\\"loading\\\"]) ? (WebIO.setval({\\\"name\\\":\\\"loading\\\",\\\"scope\\\":\\\"2816743059889311461\\\",\\\"id\\\":\\\"ob_41\\\",\\\"type\\\":\\\"observable\\\"},val)) : undefined; return this.valueFromJulia[\\\"loading\\\"]=false}),self),this[\\\"clicks\\\"].subscribe((function (val){!(this.valueFromJulia[\\\"clicks\\\"]) ? (WebIO.setval({\\\"name\\\":\\\"clicks\\\",\\\"scope\\\":\\\"2816743059889311461\\\",\\\"id\\\":\\\"ob_40\\\",\\\"type\\\":\\\"observable\\\"},val)) : undefined; return this.valueFromJulia[\\\"clicks\\\"]=false}),self)]\\n        \\n    }\\n    self.model = new AppViewModel();\\n    self.valueFromJulia = {};\\n    for (var key in json_data) {\\n        self.valueFromJulia[key] = false;\\n    }\\n    ko.applyBindings(self.model, self.dom);\\n}\\n);\\n    (WebIO.importBlock({\\\"data\\\":[{\\\"name\\\":\\\"knockout\\\",\\\"type\\\":\\\"js\\\",\\\"url\\\":\\\"\\/assetserver\\/527b7d1e38fd1189920eac026f6b42444ea6f4c1-knockout.js\\\"},{\\\"name\\\":\\\"knockout_punches\\\",\\\"type\\\":\\\"js\\\",\\\"url\\\":\\\"\\/assetserver\\/806fdc7f8b09930f85ffd148c249c72ecb4a5db6-knockout_punches.js\\\"}],\\\"type\\\":\\\"async_block\\\"})).then((imports) => handler.apply(this, imports));\\n}\\n\"],\"observables\":{\"loading\":{\"sync\":false,\"id\":\"ob_41\",\"value\":false},\"clicks\":{\"sync\":false,\"id\":\"ob_40\",\"value\":0}}},\"children\":[{\"props\":{\"attributes\":{\"data-bind\":\"click: function (){this.clicks(this.clicks()+1)}, css: {'is-loading' : loading}\"},\"className\":\"is-medium button is-primary\",\"style\":{}},\"nodeType\":\"DOM\",\"type\":\"node\",\"instanceArgs\":{\"namespace\":\"html\",\"tag\":\"button\"},\"children\":[\"Update\"]}]}]}]}]}]},\n",
       "            window,\n",
       "        );\n",
       "    } else {\n",
       "        document\n",
       "            .querySelector('[data-webio-mountpoint=\"6592199016442072033\"]')\n",
       "            .innerHTML = (\n",
       "                '<strong>WebIO not detected. Please read ' +\n",
       "                '<a href=\"https://juliagizmos.github.io/WebIO.jl/latest/troubleshooting/not-detected/\">the troubleshooting guide</a> ' +\n",
       "                'for more information on how to resolve this issue.' +\n",
       "                '</strong>'\n",
       "            );\n",
       "    }\n",
       "    </script>\n",
       "</div>\n"
      ],
      "text/plain": [
       "(div { style=Dict(\"display\"=>\"flex\",\"flex-direction\"=>\"column\") }\n",
       "  (div { style=Dict(\"display\"=>\"flex\",\"flex-direction\"=>\"row\") }\n",
       "    (div { style=Dict(\"padding\"=>0.0em) }\n",
       "      \"Nuclear model with: \"))\n",
       "  (div { style=Dict(\"display\"=>\"flex\",\"flex-direction\"=>\"row\") }\n",
       "    (div { style=Dict(\"padding\"=>1.0em) }\n",
       "      Node{WebIO.DOM}(WebIO.DOM(:html, :div), Any[Scope(Node{DOM}(DOM(:html, :div), Any[Node{DOM}(DOM(:html, :div), Any[Node{DOM}(DOM(:html, :label), Any[\"charge\"], Dict{Symbol,Any}(:className=>\"interact \",:style=>Dict{Any,Any}(:padding=>\"5px 10px 0px 10px\")))], Dict{Symbol,Any}(:className=>\"interact-flex-row-left\")), Node{DOM}(DOM(:html, :div), Any[Node{DOM}(DOM(:html, :input), Any[], Dict{Symbol,Any}(:max=>110,:min=>1,:attributes=>Dict{Any,Any}(:type=>\"range\",Symbol(\"data-bind\")=>\"numericValue: index, valueUpdate: 'input', event: {change: function (){this.changes(this.changes()+1)}}\",\"orient\"=>\"horizontal\"),:step=>1,:className=>\"slider slider is-fullwidth\",:style=>Dict{Any,Any}()))], Dict{Symbol,Any}(:className=>\"interact-flex-row-center\")), Node{DOM}(DOM(:html, :div), Any[Node{DOM}(DOM(:html, :p), Any[], Dict{Symbol,Any}(:attributes=>Dict(\"data-bind\"=>\"text: formatted_val\")))], Dict{Symbol,Any}(:className=>\"interact-flex-row-right\"))], Dict{Symbol,Any}(:className=>\"interact-flex-row interact-widget\")), Dict{String,Tuple{Observables.AbstractObservable,Union{Nothing, Bool}}}(\"changes\"=>(Observable{Int64} with 1 listeners. Value:\n",
       "0, nothing),\"index\"=>(Observable{Int64} with 1 listeners. Value:\n",
       "54, nothing)), Set(String[]), nothing, Asset[Asset(\"js\", \"knockout\", \"/home/fritzsch/.julia/packages/Knockout/1sDlc/src/../assets/knockout.js\"), Asset(\"js\", \"knockout_punches\", \"/home/fritzsch/.julia/packages/Knockout/1sDlc/src/../assets/knockout_punches.js\"), Asset(\"js\", nothing, \"/home/fritzsch/.julia/packages/InteractBase/9mFwe/src/../assets/all.js\"), Asset(\"css\", nothing, \"/home/fritzsch/.julia/packages/InteractBase/9mFwe/src/../assets/style.css\"), Asset(\"css\", nothing, \"/home/fritzsch/.julia/packages/Interact/SbgIk/src/../assets/bulma_confined.min.css\")], Dict{Any,Any}(\"changes\"=>Any[JSString(\"(function (val){return (val!=this.model[\\\"changes\\\"]()) ? (this.valueFromJulia[\\\"changes\\\"]=true, this.model[\\\"changes\\\"](val)) : undefined})\")],\"index\"=>Any[JSString(\"(function (val){return (val!=this.model[\\\"index\\\"]()) ? (this.valueFromJulia[\\\"index\\\"]=true, this.model[\\\"index\\\"](val)) : undefined})\")]), ConnectionPool(Channel{Any}(sz_max:32,sz_curr:0), Set(AbstractConnection[]), Condition(Any[])), WebIO.JSString[JSString(\"function () {\\n    var handler = (function (ko, koPunches) {\\n    ko.punches.enableAll();\\n    ko.bindingHandlers.numericValue = {\\n        init: function(element, valueAccessor, allBindings, data, context) {\\n            var stringified = ko.observable(ko.unwrap(valueAccessor()));\\n            stringified.subscribe(function(value) {\\n                var val = parseFloat(value);\\n                if (!isNaN(val)) {\\n                    valueAccessor()(val);\\n                }\\n            });\\n            valueAccessor().subscribe(function(value) {\\n                var str = JSON.stringify(value);\\n                if ((str == \\\"0\\\") && ([\\\"-0\\\", \\\"-0.\\\"].indexOf(stringified()) >= 0))\\n                     return;\\n                 if ([\\\"null\\\", \\\"\\\"].indexOf(str) >= 0)\\n                     return;\\n                stringified(str);\\n            });\\n            ko.applyBindingsToNode(\\n                element,\\n                {\\n                    value: stringified,\\n                    valueUpdate: allBindings.get('valueUpdate'),\\n                },\\n                context,\\n            );\\n        }\\n    };\\n    var json_data = {\\\"formatted_vals\\\":[\\\"1\\\",\\\"2\\\",\\\"3\\\",\\\"4\\\",\\\"5\\\",\\\"6\\\",\\\"7\\\",\\\"8\\\",\\\"9\\\",\\\"10\\\",\\\"11\\\",\\\"12\\\",\\\"13\\\",\\\"14\\\",\\\"15\\\",\\\"16\\\",\\\"17\\\",\\\"18\\\",\\\"19\\\",\\\"20\\\",\\\"21\\\",\\\"22\\\",\\\"23\\\",\\\"24\\\",\\\"25\\\",\\\"26\\\",\\\"27\\\",\\\"28\\\",\\\"29\\\",\\\"30\\\",\\\"31\\\",\\\"32\\\",\\\"33\\\",\\\"34\\\",\\\"35\\\",\\\"36\\\",\\\"37\\\",\\\"38\\\",\\\"39\\\",\\\"40\\\",\\\"41\\\",\\\"42\\\",\\\"43\\\",\\\"44\\\",\\\"45\\\",\\\"46\\\",\\\"47\\\",\\\"48\\\",\\\"49\\\",\\\"50\\\",\\\"51\\\",\\\"52\\\",\\\"53\\\",\\\"54\\\",\\\"55\\\",\\\"56\\\",\\\"57\\\",\\\"58\\\",\\\"59\\\",\\\"60\\\",\\\"61\\\",\\\"62\\\",\\\"63\\\",\\\"64\\\",\\\"65\\\",\\\"66\\\",\\\"67\\\",\\\"68\\\",\\\"69\\\",\\\"70\\\",\\\"71\\\",\\\"72\\\",\\\"73\\\",\\\"74\\\",\\\"75\\\",\\\"76\\\",\\\"77\\\",\\\"78\\\",\\\"79\\\",\\\"80\\\",\\\"81\\\",\\\"82\\\",\\\"83\\\",\\\"84\\\",\\\"85\\\",\\\"86\\\",\\\"87\\\",\\\"88\\\",\\\"89\\\",\\\"90\\\",\\\"91\\\",\\\"92\\\",\\\"93\\\",\\\"94\\\",\\\"95\\\",\\\"96\\\",\\\"97\\\",\\\"98\\\",\\\"99\\\",\\\"100\\\",\\\"101\\\",\\\"102\\\",\\\"103\\\",\\\"104\\\",\\\"105\\\",\\\"106\\\",\\\"107\\\",\\\"108\\\",\\\"109\\\",\\\"110\\\"],\\\"changes\\\":WebIO.getval({\\\"name\\\":\\\"changes\\\",\\\"scope\\\":\\\"2004783675536961241\\\",\\\"id\\\":\\\"ob_24\\\",\\\"type\\\":\\\"observable\\\"}),\\\"index\\\":WebIO.getval({\\\"name\\\":\\\"index\\\",\\\"scope\\\":\\\"2004783675536961241\\\",\\\"id\\\":\\\"ob_23\\\",\\\"type\\\":\\\"observable\\\"})};\\n    var self = this;\\n    function AppViewModel() {\\n        for (var key in json_data) {\\n            var el = json_data[key];\\n            this[key] = Array.isArray(el) ? ko.observableArray(el) : ko.observable(el);\\n        }\\n        \\n        [this[\\\"formatted_val\\\"]=ko.computed(    function(){\\n        return this.formatted_vals()[parseInt(this.index())-(1)];\\n    }\\n,this)]\\n        [this[\\\"changes\\\"].subscribe((function (val){!(this.valueFromJulia[\\\"changes\\\"]) ? (WebIO.setval({\\\"name\\\":\\\"changes\\\",\\\"scope\\\":\\\"2004783675536961241\\\",\\\"id\\\":\\\"ob_24\\\",\\\"type\\\":\\\"observable\\\"},val)) : undefined; return this.valueFromJulia[\\\"changes\\\"]=false}),self),this[\\\"index\\\"].subscribe((function (val){!(this.valueFromJulia[\\\"index\\\"]) ? (WebIO.setval({\\\"name\\\":\\\"index\\\",\\\"scope\\\":\\\"2004783675536961241\\\",\\\"id\\\":\\\"ob_23\\\",\\\"type\\\":\\\"observable\\\"},val)) : undefined; return this.valueFromJulia[\\\"index\\\"]=false}),self)]\\n        \\n    }\\n    self.model = new AppViewModel();\\n    self.valueFromJulia = {};\\n    for (var key in json_data) {\\n        self.valueFromJulia[key] = false;\\n    }\\n    ko.applyBindings(self.model, self.dom);\\n}\\n);\\n    (WebIO.importBlock({\\\"data\\\":[{\\\"name\\\":\\\"knockout\\\",\\\"type\\\":\\\"js\\\",\\\"url\\\":\\\"/assetserver/527b7d1e38fd1189920eac026f6b42444ea6f4c1-knockout.js\\\"},{\\\"name\\\":\\\"knockout_punches\\\",\\\"type\\\":\\\"js\\\",\\\"url\\\":\\\"/assetserver/806fdc7f8b09930f85ffd148c249c72ecb4a5db6-knockout_punches.js\\\"}],\\\"type\\\":\\\"async_block\\\"})).then((imports) => handler.apply(this, imports));\\n}\\n\")])], Dict{Symbol,Any}(:className=>\"field interact-widget\"))))\n",
       "  (div { style=Dict(\"display\"=>\"flex\",\"flex-direction\"=>\"row\") }\n",
       "    (div { style=Dict(\"padding\"=>1.0em) }\n",
       "      Node{WebIO.DOM}(WebIO.DOM(:html, :div), Any[Scope(Node{DOM}(DOM(:html, :div), Any[Node{DOM}(DOM(:html, :select), Any[], Dict{Symbol,Any}(:attributes=>Dict{Union{String, Symbol},Any}(Symbol(\"data-bind\")=>\"options : options_js, value : index, optionsText: 'key', optionsValue: 'val', valueAllowUnset: true, optionsAfterRender: disablePlaceholder\")))], Dict{Symbol,Any}(:className=>\"select \")), Dict{String,Tuple{Observables.AbstractObservable,Union{Nothing, Bool}}}(\"options_js\"=>(Observable{Any} with 1 listeners. Value:\n",
       "OrderedDict[OrderedDict{String,Any}(\"key\"=>\"uniform\",\"val\"=>1,\"id\"=>\"ida4BAxI5I\"), OrderedDict{String,Any}(\"key\"=>\"Fermi\",\"val\"=>2,\"id\"=>\"idu6fid7Yg\"), OrderedDict{String,Any}(\"key\"=>\"point\",\"val\"=>3,\"id\"=>\"id2Aj7ZF8V\"), OrderedDict{String,Any}(\"key\"=>\"uniform\",\"val\"=>4,\"id\"=>\"idD7OZB95j\")], nothing),\"index\"=>(Observable{Any} with 2 listeners. Value:\n",
       "4, nothing)), Set(String[]), nothing, Asset[Asset(\"js\", \"knockout\", \"/home/fritzsch/.julia/packages/Knockout/1sDlc/src/../assets/knockout.js\"), Asset(\"js\", \"knockout_punches\", \"/home/fritzsch/.julia/packages/Knockout/1sDlc/src/../assets/knockout_punches.js\"), Asset(\"js\", nothing, \"/home/fritzsch/.julia/packages/InteractBase/9mFwe/src/../assets/all.js\"), Asset(\"css\", nothing, \"/home/fritzsch/.julia/packages/InteractBase/9mFwe/src/../assets/style.css\"), Asset(\"css\", nothing, \"/home/fritzsch/.julia/packages/Interact/SbgIk/src/../assets/bulma_confined.min.css\")], Dict{Any,Any}(\"options_js\"=>Any[JSString(\"(function (val){return (val!=this.model[\\\"options_js\\\"]()) ? (this.valueFromJulia[\\\"options_js\\\"]=true, this.model[\\\"options_js\\\"](val)) : undefined})\")],\"index\"=>Any[JSString(\"(function (val){return (val!=this.model[\\\"index\\\"]()) ? (this.valueFromJulia[\\\"index\\\"]=true, this.model[\\\"index\\\"](val)) : undefined})\")]), ConnectionPool(Channel{Any}(sz_max:32,sz_curr:0), Set(AbstractConnection[]), Condition(Any[])), WebIO.JSString[JSString(\"function () {\\n    var handler = (function (ko, koPunches) {\\n    ko.punches.enableAll();\\n    ko.bindingHandlers.numericValue = {\\n        init: function(element, valueAccessor, allBindings, data, context) {\\n            var stringified = ko.observable(ko.unwrap(valueAccessor()));\\n            stringified.subscribe(function(value) {\\n                var val = parseFloat(value);\\n                if (!isNaN(val)) {\\n                    valueAccessor()(val);\\n                }\\n            });\\n            valueAccessor().subscribe(function(value) {\\n                var str = JSON.stringify(value);\\n                if ((str == \\\"0\\\") && ([\\\"-0\\\", \\\"-0.\\\"].indexOf(stringified()) >= 0))\\n                     return;\\n                 if ([\\\"null\\\", \\\"\\\"].indexOf(str) >= 0)\\n                     return;\\n                stringified(str);\\n            });\\n            ko.applyBindingsToNode(\\n                element,\\n                {\\n                    value: stringified,\\n                    valueUpdate: allBindings.get('valueUpdate'),\\n                },\\n                context,\\n            );\\n        }\\n    };\\n    var json_data = {\\\"options_js\\\":WebIO.getval({\\\"name\\\":\\\"options_js\\\",\\\"scope\\\":\\\"13333142051536004783\\\",\\\"id\\\":\\\"ob_29\\\",\\\"type\\\":\\\"observable\\\"}),\\\"index\\\":WebIO.getval({\\\"name\\\":\\\"index\\\",\\\"scope\\\":\\\"13333142051536004783\\\",\\\"id\\\":\\\"ob_28\\\",\\\"type\\\":\\\"observable\\\"})};\\n    var self = this;\\n    function AppViewModel() {\\n        for (var key in json_data) {\\n            var el = json_data[key];\\n            this[key] = Array.isArray(el) ? ko.observableArray(el) : ko.observable(el);\\n        }\\n        [this[\\\"disablePlaceholder\\\"]=function(option, item) {\\n    ko.applyBindingsToNode(option, {disable: item.val == 0}, item);\\n}\\n]\\n        \\n        [this[\\\"options_js\\\"].subscribe((function (val){!(this.valueFromJulia[\\\"options_js\\\"]) ? (WebIO.setval({\\\"name\\\":\\\"options_js\\\",\\\"scope\\\":\\\"13333142051536004783\\\",\\\"id\\\":\\\"ob_29\\\",\\\"type\\\":\\\"observable\\\"},val)) : undefined; return this.valueFromJulia[\\\"options_js\\\"]=false}),self),this[\\\"index\\\"].subscribe((function (val){!(this.valueFromJulia[\\\"index\\\"]) ? (WebIO.setval({\\\"name\\\":\\\"index\\\",\\\"scope\\\":\\\"13333142051536004783\\\",\\\"id\\\":\\\"ob_28\\\",\\\"type\\\":\\\"observable\\\"},val)) : undefined; return this.valueFromJulia[\\\"index\\\"]=false}),self)]\\n        \\n    }\\n    self.model = new AppViewModel();\\n    self.valueFromJulia = {};\\n    for (var key in json_data) {\\n        self.valueFromJulia[key] = false;\\n    }\\n    ko.applyBindings(self.model, self.dom);\\n}\\n);\\n    (WebIO.importBlock({\\\"data\\\":[{\\\"name\\\":\\\"knockout\\\",\\\"type\\\":\\\"js\\\",\\\"url\\\":\\\"/assetserver/527b7d1e38fd1189920eac026f6b42444ea6f4c1-knockout.js\\\"},{\\\"name\\\":\\\"knockout_punches\\\",\\\"type\\\":\\\"js\\\",\\\"url\\\":\\\"/assetserver/806fdc7f8b09930f85ffd148c249c72ecb4a5db6-knockout_punches.js\\\"}],\\\"type\\\":\\\"async_block\\\"})).then((imports) => handler.apply(this, imports));\\n}\\n\")])], Dict{Symbol,Any}(:className=>\"field interact-widget\")))\n",
       "    (div { style=Dict(\"padding\"=>1.0em) }\n",
       "      Node{WebIO.DOM}(WebIO.DOM(:html, :div), Any[Scope(Node{DOM}(DOM(:html, :div), Any[Node{DOM}(DOM(:html, :div), Any[Node{DOM}(DOM(:html, :label), Any[\"mass  \"], Dict{Symbol,Any}(:className=>\"interact \",:style=>Dict{Any,Any}(:padding=>\"5px 10px 0px 10px\")))], Dict{Symbol,Any}(:className=>\"interact-flex-row-left\")), Node{DOM}(DOM(:html, :div), Any[Node{DOM}(DOM(:html, :input), Any[], Dict{Symbol,Any}(:attributes=>Dict{Any,Any}(:type=>\"number\",Symbol(\"data-bind\")=>\"numericValue: value, valueUpdate: 'input', event: {change: function (){this.changes(this.changes()+1)}}\"),:placeholder=>\"\",:className=>\"input \",:style=>Dict{Any,Any}()))], Dict{Symbol,Any}(:className=>\"interact-flex-row-center\")), Node{DOM}(DOM(:html, :div), Any[Node{DOM}(DOM(:html, :div), Any[], Dict{Symbol,Any}())], Dict{Symbol,Any}(:className=>\"interact-flex-row-right\"))], Dict{Symbol,Any}(:className=>\"interact-flex-row interact-widget\")), Dict{String,Tuple{Observables.AbstractObservable,Union{Nothing, Bool}}}(\"changes\"=>(Observable{Int64} with 1 listeners. Value:\n",
       "0, nothing),\"value\"=>(Observable{Union{Nothing, Float64}} with 1 listeners. Value:\n",
       "132.0, nothing)), Set(String[]), nothing, Asset[Asset(\"js\", \"knockout\", \"/home/fritzsch/.julia/packages/Knockout/1sDlc/src/../assets/knockout.js\"), Asset(\"js\", \"knockout_punches\", \"/home/fritzsch/.julia/packages/Knockout/1sDlc/src/../assets/knockout_punches.js\"), Asset(\"js\", nothing, \"/home/fritzsch/.julia/packages/InteractBase/9mFwe/src/../assets/all.js\"), Asset(\"css\", nothing, \"/home/fritzsch/.julia/packages/InteractBase/9mFwe/src/../assets/style.css\"), Asset(\"css\", nothing, \"/home/fritzsch/.julia/packages/Interact/SbgIk/src/../assets/bulma_confined.min.css\")], Dict{Any,Any}(\"changes\"=>Any[JSString(\"(function (val){return (val!=this.model[\\\"changes\\\"]()) ? (this.valueFromJulia[\\\"changes\\\"]=true, this.model[\\\"changes\\\"](val)) : undefined})\")],\"value\"=>Any[JSString(\"(function (val){return (val!=this.model[\\\"value\\\"]()) ? (this.valueFromJulia[\\\"value\\\"]=true, this.model[\\\"value\\\"](val)) : undefined})\")]), ConnectionPool(Channel{Any}(sz_max:32,sz_curr:0), Set(AbstractConnection[]), Condition(Any[])), WebIO.JSString[JSString(\"function () {\\n    var handler = (function (ko, koPunches) {\\n    ko.punches.enableAll();\\n    ko.bindingHandlers.numericValue = {\\n        init: function(element, valueAccessor, allBindings, data, context) {\\n            var stringified = ko.observable(ko.unwrap(valueAccessor()));\\n            stringified.subscribe(function(value) {\\n                var val = parseFloat(value);\\n                if (!isNaN(val)) {\\n                    valueAccessor()(val);\\n                }\\n            });\\n            valueAccessor().subscribe(function(value) {\\n                var str = JSON.stringify(value);\\n                if ((str == \\\"0\\\") && ([\\\"-0\\\", \\\"-0.\\\"].indexOf(stringified()) >= 0))\\n                     return;\\n                 if ([\\\"null\\\", \\\"\\\"].indexOf(str) >= 0)\\n                     return;\\n                stringified(str);\\n            });\\n            ko.applyBindingsToNode(\\n                element,\\n                {\\n                    value: stringified,\\n                    valueUpdate: allBindings.get('valueUpdate'),\\n                },\\n                context,\\n            );\\n        }\\n    };\\n    var json_data = {\\\"changes\\\":WebIO.getval({\\\"name\\\":\\\"changes\\\",\\\"scope\\\":\\\"10306955698781944223\\\",\\\"id\\\":\\\"ob_31\\\",\\\"type\\\":\\\"observable\\\"}),\\\"value\\\":WebIO.getval({\\\"name\\\":\\\"value\\\",\\\"scope\\\":\\\"10306955698781944223\\\",\\\"id\\\":\\\"ob_30\\\",\\\"type\\\":\\\"observable\\\"})};\\n    var self = this;\\n    function AppViewModel() {\\n        for (var key in json_data) {\\n            var el = json_data[key];\\n            this[key] = Array.isArray(el) ? ko.observableArray(el) : ko.observable(el);\\n        }\\n        \\n        \\n        [this[\\\"changes\\\"].subscribe((function (val){!(this.valueFromJulia[\\\"changes\\\"]) ? (WebIO.setval({\\\"name\\\":\\\"changes\\\",\\\"scope\\\":\\\"10306955698781944223\\\",\\\"id\\\":\\\"ob_31\\\",\\\"type\\\":\\\"observable\\\"},val)) : undefined; return this.valueFromJulia[\\\"changes\\\"]=false}),self),this[\\\"value\\\"].subscribe((function (val){!(this.valueFromJulia[\\\"value\\\"]) ? (WebIO.setval({\\\"name\\\":\\\"value\\\",\\\"scope\\\":\\\"10306955698781944223\\\",\\\"id\\\":\\\"ob_30\\\",\\\"type\\\":\\\"observable\\\"},val)) : undefined; return this.valueFromJulia[\\\"value\\\"]=false}),self)]\\n        \\n    }\\n    self.model = new AppViewModel();\\n    self.valueFromJulia = {};\\n    for (var key in json_data) {\\n        self.valueFromJulia[key] = false;\\n    }\\n    ko.applyBindings(self.model, self.dom);\\n}\\n);\\n    (WebIO.importBlock({\\\"data\\\":[{\\\"name\\\":\\\"knockout\\\",\\\"type\\\":\\\"js\\\",\\\"url\\\":\\\"/assetserver/527b7d1e38fd1189920eac026f6b42444ea6f4c1-knockout.js\\\"},{\\\"name\\\":\\\"knockout_punches\\\",\\\"type\\\":\\\"js\\\",\\\"url\\\":\\\"/assetserver/806fdc7f8b09930f85ffd148c249c72ecb4a5db6-knockout_punches.js\\\"}],\\\"type\\\":\\\"async_block\\\"})).then((imports) => handler.apply(this, imports));\\n}\\n\")])], Dict{Symbol,Any}(:className=>\"field interact-widget\")))\n",
       "    (div { style=Dict(\"padding\"=>1.0em) }\n",
       "      Node{WebIO.DOM}(WebIO.DOM(:html, :div), Any[Scope(Node{DOM}(DOM(:html, :div), Any[Node{DOM}(DOM(:html, :div), Any[Node{DOM}(DOM(:html, :label), Any[\"radius\"], Dict{Symbol,Any}(:className=>\"interact \",:style=>Dict{Any,Any}(:padding=>\"5px 10px 0px 10px\")))], Dict{Symbol,Any}(:className=>\"interact-flex-row-left\")), Node{DOM}(DOM(:html, :div), Any[Node{DOM}(DOM(:html, :input), Any[], Dict{Symbol,Any}(:attributes=>Dict{Any,Any}(:type=>\"number\",Symbol(\"data-bind\")=>\"numericValue: value, valueUpdate: 'input', event: {change: function (){this.changes(this.changes()+1)}}\"),:placeholder=>\"\",:className=>\"input \",:style=>Dict{Any,Any}()))], Dict{Symbol,Any}(:className=>\"interact-flex-row-center\")), Node{DOM}(DOM(:html, :div), Any[Node{DOM}(DOM(:html, :div), Any[], Dict{Symbol,Any}())], Dict{Symbol,Any}(:className=>\"interact-flex-row-right\"))], Dict{Symbol,Any}(:className=>\"interact-flex-row interact-widget\")), Dict{String,Tuple{Observables.AbstractObservable,Union{Nothing, Bool}}}(\"changes\"=>(Observable{Int64} with 1 listeners. Value:\n",
       "0, nothing),\"value\"=>(Observable{Union{Nothing, Float64}} with 1 listeners. Value:\n",
       "5.75, nothing)), Set(String[]), nothing, Asset[Asset(\"js\", \"knockout\", \"/home/fritzsch/.julia/packages/Knockout/1sDlc/src/../assets/knockout.js\"), Asset(\"js\", \"knockout_punches\", \"/home/fritzsch/.julia/packages/Knockout/1sDlc/src/../assets/knockout_punches.js\"), Asset(\"js\", nothing, \"/home/fritzsch/.julia/packages/InteractBase/9mFwe/src/../assets/all.js\"), Asset(\"css\", nothing, \"/home/fritzsch/.julia/packages/InteractBase/9mFwe/src/../assets/style.css\"), Asset(\"css\", nothing, \"/home/fritzsch/.julia/packages/Interact/SbgIk/src/../assets/bulma_confined.min.css\")], Dict{Any,Any}(\"changes\"=>Any[JSString(\"(function (val){return (val!=this.model[\\\"changes\\\"]()) ? (this.valueFromJulia[\\\"changes\\\"]=true, this.model[\\\"changes\\\"](val)) : undefined})\")],\"value\"=>Any[JSString(\"(function (val){return (val!=this.model[\\\"value\\\"]()) ? (this.valueFromJulia[\\\"value\\\"]=true, this.model[\\\"value\\\"](val)) : undefined})\")]), ConnectionPool(Channel{Any}(sz_max:32,sz_curr:0), Set(AbstractConnection[]), Condition(Any[])), WebIO.JSString[JSString(\"function () {\\n    var handler = (function (ko, koPunches) {\\n    ko.punches.enableAll();\\n    ko.bindingHandlers.numericValue = {\\n        init: function(element, valueAccessor, allBindings, data, context) {\\n            var stringified = ko.observable(ko.unwrap(valueAccessor()));\\n            stringified.subscribe(function(value) {\\n                var val = parseFloat(value);\\n                if (!isNaN(val)) {\\n                    valueAccessor()(val);\\n                }\\n            });\\n            valueAccessor().subscribe(function(value) {\\n                var str = JSON.stringify(value);\\n                if ((str == \\\"0\\\") && ([\\\"-0\\\", \\\"-0.\\\"].indexOf(stringified()) >= 0))\\n                     return;\\n                 if ([\\\"null\\\", \\\"\\\"].indexOf(str) >= 0)\\n                     return;\\n                stringified(str);\\n            });\\n            ko.applyBindingsToNode(\\n                element,\\n                {\\n                    value: stringified,\\n                    valueUpdate: allBindings.get('valueUpdate'),\\n                },\\n                context,\\n            );\\n        }\\n    };\\n    var json_data = {\\\"changes\\\":WebIO.getval({\\\"name\\\":\\\"changes\\\",\\\"scope\\\":\\\"17513257603237023159\\\",\\\"id\\\":\\\"ob_33\\\",\\\"type\\\":\\\"observable\\\"}),\\\"value\\\":WebIO.getval({\\\"name\\\":\\\"value\\\",\\\"scope\\\":\\\"17513257603237023159\\\",\\\"id\\\":\\\"ob_32\\\",\\\"type\\\":\\\"observable\\\"})};\\n    var self = this;\\n    function AppViewModel() {\\n        for (var key in json_data) {\\n            var el = json_data[key];\\n            this[key] = Array.isArray(el) ? ko.observableArray(el) : ko.observable(el);\\n        }\\n        \\n        \\n        [this[\\\"changes\\\"].subscribe((function (val){!(this.valueFromJulia[\\\"changes\\\"]) ? (WebIO.setval({\\\"name\\\":\\\"changes\\\",\\\"scope\\\":\\\"17513257603237023159\\\",\\\"id\\\":\\\"ob_33\\\",\\\"type\\\":\\\"observable\\\"},val)) : undefined; return this.valueFromJulia[\\\"changes\\\"]=false}),self),this[\\\"value\\\"].subscribe((function (val){!(this.valueFromJulia[\\\"value\\\"]) ? (WebIO.setval({\\\"name\\\":\\\"value\\\",\\\"scope\\\":\\\"17513257603237023159\\\",\\\"id\\\":\\\"ob_32\\\",\\\"type\\\":\\\"observable\\\"},val)) : undefined; return this.valueFromJulia[\\\"value\\\"]=false}),self)]\\n        \\n    }\\n    self.model = new AppViewModel();\\n    self.valueFromJulia = {};\\n    for (var key in json_data) {\\n        self.valueFromJulia[key] = false;\\n    }\\n    ko.applyBindings(self.model, self.dom);\\n}\\n);\\n    (WebIO.importBlock({\\\"data\\\":[{\\\"name\\\":\\\"knockout\\\",\\\"type\\\":\\\"js\\\",\\\"url\\\":\\\"/assetserver/527b7d1e38fd1189920eac026f6b42444ea6f4c1-knockout.js\\\"},{\\\"name\\\":\\\"knockout_punches\\\",\\\"type\\\":\\\"js\\\",\\\"url\\\":\\\"/assetserver/806fdc7f8b09930f85ffd148c249c72ecb4a5db6-knockout_punches.js\\\"}],\\\"type\\\":\\\"async_block\\\"})).then((imports) => handler.apply(this, imports));\\n}\\n\")])], Dict{Symbol,Any}(:className=>\"field interact-widget\"))))\n",
       "  (div { style=Dict(\"display\"=>\"flex\",\"flex-direction\"=>\"row\") }\n",
       "    (div { style=Dict(\"padding\"=>1.0em) }\n",
       "      Node{WebIO.DOM}(WebIO.DOM(:html, :div), Any[Scope(Node{DOM}(DOM(:html, :div), Any[Node{DOM}(DOM(:html, :div), Any[Node{DOM}(DOM(:html, :label), Any[\"2*spin\"], Dict{Symbol,Any}(:className=>\"interact \",:style=>Dict{Any,Any}(:padding=>\"5px 10px 0px 10px\")))], Dict{Symbol,Any}(:className=>\"interact-flex-row-left\")), Node{DOM}(DOM(:html, :div), Any[Node{DOM}(DOM(:html, :input), Any[], Dict{Symbol,Any}(:attributes=>Dict{Any,Any}(:type=>\"number\",Symbol(\"data-bind\")=>\"numericValue: value, valueUpdate: 'input', event: {change: function (){this.changes(this.changes()+1)}}\"),:placeholder=>\"\",:className=>\"input \",:style=>Dict{Any,Any}()))], Dict{Symbol,Any}(:className=>\"interact-flex-row-center\")), Node{DOM}(DOM(:html, :div), Any[Node{DOM}(DOM(:html, :div), Any[], Dict{Symbol,Any}())], Dict{Symbol,Any}(:className=>\"interact-flex-row-right\"))], Dict{Symbol,Any}(:className=>\"interact-flex-row interact-widget\")), Dict{String,Tuple{Observables.AbstractObservable,Union{Nothing, Bool}}}(\"changes\"=>(Observable{Int64} with 1 listeners. Value:\n",
       "0, nothing),\"value\"=>(Observable{Union{Nothing, Int64}} with 1 listeners. Value:\n",
       "5, nothing)), Set(String[]), nothing, Asset[Asset(\"js\", \"knockout\", \"/home/fritzsch/.julia/packages/Knockout/1sDlc/src/../assets/knockout.js\"), Asset(\"js\", \"knockout_punches\", \"/home/fritzsch/.julia/packages/Knockout/1sDlc/src/../assets/knockout_punches.js\"), Asset(\"js\", nothing, \"/home/fritzsch/.julia/packages/InteractBase/9mFwe/src/../assets/all.js\"), Asset(\"css\", nothing, \"/home/fritzsch/.julia/packages/InteractBase/9mFwe/src/../assets/style.css\"), Asset(\"css\", nothing, \"/home/fritzsch/.julia/packages/Interact/SbgIk/src/../assets/bulma_confined.min.css\")], Dict{Any,Any}(\"changes\"=>Any[JSString(\"(function (val){return (val!=this.model[\\\"changes\\\"]()) ? (this.valueFromJulia[\\\"changes\\\"]=true, this.model[\\\"changes\\\"](val)) : undefined})\")],\"value\"=>Any[JSString(\"(function (val){return (val!=this.model[\\\"value\\\"]()) ? (this.valueFromJulia[\\\"value\\\"]=true, this.model[\\\"value\\\"](val)) : undefined})\")]), ConnectionPool(Channel{Any}(sz_max:32,sz_curr:0), Set(AbstractConnection[]), Condition(Any[])), WebIO.JSString[JSString(\"function () {\\n    var handler = (function (ko, koPunches) {\\n    ko.punches.enableAll();\\n    ko.bindingHandlers.numericValue = {\\n        init: function(element, valueAccessor, allBindings, data, context) {\\n            var stringified = ko.observable(ko.unwrap(valueAccessor()));\\n            stringified.subscribe(function(value) {\\n                var val = parseFloat(value);\\n                if (!isNaN(val)) {\\n                    valueAccessor()(val);\\n                }\\n            });\\n            valueAccessor().subscribe(function(value) {\\n                var str = JSON.stringify(value);\\n                if ((str == \\\"0\\\") && ([\\\"-0\\\", \\\"-0.\\\"].indexOf(stringified()) >= 0))\\n                     return;\\n                 if ([\\\"null\\\", \\\"\\\"].indexOf(str) >= 0)\\n                     return;\\n                stringified(str);\\n            });\\n            ko.applyBindingsToNode(\\n                element,\\n                {\\n                    value: stringified,\\n                    valueUpdate: allBindings.get('valueUpdate'),\\n                },\\n                context,\\n            );\\n        }\\n    };\\n    var json_data = {\\\"changes\\\":WebIO.getval({\\\"name\\\":\\\"changes\\\",\\\"scope\\\":\\\"18126985991063846926\\\",\\\"id\\\":\\\"ob_35\\\",\\\"type\\\":\\\"observable\\\"}),\\\"value\\\":WebIO.getval({\\\"name\\\":\\\"value\\\",\\\"scope\\\":\\\"18126985991063846926\\\",\\\"id\\\":\\\"ob_34\\\",\\\"type\\\":\\\"observable\\\"})};\\n    var self = this;\\n    function AppViewModel() {\\n        for (var key in json_data) {\\n            var el = json_data[key];\\n            this[key] = Array.isArray(el) ? ko.observableArray(el) : ko.observable(el);\\n        }\\n        \\n        \\n        [this[\\\"changes\\\"].subscribe((function (val){!(this.valueFromJulia[\\\"changes\\\"]) ? (WebIO.setval({\\\"name\\\":\\\"changes\\\",\\\"scope\\\":\\\"18126985991063846926\\\",\\\"id\\\":\\\"ob_35\\\",\\\"type\\\":\\\"observable\\\"},val)) : undefined; return this.valueFromJulia[\\\"changes\\\"]=false}),self),this[\\\"value\\\"].subscribe((function (val){!(this.valueFromJulia[\\\"value\\\"]) ? (WebIO.setval({\\\"name\\\":\\\"value\\\",\\\"scope\\\":\\\"18126985991063846926\\\",\\\"id\\\":\\\"ob_34\\\",\\\"type\\\":\\\"observable\\\"},val)) : undefined; return this.valueFromJulia[\\\"value\\\"]=false}),self)]\\n        \\n    }\\n    self.model = new AppViewModel();\\n    self.valueFromJulia = {};\\n    for (var key in json_data) {\\n        self.valueFromJulia[key] = false;\\n    }\\n    ko.applyBindings(self.model, self.dom);\\n}\\n);\\n    (WebIO.importBlock({\\\"data\\\":[{\\\"name\\\":\\\"knockout\\\",\\\"type\\\":\\\"js\\\",\\\"url\\\":\\\"/assetserver/527b7d1e38fd1189920eac026f6b42444ea6f4c1-knockout.js\\\"},{\\\"name\\\":\\\"knockout_punches\\\",\\\"type\\\":\\\"js\\\",\\\"url\\\":\\\"/assetserver/806fdc7f8b09930f85ffd148c249c72ecb4a5db6-knockout_punches.js\\\"}],\\\"type\\\":\\\"async_block\\\"})).then((imports) => handler.apply(this, imports));\\n}\\n\")])], Dict{Symbol,Any}(:className=>\"field interact-widget\")))\n",
       "    (div { style=Dict(\"padding\"=>1.0em) }\n",
       "      Node{WebIO.DOM}(WebIO.DOM(:html, :div), Any[Scope(Node{DOM}(DOM(:html, :div), Any[Node{DOM}(DOM(:html, :div), Any[Node{DOM}(DOM(:html, :label), Any[\"mu    \"], Dict{Symbol,Any}(:className=>\"interact \",:style=>Dict{Any,Any}(:padding=>\"5px 10px 0px 10px\")))], Dict{Symbol,Any}(:className=>\"interact-flex-row-left\")), Node{DOM}(DOM(:html, :div), Any[Node{DOM}(DOM(:html, :input), Any[], Dict{Symbol,Any}(:attributes=>Dict{Any,Any}(:type=>\"number\",Symbol(\"data-bind\")=>\"numericValue: value, valueUpdate: 'input', event: {change: function (){this.changes(this.changes()+1)}}\"),:placeholder=>\"\",:className=>\"input \",:style=>Dict{Any,Any}()))], Dict{Symbol,Any}(:className=>\"interact-flex-row-center\")), Node{DOM}(DOM(:html, :div), Any[Node{DOM}(DOM(:html, :div), Any[], Dict{Symbol,Any}())], Dict{Symbol,Any}(:className=>\"interact-flex-row-right\"))], Dict{Symbol,Any}(:className=>\"interact-flex-row interact-widget\")), Dict{String,Tuple{Observables.AbstractObservable,Union{Nothing, Bool}}}(\"changes\"=>(Observable{Int64} with 1 listeners. Value:\n",
       "0, nothing),\"value\"=>(Observable{Union{Nothing, Float64}} with 1 listeners. Value:\n",
       "1.0, nothing)), Set(String[]), nothing, Asset[Asset(\"js\", \"knockout\", \"/home/fritzsch/.julia/packages/Knockout/1sDlc/src/../assets/knockout.js\"), Asset(\"js\", \"knockout_punches\", \"/home/fritzsch/.julia/packages/Knockout/1sDlc/src/../assets/knockout_punches.js\"), Asset(\"js\", nothing, \"/home/fritzsch/.julia/packages/InteractBase/9mFwe/src/../assets/all.js\"), Asset(\"css\", nothing, \"/home/fritzsch/.julia/packages/InteractBase/9mFwe/src/../assets/style.css\"), Asset(\"css\", nothing, \"/home/fritzsch/.julia/packages/Interact/SbgIk/src/../assets/bulma_confined.min.css\")], Dict{Any,Any}(\"changes\"=>Any[JSString(\"(function (val){return (val!=this.model[\\\"changes\\\"]()) ? (this.valueFromJulia[\\\"changes\\\"]=true, this.model[\\\"changes\\\"](val)) : undefined})\")],\"value\"=>Any[JSString(\"(function (val){return (val!=this.model[\\\"value\\\"]()) ? (this.valueFromJulia[\\\"value\\\"]=true, this.model[\\\"value\\\"](val)) : undefined})\")]), ConnectionPool(Channel{Any}(sz_max:32,sz_curr:0), Set(AbstractConnection[]), Condition(Any[])), WebIO.JSString[JSString(\"function () {\\n    var handler = (function (ko, koPunches) {\\n    ko.punches.enableAll();\\n    ko.bindingHandlers.numericValue = {\\n        init: function(element, valueAccessor, allBindings, data, context) {\\n            var stringified = ko.observable(ko.unwrap(valueAccessor()));\\n            stringified.subscribe(function(value) {\\n                var val = parseFloat(value);\\n                if (!isNaN(val)) {\\n                    valueAccessor()(val);\\n                }\\n            });\\n            valueAccessor().subscribe(function(value) {\\n                var str = JSON.stringify(value);\\n                if ((str == \\\"0\\\") && ([\\\"-0\\\", \\\"-0.\\\"].indexOf(stringified()) >= 0))\\n                     return;\\n                 if ([\\\"null\\\", \\\"\\\"].indexOf(str) >= 0)\\n                     return;\\n                stringified(str);\\n            });\\n            ko.applyBindingsToNode(\\n                element,\\n                {\\n                    value: stringified,\\n                    valueUpdate: allBindings.get('valueUpdate'),\\n                },\\n                context,\\n            );\\n        }\\n    };\\n    var json_data = {\\\"changes\\\":WebIO.getval({\\\"name\\\":\\\"changes\\\",\\\"scope\\\":\\\"2701180640405523296\\\",\\\"id\\\":\\\"ob_37\\\",\\\"type\\\":\\\"observable\\\"}),\\\"value\\\":WebIO.getval({\\\"name\\\":\\\"value\\\",\\\"scope\\\":\\\"2701180640405523296\\\",\\\"id\\\":\\\"ob_36\\\",\\\"type\\\":\\\"observable\\\"})};\\n    var self = this;\\n    function AppViewModel() {\\n        for (var key in json_data) {\\n            var el = json_data[key];\\n            this[key] = Array.isArray(el) ? ko.observableArray(el) : ko.observable(el);\\n        }\\n        \\n        \\n        [this[\\\"changes\\\"].subscribe((function (val){!(this.valueFromJulia[\\\"changes\\\"]) ? (WebIO.setval({\\\"name\\\":\\\"changes\\\",\\\"scope\\\":\\\"2701180640405523296\\\",\\\"id\\\":\\\"ob_37\\\",\\\"type\\\":\\\"observable\\\"},val)) : undefined; return this.valueFromJulia[\\\"changes\\\"]=false}),self),this[\\\"value\\\"].subscribe((function (val){!(this.valueFromJulia[\\\"value\\\"]) ? (WebIO.setval({\\\"name\\\":\\\"value\\\",\\\"scope\\\":\\\"2701180640405523296\\\",\\\"id\\\":\\\"ob_36\\\",\\\"type\\\":\\\"observable\\\"},val)) : undefined; return this.valueFromJulia[\\\"value\\\"]=false}),self)]\\n        \\n    }\\n    self.model = new AppViewModel();\\n    self.valueFromJulia = {};\\n    for (var key in json_data) {\\n        self.valueFromJulia[key] = false;\\n    }\\n    ko.applyBindings(self.model, self.dom);\\n}\\n);\\n    (WebIO.importBlock({\\\"data\\\":[{\\\"name\\\":\\\"knockout\\\",\\\"type\\\":\\\"js\\\",\\\"url\\\":\\\"/assetserver/527b7d1e38fd1189920eac026f6b42444ea6f4c1-knockout.js\\\"},{\\\"name\\\":\\\"knockout_punches\\\",\\\"type\\\":\\\"js\\\",\\\"url\\\":\\\"/assetserver/806fdc7f8b09930f85ffd148c249c72ecb4a5db6-knockout_punches.js\\\"}],\\\"type\\\":\\\"async_block\\\"})).then((imports) => handler.apply(this, imports));\\n}\\n\")])], Dict{Symbol,Any}(:className=>\"field interact-widget\")))\n",
       "    (div { style=Dict(\"padding\"=>1.0em) }\n",
       "      Node{WebIO.DOM}(WebIO.DOM(:html, :div), Any[Scope(Node{DOM}(DOM(:html, :div), Any[Node{DOM}(DOM(:html, :div), Any[Node{DOM}(DOM(:html, :label), Any[\"Q     \"], Dict{Symbol,Any}(:className=>\"interact \",:style=>Dict{Any,Any}(:padding=>\"5px 10px 0px 10px\")))], Dict{Symbol,Any}(:className=>\"interact-flex-row-left\")), Node{DOM}(DOM(:html, :div), Any[Node{DOM}(DOM(:html, :input), Any[], Dict{Symbol,Any}(:attributes=>Dict{Any,Any}(:type=>\"number\",Symbol(\"data-bind\")=>\"numericValue: value, valueUpdate: 'input', event: {change: function (){this.changes(this.changes()+1)}}\"),:placeholder=>\"\",:className=>\"input \",:style=>Dict{Any,Any}()))], Dict{Symbol,Any}(:className=>\"interact-flex-row-center\")), Node{DOM}(DOM(:html, :div), Any[Node{DOM}(DOM(:html, :div), Any[], Dict{Symbol,Any}())], Dict{Symbol,Any}(:className=>\"interact-flex-row-right\"))], Dict{Symbol,Any}(:className=>\"interact-flex-row interact-widget\")), Dict{String,Tuple{Observables.AbstractObservable,Union{Nothing, Bool}}}(\"changes\"=>(Observable{Int64} with 1 listeners. Value:\n",
       "0, nothing),\"value\"=>(Observable{Union{Nothing, Float64}} with 1 listeners. Value:\n",
       "2.0, nothing)), Set(String[]), nothing, Asset[Asset(\"js\", \"knockout\", \"/home/fritzsch/.julia/packages/Knockout/1sDlc/src/../assets/knockout.js\"), Asset(\"js\", \"knockout_punches\", \"/home/fritzsch/.julia/packages/Knockout/1sDlc/src/../assets/knockout_punches.js\"), Asset(\"js\", nothing, \"/home/fritzsch/.julia/packages/InteractBase/9mFwe/src/../assets/all.js\"), Asset(\"css\", nothing, \"/home/fritzsch/.julia/packages/InteractBase/9mFwe/src/../assets/style.css\"), Asset(\"css\", nothing, \"/home/fritzsch/.julia/packages/Interact/SbgIk/src/../assets/bulma_confined.min.css\")], Dict{Any,Any}(\"changes\"=>Any[JSString(\"(function (val){return (val!=this.model[\\\"changes\\\"]()) ? (this.valueFromJulia[\\\"changes\\\"]=true, this.model[\\\"changes\\\"](val)) : undefined})\")],\"value\"=>Any[JSString(\"(function (val){return (val!=this.model[\\\"value\\\"]()) ? (this.valueFromJulia[\\\"value\\\"]=true, this.model[\\\"value\\\"](val)) : undefined})\")]), ConnectionPool(Channel{Any}(sz_max:32,sz_curr:0), Set(AbstractConnection[]), Condition(Any[])), WebIO.JSString[JSString(\"function () {\\n    var handler = (function (ko, koPunches) {\\n    ko.punches.enableAll();\\n    ko.bindingHandlers.numericValue = {\\n        init: function(element, valueAccessor, allBindings, data, context) {\\n            var stringified = ko.observable(ko.unwrap(valueAccessor()));\\n            stringified.subscribe(function(value) {\\n                var val = parseFloat(value);\\n                if (!isNaN(val)) {\\n                    valueAccessor()(val);\\n                }\\n            });\\n            valueAccessor().subscribe(function(value) {\\n                var str = JSON.stringify(value);\\n                if ((str == \\\"0\\\") && ([\\\"-0\\\", \\\"-0.\\\"].indexOf(stringified()) >= 0))\\n                     return;\\n                 if ([\\\"null\\\", \\\"\\\"].indexOf(str) >= 0)\\n                     return;\\n                stringified(str);\\n            });\\n            ko.applyBindingsToNode(\\n                element,\\n                {\\n                    value: stringified,\\n                    valueUpdate: allBindings.get('valueUpdate'),\\n                },\\n                context,\\n            );\\n        }\\n    };\\n    var json_data = {\\\"changes\\\":WebIO.getval({\\\"name\\\":\\\"changes\\\",\\\"scope\\\":\\\"13009118998319202955\\\",\\\"id\\\":\\\"ob_39\\\",\\\"type\\\":\\\"observable\\\"}),\\\"value\\\":WebIO.getval({\\\"name\\\":\\\"value\\\",\\\"scope\\\":\\\"13009118998319202955\\\",\\\"id\\\":\\\"ob_38\\\",\\\"type\\\":\\\"observable\\\"})};\\n    var self = this;\\n    function AppViewModel() {\\n        for (var key in json_data) {\\n            var el = json_data[key];\\n            this[key] = Array.isArray(el) ? ko.observableArray(el) : ko.observable(el);\\n        }\\n        \\n        \\n        [this[\\\"changes\\\"].subscribe((function (val){!(this.valueFromJulia[\\\"changes\\\"]) ? (WebIO.setval({\\\"name\\\":\\\"changes\\\",\\\"scope\\\":\\\"13009118998319202955\\\",\\\"id\\\":\\\"ob_39\\\",\\\"type\\\":\\\"observable\\\"},val)) : undefined; return this.valueFromJulia[\\\"changes\\\"]=false}),self),this[\\\"value\\\"].subscribe((function (val){!(this.valueFromJulia[\\\"value\\\"]) ? (WebIO.setval({\\\"name\\\":\\\"value\\\",\\\"scope\\\":\\\"13009118998319202955\\\",\\\"id\\\":\\\"ob_38\\\",\\\"type\\\":\\\"observable\\\"},val)) : undefined; return this.valueFromJulia[\\\"value\\\"]=false}),self)]\\n        \\n    }\\n    self.model = new AppViewModel();\\n    self.valueFromJulia = {};\\n    for (var key in json_data) {\\n        self.valueFromJulia[key] = false;\\n    }\\n    ko.applyBindings(self.model, self.dom);\\n}\\n);\\n    (WebIO.importBlock({\\\"data\\\":[{\\\"name\\\":\\\"knockout\\\",\\\"type\\\":\\\"js\\\",\\\"url\\\":\\\"/assetserver/527b7d1e38fd1189920eac026f6b42444ea6f4c1-knockout.js\\\"},{\\\"name\\\":\\\"knockout_punches\\\",\\\"type\\\":\\\"js\\\",\\\"url\\\":\\\"/assetserver/806fdc7f8b09930f85ffd148c249c72ecb4a5db6-knockout_punches.js\\\"}],\\\"type\\\":\\\"async_block\\\"})).then((imports) => handler.apply(this, imports));\\n}\\n\")])], Dict{Symbol,Any}(:className=>\"field interact-widget\")))\n",
       "    (div { style=Dict(\"padding\"=>1.0em) }\n",
       "      Node{WebIO.DOM}(WebIO.DOM(:html, :div), Any[Scope(Node{DOM}(DOM(:html, :button), Any[\"Update\"], Dict{Symbol,Any}(:attributes=>Dict{Any,Any}(\"data-bind\"=>\"click: function (){this.clicks(this.clicks()+1)}, css: {'is-loading' : loading}\"),:className=>\"is-medium button is-primary\",:style=>Dict{String,Any}())), Dict{String,Tuple{Observables.AbstractObservable,Union{Nothing, Bool}}}(\"loading\"=>(Observable{Bool} with 1 listeners. Value:\n",
       "false, nothing),\"clicks\"=>(Observable{Int64} with 1 listeners. Value:\n",
       "0, nothing)), Set(String[]), nothing, Asset[Asset(\"js\", \"knockout\", \"/home/fritzsch/.julia/packages/Knockout/1sDlc/src/../assets/knockout.js\"), Asset(\"js\", \"knockout_punches\", \"/home/fritzsch/.julia/packages/Knockout/1sDlc/src/../assets/knockout_punches.js\"), Asset(\"js\", nothing, \"/home/fritzsch/.julia/packages/InteractBase/9mFwe/src/../assets/all.js\"), Asset(\"css\", nothing, \"/home/fritzsch/.julia/packages/InteractBase/9mFwe/src/../assets/style.css\"), Asset(\"css\", nothing, \"/home/fritzsch/.julia/packages/Interact/SbgIk/src/../assets/bulma_confined.min.css\")], Dict{Any,Any}(\"loading\"=>Any[JSString(\"(function (val){return (val!=this.model[\\\"loading\\\"]()) ? (this.valueFromJulia[\\\"loading\\\"]=true, this.model[\\\"loading\\\"](val)) : undefined})\")],\"clicks\"=>Any[JSString(\"(function (val){return (val!=this.model[\\\"clicks\\\"]()) ? (this.valueFromJulia[\\\"clicks\\\"]=true, this.model[\\\"clicks\\\"](val)) : undefined})\")]), ConnectionPool(Channel{Any}(sz_max:32,sz_curr:0), Set(AbstractConnection[]), Condition(Any[])), WebIO.JSString[JSString(\"function () {\\n    var handler = (function (ko, koPunches) {\\n    ko.punches.enableAll();\\n    ko.bindingHandlers.numericValue = {\\n        init: function(element, valueAccessor, allBindings, data, context) {\\n            var stringified = ko.observable(ko.unwrap(valueAccessor()));\\n            stringified.subscribe(function(value) {\\n                var val = parseFloat(value);\\n                if (!isNaN(val)) {\\n                    valueAccessor()(val);\\n                }\\n            });\\n            valueAccessor().subscribe(function(value) {\\n                var str = JSON.stringify(value);\\n                if ((str == \\\"0\\\") && ([\\\"-0\\\", \\\"-0.\\\"].indexOf(stringified()) >= 0))\\n                     return;\\n                 if ([\\\"null\\\", \\\"\\\"].indexOf(str) >= 0)\\n                     return;\\n                stringified(str);\\n            });\\n            ko.applyBindingsToNode(\\n                element,\\n                {\\n                    value: stringified,\\n                    valueUpdate: allBindings.get('valueUpdate'),\\n                },\\n                context,\\n            );\\n        }\\n    };\\n    var json_data = {\\\"loading\\\":WebIO.getval({\\\"name\\\":\\\"loading\\\",\\\"scope\\\":\\\"2816743059889311461\\\",\\\"id\\\":\\\"ob_41\\\",\\\"type\\\":\\\"observable\\\"}),\\\"clicks\\\":WebIO.getval({\\\"name\\\":\\\"clicks\\\",\\\"scope\\\":\\\"2816743059889311461\\\",\\\"id\\\":\\\"ob_40\\\",\\\"type\\\":\\\"observable\\\"})};\\n    var self = this;\\n    function AppViewModel() {\\n        for (var key in json_data) {\\n            var el = json_data[key];\\n            this[key] = Array.isArray(el) ? ko.observableArray(el) : ko.observable(el);\\n        }\\n        \\n        \\n        [this[\\\"loading\\\"].subscribe((function (val){!(this.valueFromJulia[\\\"loading\\\"]) ? (WebIO.setval({\\\"name\\\":\\\"loading\\\",\\\"scope\\\":\\\"2816743059889311461\\\",\\\"id\\\":\\\"ob_41\\\",\\\"type\\\":\\\"observable\\\"},val)) : undefined; return this.valueFromJulia[\\\"loading\\\"]=false}),self),this[\\\"clicks\\\"].subscribe((function (val){!(this.valueFromJulia[\\\"clicks\\\"]) ? (WebIO.setval({\\\"name\\\":\\\"clicks\\\",\\\"scope\\\":\\\"2816743059889311461\\\",\\\"id\\\":\\\"ob_40\\\",\\\"type\\\":\\\"observable\\\"},val)) : undefined; return this.valueFromJulia[\\\"clicks\\\"]=false}),self)]\\n        \\n    }\\n    self.model = new AppViewModel();\\n    self.valueFromJulia = {};\\n    for (var key in json_data) {\\n        self.valueFromJulia[key] = false;\\n    }\\n    ko.applyBindings(self.model, self.dom);\\n}\\n);\\n    (WebIO.importBlock({\\\"data\\\":[{\\\"name\\\":\\\"knockout\\\",\\\"type\\\":\\\"js\\\",\\\"url\\\":\\\"/assetserver/527b7d1e38fd1189920eac026f6b42444ea6f4c1-knockout.js\\\"},{\\\"name\\\":\\\"knockout_punches\\\",\\\"type\\\":\\\"js\\\",\\\"url\\\":\\\"/assetserver/806fdc7f8b09930f85ffd148c249c72ecb4a5db6-knockout_punches.js\\\"}],\\\"type\\\":\\\"async_block\\\"})).then((imports) => handler.apply(this, imports));\\n}\\n\")])], Dict{Symbol,Any}(:className=>\"field interact-widget\")))))"
      ]
     },
     "metadata": {
      "application/vnd.webio.node+json": {
       "kernelId": "892227b9-9f50-4b1d-9921-16712bc53f0d"
      }
     },
     "output_type": "display_data"
    },
    {
     "data": {
      "application/vnd.webio.node+json": {
       "children": [
        {
         "children": [],
         "instanceArgs": {
          "namespace": "html",
          "tag": "div"
         },
         "nodeType": "DOM",
         "props": {
          "className": "webio-observable",
          "setInnerHtml": "<pre>Uniform nuclear model for Z = 54.0 with mass = 132.0, radius R = 5.75 fm and nuclear spin I = 5/2, dipole moment mu = 1.0 and quadrupole moment Q = 2.0.</pre>"
         },
         "type": "node"
        }
       ],
       "instanceArgs": {
        "handlers": {
         "obs-output": [
          "function (value, scope) {\n    scope.setInnerHTML(value);\n}\n"
         ]
        },
        "id": "12961877950726391004",
        "imports": {
         "data": [],
         "type": "async_block"
        },
        "mount_callbacks": [],
        "observables": {
         "obs-output": {
          "id": "ob_44",
          "sync": false,
          "value": "<pre>Uniform nuclear model for Z = 54.0 with mass = 132.0, radius R = 5.75 fm and nuclear spin I = 5/2, dipole moment mu = 1.0 and quadrupole moment Q = 2.0.</pre>"
         }
        },
        "systemjs_options": null
       },
       "nodeType": "Scope",
       "props": {},
       "type": "node"
      },
      "text/html": [
       "<div\n",
       "    class=\"webio-mountpoint\"\n",
       "    data-webio-mountpoint=\"4078894930564053494\"\n",
       ">\n",
       "    <script>\n",
       "    if (window.require && require.defined && require.defined(\"nbextensions/webio-jupyter-notebook\")) {\n",
       "        console.log(\"Jupyter WebIO extension detected, not mounting.\");\n",
       "    } else if (window.WebIO) {\n",
       "        WebIO.mount(\n",
       "            document.querySelector('[data-webio-mountpoint=\"4078894930564053494\"]'),\n",
       "            {\"props\":{},\"nodeType\":\"Scope\",\"type\":\"node\",\"instanceArgs\":{\"imports\":{\"data\":[],\"type\":\"async_block\"},\"id\":\"805196120126005204\",\"handlers\":{\"obs-output\":[\"function (value, scope) {\\n    scope.setInnerHTML(value);\\n}\\n\"]},\"systemjs_options\":null,\"mount_callbacks\":[],\"observables\":{\"obs-output\":{\"sync\":false,\"id\":\"ob_43\",\"value\":\"<pre>Uniform nuclear model for Z = 54.0 with mass = 132.0, radius R = 5.75 fm and nuclear spin I = 5\\/2, dipole moment mu = 1.0 and quadrupole moment Q = 2.0.<\\/pre>\"}}},\"children\":[{\"props\":{\"className\":\"webio-observable\",\"setInnerHtml\":\"<pre>Uniform nuclear model for Z = 54.0 with mass = 132.0, radius R = 5.75 fm and nuclear spin I = 5\\/2, dipole moment mu = 1.0 and quadrupole moment Q = 2.0.<\\/pre>\"},\"nodeType\":\"DOM\",\"type\":\"node\",\"instanceArgs\":{\"namespace\":\"html\",\"tag\":\"div\"},\"children\":[]}]},\n",
       "            window,\n",
       "        );\n",
       "    } else {\n",
       "        document\n",
       "            .querySelector('[data-webio-mountpoint=\"4078894930564053494\"]')\n",
       "            .innerHTML = (\n",
       "                '<strong>WebIO not detected. Please read ' +\n",
       "                '<a href=\"https://juliagizmos.github.io/WebIO.jl/latest/troubleshooting/not-detected/\">the troubleshooting guide</a> ' +\n",
       "                'for more information on how to resolve this issue.' +\n",
       "                '</strong>'\n",
       "            );\n",
       "    }\n",
       "    </script>\n",
       "</div>\n"
      ],
      "text/plain": [
       "Observable{Any} with 0 listeners. Value:\n",
       "Uniform nuclear model for Z = 54.0 with mass = 132.0, radius R = 5.75 fm and nuclear spin I = 5/2, dipole moment mu = 1.0 and quadrupole moment Q = 2.0."
      ]
     },
     "execution_count": 8,
     "metadata": {
      "application/vnd.webio.node+json": {
       "kernelId": "892227b9-9f50-4b1d-9921-16712bc53f0d"
      }
     },
     "output_type": "execute_result"
    }
   ],
   "source": [
    "wx = Nuclear.Model(Gui; model=wb)"
   ]
  },
  {
   "cell_type": "code",
   "execution_count": 9,
   "metadata": {},
   "outputs": [
    {
     "data": {
      "text/plain": [
       "Uniform nuclear model for Z = 54.0 with mass = 132.0, radius R = 5.75 fm and nuclear spin I = 5/2, dipole moment mu = 1.0 and quadrupole moment Q = 2.0."
      ]
     },
     "execution_count": 9,
     "metadata": {},
     "output_type": "execute_result"
    }
   ],
   "source": [
    "wd = wx[]"
   ]
  },
  {
   "cell_type": "code",
   "execution_count": null,
   "metadata": {},
   "outputs": [],
   "source": []
  }
 ],
 "metadata": {
  "@webio": {
   "lastCommId": "2606919c6c8549dfaefe3eadfad00998",
   "lastKernelId": "a931970b-89cd-4e30-abf8-dc89fb61d292"
  },
  "kernelspec": {
   "display_name": "Julia 1.0.3",
   "language": "julia",
   "name": "julia-1.0"
  },
  "language_info": {
   "file_extension": ".jl",
   "mimetype": "application/julia",
   "name": "julia",
   "version": "1.0.3"
  }
 },
 "nbformat": 4,
 "nbformat_minor": 2
}
