{
 "cells": [
  {
   "cell_type": "markdown",
   "metadata": {},
   "source": [
    "# Define the nuclear (model) parameters & potential"
   ]
  },
  {
   "cell_type": "code",
   "execution_count": 7,
   "metadata": {},
   "outputs": [],
   "source": [
    "using JAC"
   ]
  },
  {
   "cell_type": "code",
   "execution_count": 8,
   "metadata": {},
   "outputs": [],
   "source": [
    "# using Interact"
   ]
  },
  {
   "cell_type": "markdown",
   "metadata": {},
   "source": [
    "The charge and shape of the nucleus is essential to understand the electronic level structure and  some of the processes that may occur in an atom or ion. Usually, these and other nuclear parameters need to be specified prior to the generation of (electronic) wave functions, state representations as well as the computation of atomic amplitudes, properties and processes.\n",
    "\n",
    "In JAC, all information about the underlying **nuclear model** are kept in the data structure `Nuclear.Model` which carries the following information:"
   ]
  },
  {
   "cell_type": "code",
   "execution_count": 13,
   "metadata": {},
   "outputs": [
    {
     "data": {
      "text/latex": [
       "\\texttt{struct  Nuclear.Model}  ... defines a type for the nuclear model, i.e. for its form and parameters.\n",
       "\n",
       "\\begin{verbatim}\n",
       "+ Z        ::Float64         ... nuclear charge\n",
       "+ model    ::String          ... identifier of the nuclear model: {\"Fermi\", \"Point\", \"Uniform\"}\n",
       "+ mass     ::Float64         ... atomic mass\n",
       "+ radius   ::Float64         ... (root-mean square) radius of a uniform or Fermi-distributed nucleus\n",
       "+ spinI    ::AngularJ64      ... nuclear spin I, must be >= 0\n",
       "+ mu       ::Float64         ... magnetic dipole moment in Bohr magnetons\n",
       "+ Q        ::Float64         ... electric qadrupole moment\n",
       "\\end{verbatim}\n",
       "\\rule{\\textwidth}{1pt}\n",
       "\\texttt{Nuclear.Model(Z::Real)}       ... to specify a Fermi-type nucleus with charge Z, and where the nuclear spin and nuclear moments are all set to zero.\n",
       "\n",
       "\\rule{\\textwidth}{1pt}\n",
       "\\texttt{Nuclear.Model(Z::Real, model::String)}       ... to specify a nucleus with charge Z, model = \\{\"Fermi\", \"point\", \"uniform\"\\}, and where the nuclear spin and          nuclear moments are all set to zero.\n",
       "\n",
       "\\rule{\\textwidth}{1pt}\n",
       "\\texttt{Nuclear.Model(nm::Nuclear.Model;}\n",
       "\n",
       "\\begin{verbatim}\n",
       "        Z=..,         model=..,         mass=..,        radius=..,     \n",
       "        spinI=..,     mu=..,            Q=..)\n",
       "... constructor for re-defining a nuclear model nm::Nuclear.Model.\n",
       "\\end{verbatim}\n"
      ],
      "text/markdown": [
       "`struct  Nuclear.Model`  ... defines a type for the nuclear model, i.e. for its form and parameters.\n",
       "\n",
       "```\n",
       "+ Z        ::Float64         ... nuclear charge\n",
       "+ model    ::String          ... identifier of the nuclear model: {\"Fermi\", \"Point\", \"Uniform\"}\n",
       "+ mass     ::Float64         ... atomic mass\n",
       "+ radius   ::Float64         ... (root-mean square) radius of a uniform or Fermi-distributed nucleus\n",
       "+ spinI    ::AngularJ64      ... nuclear spin I, must be >= 0\n",
       "+ mu       ::Float64         ... magnetic dipole moment in Bohr magnetons\n",
       "+ Q        ::Float64         ... electric qadrupole moment\n",
       "```\n",
       "\n",
       "---\n",
       "\n",
       "`Nuclear.Model(Z::Real)`       ... to specify a Fermi-type nucleus with charge Z, and where the nuclear spin and nuclear moments are all set to zero.\n",
       "\n",
       "---\n",
       "\n",
       "`Nuclear.Model(Z::Real, model::String)`       ... to specify a nucleus with charge Z, model = {\"Fermi\", \"point\", \"uniform\"}, and where the nuclear spin and          nuclear moments are all set to zero.\n",
       "\n",
       "---\n",
       "\n",
       "`Nuclear.Model(nm::Nuclear.Model;`\n",
       "\n",
       "```\n",
       "        Z=..,         model=..,         mass=..,        radius=..,     \n",
       "        spinI=..,     mu=..,            Q=..)\n",
       "... constructor for re-defining a nuclear model nm::Nuclear.Model.\n",
       "```\n"
      ],
      "text/plain": [
       "  \u001b[36mstruct  Nuclear.Model\u001b[39m ... defines a type for the nuclear model, i.e. for its\n",
       "  form and parameters.\n",
       "\n",
       "\u001b[36m  + Z        ::Float64         ... nuclear charge\u001b[39m\n",
       "\u001b[36m  + model    ::String          ... identifier of the nuclear model: {\"Fermi\", \"Point\", \"Uniform\"}\u001b[39m\n",
       "\u001b[36m  + mass     ::Float64         ... atomic mass\u001b[39m\n",
       "\u001b[36m  + radius   ::Float64         ... (root-mean square) radius of a uniform or Fermi-distributed nucleus\u001b[39m\n",
       "\u001b[36m  + spinI    ::AngularJ64      ... nuclear spin I, must be >= 0\u001b[39m\n",
       "\u001b[36m  + mu       ::Float64         ... magnetic dipole moment in Bohr magnetons\u001b[39m\n",
       "\u001b[36m  + Q        ::Float64         ... electric qadrupole moment\u001b[39m\n",
       "\n",
       "  ────────────────────────────────────────────────────────────────────────────\n",
       "\n",
       "  \u001b[36mNuclear.Model(Z::Real)\u001b[39m ... to specify a Fermi-type nucleus with charge Z,\n",
       "  and where the nuclear spin and nuclear moments are all set to zero.\n",
       "\n",
       "  ────────────────────────────────────────────────────────────────────────────\n",
       "\n",
       "  \u001b[36mNuclear.Model(Z::Real, model::String)\u001b[39m ... to specify a nucleus with charge\n",
       "  Z, model = {\"Fermi\", \"point\", \"uniform\"}, and where the nuclear spin and\n",
       "  nuclear moments are all set to zero.\n",
       "\n",
       "  ────────────────────────────────────────────────────────────────────────────\n",
       "\n",
       "  \u001b[36mNuclear.Model(nm::Nuclear.Model;\u001b[39m\n",
       "\n",
       "\u001b[36m          Z=..,         model=..,         mass=..,        radius=..,     \u001b[39m\n",
       "\u001b[36m          spinI=..,     mu=..,            Q=..)\u001b[39m\n",
       "\u001b[36m  ... constructor for re-defining a nuclear model nm::Nuclear.Model.\u001b[39m"
      ]
     },
     "execution_count": 13,
     "metadata": {},
     "output_type": "execute_result"
    }
   ],
   "source": [
    "? Nuclear.Model"
   ]
  },
  {
   "cell_type": "markdown",
   "metadata": {},
   "source": [
    "For quick computations and for most atomic processes, it is often sufficient to just specify the nuclear charge $Z$ and to leave all other parameters to their default values. For example, we here define such a nucleus for xenon $(Z=54)$ and will immediatly see the details of this specification:"
   ]
  },
  {
   "cell_type": "code",
   "execution_count": 34,
   "metadata": {},
   "outputs": [
    {
     "data": {
      "text/plain": [
       "Uniform nuclear model for Z = 54.0 with mass = 122.58, radius R = 40000.8 fm and nuclear spin I = 5, dipole moment mu = 0.0 and quadrupole moment Q = -3.4."
      ]
     },
     "execution_count": 34,
     "metadata": {},
     "output_type": "execute_result"
    }
   ],
   "source": [
    "wa = Nuclear.Model(54.)\n",
    "wa = Nuclear.Model(wa; model=\"uniform\", spinI=AngularJ64(5), Q=-3.4, radius=40000.8) "
   ]
  },
  {
   "cell_type": "code",
   "execution_count": 38,
   "metadata": {},
   "outputs": [
    {
     "name": "stdout",
     "output_type": "stream",
     "text": [
      "search: \u001b[0m\u001b[1mO\u001b[22m\u001b[0m\u001b[1mr\u001b[22m\u001b[0m\u001b[1mb\u001b[22m\u001b[0m\u001b[1mi\u001b[22m\u001b[0m\u001b[1mt\u001b[22m\u001b[0m\u001b[1ma\u001b[22m\u001b[0m\u001b[1ml\u001b[22m AbstractStart\u001b[0m\u001b[1mO\u001b[22m\u001b[0m\u001b[1mr\u001b[22m\u001b[0m\u001b[1mb\u001b[22m\u001b[0m\u001b[1mi\u001b[22m\u001b[0m\u001b[1mt\u001b[22m\u001b[0m\u001b[1ma\u001b[22m\u001b[0m\u001b[1ml\u001b[22ms Ph\u001b[0m\u001b[1mo\u001b[22mto\u001b[0m\u001b[1mR\u001b[22mecom\u001b[0m\u001b[1mb\u001b[22m\u001b[0m\u001b[1mi\u001b[22mna\u001b[0m\u001b[1mt\u001b[22mion Multip\u001b[0m\u001b[1mo\u001b[22mlePola\u001b[0m\u001b[1mr\u001b[22mizi\u001b[0m\u001b[1mb\u001b[22m\u001b[0m\u001b[1mi\u001b[22mli\u001b[0m\u001b[1mt\u001b[22my\n",
      "\n"
     ]
    },
    {
     "data": {
      "text/latex": [
       "\\texttt{struct  Radial.Orbital}       ... defines a type for a single-electron radial orbital function with a large and small component, and which can refer to         either the standard or an explicitly given grid due to the logical flag useStandardGrid. Bound-state orbitals with energy < 0 are          distinguished from free-electron orbitals by the flag isBound.\n",
       "\n",
       "\\begin{verbatim}\n",
       "+ subshell        ::Subshell          ... Relativistic subshell.\n",
       "+ isBound         ::Bool              ... Logical flag to distinguish between bound (true) and free-electron orbitals (false).\n",
       "+ useStandardGrid ::Bool              ... Logical flag for using the standard grid (true) or an explicitly given grid (false).\n",
       "+ energy          ::Float64           ... Single-electron energies of bound orbitals are always negative.\n",
       "+ P               ::Array{Float64,1}  ... Large and ..\n",
       "+ Q               ::Array{Float64,1}  ... small component of the radial orbital.\n",
       "+ Pprime          ::Array{Float64,1}  ... dP/dr.\n",
       "+ Qprime          ::Array{Float64,1}  ... dQ/dr.\n",
       "+ grid            ::Array{Float64,1}  ... explic. defined radial grid array for P, Q, if StandardGrid = false.\n",
       "\\end{verbatim}\n",
       "\\rule{\\textwidth}{1pt}\n",
       "\\texttt{Radial.Orbital(subshell::Subshell, energy::Float64)}       ... constructor for given subshell and energy, and where useStandardGrid is set to true; the grid must be defined          explicitly and neither the large and small components nor their derivatives are yet defined in this case.\n",
       "\n",
       "\\rule{\\textwidth}{1pt}\n",
       "\\texttt{Radial.Orbital(label::String, energy::Float64)}       ... constructor for given string identifier and energy, and where useStandardGrid is set to true; the grid must be          defined explicitly and neither the large and small components nor their derivatives are yet defined in this case.\n",
       "\n"
      ],
      "text/markdown": [
       "`struct  Radial.Orbital`       ... defines a type for a single-electron radial orbital function with a large and small component, and which can refer to         either the standard or an explicitly given grid due to the logical flag useStandardGrid. Bound-state orbitals with energy < 0 are          distinguished from free-electron orbitals by the flag isBound.\n",
       "\n",
       "```\n",
       "+ subshell        ::Subshell          ... Relativistic subshell.\n",
       "+ isBound         ::Bool              ... Logical flag to distinguish between bound (true) and free-electron orbitals (false).\n",
       "+ useStandardGrid ::Bool              ... Logical flag for using the standard grid (true) or an explicitly given grid (false).\n",
       "+ energy          ::Float64           ... Single-electron energies of bound orbitals are always negative.\n",
       "+ P               ::Array{Float64,1}  ... Large and ..\n",
       "+ Q               ::Array{Float64,1}  ... small component of the radial orbital.\n",
       "+ Pprime          ::Array{Float64,1}  ... dP/dr.\n",
       "+ Qprime          ::Array{Float64,1}  ... dQ/dr.\n",
       "+ grid            ::Array{Float64,1}  ... explic. defined radial grid array for P, Q, if StandardGrid = false.\n",
       "```\n",
       "\n",
       "---\n",
       "\n",
       "`Radial.Orbital(subshell::Subshell, energy::Float64)`       ... constructor for given subshell and energy, and where useStandardGrid is set to true; the grid must be defined          explicitly and neither the large and small components nor their derivatives are yet defined in this case.\n",
       "\n",
       "---\n",
       "\n",
       "`Radial.Orbital(label::String, energy::Float64)`       ... constructor for given string identifier and energy, and where useStandardGrid is set to true; the grid must be          defined explicitly and neither the large and small components nor their derivatives are yet defined in this case.\n"
      ],
      "text/plain": [
       "  \u001b[36mstruct  Radial.Orbital\u001b[39m ... defines a type for a single-electron radial\n",
       "  orbital function with a large and small component, and which can refer to\n",
       "  either the standard or an explicitly given grid due to the logical flag\n",
       "  useStandardGrid. Bound-state orbitals with energy < 0 are distinguished from\n",
       "  free-electron orbitals by the flag isBound.\n",
       "\n",
       "\u001b[36m  + subshell        ::Subshell          ... Relativistic subshell.\u001b[39m\n",
       "\u001b[36m  + isBound         ::Bool              ... Logical flag to distinguish between bound (true) and free-electron orbitals (false).\u001b[39m\n",
       "\u001b[36m  + useStandardGrid ::Bool              ... Logical flag for using the standard grid (true) or an explicitly given grid (false).\u001b[39m\n",
       "\u001b[36m  + energy          ::Float64           ... Single-electron energies of bound orbitals are always negative.\u001b[39m\n",
       "\u001b[36m  + P               ::Array{Float64,1}  ... Large and ..\u001b[39m\n",
       "\u001b[36m  + Q               ::Array{Float64,1}  ... small component of the radial orbital.\u001b[39m\n",
       "\u001b[36m  + Pprime          ::Array{Float64,1}  ... dP/dr.\u001b[39m\n",
       "\u001b[36m  + Qprime          ::Array{Float64,1}  ... dQ/dr.\u001b[39m\n",
       "\u001b[36m  + grid            ::Array{Float64,1}  ... explic. defined radial grid array for P, Q, if StandardGrid = false.\u001b[39m\n",
       "\n",
       "  ────────────────────────────────────────────────────────────────────────────\n",
       "\n",
       "  \u001b[36mRadial.Orbital(subshell::Subshell, energy::Float64)\u001b[39m ... constructor for\n",
       "  given subshell and energy, and where useStandardGrid is set to true; the\n",
       "  grid must be defined explicitly and neither the large and small components\n",
       "  nor their derivatives are yet defined in this case.\n",
       "\n",
       "  ────────────────────────────────────────────────────────────────────────────\n",
       "\n",
       "  \u001b[36mRadial.Orbital(label::String, energy::Float64)\u001b[39m ... constructor for given\n",
       "  string identifier and energy, and where useStandardGrid is set to true; the\n",
       "  grid must be defined explicitly and neither the large and small components\n",
       "  nor their derivatives are yet defined in this case."
      ]
     },
     "execution_count": 38,
     "metadata": {},
     "output_type": "execute_result"
    }
   ],
   "source": [
    "?Orbital"
   ]
  },
  {
   "cell_type": "markdown",
   "metadata": {},
   "source": [
    "Of course, we can also specify all details about the nucleus by using the *standard* constructor:"
   ]
  },
  {
   "cell_type": "code",
   "execution_count": 11,
   "metadata": {},
   "outputs": [
    {
     "data": {
      "text/plain": [
       "Uniform nuclear model for Z = 54.0 with mass = 132.0, radius R = 5.75 fm and nuclear spin I = 5/2, dipole moment mu = 1.0 and quadrupole moment Q = 2.0."
      ]
     },
     "execution_count": 11,
     "metadata": {},
     "output_type": "execute_result"
    }
   ],
   "source": [
    "wb = Nuclear.Model(54., \"uniform\", 132., 5.75, AngularJ64(5//2), 1.0, 2.0)"
   ]
  },
  {
   "cell_type": "markdown",
   "metadata": {},
   "source": [
    "... or by *overwriting* the parameters from a previously defined nuclues:"
   ]
  },
  {
   "cell_type": "code",
   "execution_count": 12,
   "metadata": {},
   "outputs": [
    {
     "data": {
      "text/plain": [
       "Fermi nuclear model for Z = 54.0 with mass = 122.58, radius R = 4.722849091608491 fm and nuclear spin I = 0, dipole moment mu = 4.1 and quadrupole moment Q = 2.2."
      ]
     },
     "execution_count": 12,
     "metadata": {},
     "output_type": "execute_result"
    }
   ],
   "source": [
    "wc = Nuclear.Model(wa, mu=4.1, Q=2.2)"
   ]
  },
  {
   "cell_type": "markdown",
   "metadata": {},
   "source": [
    "Indeed, this feature of *overwriting* the parameter of an **excisting object** is frequently use in JAC to re-define or overwrite the default values of different settings, representations and computations."
   ]
  },
  {
   "cell_type": "code",
   "execution_count": null,
   "metadata": {},
   "outputs": [],
   "source": []
  }
 ],
 "metadata": {
  "@webio": {
   "lastCommId": "2606919c6c8549dfaefe3eadfad00998",
   "lastKernelId": "a931970b-89cd-4e30-abf8-dc89fb61d292"
  },
  "kernelspec": {
   "display_name": "Julia 1.0.3",
   "language": "julia",
   "name": "julia-1.0"
  },
  "language_info": {
   "file_extension": ".jl",
   "mimetype": "application/julia",
   "name": "julia",
   "version": "1.0.3"
  }
 },
 "nbformat": 4,
 "nbformat_minor": 4
}
