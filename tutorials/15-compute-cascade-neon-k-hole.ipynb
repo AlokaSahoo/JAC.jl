{
 "cells": [
  {
   "cell_type": "markdown",
   "metadata": {},
   "source": [
    "# Cascade decay of a Ne 1s-hole: Compute the cascade tree"
   ]
  },
  {
   "cell_type": "markdown",
   "metadata": {},
   "source": [
    "# **This nootebook is still under construction !!!**"
   ]
  },
  {
   "cell_type": "code",
   "execution_count": 2,
   "metadata": {},
   "outputs": [
    {
     "data": {
      "text/html": [
       "<script>\n",
       "// Immediately-invoked-function-expression to avoid global variables.\n",
       "(function() {\n",
       "    var warning_div = document.getElementById(\"webio-warning-13735060134599690084\");\n",
       "    var hide = function () {\n",
       "        var script = document.getElementById(\"webio-setup-6517063341696747294\");\n",
       "        var parent = script && script.parentElement;\n",
       "        var grandparent = parent && parent.parentElement;\n",
       "        if (grandparent) {\n",
       "            grandparent.style.display = \"none\";\n",
       "        }\n",
       "        warning_div.style.display = \"none\";\n",
       "    };\n",
       "    if (typeof Jupyter !== \"undefined\") {\n",
       "        console.log(\"WebIO detected Jupyter notebook environment.\");\n",
       "        // Jupyter notebook.\n",
       "        var extensions = (\n",
       "            Jupyter\n",
       "            && Jupyter.notebook.config.data\n",
       "            && Jupyter.notebook.config.data.load_extensions\n",
       "        );\n",
       "        if (extensions && extensions[\"webio-jupyter-notebook\"]) {\n",
       "            // Extension already loaded.\n",
       "            console.log(\"Jupyter WebIO nbextension detected; not loading ad-hoc.\");\n",
       "            hide();\n",
       "            return;\n",
       "        }\n",
       "    } else if (window.location.pathname.includes(\"/lab\")) {\n",
       "        // Guessing JupyterLa\n",
       "        console.log(\"Jupyter Lab detected; make sure the @webio/jupyter-lab-provider labextension is installed.\");\n",
       "        hide();\n",
       "        return;\n",
       "    }\n",
       "})();\n",
       "\n",
       "</script>\n",
       "<p\n",
       "    id=\"webio-warning-13735060134599690084\"\n",
       "    class=\"output_text output_stderr\"\n",
       "    style=\"padding: 1em; font-weight: bold;\"\n",
       ">\n",
       "    Unable to load WebIO. Please make sure WebIO works for your Jupyter client.\n",
       "    For troubleshooting, please see <a href=\"https://juliagizmos.github.io/WebIO.jl/latest/providers/ijulia/\">\n",
       "    the WebIO/IJulia documentation</a>.\n",
       "    <!-- TODO: link to installation docs. -->\n",
       "</p>\n"
      ],
      "text/plain": [
       "HTML{String}(\"<script>\\n// Immediately-invoked-function-expression to avoid global variables.\\n(function() {\\n    var warning_div = document.getElementById(\\\"webio-warning-13735060134599690084\\\");\\n    var hide = function () {\\n        var script = document.getElementById(\\\"webio-setup-6517063341696747294\\\");\\n        var parent = script && script.parentElement;\\n        var grandparent = parent && parent.parentElement;\\n        if (grandparent) {\\n            grandparent.style.display = \\\"none\\\";\\n        }\\n        warning_div.style.display = \\\"none\\\";\\n    };\\n    if (typeof Jupyter !== \\\"undefined\\\") {\\n        console.log(\\\"WebIO detected Jupyter notebook environment.\\\");\\n        // Jupyter notebook.\\n        var extensions = (\\n            Jupyter\\n            && Jupyter.notebook.config.data\\n            && Jupyter.notebook.config.data.load_extensions\\n        );\\n        if (extensions && extensions[\\\"webio-jupyter-notebook\\\"]) {\\n            // Extension already loaded.\\n            console.log(\\\"Jupyter WebIO nbextension detected; not loading ad-hoc.\\\");\\n            hide();\\n            return;\\n        }\\n    } else if (window.location.pathname.includes(\\\"/lab\\\")) {\\n        // Guessing JupyterLa\\n        console.log(\\\"Jupyter Lab detected; make sure the @webio/jupyter-lab-provider labextension is installed.\\\");\\n        hide();\\n        return;\\n    }\\n})();\\n\\n</script>\\n<p\\n    id=\\\"webio-warning-13735060134599690084\\\"\\n    class=\\\"output_text output_stderr\\\"\\n    style=\\\"padding: 1em; font-weight: bold;\\\"\\n>\\n    Unable to load WebIO. Please make sure WebIO works for your Jupyter client.\\n    For troubleshooting, please see <a href=\\\"https://juliagizmos.github.io/WebIO.jl/latest/providers/ijulia/\\\">\\n    the WebIO/IJulia documentation</a>.\\n    <!-- TODO: link to installation docs. -->\\n</p>\\n\")"
      ]
     },
     "metadata": {},
     "output_type": "display_data"
    }
   ],
   "source": [
    "using JAC"
   ]
  },
  {
   "cell_type": "markdown",
   "metadata": {},
   "source": [
    "\n",
    "The neon 1s-cascade has attracted interest in the literature. ... Different observables and spectra have been recorded by experiment.\n",
    "\n",
    "In JAC, two steps are generally distinguished : (1) computation of the cascade tree; (2) the simulation of spectra and observables by making use of these trees.\n",
    "\n",
    "In this notebook, we shall first consider on the (1) computation of the cascade tree; ... what does this include from a simple physics perspectives: automatic generation of configurations that can be successively be reached by various processes. For instance, while the radiative transition just leads to some de-excitation of the atomic state, Auger (and other processes) will lead to the emission of electrons and, hence, to final-state configuration with one or a few electrons less.\n",
    "\n",
    "In JAC, the calculation of a cascade tree is organized as a `Cascade.Computation()`. This is a container that helds all information about the cascade as easily provided from the viewpoint of experiment. ... What does it include: Let us have a look at the definition of such a `Cascade.Computation`:\n"
   ]
  },
  {
   "cell_type": "code",
   "execution_count": 3,
   "metadata": {},
   "outputs": [
    {
     "data": {
      "text/latex": [
       "\\texttt{struct  Cascade.Computation}       ... defines a type for a cascade computation, i.e. for the computation of a whole excitation and/or decay cascade. The data          from this computation can be modified, adapted and refined to the practical needs before the actual computations are          carried out. Initially, this struct contains the physical metadata about the cascade to be calculated but gets enlarged          in course of the computation to keep also wave functions, level multiplets, etc.\n",
       "\n",
       "\\begin{verbatim}\n",
       "+ name               ::String                         ... A name for the cascade\n",
       "+ nuclearModel       ::Nuclear.Model                  ... Model, charge and parameters of the nucleus.\n",
       "+ grid               ::Radial.Grid                    ... The radial grid to be used for the computation.\n",
       "+ asfSettings        ::AsfSettings                    ... Provides the settings for the SCF process.\n",
       "+ approach           ::Cascade.AbstractApproach       ... Computational approach/model that is applied to generate and evaluate the \n",
       "                                                          cascade; possible approaches are: {'single-configuration', ...}\n",
       "+ processes          ::Array{Basics.AtomicProcess,1}   ... List of the atomic processes that are supported and should be included into the \n",
       "                                                          cascade.\n",
       "+ initialConfs       ::Array{Configuration,1}         ... List of one or several configurations that contain the level(s) from which the \n",
       "                                                          cascade starts.\n",
       "+ initialLevels      ::Array{Tuple{Int64,Float64},1}  ... List of one or several (tupels of) levels together with their relative population \n",
       "                                                          from which the cascade starts.\n",
       "+ maxElectronLoss    ::Int64                          ... (Maximum) Number of electrons in which the initial- and final-state \n",
       "                                                          configurations can differ from each other; this also determines the maximal steps \n",
       "                                                          of any particular decay path.\n",
       "+ NoShakeDisplacements ::Int64                        ... Maximum number of electron displacements due to shake-up or shake-down processes \n",
       "                                                          in any individual step of the cascade.\n",
       "+ shakeFromShells ::Array{Shell,1}                    ... List of shells from which shake transitions may occur.\n",
       "+ shakeToShells   ::Array{Shell,1}                    ... List of shells into which shake transitions may occur.\n",
       "+ steps           ::Array{Cascade.Step,1}             ... List of individual steps between well-defined atomic multiplets that are \n",
       "                                                          included into the cascade.\n",
       "\\end{verbatim}\n",
       "\\rule{\\textwidth}{1pt}\n",
       "\\texttt{Cascade.Computation()}  ... constructor for an 'empty' instance of a Cascade.Computation.\n",
       "\n"
      ],
      "text/markdown": [
       "`struct  Cascade.Computation`       ... defines a type for a cascade computation, i.e. for the computation of a whole excitation and/or decay cascade. The data          from this computation can be modified, adapted and refined to the practical needs before the actual computations are          carried out. Initially, this struct contains the physical metadata about the cascade to be calculated but gets enlarged          in course of the computation to keep also wave functions, level multiplets, etc.\n",
       "\n",
       "```\n",
       "+ name               ::String                         ... A name for the cascade\n",
       "+ nuclearModel       ::Nuclear.Model                  ... Model, charge and parameters of the nucleus.\n",
       "+ grid               ::Radial.Grid                    ... The radial grid to be used for the computation.\n",
       "+ asfSettings        ::AsfSettings                    ... Provides the settings for the SCF process.\n",
       "+ approach           ::Cascade.AbstractApproach       ... Computational approach/model that is applied to generate and evaluate the \n",
       "                                                          cascade; possible approaches are: {'single-configuration', ...}\n",
       "+ processes          ::Array{Basics.AtomicProcess,1}   ... List of the atomic processes that are supported and should be included into the \n",
       "                                                          cascade.\n",
       "+ initialConfs       ::Array{Configuration,1}         ... List of one or several configurations that contain the level(s) from which the \n",
       "                                                          cascade starts.\n",
       "+ initialLevels      ::Array{Tuple{Int64,Float64},1}  ... List of one or several (tupels of) levels together with their relative population \n",
       "                                                          from which the cascade starts.\n",
       "+ maxElectronLoss    ::Int64                          ... (Maximum) Number of electrons in which the initial- and final-state \n",
       "                                                          configurations can differ from each other; this also determines the maximal steps \n",
       "                                                          of any particular decay path.\n",
       "+ NoShakeDisplacements ::Int64                        ... Maximum number of electron displacements due to shake-up or shake-down processes \n",
       "                                                          in any individual step of the cascade.\n",
       "+ shakeFromShells ::Array{Shell,1}                    ... List of shells from which shake transitions may occur.\n",
       "+ shakeToShells   ::Array{Shell,1}                    ... List of shells into which shake transitions may occur.\n",
       "+ steps           ::Array{Cascade.Step,1}             ... List of individual steps between well-defined atomic multiplets that are \n",
       "                                                          included into the cascade.\n",
       "```\n",
       "\n",
       "---\n",
       "\n",
       "`Cascade.Computation()`  ... constructor for an 'empty' instance of a Cascade.Computation.\n"
      ],
      "text/plain": [
       "  \u001b[36mstruct  Cascade.Computation\u001b[39m ... defines a type for a cascade computation,\n",
       "  i.e. for the computation of a whole excitation and/or decay cascade. The\n",
       "  data from this computation can be modified, adapted and refined to the\n",
       "  practical needs before the actual computations are carried out. Initially,\n",
       "  this struct contains the physical metadata about the cascade to be\n",
       "  calculated but gets enlarged in course of the computation to keep also wave\n",
       "  functions, level multiplets, etc.\n",
       "\n",
       "\u001b[36m  + name               ::String                         ... A name for the cascade\u001b[39m\n",
       "\u001b[36m  + nuclearModel       ::Nuclear.Model                  ... Model, charge and parameters of the nucleus.\u001b[39m\n",
       "\u001b[36m  + grid               ::Radial.Grid                    ... The radial grid to be used for the computation.\u001b[39m\n",
       "\u001b[36m  + asfSettings        ::AsfSettings                    ... Provides the settings for the SCF process.\u001b[39m\n",
       "\u001b[36m  + approach           ::Cascade.AbstractApproach       ... Computational approach/model that is applied to generate and evaluate the \u001b[39m\n",
       "\u001b[36m                                                            cascade; possible approaches are: {'single-configuration', ...}\u001b[39m\n",
       "\u001b[36m  + processes          ::Array{Basics.AtomicProcess,1}   ... List of the atomic processes that are supported and should be included into the \u001b[39m\n",
       "\u001b[36m                                                            cascade.\u001b[39m\n",
       "\u001b[36m  + initialConfs       ::Array{Configuration,1}         ... List of one or several configurations that contain the level(s) from which the \u001b[39m\n",
       "\u001b[36m                                                            cascade starts.\u001b[39m\n",
       "\u001b[36m  + initialLevels      ::Array{Tuple{Int64,Float64},1}  ... List of one or several (tupels of) levels together with their relative population \u001b[39m\n",
       "\u001b[36m                                                            from which the cascade starts.\u001b[39m\n",
       "\u001b[36m  + maxElectronLoss    ::Int64                          ... (Maximum) Number of electrons in which the initial- and final-state \u001b[39m\n",
       "\u001b[36m                                                            configurations can differ from each other; this also determines the maximal steps \u001b[39m\n",
       "\u001b[36m                                                            of any particular decay path.\u001b[39m\n",
       "\u001b[36m  + NoShakeDisplacements ::Int64                        ... Maximum number of electron displacements due to shake-up or shake-down processes \u001b[39m\n",
       "\u001b[36m                                                            in any individual step of the cascade.\u001b[39m\n",
       "\u001b[36m  + shakeFromShells ::Array{Shell,1}                    ... List of shells from which shake transitions may occur.\u001b[39m\n",
       "\u001b[36m  + shakeToShells   ::Array{Shell,1}                    ... List of shells into which shake transitions may occur.\u001b[39m\n",
       "\u001b[36m  + steps           ::Array{Cascade.Step,1}             ... List of individual steps between well-defined atomic multiplets that are \u001b[39m\n",
       "\u001b[36m                                                            included into the cascade.\u001b[39m\n",
       "\n",
       "  ────────────────────────────────────────────────────────────────────────────\n",
       "\n",
       "  \u001b[36mCascade.Computation()\u001b[39m ... constructor for an 'empty' instance of a\n",
       "  Cascade.Computation."
      ]
     },
     "execution_count": 3,
     "metadata": {},
     "output_type": "execute_result"
    }
   ],
   "source": [
    "? Cascade.Computation"
   ]
  },
  {
   "cell_type": "markdown",
   "metadata": {},
   "source": [
    "What is seen ... and which information needed to be provided for such a computation"
   ]
  },
  {
   "cell_type": "code",
   "execution_count": null,
   "metadata": {},
   "outputs": [],
   "source": []
  }
 ],
 "metadata": {
  "@webio": {
   "lastCommId": null,
   "lastKernelId": null
  },
  "kernelspec": {
   "display_name": "Julia 1.0.3",
   "language": "julia",
   "name": "julia-1.0"
  },
  "language_info": {
   "file_extension": ".jl",
   "mimetype": "application/julia",
   "name": "julia",
   "version": "1.0.3"
  }
 },
 "nbformat": 4,
 "nbformat_minor": 2
}
