{
 "cells": [
  {
   "cell_type": "markdown",
   "metadata": {},
   "source": [
    "# Compute K-LL Auger rates for neon-like iron in a Debye-Hückel potential"
   ]
  },
  {
   "cell_type": "code",
   "execution_count": 7,
   "metadata": {},
   "outputs": [],
   "source": [
    "using JAC"
   ]
  },
  {
   "cell_type": "markdown",
   "metadata": {},
   "source": [
    "A plasma environment generally affects both, the level structure of atoms and ions as well their rates and cross sections. In this tutorial, we wish to compute the K-LL rates for neon-like iron in a Debye-Hückel potential following the work by Deprince *et al* (2019). \n",
    "\n",
    "A Debye-Hückel potential may affect the Auger rates of an atom or ion in three different ways: (i) the level structure due to the screened electron-nucleus and electron-electron interaction; (ii) the shape of the potential, seen by the emitted electrons, due to the plasma screening of the ionic core; as well as (iii) the screening of the electron-electron interaction within the Auger matrix. In the present implementation, only the (screened) Coulomb interaction can be taken into account for the computation of the plasma-modified Auger rates, i.e. **no** Breit interactions nor QED estimates are supported by the JAC program.\n",
    "\n",
    "As with most other (atomic) processes, the compuation of plasma-modified Auger is supported in JAC by a special process identifier `AugerInPlasma` and the corresponding settings `PlasmaShift.AugerSettings`. These settings can be used to define the screening parameter $\\lambda$. \n"
   ]
  },
  {
   "cell_type": "markdown",
   "metadata": {},
   "source": [
    "Let us start again from the `PlasmaShift.AugerSettings` to understand what and how we can control the computations:"
   ]
  },
  {
   "cell_type": "code",
   "execution_count": 8,
   "metadata": {},
   "outputs": [
    {
     "data": {
      "text/latex": [
       "\\texttt{struct  PlasmaShift.AugerSettings}       ... defines a type for the details and parameters of computing Auger rates with plasma interactions.\n",
       "\n",
       "\\begin{verbatim}\n",
       "+ plasmaModel            ::AbstractPlasmaModel           ... Specify a particular plasma model, e.g. ion-sphere, debye.\n",
       "+ lambdaDebye            ::Float64                       ... The lambda parameter of different plasma models.\n",
       "+ ionSphereR0            ::Float64                       ... The effective radius of the ion-sphere model.\n",
       "+ NoBoundElectrons       ::Int64                         ... Effective number of bound electrons.\n",
       "+ printBefore            ::Bool                          ... True, if all energies and lines are printed before their evaluation.\n",
       "+ selectLines            ::Bool                          ... True, if lines are selected individually for the computations.\n",
       "+ selectedLines          ::Array{Tuple{Int64,Int64},1}   ... List of lines, given by tupels (inital-level, final-level).\n",
       "\\end{verbatim}\n",
       "\\rule{\\textwidth}{1pt}\n",
       "\\texttt{PlasmaShift.AugerSettings()}  ... constructor for a standard instance of PlasmaShift.AugerSettings.\n",
       "\n"
      ],
      "text/markdown": [
       "`struct  PlasmaShift.AugerSettings`       ... defines a type for the details and parameters of computing Auger rates with plasma interactions.\n",
       "\n",
       "```\n",
       "+ plasmaModel            ::AbstractPlasmaModel           ... Specify a particular plasma model, e.g. ion-sphere, debye.\n",
       "+ lambdaDebye            ::Float64                       ... The lambda parameter of different plasma models.\n",
       "+ ionSphereR0            ::Float64                       ... The effective radius of the ion-sphere model.\n",
       "+ NoBoundElectrons       ::Int64                         ... Effective number of bound electrons.\n",
       "+ printBefore            ::Bool                          ... True, if all energies and lines are printed before their evaluation.\n",
       "+ selectLines            ::Bool                          ... True, if lines are selected individually for the computations.\n",
       "+ selectedLines          ::Array{Tuple{Int64,Int64},1}   ... List of lines, given by tupels (inital-level, final-level).\n",
       "```\n",
       "\n",
       "---\n",
       "\n",
       "`PlasmaShift.AugerSettings()`  ... constructor for a standard instance of PlasmaShift.AugerSettings.\n"
      ],
      "text/plain": [
       "  \u001b[36mstruct  PlasmaShift.AugerSettings\u001b[39m ... defines a type for the details and\n",
       "  parameters of computing Auger rates with plasma interactions.\n",
       "\n",
       "\u001b[36m  + plasmaModel            ::AbstractPlasmaModel           ... Specify a particular plasma model, e.g. ion-sphere, debye.\u001b[39m\n",
       "\u001b[36m  + lambdaDebye            ::Float64                       ... The lambda parameter of different plasma models.\u001b[39m\n",
       "\u001b[36m  + ionSphereR0            ::Float64                       ... The effective radius of the ion-sphere model.\u001b[39m\n",
       "\u001b[36m  + NoBoundElectrons       ::Int64                         ... Effective number of bound electrons.\u001b[39m\n",
       "\u001b[36m  + printBefore            ::Bool                          ... True, if all energies and lines are printed before their evaluation.\u001b[39m\n",
       "\u001b[36m  + selectLines            ::Bool                          ... True, if lines are selected individually for the computations.\u001b[39m\n",
       "\u001b[36m  + selectedLines          ::Array{Tuple{Int64,Int64},1}   ... List of lines, given by tupels (inital-level, final-level).\u001b[39m\n",
       "\n",
       "  ────────────────────────────────────────────────────────────────────────────\n",
       "\n",
       "  \u001b[36mPlasmaShift.AugerSettings()\u001b[39m ... constructor for a standard instance of\n",
       "  PlasmaShift.AugerSettings."
      ]
     },
     "execution_count": 8,
     "metadata": {},
     "output_type": "execute_result"
    }
   ],
   "source": [
    "? PlasmaShift.AugerSettings"
   ]
  },
  {
   "cell_type": "code",
   "execution_count": 9,
   "metadata": {},
   "outputs": [
    {
     "data": {
      "text/plain": [
       "plasmaModel:             Debye-Hueckel model  \n",
       "lambdaDebye:             0.25  \n",
       "ionSphereR0:             0.0  \n",
       "NoBoundElectrons:        0  \n",
       "printBefore:             true  \n",
       "selectLines:             false  \n",
       "selectedLines:           Tuple{Int64,Int64}[]  \n"
      ]
     },
     "execution_count": 9,
     "metadata": {},
     "output_type": "execute_result"
    }
   ],
   "source": [
    "PlasmaShift.AugerSettings()   # show the default values"
   ]
  },
  {
   "cell_type": "markdown",
   "metadata": {},
   "source": [
    "We can re-define these settings by specifying the screening parameter and the selected lines to be \n",
    "calculated:"
   ]
  },
  {
   "cell_type": "code",
   "execution_count": 10,
   "metadata": {},
   "outputs": [
    {
     "data": {
      "text/plain": [
       "plasmaModel:             Debye-Hueckel model  \n",
       "lambdaDebye:             0.1  \n",
       "ionSphereR0:             0.0  \n",
       "NoBoundElectrons:        0  \n",
       "printBefore:             true  \n",
       "selectLines:             true  \n",
       "selectedLines:           Tuple{Int64,Int64}[(1, 1), (1, 2)]  \n"
      ]
     },
     "execution_count": 10,
     "metadata": {},
     "output_type": "execute_result"
    }
   ],
   "source": [
    "pSettings = PlasmaShift.AugerSettings(PlasmaShift.DebyeHueckel(), 0.1, 0., 0, true, true, [(1,1), (1,2)])"
   ]
  },
  {
   "cell_type": "markdown",
   "metadata": {},
   "source": [
    "\n",
    "As usual, we can now defined and run the desired computation by *defining* and *performing* an \n",
    "`Atomic.Computation()`:\n"
   ]
  },
  {
   "cell_type": "code",
   "execution_count": 11,
   "metadata": {
    "scrolled": true
   },
   "outputs": [
    {
     "ename": "UndefVarError",
     "evalue": "UndefVarError: AugerInPlasma not defined",
     "output_type": "error",
     "traceback": [
      "UndefVarError: AugerInPlasma not defined",
      "",
      "Stacktrace:",
      " [1] top-level scope at In[11]:2"
     ]
    }
   ],
   "source": [
    "grid = Radial.Grid(Radial.Grid(true), rnt = 2.0e-5, h = 5.0e-2, hp = 1.3e-2, NoPoints = 600)\n",
    "wa   = Atomic.Computation(Atomic.Computation(), name=\"K-LL Auger spectrum in a Debye-Hueckel potential\",  \n",
    "              grid=grid, nuclearModel=Nuclear.Model(26.), \n",
    "              initialConfigs=[Configuration(\"1s 2s^2 2p^6\")],\n",
    "              finalConfigs  =[Configuration(\"1s^2 2s^2 2p^4\"), Configuration(\"1s^2 2s 2p^5\"), \n",
    "                              Configuration(\"1s^2 2p^6\")], process = AugerInPlasma(), processSettings = pSettings)\n",
    "perform(wa)"
   ]
  },
  {
   "cell_type": "markdown",
   "metadata": {},
   "source": [
    "\n",
    "Similar computation will be made available also for photoionization cross sections in the near future.\n"
   ]
  },
  {
   "cell_type": "code",
   "execution_count": null,
   "metadata": {},
   "outputs": [],
   "source": []
  }
 ],
 "metadata": {
  "@webio": {
   "lastCommId": null,
   "lastKernelId": null
  },
  "kernelspec": {
   "display_name": "Julia 1.0.3",
   "language": "julia",
   "name": "julia-1.0"
  },
  "language_info": {
   "file_extension": ".jl",
   "mimetype": "application/julia",
   "name": "julia",
   "version": "1.0.3"
  }
 },
 "nbformat": 4,
 "nbformat_minor": 4
}
