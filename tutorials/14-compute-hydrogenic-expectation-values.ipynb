{
 "cells": [
  {
   "cell_type": "markdown",
   "metadata": {},
   "source": [
    "# Expectation values of hydrogenic ions"
   ]
  },
  {
   "cell_type": "code",
   "execution_count": 1,
   "metadata": {},
   "outputs": [],
   "source": [
    "using JAC\n",
    "using Plots"
   ]
  },
  {
   "cell_type": "markdown",
   "metadata": {},
   "source": [
    "In this tutorial, we would like to look at some basic (and well-known) properties of hydrogen-like ions and compare the nonrelativistic and relativistic theories. Let us first define a default grid and calculate the nonrelativistic electron wave functions for the ground state hydrogen on this grid. Instead of looking at an array of numbers, let's visualise the hydrogen wave function using the plot function. Note, the radial grid points are saved in grid.r ."
   ]
  },
  {
   "cell_type": "code",
   "execution_count": 2,
   "metadata": {},
   "outputs": [
    {
     "data": {
      "image/svg+xml": [
       "<?xml version=\"1.0\" encoding=\"utf-8\"?>\n",
       "<svg xmlns=\"http://www.w3.org/2000/svg\" xmlns:xlink=\"http://www.w3.org/1999/xlink\" width=\"600\" height=\"400\" viewBox=\"0 0 2400 1600\">\n",
       "<defs>\n",
       "  <clipPath id=\"clip960\">\n",
       "    <rect x=\"0\" y=\"0\" width=\"2400\" height=\"1600\"/>\n",
       "  </clipPath>\n",
       "</defs>\n",
       "<path clip-path=\"url(#clip960)\" d=\"\n",
       "M0 1600 L2400 1600 L2400 0 L0 0  Z\n",
       "  \" fill=\"#ffffff\" fill-rule=\"evenodd\" fill-opacity=\"1\"/>\n",
       "<defs>\n",
       "  <clipPath id=\"clip961\">\n",
       "    <rect x=\"480\" y=\"0\" width=\"1681\" height=\"1600\"/>\n",
       "  </clipPath>\n",
       "</defs>\n",
       "<path clip-path=\"url(#clip960)\" d=\"\n",
       "M219.866 1423.18 L2352.76 1423.18 L2352.76 47.2441 L219.866 47.2441  Z\n",
       "  \" fill=\"#ffffff\" fill-rule=\"evenodd\" fill-opacity=\"1\"/>\n",
       "<defs>\n",
       "  <clipPath id=\"clip962\">\n",
       "    <rect x=\"219\" y=\"47\" width=\"2134\" height=\"1377\"/>\n",
       "  </clipPath>\n",
       "</defs>\n",
       "<polyline clip-path=\"url(#clip962)\" style=\"stroke:#000000; stroke-linecap:butt; stroke-linejoin:round; stroke-width:2; stroke-opacity:0.1; fill:none\" points=\"\n",
       "  219.866,1423.18 219.866,47.2441 \n",
       "  \"/>\n",
       "<polyline clip-path=\"url(#clip962)\" style=\"stroke:#000000; stroke-linecap:butt; stroke-linejoin:round; stroke-width:2; stroke-opacity:0.1; fill:none\" points=\"\n",
       "  646.444,1423.18 646.444,47.2441 \n",
       "  \"/>\n",
       "<polyline clip-path=\"url(#clip962)\" style=\"stroke:#000000; stroke-linecap:butt; stroke-linejoin:round; stroke-width:2; stroke-opacity:0.1; fill:none\" points=\"\n",
       "  1073.02,1423.18 1073.02,47.2441 \n",
       "  \"/>\n",
       "<polyline clip-path=\"url(#clip962)\" style=\"stroke:#000000; stroke-linecap:butt; stroke-linejoin:round; stroke-width:2; stroke-opacity:0.1; fill:none\" points=\"\n",
       "  1499.6,1423.18 1499.6,47.2441 \n",
       "  \"/>\n",
       "<polyline clip-path=\"url(#clip962)\" style=\"stroke:#000000; stroke-linecap:butt; stroke-linejoin:round; stroke-width:2; stroke-opacity:0.1; fill:none\" points=\"\n",
       "  1926.18,1423.18 1926.18,47.2441 \n",
       "  \"/>\n",
       "<polyline clip-path=\"url(#clip962)\" style=\"stroke:#000000; stroke-linecap:butt; stroke-linejoin:round; stroke-width:2; stroke-opacity:0.1; fill:none\" points=\"\n",
       "  2352.76,1423.18 2352.76,47.2441 \n",
       "  \"/>\n",
       "<polyline clip-path=\"url(#clip960)\" style=\"stroke:#000000; stroke-linecap:butt; stroke-linejoin:round; stroke-width:4; stroke-opacity:1; fill:none\" points=\"\n",
       "  219.866,1423.18 2352.76,1423.18 \n",
       "  \"/>\n",
       "<polyline clip-path=\"url(#clip960)\" style=\"stroke:#000000; stroke-linecap:butt; stroke-linejoin:round; stroke-width:4; stroke-opacity:1; fill:none\" points=\"\n",
       "  219.866,1423.18 219.866,1404.28 \n",
       "  \"/>\n",
       "<polyline clip-path=\"url(#clip960)\" style=\"stroke:#000000; stroke-linecap:butt; stroke-linejoin:round; stroke-width:4; stroke-opacity:1; fill:none\" points=\"\n",
       "  646.444,1423.18 646.444,1404.28 \n",
       "  \"/>\n",
       "<polyline clip-path=\"url(#clip960)\" style=\"stroke:#000000; stroke-linecap:butt; stroke-linejoin:round; stroke-width:4; stroke-opacity:1; fill:none\" points=\"\n",
       "  1073.02,1423.18 1073.02,1404.28 \n",
       "  \"/>\n",
       "<polyline clip-path=\"url(#clip960)\" style=\"stroke:#000000; stroke-linecap:butt; stroke-linejoin:round; stroke-width:4; stroke-opacity:1; fill:none\" points=\"\n",
       "  1499.6,1423.18 1499.6,1404.28 \n",
       "  \"/>\n",
       "<polyline clip-path=\"url(#clip960)\" style=\"stroke:#000000; stroke-linecap:butt; stroke-linejoin:round; stroke-width:4; stroke-opacity:1; fill:none\" points=\"\n",
       "  1926.18,1423.18 1926.18,1404.28 \n",
       "  \"/>\n",
       "<polyline clip-path=\"url(#clip960)\" style=\"stroke:#000000; stroke-linecap:butt; stroke-linejoin:round; stroke-width:4; stroke-opacity:1; fill:none\" points=\"\n",
       "  2352.76,1423.18 2352.76,1404.28 \n",
       "  \"/>\n",
       "<path clip-path=\"url(#clip960)\" d=\"M219.866 1452.37 Q216.255 1452.37 214.426 1455.94 Q212.621 1459.48 212.621 1466.61 Q212.621 1473.71 214.426 1477.28 Q216.255 1480.82 219.866 1480.82 Q223.501 1480.82 225.306 1477.28 Q227.135 1473.71 227.135 1466.61 Q227.135 1459.48 225.306 1455.94 Q223.501 1452.37 219.866 1452.37 M219.866 1448.67 Q225.676 1448.67 228.732 1453.27 Q231.811 1457.86 231.811 1466.61 Q231.811 1475.33 228.732 1479.94 Q225.676 1484.52 219.866 1484.52 Q214.056 1484.52 210.977 1479.94 Q207.922 1475.33 207.922 1466.61 Q207.922 1457.86 210.977 1453.27 Q214.056 1448.67 219.866 1448.67 Z\" fill=\"#000000\" fill-rule=\"evenodd\" fill-opacity=\"1\" /><path clip-path=\"url(#clip960)\" d=\"M636.826 1479.92 L644.465 1479.92 L644.465 1453.55 L636.155 1455.22 L636.155 1450.96 L644.419 1449.29 L649.095 1449.29 L649.095 1479.92 L656.733 1479.92 L656.733 1483.85 L636.826 1483.85 L636.826 1479.92 Z\" fill=\"#000000\" fill-rule=\"evenodd\" fill-opacity=\"1\" /><path clip-path=\"url(#clip960)\" d=\"M1067.67 1479.92 L1083.99 1479.92 L1083.99 1483.85 L1062.05 1483.85 L1062.05 1479.92 Q1064.71 1477.16 1069.3 1472.53 Q1073.9 1467.88 1075.08 1466.54 Q1077.33 1464.01 1078.21 1462.28 Q1079.11 1460.52 1079.11 1458.83 Q1079.11 1456.07 1077.17 1454.34 Q1075.24 1452.6 1072.14 1452.6 Q1069.94 1452.6 1067.49 1453.37 Q1065.06 1454.13 1062.28 1455.68 L1062.28 1450.96 Q1065.11 1449.82 1067.56 1449.25 Q1070.01 1448.67 1072.05 1448.67 Q1077.42 1448.67 1080.61 1451.35 Q1083.81 1454.04 1083.81 1458.53 Q1083.81 1460.66 1083 1462.58 Q1082.21 1464.48 1080.11 1467.07 Q1079.53 1467.74 1076.42 1470.96 Q1073.32 1474.15 1067.67 1479.92 Z\" fill=\"#000000\" fill-rule=\"evenodd\" fill-opacity=\"1\" /><path clip-path=\"url(#clip960)\" d=\"M1503.85 1465.22 Q1507.2 1465.94 1509.08 1468.2 Q1510.98 1470.47 1510.98 1473.81 Q1510.98 1478.92 1507.46 1481.72 Q1503.94 1484.52 1497.46 1484.52 Q1495.28 1484.52 1492.97 1484.08 Q1490.68 1483.67 1488.22 1482.81 L1488.22 1478.3 Q1490.17 1479.43 1492.48 1480.01 Q1494.8 1480.59 1497.32 1480.59 Q1501.72 1480.59 1504.01 1478.85 Q1506.32 1477.12 1506.32 1473.81 Q1506.32 1470.75 1504.17 1469.04 Q1502.04 1467.3 1498.22 1467.3 L1494.19 1467.3 L1494.19 1463.46 L1498.41 1463.46 Q1501.86 1463.46 1503.69 1462.09 Q1505.51 1460.7 1505.51 1458.11 Q1505.51 1455.45 1503.62 1454.04 Q1501.74 1452.6 1498.22 1452.6 Q1496.3 1452.6 1494.1 1453.02 Q1491.9 1453.44 1489.26 1454.31 L1489.26 1450.15 Q1491.93 1449.41 1494.24 1449.04 Q1496.58 1448.67 1498.64 1448.67 Q1503.96 1448.67 1507.07 1451.1 Q1510.17 1453.5 1510.17 1457.63 Q1510.17 1460.5 1508.52 1462.49 Q1506.88 1464.45 1503.85 1465.22 Z\" fill=\"#000000\" fill-rule=\"evenodd\" fill-opacity=\"1\" /><path clip-path=\"url(#clip960)\" d=\"M1929.19 1453.37 L1917.38 1471.81 L1929.19 1471.81 L1929.19 1453.37 M1927.96 1449.29 L1933.84 1449.29 L1933.84 1471.81 L1938.77 1471.81 L1938.77 1475.7 L1933.84 1475.7 L1933.84 1483.85 L1929.19 1483.85 L1929.19 1475.7 L1913.59 1475.7 L1913.59 1471.19 L1927.96 1449.29 Z\" fill=\"#000000\" fill-rule=\"evenodd\" fill-opacity=\"1\" /><path clip-path=\"url(#clip960)\" d=\"M2343.03 1449.29 L2361.39 1449.29 L2361.39 1453.23 L2347.32 1453.23 L2347.32 1461.7 Q2348.33 1461.35 2349.35 1461.19 Q2350.37 1461 2351.39 1461 Q2357.18 1461 2360.56 1464.18 Q2363.94 1467.35 2363.94 1472.76 Q2363.94 1478.34 2360.46 1481.44 Q2356.99 1484.52 2350.67 1484.52 Q2348.5 1484.52 2346.23 1484.15 Q2343.98 1483.78 2341.58 1483.04 L2341.58 1478.34 Q2343.66 1479.48 2345.88 1480.03 Q2348.1 1480.59 2350.58 1480.59 Q2354.58 1480.59 2356.92 1478.48 Q2359.26 1476.38 2359.26 1472.76 Q2359.26 1469.15 2356.92 1467.05 Q2354.58 1464.94 2350.58 1464.94 Q2348.71 1464.94 2346.83 1465.36 Q2344.98 1465.77 2343.03 1466.65 L2343.03 1449.29 Z\" fill=\"#000000\" fill-rule=\"evenodd\" fill-opacity=\"1\" /><path clip-path=\"url(#clip960)\" d=\"M1296.75 1537.87 Q1295.76 1537.3 1294.59 1537.04 Q1293.44 1536.76 1292.04 1536.76 Q1287.07 1536.76 1284.4 1540 Q1281.76 1543.22 1281.76 1549.27 L1281.76 1568.04 L1275.87 1568.04 L1275.87 1532.4 L1281.76 1532.4 L1281.76 1537.93 Q1283.61 1534.69 1286.57 1533.13 Q1289.53 1531.54 1293.76 1531.54 Q1294.36 1531.54 1295.1 1531.63 Q1295.83 1531.7 1296.72 1531.85 L1296.75 1537.87 Z\" fill=\"#000000\" fill-rule=\"evenodd\" fill-opacity=\"1\" /><polyline clip-path=\"url(#clip962)\" style=\"stroke:#000000; stroke-linecap:butt; stroke-linejoin:round; stroke-width:2; stroke-opacity:0.1; fill:none\" points=\"\n",
       "  219.866,1384.24 2352.76,1384.24 \n",
       "  \"/>\n",
       "<polyline clip-path=\"url(#clip962)\" style=\"stroke:#000000; stroke-linecap:butt; stroke-linejoin:round; stroke-width:2; stroke-opacity:0.1; fill:none\" points=\"\n",
       "  219.866,1031.21 2352.76,1031.21 \n",
       "  \"/>\n",
       "<polyline clip-path=\"url(#clip962)\" style=\"stroke:#000000; stroke-linecap:butt; stroke-linejoin:round; stroke-width:2; stroke-opacity:0.1; fill:none\" points=\"\n",
       "  219.866,678.183 2352.76,678.183 \n",
       "  \"/>\n",
       "<polyline clip-path=\"url(#clip962)\" style=\"stroke:#000000; stroke-linecap:butt; stroke-linejoin:round; stroke-width:2; stroke-opacity:0.1; fill:none\" points=\"\n",
       "  219.866,325.156 2352.76,325.156 \n",
       "  \"/>\n",
       "<polyline clip-path=\"url(#clip960)\" style=\"stroke:#000000; stroke-linecap:butt; stroke-linejoin:round; stroke-width:4; stroke-opacity:1; fill:none\" points=\"\n",
       "  219.866,1423.18 219.866,47.2441 \n",
       "  \"/>\n",
       "<polyline clip-path=\"url(#clip960)\" style=\"stroke:#000000; stroke-linecap:butt; stroke-linejoin:round; stroke-width:4; stroke-opacity:1; fill:none\" points=\"\n",
       "  219.866,1384.24 238.764,1384.24 \n",
       "  \"/>\n",
       "<polyline clip-path=\"url(#clip960)\" style=\"stroke:#000000; stroke-linecap:butt; stroke-linejoin:round; stroke-width:4; stroke-opacity:1; fill:none\" points=\"\n",
       "  219.866,1031.21 238.764,1031.21 \n",
       "  \"/>\n",
       "<polyline clip-path=\"url(#clip960)\" style=\"stroke:#000000; stroke-linecap:butt; stroke-linejoin:round; stroke-width:4; stroke-opacity:1; fill:none\" points=\"\n",
       "  219.866,678.183 238.764,678.183 \n",
       "  \"/>\n",
       "<polyline clip-path=\"url(#clip960)\" style=\"stroke:#000000; stroke-linecap:butt; stroke-linejoin:round; stroke-width:4; stroke-opacity:1; fill:none\" points=\"\n",
       "  219.866,325.156 238.764,325.156 \n",
       "  \"/>\n",
       "<path clip-path=\"url(#clip960)\" d=\"M126.691 1370.04 Q123.08 1370.04 121.251 1373.6 Q119.445 1377.14 119.445 1384.27 Q119.445 1391.38 121.251 1394.94 Q123.08 1398.49 126.691 1398.49 Q130.325 1398.49 132.13 1394.94 Q133.959 1391.38 133.959 1384.27 Q133.959 1377.14 132.13 1373.6 Q130.325 1370.04 126.691 1370.04 M126.691 1366.33 Q132.501 1366.33 135.556 1370.94 Q138.635 1375.52 138.635 1384.27 Q138.635 1393 135.556 1397.61 Q132.501 1402.19 126.691 1402.19 Q120.88 1402.19 117.802 1397.61 Q114.746 1393 114.746 1384.27 Q114.746 1375.52 117.802 1370.94 Q120.88 1366.33 126.691 1366.33 Z\" fill=\"#000000\" fill-rule=\"evenodd\" fill-opacity=\"1\" /><path clip-path=\"url(#clip960)\" d=\"M146.853 1395.64 L151.737 1395.64 L151.737 1401.52 L146.853 1401.52 L146.853 1395.64 Z\" fill=\"#000000\" fill-rule=\"evenodd\" fill-opacity=\"1\" /><path clip-path=\"url(#clip960)\" d=\"M171.922 1370.04 Q168.311 1370.04 166.482 1373.6 Q164.677 1377.14 164.677 1384.27 Q164.677 1391.38 166.482 1394.94 Q168.311 1398.49 171.922 1398.49 Q175.556 1398.49 177.362 1394.94 Q179.19 1391.38 179.19 1384.27 Q179.19 1377.14 177.362 1373.6 Q175.556 1370.04 171.922 1370.04 M171.922 1366.33 Q177.732 1366.33 180.788 1370.94 Q183.866 1375.52 183.866 1384.27 Q183.866 1393 180.788 1397.61 Q177.732 1402.19 171.922 1402.19 Q166.112 1402.19 163.033 1397.61 Q159.978 1393 159.978 1384.27 Q159.978 1375.52 163.033 1370.94 Q166.112 1366.33 171.922 1366.33 Z\" fill=\"#000000\" fill-rule=\"evenodd\" fill-opacity=\"1\" /><path clip-path=\"url(#clip960)\" d=\"M128.288 1017.01 Q124.677 1017.01 122.848 1020.57 Q121.043 1024.12 121.043 1031.25 Q121.043 1038.35 122.848 1041.92 Q124.677 1045.46 128.288 1045.46 Q131.922 1045.46 133.728 1041.92 Q135.556 1038.35 135.556 1031.25 Q135.556 1024.12 133.728 1020.57 Q131.922 1017.01 128.288 1017.01 M128.288 1013.31 Q134.098 1013.31 137.154 1017.91 Q140.232 1022.5 140.232 1031.25 Q140.232 1039.97 137.154 1044.58 Q134.098 1049.16 128.288 1049.16 Q122.478 1049.16 119.399 1044.58 Q116.343 1039.97 116.343 1031.25 Q116.343 1022.5 119.399 1017.91 Q122.478 1013.31 128.288 1013.31 Z\" fill=\"#000000\" fill-rule=\"evenodd\" fill-opacity=\"1\" /><path clip-path=\"url(#clip960)\" d=\"M148.45 1042.61 L153.334 1042.61 L153.334 1048.49 L148.45 1048.49 L148.45 1042.61 Z\" fill=\"#000000\" fill-rule=\"evenodd\" fill-opacity=\"1\" /><path clip-path=\"url(#clip960)\" d=\"M167.547 1044.56 L183.866 1044.56 L183.866 1048.49 L161.922 1048.49 L161.922 1044.56 Q164.584 1041.8 169.167 1037.17 Q173.774 1032.52 174.954 1031.18 Q177.2 1028.65 178.079 1026.92 Q178.982 1025.16 178.982 1023.47 Q178.982 1020.71 177.038 1018.98 Q175.116 1017.24 172.014 1017.24 Q169.815 1017.24 167.362 1018 Q164.931 1018.77 162.153 1020.32 L162.153 1015.6 Q164.977 1014.46 167.431 1013.88 Q169.885 1013.31 171.922 1013.31 Q177.292 1013.31 180.487 1015.99 Q183.681 1018.68 183.681 1023.17 Q183.681 1025.3 182.871 1027.22 Q182.084 1029.12 179.977 1031.71 Q179.399 1032.38 176.297 1035.6 Q173.195 1038.79 167.547 1044.56 Z\" fill=\"#000000\" fill-rule=\"evenodd\" fill-opacity=\"1\" /><path clip-path=\"url(#clip960)\" d=\"M126.205 663.982 Q122.593 663.982 120.765 667.547 Q118.959 671.088 118.959 678.218 Q118.959 685.324 120.765 688.889 Q122.593 692.431 126.205 692.431 Q129.839 692.431 131.644 688.889 Q133.473 685.324 133.473 678.218 Q133.473 671.088 131.644 667.547 Q129.839 663.982 126.205 663.982 M126.205 660.278 Q132.015 660.278 135.07 664.885 Q138.149 669.468 138.149 678.218 Q138.149 686.945 135.07 691.551 Q132.015 696.135 126.205 696.135 Q120.394 696.135 117.316 691.551 Q114.26 686.945 114.26 678.218 Q114.26 669.468 117.316 664.885 Q120.394 660.278 126.205 660.278 Z\" fill=\"#000000\" fill-rule=\"evenodd\" fill-opacity=\"1\" /><path clip-path=\"url(#clip960)\" d=\"M146.366 689.584 L151.251 689.584 L151.251 695.463 L146.366 695.463 L146.366 689.584 Z\" fill=\"#000000\" fill-rule=\"evenodd\" fill-opacity=\"1\" /><path clip-path=\"url(#clip960)\" d=\"M174.283 664.977 L162.477 683.426 L174.283 683.426 L174.283 664.977 M173.056 660.903 L178.936 660.903 L178.936 683.426 L183.866 683.426 L183.866 687.315 L178.936 687.315 L178.936 695.463 L174.283 695.463 L174.283 687.315 L158.681 687.315 L158.681 682.801 L173.056 660.903 Z\" fill=\"#000000\" fill-rule=\"evenodd\" fill-opacity=\"1\" /><path clip-path=\"url(#clip960)\" d=\"M126.529 310.954 Q122.918 310.954 121.089 314.519 Q119.283 318.061 119.283 325.19 Q119.283 332.297 121.089 335.862 Q122.918 339.403 126.529 339.403 Q130.163 339.403 131.968 335.862 Q133.797 332.297 133.797 325.19 Q133.797 318.061 131.968 314.519 Q130.163 310.954 126.529 310.954 M126.529 307.251 Q132.339 307.251 135.394 311.857 Q138.473 316.44 138.473 325.19 Q138.473 333.917 135.394 338.524 Q132.339 343.107 126.529 343.107 Q120.718 343.107 117.64 338.524 Q114.584 333.917 114.584 325.19 Q114.584 316.44 117.64 311.857 Q120.718 307.251 126.529 307.251 Z\" fill=\"#000000\" fill-rule=\"evenodd\" fill-opacity=\"1\" /><path clip-path=\"url(#clip960)\" d=\"M146.691 336.556 L151.575 336.556 L151.575 342.436 L146.691 342.436 L146.691 336.556 Z\" fill=\"#000000\" fill-rule=\"evenodd\" fill-opacity=\"1\" /><path clip-path=\"url(#clip960)\" d=\"M172.339 323.292 Q169.19 323.292 167.339 325.445 Q165.51 327.598 165.51 331.348 Q165.51 335.075 167.339 337.251 Q169.19 339.403 172.339 339.403 Q175.487 339.403 177.315 337.251 Q179.167 335.075 179.167 331.348 Q179.167 327.598 177.315 325.445 Q175.487 323.292 172.339 323.292 M181.621 308.64 L181.621 312.899 Q179.862 312.065 178.056 311.626 Q176.274 311.186 174.514 311.186 Q169.885 311.186 167.431 314.311 Q165.001 317.436 164.653 323.755 Q166.019 321.741 168.079 320.677 Q170.139 319.589 172.616 319.589 Q177.825 319.589 180.834 322.76 Q183.866 325.908 183.866 331.348 Q183.866 336.672 180.718 339.889 Q177.57 343.107 172.339 343.107 Q166.343 343.107 163.172 338.524 Q160.001 333.917 160.001 325.19 Q160.001 316.996 163.89 312.135 Q167.778 307.251 174.329 307.251 Q176.089 307.251 177.871 307.598 Q179.676 307.945 181.621 308.64 Z\" fill=\"#000000\" fill-rule=\"evenodd\" fill-opacity=\"1\" /><path clip-path=\"url(#clip960)\" d=\"M21.7677 781.268 L39.6235 781.268 L39.6235 773.183 Q39.6235 768.696 37.3 766.245 Q34.9765 763.794 30.6797 763.794 Q26.4147 763.794 24.0912 766.245 Q21.7677 768.696 21.7677 773.183 L21.7677 781.268 M16.4842 787.697 L16.4842 773.183 Q16.4842 765.194 20.1126 761.12 Q23.7092 757.015 30.6797 757.015 Q37.7138 757.015 41.3104 761.12 Q44.907 765.194 44.907 773.183 L44.907 781.268 L64.0042 781.268 L64.0042 787.697 L16.4842 787.697 Z\" fill=\"#000000\" fill-rule=\"evenodd\" fill-opacity=\"1\" /><path clip-path=\"url(#clip960)\" d=\"M14.5426 734.575 Q21.8632 738.84 29.0246 740.909 Q36.186 742.978 43.5384 742.978 Q50.8908 742.978 58.1159 740.909 Q65.3091 738.809 72.5979 734.575 L72.5979 739.668 Q65.1182 744.442 57.8931 746.829 Q50.668 749.185 43.5384 749.185 Q36.4406 749.185 29.2474 746.829 Q22.0542 744.474 14.5426 739.668 L14.5426 734.575 Z\" fill=\"#000000\" fill-rule=\"evenodd\" fill-opacity=\"1\" /><path clip-path=\"url(#clip960)\" d=\"M33.8307 702.556 Q33.2578 703.543 33.0032 704.72 Q32.7167 705.866 32.7167 707.267 Q32.7167 712.232 35.9632 714.905 Q39.1779 717.547 45.2253 717.547 L64.0042 717.547 L64.0042 723.435 L28.3562 723.435 L28.3562 717.547 L33.8944 717.547 Q30.6479 715.701 29.0883 712.741 Q27.4968 709.781 27.4968 705.548 Q27.4968 704.943 27.5923 704.211 Q27.656 703.479 27.8151 702.588 L33.8307 702.556 Z\" fill=\"#000000\" fill-rule=\"evenodd\" fill-opacity=\"1\" /><path clip-path=\"url(#clip960)\" d=\"M14.5426 697.336 L14.5426 692.243 Q22.0542 687.469 29.2474 685.114 Q36.4406 682.727 43.5384 682.727 Q50.668 682.727 57.8931 685.114 Q65.1182 687.469 72.5979 692.243 L72.5979 697.336 Q65.3091 693.103 58.1159 691.034 Q50.8908 688.933 43.5384 688.933 Q36.186 688.933 29.0246 691.034 Q21.8632 693.103 14.5426 697.336 Z\" fill=\"#000000\" fill-rule=\"evenodd\" fill-opacity=\"1\" /><polyline clip-path=\"url(#clip962)\" style=\"stroke:#009af9; stroke-linecap:butt; stroke-linejoin:round; stroke-width:4; stroke-opacity:1; fill:none\" points=\"\n",
       "  219.866,1384.24 219.866,1384.24 219.866,1384.24 219.866,1384.24 219.866,1384.24 219.867,1384.24 219.867,1384.24 219.867,1384.24 219.867,1384.24 219.867,1384.23 \n",
       "  219.867,1384.23 219.867,1384.23 219.867,1384.23 219.867,1384.23 219.867,1384.23 219.867,1384.23 219.867,1384.23 219.867,1384.23 219.868,1384.23 219.868,1384.23 \n",
       "  219.868,1384.23 219.868,1384.23 219.868,1384.23 219.868,1384.22 219.868,1384.22 219.868,1384.22 219.869,1384.22 219.869,1384.22 219.869,1384.22 219.869,1384.22 \n",
       "  219.869,1384.21 219.869,1384.21 219.87,1384.21 219.87,1384.21 219.87,1384.21 219.87,1384.21 219.87,1384.2 219.871,1384.2 219.871,1384.2 219.871,1384.2 \n",
       "  219.872,1384.19 219.872,1384.19 219.872,1384.19 219.872,1384.19 219.873,1384.18 219.873,1384.18 219.874,1384.17 219.874,1384.17 219.875,1384.17 219.875,1384.17 \n",
       "  219.875,1384.16 219.876,1384.16 219.877,1384.15 219.878,1384.14 219.878,1384.14 219.879,1384.14 219.879,1384.13 219.879,1384.13 219.88,1384.12 219.882,1384.11 \n",
       "  219.883,1384.1 219.884,1384.09 219.884,1384.09 219.885,1384.09 219.885,1384.08 219.887,1384.07 219.888,1384.06 219.89,1384.04 219.891,1384.03 219.892,1384.02 \n",
       "  219.893,1384.02 219.894,1384.01 219.896,1384 219.898,1383.98 219.9,1383.96 219.902,1383.94 219.903,1383.93 219.904,1383.93 219.906,1383.91 219.908,1383.89 \n",
       "  219.912,1383.86 219.915,1383.84 219.917,1383.81 219.919,1383.8 219.92,1383.79 219.922,1383.77 219.926,1383.74 219.931,1383.7 219.935,1383.67 219.939,1383.63 \n",
       "  219.942,1383.61 219.943,1383.6 219.946,1383.58 219.952,1383.53 219.958,1383.48 219.965,1383.42 219.97,1383.38 219.974,1383.35 219.976,1383.33 219.98,1383.29 \n",
       "  219.988,1383.23 219.997,1383.15 220.006,1383.08 220.014,1383.01 220.019,1382.98 220.022,1382.95 220.028,1382.9 220.039,1382.81 220.052,1382.7 220.066,1382.59 \n",
       "  220.077,1382.5 220.083,1382.44 220.087,1382.41 220.097,1382.33 220.112,1382.2 220.131,1382.05 220.15,1381.9 220.165,1381.77 220.175,1381.69 220.18,1381.64 \n",
       "  220.194,1381.53 220.216,1381.35 220.242,1381.13 220.269,1380.91 220.29,1380.73 220.304,1380.62 220.312,1380.55 220.331,1380.39 220.362,1380.14 220.4,1379.83 \n",
       "  220.438,1379.52 220.469,1379.26 220.488,1379.1 220.499,1379.01 220.527,1378.78 220.571,1378.42 220.624,1377.98 220.677,1377.54 220.721,1377.18 220.749,1376.95 \n",
       "  220.765,1376.82 220.804,1376.5 220.866,1375.98 220.942,1375.36 221.018,1374.74 221.08,1374.22 221.119,1373.9 221.142,1373.71 221.197,1373.26 221.286,1372.53 \n",
       "  221.393,1371.65 221.5,1370.77 221.589,1370.04 221.644,1369.59 221.677,1369.32 221.755,1368.68 221.881,1367.65 222.033,1366.4 222.186,1365.15 222.312,1364.12 \n",
       "  222.39,1363.48 222.436,1363.1 222.546,1362.2 222.725,1360.74 222.942,1358.97 223.158,1357.21 223.337,1355.75 223.447,1354.85 223.513,1354.32 223.67,1353.04 \n",
       "  223.924,1350.98 224.231,1348.49 224.538,1346 224.791,1343.95 224.948,1342.68 225.041,1341.93 225.264,1340.13 225.624,1337.22 226.06,1333.72 226.495,1330.22 \n",
       "  226.856,1327.34 227.078,1325.55 227.211,1324.5 227.527,1321.97 228.038,1317.9 228.656,1312.98 229.274,1308.08 229.785,1304.04 230.101,1301.54 230.289,1300.07 \n",
       "  230.737,1296.54 231.463,1290.84 232.34,1283.99 233.217,1277.16 233.942,1271.53 234.391,1268.06 234.657,1266.01 235.293,1261.1 236.323,1253.2 237.567,1243.7 \n",
       "  238.812,1234.26 239.841,1226.49 240.478,1221.71 240.855,1218.88 241.759,1212.13 243.219,1201.27 244.985,1188.24 246.752,1175.33 248.212,1164.73 249.116,1158.22 \n",
       "  249.651,1154.37 250.933,1145.19 253.006,1130.48 255.512,1112.89 258.019,1095.51 260.092,1081.3 261.374,1072.58 262.134,1067.44 263.953,1055.21 266.894,1035.67 \n",
       "  270.451,1012.42 274.008,989.583 276.949,971 278.768,959.646 279.847,952.961 282.428,937.114 286.603,911.925 291.65,882.181 296.697,853.203 300.871,829.803 \n",
       "  303.452,815.586 304.983,807.245 308.647,787.56 314.57,756.524 321.732,720.295 328.894,685.447 334.818,657.64 338.481,640.896 340.654,631.127 345.852,608.23 \n",
       "  354.258,572.604 364.421,531.779 374.585,493.326 382.991,463.25 388.189,445.411 391.272,435.1 398.649,411.226 410.578,374.926 425,334.689 439.422,298.243 \n",
       "  451.352,270.814 458.728,255.03 463.103,246.08 473.571,225.876 490.499,196.66 510.965,166.69 531.432,142.134 548.36,125.599 558.828,116.973 565.036,112.408 \n",
       "  579.891,103.073 603.913,92.4233 632.956,86.1857 661.999,86.3653 686.021,90.7781 700.876,95.2376 709.686,98.4597 730.765,107.787 764.855,127.194 806.069,156.654 \n",
       "  847.283,191.349 881.372,223.132 902.452,243.899 914.954,256.552 944.867,287.677 993.242,339.915 1051.73,404.857 1110.21,470.3 1158.59,523.949 1188.5,556.652 \n",
       "  1206.24,575.825 1248.69,620.903 1317.34,691.007 1400.33,770.416 1483.33,843.416 1551.98,898.79 1594.43,930.767 1619.6,948.926 1679.84,989.988 1777.25,1049.55 \n",
       "  1895.03,1111.09 2012.81,1162.42 2110.22,1198.11 2170.46,1217.48 2206.19,1228.06 2291.67,1250.92 2429.91,1281.39 2597.04,1309.47 2764.17,1330.16 2902.41,1343 \n",
       "  2987.89,1349.41 3038.59,1352.75 3159.89,1359.52 3356.06,1367.59 3593.23,1373.97 3830.4,1377.94 4026.57,1380.04 4147.88,1380.98 4219.82,1381.44 4391.96,1382.29 \n",
       "  4670.34,1383.15 5006.9,1383.71 5343.46,1383.98 5621.84,1384.1 5793.98,1384.14 5896.07,1384.16 6140.35,1384.19 6535.39,1384.22 7012.99,1384.23 7490.59,1384.24 \n",
       "  7885.63,1384.24 8129.91,1384.24 8274.79,1384.24 8621.44,1384.24 9182.02,1384.24 9859.77,1384.24 10537.5,1384.24 11098.1,1384.24 11444.8,1384.24 11650.3,1384.24 \n",
       "  12142.3,1384.24 12937.8,1384.24 13899.5,1384.24 14861.3,1384.24 15656.8,1384.24 16148.7,1384.24 16440.5,1384.24 17138.6,1384.24 18267.4,1384.24 19632.3,1384.24 \n",
       "  20997.1,1384.24 22126,1384.24 22824,1384.24 23238,1384.24 24228.6,1384.24 25830.6,1384.24 27767.4,1384.24 29704.1,1384.24 31306.1,1384.24 32296.7,1384.24 \n",
       "  32884.2,1384.24 34289.9,1384.24 36563.2,1384.24 39311.6,1384.24 42060,1384.24 44333.3,1384.24 45739,1384.24 46572.8,1384.24 48567.6,1384.24 51793.5,1384.24 \n",
       "  55693.7,1384.24 59593.9,1384.24 62819.8,1384.24 64814.6,1384.24 65997.7,1384.24 68828.5,1384.24 73406.4,1384.24 78941,1384.24 84475.6,1384.24 89053.4,1384.24 \n",
       "  91884.2,1384.24 93563.1,1384.24 97580.2,1384.24 104076,1384.24 111930,1384.24 119784,1384.24 126281,1384.24 130298,1384.24 132680,1384.24 138381,1384.24 \n",
       "  147599,1384.24 158745,1384.24 169890,1384.24 179109,1384.24 184809,1384.24 188190,1384.24 196279,1384.24 209361,1384.24 225177,1384.24 240993,1384.24 \n",
       "  254075,1384.24 262165,1384.24 \n",
       "  \"/>\n",
       "</svg>\n"
      ]
     },
     "execution_count": 2,
     "metadata": {},
     "output_type": "execute_result"
    }
   ],
   "source": [
    "grid = Radial.Grid(true)\n",
    "Z = 1.\n",
    "Pnr_H_1s  = HydrogenicIon.radialOrbital(Shell(\"1s\"), Z, grid)       \n",
    "plot(grid.r, Pnr_H_1s, xlim=(0,5), labels=false, xaxis = \"r\", yaxis=\"P(r)\" )"
   ]
  },
  {
   "cell_type": "markdown",
   "metadata": {},
   "source": [
    "The radial dependence of the wave function is as expected, but we shoud still test it and check whether the generated wave functions are normalised, i.e. $\\langle1s|1s\\rangle = 1$. To do that, we can use the \"Trapz\" integration package, which simply performs trapezoidal integration over common Julia arrays. If you do not have this package installed, you can do it by executing the following."
   ]
  },
  {
   "cell_type": "code",
   "execution_count": 3,
   "metadata": {},
   "outputs": [
    {
     "ename": "LoadError",
     "evalue": "ArgumentError: Package Trapz not found in current path:\n- Run `import Pkg; Pkg.add(\"Trapz\")` to install the Trapz package.\n",
     "output_type": "error",
     "traceback": [
      "ArgumentError: Package Trapz not found in current path:\n- Run `import Pkg; Pkg.add(\"Trapz\")` to install the Trapz package.\n",
      "",
      "Stacktrace:",
      " [1] require(into::Module, mod::Symbol)",
      "   @ Base ./loading.jl:893",
      " [2] eval",
      "   @ ./boot.jl:360 [inlined]",
      " [3] include_string(mapexpr::typeof(REPL.softscope), mod::Module, code::String, filename::String)",
      "   @ Base ./loading.jl:1116"
     ]
    }
   ],
   "source": [
    "#using Pkg\n",
    "#Pkg.add(\"Trapz\")\n",
    "using Trapz"
   ]
  },
  {
   "cell_type": "markdown",
   "metadata": {},
   "source": [
    "Now, the normalisation can be calculated simply by integrating the square of the wave function on the grid it was generated on. Note that for multiplying vectors, one needs to use \".*\" instead of the simple multiplication sign."
   ]
  },
  {
   "cell_type": "code",
   "execution_count": 4,
   "metadata": {},
   "outputs": [
    {
     "ename": "LoadError",
     "evalue": "UndefVarError: trapz not defined",
     "output_type": "error",
     "traceback": [
      "UndefVarError: trapz not defined",
      "",
      "Stacktrace:",
      " [1] top-level scope",
      "   @ In[4]:1",
      " [2] eval",
      "   @ ./boot.jl:360 [inlined]",
      " [3] include_string(mapexpr::typeof(REPL.softscope), mod::Module, code::String, filename::String)",
      "   @ Base ./loading.jl:1116"
     ]
    }
   ],
   "source": [
    "norm = trapz(grid.r, Pnr_H_1s.*Pnr_H_1s)"
   ]
  },
  {
   "cell_type": "markdown",
   "metadata": {},
   "source": [
    "We see that the normalisation is equal to unity, i.e. $\\langle1s|1s\\rangle =1$, as expected. Further, we can verify other known properties of the hydrogen wave function. For example, the expectation values of the $1/r, r$, and $r^2$ operators are analytically known. As is often taught in many university atomic physics courses, the expectation values are $\\langle1s|1/r|1s\\rangle=1 a_0$, $\\langle1s|r|1s\\rangle=3/2 a_0$, $\\langle1s|r^2|1s\\rangle=3 a_0$, where $ a_0 $ is the Bohr radius. Let us verify this with JAC."
   ]
  },
  {
   "cell_type": "code",
   "execution_count": 5,
   "metadata": {},
   "outputs": [
    {
     "ename": "LoadError",
     "evalue": "UndefVarError: trapz not defined",
     "output_type": "error",
     "traceback": [
      "UndefVarError: trapz not defined",
      "",
      "Stacktrace:",
      " [1] top-level scope",
      "   @ In[5]:2",
      " [2] eval",
      "   @ ./boot.jl:360 [inlined]",
      " [3] include_string(mapexpr::typeof(REPL.softscope), mod::Module, code::String, filename::String)",
      "   @ Base ./loading.jl:1116"
     ]
    }
   ],
   "source": [
    "# expectation value of 1/r\n",
    "print(trapz(grid.r, Pnr_H_1s.*Pnr_H_1s./grid.r), \"\\n\")\n",
    "# expectation value of r\n",
    "print(trapz(grid.r, Pnr_H_1s.*Pnr_H_1s.*grid.r), \"\\n\")\n",
    "# expectation value of r^2\n",
    "print(trapz(grid.r, Pnr_H_1s.*Pnr_H_1s.*grid.r.*grid.r), \"\\n\")"
   ]
  },
  {
   "cell_type": "markdown",
   "metadata": {},
   "source": [
    "In JAC, all computations are internally performed and returned always in atomic units and hence $a_0=1$. We can, therefore, see that our calculation confirms the analytically predicted expectation values. \n",
    "\n",
    "Until now, we considered the solutions of the nonrealtivistic tion. Until now, we considered the solutions of the nonrealtivistic . In many cases, these nonrelativistic predictions are rather accurate. For heavy elements, however, the nonrelativistic theory comes short and the relativistic Dirac equation needs to be used instead.  In the following examples, we will compare the nonrelativistic and relativistic radial wave functions and energies in order to get a intuition about the limits of the Schrödinger equation solutions. Firstly, let us generate the relativistic electron wavefunction for the hydrogen atom in its ground state, as well as the nonrelativistic as well as relativistic wave functions for hydrogen-like uranium."
   ]
  },
  {
   "cell_type": "code",
   "execution_count": 6,
   "metadata": {},
   "outputs": [
    {
     "ename": "LoadError",
     "evalue": "UndefVarError: radialOrbital2 not defined",
     "output_type": "error",
     "traceback": [
      "UndefVarError: radialOrbital2 not defined",
      "",
      "Stacktrace:",
      " [1] radialOrbital(sh::Subshell, Z::Float64, grid::JAC.Radial.Grid)",
      "   @ JAC.HydrogenicIon ~/fri/JAC.jl/src/module-HydrogenicIon.jl:116",
      " [2] top-level scope",
      "   @ In[6]:2",
      " [3] eval",
      "   @ ./boot.jl:360 [inlined]",
      " [4] include_string(mapexpr::typeof(REPL.softscope), mod::Module, code::String, filename::String)",
      "   @ Base ./loading.jl:1116"
     ]
    }
   ],
   "source": [
    "Z = 1.\n",
    "PQr_H_1s   = HydrogenicIon.radialOrbital(Subshell(\"1s_1/2\"), Z, grid)   \n",
    "Z = 92.\n",
    "Pnr_U_1s   = HydrogenicIon.radialOrbital(Shell(\"1s\"), Z, grid)     \n",
    "PQr_U_1s   = HydrogenicIon.radialOrbital(Subshell(\"1s_1/2\"), Z, grid)  "
   ]
  },
  {
   "cell_type": "markdown",
   "metadata": {},
   "source": [
    "As before, it might be instructive to check that the generated wave functions are normalised. Then, let us plot the uranium radial wave functions. Note that the relativistic wave function is an array, containing two arrays. These are the large (P) and small (Q) component, respectively. The normalisation of a relativistic wavefunction is then given by $\\langle P| P \\rangle + \\langle Q| Q \\rangle =1$"
   ]
  },
  {
   "cell_type": "code",
   "execution_count": 7,
   "metadata": {},
   "outputs": [
    {
     "ename": "LoadError",
     "evalue": "UndefVarError: PQr_H_1s not defined",
     "output_type": "error",
     "traceback": [
      "UndefVarError: PQr_H_1s not defined",
      "",
      "Stacktrace:",
      " [1] top-level scope",
      "   @ In[7]:1",
      " [2] eval",
      "   @ ./boot.jl:360 [inlined]",
      " [3] include_string(mapexpr::typeof(REPL.softscope), mod::Module, code::String, filename::String)",
      "   @ Base ./loading.jl:1116"
     ]
    }
   ],
   "source": [
    "print(trapz(grid.r, PQr_H_1s[1] .*PQr_H_1s[1]+PQr_H_1s[2].*PQr_H_1s[2]), \"\\n\")\n",
    "print(trapz(grid.r, Pnr_U_1s .*Pnr_U_1s), \"\\n\")\n",
    "print(trapz(grid.r, PQr_U_1s[1] .*PQr_U_1s[1]+PQr_U_1s[2].*PQr_U_1s[2]), \"\\n\")\n",
    "plot(grid.r, [Pnr_U_1s, PQr_U_1s] , xlim=(0,0.08), labels=[\"Nonrelativistic\" \"Relativistic - large component\" \"Relativistic - small component\"  ], xaxis = \"r\", yaxis=\"P(r)\" )"
   ]
  },
  {
   "cell_type": "markdown",
   "metadata": {},
   "source": [
    "We can clearly see, that all wave functions are normalised. Moreover, the peak of the relativistic wave function components is nearer to the nucleus than the nonrelativistic wavefunction. This effect is called the relativistic wave function contraction and it influences all possible observables of the atom. For example, we can calculate a commulative probability which expresses the probability to find the electron anywhere from the nucleus to the given distance $d$ from the nucleus. We can write the probability as $\\int_0^d |P(r)|^2 dr$. Let us calculate and plot this cummulative probability for the hydrogen-like uranium."
   ]
  },
  {
   "cell_type": "code",
   "execution_count": 8,
   "metadata": {},
   "outputs": [
    {
     "ename": "LoadError",
     "evalue": "UndefVarError: Pnr_U_1s not defined",
     "output_type": "error",
     "traceback": [
      "UndefVarError: Pnr_U_1s not defined",
      "",
      "Stacktrace:",
      " [1] top-level scope",
      "   @ ./In[8]:4",
      " [2] eval",
      "   @ ./boot.jl:360 [inlined]",
      " [3] include_string(mapexpr::typeof(REPL.softscope), mod::Module, code::String, filename::String)",
      "   @ Base ./loading.jl:1116"
     ]
    }
   ],
   "source": [
    "Pcummulative_nr = []\n",
    "PQcummulative_r = []\n",
    "for i=1:length(grid.r)\n",
    "    append!(Pcummulative_nr, trapz(grid.r[1:i], Pnr_U_1s[1:i] .*Pnr_U_1s[1:i]))\n",
    "    append!(PQcummulative_r, trapz(grid.r[1:i], PQr_U_1s[1][1:i] .*PQr_U_1s[1][1:i]+PQr_U_1s[2][1:i].*PQr_U_1s[2][1:i]))\n",
    "end\n",
    "plot(grid.r, [Pcummulative_nr, PQcummulative_r], xlim=(0,0.07), xaxis = \"d\", yaxis = \"Pc(0,r)\", labels=[\"nonrelativistic\" \"relativistic\"])"
   ]
  },
  {
   "cell_type": "markdown",
   "metadata": {},
   "source": [
    "Even here, we can see that the relativistic calculation predicts to find the atom much nearer to the nucleus than the nonrelativistic solution. This shift can be also observed in the expectation values $\\langle 1s | r |1s \\rangle$. We already saw, that this expectation value for hydrogen is equal to 3/2, according to the nonrelativistic theory. Let us see, how does this expectation value change if it were calculated relativistically."
   ]
  },
  {
   "cell_type": "code",
   "execution_count": 9,
   "metadata": {},
   "outputs": [
    {
     "ename": "LoadError",
     "evalue": "UndefVarError: trapz not defined",
     "output_type": "error",
     "traceback": [
      "UndefVarError: trapz not defined",
      "",
      "Stacktrace:",
      " [1] top-level scope",
      "   @ In[9]:1",
      " [2] eval",
      "   @ ./boot.jl:360 [inlined]",
      " [3] include_string(mapexpr::typeof(REPL.softscope), mod::Module, code::String, filename::String)",
      "   @ Base ./loading.jl:1116"
     ]
    }
   ],
   "source": [
    "expnr_H_1s = trapz(grid.r, Pnr_H_1s .*Pnr_H_1s.*grid.r)\n",
    "expr_H_1s = trapz(grid.r, (PQr_H_1s[1] .*PQr_H_1s[1]+PQr_H_1s[2].*PQr_H_1s[2]).*grid.r)\n",
    "[expnr_H_1s, expr_H_1s, (expnr_H_1s/expr_H_1s-1)*100]"
   ]
  },
  {
   "cell_type": "markdown",
   "metadata": {},
   "source": [
    "The predictions of nonrelativistic (first number) and relativistic (second number) calculations are nearly identical. The relativistic wave function contraction shifts the expectation value of $r$ in hydrogen by $0.0018\\%$ which is indeed negligible. Let us turn our attention to uranium and repeat the same calculation for this heavy element."
   ]
  },
  {
   "cell_type": "code",
   "execution_count": 10,
   "metadata": {},
   "outputs": [
    {
     "ename": "LoadError",
     "evalue": "UndefVarError: Pnr_U_1s not defined",
     "output_type": "error",
     "traceback": [
      "UndefVarError: Pnr_U_1s not defined",
      "",
      "Stacktrace:",
      " [1] top-level scope",
      "   @ In[10]:1",
      " [2] eval",
      "   @ ./boot.jl:360 [inlined]",
      " [3] include_string(mapexpr::typeof(REPL.softscope), mod::Module, code::String, filename::String)",
      "   @ Base ./loading.jl:1116"
     ]
    }
   ],
   "source": [
    "expnr_U_1s = trapz(grid.r, Pnr_U_1s .*Pnr_U_1s.*grid.r)\n",
    "expr_U_1s = trapz(grid.r, (PQr_U_1s[1] .*PQr_U_1s[1]+PQr_U_1s[2].*PQr_U_1s[2]).*grid.r)\n",
    "[expnr_U_1s, expr_U_1s, (expnr_U_1s/expr_U_1s-1)*100]"
   ]
  },
  {
   "cell_type": "markdown",
   "metadata": {},
   "source": [
    "The relativistic wave function contraction shifts the expectation by more than $20\\%$ in this case, which is far from negligible. This effect can play a significant role in many interactions, such as photoexcitation, photoionization or Auger decays, it is therefore important to keep it in mind and build the intuition on simple hydrogenic systems. \n",
    "Lastly, let inspect the electron binding energies and how they differ between the two theories. Let us first look at our two examples, the hydrogen atom and hydrogen-like uranium."
   ]
  },
  {
   "cell_type": "code",
   "execution_count": 11,
   "metadata": {},
   "outputs": [
    {
     "name": "stdout",
     "output_type": "stream",
     "text": [
      "  Energy for shell 1s is [in eV]: -1.36056930e+01\n",
      "  Energy for subshell 1s_1/2 is [in eV]: -1.36058741e+01\n",
      "  Energy for shell 1s is [in eV]: -1.15158586e+05\n",
      "  Energy for subshell 1s_1/2 is [in eV]: -1.32279933e+05\n"
     ]
    },
    {
     "data": {
      "text/plain": [
       "4-element Vector{Float64}:\n",
       "    -0.5\n",
       "    -0.5000066565952374\n",
       " -4232.0\n",
       " -4861.1979036987195"
      ]
     },
     "execution_count": 11,
     "metadata": {},
     "output_type": "execute_result"
    }
   ],
   "source": [
    "Z = 1.\n",
    "Enr_H_1s =HydrogenicIon.energy(Shell(\"1s\"), Z)\n",
    "Er_H_1s=HydrogenicIon.energy(Subshell(\"1s_1/2\"), Z)\n",
    "Z=92.\n",
    "Enr_U_1s=HydrogenicIon.energy(Shell(\"1s\"), Z)\n",
    "Er_U_1s=HydrogenicIon.energy(Subshell(\"1s_1/2\"), Z)\n",
    "[Enr_H_1s, Er_H_1s, Enr_U_1s, Er_U_1s]"
   ]
  },
  {
   "cell_type": "markdown",
   "metadata": {},
   "source": [
    "As we would expect from our previous calculations, the relativistic effects in hydrogen are small, while they are significant for uranium. To build an intuition, it would be good to know the influence of relativistic effects for all hydrogen-like ions with nuclear charges between 1 and 92."
   ]
  },
  {
   "cell_type": "code",
   "execution_count": 12,
   "metadata": {},
   "outputs": [
    {
     "name": "stdout",
     "output_type": "stream",
     "text": [
      "  Energy for shell 1s is [in eV]: -1.36056930e+01\n",
      "  Energy for subshell 1s_1/2 is [in eV]: -1.36058741e+01\n",
      "  Energy for shell 1s is [in eV]: -5.44227720e+01\n",
      "  Energy for subshell 1s_1/2 is [in eV]: -5.44256704e+01\n",
      "  Energy for shell 1s is [in eV]: -1.22451237e+02\n",
      "  Energy for subshell 1s_1/2 is [in eV]: -1.22465912e+02\n",
      "  Energy for shell 1s is [in eV]: -2.17691088e+02\n",
      "  Energy for subshell 1s_1/2 is [in eV]: -2.17737477e+02\n",
      "  Energy for shell 1s is [in eV]: -3.40142325e+02\n",
      "  Energy for subshell 1s_1/2 is [in eV]: -3.40255607e+02\n",
      "  Energy for shell 1s is [in eV]: -4.89804948e+02\n",
      "  Energy for subshell 1s_1/2 is [in eV]: -4.90039919e+02\n",
      "  Energy for shell 1s is [in eV]: -6.66678957e+02\n",
      "  Energy for subshell 1s_1/2 is [in eV]: -6.67114420e+02\n",
      "  Energy for shell 1s is [in eV]: -8.70764353e+02\n",
      "  Energy for subshell 1s_1/2 is [in eV]: -8.71507530e+02\n",
      "  Energy for shell 1s is [in eV]: -1.10206113e+03\n",
      "  Energy for subshell 1s_1/2 is [in eV]: -1.10325210e+03\n",
      "  Energy for shell 1s is [in eV]: -1.36056930e+03\n",
      "  Energy for subshell 1s_1/2 is [in eV]: -1.36238544e+03\n",
      "  Energy for shell 1s is [in eV]: -1.64628885e+03\n",
      "  Energy for subshell 1s_1/2 is [in eV]: -1.64894936e+03\n",
      "  Energy for shell 1s is [in eV]: -1.95921979e+03\n",
      "  Energy for subshell 1s_1/2 is [in eV]: -1.96299018e+03\n",
      "  Energy for shell 1s is [in eV]: -2.29936212e+03\n",
      "  Energy for subshell 1s_1/2 is [in eV]: -2.30455879e+03\n",
      "  Energy for shell 1s is [in eV]: -2.66671583e+03\n",
      "  Energy for subshell 1s_1/2 is [in eV]: -2.67371069e+03\n",
      "  Energy for shell 1s is [in eV]: -3.06128093e+03\n",
      "  Energy for subshell 1s_1/2 is [in eV]: -3.07050600e+03\n",
      "  Energy for shell 1s is [in eV]: -3.48305741e+03\n",
      "  Energy for subshell 1s_1/2 is [in eV]: -3.49500958e+03\n",
      "  Energy for shell 1s is [in eV]: -3.93204528e+03\n",
      "  Energy for subshell 1s_1/2 is [in eV]: -3.94729101e+03\n",
      "  Energy for shell 1s is [in eV]: -4.40824454e+03\n",
      "  Energy for subshell 1s_1/2 is [in eV]: -4.42742470e+03\n",
      "  Energy for shell 1s is [in eV]: -4.91165518e+03\n",
      "  Energy for subshell 1s_1/2 is [in eV]: -4.93548992e+03\n",
      "  Energy for shell 1s is [in eV]: -5.44227720e+03\n",
      "  Energy for subshell 1s_1/2 is [in eV]: -5.47157089e+03\n",
      "  Energy for shell 1s is [in eV]: -6.00011062e+03\n",
      "  Energy for subshell 1s_1/2 is [in eV]: -6.03575684e+03\n",
      "  Energy for shell 1s is [in eV]: -6.58515542e+03\n",
      "  Energy for subshell 1s_1/2 is [in eV]: -6.62814207e+03\n",
      "  Energy for shell 1s is [in eV]: -7.19741160e+03\n",
      "  Energy for subshell 1s_1/2 is [in eV]: -7.24882607e+03\n",
      "  Energy for shell 1s is [in eV]: -7.83687917e+03\n",
      "  Energy for subshell 1s_1/2 is [in eV]: -7.89791358e+03\n",
      "  Energy for shell 1s is [in eV]: -8.50355813e+03\n",
      "  Energy for subshell 1s_1/2 is [in eV]: -8.57551469e+03\n",
      "  Energy for shell 1s is [in eV]: -9.19744847e+03\n",
      "  Energy for subshell 1s_1/2 is [in eV]: -9.28174492e+03\n",
      "  Energy for shell 1s is [in eV]: -9.91855020e+03\n",
      "  Energy for subshell 1s_1/2 is [in eV]: -1.00167253e+04\n",
      "  Energy for shell 1s is [in eV]: -1.06668633e+04\n",
      "  Energy for subshell 1s_1/2 is [in eV]: -1.07805827e+04\n",
      "  Energy for shell 1s is [in eV]: -1.14423878e+04\n",
      "  Energy for subshell 1s_1/2 is [in eV]: -1.15734495e+04\n",
      "  Energy for shell 1s is [in eV]: -1.22451237e+04\n",
      "  Energy for subshell 1s_1/2 is [in eV]: -1.23954641e+04\n",
      "  Energy for shell 1s is [in eV]: -1.30750710e+04\n",
      "  Energy for subshell 1s_1/2 is [in eV]: -1.32467709e+04\n",
      "  Energy for shell 1s is [in eV]: -1.39322296e+04\n",
      "  Energy for subshell 1s_1/2 is [in eV]: -1.41275205e+04\n",
      "  Energy for shell 1s is [in eV]: -1.48165997e+04\n",
      "  Energy for subshell 1s_1/2 is [in eV]: -1.50378697e+04\n",
      "  Energy for shell 1s is [in eV]: -1.57281811e+04\n",
      "  Energy for subshell 1s_1/2 is [in eV]: -1.59779819e+04\n",
      "  Energy for shell 1s is [in eV]: -1.66669739e+04\n",
      "  Energy for subshell 1s_1/2 is [in eV]: -1.69480270e+04\n",
      "  Energy for shell 1s is [in eV]: -1.76329781e+04\n",
      "  Energy for subshell 1s_1/2 is [in eV]: -1.79481816e+04\n",
      "  Energy for shell 1s is [in eV]: -1.86261937e+04\n",
      "  Energy for subshell 1s_1/2 is [in eV]: -1.89786293e+04\n",
      "  Energy for shell 1s is [in eV]: -1.96466207e+04\n",
      "  Energy for subshell 1s_1/2 is [in eV]: -2.00395609e+04\n",
      "  Energy for shell 1s is [in eV]: -2.06942591e+04\n",
      "  Energy for subshell 1s_1/2 is [in eV]: -2.11311744e+04\n",
      "  Energy for shell 1s is [in eV]: -2.17691088e+04\n",
      "  Energy for subshell 1s_1/2 is [in eV]: -2.22536754e+04\n",
      "  Energy for shell 1s is [in eV]: -2.28711699e+04\n",
      "  Energy for subshell 1s_1/2 is [in eV]: -2.34072773e+04\n",
      "  Energy for shell 1s is [in eV]: -2.40004425e+04\n",
      "  Energy for subshell 1s_1/2 is [in eV]: -2.45922014e+04\n",
      "  Energy for shell 1s is [in eV]: -2.51569264e+04\n",
      "  Energy for subshell 1s_1/2 is [in eV]: -2.58086770e+04\n",
      "  Energy for shell 1s is [in eV]: -2.63406217e+04\n",
      "  Energy for subshell 1s_1/2 is [in eV]: -2.70569422e+04\n",
      "  Energy for shell 1s is [in eV]: -2.75515283e+04\n",
      "  Energy for subshell 1s_1/2 is [in eV]: -2.83372436e+04\n",
      "  Energy for shell 1s is [in eV]: -2.87896464e+04\n",
      "  Energy for subshell 1s_1/2 is [in eV]: -2.96498369e+04\n",
      "  Energy for shell 1s is [in eV]: -3.00549759e+04\n",
      "  Energy for subshell 1s_1/2 is [in eV]: -3.09949868e+04\n",
      "  Energy for shell 1s is [in eV]: -3.13475167e+04\n",
      "  Energy for subshell 1s_1/2 is [in eV]: -3.23729680e+04\n",
      "  Energy for shell 1s is [in eV]: -3.26672689e+04\n",
      "  Energy for subshell 1s_1/2 is [in eV]: -3.37840648e+04\n",
      "  Energy for shell 1s is [in eV]: -3.40142325e+04\n",
      "  Energy for subshell 1s_1/2 is [in eV]: -3.52285719e+04\n",
      "  Energy for shell 1s is [in eV]: -3.53884075e+04\n",
      "  Energy for subshell 1s_1/2 is [in eV]: -3.67067945e+04\n",
      "  Energy for shell 1s is [in eV]: -3.67897939e+04\n",
      "  Energy for subshell 1s_1/2 is [in eV]: -3.82190490e+04\n",
      "  Energy for shell 1s is [in eV]: -3.82183917e+04\n",
      "  Energy for subshell 1s_1/2 is [in eV]: -3.97656629e+04\n",
      "  Energy for shell 1s is [in eV]: -3.96742008e+04\n",
      "  Energy for subshell 1s_1/2 is [in eV]: -4.13469757e+04\n",
      "  Energy for shell 1s is [in eV]: -4.11572214e+04\n",
      "  Energy for subshell 1s_1/2 is [in eV]: -4.29633391e+04\n",
      "  Energy for shell 1s is [in eV]: -4.26674533e+04\n",
      "  Energy for subshell 1s_1/2 is [in eV]: -4.46151175e+04\n",
      "  Energy for shell 1s is [in eV]: -4.42048966e+04\n",
      "  Energy for subshell 1s_1/2 is [in eV]: -4.63026886e+04\n",
      "  Energy for shell 1s is [in eV]: -4.57695513e+04\n",
      "  Energy for subshell 1s_1/2 is [in eV]: -4.80264437e+04\n",
      "  Energy for shell 1s is [in eV]: -4.73614174e+04\n",
      "  Energy for subshell 1s_1/2 is [in eV]: -4.97867886e+04\n",
      "  Energy for shell 1s is [in eV]: -4.89804948e+04\n",
      "  Energy for subshell 1s_1/2 is [in eV]: -5.15841440e+04\n",
      "  Energy for shell 1s is [in eV]: -5.06267837e+04\n",
      "  Energy for subshell 1s_1/2 is [in eV]: -5.34189458e+04\n",
      "  Energy for shell 1s is [in eV]: -5.23002839e+04\n",
      "  Energy for subshell 1s_1/2 is [in eV]: -5.52916464e+04\n",
      "  Energy for shell 1s is [in eV]: -5.40009956e+04\n",
      "  Energy for subshell 1s_1/2 is [in eV]: -5.72027151e+04\n",
      "  Energy for shell 1s is [in eV]: -5.57289186e+04\n",
      "  Energy for subshell 1s_1/2 is [in eV]: -5.91526386e+04\n",
      "  Energy for shell 1s is [in eV]: -5.74840530e+04\n",
      "  Energy for subshell 1s_1/2 is [in eV]: -6.11419222e+04\n",
      "  Energy for shell 1s is [in eV]: -5.92663988e+04\n",
      "  Energy for subshell 1s_1/2 is [in eV]: -6.31710904e+04\n",
      "  Energy for shell 1s is [in eV]: -6.10759559e+04\n",
      "  Energy for subshell 1s_1/2 is [in eV]: -6.52406880e+04\n",
      "  Energy for shell 1s is [in eV]: -6.29127245e+04\n",
      "  Energy for subshell 1s_1/2 is [in eV]: -6.73512806e+04\n",
      "  Energy for shell 1s is [in eV]: -6.47767044e+04\n",
      "  Energy for subshell 1s_1/2 is [in eV]: -6.95034563e+04\n",
      "  Energy for shell 1s is [in eV]: -6.66678957e+04\n",
      "  Energy for subshell 1s_1/2 is [in eV]: -7.16978262e+04\n",
      "  Energy for shell 1s is [in eV]: -6.85862985e+04\n",
      "  Energy for subshell 1s_1/2 is [in eV]: -7.39350258e+04\n",
      "  Energy for shell 1s is [in eV]: -7.05319126e+04\n",
      "  Energy for subshell 1s_1/2 is [in eV]: -7.62157163e+04\n",
      "  Energy for shell 1s is [in eV]: -7.25047381e+04\n",
      "  Energy for subshell 1s_1/2 is [in eV]: -7.85405857e+04\n",
      "  Energy for shell 1s is [in eV]: -7.45047749e+04\n",
      "  Energy for subshell 1s_1/2 is [in eV]: -8.09103506e+04\n",
      "  Energy for shell 1s is [in eV]: -7.65320232e+04\n",
      "  Energy for subshell 1s_1/2 is [in eV]: -8.33257572e+04\n",
      "  Energy for shell 1s is [in eV]: -7.85864828e+04\n",
      "  Energy for subshell 1s_1/2 is [in eV]: -8.57875832e+04\n",
      "  Energy for shell 1s is [in eV]: -8.06681539e+04\n",
      "  Energy for subshell 1s_1/2 is [in eV]: -8.82966399e+04\n",
      "  Energy for shell 1s is [in eV]: -8.27770363e+04\n",
      "  Energy for subshell 1s_1/2 is [in eV]: -9.08537732e+04\n",
      "  Energy for shell 1s is [in eV]: -8.49131301e+04\n",
      "  Energy for subshell 1s_1/2 is [in eV]: -9.34598665e+04\n",
      "  Energy for shell 1s is [in eV]: -8.70764353e+04\n",
      "  Energy for subshell 1s_1/2 is [in eV]: -9.61158425e+04\n",
      "  Energy for shell 1s is [in eV]: -8.92669518e+04\n",
      "  Energy for subshell 1s_1/2 is [in eV]: -9.88226655e+04\n",
      "  Energy for shell 1s is [in eV]: -9.14846798e+04\n",
      "  Energy for subshell 1s_1/2 is [in eV]: -1.01581344e+05\n",
      "  Energy for shell 1s is [in eV]: -9.37296191e+04\n",
      "  Energy for subshell 1s_1/2 is [in eV]: -1.04392933e+05\n",
      "  Energy for shell 1s is [in eV]: -9.60017699e+04\n",
      "  Energy for subshell 1s_1/2 is [in eV]: -1.07258539e+05\n",
      "  Energy for shell 1s is [in eV]: -9.83011320e+04\n",
      "  Energy for subshell 1s_1/2 is [in eV]: -1.10179319e+05\n",
      "  Energy for shell 1s is [in eV]: -1.00627706e+05\n",
      "  Energy for subshell 1s_1/2 is [in eV]: -1.13156490e+05\n",
      "  Energy for shell 1s is [in eV]: -1.02981490e+05\n",
      "  Energy for subshell 1s_1/2 is [in eV]: -1.16191326e+05\n",
      "  Energy for shell 1s is [in eV]: -1.05362487e+05\n",
      "  Energy for subshell 1s_1/2 is [in eV]: -1.19285168e+05\n",
      "  Energy for shell 1s is [in eV]: -1.07770694e+05\n",
      "  Energy for subshell 1s_1/2 is [in eV]: -1.22439426e+05\n",
      "  Energy for shell 1s is [in eV]: -1.10206113e+05\n",
      "  Energy for subshell 1s_1/2 is [in eV]: -1.25655583e+05\n",
      "  Energy for shell 1s is [in eV]: -1.12668744e+05\n",
      "  Energy for subshell 1s_1/2 is [in eV]: -1.28935202e+05\n",
      "  Energy for shell 1s is [in eV]: -1.15158586e+05\n",
      "  Energy for subshell 1s_1/2 is [in eV]: -1.32279933e+05\n"
     ]
    }
   ],
   "source": [
    "Zs = []\n",
    "Enr = []\n",
    "Er = []\n",
    "for Z = 1.:92.\n",
    "    append!(Zs, Z)\n",
    "    append!(Enr, HydrogenicIon.energy(Shell(\"1s\"), Z))\n",
    "    append!(Er, HydrogenicIon.energy(Subshell(\"1s_1/2\"), Z))\n",
    "end"
   ]
  },
  {
   "cell_type": "markdown",
   "metadata": {},
   "source": [
    "To understand the results, let us plot the binding energies of the $1s$ electron of hydrogen-like ions as predicted by both theories as a function of the nuclear charge. "
   ]
  },
  {
   "cell_type": "code",
   "execution_count": 13,
   "metadata": {
    "scrolled": true
   },
   "outputs": [
    {
     "data": {
      "image/svg+xml": [
       "<?xml version=\"1.0\" encoding=\"utf-8\"?>\n",
       "<svg xmlns=\"http://www.w3.org/2000/svg\" xmlns:xlink=\"http://www.w3.org/1999/xlink\" width=\"600\" height=\"400\" viewBox=\"0 0 2400 1600\">\n",
       "<defs>\n",
       "  <clipPath id=\"clip000\">\n",
       "    <rect x=\"0\" y=\"0\" width=\"2400\" height=\"1600\"/>\n",
       "  </clipPath>\n",
       "</defs>\n",
       "<path clip-path=\"url(#clip000)\" d=\"\n",
       "M0 1600 L2400 1600 L2400 0 L0 0  Z\n",
       "  \" fill=\"#ffffff\" fill-rule=\"evenodd\" fill-opacity=\"1\"/>\n",
       "<defs>\n",
       "  <clipPath id=\"clip001\">\n",
       "    <rect x=\"480\" y=\"0\" width=\"1681\" height=\"1600\"/>\n",
       "  </clipPath>\n",
       "</defs>\n",
       "<path clip-path=\"url(#clip000)\" d=\"\n",
       "M302.458 1423.18 L2352.76 1423.18 L2352.76 47.2441 L302.458 47.2441  Z\n",
       "  \" fill=\"#ffffff\" fill-rule=\"evenodd\" fill-opacity=\"1\"/>\n",
       "<defs>\n",
       "  <clipPath id=\"clip002\">\n",
       "    <rect x=\"302\" y=\"47\" width=\"2051\" height=\"1377\"/>\n",
       "  </clipPath>\n",
       "</defs>\n",
       "<polyline clip-path=\"url(#clip002)\" style=\"stroke:#000000; stroke-linecap:butt; stroke-linejoin:round; stroke-width:2; stroke-opacity:0.1; fill:none\" points=\"\n",
       "  339.23,1423.18 339.23,47.2441 \n",
       "  \"/>\n",
       "<polyline clip-path=\"url(#clip002)\" style=\"stroke:#000000; stroke-linecap:butt; stroke-linejoin:round; stroke-width:2; stroke-opacity:0.1; fill:none\" points=\"\n",
       "  764.339,1423.18 764.339,47.2441 \n",
       "  \"/>\n",
       "<polyline clip-path=\"url(#clip002)\" style=\"stroke:#000000; stroke-linecap:butt; stroke-linejoin:round; stroke-width:2; stroke-opacity:0.1; fill:none\" points=\"\n",
       "  1189.45,1423.18 1189.45,47.2441 \n",
       "  \"/>\n",
       "<polyline clip-path=\"url(#clip002)\" style=\"stroke:#000000; stroke-linecap:butt; stroke-linejoin:round; stroke-width:2; stroke-opacity:0.1; fill:none\" points=\"\n",
       "  1614.56,1423.18 1614.56,47.2441 \n",
       "  \"/>\n",
       "<polyline clip-path=\"url(#clip002)\" style=\"stroke:#000000; stroke-linecap:butt; stroke-linejoin:round; stroke-width:2; stroke-opacity:0.1; fill:none\" points=\"\n",
       "  2039.66,1423.18 2039.66,47.2441 \n",
       "  \"/>\n",
       "<polyline clip-path=\"url(#clip000)\" style=\"stroke:#000000; stroke-linecap:butt; stroke-linejoin:round; stroke-width:4; stroke-opacity:1; fill:none\" points=\"\n",
       "  302.458,1423.18 2352.76,1423.18 \n",
       "  \"/>\n",
       "<polyline clip-path=\"url(#clip000)\" style=\"stroke:#000000; stroke-linecap:butt; stroke-linejoin:round; stroke-width:4; stroke-opacity:1; fill:none\" points=\"\n",
       "  339.23,1423.18 339.23,1404.28 \n",
       "  \"/>\n",
       "<polyline clip-path=\"url(#clip000)\" style=\"stroke:#000000; stroke-linecap:butt; stroke-linejoin:round; stroke-width:4; stroke-opacity:1; fill:none\" points=\"\n",
       "  764.339,1423.18 764.339,1404.28 \n",
       "  \"/>\n",
       "<polyline clip-path=\"url(#clip000)\" style=\"stroke:#000000; stroke-linecap:butt; stroke-linejoin:round; stroke-width:4; stroke-opacity:1; fill:none\" points=\"\n",
       "  1189.45,1423.18 1189.45,1404.28 \n",
       "  \"/>\n",
       "<polyline clip-path=\"url(#clip000)\" style=\"stroke:#000000; stroke-linecap:butt; stroke-linejoin:round; stroke-width:4; stroke-opacity:1; fill:none\" points=\"\n",
       "  1614.56,1423.18 1614.56,1404.28 \n",
       "  \"/>\n",
       "<polyline clip-path=\"url(#clip000)\" style=\"stroke:#000000; stroke-linecap:butt; stroke-linejoin:round; stroke-width:4; stroke-opacity:1; fill:none\" points=\"\n",
       "  2039.66,1423.18 2039.66,1404.28 \n",
       "  \"/>\n",
       "<path clip-path=\"url(#clip000)\" d=\"M339.23 1452.37 Q335.619 1452.37 333.791 1455.94 Q331.985 1459.48 331.985 1466.61 Q331.985 1473.71 333.791 1477.28 Q335.619 1480.82 339.23 1480.82 Q342.865 1480.82 344.67 1477.28 Q346.499 1473.71 346.499 1466.61 Q346.499 1459.48 344.67 1455.94 Q342.865 1452.37 339.23 1452.37 M339.23 1448.67 Q345.04 1448.67 348.096 1453.27 Q351.175 1457.86 351.175 1466.61 Q351.175 1475.33 348.096 1479.94 Q345.04 1484.52 339.23 1484.52 Q333.42 1484.52 330.341 1479.94 Q327.286 1475.33 327.286 1466.61 Q327.286 1457.86 330.341 1453.27 Q333.42 1448.67 339.23 1448.67 Z\" fill=\"#000000\" fill-rule=\"evenodd\" fill-opacity=\"1\" /><path clip-path=\"url(#clip000)\" d=\"M743.112 1479.92 L759.431 1479.92 L759.431 1483.85 L737.487 1483.85 L737.487 1479.92 Q740.149 1477.16 744.732 1472.53 Q749.339 1467.88 750.519 1466.54 Q752.765 1464.01 753.644 1462.28 Q754.547 1460.52 754.547 1458.83 Q754.547 1456.07 752.603 1454.34 Q750.681 1452.6 747.579 1452.6 Q745.38 1452.6 742.927 1453.37 Q740.496 1454.13 737.718 1455.68 L737.718 1450.96 Q740.542 1449.82 742.996 1449.25 Q745.45 1448.67 747.487 1448.67 Q752.857 1448.67 756.052 1451.35 Q759.246 1454.04 759.246 1458.53 Q759.246 1460.66 758.436 1462.58 Q757.649 1464.48 755.542 1467.07 Q754.964 1467.74 751.862 1470.96 Q748.76 1474.15 743.112 1479.92 Z\" fill=\"#000000\" fill-rule=\"evenodd\" fill-opacity=\"1\" /><path clip-path=\"url(#clip000)\" d=\"M779.246 1452.37 Q775.635 1452.37 773.806 1455.94 Q772.001 1459.48 772.001 1466.61 Q772.001 1473.71 773.806 1477.28 Q775.635 1480.82 779.246 1480.82 Q782.88 1480.82 784.686 1477.28 Q786.514 1473.71 786.514 1466.61 Q786.514 1459.48 784.686 1455.94 Q782.88 1452.37 779.246 1452.37 M779.246 1448.67 Q785.056 1448.67 788.112 1453.27 Q791.19 1457.86 791.19 1466.61 Q791.19 1475.33 788.112 1479.94 Q785.056 1484.52 779.246 1484.52 Q773.436 1484.52 770.357 1479.94 Q767.302 1475.33 767.302 1466.61 Q767.302 1457.86 770.357 1453.27 Q773.436 1448.67 779.246 1448.67 Z\" fill=\"#000000\" fill-rule=\"evenodd\" fill-opacity=\"1\" /><path clip-path=\"url(#clip000)\" d=\"M1177.62 1453.37 L1165.81 1471.81 L1177.62 1471.81 L1177.62 1453.37 M1176.39 1449.29 L1182.27 1449.29 L1182.27 1471.81 L1187.2 1471.81 L1187.2 1475.7 L1182.27 1475.7 L1182.27 1483.85 L1177.62 1483.85 L1177.62 1475.7 L1162.02 1475.7 L1162.02 1471.19 L1176.39 1449.29 Z\" fill=\"#000000\" fill-rule=\"evenodd\" fill-opacity=\"1\" /><path clip-path=\"url(#clip000)\" d=\"M1204.93 1452.37 Q1201.32 1452.37 1199.49 1455.94 Q1197.69 1459.48 1197.69 1466.61 Q1197.69 1473.71 1199.49 1477.28 Q1201.32 1480.82 1204.93 1480.82 Q1208.57 1480.82 1210.37 1477.28 Q1212.2 1473.71 1212.2 1466.61 Q1212.2 1459.48 1210.37 1455.94 Q1208.57 1452.37 1204.93 1452.37 M1204.93 1448.67 Q1210.74 1448.67 1213.8 1453.27 Q1216.88 1457.86 1216.88 1466.61 Q1216.88 1475.33 1213.8 1479.94 Q1210.74 1484.52 1204.93 1484.52 Q1199.12 1484.52 1196.04 1479.94 Q1192.99 1475.33 1192.99 1466.61 Q1192.99 1457.86 1196.04 1453.27 Q1199.12 1448.67 1204.93 1448.67 Z\" fill=\"#000000\" fill-rule=\"evenodd\" fill-opacity=\"1\" /><path clip-path=\"url(#clip000)\" d=\"M1599.96 1464.71 Q1596.81 1464.71 1594.96 1466.86 Q1593.13 1469.01 1593.13 1472.76 Q1593.13 1476.49 1594.96 1478.67 Q1596.81 1480.82 1599.96 1480.82 Q1603.11 1480.82 1604.94 1478.67 Q1606.79 1476.49 1606.79 1472.76 Q1606.79 1469.01 1604.94 1466.86 Q1603.11 1464.71 1599.96 1464.71 M1609.24 1450.06 L1609.24 1454.31 Q1607.48 1453.48 1605.68 1453.04 Q1603.9 1452.6 1602.14 1452.6 Q1597.51 1452.6 1595.05 1455.73 Q1592.62 1458.85 1592.28 1465.17 Q1593.64 1463.16 1595.7 1462.09 Q1597.76 1461 1600.24 1461 Q1605.45 1461 1608.46 1464.18 Q1611.49 1467.32 1611.49 1472.76 Q1611.49 1478.09 1608.34 1481.31 Q1605.19 1484.52 1599.96 1484.52 Q1593.97 1484.52 1590.79 1479.94 Q1587.62 1475.33 1587.62 1466.61 Q1587.62 1458.41 1591.51 1453.55 Q1595.4 1448.67 1601.95 1448.67 Q1603.71 1448.67 1605.49 1449.01 Q1607.3 1449.36 1609.24 1450.06 Z\" fill=\"#000000\" fill-rule=\"evenodd\" fill-opacity=\"1\" /><path clip-path=\"url(#clip000)\" d=\"M1629.54 1452.37 Q1625.93 1452.37 1624.1 1455.94 Q1622.3 1459.48 1622.3 1466.61 Q1622.3 1473.71 1624.1 1477.28 Q1625.93 1480.82 1629.54 1480.82 Q1633.18 1480.82 1634.98 1477.28 Q1636.81 1473.71 1636.81 1466.61 Q1636.81 1459.48 1634.98 1455.94 Q1633.18 1452.37 1629.54 1452.37 M1629.54 1448.67 Q1635.35 1448.67 1638.41 1453.27 Q1641.49 1457.86 1641.49 1466.61 Q1641.49 1475.33 1638.41 1479.94 Q1635.35 1484.52 1629.54 1484.52 Q1623.73 1484.52 1620.65 1479.94 Q1617.6 1475.33 1617.6 1466.61 Q1617.6 1457.86 1620.65 1453.27 Q1623.73 1448.67 1629.54 1448.67 Z\" fill=\"#000000\" fill-rule=\"evenodd\" fill-opacity=\"1\" /><path clip-path=\"url(#clip000)\" d=\"M2024.54 1467.44 Q2021.2 1467.44 2019.28 1469.22 Q2017.38 1471 2017.38 1474.13 Q2017.38 1477.25 2019.28 1479.04 Q2021.2 1480.82 2024.54 1480.82 Q2027.87 1480.82 2029.79 1479.04 Q2031.71 1477.23 2031.71 1474.13 Q2031.71 1471 2029.79 1469.22 Q2027.89 1467.44 2024.54 1467.44 M2019.86 1465.45 Q2016.85 1464.71 2015.16 1462.65 Q2013.49 1460.59 2013.49 1457.63 Q2013.49 1453.48 2016.43 1451.07 Q2019.4 1448.67 2024.54 1448.67 Q2029.7 1448.67 2032.64 1451.07 Q2035.58 1453.48 2035.58 1457.63 Q2035.58 1460.59 2033.89 1462.65 Q2032.22 1464.71 2029.24 1465.45 Q2032.62 1466.24 2034.49 1468.53 Q2036.39 1470.82 2036.39 1474.13 Q2036.39 1479.15 2033.31 1481.84 Q2030.25 1484.52 2024.54 1484.52 Q2018.82 1484.52 2015.74 1481.84 Q2012.68 1479.15 2012.68 1474.13 Q2012.68 1470.82 2014.58 1468.53 Q2016.48 1466.24 2019.86 1465.45 M2018.15 1458.06 Q2018.15 1460.75 2019.81 1462.25 Q2021.5 1463.76 2024.54 1463.76 Q2027.55 1463.76 2029.24 1462.25 Q2030.95 1460.75 2030.95 1458.06 Q2030.95 1455.38 2029.24 1453.88 Q2027.55 1452.37 2024.54 1452.37 Q2021.5 1452.37 2019.81 1453.88 Q2018.15 1455.38 2018.15 1458.06 Z\" fill=\"#000000\" fill-rule=\"evenodd\" fill-opacity=\"1\" /><path clip-path=\"url(#clip000)\" d=\"M2054.7 1452.37 Q2051.09 1452.37 2049.26 1455.94 Q2047.45 1459.48 2047.45 1466.61 Q2047.45 1473.71 2049.26 1477.28 Q2051.09 1480.82 2054.7 1480.82 Q2058.33 1480.82 2060.14 1477.28 Q2061.97 1473.71 2061.97 1466.61 Q2061.97 1459.48 2060.14 1455.94 Q2058.33 1452.37 2054.7 1452.37 M2054.7 1448.67 Q2060.51 1448.67 2063.56 1453.27 Q2066.64 1457.86 2066.64 1466.61 Q2066.64 1475.33 2063.56 1479.94 Q2060.51 1484.52 2054.7 1484.52 Q2048.89 1484.52 2045.81 1479.94 Q2042.75 1475.33 2042.75 1466.61 Q2042.75 1457.86 2045.81 1453.27 Q2048.89 1448.67 2054.7 1448.67 Z\" fill=\"#000000\" fill-rule=\"evenodd\" fill-opacity=\"1\" /><path clip-path=\"url(#clip000)\" d=\"M1084.63 1520.52 L1093.29 1520.52 L1114.36 1560.28 L1114.36 1520.52 L1120.59 1520.52 L1120.59 1568.04 L1111.94 1568.04 L1090.87 1528.29 L1090.87 1568.04 L1084.63 1568.04 L1084.63 1520.52 Z\" fill=\"#000000\" fill-rule=\"evenodd\" fill-opacity=\"1\" /><path clip-path=\"url(#clip000)\" d=\"M1132.53 1553.98 L1132.53 1532.4 L1138.39 1532.4 L1138.39 1553.75 Q1138.39 1558.81 1140.36 1561.36 Q1142.33 1563.87 1146.28 1563.87 Q1151.02 1563.87 1153.76 1560.85 Q1156.53 1557.83 1156.53 1552.61 L1156.53 1532.4 L1162.39 1532.4 L1162.39 1568.04 L1156.53 1568.04 L1156.53 1562.57 Q1154.4 1565.82 1151.56 1567.41 Q1148.76 1568.97 1145.04 1568.97 Q1138.9 1568.97 1135.71 1565.15 Q1132.53 1561.33 1132.53 1553.98 M1147.27 1531.54 L1147.27 1531.54 Z\" fill=\"#000000\" fill-rule=\"evenodd\" fill-opacity=\"1\" /><path clip-path=\"url(#clip000)\" d=\"M1200.1 1533.76 L1200.1 1539.24 Q1197.62 1537.87 1195.1 1537.2 Q1192.62 1536.5 1190.08 1536.5 Q1184.38 1536.5 1181.23 1540.13 Q1178.08 1543.73 1178.08 1550.25 Q1178.08 1556.78 1181.23 1560.4 Q1184.38 1564 1190.08 1564 Q1192.62 1564 1195.1 1563.33 Q1197.62 1562.63 1200.1 1561.26 L1200.1 1566.68 Q1197.65 1567.82 1195.01 1568.39 Q1192.4 1568.97 1189.44 1568.97 Q1181.39 1568.97 1176.64 1563.91 Q1171.9 1558.85 1171.9 1550.25 Q1171.9 1541.53 1176.68 1536.53 Q1181.48 1531.54 1189.82 1531.54 Q1192.53 1531.54 1195.1 1532.11 Q1197.68 1532.65 1200.1 1533.76 Z\" fill=\"#000000\" fill-rule=\"evenodd\" fill-opacity=\"1\" /><path clip-path=\"url(#clip000)\" d=\"M1210.29 1518.52 L1216.14 1518.52 L1216.14 1568.04 L1210.29 1568.04 L1210.29 1518.52 Z\" fill=\"#000000\" fill-rule=\"evenodd\" fill-opacity=\"1\" /><path clip-path=\"url(#clip000)\" d=\"M1258.89 1548.76 L1258.89 1551.62 L1231.96 1551.62 Q1232.34 1557.67 1235.59 1560.85 Q1238.87 1564 1244.69 1564 Q1248.07 1564 1251.22 1563.17 Q1254.4 1562.35 1257.52 1560.69 L1257.52 1566.23 Q1254.37 1567.57 1251.06 1568.27 Q1247.75 1568.97 1244.34 1568.97 Q1235.81 1568.97 1230.82 1564 Q1225.85 1559.04 1225.85 1550.57 Q1225.85 1541.82 1230.56 1536.69 Q1235.3 1531.54 1243.33 1531.54 Q1250.52 1531.54 1254.69 1536.18 Q1258.89 1540.8 1258.89 1548.76 M1253.03 1547.04 Q1252.97 1542.23 1250.33 1539.37 Q1247.72 1536.5 1243.39 1536.5 Q1238.49 1536.5 1235.53 1539.27 Q1232.6 1542.04 1232.15 1547.07 L1253.03 1547.04 Z\" fill=\"#000000\" fill-rule=\"evenodd\" fill-opacity=\"1\" /><path clip-path=\"url(#clip000)\" d=\"M1284.7 1550.12 Q1277.6 1550.12 1274.87 1551.75 Q1272.13 1553.37 1272.13 1557.29 Q1272.13 1560.4 1274.17 1562.25 Q1276.24 1564.07 1279.77 1564.07 Q1284.64 1564.07 1287.57 1560.63 Q1290.53 1557.16 1290.53 1551.43 L1290.53 1550.12 L1284.7 1550.12 M1296.38 1547.71 L1296.38 1568.04 L1290.53 1568.04 L1290.53 1562.63 Q1288.52 1565.88 1285.53 1567.44 Q1282.54 1568.97 1278.21 1568.97 Q1272.73 1568.97 1269.49 1565.91 Q1266.27 1562.82 1266.27 1557.67 Q1266.27 1551.65 1270.28 1548.6 Q1274.33 1545.54 1282.32 1545.54 L1290.53 1545.54 L1290.53 1544.97 Q1290.53 1540.93 1287.85 1538.73 Q1285.21 1536.5 1280.41 1536.5 Q1277.35 1536.5 1274.45 1537.23 Q1271.56 1537.97 1268.88 1539.43 L1268.88 1534.02 Q1272.1 1532.78 1275.12 1532.17 Q1278.15 1531.54 1281.01 1531.54 Q1288.74 1531.54 1292.56 1535.55 Q1296.38 1539.56 1296.38 1547.71 Z\" fill=\"#000000\" fill-rule=\"evenodd\" fill-opacity=\"1\" /><path clip-path=\"url(#clip000)\" d=\"M1329.1 1537.87 Q1328.12 1537.3 1326.94 1537.04 Q1325.79 1536.76 1324.39 1536.76 Q1319.43 1536.76 1316.75 1540 Q1314.11 1543.22 1314.11 1549.27 L1314.11 1568.04 L1308.22 1568.04 L1308.22 1532.4 L1314.11 1532.4 L1314.11 1537.93 Q1315.96 1534.69 1318.92 1533.13 Q1321.88 1531.54 1326.11 1531.54 Q1326.72 1531.54 1327.45 1531.63 Q1328.18 1531.7 1329.07 1531.85 L1329.1 1537.87 Z\" fill=\"#000000\" fill-rule=\"evenodd\" fill-opacity=\"1\" /><path clip-path=\"url(#clip000)\" d=\"M1381.62 1533.76 L1381.62 1539.24 Q1379.14 1537.87 1376.62 1537.2 Q1374.14 1536.5 1371.59 1536.5 Q1365.9 1536.5 1362.75 1540.13 Q1359.59 1543.73 1359.59 1550.25 Q1359.59 1556.78 1362.75 1560.4 Q1365.9 1564 1371.59 1564 Q1374.14 1564 1376.62 1563.33 Q1379.14 1562.63 1381.62 1561.26 L1381.62 1566.68 Q1379.17 1567.82 1376.53 1568.39 Q1373.92 1568.97 1370.96 1568.97 Q1362.91 1568.97 1358.16 1563.91 Q1353.42 1558.85 1353.42 1550.25 Q1353.42 1541.53 1358.19 1536.53 Q1363 1531.54 1371.34 1531.54 Q1374.04 1531.54 1376.62 1532.11 Q1379.2 1532.65 1381.62 1533.76 Z\" fill=\"#000000\" fill-rule=\"evenodd\" fill-opacity=\"1\" /><path clip-path=\"url(#clip000)\" d=\"M1421.44 1546.53 L1421.44 1568.04 L1415.58 1568.04 L1415.58 1546.72 Q1415.58 1541.66 1413.61 1539.14 Q1411.63 1536.63 1407.69 1536.63 Q1402.95 1536.63 1400.21 1539.65 Q1397.47 1542.68 1397.47 1547.9 L1397.47 1568.04 L1391.58 1568.04 L1391.58 1518.52 L1397.47 1518.52 L1397.47 1537.93 Q1399.57 1534.72 1402.4 1533.13 Q1405.27 1531.54 1408.99 1531.54 Q1415.14 1531.54 1418.29 1535.36 Q1421.44 1539.14 1421.44 1546.53 Z\" fill=\"#000000\" fill-rule=\"evenodd\" fill-opacity=\"1\" /><path clip-path=\"url(#clip000)\" d=\"M1449.32 1550.12 Q1442.22 1550.12 1439.48 1551.75 Q1436.75 1553.37 1436.75 1557.29 Q1436.75 1560.4 1438.78 1562.25 Q1440.85 1564.07 1444.39 1564.07 Q1449.26 1564.07 1452.18 1560.63 Q1455.14 1557.16 1455.14 1551.43 L1455.14 1550.12 L1449.32 1550.12 M1461 1547.71 L1461 1568.04 L1455.14 1568.04 L1455.14 1562.63 Q1453.14 1565.88 1450.15 1567.44 Q1447.16 1568.97 1442.83 1568.97 Q1437.35 1568.97 1434.11 1565.91 Q1430.89 1562.82 1430.89 1557.67 Q1430.89 1551.65 1434.9 1548.6 Q1438.94 1545.54 1446.93 1545.54 L1455.14 1545.54 L1455.14 1544.97 Q1455.14 1540.93 1452.47 1538.73 Q1449.83 1536.5 1445.02 1536.5 Q1441.97 1536.5 1439.07 1537.23 Q1436.17 1537.97 1433.5 1539.43 L1433.5 1534.02 Q1436.72 1532.78 1439.74 1532.17 Q1442.76 1531.54 1445.63 1531.54 Q1453.36 1531.54 1457.18 1535.55 Q1461 1539.56 1461 1547.71 Z\" fill=\"#000000\" fill-rule=\"evenodd\" fill-opacity=\"1\" /><path clip-path=\"url(#clip000)\" d=\"M1493.72 1537.87 Q1492.73 1537.3 1491.56 1537.04 Q1490.41 1536.76 1489.01 1536.76 Q1484.04 1536.76 1481.37 1540 Q1478.73 1543.22 1478.73 1549.27 L1478.73 1568.04 L1472.84 1568.04 L1472.84 1532.4 L1478.73 1532.4 L1478.73 1537.93 Q1480.58 1534.69 1483.54 1533.13 Q1486.5 1531.54 1490.73 1531.54 Q1491.33 1531.54 1492.07 1531.63 Q1492.8 1531.7 1493.69 1531.85 L1493.72 1537.87 Z\" fill=\"#000000\" fill-rule=\"evenodd\" fill-opacity=\"1\" /><path clip-path=\"url(#clip000)\" d=\"M1522.17 1549.81 Q1522.17 1543.44 1519.53 1539.94 Q1516.92 1536.44 1512.18 1536.44 Q1507.47 1536.44 1504.83 1539.94 Q1502.22 1543.44 1502.22 1549.81 Q1502.22 1556.14 1504.83 1559.64 Q1507.47 1563.14 1512.18 1563.14 Q1516.92 1563.14 1519.53 1559.64 Q1522.17 1556.14 1522.17 1549.81 M1528.03 1563.62 Q1528.03 1572.72 1523.99 1577.15 Q1519.95 1581.6 1511.61 1581.6 Q1508.52 1581.6 1505.78 1581.13 Q1503.05 1580.68 1500.47 1579.72 L1500.47 1574.03 Q1503.05 1575.43 1505.56 1576.1 Q1508.07 1576.76 1510.68 1576.76 Q1516.45 1576.76 1519.31 1573.74 Q1522.17 1570.75 1522.17 1564.67 L1522.17 1561.77 Q1520.36 1564.92 1517.53 1566.48 Q1514.7 1568.04 1510.75 1568.04 Q1504.19 1568.04 1500.18 1563.05 Q1496.17 1558.05 1496.17 1549.81 Q1496.17 1541.53 1500.18 1536.53 Q1504.19 1531.54 1510.75 1531.54 Q1514.7 1531.54 1517.53 1533.1 Q1520.36 1534.66 1522.17 1537.81 L1522.17 1532.4 L1528.03 1532.4 L1528.03 1563.62 Z\" fill=\"#000000\" fill-rule=\"evenodd\" fill-opacity=\"1\" /><path clip-path=\"url(#clip000)\" d=\"M1570.59 1548.76 L1570.59 1551.62 L1543.66 1551.62 Q1544.04 1557.67 1547.29 1560.85 Q1550.57 1564 1556.39 1564 Q1559.76 1564 1562.92 1563.17 Q1566.1 1562.35 1569.22 1560.69 L1569.22 1566.23 Q1566.07 1567.57 1562.76 1568.27 Q1559.45 1568.97 1556.04 1568.97 Q1547.51 1568.97 1542.51 1564 Q1537.55 1559.04 1537.55 1550.57 Q1537.55 1541.82 1542.26 1536.69 Q1547 1531.54 1555.02 1531.54 Q1562.22 1531.54 1566.38 1536.18 Q1570.59 1540.8 1570.59 1548.76 M1564.73 1547.04 Q1564.67 1542.23 1562.02 1539.37 Q1559.41 1536.5 1555.09 1536.5 Q1550.18 1536.5 1547.22 1539.27 Q1544.3 1542.04 1543.85 1547.07 L1564.73 1547.04 Z\" fill=\"#000000\" fill-rule=\"evenodd\" fill-opacity=\"1\" /><polyline clip-path=\"url(#clip002)\" style=\"stroke:#000000; stroke-linecap:butt; stroke-linejoin:round; stroke-width:2; stroke-opacity:0.1; fill:none\" points=\"\n",
       "  302.458,1421.31 2352.76,1421.31 \n",
       "  \"/>\n",
       "<polyline clip-path=\"url(#clip002)\" style=\"stroke:#000000; stroke-linecap:butt; stroke-linejoin:round; stroke-width:2; stroke-opacity:0.1; fill:none\" points=\"\n",
       "  302.458,1154.25 2352.76,1154.25 \n",
       "  \"/>\n",
       "<polyline clip-path=\"url(#clip002)\" style=\"stroke:#000000; stroke-linecap:butt; stroke-linejoin:round; stroke-width:2; stroke-opacity:0.1; fill:none\" points=\"\n",
       "  302.458,887.204 2352.76,887.204 \n",
       "  \"/>\n",
       "<polyline clip-path=\"url(#clip002)\" style=\"stroke:#000000; stroke-linecap:butt; stroke-linejoin:round; stroke-width:2; stroke-opacity:0.1; fill:none\" points=\"\n",
       "  302.458,620.153 2352.76,620.153 \n",
       "  \"/>\n",
       "<polyline clip-path=\"url(#clip002)\" style=\"stroke:#000000; stroke-linecap:butt; stroke-linejoin:round; stroke-width:2; stroke-opacity:0.1; fill:none\" points=\"\n",
       "  302.458,353.103 2352.76,353.103 \n",
       "  \"/>\n",
       "<polyline clip-path=\"url(#clip002)\" style=\"stroke:#000000; stroke-linecap:butt; stroke-linejoin:round; stroke-width:2; stroke-opacity:0.1; fill:none\" points=\"\n",
       "  302.458,86.0521 2352.76,86.0521 \n",
       "  \"/>\n",
       "<polyline clip-path=\"url(#clip000)\" style=\"stroke:#000000; stroke-linecap:butt; stroke-linejoin:round; stroke-width:4; stroke-opacity:1; fill:none\" points=\"\n",
       "  302.458,1423.18 302.458,47.2441 \n",
       "  \"/>\n",
       "<polyline clip-path=\"url(#clip000)\" style=\"stroke:#000000; stroke-linecap:butt; stroke-linejoin:round; stroke-width:4; stroke-opacity:1; fill:none\" points=\"\n",
       "  302.458,1421.31 321.356,1421.31 \n",
       "  \"/>\n",
       "<polyline clip-path=\"url(#clip000)\" style=\"stroke:#000000; stroke-linecap:butt; stroke-linejoin:round; stroke-width:4; stroke-opacity:1; fill:none\" points=\"\n",
       "  302.458,1154.25 321.356,1154.25 \n",
       "  \"/>\n",
       "<polyline clip-path=\"url(#clip000)\" style=\"stroke:#000000; stroke-linecap:butt; stroke-linejoin:round; stroke-width:4; stroke-opacity:1; fill:none\" points=\"\n",
       "  302.458,887.204 321.356,887.204 \n",
       "  \"/>\n",
       "<polyline clip-path=\"url(#clip000)\" style=\"stroke:#000000; stroke-linecap:butt; stroke-linejoin:round; stroke-width:4; stroke-opacity:1; fill:none\" points=\"\n",
       "  302.458,620.153 321.356,620.153 \n",
       "  \"/>\n",
       "<polyline clip-path=\"url(#clip000)\" style=\"stroke:#000000; stroke-linecap:butt; stroke-linejoin:round; stroke-width:4; stroke-opacity:1; fill:none\" points=\"\n",
       "  302.458,353.103 321.356,353.103 \n",
       "  \"/>\n",
       "<polyline clip-path=\"url(#clip000)\" style=\"stroke:#000000; stroke-linecap:butt; stroke-linejoin:round; stroke-width:4; stroke-opacity:1; fill:none\" points=\"\n",
       "  302.458,86.0521 321.356,86.0521 \n",
       "  \"/>\n",
       "<path clip-path=\"url(#clip000)\" d=\"M114.26 1421.76 L143.936 1421.76 L143.936 1425.69 L114.26 1425.69 L114.26 1421.76 Z\" fill=\"#000000\" fill-rule=\"evenodd\" fill-opacity=\"1\" /><path clip-path=\"url(#clip000)\" d=\"M154.075 1404.03 L172.431 1404.03 L172.431 1407.96 L158.357 1407.96 L158.357 1416.43 Q159.376 1416.09 160.394 1415.92 Q161.413 1415.74 162.431 1415.74 Q168.218 1415.74 171.598 1418.91 Q174.977 1422.08 174.977 1427.5 Q174.977 1433.08 171.505 1436.18 Q168.033 1439.26 161.714 1439.26 Q159.538 1439.26 157.269 1438.89 Q155.024 1438.52 152.616 1437.78 L152.616 1433.08 Q154.7 1434.21 156.922 1434.77 Q159.144 1435.32 161.621 1435.32 Q165.626 1435.32 167.964 1433.22 Q170.302 1431.11 170.302 1427.5 Q170.302 1423.89 167.964 1421.78 Q165.626 1419.67 161.621 1419.67 Q159.746 1419.67 157.871 1420.09 Q156.019 1420.51 154.075 1421.39 L154.075 1404.03 Z\" fill=\"#000000\" fill-rule=\"evenodd\" fill-opacity=\"1\" /><path clip-path=\"url(#clip000)\" d=\"M194.19 1407.1 Q190.579 1407.1 188.75 1410.67 Q186.945 1414.21 186.945 1421.34 Q186.945 1428.45 188.75 1432.01 Q190.579 1435.55 194.19 1435.55 Q197.825 1435.55 199.63 1432.01 Q201.459 1428.45 201.459 1421.34 Q201.459 1414.21 199.63 1410.67 Q197.825 1407.1 194.19 1407.1 M194.19 1403.4 Q200 1403.4 203.056 1408.01 Q206.135 1412.59 206.135 1421.34 Q206.135 1430.07 203.056 1434.67 Q200 1439.26 194.19 1439.26 Q188.38 1439.26 185.301 1434.67 Q182.246 1430.07 182.246 1421.34 Q182.246 1412.59 185.301 1408.01 Q188.38 1403.4 194.19 1403.4 Z\" fill=\"#000000\" fill-rule=\"evenodd\" fill-opacity=\"1\" /><path clip-path=\"url(#clip000)\" d=\"M224.352 1407.1 Q220.741 1407.1 218.912 1410.67 Q217.107 1414.21 217.107 1421.34 Q217.107 1428.45 218.912 1432.01 Q220.741 1435.55 224.352 1435.55 Q227.986 1435.55 229.792 1432.01 Q231.621 1428.45 231.621 1421.34 Q231.621 1414.21 229.792 1410.67 Q227.986 1407.1 224.352 1407.1 M224.352 1403.4 Q230.162 1403.4 233.218 1408.01 Q236.297 1412.59 236.297 1421.34 Q236.297 1430.07 233.218 1434.67 Q230.162 1439.26 224.352 1439.26 Q218.542 1439.26 215.463 1434.67 Q212.408 1430.07 212.408 1421.34 Q212.408 1412.59 215.463 1408.01 Q218.542 1403.4 224.352 1403.4 Z\" fill=\"#000000\" fill-rule=\"evenodd\" fill-opacity=\"1\" /><path clip-path=\"url(#clip000)\" d=\"M254.514 1407.1 Q250.903 1407.1 249.074 1410.67 Q247.269 1414.21 247.269 1421.34 Q247.269 1428.45 249.074 1432.01 Q250.903 1435.55 254.514 1435.55 Q258.148 1435.55 259.954 1432.01 Q261.783 1428.45 261.783 1421.34 Q261.783 1414.21 259.954 1410.67 Q258.148 1407.1 254.514 1407.1 M254.514 1403.4 Q260.324 1403.4 263.38 1408.01 Q266.458 1412.59 266.458 1421.34 Q266.458 1430.07 263.38 1434.67 Q260.324 1439.26 254.514 1439.26 Q248.704 1439.26 245.625 1434.67 Q242.57 1430.07 242.57 1421.34 Q242.57 1412.59 245.625 1408.01 Q248.704 1403.4 254.514 1403.4 Z\" fill=\"#000000\" fill-rule=\"evenodd\" fill-opacity=\"1\" /><path clip-path=\"url(#clip000)\" d=\"M114.26 1154.71 L143.936 1154.71 L143.936 1158.64 L114.26 1158.64 L114.26 1154.71 Z\" fill=\"#000000\" fill-rule=\"evenodd\" fill-opacity=\"1\" /><path clip-path=\"url(#clip000)\" d=\"M166.876 1141.05 L155.07 1159.5 L166.876 1159.5 L166.876 1141.05 M165.649 1136.97 L171.528 1136.97 L171.528 1159.5 L176.459 1159.5 L176.459 1163.39 L171.528 1163.39 L171.528 1171.53 L166.876 1171.53 L166.876 1163.39 L151.274 1163.39 L151.274 1158.87 L165.649 1136.97 Z\" fill=\"#000000\" fill-rule=\"evenodd\" fill-opacity=\"1\" /><path clip-path=\"url(#clip000)\" d=\"M194.19 1140.05 Q190.579 1140.05 188.75 1143.62 Q186.945 1147.16 186.945 1154.29 Q186.945 1161.4 188.75 1164.96 Q190.579 1168.5 194.19 1168.5 Q197.825 1168.5 199.63 1164.96 Q201.459 1161.4 201.459 1154.29 Q201.459 1147.16 199.63 1143.62 Q197.825 1140.05 194.19 1140.05 M194.19 1136.35 Q200 1136.35 203.056 1140.96 Q206.135 1145.54 206.135 1154.29 Q206.135 1163.02 203.056 1167.62 Q200 1172.21 194.19 1172.21 Q188.38 1172.21 185.301 1167.62 Q182.246 1163.02 182.246 1154.29 Q182.246 1145.54 185.301 1140.96 Q188.38 1136.35 194.19 1136.35 Z\" fill=\"#000000\" fill-rule=\"evenodd\" fill-opacity=\"1\" /><path clip-path=\"url(#clip000)\" d=\"M224.352 1140.05 Q220.741 1140.05 218.912 1143.62 Q217.107 1147.16 217.107 1154.29 Q217.107 1161.4 218.912 1164.96 Q220.741 1168.5 224.352 1168.5 Q227.986 1168.5 229.792 1164.96 Q231.621 1161.4 231.621 1154.29 Q231.621 1147.16 229.792 1143.62 Q227.986 1140.05 224.352 1140.05 M224.352 1136.35 Q230.162 1136.35 233.218 1140.96 Q236.297 1145.54 236.297 1154.29 Q236.297 1163.02 233.218 1167.62 Q230.162 1172.21 224.352 1172.21 Q218.542 1172.21 215.463 1167.62 Q212.408 1163.02 212.408 1154.29 Q212.408 1145.54 215.463 1140.96 Q218.542 1136.35 224.352 1136.35 Z\" fill=\"#000000\" fill-rule=\"evenodd\" fill-opacity=\"1\" /><path clip-path=\"url(#clip000)\" d=\"M254.514 1140.05 Q250.903 1140.05 249.074 1143.62 Q247.269 1147.16 247.269 1154.29 Q247.269 1161.4 249.074 1164.96 Q250.903 1168.5 254.514 1168.5 Q258.148 1168.5 259.954 1164.96 Q261.783 1161.4 261.783 1154.29 Q261.783 1147.16 259.954 1143.62 Q258.148 1140.05 254.514 1140.05 M254.514 1136.35 Q260.324 1136.35 263.38 1140.96 Q266.458 1145.54 266.458 1154.29 Q266.458 1163.02 263.38 1167.62 Q260.324 1172.21 254.514 1172.21 Q248.704 1172.21 245.625 1167.62 Q242.57 1163.02 242.57 1154.29 Q242.57 1145.54 245.625 1140.96 Q248.704 1136.35 254.514 1136.35 Z\" fill=\"#000000\" fill-rule=\"evenodd\" fill-opacity=\"1\" /><path clip-path=\"url(#clip000)\" d=\"M114.26 887.656 L143.936 887.656 L143.936 891.591 L114.26 891.591 L114.26 887.656 Z\" fill=\"#000000\" fill-rule=\"evenodd\" fill-opacity=\"1\" /><path clip-path=\"url(#clip000)\" d=\"M168.195 885.85 Q171.552 886.568 173.427 888.836 Q175.325 891.105 175.325 894.438 Q175.325 899.554 171.806 902.355 Q168.288 905.155 161.806 905.155 Q159.63 905.155 157.315 904.716 Q155.024 904.299 152.57 903.442 L152.57 898.929 Q154.515 900.063 156.829 900.642 Q159.144 901.22 161.667 901.22 Q166.065 901.22 168.357 899.484 Q170.672 897.748 170.672 894.438 Q170.672 891.382 168.519 889.669 Q166.39 887.933 162.57 887.933 L158.542 887.933 L158.542 884.091 L162.755 884.091 Q166.204 884.091 168.033 882.725 Q169.862 881.336 169.862 878.744 Q169.862 876.082 167.964 874.669 Q166.089 873.234 162.57 873.234 Q160.649 873.234 158.45 873.651 Q156.251 874.068 153.612 874.947 L153.612 870.781 Q156.274 870.04 158.589 869.67 Q160.927 869.299 162.987 869.299 Q168.311 869.299 171.413 871.73 Q174.514 874.137 174.514 878.257 Q174.514 881.128 172.871 883.119 Q171.227 885.086 168.195 885.85 Z\" fill=\"#000000\" fill-rule=\"evenodd\" fill-opacity=\"1\" /><path clip-path=\"url(#clip000)\" d=\"M194.19 873.003 Q190.579 873.003 188.75 876.568 Q186.945 880.109 186.945 887.239 Q186.945 894.345 188.75 897.91 Q190.579 901.452 194.19 901.452 Q197.825 901.452 199.63 897.91 Q201.459 894.345 201.459 887.239 Q201.459 880.109 199.63 876.568 Q197.825 873.003 194.19 873.003 M194.19 869.299 Q200 869.299 203.056 873.906 Q206.135 878.489 206.135 887.239 Q206.135 895.966 203.056 900.572 Q200 905.155 194.19 905.155 Q188.38 905.155 185.301 900.572 Q182.246 895.966 182.246 887.239 Q182.246 878.489 185.301 873.906 Q188.38 869.299 194.19 869.299 Z\" fill=\"#000000\" fill-rule=\"evenodd\" fill-opacity=\"1\" /><path clip-path=\"url(#clip000)\" d=\"M224.352 873.003 Q220.741 873.003 218.912 876.568 Q217.107 880.109 217.107 887.239 Q217.107 894.345 218.912 897.91 Q220.741 901.452 224.352 901.452 Q227.986 901.452 229.792 897.91 Q231.621 894.345 231.621 887.239 Q231.621 880.109 229.792 876.568 Q227.986 873.003 224.352 873.003 M224.352 869.299 Q230.162 869.299 233.218 873.906 Q236.297 878.489 236.297 887.239 Q236.297 895.966 233.218 900.572 Q230.162 905.155 224.352 905.155 Q218.542 905.155 215.463 900.572 Q212.408 895.966 212.408 887.239 Q212.408 878.489 215.463 873.906 Q218.542 869.299 224.352 869.299 Z\" fill=\"#000000\" fill-rule=\"evenodd\" fill-opacity=\"1\" /><path clip-path=\"url(#clip000)\" d=\"M254.514 873.003 Q250.903 873.003 249.074 876.568 Q247.269 880.109 247.269 887.239 Q247.269 894.345 249.074 897.91 Q250.903 901.452 254.514 901.452 Q258.148 901.452 259.954 897.91 Q261.783 894.345 261.783 887.239 Q261.783 880.109 259.954 876.568 Q258.148 873.003 254.514 873.003 M254.514 869.299 Q260.324 869.299 263.38 873.906 Q266.458 878.489 266.458 887.239 Q266.458 895.966 263.38 900.572 Q260.324 905.155 254.514 905.155 Q248.704 905.155 245.625 900.572 Q242.57 895.966 242.57 887.239 Q242.57 878.489 245.625 873.906 Q248.704 869.299 254.514 869.299 Z\" fill=\"#000000\" fill-rule=\"evenodd\" fill-opacity=\"1\" /><path clip-path=\"url(#clip000)\" d=\"M114.26 620.605 L143.936 620.605 L143.936 624.54 L114.26 624.54 L114.26 620.605 Z\" fill=\"#000000\" fill-rule=\"evenodd\" fill-opacity=\"1\" /><path clip-path=\"url(#clip000)\" d=\"M158.056 633.498 L174.376 633.498 L174.376 637.433 L152.431 637.433 L152.431 633.498 Q155.093 630.744 159.677 626.114 Q164.283 621.461 165.464 620.119 Q167.709 617.596 168.589 615.86 Q169.491 614.1 169.491 612.41 Q169.491 609.656 167.547 607.92 Q165.626 606.184 162.524 606.184 Q160.325 606.184 157.871 606.948 Q155.44 607.711 152.663 609.262 L152.663 604.54 Q155.487 603.406 157.94 602.827 Q160.394 602.248 162.431 602.248 Q167.802 602.248 170.996 604.934 Q174.19 607.619 174.19 612.11 Q174.19 614.239 173.38 616.16 Q172.593 618.059 170.487 620.651 Q169.908 621.322 166.806 624.54 Q163.704 627.734 158.056 633.498 Z\" fill=\"#000000\" fill-rule=\"evenodd\" fill-opacity=\"1\" /><path clip-path=\"url(#clip000)\" d=\"M194.19 605.952 Q190.579 605.952 188.75 609.517 Q186.945 613.059 186.945 620.188 Q186.945 627.295 188.75 630.859 Q190.579 634.401 194.19 634.401 Q197.825 634.401 199.63 630.859 Q201.459 627.295 201.459 620.188 Q201.459 613.059 199.63 609.517 Q197.825 605.952 194.19 605.952 M194.19 602.248 Q200 602.248 203.056 606.855 Q206.135 611.438 206.135 620.188 Q206.135 628.915 203.056 633.521 Q200 638.105 194.19 638.105 Q188.38 638.105 185.301 633.521 Q182.246 628.915 182.246 620.188 Q182.246 611.438 185.301 606.855 Q188.38 602.248 194.19 602.248 Z\" fill=\"#000000\" fill-rule=\"evenodd\" fill-opacity=\"1\" /><path clip-path=\"url(#clip000)\" d=\"M224.352 605.952 Q220.741 605.952 218.912 609.517 Q217.107 613.059 217.107 620.188 Q217.107 627.295 218.912 630.859 Q220.741 634.401 224.352 634.401 Q227.986 634.401 229.792 630.859 Q231.621 627.295 231.621 620.188 Q231.621 613.059 229.792 609.517 Q227.986 605.952 224.352 605.952 M224.352 602.248 Q230.162 602.248 233.218 606.855 Q236.297 611.438 236.297 620.188 Q236.297 628.915 233.218 633.521 Q230.162 638.105 224.352 638.105 Q218.542 638.105 215.463 633.521 Q212.408 628.915 212.408 620.188 Q212.408 611.438 215.463 606.855 Q218.542 602.248 224.352 602.248 Z\" fill=\"#000000\" fill-rule=\"evenodd\" fill-opacity=\"1\" /><path clip-path=\"url(#clip000)\" d=\"M254.514 605.952 Q250.903 605.952 249.074 609.517 Q247.269 613.059 247.269 620.188 Q247.269 627.295 249.074 630.859 Q250.903 634.401 254.514 634.401 Q258.148 634.401 259.954 630.859 Q261.783 627.295 261.783 620.188 Q261.783 613.059 259.954 609.517 Q258.148 605.952 254.514 605.952 M254.514 602.248 Q260.324 602.248 263.38 606.855 Q266.458 611.438 266.458 620.188 Q266.458 628.915 263.38 633.521 Q260.324 638.105 254.514 638.105 Q248.704 638.105 245.625 633.521 Q242.57 628.915 242.57 620.188 Q242.57 611.438 245.625 606.855 Q248.704 602.248 254.514 602.248 Z\" fill=\"#000000\" fill-rule=\"evenodd\" fill-opacity=\"1\" /><path clip-path=\"url(#clip000)\" d=\"M114.26 353.554 L143.936 353.554 L143.936 357.489 L114.26 357.489 L114.26 353.554 Z\" fill=\"#000000\" fill-rule=\"evenodd\" fill-opacity=\"1\" /><path clip-path=\"url(#clip000)\" d=\"M154.839 366.448 L162.477 366.448 L162.477 340.082 L154.167 341.749 L154.167 337.489 L162.431 335.823 L167.107 335.823 L167.107 366.448 L174.746 366.448 L174.746 370.383 L154.839 370.383 L154.839 366.448 Z\" fill=\"#000000\" fill-rule=\"evenodd\" fill-opacity=\"1\" /><path clip-path=\"url(#clip000)\" d=\"M194.19 338.901 Q190.579 338.901 188.75 342.466 Q186.945 346.008 186.945 353.138 Q186.945 360.244 188.75 363.809 Q190.579 367.35 194.19 367.35 Q197.825 367.35 199.63 363.809 Q201.459 360.244 201.459 353.138 Q201.459 346.008 199.63 342.466 Q197.825 338.901 194.19 338.901 M194.19 335.198 Q200 335.198 203.056 339.804 Q206.135 344.388 206.135 353.138 Q206.135 361.864 203.056 366.471 Q200 371.054 194.19 371.054 Q188.38 371.054 185.301 366.471 Q182.246 361.864 182.246 353.138 Q182.246 344.388 185.301 339.804 Q188.38 335.198 194.19 335.198 Z\" fill=\"#000000\" fill-rule=\"evenodd\" fill-opacity=\"1\" /><path clip-path=\"url(#clip000)\" d=\"M224.352 338.901 Q220.741 338.901 218.912 342.466 Q217.107 346.008 217.107 353.138 Q217.107 360.244 218.912 363.809 Q220.741 367.35 224.352 367.35 Q227.986 367.35 229.792 363.809 Q231.621 360.244 231.621 353.138 Q231.621 346.008 229.792 342.466 Q227.986 338.901 224.352 338.901 M224.352 335.198 Q230.162 335.198 233.218 339.804 Q236.297 344.388 236.297 353.138 Q236.297 361.864 233.218 366.471 Q230.162 371.054 224.352 371.054 Q218.542 371.054 215.463 366.471 Q212.408 361.864 212.408 353.138 Q212.408 344.388 215.463 339.804 Q218.542 335.198 224.352 335.198 Z\" fill=\"#000000\" fill-rule=\"evenodd\" fill-opacity=\"1\" /><path clip-path=\"url(#clip000)\" d=\"M254.514 338.901 Q250.903 338.901 249.074 342.466 Q247.269 346.008 247.269 353.138 Q247.269 360.244 249.074 363.809 Q250.903 367.35 254.514 367.35 Q258.148 367.35 259.954 363.809 Q261.783 360.244 261.783 353.138 Q261.783 346.008 259.954 342.466 Q258.148 338.901 254.514 338.901 M254.514 335.198 Q260.324 335.198 263.38 339.804 Q266.458 344.388 266.458 353.138 Q266.458 361.864 263.38 366.471 Q260.324 371.054 254.514 371.054 Q248.704 371.054 245.625 366.471 Q242.57 361.864 242.57 353.138 Q242.57 344.388 245.625 339.804 Q248.704 335.198 254.514 335.198 Z\" fill=\"#000000\" fill-rule=\"evenodd\" fill-opacity=\"1\" /><path clip-path=\"url(#clip000)\" d=\"M254.514 71.8508 Q250.903 71.8508 249.074 75.4156 Q247.269 78.9573 247.269 86.0869 Q247.269 93.1933 249.074 96.7581 Q250.903 100.3 254.514 100.3 Q258.148 100.3 259.954 96.7581 Q261.783 93.1933 261.783 86.0869 Q261.783 78.9573 259.954 75.4156 Q258.148 71.8508 254.514 71.8508 M254.514 68.1472 Q260.324 68.1472 263.38 72.7536 Q266.458 77.3369 266.458 86.0869 Q266.458 94.8137 263.38 99.4201 Q260.324 104.003 254.514 104.003 Q248.704 104.003 245.625 99.4201 Q242.57 94.8137 242.57 86.0869 Q242.57 77.3369 245.625 72.7536 Q248.704 68.1472 254.514 68.1472 Z\" fill=\"#000000\" fill-rule=\"evenodd\" fill-opacity=\"1\" /><path clip-path=\"url(#clip000)\" d=\"M41.3104 972.239 L58.7206 972.239 L58.7206 961.927 Q58.7206 956.739 56.5881 954.256 Q54.4238 951.741 49.9996 951.741 Q45.5436 951.741 43.4429 954.256 Q41.3104 956.739 41.3104 961.927 L41.3104 972.239 M21.7677 972.239 L36.0905 972.239 L36.0905 962.722 Q36.0905 958.012 34.34 955.72 Q32.5576 953.397 28.9291 953.397 Q25.3325 953.397 23.5501 955.72 Q21.7677 958.012 21.7677 962.722 L21.7677 972.239 M16.4842 978.668 L16.4842 962.245 Q16.4842 954.893 19.5397 950.914 Q22.5952 946.935 28.2289 946.935 Q32.5894 946.935 35.1675 948.972 Q37.7456 951.009 38.3822 954.956 Q39.4007 950.214 42.6472 947.604 Q45.8619 944.962 50.6998 944.962 Q57.0655 944.962 60.5348 949.291 Q64.0042 953.619 64.0042 961.608 L64.0042 978.668 L16.4842 978.668 Z\" fill=\"#000000\" fill-rule=\"evenodd\" fill-opacity=\"1\" /><path clip-path=\"url(#clip000)\" d=\"M28.3562 934.204 L28.3562 928.348 L64.0042 928.348 L64.0042 934.204 L28.3562 934.204 M14.479 934.204 L14.479 928.348 L21.895 928.348 L21.895 934.204 L14.479 934.204 Z\" fill=\"#000000\" fill-rule=\"evenodd\" fill-opacity=\"1\" /><path clip-path=\"url(#clip000)\" d=\"M42.4881 886.461 L64.0042 886.461 L64.0042 892.318 L42.679 892.318 Q37.6183 892.318 35.1038 894.291 Q32.5894 896.264 32.5894 900.211 Q32.5894 904.954 35.6131 907.691 Q38.6368 910.428 43.8567 910.428 L64.0042 910.428 L64.0042 916.316 L28.3562 916.316 L28.3562 910.428 L33.8944 910.428 Q30.6797 908.327 29.0883 905.495 Q27.4968 902.63 27.4968 898.906 Q27.4968 892.763 31.3163 889.612 Q35.1038 886.461 42.4881 886.461 Z\" fill=\"#000000\" fill-rule=\"evenodd\" fill-opacity=\"1\" /><path clip-path=\"url(#clip000)\" d=\"M33.7671 851.322 L14.479 851.322 L14.479 845.466 L64.0042 845.466 L64.0042 851.322 L58.657 851.322 Q61.8398 853.169 63.3994 856.001 Q64.9272 858.802 64.9272 862.749 Q64.9272 869.21 59.771 873.284 Q54.6147 877.326 46.212 877.326 Q37.8093 877.326 32.6531 873.284 Q27.4968 869.21 27.4968 862.749 Q27.4968 858.802 29.0564 856.001 Q30.5842 853.169 33.7671 851.322 M46.212 871.279 Q52.6732 871.279 56.3653 868.637 Q60.0256 865.964 60.0256 861.317 Q60.0256 856.67 56.3653 853.996 Q52.6732 851.322 46.212 851.322 Q39.7508 851.322 36.0905 853.996 Q32.3984 856.67 32.3984 861.317 Q32.3984 865.964 36.0905 868.637 Q39.7508 871.279 46.212 871.279 Z\" fill=\"#000000\" fill-rule=\"evenodd\" fill-opacity=\"1\" /><path clip-path=\"url(#clip000)\" d=\"M28.3562 833.403 L28.3562 827.547 L64.0042 827.547 L64.0042 833.403 L28.3562 833.403 M14.479 833.403 L14.479 827.547 L21.895 827.547 L21.895 833.403 L14.479 833.403 Z\" fill=\"#000000\" fill-rule=\"evenodd\" fill-opacity=\"1\" /><path clip-path=\"url(#clip000)\" d=\"M42.4881 785.66 L64.0042 785.66 L64.0042 791.517 L42.679 791.517 Q37.6183 791.517 35.1038 793.49 Q32.5894 795.463 32.5894 799.41 Q32.5894 804.153 35.6131 806.89 Q38.6368 809.627 43.8567 809.627 L64.0042 809.627 L64.0042 815.515 L28.3562 815.515 L28.3562 809.627 L33.8944 809.627 Q30.6797 807.526 29.0883 804.694 Q27.4968 801.829 27.4968 798.105 Q27.4968 791.962 31.3163 788.811 Q35.1038 785.66 42.4881 785.66 Z\" fill=\"#000000\" fill-rule=\"evenodd\" fill-opacity=\"1\" /><path clip-path=\"url(#clip000)\" d=\"M45.7664 750.521 Q39.4007 750.521 35.8996 753.163 Q32.3984 755.773 32.3984 760.516 Q32.3984 765.226 35.8996 767.868 Q39.4007 770.478 45.7664 770.478 Q52.1003 770.478 55.6014 767.868 Q59.1026 765.226 59.1026 760.516 Q59.1026 755.773 55.6014 753.163 Q52.1003 750.521 45.7664 750.521 M59.58 744.665 Q68.683 744.665 73.1071 748.707 Q77.5631 752.749 77.5631 761.089 Q77.5631 764.176 77.0857 766.913 Q76.6401 769.65 75.6852 772.229 L69.9879 772.229 Q71.3884 769.65 72.0568 767.136 Q72.7252 764.622 72.7252 762.012 Q72.7252 756.251 69.7015 753.386 Q66.7096 750.521 60.6303 750.521 L57.7339 750.521 Q60.885 752.336 62.4446 755.168 Q64.0042 758.001 64.0042 761.948 Q64.0042 768.505 59.0071 772.515 Q54.01 776.525 45.7664 776.525 Q37.491 776.525 32.4939 772.515 Q27.4968 768.505 27.4968 761.948 Q27.4968 758.001 29.0564 755.168 Q30.616 752.336 33.7671 750.521 L28.3562 750.521 L28.3562 744.665 L59.58 744.665 Z\" fill=\"#000000\" fill-rule=\"evenodd\" fill-opacity=\"1\" /><path clip-path=\"url(#clip000)\" d=\"M16.4842 711.627 L16.4842 681.581 L21.895 681.581 L21.895 705.198 L35.9632 705.198 L35.9632 682.568 L41.3741 682.568 L41.3741 705.198 L58.5933 705.198 L58.5933 681.008 L64.0042 681.008 L64.0042 711.627 L16.4842 711.627 Z\" fill=\"#000000\" fill-rule=\"evenodd\" fill-opacity=\"1\" /><path clip-path=\"url(#clip000)\" d=\"M42.4881 641.063 L64.0042 641.063 L64.0042 646.92 L42.679 646.92 Q37.6183 646.92 35.1038 648.893 Q32.5894 650.866 32.5894 654.813 Q32.5894 659.556 35.6131 662.293 Q38.6368 665.03 43.8567 665.03 L64.0042 665.03 L64.0042 670.918 L28.3562 670.918 L28.3562 665.03 L33.8944 665.03 Q30.6797 662.929 29.0883 660.097 Q27.4968 657.232 27.4968 653.508 Q27.4968 647.365 31.3163 644.214 Q35.1038 641.063 42.4881 641.063 Z\" fill=\"#000000\" fill-rule=\"evenodd\" fill-opacity=\"1\" /><path clip-path=\"url(#clip000)\" d=\"M44.7161 598.89 L47.5806 598.89 L47.5806 625.817 Q53.6281 625.435 56.8109 622.189 Q59.9619 618.911 59.9619 613.086 Q59.9619 609.712 59.1344 606.561 Q58.3069 603.378 56.6518 600.259 L62.1899 600.259 Q63.5267 603.41 64.227 606.72 Q64.9272 610.03 64.9272 613.436 Q64.9272 621.966 59.9619 626.963 Q54.9967 631.928 46.5303 631.928 Q37.7774 631.928 32.6531 627.218 Q27.4968 622.475 27.4968 614.455 Q27.4968 607.261 32.1438 603.092 Q36.7589 598.89 44.7161 598.89 M42.9973 604.747 Q38.1912 604.81 35.3266 607.452 Q32.4621 610.062 32.4621 614.391 Q32.4621 619.292 35.2312 622.253 Q38.0002 625.181 43.0292 625.626 L42.9973 604.747 Z\" fill=\"#000000\" fill-rule=\"evenodd\" fill-opacity=\"1\" /><path clip-path=\"url(#clip000)\" d=\"M33.8307 568.621 Q33.2578 569.608 33.0032 570.786 Q32.7167 571.932 32.7167 573.332 Q32.7167 578.297 35.9632 580.971 Q39.1779 583.613 45.2253 583.613 L64.0042 583.613 L64.0042 589.501 L28.3562 589.501 L28.3562 583.613 L33.8944 583.613 Q30.6479 581.767 29.0883 578.807 Q27.4968 575.847 27.4968 571.613 Q27.4968 571.009 27.5923 570.277 Q27.656 569.544 27.8151 568.653 L33.8307 568.621 Z\" fill=\"#000000\" fill-rule=\"evenodd\" fill-opacity=\"1\" /><path clip-path=\"url(#clip000)\" d=\"M45.7664 540.167 Q39.4007 540.167 35.8996 542.808 Q32.3984 545.418 32.3984 550.161 Q32.3984 554.871 35.8996 557.513 Q39.4007 560.123 45.7664 560.123 Q52.1003 560.123 55.6014 557.513 Q59.1026 554.871 59.1026 550.161 Q59.1026 545.418 55.6014 542.808 Q52.1003 540.167 45.7664 540.167 M59.58 534.31 Q68.683 534.31 73.1071 538.352 Q77.5631 542.395 77.5631 550.734 Q77.5631 553.821 77.0857 556.558 Q76.6401 559.296 75.6852 561.874 L69.9879 561.874 Q71.3884 559.296 72.0568 556.781 Q72.7252 554.267 72.7252 551.657 Q72.7252 545.896 69.7015 543.031 Q66.7096 540.167 60.6303 540.167 L57.7339 540.167 Q60.885 541.981 62.4446 544.814 Q64.0042 547.646 64.0042 551.593 Q64.0042 558.15 59.0071 562.16 Q54.01 566.171 45.7664 566.171 Q37.491 566.171 32.4939 562.16 Q27.4968 558.15 27.4968 551.593 Q27.4968 547.646 29.0564 544.814 Q30.616 541.981 33.7671 540.167 L28.3562 540.167 L28.3562 534.31 L59.58 534.31 Z\" fill=\"#000000\" fill-rule=\"evenodd\" fill-opacity=\"1\" /><path clip-path=\"url(#clip000)\" d=\"M67.3143 507.415 Q73.68 509.898 75.6216 512.253 Q77.5631 514.608 77.5631 518.555 L77.5631 523.234 L72.6615 523.234 L72.6615 519.796 Q72.6615 517.377 71.5157 516.041 Q70.3699 514.704 66.1048 513.081 L63.4312 512.03 L28.3562 526.449 L28.3562 520.242 L56.238 509.102 L28.3562 497.962 L28.3562 491.756 L67.3143 507.415 Z\" fill=\"#000000\" fill-rule=\"evenodd\" fill-opacity=\"1\" /><polyline clip-path=\"url(#clip002)\" style=\"stroke:#009af9; stroke-linecap:butt; stroke-linejoin:round; stroke-width:4; stroke-opacity:1; fill:none\" points=\"\n",
       "  360.486,86.1857 381.741,86.5862 402.997,87.2539 424.252,88.1886 445.507,89.3903 466.763,90.8591 488.018,92.5949 509.274,94.5978 530.529,96.8677 551.784,99.4047 \n",
       "  573.04,102.209 594.295,105.28 615.551,108.618 636.806,112.223 658.062,116.095 679.317,120.235 700.572,124.641 721.828,129.314 743.083,134.255 764.339,139.462 \n",
       "  785.594,144.937 806.849,150.678 828.105,156.687 849.36,162.963 870.616,169.505 891.871,176.315 913.127,183.392 934.382,190.736 955.637,198.347 976.893,206.225 \n",
       "  998.148,214.37 1019.4,222.782 1040.66,231.461 1061.91,240.407 1083.17,249.621 1104.43,259.101 1125.68,268.848 1146.94,278.863 1168.19,289.144 1189.45,299.693 \n",
       "  1210.7,310.508 1231.96,321.591 1253.21,332.94 1274.47,344.557 1295.72,356.441 1316.98,368.592 1338.23,381.01 1359.49,393.695 1380.75,406.646 1402,419.865 \n",
       "  1423.26,433.352 1444.51,447.105 1465.77,461.125 1487.02,475.412 1508.28,489.966 1529.53,504.788 1550.79,519.876 1572.04,535.231 1593.3,550.854 1614.56,566.743 \n",
       "  1635.81,582.9 1657.07,599.324 1678.32,616.014 1699.58,632.972 1720.83,650.197 1742.09,667.688 1763.34,685.447 1784.6,703.473 1805.85,721.766 1827.11,740.326 \n",
       "  1848.36,759.153 1869.62,778.247 1890.88,797.609 1912.13,817.237 1933.39,837.132 1954.64,857.294 1975.9,877.724 1997.15,898.42 2018.41,919.384 2039.66,940.614 \n",
       "  2060.92,962.112 2082.17,983.876 2103.43,1005.91 2124.69,1028.21 2145.94,1050.77 2167.2,1073.61 2188.45,1096.71 2209.71,1120.07 2230.96,1143.71 2252.22,1167.61 \n",
       "  2273.47,1191.78 2294.73,1216.21 \n",
       "  \"/>\n",
       "<polyline clip-path=\"url(#clip002)\" style=\"stroke:#e26f46; stroke-linecap:butt; stroke-linejoin:round; stroke-width:4; stroke-opacity:1; fill:none\" points=\"\n",
       "  360.486,86.1857 381.741,86.5863 402.997,87.254 424.252,88.189 445.507,89.3914 466.763,90.8614 488.018,92.5992 509.274,94.6051 530.529,96.8794 551.784,99.4225 \n",
       "  573.04,102.235 594.295,105.317 615.551,108.669 636.806,112.292 658.062,116.186 679.317,120.352 700.572,124.791 721.828,129.503 743.083,134.489 764.339,139.75 \n",
       "  785.594,145.287 806.849,151.1 828.105,157.192 849.36,163.562 870.616,170.212 891.871,177.143 913.127,184.356 934.382,191.852 955.637,199.633 976.893,207.7 \n",
       "  998.148,216.055 1019.4,224.699 1040.66,233.633 1061.91,242.859 1083.17,252.379 1104.43,262.194 1125.68,272.307 1146.94,282.719 1168.19,293.432 1189.45,304.448 \n",
       "  1210.7,315.77 1231.96,327.398 1253.21,339.337 1274.47,351.587 1295.72,364.152 1316.98,377.034 1338.23,390.235 1359.49,403.758 1380.75,417.607 1402,431.783 \n",
       "  1423.26,446.29 1444.51,461.131 1465.77,476.31 1487.02,491.829 1508.28,507.691 1529.53,523.902 1550.79,540.464 1572.04,557.38 1593.3,574.656 1614.56,592.295 \n",
       "  1635.81,610.302 1657.07,628.681 1678.32,647.436 1699.58,666.572 1720.83,686.095 1742.09,706.009 1763.34,726.32 1784.6,747.033 1805.85,768.154 1827.11,789.69 \n",
       "  1848.36,811.645 1869.62,834.028 1890.88,856.844 1912.13,880.101 1933.39,903.805 1954.64,927.966 1975.9,952.589 1997.15,977.685 2018.41,1003.26 2039.66,1029.33 \n",
       "  2060.92,1055.89 2082.17,1082.96 2103.43,1110.56 2124.69,1138.68 2145.94,1167.34 2167.2,1196.56 2188.45,1226.35 2209.71,1256.71 2230.96,1287.66 2252.22,1319.23 \n",
       "  2273.47,1351.41 2294.73,1384.24 \n",
       "  \"/>\n",
       "<path clip-path=\"url(#clip000)\" d=\"\n",
       "M1724.34 248.629 L2284.41 248.629 L2284.41 93.1086 L1724.34 93.1086  Z\n",
       "  \" fill=\"#ffffff\" fill-rule=\"evenodd\" fill-opacity=\"1\"/>\n",
       "<polyline clip-path=\"url(#clip000)\" style=\"stroke:#000000; stroke-linecap:butt; stroke-linejoin:round; stroke-width:4; stroke-opacity:1; fill:none\" points=\"\n",
       "  1724.34,248.629 2284.41,248.629 2284.41,93.1086 1724.34,93.1086 1724.34,248.629 \n",
       "  \"/>\n",
       "<polyline clip-path=\"url(#clip000)\" style=\"stroke:#009af9; stroke-linecap:butt; stroke-linejoin:round; stroke-width:4; stroke-opacity:1; fill:none\" points=\"\n",
       "  1747.12,144.949 1883.8,144.949 \n",
       "  \"/>\n",
       "<path clip-path=\"url(#clip000)\" d=\"M1906.58 127.669 L1912.88 127.669 L1928.2 156.581 L1928.2 127.669 L1932.74 127.669 L1932.74 162.229 L1926.44 162.229 L1911.12 133.317 L1911.12 162.229 L1906.58 162.229 L1906.58 127.669 Z\" fill=\"#000000\" fill-rule=\"evenodd\" fill-opacity=\"1\" /><path clip-path=\"url(#clip000)\" d=\"M1951.91 139.289 Q1948.48 139.289 1946.49 141.974 Q1944.5 144.636 1944.5 149.289 Q1944.5 153.942 1946.47 156.627 Q1948.46 159.289 1951.91 159.289 Q1955.31 159.289 1957.3 156.604 Q1959.29 153.918 1959.29 149.289 Q1959.29 144.682 1957.3 141.997 Q1955.31 139.289 1951.91 139.289 M1951.91 135.678 Q1957.46 135.678 1960.63 139.289 Q1963.81 142.9 1963.81 149.289 Q1963.81 155.655 1960.63 159.289 Q1957.46 162.9 1951.91 162.9 Q1946.33 162.9 1943.16 159.289 Q1940.01 155.655 1940.01 149.289 Q1940.01 142.9 1943.16 139.289 Q1946.33 135.678 1951.91 135.678 Z\" fill=\"#000000\" fill-rule=\"evenodd\" fill-opacity=\"1\" /><path clip-path=\"url(#clip000)\" d=\"M1992.42 146.581 L1992.42 162.229 L1988.16 162.229 L1988.16 146.719 Q1988.16 143.039 1986.72 141.21 Q1985.29 139.382 1982.42 139.382 Q1978.97 139.382 1976.98 141.581 Q1974.99 143.78 1974.99 147.576 L1974.99 162.229 L1970.7 162.229 L1970.7 136.303 L1974.99 136.303 L1974.99 140.331 Q1976.51 137.993 1978.57 136.835 Q1980.66 135.678 1983.37 135.678 Q1987.83 135.678 1990.12 138.456 Q1992.42 141.21 1992.42 146.581 Z\" fill=\"#000000\" fill-rule=\"evenodd\" fill-opacity=\"1\" /><path clip-path=\"url(#clip000)\" d=\"M2015.94 140.284 Q2015.22 139.868 2014.36 139.682 Q2013.53 139.474 2012.51 139.474 Q2008.9 139.474 2006.95 141.835 Q2005.03 144.173 2005.03 148.571 L2005.03 162.229 L2000.75 162.229 L2000.75 136.303 L2005.03 136.303 L2005.03 140.331 Q2006.37 137.969 2008.53 136.835 Q2010.68 135.678 2013.76 135.678 Q2014.2 135.678 2014.73 135.747 Q2015.26 135.794 2015.91 135.909 L2015.94 140.284 Z\" fill=\"#000000\" fill-rule=\"evenodd\" fill-opacity=\"1\" /><path clip-path=\"url(#clip000)\" d=\"M2041.54 148.201 L2041.54 150.284 L2021.95 150.284 Q2022.23 154.682 2024.59 156.997 Q2026.98 159.289 2031.21 159.289 Q2033.67 159.289 2035.96 158.687 Q2038.27 158.085 2040.54 156.881 L2040.54 160.909 Q2038.25 161.881 2035.84 162.391 Q2033.43 162.9 2030.96 162.9 Q2024.75 162.9 2021.12 159.289 Q2017.51 155.678 2017.51 149.52 Q2017.51 143.155 2020.93 139.428 Q2024.38 135.678 2030.22 135.678 Q2035.45 135.678 2038.48 139.057 Q2041.54 142.414 2041.54 148.201 M2037.28 146.951 Q2037.23 143.456 2035.31 141.372 Q2033.41 139.289 2030.26 139.289 Q2026.7 139.289 2024.55 141.303 Q2022.42 143.317 2022.09 146.974 L2037.28 146.951 Z\" fill=\"#000000\" fill-rule=\"evenodd\" fill-opacity=\"1\" /><path clip-path=\"url(#clip000)\" d=\"M2048.53 126.21 L2052.79 126.21 L2052.79 162.229 L2048.53 162.229 L2048.53 126.21 Z\" fill=\"#000000\" fill-rule=\"evenodd\" fill-opacity=\"1\" /><path clip-path=\"url(#clip000)\" d=\"M2073.48 149.196 Q2068.32 149.196 2066.33 150.377 Q2064.34 151.557 2064.34 154.405 Q2064.34 156.673 2065.82 158.016 Q2067.32 159.335 2069.89 159.335 Q2073.43 159.335 2075.56 156.835 Q2077.72 154.312 2077.72 150.145 L2077.72 149.196 L2073.48 149.196 M2081.98 147.437 L2081.98 162.229 L2077.72 162.229 L2077.72 158.293 Q2076.26 160.655 2074.08 161.789 Q2071.91 162.9 2068.76 162.9 Q2064.78 162.9 2062.42 160.678 Q2060.08 158.432 2060.08 154.682 Q2060.08 150.307 2062.99 148.085 Q2065.93 145.863 2071.74 145.863 L2077.72 145.863 L2077.72 145.446 Q2077.72 142.507 2075.77 140.909 Q2073.85 139.289 2070.36 139.289 Q2068.13 139.289 2066.03 139.821 Q2063.92 140.354 2061.98 141.419 L2061.98 137.483 Q2064.31 136.581 2066.51 136.141 Q2068.71 135.678 2070.8 135.678 Q2076.42 135.678 2079.2 138.594 Q2081.98 141.511 2081.98 147.437 Z\" fill=\"#000000\" fill-rule=\"evenodd\" fill-opacity=\"1\" /><path clip-path=\"url(#clip000)\" d=\"M2094.96 128.942 L2094.96 136.303 L2103.74 136.303 L2103.74 139.613 L2094.96 139.613 L2094.96 153.687 Q2094.96 156.858 2095.82 157.761 Q2096.7 158.664 2099.36 158.664 L2103.74 158.664 L2103.74 162.229 L2099.36 162.229 Q2094.43 162.229 2092.55 160.4 Q2090.68 158.548 2090.68 153.687 L2090.68 139.613 L2087.56 139.613 L2087.56 136.303 L2090.68 136.303 L2090.68 128.942 L2094.96 128.942 Z\" fill=\"#000000\" fill-rule=\"evenodd\" fill-opacity=\"1\" /><path clip-path=\"url(#clip000)\" d=\"M2109.34 136.303 L2113.6 136.303 L2113.6 162.229 L2109.34 162.229 L2109.34 136.303 M2109.34 126.21 L2113.6 126.21 L2113.6 131.604 L2109.34 131.604 L2109.34 126.21 Z\" fill=\"#000000\" fill-rule=\"evenodd\" fill-opacity=\"1\" /><path clip-path=\"url(#clip000)\" d=\"M2119.45 136.303 L2123.97 136.303 L2132.07 158.062 L2140.17 136.303 L2144.68 136.303 L2134.96 162.229 L2129.18 162.229 L2119.45 136.303 Z\" fill=\"#000000\" fill-rule=\"evenodd\" fill-opacity=\"1\" /><path clip-path=\"url(#clip000)\" d=\"M2150.56 136.303 L2154.82 136.303 L2154.82 162.229 L2150.56 162.229 L2150.56 136.303 M2150.56 126.21 L2154.82 126.21 L2154.82 131.604 L2150.56 131.604 L2150.56 126.21 Z\" fill=\"#000000\" fill-rule=\"evenodd\" fill-opacity=\"1\" /><path clip-path=\"url(#clip000)\" d=\"M2180.26 137.067 L2180.26 141.094 Q2178.46 140.169 2176.51 139.706 Q2174.57 139.243 2172.49 139.243 Q2169.31 139.243 2167.72 140.215 Q2166.14 141.187 2166.14 143.131 Q2166.14 144.613 2167.28 145.469 Q2168.41 146.303 2171.84 147.067 L2173.3 147.391 Q2177.83 148.363 2179.73 150.145 Q2181.65 151.905 2181.65 155.076 Q2181.65 158.687 2178.78 160.793 Q2175.93 162.9 2170.93 162.9 Q2168.85 162.9 2166.58 162.483 Q2164.34 162.09 2161.84 161.28 L2161.84 156.881 Q2164.2 158.108 2166.49 158.733 Q2168.78 159.335 2171.03 159.335 Q2174.04 159.335 2175.66 158.317 Q2177.28 157.275 2177.28 155.4 Q2177.28 153.664 2176.1 152.738 Q2174.94 151.812 2170.98 150.956 L2169.5 150.608 Q2165.54 149.775 2163.78 148.062 Q2162.02 146.326 2162.02 143.317 Q2162.02 139.659 2164.61 137.669 Q2167.21 135.678 2171.98 135.678 Q2174.34 135.678 2176.42 136.025 Q2178.5 136.372 2180.26 137.067 Z\" fill=\"#000000\" fill-rule=\"evenodd\" fill-opacity=\"1\" /><path clip-path=\"url(#clip000)\" d=\"M2192.65 128.942 L2192.65 136.303 L2201.42 136.303 L2201.42 139.613 L2192.65 139.613 L2192.65 153.687 Q2192.65 156.858 2193.5 157.761 Q2194.38 158.664 2197.05 158.664 L2201.42 158.664 L2201.42 162.229 L2197.05 162.229 Q2192.11 162.229 2190.24 160.4 Q2188.36 158.548 2188.36 153.687 L2188.36 139.613 L2185.24 139.613 L2185.24 136.303 L2188.36 136.303 L2188.36 128.942 L2192.65 128.942 Z\" fill=\"#000000\" fill-rule=\"evenodd\" fill-opacity=\"1\" /><path clip-path=\"url(#clip000)\" d=\"M2207.02 136.303 L2211.28 136.303 L2211.28 162.229 L2207.02 162.229 L2207.02 136.303 M2207.02 126.21 L2211.28 126.21 L2211.28 131.604 L2207.02 131.604 L2207.02 126.21 Z\" fill=\"#000000\" fill-rule=\"evenodd\" fill-opacity=\"1\" /><path clip-path=\"url(#clip000)\" d=\"M2238.85 137.298 L2238.85 141.28 Q2237.04 140.284 2235.22 139.798 Q2233.41 139.289 2231.56 139.289 Q2227.42 139.289 2225.12 141.928 Q2222.83 144.544 2222.83 149.289 Q2222.83 154.034 2225.12 156.673 Q2227.42 159.289 2231.56 159.289 Q2233.41 159.289 2235.22 158.803 Q2237.04 158.293 2238.85 157.298 L2238.85 161.233 Q2237.07 162.067 2235.15 162.483 Q2233.25 162.9 2231.1 162.9 Q2225.24 162.9 2221.79 159.219 Q2218.34 155.539 2218.34 149.289 Q2218.34 142.946 2221.81 139.312 Q2225.31 135.678 2231.37 135.678 Q2233.34 135.678 2235.22 136.095 Q2237.09 136.488 2238.85 137.298 Z\" fill=\"#000000\" fill-rule=\"evenodd\" fill-opacity=\"1\" /><polyline clip-path=\"url(#clip000)\" style=\"stroke:#e26f46; stroke-linecap:butt; stroke-linejoin:round; stroke-width:4; stroke-opacity:1; fill:none\" points=\"\n",
       "  1747.12,196.789 1883.8,196.789 \n",
       "  \"/>\n",
       "<path clip-path=\"url(#clip000)\" d=\"M1922.97 197.865 Q1924.48 198.374 1925.89 200.041 Q1927.32 201.708 1928.76 204.624 L1933.5 214.069 L1928.48 214.069 L1924.06 205.203 Q1922.35 201.731 1920.73 200.596 Q1919.13 199.462 1916.35 199.462 L1911.26 199.462 L1911.26 214.069 L1906.58 214.069 L1906.58 179.509 L1917.14 179.509 Q1923.07 179.509 1925.98 181.985 Q1928.9 184.462 1928.9 189.462 Q1928.9 192.726 1927.37 194.879 Q1925.87 197.032 1922.97 197.865 M1911.26 183.351 L1911.26 195.62 L1917.14 195.62 Q1920.52 195.62 1922.23 194.069 Q1923.97 192.495 1923.97 189.462 Q1923.97 186.43 1922.23 184.902 Q1920.52 183.351 1917.14 183.351 L1911.26 183.351 Z\" fill=\"#000000\" fill-rule=\"evenodd\" fill-opacity=\"1\" /><path clip-path=\"url(#clip000)\" d=\"M1959.38 200.041 L1959.38 202.124 L1939.8 202.124 Q1940.08 206.522 1942.44 208.837 Q1944.82 211.129 1949.06 211.129 Q1951.51 211.129 1953.81 210.527 Q1956.12 209.925 1958.39 208.721 L1958.39 212.749 Q1956.1 213.721 1953.69 214.231 Q1951.28 214.74 1948.81 214.74 Q1942.6 214.74 1938.97 211.129 Q1935.36 207.518 1935.36 201.36 Q1935.36 194.995 1938.78 191.268 Q1942.23 187.518 1948.07 187.518 Q1953.3 187.518 1956.33 190.897 Q1959.38 194.254 1959.38 200.041 M1955.13 198.791 Q1955.08 195.296 1953.16 193.212 Q1951.26 191.129 1948.11 191.129 Q1944.55 191.129 1942.39 193.143 Q1940.26 195.157 1939.94 198.814 L1955.13 198.791 Z\" fill=\"#000000\" fill-rule=\"evenodd\" fill-opacity=\"1\" /><path clip-path=\"url(#clip000)\" d=\"M1966.38 178.05 L1970.63 178.05 L1970.63 214.069 L1966.38 214.069 L1966.38 178.05 Z\" fill=\"#000000\" fill-rule=\"evenodd\" fill-opacity=\"1\" /><path clip-path=\"url(#clip000)\" d=\"M1991.33 201.036 Q1986.17 201.036 1984.18 202.217 Q1982.19 203.397 1982.19 206.245 Q1982.19 208.513 1983.67 209.856 Q1985.17 211.175 1987.74 211.175 Q1991.28 211.175 1993.41 208.675 Q1995.56 206.152 1995.56 201.985 L1995.56 201.036 L1991.33 201.036 M1999.82 199.277 L1999.82 214.069 L1995.56 214.069 L1995.56 210.133 Q1994.11 212.495 1991.93 213.629 Q1989.75 214.74 1986.61 214.74 Q1982.63 214.74 1980.26 212.518 Q1977.93 210.272 1977.93 206.522 Q1977.93 202.147 1980.84 199.925 Q1983.78 197.703 1989.59 197.703 L1995.56 197.703 L1995.56 197.286 Q1995.56 194.347 1993.62 192.749 Q1991.7 191.129 1988.2 191.129 Q1985.98 191.129 1983.88 191.661 Q1981.77 192.194 1979.82 193.259 L1979.82 189.323 Q1982.16 188.421 1984.36 187.981 Q1986.56 187.518 1988.64 187.518 Q1994.27 187.518 1997.05 190.434 Q1999.82 193.351 1999.82 199.277 Z\" fill=\"#000000\" fill-rule=\"evenodd\" fill-opacity=\"1\" /><path clip-path=\"url(#clip000)\" d=\"M2012.81 180.782 L2012.81 188.143 L2021.58 188.143 L2021.58 191.453 L2012.81 191.453 L2012.81 205.527 Q2012.81 208.698 2013.67 209.601 Q2014.55 210.504 2017.21 210.504 L2021.58 210.504 L2021.58 214.069 L2017.21 214.069 Q2012.28 214.069 2010.4 212.24 Q2008.53 210.388 2008.53 205.527 L2008.53 191.453 L2005.4 191.453 L2005.4 188.143 L2008.53 188.143 L2008.53 180.782 L2012.81 180.782 Z\" fill=\"#000000\" fill-rule=\"evenodd\" fill-opacity=\"1\" /><path clip-path=\"url(#clip000)\" d=\"M2027.18 188.143 L2031.44 188.143 L2031.44 214.069 L2027.18 214.069 L2027.18 188.143 M2027.18 178.05 L2031.44 178.05 L2031.44 183.444 L2027.18 183.444 L2027.18 178.05 Z\" fill=\"#000000\" fill-rule=\"evenodd\" fill-opacity=\"1\" /><path clip-path=\"url(#clip000)\" d=\"M2037.3 188.143 L2041.81 188.143 L2049.92 209.902 L2058.02 188.143 L2062.53 188.143 L2052.81 214.069 L2047.02 214.069 L2037.3 188.143 Z\" fill=\"#000000\" fill-rule=\"evenodd\" fill-opacity=\"1\" /><path clip-path=\"url(#clip000)\" d=\"M2068.41 188.143 L2072.67 188.143 L2072.67 214.069 L2068.41 214.069 L2068.41 188.143 M2068.41 178.05 L2072.67 178.05 L2072.67 183.444 L2068.41 183.444 L2068.41 178.05 Z\" fill=\"#000000\" fill-rule=\"evenodd\" fill-opacity=\"1\" /><path clip-path=\"url(#clip000)\" d=\"M2098.11 188.907 L2098.11 192.934 Q2096.3 192.009 2094.36 191.546 Q2092.42 191.083 2090.33 191.083 Q2087.16 191.083 2085.56 192.055 Q2083.99 193.027 2083.99 194.971 Q2083.99 196.453 2085.12 197.309 Q2086.26 198.143 2089.68 198.907 L2091.14 199.231 Q2095.68 200.203 2097.58 201.985 Q2099.5 203.745 2099.5 206.916 Q2099.5 210.527 2096.63 212.633 Q2093.78 214.74 2088.78 214.74 Q2086.7 214.74 2084.43 214.323 Q2082.18 213.93 2079.68 213.12 L2079.68 208.721 Q2082.05 209.948 2084.34 210.573 Q2086.63 211.175 2088.87 211.175 Q2091.88 211.175 2093.5 210.157 Q2095.12 209.115 2095.12 207.24 Q2095.12 205.504 2093.94 204.578 Q2092.79 203.652 2088.83 202.796 L2087.35 202.448 Q2083.39 201.615 2081.63 199.902 Q2079.87 198.166 2079.87 195.157 Q2079.87 191.499 2082.46 189.509 Q2085.06 187.518 2089.82 187.518 Q2092.18 187.518 2094.27 187.865 Q2096.35 188.212 2098.11 188.907 Z\" fill=\"#000000\" fill-rule=\"evenodd\" fill-opacity=\"1\" /><path clip-path=\"url(#clip000)\" d=\"M2110.49 180.782 L2110.49 188.143 L2119.27 188.143 L2119.27 191.453 L2110.49 191.453 L2110.49 205.527 Q2110.49 208.698 2111.35 209.601 Q2112.23 210.504 2114.89 210.504 L2119.27 210.504 L2119.27 214.069 L2114.89 214.069 Q2109.96 214.069 2108.09 212.24 Q2106.21 210.388 2106.21 205.527 L2106.21 191.453 L2103.09 191.453 L2103.09 188.143 L2106.21 188.143 L2106.21 180.782 L2110.49 180.782 Z\" fill=\"#000000\" fill-rule=\"evenodd\" fill-opacity=\"1\" /><path clip-path=\"url(#clip000)\" d=\"M2124.87 188.143 L2129.13 188.143 L2129.13 214.069 L2124.87 214.069 L2124.87 188.143 M2124.87 178.05 L2129.13 178.05 L2129.13 183.444 L2124.87 183.444 L2124.87 178.05 Z\" fill=\"#000000\" fill-rule=\"evenodd\" fill-opacity=\"1\" /><path clip-path=\"url(#clip000)\" d=\"M2156.7 189.138 L2156.7 193.12 Q2154.89 192.124 2153.06 191.638 Q2151.26 191.129 2149.41 191.129 Q2145.26 191.129 2142.97 193.768 Q2140.68 196.384 2140.68 201.129 Q2140.68 205.874 2142.97 208.513 Q2145.26 211.129 2149.41 211.129 Q2151.26 211.129 2153.06 210.643 Q2154.89 210.133 2156.7 209.138 L2156.7 213.073 Q2154.92 213.907 2152.99 214.323 Q2151.1 214.74 2148.94 214.74 Q2143.09 214.74 2139.64 211.059 Q2136.19 207.379 2136.19 201.129 Q2136.19 194.786 2139.66 191.152 Q2143.16 187.518 2149.22 187.518 Q2151.19 187.518 2153.06 187.935 Q2154.94 188.328 2156.7 189.138 Z\" fill=\"#000000\" fill-rule=\"evenodd\" fill-opacity=\"1\" /></svg>\n"
      ]
     },
     "execution_count": 13,
     "metadata": {},
     "output_type": "execute_result"
    }
   ],
   "source": [
    "plot(Zs, [Enr, Er], xlabel = \"Nuclear charge\", ylabel=\"Binding Energy\", label = [\"Nonrelativistic\" \"Relativistic\"])"
   ]
  },
  {
   "cell_type": "markdown",
   "metadata": {},
   "source": [
    "To evaluate the relativistic effects directly, let's calculate by how many percent the relativistic effects shift the binding energy of the $1s$ electrons."
   ]
  },
  {
   "cell_type": "code",
   "execution_count": 14,
   "metadata": {},
   "outputs": [
    {
     "data": {
      "image/svg+xml": [
       "<?xml version=\"1.0\" encoding=\"utf-8\"?>\n",
       "<svg xmlns=\"http://www.w3.org/2000/svg\" xmlns:xlink=\"http://www.w3.org/1999/xlink\" width=\"600\" height=\"400\" viewBox=\"0 0 2400 1600\">\n",
       "<defs>\n",
       "  <clipPath id=\"clip040\">\n",
       "    <rect x=\"0\" y=\"0\" width=\"2400\" height=\"1600\"/>\n",
       "  </clipPath>\n",
       "</defs>\n",
       "<path clip-path=\"url(#clip040)\" d=\"\n",
       "M0 1600 L2400 1600 L2400 0 L0 0  Z\n",
       "  \" fill=\"#ffffff\" fill-rule=\"evenodd\" fill-opacity=\"1\"/>\n",
       "<defs>\n",
       "  <clipPath id=\"clip041\">\n",
       "    <rect x=\"480\" y=\"0\" width=\"1681\" height=\"1600\"/>\n",
       "  </clipPath>\n",
       "</defs>\n",
       "<path clip-path=\"url(#clip040)\" d=\"\n",
       "M202.227 1423.18 L2352.76 1423.18 L2352.76 47.2441 L202.227 47.2441  Z\n",
       "  \" fill=\"#ffffff\" fill-rule=\"evenodd\" fill-opacity=\"1\"/>\n",
       "<defs>\n",
       "  <clipPath id=\"clip042\">\n",
       "    <rect x=\"202\" y=\"47\" width=\"2152\" height=\"1377\"/>\n",
       "  </clipPath>\n",
       "</defs>\n",
       "<polyline clip-path=\"url(#clip042)\" style=\"stroke:#000000; stroke-linecap:butt; stroke-linejoin:round; stroke-width:2; stroke-opacity:0.1; fill:none\" points=\"\n",
       "  240.797,1423.18 240.797,47.2441 \n",
       "  \"/>\n",
       "<polyline clip-path=\"url(#clip042)\" style=\"stroke:#000000; stroke-linecap:butt; stroke-linejoin:round; stroke-width:2; stroke-opacity:0.1; fill:none\" points=\"\n",
       "  686.687,1423.18 686.687,47.2441 \n",
       "  \"/>\n",
       "<polyline clip-path=\"url(#clip042)\" style=\"stroke:#000000; stroke-linecap:butt; stroke-linejoin:round; stroke-width:2; stroke-opacity:0.1; fill:none\" points=\"\n",
       "  1132.58,1423.18 1132.58,47.2441 \n",
       "  \"/>\n",
       "<polyline clip-path=\"url(#clip042)\" style=\"stroke:#000000; stroke-linecap:butt; stroke-linejoin:round; stroke-width:2; stroke-opacity:0.1; fill:none\" points=\"\n",
       "  1578.47,1423.18 1578.47,47.2441 \n",
       "  \"/>\n",
       "<polyline clip-path=\"url(#clip042)\" style=\"stroke:#000000; stroke-linecap:butt; stroke-linejoin:round; stroke-width:2; stroke-opacity:0.1; fill:none\" points=\"\n",
       "  2024.36,1423.18 2024.36,47.2441 \n",
       "  \"/>\n",
       "<polyline clip-path=\"url(#clip040)\" style=\"stroke:#000000; stroke-linecap:butt; stroke-linejoin:round; stroke-width:4; stroke-opacity:1; fill:none\" points=\"\n",
       "  202.227,1423.18 2352.76,1423.18 \n",
       "  \"/>\n",
       "<polyline clip-path=\"url(#clip040)\" style=\"stroke:#000000; stroke-linecap:butt; stroke-linejoin:round; stroke-width:4; stroke-opacity:1; fill:none\" points=\"\n",
       "  240.797,1423.18 240.797,1404.28 \n",
       "  \"/>\n",
       "<polyline clip-path=\"url(#clip040)\" style=\"stroke:#000000; stroke-linecap:butt; stroke-linejoin:round; stroke-width:4; stroke-opacity:1; fill:none\" points=\"\n",
       "  686.687,1423.18 686.687,1404.28 \n",
       "  \"/>\n",
       "<polyline clip-path=\"url(#clip040)\" style=\"stroke:#000000; stroke-linecap:butt; stroke-linejoin:round; stroke-width:4; stroke-opacity:1; fill:none\" points=\"\n",
       "  1132.58,1423.18 1132.58,1404.28 \n",
       "  \"/>\n",
       "<polyline clip-path=\"url(#clip040)\" style=\"stroke:#000000; stroke-linecap:butt; stroke-linejoin:round; stroke-width:4; stroke-opacity:1; fill:none\" points=\"\n",
       "  1578.47,1423.18 1578.47,1404.28 \n",
       "  \"/>\n",
       "<polyline clip-path=\"url(#clip040)\" style=\"stroke:#000000; stroke-linecap:butt; stroke-linejoin:round; stroke-width:4; stroke-opacity:1; fill:none\" points=\"\n",
       "  2024.36,1423.18 2024.36,1404.28 \n",
       "  \"/>\n",
       "<path clip-path=\"url(#clip040)\" d=\"M240.797 1452.37 Q237.186 1452.37 235.357 1455.94 Q233.552 1459.48 233.552 1466.61 Q233.552 1473.71 235.357 1477.28 Q237.186 1480.82 240.797 1480.82 Q244.431 1480.82 246.237 1477.28 Q248.065 1473.71 248.065 1466.61 Q248.065 1459.48 246.237 1455.94 Q244.431 1452.37 240.797 1452.37 M240.797 1448.67 Q246.607 1448.67 249.663 1453.27 Q252.741 1457.86 252.741 1466.61 Q252.741 1475.33 249.663 1479.94 Q246.607 1484.52 240.797 1484.52 Q234.987 1484.52 231.908 1479.94 Q228.853 1475.33 228.853 1466.61 Q228.853 1457.86 231.908 1453.27 Q234.987 1448.67 240.797 1448.67 Z\" fill=\"#000000\" fill-rule=\"evenodd\" fill-opacity=\"1\" /><path clip-path=\"url(#clip040)\" d=\"M665.46 1479.92 L681.78 1479.92 L681.78 1483.85 L659.835 1483.85 L659.835 1479.92 Q662.497 1477.16 667.081 1472.53 Q671.687 1467.88 672.868 1466.54 Q675.113 1464.01 675.993 1462.28 Q676.896 1460.52 676.896 1458.83 Q676.896 1456.07 674.951 1454.34 Q673.03 1452.6 669.928 1452.6 Q667.729 1452.6 665.275 1453.37 Q662.845 1454.13 660.067 1455.68 L660.067 1450.96 Q662.891 1449.82 665.345 1449.25 Q667.798 1448.67 669.835 1448.67 Q675.206 1448.67 678.4 1451.35 Q681.595 1454.04 681.595 1458.53 Q681.595 1460.66 680.784 1462.58 Q679.997 1464.48 677.891 1467.07 Q677.312 1467.74 674.21 1470.96 Q671.109 1474.15 665.46 1479.92 Z\" fill=\"#000000\" fill-rule=\"evenodd\" fill-opacity=\"1\" /><path clip-path=\"url(#clip040)\" d=\"M701.595 1452.37 Q697.983 1452.37 696.155 1455.94 Q694.349 1459.48 694.349 1466.61 Q694.349 1473.71 696.155 1477.28 Q697.983 1480.82 701.595 1480.82 Q705.229 1480.82 707.034 1477.28 Q708.863 1473.71 708.863 1466.61 Q708.863 1459.48 707.034 1455.94 Q705.229 1452.37 701.595 1452.37 M701.595 1448.67 Q707.405 1448.67 710.46 1453.27 Q713.539 1457.86 713.539 1466.61 Q713.539 1475.33 710.46 1479.94 Q707.405 1484.52 701.595 1484.52 Q695.784 1484.52 692.706 1479.94 Q689.65 1475.33 689.65 1466.61 Q689.65 1457.86 692.706 1453.27 Q695.784 1448.67 701.595 1448.67 Z\" fill=\"#000000\" fill-rule=\"evenodd\" fill-opacity=\"1\" /><path clip-path=\"url(#clip040)\" d=\"M1120.75 1453.37 L1108.94 1471.81 L1120.75 1471.81 L1120.75 1453.37 M1119.52 1449.29 L1125.4 1449.29 L1125.4 1471.81 L1130.33 1471.81 L1130.33 1475.7 L1125.4 1475.7 L1125.4 1483.85 L1120.75 1483.85 L1120.75 1475.7 L1105.15 1475.7 L1105.15 1471.19 L1119.52 1449.29 Z\" fill=\"#000000\" fill-rule=\"evenodd\" fill-opacity=\"1\" /><path clip-path=\"url(#clip040)\" d=\"M1148.06 1452.37 Q1144.45 1452.37 1142.62 1455.94 Q1140.82 1459.48 1140.82 1466.61 Q1140.82 1473.71 1142.62 1477.28 Q1144.45 1480.82 1148.06 1480.82 Q1151.7 1480.82 1153.5 1477.28 Q1155.33 1473.71 1155.33 1466.61 Q1155.33 1459.48 1153.5 1455.94 Q1151.7 1452.37 1148.06 1452.37 M1148.06 1448.67 Q1153.87 1448.67 1156.93 1453.27 Q1160.01 1457.86 1160.01 1466.61 Q1160.01 1475.33 1156.93 1479.94 Q1153.87 1484.52 1148.06 1484.52 Q1142.25 1484.52 1139.17 1479.94 Q1136.12 1475.33 1136.12 1466.61 Q1136.12 1457.86 1139.17 1453.27 Q1142.25 1448.67 1148.06 1448.67 Z\" fill=\"#000000\" fill-rule=\"evenodd\" fill-opacity=\"1\" /><path clip-path=\"url(#clip040)\" d=\"M1563.87 1464.71 Q1560.72 1464.71 1558.87 1466.86 Q1557.04 1469.01 1557.04 1472.76 Q1557.04 1476.49 1558.87 1478.67 Q1560.72 1480.82 1563.87 1480.82 Q1567.02 1480.82 1568.85 1478.67 Q1570.7 1476.49 1570.7 1472.76 Q1570.7 1469.01 1568.85 1466.86 Q1567.02 1464.71 1563.87 1464.71 M1573.16 1450.06 L1573.16 1454.31 Q1571.4 1453.48 1569.59 1453.04 Q1567.81 1452.6 1566.05 1452.6 Q1561.42 1452.6 1558.97 1455.73 Q1556.53 1458.85 1556.19 1465.17 Q1557.55 1463.16 1559.61 1462.09 Q1561.67 1461 1564.15 1461 Q1569.36 1461 1572.37 1464.18 Q1575.4 1467.32 1575.4 1472.76 Q1575.4 1478.09 1572.25 1481.31 Q1569.1 1484.52 1563.87 1484.52 Q1557.88 1484.52 1554.71 1479.94 Q1551.53 1475.33 1551.53 1466.61 Q1551.53 1458.41 1555.42 1453.55 Q1559.31 1448.67 1565.86 1448.67 Q1567.62 1448.67 1569.41 1449.01 Q1571.21 1449.36 1573.16 1450.06 Z\" fill=\"#000000\" fill-rule=\"evenodd\" fill-opacity=\"1\" /><path clip-path=\"url(#clip040)\" d=\"M1593.46 1452.37 Q1589.84 1452.37 1588.02 1455.94 Q1586.21 1459.48 1586.21 1466.61 Q1586.21 1473.71 1588.02 1477.28 Q1589.84 1480.82 1593.46 1480.82 Q1597.09 1480.82 1598.9 1477.28 Q1600.72 1473.71 1600.72 1466.61 Q1600.72 1459.48 1598.9 1455.94 Q1597.09 1452.37 1593.46 1452.37 M1593.46 1448.67 Q1599.27 1448.67 1602.32 1453.27 Q1605.4 1457.86 1605.4 1466.61 Q1605.4 1475.33 1602.32 1479.94 Q1599.27 1484.52 1593.46 1484.52 Q1587.65 1484.52 1584.57 1479.94 Q1581.51 1475.33 1581.51 1466.61 Q1581.51 1457.86 1584.57 1453.27 Q1587.65 1448.67 1593.46 1448.67 Z\" fill=\"#000000\" fill-rule=\"evenodd\" fill-opacity=\"1\" /><path clip-path=\"url(#clip040)\" d=\"M2009.23 1467.44 Q2005.9 1467.44 2003.98 1469.22 Q2002.08 1471 2002.08 1474.13 Q2002.08 1477.25 2003.98 1479.04 Q2005.9 1480.82 2009.23 1480.82 Q2012.56 1480.82 2014.49 1479.04 Q2016.41 1477.23 2016.41 1474.13 Q2016.41 1471 2014.49 1469.22 Q2012.59 1467.44 2009.23 1467.44 M2004.55 1465.45 Q2001.55 1464.71 1999.86 1462.65 Q1998.19 1460.59 1998.19 1457.63 Q1998.19 1453.48 2001.13 1451.07 Q2004.09 1448.67 2009.23 1448.67 Q2014.39 1448.67 2017.33 1451.07 Q2020.27 1453.48 2020.27 1457.63 Q2020.27 1460.59 2018.58 1462.65 Q2016.92 1464.71 2013.93 1465.45 Q2017.31 1466.24 2019.18 1468.53 Q2021.08 1470.82 2021.08 1474.13 Q2021.08 1479.15 2018 1481.84 Q2014.95 1484.52 2009.23 1484.52 Q2003.51 1484.52 2000.43 1481.84 Q1997.38 1479.15 1997.38 1474.13 Q1997.38 1470.82 1999.28 1468.53 Q2001.18 1466.24 2004.55 1465.45 M2002.84 1458.06 Q2002.84 1460.75 2004.51 1462.25 Q2006.2 1463.76 2009.23 1463.76 Q2012.24 1463.76 2013.93 1462.25 Q2015.64 1460.75 2015.64 1458.06 Q2015.64 1455.38 2013.93 1453.88 Q2012.24 1452.37 2009.23 1452.37 Q2006.2 1452.37 2004.51 1453.88 Q2002.84 1455.38 2002.84 1458.06 Z\" fill=\"#000000\" fill-rule=\"evenodd\" fill-opacity=\"1\" /><path clip-path=\"url(#clip040)\" d=\"M2039.39 1452.37 Q2035.78 1452.37 2033.95 1455.94 Q2032.15 1459.48 2032.15 1466.61 Q2032.15 1473.71 2033.95 1477.28 Q2035.78 1480.82 2039.39 1480.82 Q2043.03 1480.82 2044.83 1477.28 Q2046.66 1473.71 2046.66 1466.61 Q2046.66 1459.48 2044.83 1455.94 Q2043.03 1452.37 2039.39 1452.37 M2039.39 1448.67 Q2045.2 1448.67 2048.26 1453.27 Q2051.34 1457.86 2051.34 1466.61 Q2051.34 1475.33 2048.26 1479.94 Q2045.2 1484.52 2039.39 1484.52 Q2033.58 1484.52 2030.5 1479.94 Q2027.45 1475.33 2027.45 1466.61 Q2027.45 1457.86 2030.5 1453.27 Q2033.58 1448.67 2039.39 1448.67 Z\" fill=\"#000000\" fill-rule=\"evenodd\" fill-opacity=\"1\" /><path clip-path=\"url(#clip040)\" d=\"M1034.51 1520.52 L1043.17 1520.52 L1064.24 1560.28 L1064.24 1520.52 L1070.48 1520.52 L1070.48 1568.04 L1061.82 1568.04 L1040.75 1528.29 L1040.75 1568.04 L1034.51 1568.04 L1034.51 1520.52 Z\" fill=\"#000000\" fill-rule=\"evenodd\" fill-opacity=\"1\" /><path clip-path=\"url(#clip040)\" d=\"M1082.41 1553.98 L1082.41 1532.4 L1088.27 1532.4 L1088.27 1553.75 Q1088.27 1558.81 1090.24 1561.36 Q1092.22 1563.87 1096.16 1563.87 Q1100.91 1563.87 1103.64 1560.85 Q1106.41 1557.83 1106.41 1552.61 L1106.41 1532.4 L1112.27 1532.4 L1112.27 1568.04 L1106.41 1568.04 L1106.41 1562.57 Q1104.28 1565.82 1101.45 1567.41 Q1098.65 1568.97 1094.92 1568.97 Q1088.78 1568.97 1085.6 1565.15 Q1082.41 1561.33 1082.41 1553.98 M1097.15 1531.54 L1097.15 1531.54 Z\" fill=\"#000000\" fill-rule=\"evenodd\" fill-opacity=\"1\" /><path clip-path=\"url(#clip040)\" d=\"M1149.99 1533.76 L1149.99 1539.24 Q1147.5 1537.87 1144.99 1537.2 Q1142.51 1536.5 1139.96 1536.5 Q1134.26 1536.5 1131.11 1540.13 Q1127.96 1543.73 1127.96 1550.25 Q1127.96 1556.78 1131.11 1560.4 Q1134.26 1564 1139.96 1564 Q1142.51 1564 1144.99 1563.33 Q1147.5 1562.63 1149.99 1561.26 L1149.99 1566.68 Q1147.54 1567.82 1144.89 1568.39 Q1142.28 1568.97 1139.32 1568.97 Q1131.27 1568.97 1126.53 1563.91 Q1121.79 1558.85 1121.79 1550.25 Q1121.79 1541.53 1126.56 1536.53 Q1131.37 1531.54 1139.71 1531.54 Q1142.41 1531.54 1144.99 1532.11 Q1147.57 1532.65 1149.99 1533.76 Z\" fill=\"#000000\" fill-rule=\"evenodd\" fill-opacity=\"1\" /><path clip-path=\"url(#clip040)\" d=\"M1160.17 1518.52 L1166.03 1518.52 L1166.03 1568.04 L1160.17 1568.04 L1160.17 1518.52 Z\" fill=\"#000000\" fill-rule=\"evenodd\" fill-opacity=\"1\" /><path clip-path=\"url(#clip040)\" d=\"M1208.77 1548.76 L1208.77 1551.62 L1181.85 1551.62 Q1182.23 1557.67 1185.48 1560.85 Q1188.75 1564 1194.58 1564 Q1197.95 1564 1201.1 1563.17 Q1204.29 1562.35 1207.41 1560.69 L1207.41 1566.23 Q1204.25 1567.57 1200.94 1568.27 Q1197.63 1568.97 1194.23 1568.97 Q1185.7 1568.97 1180.7 1564 Q1175.74 1559.04 1175.74 1550.57 Q1175.74 1541.82 1180.45 1536.69 Q1185.19 1531.54 1193.21 1531.54 Q1200.4 1531.54 1204.57 1536.18 Q1208.77 1540.8 1208.77 1548.76 M1202.92 1547.04 Q1202.85 1542.23 1200.21 1539.37 Q1197.6 1536.5 1193.27 1536.5 Q1188.37 1536.5 1185.41 1539.27 Q1182.48 1542.04 1182.04 1547.07 L1202.92 1547.04 Z\" fill=\"#000000\" fill-rule=\"evenodd\" fill-opacity=\"1\" /><path clip-path=\"url(#clip040)\" d=\"M1234.59 1550.12 Q1227.49 1550.12 1224.75 1551.75 Q1222.01 1553.37 1222.01 1557.29 Q1222.01 1560.4 1224.05 1562.25 Q1226.12 1564.07 1229.65 1564.07 Q1234.52 1564.07 1237.45 1560.63 Q1240.41 1557.16 1240.41 1551.43 L1240.41 1550.12 L1234.59 1550.12 M1246.27 1547.71 L1246.27 1568.04 L1240.41 1568.04 L1240.41 1562.63 Q1238.41 1565.88 1235.41 1567.44 Q1232.42 1568.97 1228.09 1568.97 Q1222.62 1568.97 1219.37 1565.91 Q1216.16 1562.82 1216.16 1557.67 Q1216.16 1551.65 1220.17 1548.6 Q1224.21 1545.54 1232.2 1545.54 L1240.41 1545.54 L1240.41 1544.97 Q1240.41 1540.93 1237.74 1538.73 Q1235.1 1536.5 1230.29 1536.5 Q1227.23 1536.5 1224.34 1537.23 Q1221.44 1537.97 1218.77 1539.43 L1218.77 1534.02 Q1221.98 1532.78 1225.01 1532.17 Q1228.03 1531.54 1230.89 1531.54 Q1238.63 1531.54 1242.45 1535.55 Q1246.27 1539.56 1246.27 1547.71 Z\" fill=\"#000000\" fill-rule=\"evenodd\" fill-opacity=\"1\" /><path clip-path=\"url(#clip040)\" d=\"M1278.99 1537.87 Q1278 1537.3 1276.82 1537.04 Q1275.68 1536.76 1274.28 1536.76 Q1269.31 1536.76 1266.64 1540 Q1264 1543.22 1264 1549.27 L1264 1568.04 L1258.11 1568.04 L1258.11 1532.4 L1264 1532.4 L1264 1537.93 Q1265.84 1534.69 1268.8 1533.13 Q1271.76 1531.54 1276 1531.54 Q1276.6 1531.54 1277.33 1531.63 Q1278.06 1531.7 1278.96 1531.85 L1278.99 1537.87 Z\" fill=\"#000000\" fill-rule=\"evenodd\" fill-opacity=\"1\" /><path clip-path=\"url(#clip040)\" d=\"M1331.5 1533.76 L1331.5 1539.24 Q1329.02 1537.87 1326.51 1537.2 Q1324.03 1536.5 1321.48 1536.5 Q1315.78 1536.5 1312.63 1540.13 Q1309.48 1543.73 1309.48 1550.25 Q1309.48 1556.78 1312.63 1560.4 Q1315.78 1564 1321.48 1564 Q1324.03 1564 1326.51 1563.33 Q1329.02 1562.63 1331.5 1561.26 L1331.5 1566.68 Q1329.05 1567.82 1326.41 1568.39 Q1323.8 1568.97 1320.84 1568.97 Q1312.79 1568.97 1308.05 1563.91 Q1303.3 1558.85 1303.3 1550.25 Q1303.3 1541.53 1308.08 1536.53 Q1312.89 1531.54 1321.22 1531.54 Q1323.93 1531.54 1326.51 1532.11 Q1329.09 1532.65 1331.5 1533.76 Z\" fill=\"#000000\" fill-rule=\"evenodd\" fill-opacity=\"1\" /><path clip-path=\"url(#clip040)\" d=\"M1371.32 1546.53 L1371.32 1568.04 L1365.47 1568.04 L1365.47 1546.72 Q1365.47 1541.66 1363.49 1539.14 Q1361.52 1536.63 1357.57 1536.63 Q1352.83 1536.63 1350.09 1539.65 Q1347.36 1542.68 1347.36 1547.9 L1347.36 1568.04 L1341.47 1568.04 L1341.47 1518.52 L1347.36 1518.52 L1347.36 1537.93 Q1349.46 1534.72 1352.29 1533.13 Q1355.15 1531.54 1358.88 1531.54 Q1365.02 1531.54 1368.17 1535.36 Q1371.32 1539.14 1371.32 1546.53 Z\" fill=\"#000000\" fill-rule=\"evenodd\" fill-opacity=\"1\" /><path clip-path=\"url(#clip040)\" d=\"M1399.2 1550.12 Q1392.11 1550.12 1389.37 1551.75 Q1386.63 1553.37 1386.63 1557.29 Q1386.63 1560.4 1388.67 1562.25 Q1390.74 1564.07 1394.27 1564.07 Q1399.14 1564.07 1402.07 1560.63 Q1405.03 1557.16 1405.03 1551.43 L1405.03 1550.12 L1399.2 1550.12 M1410.89 1547.71 L1410.89 1568.04 L1405.03 1568.04 L1405.03 1562.63 Q1403.02 1565.88 1400.03 1567.44 Q1397.04 1568.97 1392.71 1568.97 Q1387.24 1568.97 1383.99 1565.91 Q1380.78 1562.82 1380.78 1557.67 Q1380.78 1551.65 1384.79 1548.6 Q1388.83 1545.54 1396.82 1545.54 L1405.03 1545.54 L1405.03 1544.97 Q1405.03 1540.93 1402.36 1538.73 Q1399.71 1536.5 1394.91 1536.5 Q1391.85 1536.5 1388.96 1537.23 Q1386.06 1537.97 1383.39 1539.43 L1383.39 1534.02 Q1386.6 1532.78 1389.62 1532.17 Q1392.65 1531.54 1395.51 1531.54 Q1403.25 1531.54 1407.07 1535.55 Q1410.89 1539.56 1410.89 1547.71 Z\" fill=\"#000000\" fill-rule=\"evenodd\" fill-opacity=\"1\" /><path clip-path=\"url(#clip040)\" d=\"M1443.6 1537.87 Q1442.62 1537.3 1441.44 1537.04 Q1440.29 1536.76 1438.89 1536.76 Q1433.93 1536.76 1431.26 1540 Q1428.61 1543.22 1428.61 1549.27 L1428.61 1568.04 L1422.73 1568.04 L1422.73 1532.4 L1428.61 1532.4 L1428.61 1537.93 Q1430.46 1534.69 1433.42 1533.13 Q1436.38 1531.54 1440.61 1531.54 Q1441.22 1531.54 1441.95 1531.63 Q1442.68 1531.7 1443.57 1531.85 L1443.6 1537.87 Z\" fill=\"#000000\" fill-rule=\"evenodd\" fill-opacity=\"1\" /><path clip-path=\"url(#clip040)\" d=\"M1472.06 1549.81 Q1472.06 1543.44 1469.42 1539.94 Q1466.81 1536.44 1462.07 1536.44 Q1457.35 1536.44 1454.71 1539.94 Q1452.1 1543.44 1452.1 1549.81 Q1452.1 1556.14 1454.71 1559.64 Q1457.35 1563.14 1462.07 1563.14 Q1466.81 1563.14 1469.42 1559.64 Q1472.06 1556.14 1472.06 1549.81 M1477.92 1563.62 Q1477.92 1572.72 1473.87 1577.15 Q1469.83 1581.6 1461.49 1581.6 Q1458.41 1581.6 1455.67 1581.13 Q1452.93 1580.68 1450.35 1579.72 L1450.35 1574.03 Q1452.93 1575.43 1455.45 1576.1 Q1457.96 1576.76 1460.57 1576.76 Q1466.33 1576.76 1469.19 1573.74 Q1472.06 1570.75 1472.06 1564.67 L1472.06 1561.77 Q1470.25 1564.92 1467.41 1566.48 Q1464.58 1568.04 1460.63 1568.04 Q1454.08 1568.04 1450.07 1563.05 Q1446.06 1558.05 1446.06 1549.81 Q1446.06 1541.53 1450.07 1536.53 Q1454.08 1531.54 1460.63 1531.54 Q1464.58 1531.54 1467.41 1533.1 Q1470.25 1534.66 1472.06 1537.81 L1472.06 1532.4 L1477.92 1532.4 L1477.92 1563.62 Z\" fill=\"#000000\" fill-rule=\"evenodd\" fill-opacity=\"1\" /><path clip-path=\"url(#clip040)\" d=\"M1520.47 1548.76 L1520.47 1551.62 L1493.54 1551.62 Q1493.93 1557.67 1497.17 1560.85 Q1500.45 1564 1506.28 1564 Q1509.65 1564 1512.8 1563.17 Q1515.98 1562.35 1519.1 1560.69 L1519.1 1566.23 Q1515.95 1567.57 1512.64 1568.27 Q1509.33 1568.97 1505.93 1568.97 Q1497.4 1568.97 1492.4 1564 Q1487.43 1559.04 1487.43 1550.57 Q1487.43 1541.82 1492.14 1536.69 Q1496.89 1531.54 1504.91 1531.54 Q1512.1 1531.54 1516.27 1536.18 Q1520.47 1540.8 1520.47 1548.76 M1514.61 1547.04 Q1514.55 1542.23 1511.91 1539.37 Q1509.3 1536.5 1504.97 1536.5 Q1500.07 1536.5 1497.11 1539.27 Q1494.18 1542.04 1493.73 1547.07 L1514.61 1547.04 Z\" fill=\"#000000\" fill-rule=\"evenodd\" fill-opacity=\"1\" /><polyline clip-path=\"url(#clip042)\" style=\"stroke:#000000; stroke-linecap:butt; stroke-linejoin:round; stroke-width:2; stroke-opacity:0.1; fill:none\" points=\"\n",
       "  202.227,1384.35 2352.76,1384.35 \n",
       "  \"/>\n",
       "<polyline clip-path=\"url(#clip042)\" style=\"stroke:#000000; stroke-linecap:butt; stroke-linejoin:round; stroke-width:2; stroke-opacity:0.1; fill:none\" points=\"\n",
       "  202.227,947.779 2352.76,947.779 \n",
       "  \"/>\n",
       "<polyline clip-path=\"url(#clip042)\" style=\"stroke:#000000; stroke-linecap:butt; stroke-linejoin:round; stroke-width:2; stroke-opacity:0.1; fill:none\" points=\"\n",
       "  202.227,511.203 2352.76,511.203 \n",
       "  \"/>\n",
       "<polyline clip-path=\"url(#clip042)\" style=\"stroke:#000000; stroke-linecap:butt; stroke-linejoin:round; stroke-width:2; stroke-opacity:0.1; fill:none\" points=\"\n",
       "  202.227,74.6274 2352.76,74.6274 \n",
       "  \"/>\n",
       "<polyline clip-path=\"url(#clip040)\" style=\"stroke:#000000; stroke-linecap:butt; stroke-linejoin:round; stroke-width:4; stroke-opacity:1; fill:none\" points=\"\n",
       "  202.227,1423.18 202.227,47.2441 \n",
       "  \"/>\n",
       "<polyline clip-path=\"url(#clip040)\" style=\"stroke:#000000; stroke-linecap:butt; stroke-linejoin:round; stroke-width:4; stroke-opacity:1; fill:none\" points=\"\n",
       "  202.227,1384.35 221.125,1384.35 \n",
       "  \"/>\n",
       "<polyline clip-path=\"url(#clip040)\" style=\"stroke:#000000; stroke-linecap:butt; stroke-linejoin:round; stroke-width:4; stroke-opacity:1; fill:none\" points=\"\n",
       "  202.227,947.779 221.125,947.779 \n",
       "  \"/>\n",
       "<polyline clip-path=\"url(#clip040)\" style=\"stroke:#000000; stroke-linecap:butt; stroke-linejoin:round; stroke-width:4; stroke-opacity:1; fill:none\" points=\"\n",
       "  202.227,511.203 221.125,511.203 \n",
       "  \"/>\n",
       "<polyline clip-path=\"url(#clip040)\" style=\"stroke:#000000; stroke-linecap:butt; stroke-linejoin:round; stroke-width:4; stroke-opacity:1; fill:none\" points=\"\n",
       "  202.227,74.6274 221.125,74.6274 \n",
       "  \"/>\n",
       "<path clip-path=\"url(#clip040)\" d=\"M154.283 1370.15 Q150.672 1370.15 148.843 1373.72 Q147.038 1377.26 147.038 1384.39 Q147.038 1391.5 148.843 1395.06 Q150.672 1398.6 154.283 1398.6 Q157.917 1398.6 159.723 1395.06 Q161.552 1391.5 161.552 1384.39 Q161.552 1377.26 159.723 1373.72 Q157.917 1370.15 154.283 1370.15 M154.283 1366.45 Q160.093 1366.45 163.149 1371.06 Q166.227 1375.64 166.227 1384.39 Q166.227 1393.12 163.149 1397.72 Q160.093 1402.31 154.283 1402.31 Q148.473 1402.31 145.394 1397.72 Q142.339 1393.12 142.339 1384.39 Q142.339 1375.64 145.394 1371.06 Q148.473 1366.45 154.283 1366.45 Z\" fill=\"#000000\" fill-rule=\"evenodd\" fill-opacity=\"1\" /><path clip-path=\"url(#clip040)\" d=\"M145.325 930.499 L163.681 930.499 L163.681 934.434 L149.607 934.434 L149.607 942.906 Q150.626 942.559 151.644 942.397 Q152.663 942.212 153.681 942.212 Q159.468 942.212 162.848 945.383 Q166.227 948.554 166.227 953.971 Q166.227 959.55 162.755 962.651 Q159.283 965.73 152.964 965.73 Q150.788 965.73 148.519 965.36 Q146.274 964.989 143.866 964.249 L143.866 959.55 Q145.95 960.684 148.172 961.239 Q150.394 961.795 152.871 961.795 Q156.876 961.795 159.214 959.688 Q161.552 957.582 161.552 953.971 Q161.552 950.36 159.214 948.253 Q156.876 946.147 152.871 946.147 Q150.996 946.147 149.121 946.564 Q147.269 946.98 145.325 947.86 L145.325 930.499 Z\" fill=\"#000000\" fill-rule=\"evenodd\" fill-opacity=\"1\" /><path clip-path=\"url(#clip040)\" d=\"M114.931 524.548 L122.57 524.548 L122.57 498.182 L114.26 499.849 L114.26 495.59 L122.524 493.923 L127.2 493.923 L127.2 524.548 L134.839 524.548 L134.839 528.483 L114.931 528.483 L114.931 524.548 Z\" fill=\"#000000\" fill-rule=\"evenodd\" fill-opacity=\"1\" /><path clip-path=\"url(#clip040)\" d=\"M154.283 497.002 Q150.672 497.002 148.843 500.567 Q147.038 504.108 147.038 511.238 Q147.038 518.344 148.843 521.909 Q150.672 525.451 154.283 525.451 Q157.917 525.451 159.723 521.909 Q161.552 518.344 161.552 511.238 Q161.552 504.108 159.723 500.567 Q157.917 497.002 154.283 497.002 M154.283 493.298 Q160.093 493.298 163.149 497.905 Q166.227 502.488 166.227 511.238 Q166.227 519.965 163.149 524.571 Q160.093 529.154 154.283 529.154 Q148.473 529.154 145.394 524.571 Q142.339 519.965 142.339 511.238 Q142.339 502.488 145.394 497.905 Q148.473 493.298 154.283 493.298 Z\" fill=\"#000000\" fill-rule=\"evenodd\" fill-opacity=\"1\" /><path clip-path=\"url(#clip040)\" d=\"M115.927 87.9722 L123.566 87.9722 L123.566 61.6066 L115.256 63.2733 L115.256 59.014 L123.519 57.3474 L128.195 57.3474 L128.195 87.9722 L135.834 87.9722 L135.834 91.9074 L115.927 91.9074 L115.927 87.9722 Z\" fill=\"#000000\" fill-rule=\"evenodd\" fill-opacity=\"1\" /><path clip-path=\"url(#clip040)\" d=\"M145.325 57.3474 L163.681 57.3474 L163.681 61.2825 L149.607 61.2825 L149.607 69.7547 Q150.626 69.4075 151.644 69.2454 Q152.663 69.0603 153.681 69.0603 Q159.468 69.0603 162.848 72.2315 Q166.227 75.4028 166.227 80.8195 Q166.227 86.3981 162.755 89.5 Q159.283 92.5787 152.964 92.5787 Q150.788 92.5787 148.519 92.2083 Q146.274 91.8379 143.866 91.0972 L143.866 86.3981 Q145.95 87.5324 148.172 88.0879 Q150.394 88.6435 152.871 88.6435 Q156.876 88.6435 159.214 86.537 Q161.552 84.4305 161.552 80.8195 Q161.552 77.2084 159.214 75.1019 Q156.876 72.9954 152.871 72.9954 Q150.996 72.9954 149.121 73.4121 Q147.269 73.8288 145.325 74.7084 L145.325 57.3474 Z\" fill=\"#000000\" fill-rule=\"evenodd\" fill-opacity=\"1\" /><path clip-path=\"url(#clip040)\" d=\"M41.7242 1031.34 Q42.4244 1029.28 44.7161 1027.33 Q47.0077 1025.36 51.0181 1023.39 L64.0042 1016.86 L64.0042 1023.77 L51.8138 1029.85 Q47.0395 1032.2 45.48 1034.43 Q43.9204 1036.63 43.9204 1040.45 L43.9204 1047.45 L64.0042 1047.45 L64.0042 1053.88 L16.4842 1053.88 L16.4842 1039.37 Q16.4842 1031.22 19.8898 1027.21 Q23.2955 1023.2 30.1704 1023.2 Q34.6582 1023.2 37.6183 1025.3 Q40.5784 1027.37 41.7242 1031.34 M21.7677 1047.45 L38.6368 1047.45 L38.6368 1039.37 Q38.6368 1034.72 36.5043 1032.36 Q34.34 1029.98 30.1704 1029.98 Q26.0009 1029.98 23.9002 1032.36 Q21.7677 1034.72 21.7677 1039.37 L21.7677 1047.45 Z\" fill=\"#000000\" fill-rule=\"evenodd\" fill-opacity=\"1\" /><path clip-path=\"url(#clip040)\" d=\"M44.7161 981.278 L47.5806 981.278 L47.5806 1008.21 Q53.6281 1007.82 56.8109 1004.58 Q59.9619 1001.3 59.9619 995.474 Q59.9619 992.1 59.1344 988.949 Q58.3069 985.766 56.6518 982.647 L62.1899 982.647 Q63.5267 985.798 64.227 989.108 Q64.9272 992.418 64.9272 995.824 Q64.9272 1004.35 59.9619 1009.35 Q54.9967 1014.32 46.5303 1014.32 Q37.7774 1014.32 32.6531 1009.61 Q27.4968 1004.86 27.4968 996.843 Q27.4968 989.649 32.1438 985.48 Q36.7589 981.278 44.7161 981.278 M42.9973 987.135 Q38.1912 987.198 35.3266 989.84 Q32.4621 992.45 32.4621 996.779 Q32.4621 1001.68 35.2312 1004.64 Q38.0002 1007.57 43.0292 1008.01 L42.9973 987.135 Z\" fill=\"#000000\" fill-rule=\"evenodd\" fill-opacity=\"1\" /><path clip-path=\"url(#clip040)\" d=\"M14.479 971.666 L14.479 965.81 L64.0042 965.81 L64.0042 971.666 L14.479 971.666 Z\" fill=\"#000000\" fill-rule=\"evenodd\" fill-opacity=\"1\" /><path clip-path=\"url(#clip040)\" d=\"M46.0847 937.355 Q46.0847 944.453 47.7079 947.19 Q49.3312 949.927 53.2461 949.927 Q56.3653 949.927 58.2114 947.89 Q60.0256 945.821 60.0256 942.288 Q60.0256 937.419 56.5881 934.49 Q53.1188 931.53 47.3897 931.53 L46.0847 931.53 L46.0847 937.355 M43.6657 925.674 L64.0042 925.674 L64.0042 931.53 L58.5933 931.53 Q61.8398 933.536 63.3994 936.527 Q64.9272 939.519 64.9272 943.848 Q64.9272 949.323 61.8716 952.569 Q58.7843 955.784 53.6281 955.784 Q47.6125 955.784 44.5569 951.773 Q41.5014 947.731 41.5014 939.742 L41.5014 931.53 L40.9285 931.53 Q36.8862 931.53 34.6901 934.204 Q32.4621 936.846 32.4621 941.652 Q32.4621 944.707 33.1941 947.604 Q33.9262 950.5 35.3903 953.174 L29.9795 953.174 Q28.7381 949.959 28.1334 946.935 Q27.4968 943.912 27.4968 941.047 Q27.4968 933.313 31.5072 929.493 Q35.5176 925.674 43.6657 925.674 Z\" fill=\"#000000\" fill-rule=\"evenodd\" fill-opacity=\"1\" /><path clip-path=\"url(#clip040)\" d=\"M18.2347 907.818 L28.3562 907.818 L28.3562 895.755 L32.9077 895.755 L32.9077 907.818 L52.2594 907.818 Q56.6199 907.818 57.8613 906.64 Q59.1026 905.431 59.1026 901.771 L59.1026 895.755 L64.0042 895.755 L64.0042 901.771 Q64.0042 908.55 61.4897 911.128 Q58.9434 913.706 52.2594 913.706 L32.9077 913.706 L32.9077 918.003 L28.3562 918.003 L28.3562 913.706 L18.2347 913.706 L18.2347 907.818 Z\" fill=\"#000000\" fill-rule=\"evenodd\" fill-opacity=\"1\" /><path clip-path=\"url(#clip040)\" d=\"M28.3562 888.053 L28.3562 882.196 L64.0042 882.196 L64.0042 888.053 L28.3562 888.053 M14.479 888.053 L14.479 882.196 L21.895 882.196 L21.895 888.053 L14.479 888.053 Z\" fill=\"#000000\" fill-rule=\"evenodd\" fill-opacity=\"1\" /><path clip-path=\"url(#clip040)\" d=\"M28.3562 874.144 L28.3562 867.937 L58.275 856.797 L28.3562 845.657 L28.3562 839.45 L64.0042 852.818 L64.0042 860.776 L28.3562 874.144 Z\" fill=\"#000000\" fill-rule=\"evenodd\" fill-opacity=\"1\" /><path clip-path=\"url(#clip040)\" d=\"M28.3562 831.366 L28.3562 825.51 L64.0042 825.51 L64.0042 831.366 L28.3562 831.366 M14.479 831.366 L14.479 825.51 L21.895 825.51 L21.895 831.366 L14.479 831.366 Z\" fill=\"#000000\" fill-rule=\"evenodd\" fill-opacity=\"1\" /><path clip-path=\"url(#clip040)\" d=\"M29.4065 790.53 L34.9447 790.53 Q33.6716 793.013 33.035 795.686 Q32.3984 798.36 32.3984 801.224 Q32.3984 805.585 33.7352 807.781 Q35.072 809.945 37.7456 809.945 Q39.7826 809.945 40.9603 808.386 Q42.1061 806.826 43.1565 802.116 L43.6021 800.11 Q44.9389 793.872 47.3897 791.262 Q49.8086 788.62 54.1691 788.62 Q59.1344 788.62 62.0308 792.567 Q64.9272 796.482 64.9272 803.357 Q64.9272 806.221 64.3543 809.341 Q63.8132 812.428 62.6992 815.865 L56.6518 815.865 Q58.3387 812.619 59.198 809.468 Q60.0256 806.317 60.0256 803.23 Q60.0256 799.092 58.6251 796.864 Q57.1929 794.636 54.6147 794.636 Q52.2276 794.636 50.9545 796.259 Q49.6813 797.851 48.5037 803.293 L48.0262 805.33 Q46.8804 810.773 44.5251 813.192 Q42.138 815.611 38.0002 815.611 Q32.9713 815.611 30.2341 812.046 Q27.4968 808.481 27.4968 801.925 Q27.4968 798.678 27.9743 795.813 Q28.4517 792.949 29.4065 790.53 Z\" fill=\"#000000\" fill-rule=\"evenodd\" fill-opacity=\"1\" /><path clip-path=\"url(#clip040)\" d=\"M18.2347 773.502 L28.3562 773.502 L28.3562 761.439 L32.9077 761.439 L32.9077 773.502 L52.2594 773.502 Q56.6199 773.502 57.8613 772.324 Q59.1026 771.115 59.1026 767.454 L59.1026 761.439 L64.0042 761.439 L64.0042 767.454 Q64.0042 774.234 61.4897 776.812 Q58.9434 779.39 52.2594 779.39 L32.9077 779.39 L32.9077 783.687 L28.3562 783.687 L28.3562 779.39 L18.2347 779.39 L18.2347 773.502 Z\" fill=\"#000000\" fill-rule=\"evenodd\" fill-opacity=\"1\" /><path clip-path=\"url(#clip040)\" d=\"M28.3562 753.736 L28.3562 747.88 L64.0042 747.88 L64.0042 753.736 L28.3562 753.736 M14.479 753.736 L14.479 747.88 L21.895 747.88 L21.895 753.736 L14.479 753.736 Z\" fill=\"#000000\" fill-rule=\"evenodd\" fill-opacity=\"1\" /><path clip-path=\"url(#clip040)\" d=\"M29.7248 709.972 L35.1993 709.972 Q33.8307 712.455 33.1623 714.969 Q32.4621 717.452 32.4621 719.998 Q32.4621 725.695 36.0905 728.846 Q39.6872 731.997 46.212 731.997 Q52.7369 731.997 56.3653 728.846 Q59.9619 725.695 59.9619 719.998 Q59.9619 717.452 59.2935 714.969 Q58.5933 712.455 57.2247 709.972 L62.6355 709.972 Q63.7814 712.423 64.3543 715.065 Q64.9272 717.674 64.9272 720.635 Q64.9272 728.687 59.8664 733.43 Q54.8057 738.172 46.212 738.172 Q37.491 738.172 32.4939 733.398 Q27.4968 728.592 27.4968 720.253 Q27.4968 717.547 28.0697 714.969 Q28.6108 712.391 29.7248 709.972 Z\" fill=\"#000000\" fill-rule=\"evenodd\" fill-opacity=\"1\" /><path clip-path=\"url(#clip040)\" d=\"M29.4065 656.341 L34.9447 656.341 Q33.6716 658.823 33.035 661.497 Q32.3984 664.171 32.3984 667.035 Q32.3984 671.396 33.7352 673.592 Q35.072 675.756 37.7456 675.756 Q39.7826 675.756 40.9603 674.197 Q42.1061 672.637 43.1565 667.926 L43.6021 665.921 Q44.9389 659.683 47.3897 657.073 Q49.8086 654.431 54.1691 654.431 Q59.1344 654.431 62.0308 658.378 Q64.9272 662.293 64.9272 669.168 Q64.9272 672.032 64.3543 675.152 Q63.8132 678.239 62.6992 681.676 L56.6518 681.676 Q58.3387 678.43 59.198 675.279 Q60.0256 672.128 60.0256 669.04 Q60.0256 664.903 58.6251 662.675 Q57.1929 660.447 54.6147 660.447 Q52.2276 660.447 50.9545 662.07 Q49.6813 663.661 48.5037 669.104 L48.0262 671.141 Q46.8804 676.584 44.5251 679.003 Q42.138 681.422 38.0002 681.422 Q32.9713 681.422 30.2341 677.857 Q27.4968 674.292 27.4968 667.735 Q27.4968 664.489 27.9743 661.624 Q28.4517 658.76 29.4065 656.341 Z\" fill=\"#000000\" fill-rule=\"evenodd\" fill-opacity=\"1\" /><path clip-path=\"url(#clip040)\" d=\"M42.4881 615.473 L64.0042 615.473 L64.0042 621.329 L42.679 621.329 Q37.6183 621.329 35.1038 623.303 Q32.5894 625.276 32.5894 629.223 Q32.5894 633.965 35.6131 636.703 Q38.6368 639.44 43.8567 639.44 L64.0042 639.44 L64.0042 645.328 L14.479 645.328 L14.479 639.44 L33.8944 639.44 Q30.6797 637.339 29.0883 634.506 Q27.4968 631.642 27.4968 627.918 Q27.4968 621.775 31.3163 618.624 Q35.1038 615.473 42.4881 615.473 Z\" fill=\"#000000\" fill-rule=\"evenodd\" fill-opacity=\"1\" /><path clip-path=\"url(#clip040)\" d=\"M28.3562 603.792 L28.3562 597.936 L64.0042 597.936 L64.0042 603.792 L28.3562 603.792 M14.479 603.792 L14.479 597.936 L21.895 597.936 L21.895 603.792 L14.479 603.792 Z\" fill=\"#000000\" fill-rule=\"evenodd\" fill-opacity=\"1\" /><path clip-path=\"url(#clip040)\" d=\"M14.479 567.635 L19.3487 567.635 L19.3487 573.237 Q19.3487 576.388 20.6219 577.629 Q21.895 578.838 25.2052 578.838 L28.3562 578.838 L28.3562 569.194 L32.9077 569.194 L32.9077 578.838 L64.0042 578.838 L64.0042 584.727 L32.9077 584.727 L32.9077 590.328 L28.3562 590.328 L28.3562 584.727 L25.8736 584.727 Q19.9216 584.727 17.2162 581.958 Q14.479 579.188 14.479 573.173 L14.479 567.635 Z\" fill=\"#000000\" fill-rule=\"evenodd\" fill-opacity=\"1\" /><path clip-path=\"url(#clip040)\" d=\"M18.2347 558.086 L28.3562 558.086 L28.3562 546.023 L32.9077 546.023 L32.9077 558.086 L52.2594 558.086 Q56.6199 558.086 57.8613 556.909 Q59.1026 555.699 59.1026 552.039 L59.1026 546.023 L64.0042 546.023 L64.0042 552.039 Q64.0042 558.818 61.4897 561.396 Q58.9434 563.974 52.2594 563.974 L32.9077 563.974 L32.9077 568.271 L28.3562 568.271 L28.3562 563.974 L18.2347 563.974 L18.2347 558.086 Z\" fill=\"#000000\" fill-rule=\"evenodd\" fill-opacity=\"1\" /><path clip-path=\"url(#clip040)\" d=\"M14.5426 503.532 Q21.8632 507.797 29.0246 509.866 Q36.186 511.935 43.5384 511.935 Q50.8908 511.935 58.1159 509.866 Q65.3091 507.765 72.5979 503.532 L72.5979 508.625 Q65.1182 513.399 57.8931 515.786 Q50.668 518.141 43.5384 518.141 Q36.4406 518.141 29.2474 515.786 Q22.0542 513.431 14.5426 508.625 L14.5426 503.532 Z\" fill=\"#000000\" fill-rule=\"evenodd\" fill-opacity=\"1\" /><path clip-path=\"url(#clip040)\" d=\"M43.0928 450.92 Q43.0928 453.689 45.4481 455.28 Q47.8034 456.84 52.0048 456.84 Q56.1425 456.84 58.5296 455.28 Q60.885 453.689 60.885 450.92 Q60.885 448.214 58.5296 446.654 Q56.1425 445.063 52.0048 445.063 Q47.8353 445.063 45.48 446.654 Q43.0928 448.214 43.0928 450.92 M39.0506 450.92 Q39.0506 445.891 42.5517 442.931 Q46.0529 439.97 52.0048 439.97 Q57.9567 439.97 61.4579 442.962 Q64.9272 445.922 64.9272 450.92 Q64.9272 456.012 61.4579 458.972 Q57.9567 461.932 52.0048 461.932 Q46.021 461.932 42.5517 458.972 Q39.0506 455.98 39.0506 450.92 M19.667 483.767 Q19.667 486.504 22.0542 488.095 Q24.4095 489.655 28.5472 489.655 Q32.7485 489.655 35.1038 488.095 Q37.4592 486.536 37.4592 483.767 Q37.4592 480.997 35.1038 479.438 Q32.7485 477.846 28.5472 477.846 Q24.4413 477.846 22.0542 479.438 Q19.667 481.029 19.667 483.767 M15.6248 455.025 L15.6248 449.933 L64.9272 479.661 L64.9272 484.753 L15.6248 455.025 M15.6248 483.767 Q15.6248 478.738 19.1259 475.746 Q22.5952 472.754 28.5472 472.754 Q34.5628 472.754 38.0321 475.746 Q41.5014 478.706 41.5014 483.767 Q41.5014 488.827 38.0321 491.787 Q34.5309 494.716 28.5472 494.716 Q22.6271 494.716 19.1259 491.756 Q15.6248 488.795 15.6248 483.767 Z\" fill=\"#000000\" fill-rule=\"evenodd\" fill-opacity=\"1\" /><path clip-path=\"url(#clip040)\" d=\"M14.5426 431.154 L14.5426 426.061 Q22.0542 421.287 29.2474 418.932 Q36.4406 416.545 43.5384 416.545 Q50.668 416.545 57.8931 418.932 Q65.1182 421.287 72.5979 426.061 L72.5979 431.154 Q65.3091 426.921 58.1159 424.852 Q50.8908 422.751 43.5384 422.751 Q36.186 422.751 29.0246 424.852 Q21.8632 426.921 14.5426 431.154 Z\" fill=\"#000000\" fill-rule=\"evenodd\" fill-opacity=\"1\" /><polyline clip-path=\"url(#clip042)\" style=\"stroke:#009af9; stroke-linecap:butt; stroke-linejoin:round; stroke-width:4; stroke-opacity:1; fill:none\" points=\"\n",
       "  263.091,1384.24 285.386,1383.89 307.681,1383.31 329.975,1382.49 352.27,1381.45 374.564,1380.17 396.859,1378.65 419.153,1376.9 441.448,1374.92 463.742,1372.7 \n",
       "  486.037,1370.24 508.331,1367.55 530.626,1364.62 552.92,1361.45 575.215,1358.04 597.509,1354.39 619.804,1350.5 642.098,1346.36 664.393,1341.98 686.687,1337.36 \n",
       "  708.982,1332.48 731.276,1327.36 753.571,1321.98 775.865,1316.35 798.16,1310.47 820.454,1304.33 842.749,1297.93 865.043,1291.27 887.338,1284.34 909.632,1277.15 \n",
       "  931.927,1269.69 954.221,1261.96 976.516,1253.96 998.81,1245.68 1021.1,1237.12 1043.4,1228.27 1065.69,1219.14 1087.99,1209.72 1110.28,1200.01 1132.58,1190 \n",
       "  1154.87,1179.69 1177.17,1169.07 1199.46,1158.14 1221.76,1146.91 1244.05,1135.35 1266.34,1123.47 1288.64,1111.26 1310.93,1098.73 1333.23,1085.85 1355.52,1072.63 \n",
       "  1377.82,1059.06 1400.11,1045.14 1422.41,1030.86 1444.7,1016.21 1467,1001.19 1489.29,985.782 1511.58,969.991 1533.88,953.804 1556.17,937.215 1578.47,920.215 \n",
       "  1600.76,902.795 1623.06,884.948 1645.35,866.663 1667.65,847.932 1689.94,828.744 1712.23,809.09 1734.53,788.958 1756.82,768.337 1779.12,747.216 1801.41,725.583 \n",
       "  1823.71,703.424 1846,680.727 1868.3,657.477 1890.59,633.659 1912.89,609.26 1935.18,584.261 1957.47,558.648 1979.77,532.402 2002.06,505.504 2024.36,477.936 \n",
       "  2046.65,449.677 2068.95,420.705 2091.24,390.999 2113.54,360.533 2135.83,329.285 2158.12,297.226 2180.42,264.329 2202.71,230.565 2225.01,195.903 2247.3,160.309 \n",
       "  2269.6,123.749 2291.89,86.1857 \n",
       "  \"/>\n",
       "</svg>\n"
      ]
     },
     "execution_count": 14,
     "metadata": {},
     "output_type": "execute_result"
    }
   ],
   "source": [
    "plot(Zs, (Enr.\\Er.-1)*100 , xlabel = \"Nuclear charge\", ylabel=\"Relativistic shift (%)\", label=false)"
   ]
  },
  {
   "cell_type": "code",
   "execution_count": null,
   "metadata": {},
   "outputs": [],
   "source": []
  }
 ],
 "metadata": {
  "@webio": {
   "lastCommId": null,
   "lastKernelId": null
  },
  "kernelspec": {
   "display_name": "Julia 1.6.2",
   "language": "julia",
   "name": "julia-1.6"
  },
  "language_info": {
   "file_extension": ".jl",
   "mimetype": "application/julia",
   "name": "julia",
   "version": "1.6.2"
  }
 },
 "nbformat": 4,
 "nbformat_minor": 4
}
