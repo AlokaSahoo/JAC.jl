{
 "cells": [
  {
   "cell_type": "markdown",
   "metadata": {},
   "source": [
    "# Cascade decay of a Ne 1s-hole: Simulate the final ion distribution"
   ]
  },
  {
   "cell_type": "markdown",
   "metadata": {},
   "source": [
    "# **This nootebook is still under construction !!!**"
   ]
  },
  {
   "cell_type": "code",
   "execution_count": 1,
   "metadata": {},
   "outputs": [
    {
     "data": {
      "text/html": [
       "<script>\n",
       "// Immediately-invoked-function-expression to avoid global variables.\n",
       "(function() {\n",
       "    var warning_div = document.getElementById(\"webio-warning-5401211853016568705\");\n",
       "    var hide = function () {\n",
       "        var script = document.getElementById(\"webio-setup-6630359014716717077\");\n",
       "        var parent = script && script.parentElement;\n",
       "        var grandparent = parent && parent.parentElement;\n",
       "        if (grandparent) {\n",
       "            grandparent.style.display = \"none\";\n",
       "        }\n",
       "        warning_div.style.display = \"none\";\n",
       "    };\n",
       "    if (typeof Jupyter !== \"undefined\") {\n",
       "        console.log(\"WebIO detected Jupyter notebook environment.\");\n",
       "        // Jupyter notebook.\n",
       "        var extensions = (\n",
       "            Jupyter\n",
       "            && Jupyter.notebook.config.data\n",
       "            && Jupyter.notebook.config.data.load_extensions\n",
       "        );\n",
       "        if (extensions && extensions[\"webio-jupyter-notebook\"]) {\n",
       "            // Extension already loaded.\n",
       "            console.log(\"Jupyter WebIO nbextension detected; not loading ad-hoc.\");\n",
       "            hide();\n",
       "            return;\n",
       "        }\n",
       "    } else if (window.location.pathname.includes(\"/lab\")) {\n",
       "        // Guessing JupyterLa\n",
       "        console.log(\"Jupyter Lab detected; make sure the @webio/jupyter-lab-provider labextension is installed.\");\n",
       "        hide();\n",
       "        return;\n",
       "    }\n",
       "})();\n",
       "\n",
       "</script>\n",
       "<p\n",
       "    id=\"webio-warning-5401211853016568705\"\n",
       "    class=\"output_text output_stderr\"\n",
       "    style=\"padding: 1em; font-weight: bold;\"\n",
       ">\n",
       "    Unable to load WebIO. Please make sure WebIO works for your Jupyter client.\n",
       "    For troubleshooting, please see <a href=\"https://juliagizmos.github.io/WebIO.jl/latest/providers/ijulia/\">\n",
       "    the WebIO/IJulia documentation</a>.\n",
       "    <!-- TODO: link to installation docs. -->\n",
       "</p>\n"
      ],
      "text/plain": [
       "HTML{String}(\"<script>\\n// Immediately-invoked-function-expression to avoid global variables.\\n(function() {\\n    var warning_div = document.getElementById(\\\"webio-warning-5401211853016568705\\\");\\n    var hide = function () {\\n        var script = document.getElementById(\\\"webio-setup-6630359014716717077\\\");\\n        var parent = script && script.parentElement;\\n        var grandparent = parent && parent.parentElement;\\n        if (grandparent) {\\n            grandparent.style.display = \\\"none\\\";\\n        }\\n        warning_div.style.display = \\\"none\\\";\\n    };\\n    if (typeof Jupyter !== \\\"undefined\\\") {\\n        console.log(\\\"WebIO detected Jupyter notebook environment.\\\");\\n        // Jupyter notebook.\\n        var extensions = (\\n            Jupyter\\n            && Jupyter.notebook.config.data\\n            && Jupyter.notebook.config.data.load_extensions\\n        );\\n        if (extensions && extensions[\\\"webio-jupyter-notebook\\\"]) {\\n            // Extension already loaded.\\n            console.log(\\\"Jupyter WebIO nbextension detected; not loading ad-hoc.\\\");\\n            hide();\\n            return;\\n        }\\n    } else if (window.location.pathname.includes(\\\"/lab\\\")) {\\n        // Guessing JupyterLa\\n        console.log(\\\"Jupyter Lab detected; make sure the @webio/jupyter-lab-provider labextension is installed.\\\");\\n        hide();\\n        return;\\n    }\\n})();\\n\\n</script>\\n<p\\n    id=\\\"webio-warning-5401211853016568705\\\"\\n    class=\\\"output_text output_stderr\\\"\\n    style=\\\"padding: 1em; font-weight: bold;\\\"\\n>\\n    Unable to load WebIO. Please make sure WebIO works for your Jupyter client.\\n    For troubleshooting, please see <a href=\\\"https://juliagizmos.github.io/WebIO.jl/latest/providers/ijulia/\\\">\\n    the WebIO/IJulia documentation</a>.\\n    <!-- TODO: link to installation docs. -->\\n</p>\\n\")"
      ]
     },
     "metadata": {},
     "output_type": "display_data"
    }
   ],
   "source": [
    "using JAC"
   ]
  },
  {
   "cell_type": "markdown",
   "metadata": {},
   "source": [
    "\n"
   ]
  },
  {
   "cell_type": "code",
   "execution_count": 4,
   "metadata": {},
   "outputs": [
    {
     "data": {
      "text/latex": [
       "\\texttt{struct  Atomic.Representation}       ... a struct for defining an atomic representation. Such representations often refer to approximate wave function approximations of         one or several levels but may concern also a mean-field basis (for some multiplet of some given configurations) or Green functions,         etc.\n",
       "\n",
       "\\begin{verbatim}\n",
       "+ name             ::String                      ... to assign a name to the given model.\n",
       "+ nuclearModel     ::Nuclear.Model               ... Model, charge and parameters of the nucleus.\n",
       "+ grid             ::Radial.Grid                 ... The radial grid to be used for the computation.\n",
       "+ refConfigs       ::Array{Configuration,1}      ... List of references configurations, at least 1.\n",
       "+ repType          ::AbstractRepresentationType  ... Specifies the particular representation.\n",
       "\\end{verbatim}\n",
       "\\rule{\\textwidth}{1pt}\n",
       "\\texttt{Atomic.Representation()}  ... constructor for an 'empty' instance of the a variable::Atomic.Representation\n",
       "\n"
      ],
      "text/markdown": [
       "`struct  Atomic.Representation`       ... a struct for defining an atomic representation. Such representations often refer to approximate wave function approximations of         one or several levels but may concern also a mean-field basis (for some multiplet of some given configurations) or Green functions,         etc.\n",
       "\n",
       "```\n",
       "+ name             ::String                      ... to assign a name to the given model.\n",
       "+ nuclearModel     ::Nuclear.Model               ... Model, charge and parameters of the nucleus.\n",
       "+ grid             ::Radial.Grid                 ... The radial grid to be used for the computation.\n",
       "+ refConfigs       ::Array{Configuration,1}      ... List of references configurations, at least 1.\n",
       "+ repType          ::AbstractRepresentationType  ... Specifies the particular representation.\n",
       "```\n",
       "\n",
       "---\n",
       "\n",
       "`Atomic.Representation()`  ... constructor for an 'empty' instance of the a variable::Atomic.Representation\n"
      ],
      "text/plain": [
       "  \u001b[36mstruct  Atomic.Representation\u001b[39m ... a struct for defining an atomic\n",
       "  representation. Such representations often refer to approximate wave\n",
       "  function approximations of one or several levels but may concern also a\n",
       "  mean-field basis (for some multiplet of some given configurations) or Green\n",
       "  functions, etc.\n",
       "\n",
       "\u001b[36m  + name             ::String                      ... to assign a name to the given model.\u001b[39m\n",
       "\u001b[36m  + nuclearModel     ::Nuclear.Model               ... Model, charge and parameters of the nucleus.\u001b[39m\n",
       "\u001b[36m  + grid             ::Radial.Grid                 ... The radial grid to be used for the computation.\u001b[39m\n",
       "\u001b[36m  + refConfigs       ::Array{Configuration,1}      ... List of references configurations, at least 1.\u001b[39m\n",
       "\u001b[36m  + repType          ::AbstractRepresentationType  ... Specifies the particular representation.\u001b[39m\n",
       "\n",
       "  ────────────────────────────────────────────────────────────────────────────\n",
       "\n",
       "  \u001b[36mAtomic.Representation()\u001b[39m ... constructor for an 'empty' instance of the a\n",
       "  variable::Atomic.Representation"
      ]
     },
     "execution_count": 4,
     "metadata": {},
     "output_type": "execute_result"
    }
   ],
   "source": [
    "? Atomic.Representation"
   ]
  },
  {
   "cell_type": "markdown",
   "metadata": {},
   "source": [
    "Apart from a name of the representations the nuclear model of the atom and the radial grid, a representation is characterized by a list of *reference* configuration from which the details of the representations is derived, either in a single step or stepwise."
   ]
  },
  {
   "cell_type": "code",
   "execution_count": null,
   "metadata": {},
   "outputs": [],
   "source": []
  }
 ],
 "metadata": {
  "@webio": {
   "lastCommId": null,
   "lastKernelId": null
  },
  "kernelspec": {
   "display_name": "Julia 1.0.3",
   "language": "julia",
   "name": "julia-1.0"
  },
  "language_info": {
   "file_extension": ".jl",
   "mimetype": "application/julia",
   "name": "julia",
   "version": "1.0.3"
  }
 },
 "nbformat": 4,
 "nbformat_minor": 4
}
