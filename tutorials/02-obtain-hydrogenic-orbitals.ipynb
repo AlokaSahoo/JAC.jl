{
 "cells": [
  {
   "cell_type": "markdown",
   "metadata": {},
   "source": [
    "# Hydrogenic computations"
   ]
  },
  {
   "cell_type": "code",
   "execution_count": 1,
   "metadata": {},
   "outputs": [
    {
     "data": {
      "text/html": [
       "<script>\n",
       "// Immediately-invoked-function-expression to avoid global variables.\n",
       "(function() {\n",
       "    var warning_div = document.getElementById(\"webio-warning-7792779517658118884\");\n",
       "    var hide = function () {\n",
       "        var script = document.getElementById(\"webio-setup-9799258915683058178\");\n",
       "        var parent = script && script.parentElement;\n",
       "        var grandparent = parent && parent.parentElement;\n",
       "        if (grandparent) {\n",
       "            grandparent.style.display = \"none\";\n",
       "        }\n",
       "        warning_div.style.display = \"none\";\n",
       "    };\n",
       "    if (typeof Jupyter !== \"undefined\") {\n",
       "        console.log(\"WebIO detected Jupyter notebook environment.\");\n",
       "        // Jupyter notebook.\n",
       "        var extensions = (\n",
       "            Jupyter\n",
       "            && Jupyter.notebook.config.data\n",
       "            && Jupyter.notebook.config.data.load_extensions\n",
       "        );\n",
       "        if (extensions && extensions[\"webio-jupyter-notebook\"]) {\n",
       "            // Extension already loaded.\n",
       "            console.log(\"Jupyter WebIO nbextension detected; not loading ad-hoc.\");\n",
       "            hide();\n",
       "            return;\n",
       "        }\n",
       "    } else if (window.location.pathname.includes(\"/lab\")) {\n",
       "        // Guessing JupyterLa\n",
       "        console.log(\"Jupyter Lab detected; make sure the @webio/jupyter-lab-provider labextension is installed.\");\n",
       "        hide();\n",
       "        return;\n",
       "    }\n",
       "})();\n",
       "\n",
       "</script>\n",
       "<p\n",
       "    id=\"webio-warning-7792779517658118884\"\n",
       "    class=\"output_text output_stderr\"\n",
       "    style=\"padding: 1em; font-weight: bold;\"\n",
       ">\n",
       "    Unable to load WebIO. Please make sure WebIO works for your Jupyter client.\n",
       "    For troubleshooting, please see <a href=\"https://juliagizmos.github.io/WebIO.jl/latest/providers/ijulia/\">\n",
       "    the WebIO/IJulia documentation</a>.\n",
       "    <!-- TODO: link to installation docs. -->\n",
       "</p>\n"
      ],
      "text/plain": [
       "HTML{String}(\"<script>\\n// Immediately-invoked-function-expression to avoid global variables.\\n(function() {\\n    var warning_div = document.getElementById(\\\"webio-warning-7792779517658118884\\\");\\n    var hide = function () {\\n        var script = document.getElementById(\\\"webio-setup-9799258915683058178\\\");\\n        var parent = script && script.parentElement;\\n        var grandparent = parent && parent.parentElement;\\n        if (grandparent) {\\n            grandparent.style.display = \\\"none\\\";\\n        }\\n        warning_div.style.display = \\\"none\\\";\\n    };\\n    if (typeof Jupyter !== \\\"undefined\\\") {\\n        console.log(\\\"WebIO detected Jupyter notebook environment.\\\");\\n        // Jupyter notebook.\\n        var extensions = (\\n            Jupyter\\n            && Jupyter.notebook.config.data\\n            && Jupyter.notebook.config.data.load_extensions\\n        );\\n        if (extensions && extensions[\\\"webio-jupyter-notebook\\\"]) {\\n            // Extension already loaded.\\n            console.log(\\\"Jupyter WebIO nbextension detected; not loading ad-hoc.\\\");\\n            hide();\\n            return;\\n        }\\n    } else if (window.location.pathname.includes(\\\"/lab\\\")) {\\n        // Guessing JupyterLa\\n        console.log(\\\"Jupyter Lab detected; make sure the @webio/jupyter-lab-provider labextension is installed.\\\");\\n        hide();\\n        return;\\n    }\\n})();\\n\\n</script>\\n<p\\n    id=\\\"webio-warning-7792779517658118884\\\"\\n    class=\\\"output_text output_stderr\\\"\\n    style=\\\"padding: 1em; font-weight: bold;\\\"\\n>\\n    Unable to load WebIO. Please make sure WebIO works for your Jupyter client.\\n    For troubleshooting, please see <a href=\\\"https://juliagizmos.github.io/WebIO.jl/latest/providers/ijulia/\\\">\\n    the WebIO/IJulia documentation</a>.\\n    <!-- TODO: link to installation docs. -->\\n</p>\\n\")"
      ]
     },
     "metadata": {},
     "output_type": "display_data"
    }
   ],
   "source": [
    "using JAC"
   ]
  },
  {
   "cell_type": "markdown",
   "metadata": {},
   "source": [
    "Perhaps, the simplest atomic computations can be made for hydrogenic ions. If we consider, for example, hydrogen-like argon $(Z=18)$, let us first determine and compare the energies of the $1s$ and $2p$ levels from the (non-relativistic) Schroedinger equation with those from Dirac's relativistic equation by"
   ]
  },
  {
   "cell_type": "code",
   "execution_count": 2,
   "metadata": {},
   "outputs": [
    {
     "name": "stdout",
     "output_type": "stream",
     "text": [
      "  Energy for shell 1s is [in eV]: -4.40824454e+03\n"
     ]
    },
    {
     "data": {
      "text/plain": [
       "-162.0"
      ]
     },
     "execution_count": 2,
     "metadata": {},
     "output_type": "execute_result"
    }
   ],
   "source": [
    "Z     = 18.0\n",
    "e1s   = HydrogenicIon.energy(Shell(\"1s\"), Z)           "
   ]
  },
  {
   "cell_type": "code",
   "execution_count": 3,
   "metadata": {},
   "outputs": [
    {
     "name": "stdout",
     "output_type": "stream",
     "text": [
      "  Energy for shell 2p is [in eV]: -1.10206113e+03\n",
      "  Energy for subshell 2p_1/2 is [in eV]: -1.10805754e+03\n",
      "  Energy for subshell 2p_3/2 is [in eV]: -1.10325210e+03\n"
     ]
    },
    {
     "data": {
      "text/plain": [
       "-40.54376720995463"
      ]
     },
     "execution_count": 3,
     "metadata": {},
     "output_type": "execute_result"
    }
   ],
   "source": [
    "e2p   = HydrogenicIon.energy(Shell(\"2p\"), Z)\n",
    "e2p_1 = HydrogenicIon.energy(Subshell(\"2p_1/2\"), Z)   \n",
    "e2p_3 = HydrogenicIon.energy(Subshell(\"2p_3/2\"), Z)"
   ]
  },
  {
   "cell_type": "markdown",
   "metadata": {},
   "source": [
    "While the (one-electron) energies are displayed by the function  `HydrogenicIon.energy()` in the default units (here eV), and as could be overwritten by the user, all **computations are internally performed and returned always in atomic units**, if not stated otherwise in the description of some particular function. This is easily seen from the output above and below for variables `e2p`, `e2p_1`, `e2p_3`: "
   ]
  },
  {
   "cell_type": "code",
   "execution_count": 4,
   "metadata": {},
   "outputs": [
    {
     "data": {
      "text/plain": [
       "(-40.5, -40.720363843040175, -40.54376720995463)"
      ]
     },
     "execution_count": 4,
     "metadata": {},
     "output_type": "execute_result"
    }
   ],
   "source": [
    "(e2p, e2p_1, e2p_3) "
   ]
  },
  {
   "cell_type": "markdown",
   "metadata": {},
   "source": [
    "The units of energies, rates and several other physical properties can be however quite easily converted among each other, for instance, by:"
   ]
  },
  {
   "cell_type": "code",
   "execution_count": 5,
   "metadata": {},
   "outputs": [
    {
     "data": {
      "text/plain": [
       "(-162.0, -4408.24453524, -162.0)"
      ]
     },
     "execution_count": 5,
     "metadata": {},
     "output_type": "execute_result"
    }
   ],
   "source": [
    "e1s_eV = convertUnits(\"energy: from atomic to eV\", e1s)\n",
    "e1s_au = convertUnits(\"energy: from eV to atomic\", e1s_eV)\n",
    "(e1s, e1s_eV, e1s_au)"
   ]
  },
  {
   "cell_type": "markdown",
   "metadata": {},
   "source": [
    "... and similarly also for other energy units as well as for other physical entities; cf. `? convertUnits()`.\n",
    "\n",
    "From these energies, we can easily compute the fine-structure splitting of the $2p$ level into the $2p_{1/2}$ and $2p_{3/2}$ fine-structure levels for hydrogen-like argon from above:"
   ]
  },
  {
   "cell_type": "code",
   "execution_count": 6,
   "metadata": {},
   "outputs": [
    {
     "data": {
      "text/plain": [
       "-4.805439152723064"
      ]
     },
     "execution_count": 6,
     "metadata": {},
     "output_type": "execute_result"
    }
   ],
   "source": [
    "e13 = e2p_1 - e2p_3\n",
    "e13_eV = convertUnits(\"energy: from atomic to eV\", e13)"
   ]
  },
  {
   "cell_type": "markdown",
   "metadata": {},
   "source": [
    "\n",
    "Apart from the (single-electron) energies, we can generate also the radial orbitals, i.e. the $P(r)$ in the non-relativistic theory or  $P(r)$ and $Q(r)$  in the relativistic theory. However, the general (and analytically well-known) solutions of Dirac's equation are presently not implemented in full detail. Instead, a good approximation is obtained by just applying the **kinetic-balance condition** to the non-relativistic $P^\\mathrm{\\,(nonrel)} (r)$  function and, then, by re-normalizing the large and small components ($P$ and $Q$) together. \n",
    "        \n",
    "The non-relativistic radial orbitals $P(r)$ can be obtained either for a single $r$-value, for a list of $r$-values as well as for all $r$-values on a given radial grid. -- We here apply an exponential grid to make further use of these functions in computing various expectation values:\n"
   ]
  },
  {
   "cell_type": "code",
   "execution_count": 7,
   "metadata": {
    "scrolled": true
   },
   "outputs": [
    {
     "name": "stdout",
     "output_type": "stream",
     "text": [
      "Define a radial grid of type MeshGL with 400 grid points\n",
      " [rnt=2.000e-06, h=5.000e-02, hp=0.000e+00, NoPoints=390, r_max=9.161e+02;\n",
      "  B-splines with break points at every 7th point, nsL=56, nsS=57, orderL=7, orderS=8, orderGL=7] \n"
     ]
    },
    {
     "data": {
      "text/plain": [
       "390-element Array{Float64,1}:\n",
       " 0.0                   \n",
       " 1.276274684307269e-13 \n",
       " 3.291998155158454e-12 \n",
       " 1.7395704550687125e-11\n",
       " 4.9276751188999534e-11\n",
       " 9.739045103145474e-11 \n",
       " 1.494525618906226e-10 \n",
       " 1.872027746796344e-10 \n",
       " 2.115980901879572e-10 \n",
       " 2.760306684336958e-10 \n",
       " 3.9832478518661183e-10\n",
       " 5.760410942349026e-10 \n",
       " 7.864450578984476e-10 \n",
       " ⋮                     \n",
       " 0.0                   \n",
       " 0.0                   \n",
       " 0.0                   \n",
       " 0.0                   \n",
       " 0.0                   \n",
       " 0.0                   \n",
       " 0.0                   \n",
       " 0.0                   \n",
       " 0.0                   \n",
       " 0.0                   \n",
       " 0.0                   \n",
       " 0.0                   "
      ]
     },
     "execution_count": 7,
     "metadata": {},
     "output_type": "execute_result"
    }
   ],
   "source": [
    "grid   = Radial.Grid(\"grid: exponential\")\n",
    "Pnr_1s = HydrogenicIon.radialOrbital(Shell(\"1s\"), Z, grid)\n",
    "Pnr_2p = HydrogenicIon.radialOrbital(Shell(\"2p\"), Z, grid)"
   ]
  },
  {
   "cell_type": "markdown",
   "metadata": {},
   "source": [
    "Here, the exponential tails of the radial orbitals are simply set to zero if $|P| < 1.0e-15$ (and similarly for $|Q|$).\n",
    "\n",
    "All these (radial) orbitals can be plotted also by the standard plot procedures; within JAC, however, special plotting functions are provided only for (relativistic) radial Orbital(s) which carry all their information by using the `struct Orbital`:"
   ]
  },
  {
   "cell_type": "code",
   "execution_count": 8,
   "metadata": {
    "scrolled": true
   },
   "outputs": [
    {
     "name": "stdout",
     "output_type": "stream",
     "text": [
      "search: \u001b[0m\u001b[1mO\u001b[22m\u001b[0m\u001b[1mr\u001b[22m\u001b[0m\u001b[1mb\u001b[22m\u001b[0m\u001b[1mi\u001b[22m\u001b[0m\u001b[1mt\u001b[22m\u001b[0m\u001b[1ma\u001b[22m\u001b[0m\u001b[1ml\u001b[22m Ph\u001b[0m\u001b[1mo\u001b[22mto\u001b[0m\u001b[1mR\u001b[22mecom\u001b[0m\u001b[1mb\u001b[22m\u001b[0m\u001b[1mi\u001b[22mna\u001b[0m\u001b[1mt\u001b[22mion Multip\u001b[0m\u001b[1mo\u001b[22mlePola\u001b[0m\u001b[1mr\u001b[22mizi\u001b[0m\u001b[1mb\u001b[22m\u001b[0m\u001b[1mi\u001b[22mli\u001b[0m\u001b[1mt\u001b[22my\n",
      "\n"
     ]
    },
    {
     "data": {
      "text/latex": [
       "\\texttt{struct  Radial.Orbital}       ... defines a type for a single-electron radial orbital function with a large and small component, and which can refer to         either the standard or an explicitly given grid due to the logical flag useStandardGrid. Bound-state orbitals with energy < 0 are          distinguished from free-electron orbitals by the flag isBound.\n",
       "\n",
       "\\begin{verbatim}\n",
       "+ subshell        ::Subshell          ... Relativistic subshell.\n",
       "+ isBound         ::Bool              ... Logical flag to distinguish between bound (true) and free-electron orbitals (false).\n",
       "+ useStandardGrid ::Bool              ... Logical flag for using the standard grid (true) or an explicitly given grid (false).\n",
       "+ energy          ::Float64           ... Single-electron energies of bound orbitals are always negative.\n",
       "+ P               ::Array{Float64,1}  ... Large and ..\n",
       "+ Q               ::Array{Float64,1}  ... small component of the radial orbital.\n",
       "+ Pprime          ::Array{Float64,1}  ... dP/dr.\n",
       "+ Qprime          ::Array{Float64,1}  ... dQ/dr.\n",
       "+ grid            ::Array{Float64,1}  ... explic. defined radial grid array for P, Q, if StandardGrid = false.\n",
       "\\end{verbatim}\n",
       "\\rule{\\textwidth}{1pt}\n",
       "\\texttt{Radial.Orbital(subshell::Subshell, energy::Float64)}       ... constructor for given subshell and energy, and where useStandardGrid is set to true; the grid must be defined          explicitly and neither the large and small components nor their derivatives are yet defined in this case.\n",
       "\n",
       "\\rule{\\textwidth}{1pt}\n",
       "\\texttt{Radial.Orbital(label::String, energy::Float64)}       ... constructor for given string identifier and energy, and where useStandardGrid is set to true; the grid must be          defined explicitly and neither the large and small components nor their derivatives are yet defined in this case.\n",
       "\n"
      ],
      "text/markdown": [
       "`struct  Radial.Orbital`       ... defines a type for a single-electron radial orbital function with a large and small component, and which can refer to         either the standard or an explicitly given grid due to the logical flag useStandardGrid. Bound-state orbitals with energy < 0 are          distinguished from free-electron orbitals by the flag isBound.\n",
       "\n",
       "```\n",
       "+ subshell        ::Subshell          ... Relativistic subshell.\n",
       "+ isBound         ::Bool              ... Logical flag to distinguish between bound (true) and free-electron orbitals (false).\n",
       "+ useStandardGrid ::Bool              ... Logical flag for using the standard grid (true) or an explicitly given grid (false).\n",
       "+ energy          ::Float64           ... Single-electron energies of bound orbitals are always negative.\n",
       "+ P               ::Array{Float64,1}  ... Large and ..\n",
       "+ Q               ::Array{Float64,1}  ... small component of the radial orbital.\n",
       "+ Pprime          ::Array{Float64,1}  ... dP/dr.\n",
       "+ Qprime          ::Array{Float64,1}  ... dQ/dr.\n",
       "+ grid            ::Array{Float64,1}  ... explic. defined radial grid array for P, Q, if StandardGrid = false.\n",
       "```\n",
       "\n",
       "---\n",
       "\n",
       "`Radial.Orbital(subshell::Subshell, energy::Float64)`       ... constructor for given subshell and energy, and where useStandardGrid is set to true; the grid must be defined          explicitly and neither the large and small components nor their derivatives are yet defined in this case.\n",
       "\n",
       "---\n",
       "\n",
       "`Radial.Orbital(label::String, energy::Float64)`       ... constructor for given string identifier and energy, and where useStandardGrid is set to true; the grid must be          defined explicitly and neither the large and small components nor their derivatives are yet defined in this case.\n"
      ],
      "text/plain": [
       "  \u001b[36mstruct  Radial.Orbital\u001b[39m ... defines a type for a single-electron radial\n",
       "  orbital function with a large and small component, and which can refer to\n",
       "  either the standard or an explicitly given grid due to the logical flag\n",
       "  useStandardGrid. Bound-state orbitals with energy < 0 are distinguished from\n",
       "  free-electron orbitals by the flag isBound.\n",
       "\n",
       "\u001b[36m  + subshell        ::Subshell          ... Relativistic subshell.\u001b[39m\n",
       "\u001b[36m  + isBound         ::Bool              ... Logical flag to distinguish between bound (true) and free-electron orbitals (false).\u001b[39m\n",
       "\u001b[36m  + useStandardGrid ::Bool              ... Logical flag for using the standard grid (true) or an explicitly given grid (false).\u001b[39m\n",
       "\u001b[36m  + energy          ::Float64           ... Single-electron energies of bound orbitals are always negative.\u001b[39m\n",
       "\u001b[36m  + P               ::Array{Float64,1}  ... Large and ..\u001b[39m\n",
       "\u001b[36m  + Q               ::Array{Float64,1}  ... small component of the radial orbital.\u001b[39m\n",
       "\u001b[36m  + Pprime          ::Array{Float64,1}  ... dP/dr.\u001b[39m\n",
       "\u001b[36m  + Qprime          ::Array{Float64,1}  ... dQ/dr.\u001b[39m\n",
       "\u001b[36m  + grid            ::Array{Float64,1}  ... explic. defined radial grid array for P, Q, if StandardGrid = false.\u001b[39m\n",
       "\n",
       "  ────────────────────────────────────────────────────────────────────────────\n",
       "\n",
       "  \u001b[36mRadial.Orbital(subshell::Subshell, energy::Float64)\u001b[39m ... constructor for\n",
       "  given subshell and energy, and where useStandardGrid is set to true; the\n",
       "  grid must be defined explicitly and neither the large and small components\n",
       "  nor their derivatives are yet defined in this case.\n",
       "\n",
       "  ────────────────────────────────────────────────────────────────────────────\n",
       "\n",
       "  \u001b[36mRadial.Orbital(label::String, energy::Float64)\u001b[39m ... constructor for given\n",
       "  string identifier and energy, and where useStandardGrid is set to true; the\n",
       "  grid must be defined explicitly and neither the large and small components\n",
       "  nor their derivatives are yet defined in this case."
      ]
     },
     "execution_count": 8,
     "metadata": {},
     "output_type": "execute_result"
    }
   ],
   "source": [
    "? Orbital"
   ]
  },
  {
   "cell_type": "markdown",
   "metadata": {},
   "source": [
    "\n",
    "To display the non-relativistic  `Pnr_1s`$(r)$  orbitals, we need first internally to define a standard grid as well as such an (instance of the) Orbital by using its standard constructor, and by setting the small  $Q(r)$ component as well as $dP/dr$ and $dQ/dr$ simply to zero:"
   ]
  },
  {
   "cell_type": "code",
   "execution_count": 9,
   "metadata": {
    "scrolled": true
   },
   "outputs": [
    {
     "name": "stdout",
     "output_type": "stream",
     "text": [
      "Re-define the standard grid with 390 grid points.\n"
     ]
    },
    {
     "data": {
      "text/plain": [
       "Bound-state orbital 1s_1/2 with energy -162.0 a.u. is defined with 390 (grid) points on the standard grid: \n",
       "Large component P: [0.0, 3.25741e-6, 1.65436e-5, 3.80295e-5, 6.40058e-5, 8.9982e-5, 0.000111468, 0.000124753, 0.000132633, 0.000151486  …  0.000316219, 0.000342972, 0.000386236, 0.000438541, 0.000490846, 0.000534109, 0.00056086, 0.000576726, 0.000614688, 0.000676079]  ...  [0.0, 0.0, 0.0, 0.0, 0.0, 0.0, 0.0, 0.0, 0.0, 0.0, 0.0]\n",
       "Small component Q: [0.0, 0.0, 0.0, 0.0, 0.0, 0.0, 0.0, 0.0, 0.0, 0.0  …  0.0, 0.0, 0.0, 0.0, 0.0, 0.0, 0.0, 0.0, 0.0, 0.0]  ...  [0.0, 0.0, 0.0, 0.0, 0.0, 0.0, 0.0, 0.0, 0.0, 0.0, 0.0]\n",
       "Pprime:            [0.0, 0.0, 0.0, 0.0, 0.0, 0.0, 0.0, 0.0, 0.0, 0.0  …  0.0, 0.0, 0.0, 0.0, 0.0, 0.0, 0.0, 0.0, 0.0, 0.0]  ...  [0.0, 0.0, 0.0, 0.0, 0.0, 0.0, 0.0, 0.0, 0.0, 0.0, 0.0]\n",
       "Qprime:            [0.0, 0.0, 0.0, 0.0, 0.0, 0.0, 0.0, 0.0, 0.0, 0.0  …  0.0, 0.0, 0.0, 0.0, 0.0, 0.0, 0.0, 0.0, 0.0, 0.0]  ...  [0.0, 0.0, 0.0, 0.0, 0.0, 0.0, 0.0, 0.0, 0.0, 0.0, 0.0]\n",
       "Defined on Grid:   [0.0, 2.13272e-8, 1.08316e-7]  ...  [463.239, 483.175, 515.414, 554.392]\n"
      ]
     },
     "execution_count": 9,
     "metadata": {},
     "output_type": "execute_result"
    }
   ],
   "source": [
    "setDefaults(\"standard grid\", grid)\n",
    "Qnr_1s   = Pprime = Qprime = zeros( length(Pnr_1s) )\n",
    "nrOrb_1s = Orbital( Subshell(\"1s_1/2\"), true, true, -162.0, Pnr_1s, Qnr_1s, Pprime, Qprime, Radial.Grid())"
   ]
  },
  {
   "cell_type": "markdown",
   "metadata": {},
   "source": [
    "# **The following part of this nootebook is still under construction.**"
   ]
  },
  {
   "cell_type": "markdown",
   "metadata": {},
   "source": [
    "We could also compute a relativistic $1s_{1/2}$ orbital on the given grid and plot the two $1s$-orbitals together; while the large components of these orbitals coincide of course, due to its special construction via the non-relativistic orbitals, the small compoments differ. Note that one need to use the standard REPL in order to display these functions in some separate window."
   ]
  },
  {
   "cell_type": "code",
   "execution_count": 10,
   "metadata": {
    "scrolled": true
   },
   "outputs": [
    {
     "name": "stdout",
     "output_type": "stream",
     "text": [
      "  Energy for subshell 1s_1/2 is [in eV]: -4.42742470e+03\n",
      "HydrogenicIon.radialOrbital():  for subshell 1s_1/2 : norm-before = 0.9999999999999974, norm-after = 1.0000000000000004\n"
     ]
    },
    {
     "name": "stderr",
     "output_type": "stream",
     "text": [
      "┌ Warning: radialOrbital():: Q[:] = zero everywhere; kinetic-balance not yet defined for Gauss-Legendre grids.\n",
      "└ @ JAC.HydrogenicIon /home/fritzsch/fri/JAC.jl/src/module-HydrogenicIon.jl:102\n"
     ]
    },
    {
     "data": {
      "text/plain": [
       "Bound-state orbital 1s_1/2 with energy -162.70485811496013 a.u. is defined with 390 (grid) points on an explicitly-defined grid: \n",
       "Large component P: [0.0, 3.25741e-6, 1.65436e-5, 3.80295e-5, 6.40058e-5, 8.9982e-5, 0.000111468, 0.000124753, 0.000132633, 0.000151486  …  0.000316219, 0.000342972, 0.000386236, 0.000438541, 0.000490846, 0.000534109, 0.00056086, 0.000576726, 0.000614688, 0.000676079]  ...  [0.0, 0.0, 0.0, 0.0, 0.0, 0.0, 0.0, 0.0, 0.0, 0.0, 0.0]\n",
       "Small component Q: [0.0, 0.0, 0.0, 0.0, 0.0, 0.0, 0.0, 0.0, 0.0, 0.0  …  0.0, 0.0, 0.0, 0.0, 0.0, 0.0, 0.0, 0.0, 0.0, 0.0]  ...  [0.0, 0.0, 0.0, 0.0, 0.0, 0.0, 0.0, 0.0, 0.0, 0.0, 0.0]\n",
       "Pprime:            [0.0, 0.0, 0.0, 0.0, 0.0, 0.0, 0.0, 0.0, 0.0, 0.0  …  0.0, 0.0, 0.0, 0.0, 0.0, 0.0, 0.0, 0.0, 0.0, 0.0]  ...  [0.0, 0.0, 0.0, 0.0, 0.0, 0.0, 0.0, 0.0, 0.0, 0.0, 0.0]\n",
       "Qprime:            [0.0, 0.0, 0.0, 0.0, 0.0, 0.0, 0.0, 0.0, 0.0, 0.0  …  0.0, 0.0, 0.0, 0.0, 0.0, 0.0, 0.0, 0.0, 0.0, 0.0]  ...  [0.0, 0.0, 0.0, 0.0, 0.0, 0.0, 0.0, 0.0, 0.0, 0.0, 0.0]\n",
       "Defined on Grid:   [0.0, 2.13272e-8, 1.08316e-7, 2.48991e-7, 4.19068e-7]  ...  [454.907, 463.239, 483.175, 515.414, 554.392]\n"
      ]
     },
     "execution_count": 10,
     "metadata": {},
     "output_type": "execute_result"
    }
   ],
   "source": [
    "rOrb_1s = HydrogenicIon.radialOrbital(Subshell(\"1s_1/2\"), Z, grid)\n",
    "# JAC.plot(\"radial orbitals: large\", Orbital[nrOrb_1s, rOrb_1s], grid; N = 230)\n",
    "# JAC.plot(\"radial orbitals: small\", Orbital[nrOrb_1s, rOrb_1s], grid; N = 230) "
   ]
  },
  {
   "cell_type": "markdown",
   "metadata": {},
   "source": [
    "We can use these orbitals to quickly evaluate some overlap integrals and $\\langle r^k \\rangle$ expectation values; for this, we make use of the non-relativistic $2p$ radial orbital `Pnr_2p` from above an compute the normalization  and $\\langle r \\rangle$ expectation values:"
   ]
  },
  {
   "cell_type": "code",
   "execution_count": 11,
   "metadata": {},
   "outputs": [
    {
     "ename": "ErrorException",
     "evalue": "stop a",
     "output_type": "error",
     "traceback": [
      "stop a",
      "",
      "Stacktrace:",
      " [1] error(::String) at ./error.jl:33",
      " [2] overlap(::Array{Float64,1}, ::Array{Float64,1}, ::JAC.Radial.Grid) at /home/fritzsch/fri/JAC.jl/src/module-RadialIntegrals.jl:338",
      " [3] top-level scope at In[11]:1"
     ]
    }
   ],
   "source": [
    "N_1s = RadialIntegrals.overlap(Pnr_1s, Pnr_1s, grid)\n",
    "N_2p = RadialIntegrals.overlap(Pnr_2p, Pnr_2p, grid)"
   ]
  },
  {
   "cell_type": "markdown",
   "metadata": {},
   "source": [
    "For the sake of simplicity, all hydrogenic computations are performed for a point-like nucleus. For many-electron computations, in constrast, a more realistic nucleus can be taken into accout by selecting a proper nuclear model. See the tutorial: Define the nuclear model parameters   or   `? Nuclear.Model`  ... for further details."
   ]
  },
  {
   "cell_type": "code",
   "execution_count": 12,
   "metadata": {
    "scrolled": true
   },
   "outputs": [
    {
     "data": {
      "text/latex": [
       "\\texttt{struct  Nuclear.Model}  ... defines a type for the nuclear model, i.e. for its form and parameters.\n",
       "\n",
       "\\begin{verbatim}\n",
       "+ Z        ::Float64         ... nuclear charge\n",
       "+ model    ::String          ... identifier of the nuclear model: {\"Fermi\", \"Point\", \"Uniform\"}\n",
       "+ mass     ::Float64         ... atomic mass\n",
       "+ radius   ::Float64         ... (root-mean square) radius of a uniform or Fermi-distributed nucleus\n",
       "+ spinI    ::AngularJ64      ... nuclear spin I, must be >= 0\n",
       "+ mu       ::Float64         ... magnetic dipole moment in Bohr magnetons\n",
       "+ Q        ::Float64         ... electric qadrupole moment\n",
       "\\end{verbatim}\n",
       "\\rule{\\textwidth}{1pt}\n",
       "\\texttt{Nuclear.Model(Z::Real)}       ... to specify a Fermi-type nucleus with charge Z, and where the nuclear spin and nuclear moments are all set to zero.\n",
       "\n",
       "\\rule{\\textwidth}{1pt}\n",
       "\\texttt{Nuclear.Model(Z::Real, model::String)}       ... to specify a nucleus with charge Z, model = \\{\"Fermi\", \"point\", \"uniform\"\\}, and where the nuclear spin and          nuclear moments are all set to zero.\n",
       "\n",
       "\\rule{\\textwidth}{1pt}\n",
       "\\texttt{Nuclear.Model(gui::Guint; model::Nuclear.Model=Model(36.0))}       ... constructor to re-fine a nuclear model by a graphical user interface, and which may starts from          the parameters of a given model.\n",
       "\n"
      ],
      "text/markdown": [
       "`struct  Nuclear.Model`  ... defines a type for the nuclear model, i.e. for its form and parameters.\n",
       "\n",
       "```\n",
       "+ Z        ::Float64         ... nuclear charge\n",
       "+ model    ::String          ... identifier of the nuclear model: {\"Fermi\", \"Point\", \"Uniform\"}\n",
       "+ mass     ::Float64         ... atomic mass\n",
       "+ radius   ::Float64         ... (root-mean square) radius of a uniform or Fermi-distributed nucleus\n",
       "+ spinI    ::AngularJ64      ... nuclear spin I, must be >= 0\n",
       "+ mu       ::Float64         ... magnetic dipole moment in Bohr magnetons\n",
       "+ Q        ::Float64         ... electric qadrupole moment\n",
       "```\n",
       "\n",
       "---\n",
       "\n",
       "`Nuclear.Model(Z::Real)`       ... to specify a Fermi-type nucleus with charge Z, and where the nuclear spin and nuclear moments are all set to zero.\n",
       "\n",
       "---\n",
       "\n",
       "`Nuclear.Model(Z::Real, model::String)`       ... to specify a nucleus with charge Z, model = {\"Fermi\", \"point\", \"uniform\"}, and where the nuclear spin and          nuclear moments are all set to zero.\n",
       "\n",
       "---\n",
       "\n",
       "`Nuclear.Model(gui::Guint; model::Nuclear.Model=Model(36.0))`       ... constructor to re-fine a nuclear model by a graphical user interface, and which may starts from          the parameters of a given model.\n"
      ],
      "text/plain": [
       "  \u001b[36mstruct  Nuclear.Model\u001b[39m ... defines a type for the nuclear model, i.e. for its\n",
       "  form and parameters.\n",
       "\n",
       "\u001b[36m  + Z        ::Float64         ... nuclear charge\u001b[39m\n",
       "\u001b[36m  + model    ::String          ... identifier of the nuclear model: {\"Fermi\", \"Point\", \"Uniform\"}\u001b[39m\n",
       "\u001b[36m  + mass     ::Float64         ... atomic mass\u001b[39m\n",
       "\u001b[36m  + radius   ::Float64         ... (root-mean square) radius of a uniform or Fermi-distributed nucleus\u001b[39m\n",
       "\u001b[36m  + spinI    ::AngularJ64      ... nuclear spin I, must be >= 0\u001b[39m\n",
       "\u001b[36m  + mu       ::Float64         ... magnetic dipole moment in Bohr magnetons\u001b[39m\n",
       "\u001b[36m  + Q        ::Float64         ... electric qadrupole moment\u001b[39m\n",
       "\n",
       "  ────────────────────────────────────────────────────────────────────────────\n",
       "\n",
       "  \u001b[36mNuclear.Model(Z::Real)\u001b[39m ... to specify a Fermi-type nucleus with charge Z,\n",
       "  and where the nuclear spin and nuclear moments are all set to zero.\n",
       "\n",
       "  ────────────────────────────────────────────────────────────────────────────\n",
       "\n",
       "  \u001b[36mNuclear.Model(Z::Real, model::String)\u001b[39m ... to specify a nucleus with charge\n",
       "  Z, model = {\"Fermi\", \"point\", \"uniform\"}, and where the nuclear spin and\n",
       "  nuclear moments are all set to zero.\n",
       "\n",
       "  ────────────────────────────────────────────────────────────────────────────\n",
       "\n",
       "  \u001b[36mNuclear.Model(gui::Guint; model::Nuclear.Model=Model(36.0))\u001b[39m ... constructor\n",
       "  to re-fine a nuclear model by a graphical user interface, and which may\n",
       "  starts from the parameters of a given model."
      ]
     },
     "execution_count": 12,
     "metadata": {},
     "output_type": "execute_result"
    }
   ],
   "source": [
    " ? Nuclear.Model"
   ]
  },
  {
   "cell_type": "code",
   "execution_count": null,
   "metadata": {},
   "outputs": [],
   "source": []
  }
 ],
 "metadata": {
  "@webio": {
   "lastCommId": null,
   "lastKernelId": null
  },
  "kernelspec": {
   "display_name": "Julia 1.0.3",
   "language": "julia",
   "name": "julia-1.0"
  },
  "language_info": {
   "file_extension": ".jl",
   "mimetype": "application/julia",
   "name": "julia",
   "version": "1.0.3"
  }
 },
 "nbformat": 4,
 "nbformat_minor": 4
}
