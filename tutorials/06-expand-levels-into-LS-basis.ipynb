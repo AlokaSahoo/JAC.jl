{
 "cells": [
  {
   "cell_type": "markdown",
   "metadata": {},
   "source": [
    "# Expand the atomic state functions in a LS-coupled basis"
   ]
  },
  {
   "cell_type": "code",
   "execution_count": 1,
   "metadata": {},
   "outputs": [
    {
     "data": {
      "text/html": [
       "<script>\n",
       "// Immediately-invoked-function-expression to avoid global variables.\n",
       "(function() {\n",
       "    var warning_div = document.getElementById(\"webio-warning-2153144474669940563\");\n",
       "    var hide = function () {\n",
       "        var script = document.getElementById(\"webio-setup-6218670516268893080\");\n",
       "        var parent = script && script.parentElement;\n",
       "        var grandparent = parent && parent.parentElement;\n",
       "        if (grandparent) {\n",
       "            grandparent.style.display = \"none\";\n",
       "        }\n",
       "        warning_div.style.display = \"none\";\n",
       "    };\n",
       "    if (typeof Jupyter !== \"undefined\") {\n",
       "        console.log(\"WebIO detected Jupyter notebook environment.\");\n",
       "        // Jupyter notebook.\n",
       "        var extensions = (\n",
       "            Jupyter\n",
       "            && Jupyter.notebook.config.data\n",
       "            && Jupyter.notebook.config.data.load_extensions\n",
       "        );\n",
       "        if (extensions && extensions[\"webio/main\"]) {\n",
       "            // Extension already loaded.\n",
       "            console.log(\"Jupyter WebIO nbextension detected; not loading ad-hoc.\");\n",
       "            hide();\n",
       "            return;\n",
       "        }\n",
       "        console.warn(\"Loading WebIO Jupyter extension on an ad-hoc basis. Consider enabling the WebIO nbextension for a stabler experience (this should happen automatically when building WebIO).\");\n",
       "        require([\"/assetserver/408bec45a46837488559cc915f1f252902507b97-dist/main.js\"], function (webIOModule) {\n",
       "            webIOModule.load_ipython_extension();\n",
       "        });\n",
       "        warning_div.innerHTML = \"<strong>Loading WebIO Jupyter extension on an ad-hoc basis. Consider enabling the WebIO nbextension for a stabler experience (this should happen automatically when building WebIO).</strong>\";\n",
       "    } else if (window.location.pathname.includes(\"/lab\")) {\n",
       "        // Guessing JupyterLa\n",
       "        console.log(\"Jupyter Lab detected; make sure the @webio/jupyter-lab-provider labextension is installed.\");\n",
       "        hide();\n",
       "        return;\n",
       "    }\n",
       "})();\n",
       "\n",
       "</script>\n",
       "<div\n",
       "    id=\"webio-warning-2153144474669940563\"\n",
       "    class=\"output_text output_stderr\"\n",
       "    style=\"padding: 1em; font-weight: bold;\"\n",
       ">\n",
       "    Unable to load WebIO. Please make sure WebIO works for your Jupyter client.\n",
       "    <!-- TODO: link to installation docs. -->\n",
       "</div>\n"
      ],
      "text/plain": [
       "HTML{String}(\"<script>\\n// Immediately-invoked-function-expression to avoid global variables.\\n(function() {\\n    var warning_div = document.getElementById(\\\"webio-warning-2153144474669940563\\\");\\n    var hide = function () {\\n        var script = document.getElementById(\\\"webio-setup-6218670516268893080\\\");\\n        var parent = script && script.parentElement;\\n        var grandparent = parent && parent.parentElement;\\n        if (grandparent) {\\n            grandparent.style.display = \\\"none\\\";\\n        }\\n        warning_div.style.display = \\\"none\\\";\\n    };\\n    if (typeof Jupyter !== \\\"undefined\\\") {\\n        console.log(\\\"WebIO detected Jupyter notebook environment.\\\");\\n        // Jupyter notebook.\\n        var extensions = (\\n            Jupyter\\n            && Jupyter.notebook.config.data\\n            && Jupyter.notebook.config.data.load_extensions\\n        );\\n        if (extensions && extensions[\\\"webio/main\\\"]) {\\n            // Extension already loaded.\\n            console.log(\\\"Jupyter WebIO nbextension detected; not loading ad-hoc.\\\");\\n            hide();\\n            return;\\n        }\\n        console.warn(\\\"Loading WebIO Jupyter extension on an ad-hoc basis. Consider enabling the WebIO nbextension for a stabler experience (this should happen automatically when building WebIO).\\\");\\n        require([\\\"/assetserver/408bec45a46837488559cc915f1f252902507b97-dist/main.js\\\"], function (webIOModule) {\\n            webIOModule.load_ipython_extension();\\n        });\\n        warning_div.innerHTML = \\\"<strong>Loading WebIO Jupyter extension on an ad-hoc basis. Consider enabling the WebIO nbextension for a stabler experience (this should happen automatically when building WebIO).</strong>\\\";\\n    } else if (window.location.pathname.includes(\\\"/lab\\\")) {\\n        // Guessing JupyterLa\\n        console.log(\\\"Jupyter Lab detected; make sure the @webio/jupyter-lab-provider labextension is installed.\\\");\\n        hide();\\n        return;\\n    }\\n})();\\n\\n</script>\\n<div\\n    id=\\\"webio-warning-2153144474669940563\\\"\\n    class=\\\"output_text output_stderr\\\"\\n    style=\\\"padding: 1em; font-weight: bold;\\\"\\n>\\n    Unable to load WebIO. Please make sure WebIO works for your Jupyter client.\\n    <!-- TODO: link to installation docs. -->\\n</div>\\n\")"
      ]
     },
     "metadata": {},
     "output_type": "display_data"
    }
   ],
   "source": [
    "using JAC"
   ]
  },
  {
   "cell_type": "markdown",
   "metadata": {},
   "source": [
    "\n",
    "Remind on the importance of LS coupling for atomic spectroscopy ... see UserGuide\n",
    "\n",
    "While an LS-coupled basis have been helpful in classifying and labeling the low-lying levels of light elements, the details of the coupling change as the nuclear charge increases. We can easily see this by considering the $^1P_1 - ^3P_1$ mixing for beryllium-like ions.\n",
    "\n",
    "Most easily, the transformation of atomic states from a jj-coupled into a LS-coupled basis is made after the Hamiltonian matrix has been diagonalized. In particular, an jj-LS expansion is performed if we use `LSjj.Settings(true)` is used in `Asf.Settings(...)`\n",
    "\n",
    "For this, let us first briefly recall the definion of `AsfSettings(..)`"
   ]
  },
  {
   "cell_type": "code",
   "execution_count": 4,
   "metadata": {},
   "outputs": [
    {
     "name": "stdout",
     "output_type": "stream",
     "text": [
      "search: \u001b[0m\u001b[1mA\u001b[22m\u001b[0m\u001b[1ms\u001b[22m\u001b[0m\u001b[1mf\u001b[22m\u001b[0m\u001b[1mS\u001b[22m\u001b[0m\u001b[1me\u001b[22m\u001b[0m\u001b[1mt\u001b[22m\u001b[0m\u001b[1mt\u001b[22m\u001b[0m\u001b[1mi\u001b[22m\u001b[0m\u001b[1mn\u001b[22m\u001b[0m\u001b[1mg\u001b[22m\u001b[0m\u001b[1ms\u001b[22m\n",
      "\n"
     ]
    },
    {
     "data": {
      "text/latex": [
       "\\texttt{struct  ManyElectron.AsfSettings}       ... a struct for defining the settings for the atomic state functions, i.e. the self-consistent-field (SCF)          and CI computations\n",
       "\n",
       "\\begin{verbatim}\n",
       "+ generateScf          ::Bool               ... True, if a SCF need to be generated, and false otherwise \n",
       "                                                (frozen orbitals).\n",
       "+ breitScf             ::Bool               ... True, if Breit interaction is to be included into the SCF \n",
       "                                                computations.\n",
       "+ methodScf            ::String             ... Specify the SCF method: [\"AL\", \"OL\", \"EOL\", \"meanDFS\", \"meanHS\"].\n",
       "+ startScf             ::String             ... Specify how the start orbitals are obtained \n",
       "                                                [\"fromNRorbitals\", \"fromGrasp\", \"hydrogenic\"].\n",
       "+ orbitalFileScf       ::String             ... Filename of orbitals, if taken from Grasp.\n",
       "+ levelsScf            ::Array{Int64,1}     ... Levels on which the optimization need to be carried out.\n",
       "+ maxIterationsScf     ::Int64              ... maximum number of SCF iterations\n",
       "+ áccuracyScf          ::Float64            ... convergence criterion for the SCF field.\n",
       "+ shellSequenceScf     ::Array{Subshell,1}  ... Sequence of subshells to be optimized.\n",
       "\n",
       "+ coulombCI            ::Bool               ... logical flag to include Coulomb interactions.\n",
       "+ breitCI              ::Bool               ... logical flag to include Breit interactions.\n",
       "+ qedModel             ::AbstractQedModel   ... specifies the applied model for estimating QED corrections;\n",
       "                                                {NoneQed(), QedPetersburg(), QedSydney()}\n",
       "+ methodCI             ::String             ... method for diagonalizing the matrix.\n",
       "+ selectLevelsCI       ::Bool               ... true, if specific level (number)s have been selected.\n",
       "+ selectedLevelsCI     ::Array{Int64,1}     ... Level number that have been selected.\n",
       "+ selectSymmetriesCI   ::Bool               ... true, if specific level symmetries have been selected.\n",
       "+ selectedSymmetriesCI ::Array{LevelSymmetry,1}    ... Level symmetries that have been selected.\n",
       "\\end{verbatim}\n",
       "\\rule{\\textwidth}{1pt}\n",
       "\\texttt{ManyElectron.AsfSettings()}  ... constructor for setting the default values.\n",
       "\n"
      ],
      "text/markdown": [
       "`struct  ManyElectron.AsfSettings`       ... a struct for defining the settings for the atomic state functions, i.e. the self-consistent-field (SCF)          and CI computations\n",
       "\n",
       "```\n",
       "+ generateScf          ::Bool               ... True, if a SCF need to be generated, and false otherwise \n",
       "                                                (frozen orbitals).\n",
       "+ breitScf             ::Bool               ... True, if Breit interaction is to be included into the SCF \n",
       "                                                computations.\n",
       "+ methodScf            ::String             ... Specify the SCF method: [\"AL\", \"OL\", \"EOL\", \"meanDFS\", \"meanHS\"].\n",
       "+ startScf             ::String             ... Specify how the start orbitals are obtained \n",
       "                                                [\"fromNRorbitals\", \"fromGrasp\", \"hydrogenic\"].\n",
       "+ orbitalFileScf       ::String             ... Filename of orbitals, if taken from Grasp.\n",
       "+ levelsScf            ::Array{Int64,1}     ... Levels on which the optimization need to be carried out.\n",
       "+ maxIterationsScf     ::Int64              ... maximum number of SCF iterations\n",
       "+ áccuracyScf          ::Float64            ... convergence criterion for the SCF field.\n",
       "+ shellSequenceScf     ::Array{Subshell,1}  ... Sequence of subshells to be optimized.\n",
       "\n",
       "+ coulombCI            ::Bool               ... logical flag to include Coulomb interactions.\n",
       "+ breitCI              ::Bool               ... logical flag to include Breit interactions.\n",
       "+ qedModel             ::AbstractQedModel   ... specifies the applied model for estimating QED corrections;\n",
       "                                                {NoneQed(), QedPetersburg(), QedSydney()}\n",
       "+ methodCI             ::String             ... method for diagonalizing the matrix.\n",
       "+ selectLevelsCI       ::Bool               ... true, if specific level (number)s have been selected.\n",
       "+ selectedLevelsCI     ::Array{Int64,1}     ... Level number that have been selected.\n",
       "+ selectSymmetriesCI   ::Bool               ... true, if specific level symmetries have been selected.\n",
       "+ selectedSymmetriesCI ::Array{LevelSymmetry,1}    ... Level symmetries that have been selected.\n",
       "```\n",
       "\n",
       "---\n",
       "\n",
       "`ManyElectron.AsfSettings()`  ... constructor for setting the default values.\n"
      ],
      "text/plain": [
       "  \u001b[36mstruct  ManyElectron.AsfSettings\u001b[39m ... a struct for defining the settings for\n",
       "  the atomic state functions, i.e. the self-consistent-field (SCF) and CI\n",
       "  computations\n",
       "\n",
       "\u001b[36m  + generateScf          ::Bool               ... True, if a SCF need to be generated, and false otherwise \u001b[39m\n",
       "\u001b[36m                                                  (frozen orbitals).\u001b[39m\n",
       "\u001b[36m  + breitScf             ::Bool               ... True, if Breit interaction is to be included into the SCF \u001b[39m\n",
       "\u001b[36m                                                  computations.\u001b[39m\n",
       "\u001b[36m  + methodScf            ::String             ... Specify the SCF method: [\"AL\", \"OL\", \"EOL\", \"meanDFS\", \"meanHS\"].\u001b[39m\n",
       "\u001b[36m  + startScf             ::String             ... Specify how the start orbitals are obtained \u001b[39m\n",
       "\u001b[36m                                                  [\"fromNRorbitals\", \"fromGrasp\", \"hydrogenic\"].\u001b[39m\n",
       "\u001b[36m  + orbitalFileScf       ::String             ... Filename of orbitals, if taken from Grasp.\u001b[39m\n",
       "\u001b[36m  + levelsScf            ::Array{Int64,1}     ... Levels on which the optimization need to be carried out.\u001b[39m\n",
       "\u001b[36m  + maxIterationsScf     ::Int64              ... maximum number of SCF iterations\u001b[39m\n",
       "\u001b[36m  + áccuracyScf          ::Float64            ... convergence criterion for the SCF field.\u001b[39m\n",
       "\u001b[36m  + shellSequenceScf     ::Array{Subshell,1}  ... Sequence of subshells to be optimized.\u001b[39m\n",
       "\u001b[36m  \u001b[39m\n",
       "\u001b[36m  + coulombCI            ::Bool               ... logical flag to include Coulomb interactions.\u001b[39m\n",
       "\u001b[36m  + breitCI              ::Bool               ... logical flag to include Breit interactions.\u001b[39m\n",
       "\u001b[36m  + qedModel             ::AbstractQedModel   ... specifies the applied model for estimating QED corrections;\u001b[39m\n",
       "\u001b[36m                                                  {NoneQed(), QedPetersburg(), QedSydney()}\u001b[39m\n",
       "\u001b[36m  + methodCI             ::String             ... method for diagonalizing the matrix.\u001b[39m\n",
       "\u001b[36m  + selectLevelsCI       ::Bool               ... true, if specific level (number)s have been selected.\u001b[39m\n",
       "\u001b[36m  + selectedLevelsCI     ::Array{Int64,1}     ... Level number that have been selected.\u001b[39m\n",
       "\u001b[36m  + selectSymmetriesCI   ::Bool               ... true, if specific level symmetries have been selected.\u001b[39m\n",
       "\u001b[36m  + selectedSymmetriesCI ::Array{LevelSymmetry,1}    ... Level symmetries that have been selected.\u001b[39m\n",
       "\n",
       "  ────────────────────────────────────────────────────────────────────────────\n",
       "\n",
       "  \u001b[36mManyElectron.AsfSettings()\u001b[39m ... constructor for setting the default values."
      ]
     },
     "execution_count": 4,
     "metadata": {},
     "output_type": "execute_result"
    }
   ],
   "source": [
    "? AsfSettings"
   ]
  },
  {
   "cell_type": "markdown",
   "metadata": {},
   "source": [
    "and define it as follows:"
   ]
  },
  {
   "cell_type": "code",
   "execution_count": null,
   "metadata": {},
   "outputs": [],
   "source": [
    "asfSettings = AsfSettings(...)"
   ]
  },
  {
   "cell_type": "markdown",
   "metadata": {},
   "source": [
    "With these settings, we can calculate the five lowest levels of neutral beryllium due to the $1s^2 (2s^2 + 2s 2p)$ configurations, and which includes the $^1P_1 - ^3P_1$ levels."
   ]
  },
  {
   "cell_type": "code",
   "execution_count": null,
   "metadata": {},
   "outputs": [],
   "source": [
    "wa = Atomic.Computation(...)\n",
    "perform(wa)"
   ]
  },
  {
   "cell_type": "markdown",
   "metadata": {},
   "source": [
    "What do we see from this output wrt to the jj-LS expansion ?? ... and how well is the LS-coupling fulfilled in this case ??\n",
    "\n",
    "We can repeat analogue computations for beryllium-like argon ($Z=18$) and xenon ($Z=54$)"
   ]
  },
  {
   "cell_type": "code",
   "execution_count": null,
   "metadata": {},
   "outputs": [],
   "source": [
    "wa = Atomic.Computation(.18)\n",
    "perform(wa)"
   ]
  },
  {
   "cell_type": "code",
   "execution_count": null,
   "metadata": {},
   "outputs": [],
   "source": [
    "wa = Atomic.Computation(.54)\n",
    "perform(wa)"
   ]
  },
  {
   "cell_type": "markdown",
   "metadata": {},
   "source": [
    "We can now summarize the changes in the $^1P_1 - ^3P_1$ mixing and the consequences for intercombination lines.\n",
    "\n",
    "Einschub: LSjj.Settings(...) ... what can be further controlled ??"
   ]
  },
  {
   "cell_type": "code",
   "execution_count": null,
   "metadata": {},
   "outputs": [],
   "source": [
    "?LSjj.Settings"
   ]
  },
  {
   "cell_type": "code",
   "execution_count": null,
   "metadata": {},
   "outputs": [],
   "source": [
    "LSjj.Settings()"
   ]
  },
  {
   "cell_type": "markdown",
   "metadata": {},
   "source": [
    "While for simple shell structures, the LS-coupling notation can be usually derived from the fine-structure splitting (energies) and the total $J$ values of the atomic levels, this becomes much less obvious if open $d$-shells or even $f$-shells are involved.\n",
    "\n",
    "This becomes clear if we consider the $3d^3$ valence configuration of singly-charged ?? ion"
   ]
  },
  {
   "cell_type": "code",
   "execution_count": null,
   "metadata": {},
   "outputs": [],
   "source": [
    "wa = Atomic.Computation(3d^3  .24)\n",
    "perform(wa)"
   ]
  },
  {
   "cell_type": "markdown",
   "metadata": {},
   "source": [
    "How many levels do we see ... and what can be said about the LS-coupling of the levels in the ground configuration ?? \n",
    "\n",
    "The complexity increases rapidly if we consider the level structure of the same ion but with an additional $2p$ hole"
   ]
  },
  {
   "cell_type": "code",
   "execution_count": null,
   "metadata": {},
   "outputs": [],
   "source": [
    "wa = Atomic.Computation(2p^-1 3d^3 .24)\n",
    "perform(wa)"
   ]
  },
  {
   "cell_type": "markdown",
   "metadata": {},
   "source": [
    "Until the present, such jj-LS expansion can be performed by the JAC program for one or two (non-relativstic) open shells ... but this can be extended."
   ]
  },
  {
   "cell_type": "code",
   "execution_count": null,
   "metadata": {},
   "outputs": [],
   "source": []
  }
 ],
 "metadata": {
  "@webio": {
   "lastCommId": null,
   "lastKernelId": null
  },
  "kernelspec": {
   "display_name": "Julia 1.0.3",
   "language": "julia",
   "name": "julia-1.0"
  },
  "language_info": {
   "file_extension": ".jl",
   "mimetype": "application/julia",
   "name": "julia",
   "version": "1.0.3"
  }
 },
 "nbformat": 4,
 "nbformat_minor": 2
}
