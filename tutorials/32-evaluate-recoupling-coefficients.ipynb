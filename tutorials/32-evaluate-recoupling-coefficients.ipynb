{
 "cells": [
  {
   "cell_type": "markdown",
   "metadata": {},
   "source": [
    "# Evaluate re-coupling coefficients"
   ]
  },
  {
   "cell_type": "code",
   "execution_count": 1,
   "metadata": {},
   "outputs": [
    {
     "name": "stderr",
     "output_type": "stream",
     "text": [
      "┌ Info: Recompiling stale cache file /home/fritzsch/.julia/compiled/v1.0/JAC/vyEUL.ji for JAC [830ae420-d14d-11e8-2f94-6b071437414d]\n",
      "└ @ Base loading.jl:1190\n"
     ]
    },
    {
     "name": "stdout",
     "output_type": "stream",
     "text": [
      "\n",
      "Welcome to JAC:  A community approach to the computation of atomic structures, cascades and time evolutions [(C) Copyright by Stephan Fritzsche, Jena (2018-2020)].\n"
     ]
    }
   ],
   "source": [
    "using JAC, SymEngine"
   ]
  },
  {
   "cell_type": "markdown",
   "metadata": {},
   "source": [
    "**Note**: The Julia package `SymEngine` is needed to perform symbolic simplifications of Racah algebra expressions in JAC but, by default, is not automatically loaded."
   ]
  },
  {
   "cell_type": "markdown",
   "metadata": {},
   "source": [
    "In various research areas, the quantum mechanical description of many-particle structures and processes often requires an explicit transformation of the angular momenta (of the subsystems) due to different **coupling schemes**. Here, a quite simple example refers to the transformation (re-coupling) of three angular momenta $j_1,\\, j_2,\\, j_3$. For this example, we already saw that the standard Clebsch-Gordan expansions may give rapidly rise to complex and cumbersome expression, and which are very prone for making errors. In general, many of these transformations can be expressed in terms of **recoupling coefficients**, a formal generalization of the well-known *Clebsch-Gordan* coefficients. Often, these recoupling coefficients need to be evaluated over and over again. Here, we introduce and explain a notation which makes the application and evaluation of general recoupling coefficients much easier.\n",
    "\n",
    "Let us consider again the *recoupling coefficients* $ <(j_1,j_2)\\, J_{12}, j_3; JM| j_1, (j_2,j_3)\\,J_{23}; JM>$ for the re-coupling of three angular momenta. To avoid the explicit use of repeated Clebsch-Gordan expansions, we here introduce the notation of a **coupling sequence**, and which enables us to enter the coupling of each side of the coefficient separately. For this, we implemented the (data) type `RacahAlgebra.Csq`"
   ]
  },
  {
   "cell_type": "code",
   "execution_count": 2,
   "metadata": {},
   "outputs": [
    {
     "data": {
      "text/latex": [
       "\\texttt{struct  RacahAlgebra.Csq}       ... defines a type for a coupling sequence of two angular momenta (a,b) c   or  a + b -> c  with symbolic arguments.\n",
       "\n",
       "\\begin{verbatim}\n",
       "+ a    ::Union{Basic,RacahAlgebra.Csq}      ... First angular momentum or coupling sequence.\n",
       "+ b    ::Union{Basic,RacahAlgebra.Csq}      ... Second angular momentum or coupling sequence.\n",
       "+ c    ::Basic                              ... Angular momentum to which a + b is coupled.\n",
       "\\end{verbatim}\n"
      ],
      "text/markdown": [
       "`struct  RacahAlgebra.Csq`       ... defines a type for a coupling sequence of two angular momenta (a,b) c   or  a + b -> c  with symbolic arguments.\n",
       "\n",
       "```\n",
       "+ a    ::Union{Basic,RacahAlgebra.Csq}      ... First angular momentum or coupling sequence.\n",
       "+ b    ::Union{Basic,RacahAlgebra.Csq}      ... Second angular momentum or coupling sequence.\n",
       "+ c    ::Basic                              ... Angular momentum to which a + b is coupled.\n",
       "```\n"
      ],
      "text/plain": [
       "  \u001b[36mstruct  RacahAlgebra.Csq\u001b[39m ... defines a type for a coupling sequence of two\n",
       "  angular momenta (a,b) c or a + b -> c with symbolic arguments.\n",
       "\n",
       "\u001b[36m  + a    ::Union{Basic,RacahAlgebra.Csq}      ... First angular momentum or coupling sequence.\u001b[39m\n",
       "\u001b[36m  + b    ::Union{Basic,RacahAlgebra.Csq}      ... Second angular momentum or coupling sequence.\u001b[39m\n",
       "\u001b[36m  + c    ::Basic                              ... Angular momentum to which a + b is coupled.\u001b[39m"
      ]
     },
     "execution_count": 2,
     "metadata": {},
     "output_type": "execute_result"
    }
   ],
   "source": [
    "? RacahAlgebra.Csq"
   ]
  },
  {
   "cell_type": "markdown",
   "metadata": {},
   "source": [
    "As always, we will need some `Basic` variables:"
   ]
  },
  {
   "cell_type": "code",
   "execution_count": 3,
   "metadata": {},
   "outputs": [
    {
     "data": {
      "text/plain": [
       "J"
      ]
     },
     "execution_count": 3,
     "metadata": {},
     "output_type": "execute_result"
    }
   ],
   "source": [
    "j1  = Basic(:j1);    j2  = Basic(:j2);    j3  = Basic(:j3);    j4  = Basic(:j4);    j5  = Basic(:j5)\n",
    "j6  = Basic(:j6);    j7  = Basic(:j7);    j8  = Basic(:j8);    j9  = Basic(:j9);    j10 = Basic(:j10)\n",
    "j11 = Basic(:j11);   j12 = Basic(:j12);   j13 = Basic(:j13);   j14 = Basic(:j14);   j15 = Basic(:j15)\n",
    "j16 = Basic(:j16);   j17 = Basic(:j17);   j18 = Basic(:j18);   j19 = Basic(:j19);   j20 = Basic(:j20)\n",
    "j21 = Basic(:j21);   j22 = Basic(:j22);   j23 = Basic(:j23);   j24 = Basic(:j24);   j25 = Basic(:j25)\n",
    "J   = Basic(:J)"
   ]
  },
  {
   "cell_type": "markdown",
   "metadata": {},
   "source": [
    "The `struct RacahAlgebra.Csq` then helps to express the left- and right-hand side of the recoupling coefficient above as:"
   ]
  },
  {
   "cell_type": "code",
   "execution_count": 4,
   "metadata": {},
   "outputs": [
    {
     "data": {
      "text/plain": [
       "(j1, (j2, j3) j23) J"
      ]
     },
     "execution_count": 4,
     "metadata": {},
     "output_type": "execute_result"
    }
   ],
   "source": [
    "leftCsq  = RacahAlgebra.Csq( RacahAlgebra.Csq( j1, j2, j12), j3, J)\n",
    "rightCsq = RacahAlgebra.Csq( j1, RacahAlgebra.Csq( j2, j3, j23), J)"
   ]
  },
  {
   "cell_type": "markdown",
   "metadata": {},
   "source": [
    "and, obviously, could be easily extended towards much more complex coupling sequences. -- As before, we can evaluate this re-coupling coefficient by"
   ]
  },
  {
   "cell_type": "code",
   "execution_count": 5,
   "metadata": {},
   "outputs": [
    {
     "name": "stdout",
     "output_type": "stream",
     "text": [
      ">> Lhs-sequence     = Sum_[Basic[mj1, mj2, mj3, mj12]]  (-1)^(j1 + j12 - j2 - j3 + mJ + mj12)  (sqrt(1 + 2*J)*sqrt(1 + 2*j12))  W3j(j1, j2, j12; mj1, mj2, -mj12)  W3j(j12, j3, J; mj12, mj3, -mJ)   \n",
      ">> Rhs-sequence     = Sum_[Basic[mj1, mj2, mj3, mj23]]  (-1)^(j1 + j2 - j23 - j3 + mJ + mj23)  (sqrt(1 + 2*J)*sqrt(1 + 2*j23))  W3j(j2, j3, j23; mj2, mj3, -mj23)  W3j(j1, j23, J; mj1, mj23, -mJ)   \n",
      ">> Total recoupling = Sum_[Basic[mj1, mj2, mj3, mj12, mj23]]  (-1)^(2*j1 + j12 - j23 - 2*j3 + 2*mJ + mj12 + mj23)  ((1 + 2*J)*sqrt(1 + 2*j23)*sqrt(1 + 2*j12))  W3j(j1, j2, j12; mj1, mj2, -mj12)  W3j(j12, j3, J; mj12, mj3, -mJ)  W3j(j2, j3, j23; mj2, mj3, -mj23)  W3j(j1, j23, J; mj1, mj23, -mJ)  \n",
      ">> Apply sum rule for three W3j -- Sum(m4,m5,m6) ...\n"
     ]
    },
    {
     "name": "stderr",
     "output_type": "stream",
     "text": [
      "┌ Info: Sum_[Basic[mj1, mj2, mj3, mj12, mj23]]  (-1)^(2*j1 + j12 - j23 - 2*j3 + 2*mJ + mj12 + mj23)  ((1 + 2*J)*sqrt(1 + 2*j23)*sqrt(1 + 2*j12))  W3j(j1, j2, j12; mj1, mj2, -mj12)  W3j(j12, j3, J; mj12, mj3, -mJ)  W3j(j2, j3, j23; mj2, mj3, -mj23)  W3j(j1, j23, J; mj1, mj23, -mJ)   \n",
      "└ @ JAC.RacahAlgebra /home/fritzsch/fri/JAC.jl/src/module-RacahAlgebra-inc-sumrules.jl:706\n",
      "┌ Info: sumRulesForThreeW3j: Proper set of three W3js found; NOT (mj3, -mj2, -mj12)  testPhase  = 2*j1 + j2 - j23 - 3*j3 + 2*mJ + 2*mj23.\n",
      "└ @ JAC.RacahAlgebra /home/fritzsch/fri/JAC.jl/src/module-RacahAlgebra-inc-sumrules.jl:707\n",
      "┌ Info:                                                      HAS (mj3, -mj2, -mj12)  summations = Basic[mj1, mj2, mj3, mj12, mj23].\n",
      "└ @ JAC.RacahAlgebra /home/fritzsch/fri/JAC.jl/src/module-RacahAlgebra-inc-sumrules.jl:708\n"
     ]
    },
    {
     "name": "stdout",
     "output_type": "stream",
     "text": [
      ">> Apply sum rule for two W3j -- Sum(np,nq) (-1)^(-np-nq) ...\n"
     ]
    },
    {
     "name": "stderr",
     "output_type": "stream",
     "text": [
      "┌ Info: 1)2*mJ - 2*mj1 - 2*mj23        2)-mJ + mj1 + mj23         testPhase  = J + j1 + j2 - 3*j3 + mJ - mj1 + 3*mj23.\n",
      "└ @ JAC.RacahAlgebra /home/fritzsch/fri/JAC.jl/src/module-RacahAlgebra-inc-sumrules.jl:263\n",
      "┌ Info: Sum_[Basic[mj1, mj23]]  (-1)^(2*j1 + j2 - j23 - 3*j3 + 2*mJ + 2*mj23)  ((1 + 2*J)*sqrt(1 + 2*j23)*sqrt(1 + 2*j12))  W3j(j1, j23, J; mj1, mj23, -mJ)  W3j(j1, J, j23; mj1, -mJ, mj23)  W6j{j1, J, j23; j3, j2, j12}   \n",
      "└ @ JAC.RacahAlgebra /home/fritzsch/fri/JAC.jl/src/module-RacahAlgebra-inc-sumrules.jl:283\n",
      "┌ Info: sumRulesForThreeW3j: Proper set of three W3js found; NOT (-mj1, mJ)  testPhase  = J + j1 + j2 - 3*j3 + 4*mj23.\n",
      "└ @ JAC.RacahAlgebra /home/fritzsch/fri/JAC.jl/src/module-RacahAlgebra-inc-sumrules.jl:284\n",
      "┌ Info:                                                      HAS (-mj1, mJ)  summations = Basic[mj1, mj23].\n",
      "└ @ JAC.RacahAlgebra /home/fritzsch/fri/JAC.jl/src/module-RacahAlgebra-inc-sumrules.jl:285\n",
      "┌ Info: 1)2*mJ - 2*mj1 - 2*mj23        2)-mJ + mj1 + mj23         testPhase  = -J + 3*j1 + j2 - 3*j3 + 3*mJ + mj1 + 3*mj23.\n",
      "└ @ JAC.RacahAlgebra /home/fritzsch/fri/JAC.jl/src/module-RacahAlgebra-inc-sumrules.jl:263\n",
      "┌ Info: Sum_[Basic[mj1, mj23]]  (-1)^(2*j1 + j2 - j23 - 3*j3 + 2*mJ + 2*mj23)  ((1 + 2*J)*sqrt(1 + 2*j23)*sqrt(1 + 2*j12))  W3j(j1, j23, J; mj1, mj23, -mJ)  W3j(j1, J, j23; mj1, -mJ, mj23)  W6j{j1, J, j23; j3, j2, j12}   \n",
      "└ @ JAC.RacahAlgebra /home/fritzsch/fri/JAC.jl/src/module-RacahAlgebra-inc-sumrules.jl:283\n",
      "┌ Info: sumRulesForThreeW3j: Proper set of three W3js found; NOT (mJ, -mj23)  testPhase  = -J + 3*j1 + j2 - 3*j3 + 3*mJ + mj1 + 3*mj23.\n",
      "└ @ JAC.RacahAlgebra /home/fritzsch/fri/JAC.jl/src/module-RacahAlgebra-inc-sumrules.jl:284\n",
      "┌ Info:                                                      HAS (mJ, -mj23)  summations = Basic[mj1, mj23].\n",
      "└ @ JAC.RacahAlgebra /home/fritzsch/fri/JAC.jl/src/module-RacahAlgebra-inc-sumrules.jl:285\n",
      "┌ Info: 1)2*mJ - 2*mj1 - 2*mj23        2)-mJ + mj1 + mj23         testPhase  = J + 3*j1 + j2 - 2*j23 - 3*j3 + mJ + mj1 + mj23.\n",
      "└ @ JAC.RacahAlgebra /home/fritzsch/fri/JAC.jl/src/module-RacahAlgebra-inc-sumrules.jl:263\n",
      "┌ Info: Sum_[Basic[mj1, mj23]]  (-1)^(2*j1 + j2 - j23 - 3*j3 + 2*mJ + 2*mj23)  ((1 + 2*J)*sqrt(1 + 2*j23)*sqrt(1 + 2*j12))  W3j(j1, j23, J; mj1, mj23, -mJ)  W3j(j1, J, j23; mj1, -mJ, mj23)  W6j{j1, J, j23; j3, j2, j12}   \n",
      "└ @ JAC.RacahAlgebra /home/fritzsch/fri/JAC.jl/src/module-RacahAlgebra-inc-sumrules.jl:283\n",
      "┌ Info: sumRulesForThreeW3j: Proper set of three W3js found; NOT (-mj23, -mj1)  testPhase  = J + 3*j1 + j2 - 2*j23 - 3*j3 + 2*mJ.\n",
      "└ @ JAC.RacahAlgebra /home/fritzsch/fri/JAC.jl/src/module-RacahAlgebra-inc-sumrules.jl:284\n",
      "┌ Info:                                                      HAS (-mj23, -mj1)  summations = Basic[mj1, mj23].\n",
      "└ @ JAC.RacahAlgebra /home/fritzsch/fri/JAC.jl/src/module-RacahAlgebra-inc-sumrules.jl:285\n"
     ]
    },
    {
     "data": {
      "text/plain": [
       "(-1)^(J + 3*j1 + j2 - 2*j23 - 3*j3 + 2*mJ)  (sqrt(1 + 2*j23)*sqrt(1 + 2*j12))  delta(J, J)  delta(-mJ, -mJ)  delta (J, j23, j1)  W6j{j1, J, j23; j3, j2, j12}  "
      ]
     },
     "execution_count": 5,
     "metadata": {},
     "output_type": "execute_result"
    }
   ],
   "source": [
    "RacahAlgebra.evaluate(leftCsq, rightCsq)"
   ]
  },
  {
   "cell_type": "markdown",
   "metadata": {},
   "source": [
    "What need to be done next to make the result more obvious ??"
   ]
  },
  {
   "cell_type": "code",
   "execution_count": 6,
   "metadata": {},
   "outputs": [
    {
     "name": "stdout",
     "output_type": "stream",
     "text": [
      ">> Lhs-sequence     = Sum_[Basic[mj1, mj2, mj3, mj4, mj5, mj6]]  (-1)^(j1 - j2 + j3 - j4 + j5 - j6 + mj5 + mj6 + mj7)  (sqrt(1 + 2*j7)*sqrt(1 + 2*j6)*sqrt(1 + 2*j5))  W3j(j1, j2, j5; mj1, mj2, -mj5)  W3j(j3, j4, j6; mj3, mj4, -mj6)  W3j(j5, j6, j7; mj5, mj6, -mj7)   \n",
      ">> Rhs-sequence     = Sum_[Basic[mj1, mj2, mj3, mj4, mj8, mj9]]  (-1)^(j1 + j2 - j3 - j4 + j8 - j9 + mj7 + mj8 + mj9)  (sqrt(1 + 2*j9)*sqrt(1 + 2*j8)*sqrt(1 + 2*j7))  W3j(j2, j3, j8; mj2, mj3, -mj8)  W3j(j8, j4, j9; mj8, mj4, -mj9)  W3j(j1, j9, j7; mj1, mj9, -mj7)   \n",
      ">> Total recoupling = Sum_[Basic[mj1, mj2, mj3, mj4, mj5, mj6, mj8, mj9]]  (-1)^(2*j1 - 2*j4 + j5 - j6 + j8 - j9 + mj5 + mj6 + 2*mj7 + mj8 + mj9)  (sqrt(1 + 2*j9)*sqrt(1 + 2*j8)*(1 + 2*j7)*sqrt(1 + 2*j6)*sqrt(1 + 2*j5))  W3j(j1, j2, j5; mj1, mj2, -mj5)  W3j(j3, j4, j6; mj3, mj4, -mj6)  W3j(j5, j6, j7; mj5, mj6, -mj7)  W3j(j2, j3, j8; mj2, mj3, -mj8)  W3j(j8, j4, j9; mj8, mj4, -mj9)  W3j(j1, j9, j7; mj1, mj9, -mj7)  \n"
     ]
    },
    {
     "name": "stderr",
     "output_type": "stream",
     "text": [
      "┌ Info: Sum_[Basic[mj1, mj2, mj3, mj4, mj5, mj6, mj8, mj9]]  (-1)^(2*j1 - 2*j4 + j5 - j6 + j8 - j9 + mj5 + mj6 + 2*mj7 + mj8 + mj9)  (sqrt(1 + 2*j9)*sqrt(1 + 2*j8)*(1 + 2*j7)*sqrt(1 + 2*j6)*sqrt(1 + 2*j5))  W3j(j1, j2, j5; mj1, mj2, -mj5)  W3j(j3, j4, j6; mj3, mj4, -mj6)  W3j(j5, j6, j7; mj5, mj6, -mj7)  W3j(j2, j3, j8; mj2, mj3, -mj8)  W3j(j8, j4, j9; mj8, mj4, -mj9)  W3j(j1, j9, j7; mj1, mj9, -mj7)   \n",
      "└ @ JAC.RacahAlgebra /home/fritzsch/fri/JAC.jl/src/module-RacahAlgebra-inc-sumrules.jl:706\n",
      "┌ Info: sumRulesForThreeW3j: Proper set of three W3js found; NOT (mj8, -mj4, mj3)  testPhase  = 2*j1 + j2 + j3 - j4 + j5 + 2*j8 + mj3 - mj4 + mj5 + mj6 + 2*mj7 + 2*mj8 + mj9.\n",
      "└ @ JAC.RacahAlgebra /home/fritzsch/fri/JAC.jl/src/module-RacahAlgebra-inc-sumrules.jl:707\n",
      "┌ Info:                                                      HAS (mj8, -mj4, mj3)  summations = Basic[mj1, mj2, mj3, mj4, mj5, mj6, mj8, mj9].\n",
      "└ @ JAC.RacahAlgebra /home/fritzsch/fri/JAC.jl/src/module-RacahAlgebra-inc-sumrules.jl:708\n",
      "┌ Info: Sum_[Basic[mj1, mj2, mj3, mj4, mj5, mj6, mj8, mj9]]  (-1)^(2*j1 - 2*j4 + j5 - j6 + j8 - j9 + mj5 + mj6 + 2*mj7 + mj8 + mj9)  (sqrt(1 + 2*j9)*sqrt(1 + 2*j8)*(1 + 2*j7)*sqrt(1 + 2*j6)*sqrt(1 + 2*j5))  W3j(j1, j2, j5; mj1, mj2, -mj5)  W3j(j3, j4, j6; mj3, mj4, -mj6)  W3j(j5, j6, j7; mj5, mj6, -mj7)  W3j(j2, j3, j8; mj2, mj3, -mj8)  W3j(j8, j4, j9; mj8, mj4, -mj9)  W3j(j1, j9, j7; mj1, mj9, -mj7)   \n",
      "└ @ JAC.RacahAlgebra /home/fritzsch/fri/JAC.jl/src/module-RacahAlgebra-inc-sumrules.jl:706\n",
      "┌ Info: sumRulesForThreeW3j: Proper set of three W3js found; NOT (-mj8, mj4, -mj3)  testPhase  = 2*j1 - j3 - 3*j4 + j5 - j6 - j9 - mj3 + mj4 + mj5 + mj6 + 2*mj7 + mj9.\n",
      "└ @ JAC.RacahAlgebra /home/fritzsch/fri/JAC.jl/src/module-RacahAlgebra-inc-sumrules.jl:707\n",
      "┌ Info:                                                      HAS (-mj8, mj4, -mj3)  summations = Basic[mj1, mj2, mj3, mj4, mj5, mj6, mj8, mj9].\n",
      "└ @ JAC.RacahAlgebra /home/fritzsch/fri/JAC.jl/src/module-RacahAlgebra-inc-sumrules.jl:708\n",
      "┌ Info: Sum_[Basic[mj1, mj2, mj3, mj4, mj5, mj6, mj8, mj9]]  (-1)^(2*j1 - 2*j4 + j5 - j6 + j8 - j9 + mj5 + mj6 + 2*mj7 + mj8 + mj9)  (sqrt(1 + 2*j9)*sqrt(1 + 2*j8)*(1 + 2*j7)*sqrt(1 + 2*j6)*sqrt(1 + 2*j5))  W3j(j1, j2, j5; mj1, mj2, -mj5)  W3j(j3, j4, j6; mj3, mj4, -mj6)  W3j(j5, j6, j7; mj5, mj6, -mj7)  W3j(j2, j3, j8; mj2, mj3, -mj8)  W3j(j8, j4, j9; mj8, mj4, -mj9)  W3j(j1, j9, j7; mj1, mj9, -mj7)   \n",
      "└ @ JAC.RacahAlgebra /home/fritzsch/fri/JAC.jl/src/module-RacahAlgebra-inc-sumrules.jl:706\n",
      "┌ Info: sumRulesForThreeW3j: Proper set of three W3js found; NOT (-mj7, -mj1, -mj5)  testPhase  = 3*j1 + j2 - 2*j4 + 2*j5 + j7 + j8 - mj1 + mj6 + mj7 + mj8 + mj9.\n",
      "└ @ JAC.RacahAlgebra /home/fritzsch/fri/JAC.jl/src/module-RacahAlgebra-inc-sumrules.jl:707\n",
      "┌ Info:                                                      HAS (-mj7, -mj1, -mj5)  summations = Basic[mj1, mj2, mj3, mj4, mj5, mj6, mj8, mj9].\n",
      "└ @ JAC.RacahAlgebra /home/fritzsch/fri/JAC.jl/src/module-RacahAlgebra-inc-sumrules.jl:708\n",
      "┌ Info: Sum_[Basic[mj1, mj2, mj3, mj4, mj5, mj6, mj8, mj9]]  (-1)^(2*j1 - 2*j4 + j5 - j6 + j8 - j9 + mj5 + mj6 + 2*mj7 + mj8 + mj9)  (sqrt(1 + 2*j9)*sqrt(1 + 2*j8)*(1 + 2*j7)*sqrt(1 + 2*j6)*sqrt(1 + 2*j5))  W3j(j1, j2, j5; mj1, mj2, -mj5)  W3j(j3, j4, j6; mj3, mj4, -mj6)  W3j(j5, j6, j7; mj5, mj6, -mj7)  W3j(j2, j3, j8; mj2, mj3, -mj8)  W3j(j8, j4, j9; mj8, mj4, -mj9)  W3j(j1, j9, j7; mj1, mj9, -mj7)   \n",
      "└ @ JAC.RacahAlgebra /home/fritzsch/fri/JAC.jl/src/module-RacahAlgebra-inc-sumrules.jl:706\n",
      "┌ Info: sumRulesForThreeW3j: Proper set of three W3js found; NOT (mj7, mj1, mj5)  testPhase  = j1 - 2*j4 - j6 - j7 + j8 - j9 + mj1 + 2*mj5 + mj6 + 3*mj7 + mj8 + mj9.\n",
      "└ @ JAC.RacahAlgebra /home/fritzsch/fri/JAC.jl/src/module-RacahAlgebra-inc-sumrules.jl:707\n",
      "┌ Info:                                                      HAS (mj7, mj1, mj5)  summations = Basic[mj1, mj2, mj3, mj4, mj5, mj6, mj8, mj9].\n",
      "└ @ JAC.RacahAlgebra /home/fritzsch/fri/JAC.jl/src/module-RacahAlgebra-inc-sumrules.jl:708\n"
     ]
    },
    {
     "data": {
      "text/plain": [
       "Sum_[Basic[mj1, mj2, mj3, mj4, mj5, mj6, mj8, mj9]]  (-1)^(2*j1 - 2*j4 + j5 - j6 + j8 - j9 + mj5 + mj6 + 2*mj7 + mj8 + mj9)  (sqrt(1 + 2*j9)*sqrt(1 + 2*j8)*(1 + 2*j7)*sqrt(1 + 2*j6)*sqrt(1 + 2*j5))  W3j(j1, j2, j5; mj1, mj2, -mj5)  W3j(j3, j4, j6; mj3, mj4, -mj6)  W3j(j5, j6, j7; mj5, mj6, -mj7)  W3j(j2, j3, j8; mj2, mj3, -mj8)  W3j(j8, j4, j9; mj8, mj4, -mj9)  W3j(j1, j9, j7; mj1, mj9, -mj7)  "
      ]
     },
     "execution_count": 6,
     "metadata": {},
     "output_type": "execute_result"
    }
   ],
   "source": [
    "leftCsq  = RacahAlgebra.Csq( RacahAlgebra.Csq(j1,j2,j5), RacahAlgebra.Csq(j3,j4,j6), j7 )\n",
    "rightCsq = RacahAlgebra.Csq( j1, RacahAlgebra.Csq( RacahAlgebra.Csq(j2,j3,j8), j4, j9), j7 )\n",
    "rex      = RacahAlgebra.evaluate(leftCsq, rightCsq)"
   ]
  },
  {
   "cell_type": "code",
   "execution_count": null,
   "metadata": {},
   "outputs": [],
   "source": []
  },
  {
   "cell_type": "markdown",
   "metadata": {},
   "source": [
    "## **The following part of this nootebook is still under construction.**"
   ]
  },
  {
   "cell_type": "code",
   "execution_count": null,
   "metadata": {},
   "outputs": [],
   "source": []
  }
 ],
 "metadata": {
  "@webio": {
   "lastCommId": null,
   "lastKernelId": null
  },
  "kernelspec": {
   "display_name": "Julia 1.0.3",
   "language": "julia",
   "name": "julia-1.0"
  },
  "language_info": {
   "file_extension": ".jl",
   "mimetype": "application/julia",
   "name": "julia",
   "version": "1.0.3"
  }
 },
 "nbformat": 4,
 "nbformat_minor": 4
}
