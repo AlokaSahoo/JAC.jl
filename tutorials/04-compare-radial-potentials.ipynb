{
 "cells": [
  {
   "cell_type": "markdown",
   "metadata": {},
   "source": [
    "# Compute and compare different radial potentials"
   ]
  },
  {
   "cell_type": "code",
   "execution_count": 1,
   "metadata": {},
   "outputs": [
    {
     "data": {
      "text/html": [
       "<script>\n",
       "// Immediately-invoked-function-expression to avoid global variables.\n",
       "(function() {\n",
       "    var warning_div = document.getElementById(\"webio-warning-2464692928112334441\");\n",
       "    var hide = function () {\n",
       "        var script = document.getElementById(\"webio-setup-17558004737754290893\");\n",
       "        var parent = script && script.parentElement;\n",
       "        var grandparent = parent && parent.parentElement;\n",
       "        if (grandparent) {\n",
       "            grandparent.style.display = \"none\";\n",
       "        }\n",
       "        warning_div.style.display = \"none\";\n",
       "    };\n",
       "    if (typeof Jupyter !== \"undefined\") {\n",
       "        console.log(\"WebIO detected Jupyter notebook environment.\");\n",
       "        // Jupyter notebook.\n",
       "        var extensions = (\n",
       "            Jupyter\n",
       "            && Jupyter.notebook.config.data\n",
       "            && Jupyter.notebook.config.data.load_extensions\n",
       "        );\n",
       "        if (extensions && extensions[\"webio-jupyter-notebook\"]) {\n",
       "            // Extension already loaded.\n",
       "            console.log(\"Jupyter WebIO nbextension detected; not loading ad-hoc.\");\n",
       "            hide();\n",
       "            return;\n",
       "        }\n",
       "    } else if (window.location.pathname.includes(\"/lab\")) {\n",
       "        // Guessing JupyterLa\n",
       "        console.log(\"Jupyter Lab detected; make sure the @webio/jupyter-lab-provider labextension is installed.\");\n",
       "        hide();\n",
       "        return;\n",
       "    }\n",
       "})();\n",
       "\n",
       "</script>\n",
       "<p\n",
       "    id=\"webio-warning-2464692928112334441\"\n",
       "    class=\"output_text output_stderr\"\n",
       "    style=\"padding: 1em; font-weight: bold;\"\n",
       ">\n",
       "    Unable to load WebIO. Please make sure WebIO works for your Jupyter client.\n",
       "    For troubleshooting, please see <a href=\"https://juliagizmos.github.io/WebIO.jl/latest/providers/ijulia/\">\n",
       "    the WebIO/IJulia documentation</a>.\n",
       "    <!-- TODO: link to installation docs. -->\n",
       "</p>\n"
      ],
      "text/plain": [
       "HTML{String}(\"<script>\\n// Immediately-invoked-function-expression to avoid global variables.\\n(function() {\\n    var warning_div = document.getElementById(\\\"webio-warning-2464692928112334441\\\");\\n    var hide = function () {\\n        var script = document.getElementById(\\\"webio-setup-17558004737754290893\\\");\\n        var parent = script && script.parentElement;\\n        var grandparent = parent && parent.parentElement;\\n        if (grandparent) {\\n            grandparent.style.display = \\\"none\\\";\\n        }\\n        warning_div.style.display = \\\"none\\\";\\n    };\\n    if (typeof Jupyter !== \\\"undefined\\\") {\\n        console.log(\\\"WebIO detected Jupyter notebook environment.\\\");\\n        // Jupyter notebook.\\n        var extensions = (\\n            Jupyter\\n            && Jupyter.notebook.config.data\\n            && Jupyter.notebook.config.data.load_extensions\\n        );\\n        if (extensions && extensions[\\\"webio-jupyter-notebook\\\"]) {\\n            // Extension already loaded.\\n            console.log(\\\"Jupyter WebIO nbextension detected; not loading ad-hoc.\\\");\\n            hide();\\n            return;\\n        }\\n    } else if (window.location.pathname.includes(\\\"/lab\\\")) {\\n        // Guessing JupyterLa\\n        console.log(\\\"Jupyter Lab detected; make sure the @webio/jupyter-lab-provider labextension is installed.\\\");\\n        hide();\\n        return;\\n    }\\n})();\\n\\n</script>\\n<p\\n    id=\\\"webio-warning-2464692928112334441\\\"\\n    class=\\\"output_text output_stderr\\\"\\n    style=\\\"padding: 1em; font-weight: bold;\\\"\\n>\\n    Unable to load WebIO. Please make sure WebIO works for your Jupyter client.\\n    For troubleshooting, please see <a href=\\\"https://juliagizmos.github.io/WebIO.jl/latest/providers/ijulia/\\\">\\n    the WebIO/IJulia documentation</a>.\\n    <!-- TODO: link to installation docs. -->\\n</p>\\n\")"
      ]
     },
     "metadata": {},
     "output_type": "display_data"
    }
   ],
   "source": [
    "using JAC"
   ]
  },
  {
   "cell_type": "markdown",
   "metadata": {},
   "source": [
    "\n",
    "We shall here describe how different atomic (radial) potentials can be calculated and applied within the JAC toolbox.\n",
    "\n",
    "Any (radial) potential is handled in JAC by the data struct `Radial.Potential` that (may) contain a name, the radial function $Z(r)$ as well as the radial grid on which the potential is defined. The potential function `Zr` typically contains the effective charge $Z(r)$ as seen by an electron, so that the full radial potential is given by $V = -\\:Z(r) / r$. This convention has been frequently applied in atomic physics and has also been adopted in JAC.\n"
   ]
  },
  {
   "cell_type": "code",
   "execution_count": 2,
   "metadata": {},
   "outputs": [
    {
     "data": {
      "text/latex": [
       "\\texttt{struct  Radial.Potential}  ... defines a struct for a local radial potential.\n",
       "\n",
       "\\begin{verbatim}\n",
       "+ name           ::String            ... A name for the potential.\n",
       "+ Zr             ::Array{Float64,1}  ... radial potential function Z(r) = - r * V(r) as usual in atomic structure theory.\n",
       "+ grid           ::RadialGrid        ... radial grid on which the potential is defined.\n",
       "\\end{verbatim}\n",
       "\\rule{\\textwidth}{1pt}\n",
       "\\texttt{Radial.Potential()}  ... constructor to define an 'empty' instance of the radial potential.\n",
       "\n"
      ],
      "text/markdown": [
       "`struct  Radial.Potential`  ... defines a struct for a local radial potential.\n",
       "\n",
       "```\n",
       "+ name           ::String            ... A name for the potential.\n",
       "+ Zr             ::Array{Float64,1}  ... radial potential function Z(r) = - r * V(r) as usual in atomic structure theory.\n",
       "+ grid           ::RadialGrid        ... radial grid on which the potential is defined.\n",
       "```\n",
       "\n",
       "---\n",
       "\n",
       "`Radial.Potential()`  ... constructor to define an 'empty' instance of the radial potential.\n"
      ],
      "text/plain": [
       "  \u001b[36mstruct  Radial.Potential\u001b[39m ... defines a struct for a local radial potential.\n",
       "\n",
       "\u001b[36m  + name           ::String            ... A name for the potential.\u001b[39m\n",
       "\u001b[36m  + Zr             ::Array{Float64,1}  ... radial potential function Z(r) = - r * V(r) as usual in atomic structure theory.\u001b[39m\n",
       "\u001b[36m  + grid           ::RadialGrid        ... radial grid on which the potential is defined.\u001b[39m\n",
       "\n",
       "  ────────────────────────────────────────────────────────────────────────────\n",
       "\n",
       "  \u001b[36mRadial.Potential()\u001b[39m ... constructor to define an 'empty' instance of the\n",
       "  radial potential."
      ]
     },
     "execution_count": 2,
     "metadata": {},
     "output_type": "execute_result"
    }
   ],
   "source": [
    "? Radial.Potential"
   ]
  },
  {
   "cell_type": "markdown",
   "metadata": {},
   "source": [
    "\n",
    "Perhaps, the simplest choice of a radial potential is the **nuclear** potential which, of course, depends on the nuclear model. Let us first simply consider a $\\;^{12}$C $\\;$ carbon atom with a Fermi-distributed nuclear charge and a standard radial grid.\n"
   ]
  },
  {
   "cell_type": "code",
   "execution_count": 3,
   "metadata": {},
   "outputs": [
    {
     "name": "stdout",
     "output_type": "stream",
     "text": [
      "Define a radial grid of type MeshGL with 400 grid points\n",
      " [rnt=2.000e-06, h=5.000e-02, hp=0.000e+00, NoPoints=390, r_max=9.161e+02;\n",
      "  B-splines with break points at every 7th point, nsL=56, nsS=57, orderL=7, orderS=8, orderGL=7] \n"
     ]
    },
    {
     "data": {
      "text/plain": [
       "Fermi nuclear model for Z = 6.0 with mass = 12.18, radius R = 2.4934845703596404 fm and nuclear spin I = 0, dipole moment mu = 0.0 and quadrupole moment Q = 0.0."
      ]
     },
     "execution_count": 3,
     "metadata": {},
     "output_type": "execute_result"
    }
   ],
   "source": [
    "grid     = Radial.Grid(\"grid: exponential\")\n",
    "nucModel = Nuclear.Model(6., \"Fermi\")"
   ]
  },
  {
   "cell_type": "markdown",
   "metadata": {},
   "source": [
    "\n",
    "Then, the corresponding nuclear potential is generated by simply calling:\n"
   ]
  },
  {
   "cell_type": "code",
   "execution_count": 4,
   "metadata": {
    "scrolled": true
   },
   "outputs": [
    {
     "data": {
      "text/plain": [
       "nuclear-potential: Fermi-distributed (radial) potential ... defined on 400 grid points ...\n",
       "Zr:    [0.0, 0.00368392, 0.0187097, 0.0430085, 0.0723845, 0.101758, 0.126052, 0.141072, 0.149981, 0.171293  …  0.323458, 0.344736, 0.357353, 0.387534, 0.436313, 0.495234, 0.554092, 0.60272, 0.632765, 0.650573]  ...  [6.0, 6.0, 6.0, 6.0, 6.0, 6.0, 6.0, 6.0, 6.0, 6.0  …  6.0, 6.0, 6.0, 6.0, 6.0, 6.0, 6.0, 6.0, 6.0, 6.0]\n",
       "Radial grid:  rnt = 2.0e-6,  h = 0.05,  hp = 0.0,  NoPoints = 390, orderL = 7,  orderS = 8,  nsL = 56,  nsS = 57,  mesh = MeshGL, ...  \n",
       "r:    [0.0, 2.13272e-8, 1.08316e-7]  ...  [842.031, 887.781, 916.071]\n",
       "wr:   [0.0, 5.42629e-8, 1.17215e-7]  ...  [52.0386, 38.1203, 17.6472]\n",
       "t:    [0.0, 0.0, 0.0]  ...  [39.5528, 56.1281, 79.6496]"
      ]
     },
     "execution_count": 4,
     "metadata": {},
     "output_type": "execute_result"
    }
   ],
   "source": [
    "nucPotential = Nuclear.nuclearPotential(nucModel, grid)"
   ]
  },
  {
   "cell_type": "markdown",
   "metadata": {},
   "source": [
    "\n",
    "As seen from the output, the effective charge Z(r) vanishes near to the origin but quickly increases to the full charge $Z = 6.\\;$ at larger $r$-values, i.e. near to the surface and outside of the nucleus\n",
    "\n",
    "To calculate **atomic** potentials, we also need to know the electron density around the nucleus. Most often, this density refers to a particular atomic level. Therefore, we first need to compute some of the low-lying levels of, for instance, neutral carbon. We shall here just compute the levels of the $1s^2 2s^2 2p^2$ ground-state configuration. We use the *simplest* approximation for these computation but will explain in some later tutorials how we could control and refine such simple structure calculations, if needed.\n"
   ]
  },
  {
   "cell_type": "code",
   "execution_count": 5,
   "metadata": {
    "scrolled": true
   },
   "outputs": [
    {
     "name": "stdout",
     "output_type": "stream",
     "text": [
      "\n",
      "... in perform['computation: SCF'] ...\n",
      "perform-aa: Configuration: 1s_1/2^2 2s_1/2^2 2p_1/2^0 2p_3/2^2 \n",
      "perform-aa: Configuration: 1s_1/2^2 2s_1/2^2 2p_1/2^1 2p_3/2^1 \n",
      "perform-aa: Configuration: 1s_1/2^2 2s_1/2^2 2p_1/2^2 2p_3/2^0 \n",
      "(Re-) Define a new standard subshell list.\n",
      "(Re-) Define a storage array for various B-spline matrices:\n",
      "Nuclear model = Fermi nuclear model for Z = 6.0 with mass = 12.18, radius R = 2.4934845703596404 fm and nuclear spin I = 0, dipole moment mu = 0.0 and quadrupole moment Q = 0.0. \n",
      "Generate hydrogenic orbital for subshell 1s_1/2 \n",
      "  -----------------------------------------------------------------------------\n",
      "   Index    Subshell     Energies [a.u.]    Dirac-E  [a.u.]     Delta-E / |E|    \n",
      "  -----------------------------------------------------------------------------\n",
      "      1      1s_1/2      -1.80086331e+01    -1.80086350e+01    +1.02976431e-07    \n",
      "      2      2s_1/2      -4.50269994e+00    -4.50269857e+00    -3.04312440e-07    \n",
      "      3      3s_1/2      -2.00097395e+00    -2.00095940e+00    -7.27254410e-06    \n",
      "      4      4s_1/2      -1.12570275e+00    -1.12543844e+00    -2.34794041e-04    \n",
      "      5      5s_1/2      -7.22417687e-01    -7.20234830e-01    -3.02159998e-03    \n",
      "      6      6s_1/2      -5.43499260e-01    -5.00139888e-01    -7.97781626e-02    \n",
      "      7      7s_1/2      -4.77992204e-01    -3.67436826e-01    -2.31291173e-01    \n",
      "      8      8s_1/2      -3.50617308e-01    -2.81311119e-01    -1.97669046e-01    \n",
      "      :       :    \n",
      "     51     51s_1/2      +8.45595432e+07    -6.92067167e-03    +1.00000000e+00    \n",
      "     52     52s_1/2      +1.28290116e+08    -6.65704673e-03    +1.00000000e+00    \n",
      "     53     53s_1/2      +2.02604410e+08    -6.40820299e-03    +1.00000000e+00    \n",
      "     54     54s_1/2      +3.45024075e+08    -6.17305571e-03    +1.00000000e+00    \n",
      "     55     55s_1/2      +6.89868760e+08    -5.95061791e-03    +1.00000000e+00    \n",
      "     56     56s_1/2      +2.35263571e+09    -5.73998987e-03    +1.00000000e+00    \n",
      "  -----------------------------------------------------------------------------\n",
      "Use hydrogenic orbital from this symmetry block also for 1s_1/2.\n",
      "Use hydrogenic orbital from this symmetry block also for 2s_1/2.\n",
      "Generate hydrogenic orbital for subshell 2p_1/2 \n",
      "  -----------------------------------------------------------------------------\n",
      "   Index    Subshell     Energies [a.u.]    Dirac-E  [a.u.]     Delta-E / |E|    \n",
      "  -----------------------------------------------------------------------------\n",
      "      1      2p_1/2      -4.50269897e+00    -4.50269857e+00    -8.86540654e-08    \n",
      "      2      3p_1/2      -2.00096504e+00    -2.00095940e+00    -2.81855014e-06    \n",
      "      3      4p_1/2      -1.12553178e+00    -1.12543844e+00    -8.29322950e-05    \n",
      "      4      5p_1/2      -7.20764947e-01    -7.20234830e-01    -7.35493432e-04    \n",
      "      5      6p_1/2      -5.03805548e-01    -5.00139888e-01    -7.27594233e-03    \n",
      "      6      7p_1/2      -4.02528567e-01    -3.67436826e-01    -8.71782608e-02    \n",
      "      7      8p_1/2      -3.37562144e-01    -2.81311119e-01    -1.66639019e-01    \n",
      "      8      9p_1/2      -2.51626325e-01    -2.22265641e-01    -1.16683674e-01    \n",
      "      :       :    \n",
      "     50     51p_1/2      +7.03537670e+07    -6.92067167e-03    +1.00000000e+00    \n",
      "     51     52p_1/2      +1.05503779e+08    -6.65704673e-03    +1.00000000e+00    \n",
      "     52     53p_1/2      +1.63213540e+08    -6.40820299e-03    +1.00000000e+00    \n",
      "     53     54p_1/2      +2.67045526e+08    -6.17305571e-03    +1.00000000e+00    \n",
      "     54     55p_1/2      +4.88063740e+08    -5.95061791e-03    +1.00000000e+00    \n",
      "     55     56p_1/2      +1.16229257e+09    -5.73998987e-03    +1.00000000e+00    \n",
      "  -----------------------------------------------------------------------------\n",
      "Use hydrogenic orbital from this symmetry block also for 2p_1/2.\n",
      "Generate hydrogenic orbital for subshell 2p_3/2 \n",
      "  -----------------------------------------------------------------------------\n",
      "   Index    Subshell     Energies [a.u.]    Dirac-E  [a.u.]     Delta-E / |E|    \n",
      "  -----------------------------------------------------------------------------\n",
      "      1      2p_3/2      -4.50053992e+00    -4.50053930e+00    -1.38182617e-07    \n",
      "      2      3p_3/2      -2.00032651e+00    -2.00031959e+00    -3.45808418e-06    \n",
      "      3      4p_3/2      -1.12540854e+00    -1.12516853e+00    -2.13264705e-04    \n",
      "      4      5p_3/2      -7.24653977e-01    -7.20096642e-01    -6.28898055e-03    \n",
      "      5      6p_3/2      -6.20146099e-01    -5.00059921e-01    -1.93641753e-01    \n",
      "      6      7p_3/2      -4.89006479e-01    -3.67386470e-01    -2.48708379e-01    \n",
      "      7      8p_3/2      -3.52280887e-01    -2.81277385e-01    -2.01553659e-01    \n",
      "      8      9p_3/2      -2.56112113e-01    -2.22241949e-01    -1.32247413e-01    \n",
      "      :       :    \n",
      "     51     52p_3/2      +1.00229880e+08    -6.65692392e-03    +1.00000000e+00    \n",
      "     52     53p_3/2      +1.53901193e+08    -6.40808699e-03    +1.00000000e+00    \n",
      "     53     54p_3/2      +2.48369371e+08    -6.17294605e-03    +1.00000000e+00    \n",
      "     54     55p_3/2      +4.41002908e+08    -5.95051411e-03    +1.00000000e+00    \n",
      "     55     56p_3/2      +9.65503947e+08    -5.73989154e-03    +1.00000000e+00    \n",
      "     56     57p_3/2      +3.73453601e+09    -5.54025693e-03    +1.00000000e+00    \n",
      "  -----------------------------------------------------------------------------\n",
      "Use hydrogenic orbital from this symmetry block also for 2p_3/2.\n",
      "Re-define the standard grid with 390 grid points.\n",
      "(Re-) Define a storage array for various B-spline matrices:\n",
      "\n",
      "Iteration 1 for symmetries ... \n",
      "  1s_1/2::  en [a.u.] = -7.5200270e+00;   self-cons'cy = 4.1086e-01  [1.0000e+02 for sym-block kappa = -1]\n",
      "  2s_1/2::  en [a.u.] = -1.1802354e-02;   self-cons'cy = 9.9477e-01  [1.0000e+02 for sym-block kappa = -1]\n",
      "  2p_1/2::  en [a.u.] = -2.6583595e-01;   self-cons'cy = 8.8850e-01  [1.0000e+02 for sym-block kappa = 1]\n",
      "  2p_3/2::  en [a.u.] = -3.7298231e-01;   self-cons'cy = 8.4694e-01  [1.0000e+02 for sym-block kappa = -2]\n",
      "\n",
      "Iteration 2 for symmetries ... \n",
      "  1s_1/2::  en [a.u.] = -1.0847282e+01;   self-cons'cy = 1.8115e-01  [1.0372e+00 for sym-block kappa = -1]\n",
      "  2s_1/2::  en [a.u.] = -9.2558000e-01;   self-cons'cy = 9.7482e-01  [1.0372e+00 for sym-block kappa = -1]\n",
      "  2p_1/2::  en [a.u.] = -8.0879485e-02;   self-cons'cy = 5.3345e-01  [1.0067e+00 for sym-block kappa = 1]\n",
      "  2p_3/2::  en [a.u.] = -9.3219738e-02;   self-cons'cy = 6.0009e-01  [1.0047e+00 for sym-block kappa = -2]\n",
      "\n",
      "Iteration 3 for symmetries ... \n",
      "  1s_1/2::  en [a.u.] = -9.8287833e+00;   self-cons'cy = 4.9260e-02  [1.0081e+00 for sym-block kappa = -1]\n",
      "  2s_1/2::  en [a.u.] = -4.6271240e-01;   self-cons'cy = 3.3341e-01  [1.0081e+00 for sym-block kappa = -1]\n",
      "  2p_1/2::  en [a.u.] = -2.2972391e-01;   self-cons'cy = 4.7921e-01  [4.7921e-01 for sym-block kappa = 1]\n",
      "  2p_3/2::  en [a.u.] = -1.9405404e-01;   self-cons'cy = 3.5100e-01  [3.5100e-01 for sym-block kappa = -2]\n",
      "\n",
      "Iteration 4 for symmetries ... \n",
      "  1s_1/2::  en [a.u.] = -9.8305210e+00;   self-cons'cy = 8.8389e-05  [9.9426e-01 for sym-block kappa = -1]\n",
      "  2s_1/2::  en [a.u.] = -4.3111901e-01;   self-cons'cy = 3.5346e-02  [9.9426e-01 for sym-block kappa = -1]\n",
      "  2p_1/2::  en [a.u.] = -1.3712693e-01;   self-cons'cy = 2.5241e-01  [2.5241e-01 for sym-block kappa = 1]\n",
      "  2p_3/2::  en [a.u.] = -1.5264604e-01;   self-cons'cy = 1.1943e-01  [1.1943e-01 for sym-block kappa = -2]\n",
      "\n",
      "Iteration 5 for symmetries ... \n",
      "  1s_1/2::  en [a.u.] = -9.9219207e+00;   self-cons'cy = 4.6273e-03  [9.7689e-01 for sym-block kappa = -1]\n",
      "  2s_1/2::  en [a.u.] = -4.7105817e-01;   self-cons'cy = 4.4270e-02  [9.7689e-01 for sym-block kappa = -1]\n",
      "  2p_1/2::  en [a.u.] = -1.6105965e-01;   self-cons'cy = 8.0261e-02  [8.0261e-02 for sym-block kappa = 1]\n",
      "  2p_3/2::  en [a.u.] = -1.5588499e-01;   self-cons'cy = 1.0498e-02  [1.0498e-02 for sym-block kappa = -2]\n",
      "\n",
      "Iteration 6 for symmetries ... \n",
      "  1s_1/2::  en [a.u.] = -9.8785041e+00;   self-cons'cy = 2.1927e-03  [2.5487e-01 for sym-block kappa = -1]\n",
      "  2s_1/2::  en [a.u.] = -4.5450717e-01;   self-cons'cy = 1.7882e-02  [2.5487e-01 for sym-block kappa = -1]\n",
      "  2p_1/2::  en [a.u.] = -1.5900886e-01;   self-cons'cy = 6.4073e-03  [6.4073e-03 for sym-block kappa = 1]\n",
      "  2p_3/2::  en [a.u.] = -1.5898530e-01;   self-cons'cy = 9.8463e-03  [9.8463e-03 for sym-block kappa = -2]\n",
      "\n",
      "Iteration 7 for symmetries ... \n",
      "  1s_1/2::  en [a.u.] = -9.8876269e+00;   self-cons'cy = 4.6154e-04  [7.3837e-03 for sym-block kappa = -1]\n",
      "  2s_1/2::  en [a.u.] = -4.5725492e-01;   self-cons'cy = 3.0137e-03  [7.3837e-03 for sym-block kappa = -1]\n",
      "  2p_1/2::  en [a.u.] = -1.5681806e-01;   self-cons'cy = 6.9367e-03  [6.9367e-03 for sym-block kappa = 1]\n",
      "  2p_3/2::  en [a.u.] = -1.5695991e-01;   self-cons'cy = 6.4105e-03  [6.4105e-03 for sym-block kappa = -2]\n",
      "\n",
      "Iteration 8 for symmetries ... \n",
      "  1s_1/2::  en [a.u.] = -9.8887818e+00;   self-cons'cy = 5.8395e-05  [4.0358e-02 for sym-block kappa = -1]\n",
      "  2s_1/2::  en [a.u.] = -4.5802547e-01;   self-cons'cy = 8.4187e-04  [4.0358e-02 for sym-block kappa = -1]\n",
      "  2p_1/2::  en [a.u.] = -1.5814162e-01;   self-cons'cy = 4.2023e-03  [4.2023e-03 for sym-block kappa = 1]\n",
      "  2p_3/2::  en [a.u.] = -1.5756388e-01;   self-cons'cy = 1.9202e-03  [1.9202e-03 for sym-block kappa = -2]\n",
      "\n",
      "Iteration 9 for symmetries ... \n",
      "  1s_1/2::  en [a.u.] = -9.8870067e+00;   self-cons'cy = 8.9760e-05  [1.9075e-02 for sym-block kappa = -1]\n",
      "  2s_1/2::  en [a.u.] = -4.5727892e-01;   self-cons'cy = 8.1563e-04  [1.9075e-02 for sym-block kappa = -1]\n",
      "  2p_1/2::  en [a.u.] = -1.5777063e-01;   self-cons'cy = 1.1743e-03  [1.1743e-03 for sym-block kappa = 1]\n",
      "  2p_3/2::  en [a.u.] = -1.5752407e-01;   self-cons'cy = 1.2634e-04  [1.2634e-04 for sym-block kappa = -2]\n",
      "\n",
      "Iteration 10 for symmetries ... \n",
      "  1s_1/2::  en [a.u.] = -9.8877420e+00;   self-cons'cy = 3.7184e-05  [4.3181e-03 for sym-block kappa = -1]\n",
      "  2s_1/2::  en [a.u.] = -4.5755043e-01;   self-cons'cy = 2.9679e-04  [4.3181e-03 for sym-block kappa = -1]\n",
      "  2p_1/2::  en [a.u.] = -1.5778228e-01;   self-cons'cy = 3.6900e-05  [4.3457e-05 for sym-block kappa = 1]\n",
      "  2p_3/2::  en [a.u.] = -1.5746563e-01;   self-cons'cy = 1.8551e-04  [1.8551e-04 for sym-block kappa = -2]\n",
      "\n",
      "Iteration 11 for symmetries ... \n",
      "  1s_1/2::  en [a.u.] = -9.8876060e+00;   self-cons'cy = 6.8779e-06  [3.4277e-04 for sym-block kappa = -1]\n",
      "  2s_1/2::  en [a.u.] = -4.5751203e-01;   self-cons'cy = 4.1959e-05  [3.4277e-04 for sym-block kappa = -1]\n",
      "  2p_1/2::  en [a.u.] = -1.5782462e-01;   self-cons'cy = 1.3417e-04  [1.3417e-04 for sym-block kappa = 1]\n",
      "  2p_3/2::  en [a.u.] = -1.5749974e-01;   self-cons'cy = 1.0827e-04  [1.0827e-04 for sym-block kappa = -2]\n",
      "\n",
      "Iteration 12 for symmetries ... \n",
      "  1s_1/2::  en [a.u.] = -9.8875785e+00;   self-cons'cy = 1.3913e-06  [7.2818e-04 for sym-block kappa = -1]\n",
      "  2s_1/2::  en [a.u.] = -4.5749598e-01;   self-cons'cy = 1.7542e-05  [7.2818e-04 for sym-block kappa = -1]\n",
      "  2p_1/2::  en [a.u.] = -1.5780206e-01;   self-cons'cy = 7.1465e-05  [7.1465e-05 for sym-block kappa = 1]\n",
      "  2p_3/2::  en [a.u.] = -1.5749038e-01;   self-cons'cy = 2.9697e-05  [2.9697e-05 for sym-block kappa = -2]\n",
      "\n",
      "Iteration 13 for symmetries ... \n",
      "  1s_1/2::  en [a.u.] = -9.8876097e+00;   self-cons'cy = 1.5789e-06  [3.1702e-04 for sym-block kappa = -1]\n",
      "  2s_1/2::  en [a.u.] = -4.5750891e-01;   self-cons'cy = 1.4126e-05  [3.1702e-04 for sym-block kappa = -1]\n",
      "  2p_1/2::  en [a.u.] = -1.5780778e-01;   self-cons'cy = 1.8122e-05  [1.8122e-05 for sym-block kappa = 1]\n",
      "  2p_3/2::  en [a.u.] = -1.5749061e-01;   self-cons'cy = 7.1925e-07  [1.7499e-06 for sym-block kappa = -2]\n",
      "\n",
      "Iteration 14 for symmetries ... \n",
      "  1s_1/2::  en [a.u.] = -9.8875978e+00;   self-cons'cy = 6.0315e-07  [6.3061e-05 for sym-block kappa = -1]\n",
      "  2s_1/2::  en [a.u.] = -4.5750457e-01;   self-cons'cy = 4.7376e-06  [6.3061e-05 for sym-block kappa = -1]\n",
      "  2p_1/2::  en [a.u.] = -1.5780786e-01;   self-cons'cy = 2.5193e-07  [5.9234e-07 for sym-block kappa = 1]\n",
      "  2p_3/2::  en [a.u.] = -1.5749171e-01;   self-cons'cy = 3.4877e-06  [3.4877e-06 for sym-block kappa = -2]\n",
      "\n",
      "Iteration 15 for symmetries ... \n",
      "  1s_1/2::  en [a.u.] = -9.8875997e+00;   self-cons'cy = 9.4896e-08  [9.7161e-06 for sym-block kappa = -1]\n",
      "  2s_1/2::  en [a.u.] = -4.5750505e-01;   self-cons'cy = 5.2246e-07  [9.7161e-06 for sym-block kappa = -1]\n",
      "  2p_1/2::  en [a.u.] = -1.5780708e-01;   self-cons'cy = 2.4697e-06  [2.4697e-06 for sym-block kappa = 1]\n",
      "  2p_3/2::  en [a.u.] = -1.5749113e-01;   self-cons'cy = 1.8242e-06  [1.8242e-06 for sym-block kappa = -2]\n",
      "\n",
      "Iteration 16 for symmetries ... \n",
      "  1s_1/2::  en [a.u.] = -9.8876003e+00;   self-cons'cy = 3.0984e-08  [1.2983e-05 for sym-block kappa = -1]\n",
      "  2s_1/2::  en [a.u.] = -4.5750537e-01;   self-cons'cy = 3.5399e-07  [1.2983e-05 for sym-block kappa = -1]\n",
      "  2p_1/2::  en [a.u.] = -1.5780746e-01;   self-cons'cy = 1.1928e-06  [1.1928e-06 for sym-block kappa = 1]\n",
      "  2p_3/2::  en [a.u.] = -1.5749127e-01;   self-cons'cy = 4.5389e-07  [4.5389e-07 for sym-block kappa = -2]\n",
      "\n",
      "Iteration 17 for symmetries ... \n",
      "  1s_1/2::  en [a.u.] = -9.8875997e+00;   self-cons'cy = 2.7663e-08  [5.1864e-06 for sym-block kappa = -1]\n",
      "  2s_1/2::  en [a.u.] = -4.5750515e-01;   self-cons'cy = 2.4332e-07  [5.1864e-06 for sym-block kappa = -1]\n",
      "  2p_1/2::  en [a.u.] = -1.5780737e-01;   self-cons'cy = 2.7225e-07  [2.7225e-07 for sym-block kappa = 1]\n",
      "  2p_3/2::  en [a.u.] = -1.5749128e-01;   self-cons'cy = 1.0842e-08  [1.1230e-07 for sym-block kappa = -2]\n",
      "\n",
      "Iteration 18 for symmetries ... \n",
      "  1s_1/2::  en [a.u.] = -9.8875999e+00;   self-cons'cy = 9.7164e-09  [8.8414e-07 for sym-block kappa = -1]\n",
      "  2s_1/2::  en [a.u.] = -4.5750522e-01;   self-cons'cy = 7.4901e-08  [8.8414e-07 for sym-block kappa = -1]\n",
      "  2p_1/2::  en [a.u.] = -1.5780737e-01;   self-cons'cy = 1.9306e-08  [3.1822e-07 for sym-block kappa = 1]\n",
      "  2p_3/2::  en [a.u.] = -1.5749126e-01;   self-cons'cy = 6.4143e-08  [3.9975e-07 for sym-block kappa = -2]\n",
      "Compute CI matrix of dimension 2 x 2 for the symmetry 2^+ ...   ... done.\n",
      "Compute CI matrix of dimension 1 x 1 for the symmetry 1^+ ...   ... done.\n",
      "Compute CI matrix of dimension 2 x 2 for the symmetry 0^+ ...   ... done.\n",
      "\n",
      "  Eigenenergies:\n",
      "\n",
      "  Level  J Parity          Hartrees                    eV                   [eV]\n",
      "\n",
      "     1    0 +     -3.769232144303131e+01    -1.025660308776248e+03    -1.025660308776248e+03 \n",
      "     2    1 +     -3.769222592288596e+01    -1.025657709540701e+03    -1.025657709540701e+03 \n",
      "     3    2 +     -3.769203580011789e+01    -1.025652536036667e+03    -1.025652536036667e+03 \n",
      "     4    2 +     -3.763845414445690e+01    -1.024194504920885e+03    -1.024194504920885e+03 \n",
      "     5    0 +     -3.755793955053397e+01    -1.022003591225405e+03    -1.022003591225405e+03 \n",
      "\n",
      "  Energy of each level relative to immediately lower level:\n",
      "\n",
      "  Level  J Parity          Hartrees                    eV                   [eV]\n",
      "\n",
      "     2    1 +     9.552014535074704e-05    2.599235547825686e-03    2.599235547825686e-03 \n",
      "     3    2 +     1.901227680676243e-04    5.173504033079054e-03    5.173504033079054e-03 \n",
      "     4    2 +     5.358165566099160e-02    1.458031115781961e+00    1.458031115781961e+00 \n",
      "     5    0 +     8.051459392293481e-02    2.190913695480525e+00    2.190913695480525e+00 \n",
      "\n",
      "  Energy of each level relative to lowest level:\n",
      "\n",
      "  Level  J Parity          Hartrees                    eV                   [eV]\n",
      "\n",
      "     2    1 +     9.552014535074704e-05    2.599235547825686e-03    2.599235547825686e-03 \n",
      "     3    2 +     2.856429134183713e-04    7.772739580904740e-03    7.772739580904740e-03 \n",
      "     4    2 +     5.386729857440997e-02    1.465803855362865e+00    1.465803855362865e+00 \n",
      "     5    0 +     1.343818924973448e-01    3.656717550843390e+00    3.656717550843390e+00 \n"
     ]
    }
   ],
   "source": [
    "basis     = perform(\"computation: SCF\", [Configuration(\"1s^2 2s^2 2p^2\")], nucModel, grid, AsfSettings())\n",
    "multiplet = perform(\"computation: CI\",  basis, nucModel, grid, AsfSettings());"
   ]
  },
  {
   "cell_type": "markdown",
   "metadata": {},
   "source": [
    "\n",
    "From this multiplet, we just take the *lowest* level (the ground level) in order to calculate the density for the (electronic) potential. In JAC, we have different choices for generating such an **electronic** potential that just arise from the electronic density, and as seen from ? compute at the REPL:\n",
    "\n",
    "   •    (\"radial potential: core-Hartree\", grid::Radial.Grid, level::Level) \n",
    "       ... to compute a (radial) core-Hartree potential for the given level; \n",
    "           cf. Basics.computePotentialCoreHartree. A potential::RadialPotential \n",
    "           is returned. \n",
    "\n",
    "   •    (\"radial potential: Kohn-Sham\", grid::Radial.Grid, level::Level) \n",
    "       ... to compute a (radial) Kohn-Sham potential for the given level; \n",
    "           cf. Basics.computePotentialKohnSham. A potential::RadialPotential is \n",
    "           returned.\n",
    "\n",
    "   •    (\"radial potential: Dirac-Fock-Slater\", grid::Radial.Grid, level::Level) \n",
    "       ... to compute a (radial) Dirac-Fock-Slater potential for the given level; this \n",
    "           potential is rather simple but includes some undesired self-interaction and \n",
    "           exhibits a wrong asymptotic behaviour. Cf. Basics.computePotentialDFS. \n",
    "           A potential::RadialPotential is returned.\n"
   ]
  },
  {
   "cell_type": "code",
   "execution_count": 6,
   "metadata": {},
   "outputs": [
    {
     "name": "stdout",
     "output_type": "stream",
     "text": [
      "coreSubshells = Subshell[1s_1/2, 2s_1/2];    subshells = Subshell[1s_1/2, 2s_1/2, 2p_1/2, 2p_3/2]\n"
     ]
    },
    {
     "data": {
      "text/plain": [
       "DFS (radial) potential ... defined on 400 grid points ...\n",
       "Zr:    [0.0, -2.02384e-7, -1.04084e-6, -2.39061e-6, -4.02065e-6, -5.65232e-6, -7.00317e-6, -7.83873e-6, -8.3343e-6, -9.51992e-6  …  -1.79821e-5, -1.91662e-5, -1.98685e-5, -2.15492e-5, -2.42681e-5, -2.75562e-5, -3.08447e-5, -3.35646e-5, -3.52462e-5, -3.62435e-5]  ...  [-5.99985, -5.99985, -5.99986, -5.99987, -5.9999, -5.99993, -5.99995, -5.99997, -5.99997, -5.99998  …  -6.0, -6.0, -6.0, -6.0, -6.0, -6.0, -6.0, -6.0, -6.0, -6.0]\n",
       "Radial grid:  rnt = 2.0e-6,  h = 0.05,  hp = 0.0,  NoPoints = 390, orderL = 7,  orderS = 8,  nsL = 56,  nsS = 57,  mesh = MeshGL, ...  \n",
       "r:    [0.0, 2.13272e-8, 1.08316e-7]  ...  [842.031, 887.781, 916.071]\n",
       "wr:   [0.0, 5.42629e-8, 1.17215e-7]  ...  [52.0386, 38.1203, 17.6472]\n",
       "t:    [0.0, 0.0, 0.0]  ...  [39.5528, 56.1281, 79.6496]"
      ]
     },
     "execution_count": 6,
     "metadata": {},
     "output_type": "execute_result"
    }
   ],
   "source": [
    "level  = multiplet.levels[1]\n",
    "potCH  = compute(\"radial potential: core-Hartree\", grid, level)\n",
    "potDFS = compute(\"radial potential: Dirac-Fock-Slater\", grid, level)"
   ]
  },
  {
   "cell_type": "markdown",
   "metadata": {},
   "source": [
    "\n",
    "All these potentials are represented as *effective charge* $Z(r)$ and can be added to the nuclear potential, for example:"
   ]
  },
  {
   "cell_type": "code",
   "execution_count": 7,
   "metadata": {
    "scrolled": true
   },
   "outputs": [
    {
     "data": {
      "text/plain": [
       "nuclear-potential: Fermi-distributed+DFS (radial) potential ... defined on 400 grid points ...\n",
       "Zr:    [0.0, 0.00368372, 0.0187087, 0.0430061, 0.0723805, 0.101753, 0.126045, 0.141065, 0.149972, 0.171283  …  0.32344, 0.344717, 0.357334, 0.387512, 0.436288, 0.495206, 0.554061, 0.602687, 0.632729, 0.650537]  ...  [0.000154648, 0.000148665, 0.000143929, 0.000130192, 0.000104555, 7.42171e-5, 4.90205e-5, 3.30865e-5, 2.53332e-5, 2.14125e-5  …  -3.55271e-15, -3.55271e-15, -3.55271e-15, 1.77636e-15, 8.88178e-16, 2.66454e-15, -3.55271e-15, -1.77636e-15, 0.0, 0.0]\n",
       "Radial grid:  rnt = 2.0e-6,  h = 0.05,  hp = 0.0,  NoPoints = 390, orderL = 7,  orderS = 8,  nsL = 56,  nsS = 57,  mesh = MeshGL, ...  \n",
       "r:    [0.0, 2.13272e-8, 1.08316e-7]  ...  [842.031, 887.781, 916.071]\n",
       "wr:   [0.0, 5.42629e-8, 1.17215e-7]  ...  [52.0386, 38.1203, 17.6472]\n",
       "t:    [0.0, 0.0, 0.0]  ...  [39.5528, 56.1281, 79.6496]"
      ]
     },
     "execution_count": 7,
     "metadata": {},
     "output_type": "execute_result"
    }
   ],
   "source": [
    "add(nucPotential, potDFS)"
   ]
  },
  {
   "cell_type": "markdown",
   "metadata": {},
   "source": [
    "\n",
    "As seen from this output, the effective charge of the overall atomic potential goes to *zero* as required for a neutral atom. We can display these potentials also graphically by using `JAC.plot()`"
   ]
  },
  {
   "cell_type": "markdown",
   "metadata": {},
   "source": [
    "# **The following part of this nootebook is still under construction.**"
   ]
  },
  {
   "cell_type": "code",
   "execution_count": null,
   "metadata": {},
   "outputs": [],
   "source": []
  }
 ],
 "metadata": {
  "@webio": {
   "lastCommId": null,
   "lastKernelId": null
  },
  "kernelspec": {
   "display_name": "Julia 1.0.3",
   "language": "julia",
   "name": "julia-1.0"
  },
  "language_info": {
   "file_extension": ".jl",
   "mimetype": "application/julia",
   "name": "julia",
   "version": "1.0.3"
  }
 },
 "nbformat": 4,
 "nbformat_minor": 4
}
