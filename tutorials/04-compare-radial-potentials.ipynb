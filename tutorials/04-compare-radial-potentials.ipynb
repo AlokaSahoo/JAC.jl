{
 "cells": [
  {
   "cell_type": "markdown",
   "metadata": {},
   "source": [
    "# Compute and compare different radial potentials"
   ]
  },
  {
   "cell_type": "code",
   "execution_count": 1,
   "metadata": {},
   "outputs": [
    {
     "data": {
      "text/html": [
       "    <script class='js-collapse-script'>\n",
       "        var curMatch =\n",
       "            window.location.href\n",
       "            .match(/(.*?)\\/notebooks\\/.*\\.ipynb/);\n",
       "\n",
       "        curMatch = curMatch ||\n",
       "            window.location.href\n",
       "            .match(/(.*?)\\/apps\\/.*\\.ipynb/);\n",
       "\n",
       "        if ( curMatch ) {\n",
       "            $('head').append('<base href=\"' + curMatch[1] + '/\">');\n",
       "        }\n",
       "    </script>\n"
      ],
      "text/plain": [
       "HTML{String}(\"    <script class='js-collapse-script'>\\n        var curMatch =\\n            window.location.href\\n            .match(/(.*?)\\\\/notebooks\\\\/.*\\\\.ipynb/);\\n\\n        curMatch = curMatch ||\\n            window.location.href\\n            .match(/(.*?)\\\\/apps\\\\/.*\\\\.ipynb/);\\n\\n        if ( curMatch ) {\\n            \\$('head').append('<base href=\\\"' + curMatch[1] + '/\\\">');\\n        }\\n    </script>\\n\")"
      ]
     },
     "metadata": {},
     "output_type": "display_data"
    },
    {
     "data": {
      "text/html": [
       "<script class='js-collapse-script' src='/assetserver/b5211b19a5aa56f2c76a4f66df0ec7b35773f4c6-assets/webio/dist/bundle.js'></script>"
      ],
      "text/plain": [
       "HTML{String}(\"<script class='js-collapse-script' src='/assetserver/b5211b19a5aa56f2c76a4f66df0ec7b35773f4c6-assets/webio/dist/bundle.js'></script>\")"
      ]
     },
     "metadata": {},
     "output_type": "display_data"
    },
    {
     "data": {
      "text/html": [
       "<script class='js-collapse-script' src='/assetserver/b5211b19a5aa56f2c76a4f66df0ec7b35773f4c6-assets/providers/ijulia_setup.js'></script>"
      ],
      "text/plain": [
       "HTML{String}(\"<script class='js-collapse-script' src='/assetserver/b5211b19a5aa56f2c76a4f66df0ec7b35773f4c6-assets/providers/ijulia_setup.js'></script>\")"
      ]
     },
     "metadata": {},
     "output_type": "display_data"
    },
    {
     "data": {
      "text/html": [
       "  <script class='js-collapse-script'>\n",
       "    $('.js-collapse-script').parent('.output_subarea').css('padding', '0');\n",
       "  </script>\n"
      ],
      "text/plain": [
       "HTML{String}(\"  <script class='js-collapse-script'>\\n    \\$('.js-collapse-script').parent('.output_subarea').css('padding', '0');\\n  </script>\\n\")"
      ]
     },
     "metadata": {},
     "output_type": "display_data"
    }
   ],
   "source": [
    "using JAC"
   ]
  },
  {
   "cell_type": "markdown",
   "metadata": {},
   "source": [
    "\n",
    "We shall here describe how different atomic (radial) potentials can be calculated and applied within the JAC toolbox.\n",
    "\n",
    "Any (radial) potential is handled in JAC by the data struct that (may) contain a name the radial function and the radial grid on which the potential has been defined. The potential function V typically contains the effective charge Z(r) as seen by an electron, so that the full radial potential is given by -Z(r) / r. This convention has been frequently applied in atomic physics and has been adopted in JAC.\n"
   ]
  },
  {
   "cell_type": "code",
   "execution_count": 2,
   "metadata": {},
   "outputs": [
    {
     "data": {
      "text/markdown": [
       "`struct  Radial.Potential`  ... defines a struct for the radial potential which contains all information about its physical content.\n",
       "\n",
       "```\n",
       "+ name           ::String            ... A name for the potential.\n",
       "+ V              ::Array{Float64,1}  ... radial potential function.\n",
       "+ grid           ::RadialGrid        ... radial grid on which the potential is defined.\n",
       "```\n",
       "\n",
       "---\n",
       "\n",
       "`JAC.Radial.Potential()`  ... constructor to define an 'empty' instance of the radial potential.\n"
      ],
      "text/plain": [
       "  \u001b[36mstruct  Radial.Potential\u001b[39m ... defines a struct for the radial potential which\n",
       "  contains all information about its physical content.\n",
       "\n",
       "\u001b[36m  + name           ::String            ... A name for the potential.\u001b[39m\n",
       "\u001b[36m  + V              ::Array{Float64,1}  ... radial potential function.\u001b[39m\n",
       "\u001b[36m  + grid           ::RadialGrid        ... radial grid on which the potential is defined.\u001b[39m\n",
       "\n",
       "  ────────────────────────────────────────────────────────────────────────────\n",
       "\n",
       "  \u001b[36mJAC.Radial.Potential()\u001b[39m ... constructor to define an 'empty' instance of the\n",
       "  radial potential."
      ]
     },
     "execution_count": 2,
     "metadata": {},
     "output_type": "execute_result"
    }
   ],
   "source": [
    "? Radial.Potential"
   ]
  },
  {
   "cell_type": "markdown",
   "metadata": {},
   "source": [
    "\n",
    "Perhaps, the simplest choice is the **nuclear** potential which, of course, depends on the nuclear model.\n",
    "We consider a ^12C carbon atom with a Fermi-distributed nuclear charge and a standard radial grid.\n"
   ]
  },
  {
   "cell_type": "code",
   "execution_count": 3,
   "metadata": {},
   "outputs": [
    {
     "name": "stdout",
     "output_type": "stream",
     "text": [
      "Define a radial grid of type MeshGL with 400 grid points\n",
      " [rnt=2.000e-06, h=5.000e-02, hp=0.000e+00, NoPoints=390, r_max=9.161e+02;\n",
      "  B-splines wit break points at every 7th point, nsL=56, nsS=57, orderL=7, orderS=8, orderGL=7] \n"
     ]
    },
    {
     "data": {
      "text/plain": [
       "Fermi nuclear model for Z = 12.0 with mass = 24.72, radius R = 3.0053184906569026 fm and nuclear spin I = 0, dipole moment mu = 0.0 and quadrupole moment Q = 0.0."
      ]
     },
     "execution_count": 3,
     "metadata": {},
     "output_type": "execute_result"
    }
   ],
   "source": [
    "grid     = JAC.Radial.Grid(\"grid: exponential\")\n",
    "nucModel = Nuclear.Model(6., \"Fermi\")"
   ]
  },
  {
   "cell_type": "markdown",
   "metadata": {},
   "source": [
    "\n",
    "Then, the nuclear potential is generated by simply calling:\n"
   ]
  },
  {
   "cell_type": "code",
   "execution_count": 4,
   "metadata": {},
   "outputs": [
    {
     "data": {
      "text/plain": [
       "nuclear-potential: Fermi-distributed (radial) potential ... defined on 400 grid points ...\n",
       "V:    [0.0, 0.00578622, 0.0293868, 0.0675525, 0.113694, 0.159833, 0.197995, 0.221591, 0.235586, 0.269068  …  0.508202, 0.541656, 0.561496, 0.608957, 0.685688, 0.778412, 0.871083, 0.94769, 0.995039, 1.02311]  ...  [12.0, 12.0, 12.0, 12.0, 12.0, 12.0, 12.0, 12.0, 12.0, 12.0  …  12.0, 12.0, 12.0, 12.0, 12.0, 12.0, 12.0, 12.0, 12.0, 12.0]\n",
       "Radial grid:  rnt = 2.0e-6,  h = 0.05,  hp = 0.0,  NoPoints = 390, orderL = 7,  orderS = 8,  nsL = 56,  nsS = 57,  mesh = MeshGL, ...  \n",
       "r:    [0.0, 2.13272e-8, 1.08316e-7]  ...  [842.031, 887.781, 916.071]\n",
       "wr:   [0.0, 5.42629e-8, 1.17215e-7]  ...  [52.0386, 38.1203, 17.6472]\n",
       "t:    [0.0, 0.0, 0.0]  ...  [39.5528, 56.1281, 79.6496]"
      ]
     },
     "execution_count": 4,
     "metadata": {},
     "output_type": "execute_result"
    }
   ],
   "source": [
    "nucPotential = JAC.Nuclear.nuclearPotential(nucModel, grid)"
   ]
  },
  {
   "cell_type": "markdown",
   "metadata": {},
   "source": [
    "\n",
    "As seen from the output, the effective charge Z(r) vanishes near to the origin but quickly increases to the full charge Z = 6. at larger r-values, i.e. outside of the nucleus\n",
    "\n",
    "To calculate **atomic** potentials, we also need to know the electron density around the nuclues. Most often, this density refers to a particular atomic level. Therefore, we first need to compute some of the low-lying levels of, for instance, neutral carbon. We shall here just compute the levels of the 1s^2 2s^2 2p^2 ground-state configuration. We use the *simplest* approximation for these computation but will explain in some later tutorials how we could control and refine such simple structure calculations, if needed.\n"
   ]
  },
  {
   "cell_type": "code",
   "execution_count": 5,
   "metadata": {},
   "outputs": [
    {
     "name": "stdout",
     "output_type": "stream",
     "text": [
      "\n",
      "... in perform('computation: SCF', ...\n",
      "perform-aa: Configuration: 1s_1/2^2 2s_1/2^2 2p_3/2^2 \n",
      "perform-aa: Configuration: 1s_1/2^2 2s_1/2^2 2p_1/2^1 2p_3/2^1 \n",
      "perform-aa: Configuration: 1s_1/2^2 2s_1/2^2 2p_1/2^2 \n",
      "(Re-) Define a new standard subshell list.\n",
      "(Re-) Define a storage array for various B-spline matrices:\n",
      "Nuclear model = Fermi nuclear model for Z = 12.0 with mass = 24.72, radius R = 3.0053184906569026 fm and nuclear spin I = 0, dipole moment mu = 0.0 and quadrupole moment Q = 0.0. \n",
      "Generate hydrogenic orbital for subshell 1s_1/2 \n",
      "  -----------------------------------------------------------------------------\n",
      "   Index    Subshell     Energies [a.u.]    Dirac-E  [a.u.]     Delta-E / |E|    \n",
      "  -----------------------------------------------------------------------------\n",
      "      1      1s_1/2      -7.21385124e+01    -7.21385593e+01    +6.50023285e-07    \n",
      "      2      2s_1/2      -1.80433085e+01    -1.80433081e+01    -2.12646900e-08    \n",
      "      3      3s_1/2      -8.01545204e+00    -8.01539255e+00    -7.42210411e-06    \n",
      "      4      4s_1/2      -4.50806408e+00    -4.50703270e+00    -2.28785554e-04    \n",
      "      5      5s_1/2      -2.89185606e+00    -2.88376608e+00    -2.79750302e-03    \n",
      "      6      6s_1/2      -2.17158003e+00    -2.00224317e+00    -7.79786380e-02    \n",
      "      7      7s_1/2      -1.91928894e+00    -1.47082901e+00    -2.33659414e-01    \n",
      "      8      8s_1/2      -1.40819581e+00    -1.12597992e+00    -2.00409552e-01    \n",
      "      :       :    \n",
      "     51     51s_1/2      +8.44606993e+07    -2.76857703e-02    +1.00000000e+00    \n",
      "     52     52s_1/2      +1.28191418e+08    -2.66310969e-02    +1.00000000e+00    \n",
      "     53     53s_1/2      +2.02505786e+08    -2.56355610e-02    +1.00000000e+00    \n",
      "     54     54s_1/2      +3.44925484e+08    -2.46948227e-02    +1.00000000e+00    \n",
      "     55     55s_1/2      +6.89770181e+08    -2.38049328e-02    +1.00000000e+00    \n",
      "     56     56s_1/2      +2.35253714e+09    -2.29622918e-02    +1.00000000e+00    \n",
      "  -----------------------------------------------------------------------------\n",
      "Use hydrogenic orbital from this symmetriy block also for 1s_1/2.\n",
      "Use hydrogenic orbital from this symmetriy block also for 2s_1/2.\n",
      "Generate hydrogenic orbital for subshell 2p_1/2 \n",
      "  -----------------------------------------------------------------------------\n",
      "   Index    Subshell     Energies [a.u.]    Dirac-E  [a.u.]     Delta-E / |E|    \n",
      "  -----------------------------------------------------------------------------\n",
      "      1      2p_1/2      -1.80433096e+01    -1.80433081e+01    -8.56614133e-08    \n",
      "      2      3p_1/2      -8.01541613e+00    -8.01539255e+00    -2.94216089e-06    \n",
      "      3      4p_1/2      -4.50739307e+00    -4.50703270e+00    -7.99514665e-05    \n",
      "      4      5p_1/2      -2.88568881e+00    -2.88376608e+00    -6.66296539e-04    \n",
      "      5      6p_1/2      -2.01526211e+00    -2.00224317e+00    -6.46016896e-03    \n",
      "      6      7p_1/2      -1.60824519e+00    -1.47082901e+00    -8.54447926e-02    \n",
      "      7      8p_1/2      -1.35695055e+00    -1.12597992e+00    -1.70213010e-01    \n",
      "      8      9p_1/2      -1.01216531e+00    -8.89584969e-01    -1.21107039e-01    \n",
      "      :       :    \n",
      "     50     51p_1/2      +7.02548080e+07    -2.76857703e-02    +1.00000000e+00    \n",
      "     51     52p_1/2      +1.05405013e+08    -2.66310969e-02    +1.00000000e+00    \n",
      "     52     53p_1/2      +1.63114883e+08    -2.56355610e-02    +1.00000000e+00    \n",
      "     53     54p_1/2      +2.66946921e+08    -2.46948227e-02    +1.00000000e+00    \n",
      "     54     55p_1/2      +4.87965157e+08    -2.38049328e-02    +1.00000000e+00    \n",
      "     55     56p_1/2      +1.16219399e+09    -2.29622918e-02    +1.00000000e+00    \n",
      "  -----------------------------------------------------------------------------\n",
      "Use hydrogenic orbital from this symmetriy block also for 2p_1/2.\n",
      "Generate hydrogenic orbital for subshell 2p_3/2 \n",
      "  -----------------------------------------------------------------------------\n",
      "   Index    Subshell     Energies [a.u.]    Dirac-E  [a.u.]     Delta-E / |E|    \n",
      "  -----------------------------------------------------------------------------\n",
      "      1      2p_3/2      -1.80086375e+01    -1.80086350e+01    -1.37294515e-07    \n",
      "      2      3p_3/2      -8.00514698e+00    -8.00511740e+00    -3.69475119e-06    \n",
      "      3      4p_3/2      -4.50365756e+00    -4.50269857e+00    -2.12936223e-04    \n",
      "      4      5p_3/2      -2.89893012e+00    -2.88154739e+00    -5.99625770e-03    \n",
      "      5      6p_3/2      -2.48274151e+00    -2.00095940e+00    -1.94052465e-01    \n",
      "      6      7p_3/2      -1.95975610e+00    -1.47002067e+00    -2.49896114e-01    \n",
      "      7      8p_3/2      -1.41302845e+00    -1.12543844e+00    -2.03527404e-01    \n",
      "      8      9p_3/2      -1.02845142e+00    -8.89204706e-01    -1.35394544e-01    \n",
      "      :       :    \n",
      "     51     52p_3/2      +1.00131085e+08    -2.66291266e-02    +1.00000000e+00    \n",
      "     52     53p_3/2      +1.53802522e+08    -2.56337002e-02    +1.00000000e+00    \n",
      "     53     54p_3/2      +2.48270760e+08    -2.46930634e-02    +1.00000000e+00    \n",
      "     54     55p_3/2      +4.40904321e+08    -2.38032678e-02    +1.00000000e+00    \n",
      "     55     56p_3/2      +9.65405369e+08    -2.29607143e-02    +1.00000000e+00    \n",
      "     56     57p_3/2      +3.73443743e+09    -2.21621170e-02    +1.00000000e+00    \n",
      "  -----------------------------------------------------------------------------\n",
      "Use hydrogenic orbital from this symmetriy block also for 2p_3/2.\n",
      "Re-define the standard grid with 390 grid points.\n",
      "(Re-) Define a storage array for various B-spline matrices:\n",
      "\n",
      "Iteration 1 for symmetries ... \n",
      "  1s_1/2::  en [a.u.] = -5.09424914e+01;   self-consistency = 1.722120e-01  [1.000000e+02 for symmetry block kappa = -1]\n",
      "  2s_1/2::  en [a.u.] = -7.77301613e+00;   self-consistency = 3.978216e-01  [1.000000e+02 for symmetry block kappa = -1]\n",
      "  2p_1/2::  en [a.u.] = -7.04153911e+00;   self-consistency = 4.385823e-01  [1.000000e+02 for symmetry block kappa = 1]\n",
      "  2p_3/2::  en [a.u.] = -7.15589693e+00;   self-consistency = 4.312713e-01  [1.000000e+02 for symmetry block kappa = -2]\n",
      "\n",
      "Iteration 2 for symmetries ... \n",
      "  1s_1/2::  en [a.u.] = -5.34614488e+01;   self-consistency = 2.412703e-02  [7.398309e-02 for symmetry block kappa = -1]\n",
      "  2s_1/2::  en [a.u.] = -8.47016890e+00;   self-consistency = 4.291971e-02  [7.398309e-02 for symmetry block kappa = -1]\n",
      "  2p_1/2::  en [a.u.] = -7.40013295e+00;   self-consistency = 2.483049e-02  [4.786092e-02 for symmetry block kappa = 1]\n",
      "  2p_3/2::  en [a.u.] = -7.36980870e+00;   self-consistency = 1.472643e-02  [1.934477e-02 for symmetry block kappa = -2]\n",
      "\n",
      "Iteration 3 for symmetries ... \n",
      "  1s_1/2::  en [a.u.] = -5.31628866e+01;   self-consistency = 2.800132e-03  [9.770254e-03 for symmetry block kappa = -1]\n",
      "  2s_1/2::  en [a.u.] = -8.37954032e+00;   self-consistency = 5.378644e-03  [9.770254e-03 for symmetry block kappa = -1]\n",
      "  2p_1/2::  en [a.u.] = -7.37390528e+00;   self-consistency = 1.775254e-03  [3.937286e-03 for symmetry block kappa = 1]\n",
      "  2p_3/2::  en [a.u.] = -7.35866059e+00;   self-consistency = 7.569085e-04  [1.233575e-03 for symmetry block kappa = -2]\n",
      "\n",
      "Iteration 4 for symmetries ... \n",
      "  1s_1/2::  en [a.u.] = -5.31925557e+01;   self-consistency = 2.789622e-04  [9.474972e-04 for symmetry block kappa = -1]\n",
      "  2s_1/2::  en [a.u.] = -8.38831982e+00;   self-consistency = 5.235911e-04  [9.474972e-04 for symmetry block kappa = -1]\n",
      "  2p_1/2::  en [a.u.] = -7.37488820e+00;   self-consistency = 6.664405e-05  [1.470963e-04 for symmetry block kappa = 1]\n",
      "  2p_3/2::  en [a.u.] = -7.35872393e+00;   self-consistency = 4.303323e-06  [4.303323e-06 for symmetry block kappa = -2]\n",
      "\n",
      "Iteration 5 for symmetries ... \n",
      "  1s_1/2::  en [a.u.] = -5.31899656e+01;   self-consistency = 2.434740e-05  [8.059955e-05 for symmetry block kappa = -1]\n",
      "  2s_1/2::  en [a.u.] = -8.38757539e+00;   self-consistency = 4.437456e-05  [8.059955e-05 for symmetry block kappa = -1]\n",
      "  2p_1/2::  en [a.u.] = -7.37491714e+00;   self-consistency = 1.961891e-06  [4.511007e-06 for symmetry block kappa = 1]\n",
      "  2p_3/2::  en [a.u.] = -7.35878556e+00;   self-consistency = 4.187769e-06  [7.104573e-06 for symmetry block kappa = -2]\n",
      "\n",
      "Iteration 6 for symmetries ... \n",
      "  1s_1/2::  en [a.u.] = -5.31901670e+01;   self-consistency = 1.893688e-06  [6.041015e-06 for symmetry block kappa = -1]\n",
      "  2s_1/2::  en [a.u.] = -8.38763113e+00;   self-consistency = 3.322567e-06  [6.041015e-06 for symmetry block kappa = -1]\n"
     ]
    },
    {
     "name": "stdout",
     "output_type": "stream",
     "text": [
      "  2p_1/2::  en [a.u.] = -7.37490611e+00;   self-consistency = 7.475644e-07  [1.678560e-06 for symmetry block kappa = 1]\n",
      "  2p_3/2::  en [a.u.] = -7.35877586e+00;   self-consistency = 6.593220e-07  [1.099936e-06 for symmetry block kappa = -2]\n",
      "\n",
      "Iteration 7 for symmetries ... \n",
      "  1s_1/2::  en [a.u.] = -5.31901532e+01;   self-consistency = 1.298894e-07  [3.935443e-07 for symmetry block kappa = -1]\n",
      "  2s_1/2::  en [a.u.] = -8.38762750e+00;   self-consistency = 2.161652e-07  [3.935443e-07 for symmetry block kappa = -1]\n",
      "  2p_1/2::  en [a.u.] = -7.37490760e+00;   self-consistency = 1.010294e-07  [2.261775e-07 for symmetry block kappa = 1]\n",
      "  2p_3/2::  en [a.u.] = -7.35877692e+00;   self-consistency = 7.259520e-08  [1.203242e-07 for symmetry block kappa = -2]\n",
      "Compute CI matrix of dimension 1 x 1 for the symmetry 1^+ ...   ... done.\n",
      "Compute CI matrix of dimension 2 x 2 for the symmetry 2^+ ...   ... done.\n",
      "Compute CI matrix of dimension 2 x 2 for the symmetry 0^+ ...   ... done.\n",
      "\n",
      "  Eigenenergies:\n",
      "\n",
      "  Level  J Parity          Hartrees                    eV                   [eV]\n",
      "\n",
      "     1    0 +     -1.803176584567200e+02    -4.906693410488324e+03    -4.906693410488324e+03 \n",
      "     2    1 +     -1.803122331909505e+02    -4.906545781487209e+03    -4.906545781487209e+03 \n",
      "     3    2 +     -1.803024802467317e+02    -4.906280390357242e+03    -4.906280390357242e+03 \n",
      "     4    2 +     -1.801187343307636e+02    -4.901280409308235e+03    -4.901280409308235e+03 \n",
      "     5    0 +     -1.798362699456556e+02    -4.893594161888158e+03    -4.893594161888158e+03 \n",
      "\n",
      "  Energy of each level relative to immediately lower level:\n",
      "\n",
      "  Level  J Parity          Hartrees                    eV                   [eV]\n",
      "\n",
      "     2    1 +     5.425265769503085e-03    1.476290011150408e-01    1.476290011150408e-01 \n",
      "     3    2 +     9.752944218718085e-03    2.653911299670651e-01    2.653911299670651e-01 \n",
      "     4    2 +     1.837459159681032e-01    4.999981049006538e+00    4.999981049006538e+00 \n",
      "     5    0 +     2.824643851080566e-01    7.686247420077267e+00    7.686247420077267e+00 \n",
      "\n",
      "  Energy of each level relative to lowest level:\n",
      "\n",
      "  Level  J Parity          Hartrees                    eV                   [eV]\n",
      "\n",
      "     2    1 +     5.425265769503085e-03    1.476290011150408e-01    1.476290011150408e-01 \n",
      "     3    2 +     1.517820998822117e-02    4.130201310821059e-01    4.130201310821059e-01 \n",
      "     4    2 +     1.989241259563244e-01    5.413001180088644e+00    5.413001180088644e+00 \n",
      "     5    0 +     4.813885110643810e-01    1.309924860016591e+01    1.309924860016591e+01 \n"
     ]
    }
   ],
   "source": [
    "basis     = perform(\"computation: SCF\", [Configuration(\"1s^2 2s^2 2p^2\")], nucModel, grid, AsfSettings())\n",
    "multiplet = perform(\"computation: CI\",  basis, nucModel, grid, AsfSettings());"
   ]
  },
  {
   "cell_type": "markdown",
   "metadata": {},
   "source": [
    "\n",
    "From this multiplet, we just take the *lowest* level (the ground level) in order to calculate the density for the (electronic) potential. We have moreover different choices to generate such an **electronic** potential as seen from ? compute at the REPL:\n",
    "\n",
    "    •    (\"radial potential: core-Hartree\", grid::Radial.Grid, level::Level) ... to compute a (radial) \n",
    "           core-Hartree potential from the given list of orbitals; cf. JAC.computePotentialCoreHartree. \n",
    "           A potential::RadialPotential is returned. \n",
    "\n",
    "    •    (\"radial potential: Kohn-Sham\", grid::Radial.Grid, level::Level) ... to compute a (radial) \n",
    "           Kohn-Sham potential from the given list of orbitals; cf. JAC.computePotentialKohnSham. \n",
    "           A potential::RadialPotential is returned.\n",
    "\n",
    "    •    (\"radial potential: Dirac-Fock-Slater\", grid::Radial.Grid, level::Level) ... to compute a (radial) \n",
    "          Dirac-Fock-Slater potential from the given list of orbitals; this potential is rather simple \n",
    "          but includes some undesired self-interaction and exhibits an asymptotic behaviour.         \n",
    "          Cf. JAC.computePotentialDFS. A potential::RadialPotential is returned.\n"
   ]
  },
  {
   "cell_type": "code",
   "execution_count": 6,
   "metadata": {},
   "outputs": [
    {
     "name": "stdout",
     "output_type": "stream",
     "text": [
      "coreSubshells = Subshell[1s_1/2, 2s_1/2];    subshells = Subshell[1s_1/2, 2s_1/2, 2p_1/2, 2p_3/2]\n"
     ]
    },
    {
     "data": {
      "text/plain": [
       "DFS (radial) potential ... defined on 400 grid points ...\n",
       "V:    [0.0, -4.70521e-7, -2.42189e-6, -5.56237e-6, -9.35469e-6, -1.3151e-5, -1.62941e-5, -1.82383e-5, -1.93915e-5, -2.21502e-5  …  -4.18389e-5, -4.45938e-5, -4.62279e-5, -5.01384e-5, -5.64643e-5, -6.41149e-5, -7.17665e-5, -7.80951e-5, -8.20079e-5, -8.43283e-5]  ...  [-5.99995, -5.99995, -5.99995, -5.99996, -5.99996, -5.99997, -5.99998, -5.99999, -5.99999, -5.99999  …  -6.0, -6.0, -6.0, -6.0, -6.0, -6.0, -6.0, -6.0, -6.0, -6.0]\n",
       "Radial grid:  rnt = 2.0e-6,  h = 0.05,  hp = 0.0,  NoPoints = 390, orderL = 7,  orderS = 8,  nsL = 56,  nsS = 57,  mesh = MeshGL, ...  \n",
       "r:    [0.0, 2.13272e-8, 1.08316e-7]  ...  [842.031, 887.781, 916.071]\n",
       "wr:   [0.0, 5.42629e-8, 1.17215e-7]  ...  [52.0386, 38.1203, 17.6472]\n",
       "t:    [0.0, 0.0, 0.0]  ...  [39.5528, 56.1281, 79.6496]"
      ]
     },
     "execution_count": 6,
     "metadata": {},
     "output_type": "execute_result"
    }
   ],
   "source": [
    "level  = multiplet.levels[1]\n",
    "potCH  = compute(\"radial potential: core-Hartree\", grid, level)\n",
    "potDFS = compute(\"radial potential: Dirac-Fock-Slater\", grid, level)"
   ]
  },
  {
   "cell_type": "markdown",
   "metadata": {},
   "source": [
    "\n",
    "All these potentials are represented as *effective charge* Z(r) and can be added to the nuclear potential, for example:"
   ]
  },
  {
   "cell_type": "code",
   "execution_count": 7,
   "metadata": {},
   "outputs": [
    {
     "data": {
      "text/plain": [
       "nuclear-potential: Fermi-distributed+nuclear-potential: Fermi-distributed (radial) potential ... defined on 400 grid points ...\n",
       "V:    [0.0, 0.00578575, 0.0293844, 0.067547, 0.113685, 0.15982, 0.197978, 0.221573, 0.235566, 0.269046  …  0.50816, 0.541612, 0.561449, 0.608907, 0.685631, 0.778348, 0.871012, 0.947612, 0.994957, 1.02303]  ...  [6.00005, 6.00005, 6.00005, 6.00004, 6.00004, 6.00003, 6.00002, 6.00001, 6.00001, 6.00001  …  6.0, 6.0, 6.0, 6.0, 6.0, 6.0, 6.0, 6.0, 6.0, 6.0]\n",
       "Radial grid:  rnt = 2.0e-6,  h = 0.05,  hp = 0.0,  NoPoints = 390, orderL = 7,  orderS = 8,  nsL = 56,  nsS = 57,  mesh = MeshGL, ...  \n",
       "r:    [0.0, 2.13272e-8, 1.08316e-7]  ...  [842.031, 887.781, 916.071]\n",
       "wr:   [0.0, 5.42629e-8, 1.17215e-7]  ...  [52.0386, 38.1203, 17.6472]\n",
       "t:    [0.0, 0.0, 0.0]  ...  [39.5528, 56.1281, 79.6496]"
      ]
     },
     "execution_count": 7,
     "metadata": {},
     "output_type": "execute_result"
    }
   ],
   "source": [
    "JAC.add(nucPotential, potDFS)"
   ]
  },
  {
   "cell_type": "markdown",
   "metadata": {},
   "source": [
    "\n",
    "What can be seen ... and how to display these potentials also graphically; use JAC.plot()"
   ]
  },
  {
   "cell_type": "code",
   "execution_count": null,
   "metadata": {},
   "outputs": [],
   "source": []
  },
  {
   "cell_type": "code",
   "execution_count": null,
   "metadata": {},
   "outputs": [],
   "source": []
  }
 ],
 "metadata": {
  "@webio": {
   "lastCommId": "5193e9a1fbe1407d8f0e316219b6610e",
   "lastKernelId": "3e2c0beb-1e87-4627-bda7-c3b1489d7625"
  },
  "kernelspec": {
   "display_name": "Julia 1.0.3",
   "language": "julia",
   "name": "julia-1.0"
  },
  "language_info": {
   "file_extension": ".jl",
   "mimetype": "application/julia",
   "name": "julia",
   "version": "1.0.3"
  }
 },
 "nbformat": 4,
 "nbformat_minor": 2
}
