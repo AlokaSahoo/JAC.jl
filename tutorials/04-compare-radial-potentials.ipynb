{
 "cells": [
  {
   "cell_type": "markdown",
   "metadata": {},
   "source": [
    "# Compute and compare different radial potentials"
   ]
  },
  {
   "cell_type": "code",
   "execution_count": 1,
   "metadata": {},
   "outputs": [
    {
     "data": {
      "text/html": [
       "    <script class='js-collapse-script'>\n",
       "        var curMatch =\n",
       "            window.location.href\n",
       "            .match(/(.*?)\\/notebooks\\/.*\\.ipynb/);\n",
       "\n",
       "        curMatch = curMatch ||\n",
       "            window.location.href\n",
       "            .match(/(.*?)\\/apps\\/.*\\.ipynb/);\n",
       "\n",
       "        if ( curMatch ) {\n",
       "            $('head').append('<base href=\"' + curMatch[1] + '/\">');\n",
       "        }\n",
       "    </script>\n"
      ],
      "text/plain": [
       "HTML{String}(\"    <script class='js-collapse-script'>\\n        var curMatch =\\n            window.location.href\\n            .match(/(.*?)\\\\/notebooks\\\\/.*\\\\.ipynb/);\\n\\n        curMatch = curMatch ||\\n            window.location.href\\n            .match(/(.*?)\\\\/apps\\\\/.*\\\\.ipynb/);\\n\\n        if ( curMatch ) {\\n            \\$('head').append('<base href=\\\"' + curMatch[1] + '/\\\">');\\n        }\\n    </script>\\n\")"
      ]
     },
     "metadata": {},
     "output_type": "display_data"
    },
    {
     "data": {
      "text/html": [
       "<script class='js-collapse-script' src='/assetserver/b5211b19a5aa56f2c76a4f66df0ec7b35773f4c6-assets/webio/dist/bundle.js'></script>"
      ],
      "text/plain": [
       "HTML{String}(\"<script class='js-collapse-script' src='/assetserver/b5211b19a5aa56f2c76a4f66df0ec7b35773f4c6-assets/webio/dist/bundle.js'></script>\")"
      ]
     },
     "metadata": {},
     "output_type": "display_data"
    },
    {
     "data": {
      "text/html": [
       "<script class='js-collapse-script' src='/assetserver/b5211b19a5aa56f2c76a4f66df0ec7b35773f4c6-assets/providers/ijulia_setup.js'></script>"
      ],
      "text/plain": [
       "HTML{String}(\"<script class='js-collapse-script' src='/assetserver/b5211b19a5aa56f2c76a4f66df0ec7b35773f4c6-assets/providers/ijulia_setup.js'></script>\")"
      ]
     },
     "metadata": {},
     "output_type": "display_data"
    },
    {
     "data": {
      "text/html": [
       "  <script class='js-collapse-script'>\n",
       "    $('.js-collapse-script').parent('.output_subarea').css('padding', '0');\n",
       "  </script>\n"
      ],
      "text/plain": [
       "HTML{String}(\"  <script class='js-collapse-script'>\\n    \\$('.js-collapse-script').parent('.output_subarea').css('padding', '0');\\n  </script>\\n\")"
      ]
     },
     "metadata": {},
     "output_type": "display_data"
    }
   ],
   "source": [
    "using JAC"
   ]
  },
  {
   "cell_type": "markdown",
   "metadata": {},
   "source": [
    "\n",
    "We shall here describe how different atomic (radial) potentials can be calculated and applied within the JAC toolbox.\n",
    "\n",
    "Any (radial) potential is handled in JAC by the data struct `Radial.Potential` that (may) contain a name the radial function and the radial grid on which the potential has been defined. The potential function `Zr` typically contains the effective charge $Z(r)$ as seen by an electron, so that the full radial potential is given by $V = -\\:Z(r) / r$. This convention has been frequently applied in atomic physics and has been adopted in JAC.\n"
   ]
  },
  {
   "cell_type": "code",
   "execution_count": 2,
   "metadata": {},
   "outputs": [
    {
     "data": {
      "text/latex": [
       "\\texttt{struct  Radial.Potential}  ... defines a struct for the radial potential which contains all information about its physical content.\n",
       "\n",
       "\\begin{verbatim}\n",
       "+ name           ::String            ... A name for the potential.\n",
       "+ Zr             ::Array{Float64,1}  ... radial potential function Z(r) = - r * V(r) as usual in atomic structure theory.\n",
       "+ grid           ::RadialGrid        ... radial grid on which the potential is defined.\n",
       "\\end{verbatim}\n",
       "\\rule{\\textwidth}{1pt}\n",
       "\\texttt{JAC.Radial.Potential()}  ... constructor to define an 'empty' instance of the radial potential.\n",
       "\n"
      ],
      "text/markdown": [
       "`struct  Radial.Potential`  ... defines a struct for the radial potential which contains all information about its physical content.\n",
       "\n",
       "```\n",
       "+ name           ::String            ... A name for the potential.\n",
       "+ Zr             ::Array{Float64,1}  ... radial potential function Z(r) = - r * V(r) as usual in atomic structure theory.\n",
       "+ grid           ::RadialGrid        ... radial grid on which the potential is defined.\n",
       "```\n",
       "\n",
       "---\n",
       "\n",
       "`JAC.Radial.Potential()`  ... constructor to define an 'empty' instance of the radial potential.\n"
      ],
      "text/plain": [
       "  \u001b[36mstruct  Radial.Potential\u001b[39m ... defines a struct for the radial potential which\n",
       "  contains all information about its physical content.\n",
       "\n",
       "\u001b[36m  + name           ::String            ... A name for the potential.\u001b[39m\n",
       "\u001b[36m  + Zr             ::Array{Float64,1}  ... radial potential function Z(r) = - r * V(r) as usual in atomic structure theory.\u001b[39m\n",
       "\u001b[36m  + grid           ::RadialGrid        ... radial grid on which the potential is defined.\u001b[39m\n",
       "\n",
       "  ────────────────────────────────────────────────────────────────────────────\n",
       "\n",
       "  \u001b[36mJAC.Radial.Potential()\u001b[39m ... constructor to define an 'empty' instance of the\n",
       "  radial potential."
      ]
     },
     "execution_count": 2,
     "metadata": {},
     "output_type": "execute_result"
    }
   ],
   "source": [
    "? Radial.Potential"
   ]
  },
  {
   "cell_type": "markdown",
   "metadata": {},
   "source": [
    "\n",
    "Perhaps, the simplest choice is the **nuclear** potential which, of course, depends on the nuclear model.\n",
    "We consider a $^{12}$C carbon atom with a Fermi-distributed nuclear charge and a standard radial grid.\n"
   ]
  },
  {
   "cell_type": "code",
   "execution_count": 3,
   "metadata": {},
   "outputs": [
    {
     "name": "stdout",
     "output_type": "stream",
     "text": [
      "Define a radial grid of type MeshGL with 400 grid points\n",
      " [rnt=2.000e-06, h=5.000e-02, hp=0.000e+00, NoPoints=390, r_max=9.161e+02;\n",
      "  B-splines wit break points at every 7th point, nsL=56, nsS=57, orderL=7, orderS=8, orderGL=7] \n"
     ]
    },
    {
     "data": {
      "text/plain": [
       "Fermi nuclear model for Z = 7.0 with mass = 14.245, radius R = 2.59656449033488 fm and nuclear spin I = 0, dipole moment mu = 0.0 and quadrupole moment Q = 0.0."
      ]
     },
     "execution_count": 3,
     "metadata": {},
     "output_type": "execute_result"
    }
   ],
   "source": [
    "grid     = JAC.Radial.Grid(\"grid: exponential\")\n",
    "nucModel = Nuclear.Model(7., \"Fermi\")"
   ]
  },
  {
   "cell_type": "markdown",
   "metadata": {},
   "source": [
    "\n",
    "Then, the nuclear potential is generated by simply calling:\n"
   ]
  },
  {
   "cell_type": "code",
   "execution_count": 4,
   "metadata": {},
   "outputs": [
    {
     "data": {
      "text/plain": [
       "nuclear-potential: Fermi-distributed (radial) potential ... defined on 400 grid points ...\n",
       "Zr:    [0.0, 0.0040678, 0.0206594, 0.0474903, 0.0799277, 0.112363, 0.139189, 0.155776, 0.165613, 0.189148  …  0.357197, 0.3807, 0.394636, 0.427974, 0.48186, 0.546959, 0.611998, 0.665742, 0.698951, 0.718637]  ...  [7.0, 7.0, 7.0, 7.0, 7.0, 7.0, 7.0, 7.0, 7.0, 7.0  …  7.0, 7.0, 7.0, 7.0, 7.0, 7.0, 7.0, 7.0, 7.0, 7.0]\n",
       "Radial grid:  rnt = 2.0e-6,  h = 0.05,  hp = 0.0,  NoPoints = 390, orderL = 7,  orderS = 8,  nsL = 56,  nsS = 57,  mesh = MeshGL, ...  \n",
       "r:    [0.0, 2.13272e-8, 1.08316e-7]  ...  [842.031, 887.781, 916.071]\n",
       "wr:   [0.0, 5.42629e-8, 1.17215e-7]  ...  [52.0386, 38.1203, 17.6472]\n",
       "t:    [0.0, 0.0, 0.0]  ...  [39.5528, 56.1281, 79.6496]"
      ]
     },
     "execution_count": 4,
     "metadata": {},
     "output_type": "execute_result"
    }
   ],
   "source": [
    "nucPotential = JAC.Nuclear.nuclearPotential(nucModel, grid)"
   ]
  },
  {
   "cell_type": "markdown",
   "metadata": {},
   "source": [
    "\n",
    "As seen from the output, the effective charge Z(r) vanishes near to the origin but quickly increases to the full charge $Z = 6.$ at larger $r$-values, i.e. outside of the nucleus\n",
    "\n",
    "To calculate **atomic** potentials, we also need to know the electron density around the nuclues. Most often, this density refers to a particular atomic level. Therefore, we first need to compute some of the low-lying levels of, for instance, neutral carbon. We shall here just compute the levels of the $1s^2 2s^2 2p^2$ ground-state configuration. We use the *simplest* approximation for these computation but will explain in some later tutorials how we could control and refine such simple structure calculations, if needed.\n"
   ]
  },
  {
   "cell_type": "code",
   "execution_count": 5,
   "metadata": {},
   "outputs": [
    {
     "name": "stdout",
     "output_type": "stream",
     "text": [
      "shellOccList = SubString{String}[\"1s^2\", \"2s^2\", \"2p^2\"]\n",
      "\n",
      "... in perform('computation: SCF', ...\n",
      "perform-aa: Configuration: 1s_1/2^2 2s_1/2^2 2p_3/2^2 \n",
      "perform-aa: Configuration: 1s_1/2^2 2s_1/2^2 2p_1/2^1 2p_3/2^1 \n",
      "perform-aa: Configuration: 1s_1/2^2 2s_1/2^2 2p_1/2^2 \n",
      "(Re-) Define a new standard subshell list.\n",
      "(Re-) Define a storage array for various B-spline matrices:\n",
      "Nuclear model = Fermi nuclear model for Z = 7.0 with mass = 14.245, radius R = 2.59656449033488 fm and nuclear spin I = 0, dipole moment mu = 0.0 and quadrupole moment Q = 0.0. \n",
      "Generate hydrogenic orbital for subshell 1s_1/2 \n",
      "  -----------------------------------------------------------------------------\n",
      "   Index    Subshell     Energies [a.u.]    Dirac-E  [a.u.]     Delta-E / |E|    \n",
      "  -----------------------------------------------------------------------------\n",
      "      1      1s_1/2      -2.45159992e+01    -2.45160029e+01    +1.54138578e-07    \n",
      "      2      2s_1/2      -6.13000214e+00    -6.13000125e+00    -1.45559923e-07    \n",
      "      3      3s_1/2      -2.72401794e+00    -2.72400021e+00    -6.50627859e-06    \n",
      "      4      4s_1/2      -1.53216800e+00    -1.53206251e+00    -6.88476184e-05    \n",
      "      5      5s_1/2      -9.82728280e-01    -9.80435173e-01    -2.33340898e-03    \n",
      "      6      6s_1/2      -7.21191839e-01    -6.80814784e-01    -5.59865665e-02    \n",
      "      7      7s_1/2      -6.26991278e-01    -5.00166570e-01    -2.02275074e-01    \n",
      "      8      8s_1/2      -4.75665025e-01    -3.82925759e-01    -1.94967594e-01    \n",
      "      :       :    \n",
      "     51     51s_1/2      +8.45414599e+07    -9.41992923e-03    +1.00000000e+00    \n",
      "     52     52s_1/2      +1.28272077e+08    -9.06109930e-03    +1.00000000e+00    \n",
      "     53     53s_1/2      +2.02586394e+08    -8.72238874e-03    +1.00000000e+00    \n",
      "     54     54s_1/2      +3.45006070e+08    -8.40232107e-03    +1.00000000e+00    \n",
      "     55     55s_1/2      +6.89850758e+08    -8.09955282e-03    +1.00000000e+00    \n",
      "     56     56s_1/2      +2.35261771e+09    -7.81285940e-03    +1.00000000e+00    \n",
      "  -----------------------------------------------------------------------------\n",
      "Use hydrogenic orbital from this symmetriy block also for 1s_1/2.\n",
      "Use hydrogenic orbital from this symmetriy block also for 2s_1/2.\n",
      "Generate hydrogenic orbital for subshell 2p_1/2 \n",
      "  -----------------------------------------------------------------------------\n",
      "   Index    Subshell     Energies [a.u.]    Dirac-E  [a.u.]     Delta-E / |E|    \n",
      "  -----------------------------------------------------------------------------\n",
      "      1      2p_1/2      -6.13000161e+00    -6.13000125e+00    -5.85364352e-08    \n",
      "      2      3p_1/2      -2.72400542e+00    -2.72400021e+00    -1.91081475e-06    \n",
      "      3      4p_1/2      -1.53210656e+00    -1.53206251e+00    -2.87527441e-05    \n",
      "      4      5p_1/2      -9.81229586e-01    -9.80435173e-01    -8.09609258e-04    \n",
      "      5      6p_1/2      -6.86952359e-01    -6.80814784e-01    -8.93449881e-03    \n",
      "      6      7p_1/2      -5.24104719e-01    -5.00166570e-01    -4.56743623e-02    \n",
      "      7      8p_1/2      -4.14765266e-01    -3.82925759e-01    -7.67651235e-02    \n",
      "      8      9p_1/2      -3.30001435e-01    -3.02549593e-01    -8.31870369e-02    \n",
      "      :       :    \n",
      "     50     51p_1/2      +7.03356495e+07    -9.41992923e-03    +1.00000000e+00    \n",
      "     51     52p_1/2      +1.05485720e+08    -9.06109930e-03    +1.00000000e+00    \n",
      "     52     53p_1/2      +1.63195514e+08    -8.72238874e-03    +1.00000000e+00    \n",
      "     53     54p_1/2      +2.67027516e+08    -8.40232107e-03    +1.00000000e+00    \n",
      "     54     55p_1/2      +4.88045737e+08    -8.09955282e-03    +1.00000000e+00    \n",
      "     55     56p_1/2      +1.16227457e+09    -7.81285940e-03    +1.00000000e+00    \n",
      "  -----------------------------------------------------------------------------\n",
      "Use hydrogenic orbital from this symmetriy block also for 2p_1/2.\n",
      "Generate hydrogenic orbital for subshell 2p_3/2 \n",
      "  -----------------------------------------------------------------------------\n",
      "   Index    Subshell     Energies [a.u.]    Dirac-E  [a.u.]     Delta-E / |E|    \n",
      "  -----------------------------------------------------------------------------\n",
      "      1      2p_3/2      -6.12599966e+00    -6.12599920e+00    -7.43334569e-08    \n",
      "      2      3p_3/2      -2.72282837e+00    -2.72281436e+00    -5.14443180e-06    \n",
      "      3      4p_3/2      -1.53161947e+00    -1.53156226e+00    -3.73543329e-05    \n",
      "      4      5p_3/2      -9.82449433e-01    -9.80179058e-01    -2.31093393e-03    \n",
      "      5      6p_3/2      -8.32156181e-01    -6.80666577e-01    -1.82044679e-01    \n",
      "      6      7p_3/2      -6.72708775e-01    -5.00073242e-01    -2.56627443e-01    \n",
      "      7      8p_3/2      -4.96146611e-01    -3.82863239e-01    -2.28326405e-01    \n",
      "      8      9p_3/2      -3.83243945e-01    -3.02505685e-01    -2.10670675e-01    \n",
      "      :       :    \n",
      "     51     52p_3/2      +1.00211811e+08    -9.06087170e-03    +1.00000000e+00    \n",
      "     52     53p_3/2      +1.53883163e+08    -8.72217378e-03    +1.00000000e+00    \n",
      "     53     54p_3/2      +2.48351359e+08    -8.40211783e-03    +1.00000000e+00    \n",
      "     54     55p_3/2      +4.40984904e+08    -8.09936047e-03    +1.00000000e+00    \n",
      "     55     56p_3/2      +9.65485946e+08    -7.81267717e-03    +1.00000000e+00    \n",
      "     56     57p_3/2      +3.73451801e+09    -7.54094987e-03    +1.00000000e+00    \n",
      "  -----------------------------------------------------------------------------\n",
      "Use hydrogenic orbital from this symmetriy block also for 2p_3/2.\n",
      "Re-define the standard grid with 390 grid points.\n",
      "(Re-) Define a storage array for various B-spline matrices:\n",
      "\n",
      "Iteration 1 for symmetries ... \n",
      "  1s_1/2::  en [a.u.] = -1.22447926e+01;   self-consistency = 3.338124e-01  [1.000000e+02 for symmetry block kappa = -1]\n",
      "  2s_1/2::  en [a.u.] = -6.03491317e-01;   self-consistency = 8.207494e-01  [1.000000e+02 for symmetry block kappa = -1]\n",
      "  2p_1/2::  en [a.u.] = -5.51613235e-01;   self-consistency = 8.348863e-01  [1.000000e+02 for symmetry block kappa = 1]\n",
      "  2p_3/2::  en [a.u.] = -6.69804808e-01;   self-consistency = 8.028770e-01  [1.000000e+02 for symmetry block kappa = -2]\n",
      "\n",
      "Iteration 2 for symmetries ... \n",
      "  1s_1/2::  en [a.u.] = -1.52024769e+01;   self-consistency = 1.077588e-01  [2.451231e+00 for symmetry block kappa = -1]\n",
      "  2s_1/2::  en [a.u.] = -1.35741503e+00;   self-consistency = 3.844772e-01  [2.451231e+00 for symmetry block kappa = -1]\n",
      "  2p_1/2::  en [a.u.] = -7.33963669e-01;   self-consistency = 1.418433e-01  [1.418433e-01 for symmetry block kappa = 1]\n",
      "  2p_3/2::  en [a.u.] = -6.99086339e-01;   self-consistency = 2.139069e-02  [9.912155e-02 for symmetry block kappa = -2]\n",
      "\n",
      "Iteration 3 for symmetries ... \n",
      "  1s_1/2::  en [a.u.] = -1.44459944e+01;   self-consistency = 2.551506e-02  [2.613177e-01 for symmetry block kappa = -1]\n",
      "  2s_1/2::  en [a.u.] = -1.09481377e+00;   self-consistency = 1.070868e-01  [2.613177e-01 for symmetry block kappa = -1]\n",
      "  2p_1/2::  en [a.u.] = -7.21250410e-01;   self-consistency = 8.736350e-03  [2.831916e-02 for symmetry block kappa = 1]\n",
      "  2p_3/2::  en [a.u.] = -7.21343026e-01;   self-consistency = 1.566899e-02  [4.425042e-02 for symmetry block kappa = -2]\n",
      "\n",
      "Iteration 4 for symmetries ... \n",
      "  1s_1/2::  en [a.u.] = -1.45792540e+01;   self-consistency = 4.591159e-03  [9.265988e-02 for symmetry block kappa = -1]\n",
      "  2s_1/2::  en [a.u.] = -1.13445440e+00;   self-consistency = 1.778190e-02  [9.265988e-02 for symmetry block kappa = -1]\n",
      "  2p_1/2::  en [a.u.] = -7.07741241e-01;   self-consistency = 9.453638e-03  [1.370795e-02 for symmetry block kappa = 1]\n",
      "  2p_3/2::  en [a.u.] = -7.08314016e-01;   self-consistency = 9.113382e-03  [4.130550e-02 for symmetry block kappa = -2]\n",
      "\n",
      "Iteration 5 for symmetries ... \n",
      "  1s_1/2::  en [a.u.] = -1.45650093e+01;   self-consistency = 4.887641e-04  [4.616384e-03 for symmetry block kappa = -1]\n",
      "  2s_1/2::  en [a.u.] = -1.13095403e+00;   self-consistency = 1.545142e-03  [4.616384e-03 for symmetry block kappa = -1]\n",
      "  2p_1/2::  en [a.u.] = -7.13276781e-01;   self-consistency = 3.895475e-03  [6.192269e-03 for symmetry block kappa = 1]\n",
      "  2p_3/2::  en [a.u.] = -7.11811266e-01;   self-consistency = 2.462635e-03  [1.192451e-02 for symmetry block kappa = -2]\n",
      "\n",
      "Iteration 6 for symmetries ... \n",
      "  1s_1/2::  en [a.u.] = -1.45638680e+01;   self-consistency = 3.918083e-05  [2.607382e-03 for symmetry block kappa = -1]\n",
      "  2s_1/2::  en [a.u.] = -1.13026198e+00;   self-consistency = 3.060505e-04  [2.607382e-03 for symmetry block kappa = -1]\n",
      "  2p_1/2::  en [a.u.] = -7.11914551e-01;   self-consistency = 9.558223e-04  [1.596977e-03 for symmetry block kappa = 1]\n",
      "  2p_3/2::  en [a.u.] = -7.11180960e-01;   self-consistency = 4.429443e-04  [2.369174e-03 for symmetry block kappa = -2]\n",
      "\n",
      "Iteration 7 for symmetries ... \n",
      "  1s_1/2::  en [a.u.] = -1.45649295e+01;   self-consistency = 3.644086e-05  [1.129156e-03 for symmetry block kappa = -1]\n",
      "  2s_1/2::  en [a.u.] = -1.13066842e+00;   self-consistency = 1.797676e-04  [1.129156e-03 for symmetry block kappa = -1]\n",
      "  2p_1/2::  en [a.u.] = -7.12137949e-01;   self-consistency = 1.568751e-04  [2.747900e-04 for symmetry block kappa = 1]\n",
      "  2p_3/2::  en [a.u.] = -7.11238298e-01;   self-consistency = 4.031034e-05  [2.649525e-04 for symmetry block kappa = -2]\n",
      "\n",
      "Iteration 8 for symmetries ... \n",
      "  1s_1/2::  en [a.u.] = -1.45646087e+01;   self-consistency = 1.101123e-05  [2.766801e-04 for symmetry block kappa = -1]\n",
      "  2s_1/2::  en [a.u.] = -1.13055720e+00;   self-consistency = 4.918824e-05  [2.766801e-04 for symmetry block kappa = -1]\n",
      "  2p_1/2::  en [a.u.] = -7.12122631e-01;   self-consistency = 1.075510e-05  [2.259514e-05 for symmetry block kappa = 1]\n",
      "  2p_3/2::  en [a.u.] = -7.11247717e-01;   self-consistency = 6.621749e-06  [1.752335e-05 for symmetry block kappa = -2]\n",
      "\n",
      "Iteration 9 for symmetries ... \n"
     ]
    },
    {
     "name": "stdout",
     "output_type": "stream",
     "text": [
      "  1s_1/2::  en [a.u.] = -1.45646721e+01;   self-consistency = 2.176399e-06  [4.480445e-05 for symmetry block kappa = -1]\n",
      "  2s_1/2::  en [a.u.] = -1.13057740e+00;   self-consistency = 8.935101e-06  [4.480445e-05 for symmetry block kappa = -1]\n",
      "  2p_1/2::  en [a.u.] = -7.12117554e-01;   self-consistency = 3.565146e-06  [4.926616e-06 for symmetry block kappa = 1]\n",
      "  2p_3/2::  en [a.u.] = -7.11241670e-01;   self-consistency = 4.250940e-06  [1.874336e-05 for symmetry block kappa = -2]\n",
      "\n",
      "Iteration 10 for symmetries ... \n",
      "  1s_1/2::  en [a.u.] = -1.45646648e+01;   self-consistency = 2.509708e-07  [2.811602e-06 for symmetry block kappa = -1]\n",
      "  2s_1/2::  en [a.u.] = -1.13057549e+00;   self-consistency = 8.437652e-07  [2.811602e-06 for symmetry block kappa = -1]\n",
      "  2p_1/2::  en [a.u.] = -7.12120071e-01;   self-consistency = 1.767584e-06  [2.807769e-06 for symmetry block kappa = 1]\n",
      "  2p_3/2::  en [a.u.] = -7.11243369e-01;   self-consistency = 1.193963e-06  [5.816368e-06 for symmetry block kappa = -2]\n",
      "\n",
      "Iteration 11 for symmetries ... \n",
      "  1s_1/2::  en [a.u.] = -1.45646644e+01;   self-consistency = 1.383652e-08  [1.117346e-06 for symmetry block kappa = -1]\n",
      "  2s_1/2::  en [a.u.] = -1.13057521e+00;   self-consistency = 1.227913e-07  [1.117346e-06 for symmetry block kappa = -1]\n",
      "  2p_1/2::  en [a.u.] = -7.12119419e-01;   self-consistency = 4.577169e-07  [7.626544e-07 for symmetry block kappa = 1]\n",
      "  2p_3/2::  en [a.u.] = -7.11243052e-01;   self-consistency = 2.224701e-07  [1.173457e-06 for symmetry block kappa = -2]\n",
      "\n",
      "Iteration 12 for symmetries ... \n",
      "  1s_1/2::  en [a.u.] = -1.45646649e+01;   self-consistency = 1.675215e-08  [5.284687e-07 for symmetry block kappa = -1]\n",
      "  2s_1/2::  en [a.u.] = -1.13057540e+00;   self-consistency = 8.333602e-08  [5.284687e-07 for symmetry block kappa = -1]\n",
      "  2p_1/2::  en [a.u.] = -7.12119531e-01;   self-consistency = 7.873057e-08  [1.372405e-07 for symmetry block kappa = 1]\n",
      "  2p_3/2::  en [a.u.] = -7.11243084e-01;   self-consistency = 2.247484e-08  [1.365724e-07 for symmetry block kappa = -2]\n",
      "Compute CI matrix of dimension 2 x 2 for the symmetry 2^+ ...   ... done.\n",
      "Compute CI matrix of dimension 1 x 1 for the symmetry 1^+ ...   ... done.\n",
      "Compute CI matrix of dimension 2 x 2 for the symmetry 0^+ ...   ... done.\n",
      "\n",
      "  Eigenenergies:\n",
      "\n",
      "  Level  J Parity          Hartrees                    eV                   [eV]\n",
      "\n",
      "     1    0 +     -5.390948894219004e+01    -1.466951913746854e+03    -1.466951913746854e+03 \n",
      "     2    1 +     -5.390922803531726e+01    -1.466944814109224e+03    -1.466944814109224e+03 \n",
      "     3    2 +     -5.390871243241764e+01    -1.466930783839690e+03    -1.466930783839690e+03 \n",
      "     4    2 +     -5.383081960933639e+01    -1.464811212162638e+03    -1.464811212162638e+03 \n",
      "     5    0 +     -5.371359636961231e+01    -1.461621405335991e+03    -1.461621405335991e+03 \n",
      "\n",
      "  Energy of each level relative to immediately lower level:\n",
      "\n",
      "  Level  J Parity          Hartrees                    eV                   [eV]\n",
      "\n",
      "     2    1 +     2.609068727750241e-04    7.099637630352209e-03    7.099637630352209e-03 \n",
      "     3    2 +     5.156028996182727e-04    1.403026953454413e-02    1.403026953454413e-02 \n",
      "     4    2 +     7.789282308124967e-02    2.119571677051451e+00    2.119571677051451e+00 \n",
      "     5    0 +     1.172232397240833e-01    3.189806826647029e+00    3.189806826647029e+00 \n",
      "\n",
      "  Energy of each level relative to lowest level:\n",
      "\n",
      "  Level  J Parity          Hartrees                    eV                   [eV]\n",
      "\n",
      "     2    1 +     2.609068727750241e-04    7.099637630352209e-03    7.099637630352209e-03 \n",
      "     3    2 +     7.765097723932968e-04    2.112990716489634e-02    2.112990716489634e-02 \n",
      "     4    2 +     7.866933285364297e-02    2.140701584216347e+00    2.140701584216347e+00 \n",
      "     5    0 +     1.958925725777263e-01    5.330508410863376e+00    5.330508410863376e+00 \n"
     ]
    }
   ],
   "source": [
    "basis     = perform(\"computation: SCF\", [Configuration(\"1s^2 2s^2 2p^2\")], nucModel, grid, AsfSettings())\n",
    "multiplet = perform(\"computation: CI\",  basis, nucModel, grid, AsfSettings());"
   ]
  },
  {
   "cell_type": "markdown",
   "metadata": {},
   "source": [
    "\n",
    "From this multiplet, we just take the *lowest* level (the ground level) in order to calculate the density for the (electronic) potential. We have moreover different choices to generate such an **electronic** potential as seen from ? compute at the REPL:\n",
    "\n",
    "    •    (\"radial potential: core-Hartree\", grid::Radial.Grid, level::Level) ... to compute a (radial) \n",
    "           core-Hartree potential from the given list of orbitals; cf. JAC.computePotentialCoreHartree. \n",
    "           A potential::RadialPotential is returned. \n",
    "\n",
    "    •    (\"radial potential: Kohn-Sham\", grid::Radial.Grid, level::Level) ... to compute a (radial) \n",
    "           Kohn-Sham potential from the given list of orbitals; cf. JAC.computePotentialKohnSham. \n",
    "           A potential::RadialPotential is returned.\n",
    "\n",
    "    •    (\"radial potential: Dirac-Fock-Slater\", grid::Radial.Grid, level::Level) ... to compute a (radial) \n",
    "          Dirac-Fock-Slater potential from the given list of orbitals; this potential is rather simple \n",
    "          but includes some undesired self-interaction and exhibits an asymptotic behaviour.         \n",
    "          Cf. JAC.computePotentialDFS. A potential::RadialPotential is returned.\n"
   ]
  },
  {
   "cell_type": "code",
   "execution_count": 7,
   "metadata": {},
   "outputs": [
    {
     "name": "stdout",
     "output_type": "stream",
     "text": [
      "coreSubshells = Subshell[1s_1/2, 2s_1/2];    subshells = Subshell[1s_1/2, 2s_1/2, 2p_1/2, 2p_3/2]\n"
     ]
    },
    {
     "data": {
      "text/plain": [
       "DFS (radial) potential ... defined on 400 grid points ...\n",
       "Zr:    [0.0, -2.47647e-7, -1.27382e-6, -2.92539e-6, -4.91967e-6, -6.91618e-6, -8.56923e-6, -9.59175e-6, -1.01982e-5, -1.16491e-5  …  -2.20035e-5, -2.34523e-5, -2.43117e-5, -2.63682e-5, -2.96951e-5, -3.37187e-5, -3.77429e-5, -4.10712e-5, -4.3129e-5, -4.43494e-5]  ...  [-5.9999, -5.9999, -5.9999, -5.99991, -5.99993, -5.99995, -5.99997, -5.99998, -5.99998, -5.99999  …  -6.0, -6.0, -6.0, -6.0, -6.0, -6.0, -6.0, -6.0, -6.0, -6.0]\n",
       "Radial grid:  rnt = 2.0e-6,  h = 0.05,  hp = 0.0,  NoPoints = 390, orderL = 7,  orderS = 8,  nsL = 56,  nsS = 57,  mesh = MeshGL, ...  \n",
       "r:    [0.0, 2.13272e-8, 1.08316e-7]  ...  [842.031, 887.781, 916.071]\n",
       "wr:   [0.0, 5.42629e-8, 1.17215e-7]  ...  [52.0386, 38.1203, 17.6472]\n",
       "t:    [0.0, 0.0, 0.0]  ...  [39.5528, 56.1281, 79.6496]"
      ]
     },
     "execution_count": 7,
     "metadata": {},
     "output_type": "execute_result"
    }
   ],
   "source": [
    "level  = multiplet.levels[1]\n",
    "potCH  = compute(\"radial potential: core-Hartree\", grid, level)\n",
    "potDFS = compute(\"radial potential: Dirac-Fock-Slater\", grid, level)"
   ]
  },
  {
   "cell_type": "markdown",
   "metadata": {},
   "source": [
    "\n",
    "All these potentials are represented as *effective charge* $Z(r)$ and can be added to the nuclear potential, for example:"
   ]
  },
  {
   "cell_type": "code",
   "execution_count": 8,
   "metadata": {},
   "outputs": [
    {
     "data": {
      "text/plain": [
       "nuclear-potential: Fermi-distributed+nuclear-potential: Fermi-distributed (radial) potential ... defined on 400 grid points ...\n",
       "Zr:    [0.0, 0.00406755, 0.0206581, 0.0474874, 0.0799228, 0.112356, 0.13918, 0.155766, 0.165602, 0.189136  …  0.357175, 0.380676, 0.394612, 0.427948, 0.481831, 0.546926, 0.61196, 0.665701, 0.698908, 0.718593]  ...  [1.0001, 1.0001, 1.0001, 1.00009, 1.00007, 1.00005, 1.00003, 1.00002, 1.00002, 1.00001  …  1.0, 1.0, 1.0, 1.0, 1.0, 1.0, 1.0, 1.0, 1.0, 1.0]\n",
       "Radial grid:  rnt = 2.0e-6,  h = 0.05,  hp = 0.0,  NoPoints = 390, orderL = 7,  orderS = 8,  nsL = 56,  nsS = 57,  mesh = MeshGL, ...  \n",
       "r:    [0.0, 2.13272e-8, 1.08316e-7]  ...  [842.031, 887.781, 916.071]\n",
       "wr:   [0.0, 5.42629e-8, 1.17215e-7]  ...  [52.0386, 38.1203, 17.6472]\n",
       "t:    [0.0, 0.0, 0.0]  ...  [39.5528, 56.1281, 79.6496]"
      ]
     },
     "execution_count": 8,
     "metadata": {},
     "output_type": "execute_result"
    }
   ],
   "source": [
    "JAC.add(nucPotential, potDFS)"
   ]
  },
  {
   "cell_type": "markdown",
   "metadata": {},
   "source": [
    "\n",
    "What can be seen ... and how to display these potentials also graphically; use `JAC.plot()`"
   ]
  },
  {
   "cell_type": "code",
   "execution_count": null,
   "metadata": {},
   "outputs": [],
   "source": []
  }
 ],
 "metadata": {
  "@webio": {
   "lastCommId": "f72f2531f6cc40f7b2baede30bfae854",
   "lastKernelId": "9939689a-8aee-41e7-b69e-0af3fdf05f1d"
  },
  "kernelspec": {
   "display_name": "Julia 1.0.3",
   "language": "julia",
   "name": "julia-1.0"
  },
  "language_info": {
   "file_extension": ".jl",
   "mimetype": "application/julia",
   "name": "julia",
   "version": "1.0.3"
  }
 },
 "nbformat": 4,
 "nbformat_minor": 2
}
