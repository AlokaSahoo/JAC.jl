{
 "cells": [
  {
   "cell_type": "markdown",
   "metadata": {},
   "source": [
    "# Compute the decay cascade of $1s \\to 3p$ photoexcited neon"
   ]
  },
  {
   "cell_type": "code",
   "execution_count": 1,
   "metadata": {},
   "outputs": [
    {
     "name": "stderr",
     "output_type": "stream",
     "text": [
      "┌ Info: Recompiling stale cache file /home/fritzsch/.julia/compiled/v1.0/JAC/vyEUL.ji for JAC [830ae420-d14d-11e8-2f94-6b071437414d]\n",
      "└ @ Base loading.jl:1190\n"
     ]
    },
    {
     "name": "stdout",
     "output_type": "stream",
     "text": [
      "\n",
      "Welcome to JAC:  A community approach to the computation of atomic structures, cascades and time evolutions [(C) Copyright by Stephan Fritzsche, Jena (2018-2020)].\n"
     ]
    }
   ],
   "source": [
    "using JAC"
   ]
  },
  {
   "cell_type": "markdown",
   "metadata": {},
   "source": [
    "Most excited atomic levels decay rapidly with lifetimes typically ranging from the femto- to the (meta-stable) micro-second regime; more often than not, this decay *proceeds* via many intermediate levels before the state of the atom or ion becomes stable. More specifically, here we shall talk about *atomic cascades* if (i) three or more charges states are involved in the excitation and/or decay cascade and (ii) if it becomes cumbersome to specify all the intermediate and final levels explictly. For such cascades, moreover, the observed ion distributions or the x-ray and electron spectra are usually much more interesting than the individual decay pathes or which intermediate levels contribute to the particular decay.\n",
    "\n",
    "To model such cascades theoretically, one requires of course both, the computation of a reasonably good -- excitation and decay -- data set as well as the proper *combination* of these data in order to make the theoretical results comparable to observations. In JAC, we therefore distinguish *two separate steps for all kinds of cascade computations:* **(1) The computation of the cascade tree**, i.e. of all transition amplitudes, rates and cross sections that appear in any physically allowed *decay path* of the atoms. Here, a *path* refers to a sequence of atomic transitions which either (explicitly) excite the atoms due to photoionization or electron impact, or which subsequently leads to the stabilization of the atom. Afterwards, **(2) a cascade simulation** need to be performed with the data from the cascade tree of step (1) in order to derive the physically requested information.\n",
    "\n",
    "In practice, of course, *atomic cascades* may become very complex and unfeasible to compute. Therefore, in order to deal with such cascades, one often needs to restrict either the number of charge states, the atomic processes to be included into the cascade, the approach for describing the required wave functions, or several others features. The usual goal is to generate and process all amplitudes for the given *physical processes* (e.g. photon emission, Auger, photoionization, ...) *automatically*, while restricting the comptutions by means of some predefined approach or a few additional assumptions.\n",
    "\n",
    "\n",
    "As a very first example of an atomic cascde, we shall consider the decay of photo-excited $1s \\to 3p$ neon which either decays by autoionization of photon emission. In this example, we shall restrict ourselves to a very simple approach in generating all the necessary wave functions as well as to the simulation of the final ion and level distributions. Further properties, which can be simulated from the cascade tree data, will likely be considered in the future.\n",
    "\n",
    "\n",
    "In JAC, the (transition) data of a cascade tree is computed be means of a `Cascade.Computation()`, a container to keep all necessary information about the atom, its initial state, the maximum number of emitted electrons and other information as easily derived from the experimental set-up. We will easily understand the necessary input for such a cascade tree computation by: \n"
   ]
  },
  {
   "cell_type": "code",
   "execution_count": 2,
   "metadata": {},
   "outputs": [
    {
     "data": {
      "text/latex": [
       "\\texttt{struct  Cascade.Computation}       ... defines a type for a cascade computation, i.e. for the computation of a whole excitation and/or decay cascade. The data          from this computation can be modified, adapted and refined to the practical needs before the actual computations are          carried out. Initially, this struct contains the physical metadata about the cascade to be calculated but gets enlarged          in course of the computation to keep also wave functions, level multiplets, etc.\n",
       "\n",
       "\\begin{verbatim}\n",
       "+ name               ::String                          ... A name for the cascade\n",
       "+ nuclearModel       ::Nuclear.Model                   ... Model, charge and parameters of the nucleus.\n",
       "+ grid               ::Radial.Grid                     ... The radial grid to be used for the computation.\n",
       "+ asfSettings        ::AsfSettings                     ... Provides the settings for the SCF process.\n",
       "+ scheme             ::Cascade.AbstractCascadeScheme   ... Scheme of the atomic cascade (photoionization, \n",
       "                                                           decay, ...)\n",
       "+ approach           ::Cascade.AbstractCascadeApproach ... Computational approach/model that is applied \n",
       "                                                           to generate and evaluate the cascade; possible \n",
       "                                                           approaches are: {'single-configuration', ...}\n",
       "+ initialConfs       ::Array{Configuration,1}          ... List of one or several configurations that \n",
       "                                                           contain the level(s) from which the cascade starts.\n",
       "+ initialMultiplets  ::Array{Multiplet,1}              ... List of one or several (initial) multiplets; \n",
       "                                                           either initialConfs 'xor' initialMultiplets can\n",
       "                                                           be specified for a cascade computation.\n",
       "\\end{verbatim}\n",
       "\\rule{\\textwidth}{1pt}\n",
       "\\texttt{Cascade.Computation()}  ... constructor for an 'default' instance of a Cascade.Computation.\n",
       "\n",
       "\\rule{\\textwidth}{1pt}\n",
       "\\texttt{Cascade.Computation(comp::Cascade.Computation;}\n",
       "\n",
       "\\begin{verbatim}\n",
       "        name=..,               nuclearModel=..,             grid=..,              asfSettings=..,     \n",
       "        scheme=..,             approach=..,                 initialConfigs=..,    initialMultiplets=..)\n",
       "        \n",
       "... constructor for re-defining the computation::Cascade.Computation.\n",
       "\\end{verbatim}\n"
      ],
      "text/markdown": [
       "`struct  Cascade.Computation`       ... defines a type for a cascade computation, i.e. for the computation of a whole excitation and/or decay cascade. The data          from this computation can be modified, adapted and refined to the practical needs before the actual computations are          carried out. Initially, this struct contains the physical metadata about the cascade to be calculated but gets enlarged          in course of the computation to keep also wave functions, level multiplets, etc.\n",
       "\n",
       "```\n",
       "+ name               ::String                          ... A name for the cascade\n",
       "+ nuclearModel       ::Nuclear.Model                   ... Model, charge and parameters of the nucleus.\n",
       "+ grid               ::Radial.Grid                     ... The radial grid to be used for the computation.\n",
       "+ asfSettings        ::AsfSettings                     ... Provides the settings for the SCF process.\n",
       "+ scheme             ::Cascade.AbstractCascadeScheme   ... Scheme of the atomic cascade (photoionization, \n",
       "                                                           decay, ...)\n",
       "+ approach           ::Cascade.AbstractCascadeApproach ... Computational approach/model that is applied \n",
       "                                                           to generate and evaluate the cascade; possible \n",
       "                                                           approaches are: {'single-configuration', ...}\n",
       "+ initialConfs       ::Array{Configuration,1}          ... List of one or several configurations that \n",
       "                                                           contain the level(s) from which the cascade starts.\n",
       "+ initialMultiplets  ::Array{Multiplet,1}              ... List of one or several (initial) multiplets; \n",
       "                                                           either initialConfs 'xor' initialMultiplets can\n",
       "                                                           be specified for a cascade computation.\n",
       "```\n",
       "\n",
       "---\n",
       "\n",
       "`Cascade.Computation()`  ... constructor for an 'default' instance of a Cascade.Computation.\n",
       "\n",
       "---\n",
       "\n",
       "`Cascade.Computation(comp::Cascade.Computation;`\n",
       "\n",
       "```\n",
       "        name=..,               nuclearModel=..,             grid=..,              asfSettings=..,     \n",
       "        scheme=..,             approach=..,                 initialConfigs=..,    initialMultiplets=..)\n",
       "        \n",
       "... constructor for re-defining the computation::Cascade.Computation.\n",
       "```\n"
      ],
      "text/plain": [
       "  \u001b[36mstruct  Cascade.Computation\u001b[39m ... defines a type for a cascade computation,\n",
       "  i.e. for the computation of a whole excitation and/or decay cascade. The\n",
       "  data from this computation can be modified, adapted and refined to the\n",
       "  practical needs before the actual computations are carried out. Initially,\n",
       "  this struct contains the physical metadata about the cascade to be\n",
       "  calculated but gets enlarged in course of the computation to keep also wave\n",
       "  functions, level multiplets, etc.\n",
       "\n",
       "\u001b[36m  + name               ::String                          ... A name for the cascade\u001b[39m\n",
       "\u001b[36m  + nuclearModel       ::Nuclear.Model                   ... Model, charge and parameters of the nucleus.\u001b[39m\n",
       "\u001b[36m  + grid               ::Radial.Grid                     ... The radial grid to be used for the computation.\u001b[39m\n",
       "\u001b[36m  + asfSettings        ::AsfSettings                     ... Provides the settings for the SCF process.\u001b[39m\n",
       "\u001b[36m  + scheme             ::Cascade.AbstractCascadeScheme   ... Scheme of the atomic cascade (photoionization, \u001b[39m\n",
       "\u001b[36m                                                             decay, ...)\u001b[39m\n",
       "\u001b[36m  + approach           ::Cascade.AbstractCascadeApproach ... Computational approach/model that is applied \u001b[39m\n",
       "\u001b[36m                                                             to generate and evaluate the cascade; possible \u001b[39m\n",
       "\u001b[36m                                                             approaches are: {'single-configuration', ...}\u001b[39m\n",
       "\u001b[36m  + initialConfs       ::Array{Configuration,1}          ... List of one or several configurations that \u001b[39m\n",
       "\u001b[36m                                                             contain the level(s) from which the cascade starts.\u001b[39m\n",
       "\u001b[36m  + initialMultiplets  ::Array{Multiplet,1}              ... List of one or several (initial) multiplets; \u001b[39m\n",
       "\u001b[36m                                                             either initialConfs 'xor' initialMultiplets can\u001b[39m\n",
       "\u001b[36m                                                             be specified for a cascade computation.\u001b[39m\n",
       "\n",
       "  ────────────────────────────────────────────────────────────────────────────\n",
       "\n",
       "  \u001b[36mCascade.Computation()\u001b[39m ... constructor for an 'default' instance of a\n",
       "  Cascade.Computation.\n",
       "\n",
       "  ────────────────────────────────────────────────────────────────────────────\n",
       "\n",
       "  \u001b[36mCascade.Computation(comp::Cascade.Computation;\u001b[39m\n",
       "\n",
       "\u001b[36m          name=..,               nuclearModel=..,             grid=..,              asfSettings=..,     \u001b[39m\n",
       "\u001b[36m          scheme=..,             approach=..,                 initialConfigs=..,    initialMultiplets=..)\u001b[39m\n",
       "\u001b[36m          \u001b[39m\n",
       "\u001b[36m  ... constructor for re-defining the computation::Cascade.Computation.\u001b[39m"
      ]
     },
     "execution_count": 2,
     "metadata": {},
     "output_type": "execute_result"
    }
   ],
   "source": [
    "? Cascade.Computation"
   ]
  },
  {
   "cell_type": "markdown",
   "metadata": {},
   "source": [
    "Apart from a user-defined name (string), the specification of the nucleus and the radial grid, here we need to specify either the initial configurations *(x)or* the initial multiplets whose levels *starts* the photoionization or decay cascade. Of course, only one, configurations or multiplets, can be given, and an error is issued if both are specified for the same computation. As usual, the `asfsettings` determine how the SCF and CI computations are performed internally, although the default is here often most appropriate.\n",
    "\n",
    "Two central input parameters for all cascade computations refer to the `scheme::Cascade.AbstractCascadeScheme` and the `approach::Cascade.AbstractCascadeApproach`. The cascade `scheme` determines whether we consider an photoionization or a decay scheme for the initial levels, and other useful schemes (electron-impact, double ionization, ...) might be added in the future:"
   ]
  },
  {
   "cell_type": "code",
   "execution_count": 3,
   "metadata": {},
   "outputs": [
    {
     "data": {
      "text/latex": [
       "\\texttt{abstract type Cascade.AbstractCascadeScheme}      ... defines an abstract type to distinguish different excitation, ionization and decay schemes of an atomic cascade; see also:\n",
       "\n",
       "\\begin{verbatim}\n",
       "+ struct StepwiseDecayScheme       ... to represent a standard decay scheme, starting from one or several \n",
       "                                       initial multiplets.\n",
       "+ struct PhotonIonizationScheme    ... to represent a (prior) photoionization part of a cascade for given \n",
       "                                       photon energies.\n",
       "+ struct ElectronExcitationScheme  ... to represent a (prior) electron-impact excitation part of a cascade \n",
       "                                       for given electron energies (not yet).\n",
       "\\end{verbatim}\n"
      ],
      "text/markdown": [
       "`abstract type Cascade.AbstractCascadeScheme`      ... defines an abstract type to distinguish different excitation, ionization and decay schemes of an atomic cascade; see also:\n",
       "\n",
       "```\n",
       "+ struct StepwiseDecayScheme       ... to represent a standard decay scheme, starting from one or several \n",
       "                                       initial multiplets.\n",
       "+ struct PhotonIonizationScheme    ... to represent a (prior) photoionization part of a cascade for given \n",
       "                                       photon energies.\n",
       "+ struct ElectronExcitationScheme  ... to represent a (prior) electron-impact excitation part of a cascade \n",
       "                                       for given electron energies (not yet).\n",
       "```\n"
      ],
      "text/plain": [
       "  \u001b[36mabstract type Cascade.AbstractCascadeScheme\u001b[39m ... defines an abstract type to\n",
       "  distinguish different excitation, ionization and decay schemes of an atomic\n",
       "  cascade; see also:\n",
       "\n",
       "\u001b[36m  + struct StepwiseDecayScheme       ... to represent a standard decay scheme, starting from one or several \u001b[39m\n",
       "\u001b[36m                                         initial multiplets.\u001b[39m\n",
       "\u001b[36m  + struct PhotonIonizationScheme    ... to represent a (prior) photoionization part of a cascade for given \u001b[39m\n",
       "\u001b[36m                                         photon energies.\u001b[39m\n",
       "\u001b[36m  + struct ElectronExcitationScheme  ... to represent a (prior) electron-impact excitation part of a cascade \u001b[39m\n",
       "\u001b[36m                                         for given electron energies (not yet).\u001b[39m"
      ]
     },
     "execution_count": 3,
     "metadata": {},
     "output_type": "execute_result"
    }
   ],
   "source": [
    "? Cascade.AbstractCascadeScheme"
   ]
  },
  {
   "cell_type": "markdown",
   "metadata": {},
   "source": [
    "Below, we shall consider the **stepwise decay** of the neon $1s 2s^2 2p^6 3p$ configuration; for such a decay scheme, further input data need to be specified by:"
   ]
  },
  {
   "cell_type": "code",
   "execution_count": 4,
   "metadata": {},
   "outputs": [
    {
     "data": {
      "text/latex": [
       "\\texttt{struct  Cascade.StepwiseDecayScheme  <:  Cascade.AbstractCascadeScheme}       ... a struct to represent (and generate) a mean-field orbital basis.\n",
       "\n",
       "\\begin{verbatim}\n",
       "+ processes             ::Array{Basics.AbstractProcess,1} ... List of the atomic processes that are supported \n",
       "                                                            and should be included into the cascade.\n",
       "+ maxElectronLoss       ::Int64             ... (Maximum) Number of electrons in which the initial- and \n",
       "                                                final-state configurations can differ from each other; \n",
       "                                                this also determines the maximal steps of any particular \n",
       "                                                decay path.\n",
       "+ NoShakeDisplacements  ::Int64             ... Maximum number of electron displacements due to shake-up \n",
       "                                                or shake-down processes in any individual step of cascade.\n",
       "+ shakeFromShells       ::Array{Shell,1}    ... List of shells from which shake transitions may occur.\n",
       "+ shakeToShells         ::Array{Shell,1}    ... List of shells into which shake transitions may occur.\n",
       "\\end{verbatim}\n",
       "\\rule{\\textwidth}{1pt}\n",
       "\\texttt{Cascade.StepwiseDecayScheme()}  ... constructor for an 'default' instance of a Cascade.StepwiseDecayScheme.\n",
       "\n"
      ],
      "text/markdown": [
       "`struct  Cascade.StepwiseDecayScheme  <:  Cascade.AbstractCascadeScheme`       ... a struct to represent (and generate) a mean-field orbital basis.\n",
       "\n",
       "```\n",
       "+ processes             ::Array{Basics.AbstractProcess,1} ... List of the atomic processes that are supported \n",
       "                                                            and should be included into the cascade.\n",
       "+ maxElectronLoss       ::Int64             ... (Maximum) Number of electrons in which the initial- and \n",
       "                                                final-state configurations can differ from each other; \n",
       "                                                this also determines the maximal steps of any particular \n",
       "                                                decay path.\n",
       "+ NoShakeDisplacements  ::Int64             ... Maximum number of electron displacements due to shake-up \n",
       "                                                or shake-down processes in any individual step of cascade.\n",
       "+ shakeFromShells       ::Array{Shell,1}    ... List of shells from which shake transitions may occur.\n",
       "+ shakeToShells         ::Array{Shell,1}    ... List of shells into which shake transitions may occur.\n",
       "```\n",
       "\n",
       "---\n",
       "\n",
       "`Cascade.StepwiseDecayScheme()`  ... constructor for an 'default' instance of a Cascade.StepwiseDecayScheme.\n"
      ],
      "text/plain": [
       "  \u001b[36mstruct  Cascade.StepwiseDecayScheme  <:  Cascade.AbstractCascadeScheme\u001b[39m ... a\n",
       "  struct to represent (and generate) a mean-field orbital basis.\n",
       "\n",
       "\u001b[36m  + processes             ::Array{Basics.AbstractProcess,1} ... List of the atomic processes that are supported \u001b[39m\n",
       "\u001b[36m                                                              and should be included into the cascade.\u001b[39m\n",
       "\u001b[36m  + maxElectronLoss       ::Int64             ... (Maximum) Number of electrons in which the initial- and \u001b[39m\n",
       "\u001b[36m                                                  final-state configurations can differ from each other; \u001b[39m\n",
       "\u001b[36m                                                  this also determines the maximal steps of any particular \u001b[39m\n",
       "\u001b[36m                                                  decay path.\u001b[39m\n",
       "\u001b[36m  + NoShakeDisplacements  ::Int64             ... Maximum number of electron displacements due to shake-up \u001b[39m\n",
       "\u001b[36m                                                  or shake-down processes in any individual step of cascade.\u001b[39m\n",
       "\u001b[36m  + shakeFromShells       ::Array{Shell,1}    ... List of shells from which shake transitions may occur.\u001b[39m\n",
       "\u001b[36m  + shakeToShells         ::Array{Shell,1}    ... List of shells into which shake transitions may occur.\u001b[39m\n",
       "\n",
       "  ────────────────────────────────────────────────────────────────────────────\n",
       "\n",
       "  \u001b[36mCascade.StepwiseDecayScheme()\u001b[39m ... constructor for an 'default' instance of a\n",
       "  Cascade.StepwiseDecayScheme."
      ]
     },
     "execution_count": 4,
     "metadata": {},
     "output_type": "execute_result"
    }
   ],
   "source": [
    "? Cascade.StepwiseDecayScheme"
   ]
  },
  {
   "cell_type": "markdown",
   "metadata": {},
   "source": [
    "As seen from this definition of `Cascade.StepwiseDecayScheme`, several features about shake-up and -down processes are already prepared for input but not yet supported internally. For the moment, the `maxElectronLoss` is relevant as it determines the (maximal) number of charge states as well as the atomic processes to be considered in the automatic generation of the cascade tree. Below, we shall consider `Auger` and `Radiative` photon emission processes and, indeed, only these processes are supported  at present.\n",
    "\n",
    "The second and very relevant input parameter for a cascade tree computation is the `approach::Cascade.AbstractCascadeApproach` which determines the approach to compute all required intermedaite multiplets. Although there is not much freedom here at the moment, it is obvious that the quality of wave functions may affect the results considerably and, hence, *configuration mixing* of the levels from different configurations might be desirable to incorporate. On the other hand, one has to avoid any *double counting* of levels, and which is typically not so simple to recognize internally, since different *mixings* (multiplets) results in different level energies, a very important criterion to distinguish between different levels. In practice, this makes it necessary that every (electron) *configuration* may appear only once in any of the intermediate multiplets. Moreover, configuration mixing also results in more detailed CSF expansions of all atomic levels, i.e. into a *size factor* that later appears also *quadratically* in the computation of all individual transition rates and cross sections. Further work has to show how easily more sophisticated approaches can be realized in JAC.\n",
    "\n",
    "At present, only a `Cascade.AverageSCA()` approach has been realized, telling JAC that every electron configuration is treated independently to a single multiplet and without configuration mixing; in addition, here all continuum electrons are generated for an averaged energy between two such configurations. A few further assumptions are later recalled during the run, when the `Cascade.Computation` is performed. In the `Cascade.SCA` approach, later to be implemented, we shall allow full configuration mixing *within* each configuration as well as an improved treatment of the continuum orbitals."
   ]
  },
  {
   "cell_type": "code",
   "execution_count": 5,
   "metadata": {},
   "outputs": [
    {
     "data": {
      "text/latex": [
       "\\texttt{abstract type Cascade.AbstractCascadeApproach}      ... defines an abstract and a number of singleton types for the computational approach/model that is applied to          generate and evaluate a cascade.\n",
       "\n",
       "\\begin{itemize}\n",
       "\\item struct AverageSCA          ... to evaluate the level structure and transitions of all involved levels in single-configuration approach but      without configuration interaction and from just a single orbital set.\n",
       "\n",
       "\n",
       "\\item struct SCA                 ... to evaluate the level structure and transitions of all involved levels in single-configuration approach but      by calculating all fine-structure resolved transitions.\n",
       "\n",
       "\\end{itemize}\n"
      ],
      "text/markdown": [
       "`abstract type Cascade.AbstractCascadeApproach`      ... defines an abstract and a number of singleton types for the computational approach/model that is applied to          generate and evaluate a cascade.\n",
       "\n",
       "  * struct AverageSCA          ... to evaluate the level structure and transitions of all involved levels in single-configuration approach but      without configuration interaction and from just a single orbital set.\n",
       "  * struct SCA                 ... to evaluate the level structure and transitions of all involved levels in single-configuration approach but      by calculating all fine-structure resolved transitions.\n"
      ],
      "text/plain": [
       "  \u001b[36mabstract type Cascade.AbstractCascadeApproach\u001b[39m ... defines an abstract and a\n",
       "  number of singleton types for the computational approach/model that is\n",
       "  applied to generate and evaluate a cascade.\n",
       "\n",
       "    •    struct AverageSCA ... to evaluate the level structure and\n",
       "        transitions of all involved levels in single-configuration\n",
       "        approach but without configuration interaction and from just a\n",
       "        single orbital set.\n",
       "\n",
       "    •    struct SCA ... to evaluate the level structure and transitions of\n",
       "        all involved levels in single-configuration approach but by\n",
       "        calculating all fine-structure resolved transitions."
      ]
     },
     "execution_count": 5,
     "metadata": {},
     "output_type": "execute_result"
    }
   ],
   "source": [
    "? Cascade.AbstractCascadeApproach"
   ]
  },
  {
   "cell_type": "markdown",
   "metadata": {},
   "source": [
    "Keeping this information in mind, we can now define a `Cascade.Computation` as appropriate for our example above:"
   ]
  },
  {
   "cell_type": "code",
   "execution_count": 6,
   "metadata": {
    "scrolled": true
   },
   "outputs": [
    {
     "data": {
      "text/plain": [
       "Cascade computation   Cascade after neon 1s --> 3p excitation  for a stepwise decay scheme,  in JAC.Cascade.AverageSCA() approach as well as for Z = 10.0 and initial configurations: \n",
       " 1s^1 2s^2 2p^6 3p^1 ,  \n",
       " ... in addition, the following parameters/settings are defined: \n",
       "> cascade scheme:           Stepwise decay (scheme) of an atomic cascade with:\n",
       "processes:                  JAC.Basics.AbstractProcess[Auger(), Radiative()]  \n",
       "maxElectronLoss:            5  \n",
       "NoShakeDisplacements:       0  \n",
       "shakeFromShells:            Shell[]  \n",
       "shakeToShells:              Shell[]  \n",
       "  \n",
       "> nuclearModel:             Fermi nuclear model for Z = 10.0 with mass = 20.5, radius R = 2.8580081360657426 fm and nuclear spin I = 0, dipole moment mu = 0.0 and quadrupole moment Q = 0.0.  \n",
       "> grid:                     Radial grid:  rnt = 2.0e-6,  h = 0.05,  hp = 0.02,  NoPoints = 600, orderL = 7,  orderS = 8,  nsL = 92,  nsS = 93,  mesh = JAC.Radial.MeshGL(), ...  \n",
       "r:    [0.0, 2.13271e-8, 1.08315e-7]  ...  [6.16211, 6.18417, 6.19782]\n",
       "wr:   [0.0, 5.42626e-8, 1.17215e-7]  ...  [0.0250922, 0.018381, 0.00850917]\n",
       "t:    [0.0, 0.0, 0.0]  ...  [6.20116, 6.20116, 6.20116]  \n",
       "> asfSettings:            \n",
       "generateScf:          false  \n",
       "breitScf:             false  \n",
       "methodScf:            JAC.Basics.DFSField()  \n",
       "startScf:             hydrogenic  \n",
       "startOrbitals:        Dict{Subshell,Orbital}()  \n",
       "levelsScf:            [1]  \n",
       "maxIterationsScf:     24  \n",
       "accuracyScf:          1.0e-6  \n",
       "shellSequenceScf:     Subshell[]  \n",
       "frozenSubshells:      Subshell[]  \n",
       "coulombCI:            true  \n",
       "breitCI:              false  \n",
       "qedModel :            NoneQed()  \n",
       "methodCI:             eigen  \n",
       "jjLS :                false  \n",
       "selectLevelsCI:       false  \n",
       "selectedLevelsCI:     Int64[]  \n",
       "selectSymmetriesCI:   false  \n",
       "selectedSymmetriesCI: LevelSymmetry[]  \n",
       " \n"
      ]
     },
     "execution_count": 6,
     "metadata": {},
     "output_type": "execute_result"
    }
   ],
   "source": [
    "name = \"Cascade after neon 1s --> 3p excitation\"\n",
    "grid = Radial.Grid(false)\n",
    "wa   = Cascade.Computation(Cascade.Computation(); name=name, nuclearModel=Nuclear.Model(10.), grid=grid, \n",
    "                           approach=Cascade.AverageSCA(),\n",
    "                           scheme=Cascade.StepwiseDecayScheme([Auger(), Radiative()], 5, 0, Shell[], Shell[]),\n",
    "                           initialConfigs=[Configuration(\"1s^1 2s^2 2p^6 3p\")] )\n"
   ]
  },
  {
   "cell_type": "markdown",
   "metadata": {},
   "source": [
    "Although the output looks a bit cumbersome and may require some futher insight into the internal structure of JAC, it briefly reports about all internal settings for the given computation. Owing to the complexity of most cascade computations, it is often important to check that all details are communicated properly from the user to the program as well as *within* the program. For our example, it is sufficient to `perform(comp::Cascade.Computation)` but with the optional parameter `output=true` in order to be able to use the data for a subsequent cascade simulation. In addition, we here specify that some additional information will be printed to a summary file; in contrast to most `Atomic.Computations`, this summary file is more detailed that the standard (lo) output in order to enable the user to check that all parts of the computation were done properly (this is the *price of complexity*). \n",
    "\n",
    "We can run the computation by:"
   ]
  },
  {
   "cell_type": "code",
   "execution_count": 7,
   "metadata": {
    "scrolled": true
   },
   "outputs": [
    {
     "name": "stdout",
     "output_type": "stream",
     "text": [
      "Start SCF process with hydrogenic orbitals.\n",
      "  reset GBL_Storage_XL_Breit storage ...\n",
      ">> performCI() ...   0.571520 seconds (486.98 k allocations: 22.274 MiB, 0.43% gc time)\n",
      "  reset GBL_Storage_XL_Breit storage ...\n",
      ">> performCI() ...   0.227875 seconds (73.03 k allocations: 1.456 MiB)\n",
      "  reset GBL_Storage_XL_Breit storage ...\n",
      ">> performCI() ...   0.305435 seconds (150.24 k allocations: 2.979 MiB)\n",
      " \n",
      "* Configurations and levels for all given initial multiplets of the cascade, relative to the lowest:\n",
      "  \n",
      "  Configuration: 1s^1 2s^2 2p^6 3p^1 \n",
      "  --------------------------------------------\n",
      "    Level  J Parity          Energy [eV]\n",
      "  --------------------------------------------\n",
      "       1     0 -      0.000000000000000e+00 \n",
      "       2     1 -      2.414858959309364e-03 \n",
      "       3     2 -      7.422776175139396e-03 \n",
      "       4     1 -      2.226188058198399e-01 \n",
      "  --------------------------------------------\n",
      "\n",
      "* Electron configuration used in the decay cascade:\n",
      "\n",
      "  Configuration(s) with 10 electrons:\n",
      "      1s^1 2s^2 2p^6 3p^1    av. BE = -1099.0  [eV]      (1)\n",
      "      1s^2 2s^1 2p^6 3p^1    av. BE = -1921.0  [eV]      (2)\n",
      "\n",
      "  Configuration(s) with 9 electrons:\n",
      "      1s^2 2s^0 2p^6 3p^1    av. BE = -1872.0  [eV]      (3)\n",
      "      1s^2 2s^1 2p^5 3p^1    av. BE = -1899.0  [eV]      (4)\n",
      "\n",
      "  Configuration(s) with 8 electrons:\n",
      "      1s^2 2s^1 2p^4 3p^1    av. BE = -1878.0  [eV]      (5)\n",
      "      1s^2 2s^1 2p^5 3p^0    av. BE = -1897.0  [eV]      (6)\n",
      "\n",
      "  Configuration(s) with 7 electrons:\n",
      "      1s^2 2s^2 2p^2 3p^1    av. BE = -1883.0  [eV]      (7)\n",
      "      1s^2 2s^2 2p^3 3p^0    av. BE = -1902.0  [eV]      (8)\n",
      "\n",
      "  A total of 8 configuration have been defined for this decay cascade, and selected configurations could be removed here:  [currently not supported]\n",
      "\n",
      "* Generate blocks for the decay cascade:\n",
      "\n",
      "  In the cascade approach JAC.Cascade.AverageSCA(), the following assumptions/simplifications are made: \n",
      "    + orbitals from the initial multiplet are applied throughout; \n",
      "    + all blocks (multiplets) are generated from single-CSF levels and without any configuration mixing even in the SC; \n",
      "    + only E1 dipole transitions are applied in all radiative decay stets; \n",
      "    + for each decay step, a (single) set of continuum orbitals with an configuration averaged energy is applied for all transitions of the same step. \n",
      "\n",
      "  Multiplet computations for 1s^1 2s^2 2p^6 3p^1  with 10 electrons ... and 4 CSF done. "
     ]
    },
    {
     "name": "stderr",
     "output_type": "stream",
     "text": [
      "┌ Warning: *** Limit to just 2 configurations for each No. of electrons. ***\n",
      "└ @ JAC.Cascade /home/fritzsch/fri/JAC.jl/src/module-Cascade-inc-computations.jl:550\n"
     ]
    },
    {
     "name": "stdout",
     "output_type": "stream",
     "text": [
      "\n",
      "  Multiplet computations for 1s^2 2s^1 2p^6 3p^1  with 10 electrons ... and 4 CSF done. \n",
      "  Multiplet computations for 1s^2 2s^0 2p^6 3p^1  with 9 electrons ... and 2 CSF done. \n",
      "  Multiplet computations for 1s^2 2s^1 2p^5 3p^1  with 9 electrons ... and 18 CSF done. \n",
      "  Multiplet computations for 1s^2 2s^1 2p^4 3p^1  with 8 electrons ... and 42 CSF done. \n",
      "  Multiplet computations for 1s^2 2s^1 2p^5 3p^0  with 8 electrons ... and 4 CSF done. \n",
      "  Multiplet computations for 1s^2 2s^2 2p^2 3p^1  with 7 electrons ... and 21 CSF done. \n",
      "  Multiplet computations for 1s^2 2s^2 2p^3 3p^0  with 7 electrons ... and 5 CSF done. \n",
      "\n",
      "* Configuration 'blocks' (multiplets) for the decay cascade in the given (cascade) model: \n",
      "\n",
      "  --------------------------------------------------------------------------------------------------------------------------------------\n",
      "      No.   Configurations                                                                             Range of total energies [eV]\n",
      "  --------------------------------------------------------------------------------------------------------------------------------------\n",
      "        1   1s^1 2s^2 2p^6 3p^1                                                                        -2632.0 ... -2632.0             \n",
      "        2   1s^2 2s^1 2p^6 3p^1                                                                        -3443.0 ... -3442.0             \n",
      "        3   1s^2 2s^0 2p^6 3p^1                                                                        -3384.0 ... -3384.0             \n",
      "        4   1s^2 2s^1 2p^5 3p^1                                                                        -3421.0 ... -3412.0             \n",
      "        5   1s^2 2s^1 2p^4 3p^1                                                                        -3368.0 ... -3356.0             \n",
      "        6   1s^2 2s^1 2p^5 3p^0                                                                        -3412.0 ... -3404.0             \n",
      "        7   1s^2 2s^2 2p^2 3p^1                                                                        -3303.0 ... -3296.0             \n",
      "        8   1s^2 2s^2 2p^3 3p^0                                                                        -3374.0 ... -3368.0             \n",
      "  --------------------------------------------------------------------------------------------------------------------------------------\n",
      " \n",
      "* Steps that are defined for the current decay cascade due to the given approach:\n",
      " \n",
      "  --------------------------------------------------------------------------------------------------------------------------------------------------------------------------\n",
      "   Step-No   Process     Initial:  No CSF, configuration(s)                         Final:  No CSF, configuration(s)                           Energies from ... to in [eV]                \n",
      "  --------------------------------------------------------------------------------------------------------------------------------------------------------------------------\n",
      "       1     Radiative     4, 1s^1 2s^2 2p^6 3p^1                                     4, 1s^2 2s^1 2p^6 3p^1                                   810.0 ... 811.0\n",
      "       2     Auger         4, 1s^1 2s^2 2p^6 3p^1                                     2, 1s^2 2s^0 2p^6 3p^1                                   752.0 ... 752.0\n",
      "       3     Auger         4, 1s^1 2s^2 2p^6 3p^1                                    18, 1s^2 2s^1 2p^5 3p^1                                   780.0 ... 789.0\n",
      "       4     Radiative     2, 1s^2 2s^0 2p^6 3p^1                                    18, 1s^2 2s^1 2p^5 3p^1                                   28.0 ... 37.0\n",
      "       5     Auger         2, 1s^2 2s^0 2p^6 3p^1                                     4, 1s^2 2s^1 2p^5 3p^0                                   20.0 ... 28.0\n",
      "       6     Radiative    42, 1s^2 2s^1 2p^4 3p^1                                     4, 1s^2 2s^1 2p^5 3p^0                                   37.0 ... 56.0\n",
      "       7     Radiative    21, 1s^2 2s^2 2p^2 3p^1                                     5, 1s^2 2s^2 2p^3 3p^0                                   65.0 ... 77.0\n",
      "  --------------------------------------------------------------------------------------------------------------------------------------------------------------------------\n",
      "\n",
      "* Here, modify the individual steps explicitly in the code, if needed, ...... and just do it !!\n",
      "\n",
      "  A total of 7 steps are still defined in the cascade.\n",
      "\n",
      "  1) Perform Radiative amplitude computations for up to 16 decay lines (without selection rules): \n",
      "     Step 1:: A total of 0 Radiative lines are calculated, giving now rise to a total of 0 Radiative decay lines.\n",
      "\n",
      "  2) Perform Auger amplitude computations for up to 8 decay lines (without selection rules): \n",
      "     Step 2:: A total of 8 Auger lines are calculated, giving now rise to a total of 8 Auger decay lines.\n",
      "\n",
      "  3) Perform Auger amplitude computations for up to 72 decay lines (without selection rules): \n",
      "> Auger line 10:  ... not calculated \n",
      "> Auger line 20:  ... not calculated \n",
      "> Auger line 30:  ... not calculated \n",
      "> Auger line 40:  ... not calculated \n",
      "> Auger line 50:  ... not calculated \n",
      "> Auger line 60:  ... not calculated \n",
      "> Auger line 70:  ... not calculated \n",
      "     Step 3:: A total of 72 Auger lines are calculated, giving now rise to a total of 80 Auger decay lines.\n",
      "\n",
      "  4) Perform Radiative amplitude computations for up to 36 decay lines (without selection rules): \n",
      "> Radiative line 10:\n",
      "> Radiative line 20:\n",
      "> Radiative line 30:\n",
      "     Step 4:: A total of 10 Radiative lines are calculated, giving now rise to a total of 10 Radiative decay lines.\n",
      "\n",
      "  5) Perform Auger amplitude computations for up to 8 decay lines (without selection rules): \n",
      "     Step 5:: A total of 8 Auger lines are calculated, giving now rise to a total of 88 Auger decay lines.\n",
      "\n",
      "  6) Perform Radiative amplitude computations for up to 168 decay lines (without selection rules): \n",
      "     Step 6:: A total of 0 Radiative lines are calculated, giving now rise to a total of 10 Radiative decay lines.\n",
      "\n",
      "  7) Perform Radiative amplitude computations for up to 105 decay lines (without selection rules): \n",
      "     Step 7:: A total of 0 Radiative lines are calculated, giving now rise to a total of 10 Radiative decay lines.\n",
      "\n",
      "* Write all results to disk; use:\n",
      "   JLD.save(''zzz-cascade-decay-computations-2020-05-27T10.jld'', results) \n",
      "   using JLD \n",
      "   results = JLD.load(''zzz-cascade-decay-computations-2020-05-27T10.jld'')    ... to load the results back from file.\n"
     ]
    }
   ],
   "source": [
    "setDefaults(\"print summary: open\", \"15-cascade-computation-following-decay.sum\")\n",
    "wb = perform(wa; output=true)\n",
    "\n",
    "setDefaults(\"print summary: close\", \"\")"
   ]
  },
  {
   "cell_type": "markdown",
   "metadata": {},
   "source": [
    "**At present, no real transition data are calculated but all rates are set arbitrarely to some constant;** of course, this will affect the subsequent simulations. Moreover, the last few lines of this output indicate that the results are (usually) also written to some external file (by using `JLD2`) from which these data can later be read-in in order to make different simulations on these data possible. Usually, the cascade tree *computations* are 2-4 orders of magnitude (computationally) more expensive than the cascade simulations.\n",
    "\n",
    "The output above tells that, for the given example, the cascade tree is built upon 372 Auger lines and 474 photon emission lines, and with even a much larger number of transition amplitudes since several channels may contribute to each line. These numbers can easily increase to several 10.000 or even more lines for complex cascades."
   ]
  },
  {
   "cell_type": "markdown",
   "metadata": {},
   "source": [
    "As seen above, all results are also returned in the dictionary `wb` from which the subsequent simulations may start."
   ]
  },
  {
   "cell_type": "code",
   "execution_count": 8,
   "metadata": {},
   "outputs": [
    {
     "data": {
      "text/plain": [
       "Dict{String,Any} with 5 entries:\n",
       "  \"name\"                  => \"Cascade after neon 1s --> 3p excitation\"\n",
       "  \"initial multiplets:\"   => Multiplet[name:        initial states  …\n",
       "  \"cascade scheme\"        => Stepwise decay (scheme) of an atomic cascade with:…\n",
       "  \"generated multiplets:\" => Multiplet[name:        noName  …\n",
       "  \"decay line data:\"      => linesR:                  JAC.PhotoEmission.Line[in…"
      ]
     },
     "execution_count": 8,
     "metadata": {},
     "output_type": "execute_result"
    }
   ],
   "source": [
    "wb"
   ]
  },
  {
   "cell_type": "markdown",
   "metadata": {},
   "source": [
    "We now come to the **second part of the cascade calcuations,** the `Cascade.Simulation`:"
   ]
  },
  {
   "cell_type": "code",
   "execution_count": 9,
   "metadata": {},
   "outputs": [
    {
     "data": {
      "text/latex": [
       "\\texttt{struct  Cascade.Simulation}  ... defines a simulation on some given cascade (data).\n",
       "\n",
       "\\begin{verbatim}\n",
       "+ name            ::String                                      ... Name of the simulation\n",
       "+ properties      ::Array{Cascade.AbstractSimulationProperty,1} ... Properties that are considered in this \n",
       "                                                                    simulation of the cascade (data).\n",
       "+ method          ::Cascade.AbstractSimulationMethod    ... Method that is used in the cascade simulation; \n",
       "                                                            cf. Cascade.SimulationMethod.\n",
       "+ settings        ::Cascade.SimulationSettings          ... Settings for performing these simulations.\n",
       "+ computationData ::Array{Dict{String,Any},1}           ... Date on which the simulations are performed\n",
       "\\end{verbatim}\n",
       "\\rule{\\textwidth}{1pt}\n",
       "\\texttt{Cascade.Simulation()}  ... constructor for an 'default' instance of a Cascade.Simulation.\n",
       "\n",
       "\\rule{\\textwidth}{1pt}\n",
       "\\texttt{Cascade.Simulation(sim::Cascade.Simulation;}\n",
       "\n",
       "\\begin{verbatim}\n",
       "        name=..,               properties=..,             method=..,              settings=..,     computationData=.. )\n",
       "        \n",
       "... constructor for re-defining the computation::Cascade.Simulation.\n",
       "\\end{verbatim}\n"
      ],
      "text/markdown": [
       "`struct  Cascade.Simulation`  ... defines a simulation on some given cascade (data).\n",
       "\n",
       "```\n",
       "+ name            ::String                                      ... Name of the simulation\n",
       "+ properties      ::Array{Cascade.AbstractSimulationProperty,1} ... Properties that are considered in this \n",
       "                                                                    simulation of the cascade (data).\n",
       "+ method          ::Cascade.AbstractSimulationMethod    ... Method that is used in the cascade simulation; \n",
       "                                                            cf. Cascade.SimulationMethod.\n",
       "+ settings        ::Cascade.SimulationSettings          ... Settings for performing these simulations.\n",
       "+ computationData ::Array{Dict{String,Any},1}           ... Date on which the simulations are performed\n",
       "```\n",
       "\n",
       "---\n",
       "\n",
       "`Cascade.Simulation()`  ... constructor for an 'default' instance of a Cascade.Simulation.\n",
       "\n",
       "---\n",
       "\n",
       "`Cascade.Simulation(sim::Cascade.Simulation;`\n",
       "\n",
       "```\n",
       "        name=..,               properties=..,             method=..,              settings=..,     computationData=.. )\n",
       "        \n",
       "... constructor for re-defining the computation::Cascade.Simulation.\n",
       "```\n"
      ],
      "text/plain": [
       "  \u001b[36mstruct  Cascade.Simulation\u001b[39m ... defines a simulation on some given cascade\n",
       "  (data).\n",
       "\n",
       "\u001b[36m  + name            ::String                                      ... Name of the simulation\u001b[39m\n",
       "\u001b[36m  + properties      ::Array{Cascade.AbstractSimulationProperty,1} ... Properties that are considered in this \u001b[39m\n",
       "\u001b[36m                                                                      simulation of the cascade (data).\u001b[39m\n",
       "\u001b[36m  + method          ::Cascade.AbstractSimulationMethod    ... Method that is used in the cascade simulation; \u001b[39m\n",
       "\u001b[36m                                                              cf. Cascade.SimulationMethod.\u001b[39m\n",
       "\u001b[36m  + settings        ::Cascade.SimulationSettings          ... Settings for performing these simulations.\u001b[39m\n",
       "\u001b[36m  + computationData ::Array{Dict{String,Any},1}           ... Date on which the simulations are performed\u001b[39m\n",
       "\n",
       "  ────────────────────────────────────────────────────────────────────────────\n",
       "\n",
       "  \u001b[36mCascade.Simulation()\u001b[39m ... constructor for an 'default' instance of a\n",
       "  Cascade.Simulation.\n",
       "\n",
       "  ────────────────────────────────────────────────────────────────────────────\n",
       "\n",
       "  \u001b[36mCascade.Simulation(sim::Cascade.Simulation;\u001b[39m\n",
       "\n",
       "\u001b[36m          name=..,               properties=..,             method=..,              settings=..,     computationData=.. )\u001b[39m\n",
       "\u001b[36m          \u001b[39m\n",
       "\u001b[36m  ... constructor for re-defining the computation::Cascade.Simulation.\u001b[39m"
      ]
     },
     "execution_count": 9,
     "metadata": {},
     "output_type": "execute_result"
    }
   ],
   "source": [
    "? Cascade.Simulation"
   ]
  },
  {
   "cell_type": "markdown",
   "metadata": {},
   "source": [
    "For a cascade simulation, we need to specify a `name` (string), the `properties::Array{Cascade.AbstractSimulationProperty,1}` to be simulated and the `method::Cascade.AbstractSimulationMethod`. The `properties` tell which observables are to be extracted from the given cascade tree data:"
   ]
  },
  {
   "cell_type": "code",
   "execution_count": 10,
   "metadata": {},
   "outputs": [
    {
     "data": {
      "text/latex": [
       "\\texttt{abstract type  Cascade.AbstractSimulationProperty}       ... defines an abstract and various singleton types for the different properties that can be obtained from the simulation of cascade data.\n",
       "\n",
       "\\begin{verbatim}\n",
       "+ struct IonDistribution         ... simulate the 'ion distribution' as it is found after all cascade \n",
       "                                     processes are completed.\n",
       "+ struct FinalLevelDistribution  ... simulate the 'final-level distribution' as it is found after all cascade \n",
       "                                     processes are completed.\n",
       "+ struct DecayPathes             ... determine the major 'decay pathes' of the cascade.\n",
       "+ struct ElectronIntensities     ... simulate the electron-line intensities as function of electron energy.\n",
       "+ struct PhotonIntensities       ... simulate  the photon-line intensities as function of electron energy. \n",
       "+ struct ElectronCoincidence     ... simulate electron-coincidence spectra.\n",
       "\\end{verbatim}\n"
      ],
      "text/markdown": [
       "`abstract type  Cascade.AbstractSimulationProperty`       ... defines an abstract and various singleton types for the different properties that can be obtained from the simulation of cascade data.\n",
       "\n",
       "```\n",
       "+ struct IonDistribution         ... simulate the 'ion distribution' as it is found after all cascade \n",
       "                                     processes are completed.\n",
       "+ struct FinalLevelDistribution  ... simulate the 'final-level distribution' as it is found after all cascade \n",
       "                                     processes are completed.\n",
       "+ struct DecayPathes             ... determine the major 'decay pathes' of the cascade.\n",
       "+ struct ElectronIntensities     ... simulate the electron-line intensities as function of electron energy.\n",
       "+ struct PhotonIntensities       ... simulate  the photon-line intensities as function of electron energy. \n",
       "+ struct ElectronCoincidence     ... simulate electron-coincidence spectra.\n",
       "```\n"
      ],
      "text/plain": [
       "  \u001b[36mabstract type  Cascade.AbstractSimulationProperty\u001b[39m ... defines an abstract\n",
       "  and various singleton types for the different properties that can be\n",
       "  obtained from the simulation of cascade data.\n",
       "\n",
       "\u001b[36m  + struct IonDistribution         ... simulate the 'ion distribution' as it is found after all cascade \u001b[39m\n",
       "\u001b[36m                                       processes are completed.\u001b[39m\n",
       "\u001b[36m  + struct FinalLevelDistribution  ... simulate the 'final-level distribution' as it is found after all cascade \u001b[39m\n",
       "\u001b[36m                                       processes are completed.\u001b[39m\n",
       "\u001b[36m  + struct DecayPathes             ... determine the major 'decay pathes' of the cascade.\u001b[39m\n",
       "\u001b[36m  + struct ElectronIntensities     ... simulate the electron-line intensities as function of electron energy.\u001b[39m\n",
       "\u001b[36m  + struct PhotonIntensities       ... simulate  the photon-line intensities as function of electron energy. \u001b[39m\n",
       "\u001b[36m  + struct ElectronCoincidence     ... simulate electron-coincidence spectra.\u001b[39m"
      ]
     },
     "execution_count": 10,
     "metadata": {},
     "output_type": "execute_result"
    }
   ],
   "source": [
    "? Cascade.AbstractSimulationProperty"
   ]
  },
  {
   "cell_type": "markdown",
   "metadata": {},
   "source": [
    "At present, only the first two of these properties have been implemented in detail in JAC. For the `method`, similarly, only the **propagation of the probabilities** is currently supported:"
   ]
  },
  {
   "cell_type": "code",
   "execution_count": 11,
   "metadata": {},
   "outputs": [
    {
     "data": {
      "text/latex": [
       "abstract type  Cascade.AbstractSimulationMethod`       ... defines a enumeration for the various methods that can be used to run the simulation of cascade data.\n",
       "\n",
       "\\begin{verbatim}\n",
       "+ struct ProbPropagation     ... to propagate the (occupation) probabilites of the levels until no further \n",
       "                                 changes occur.\n",
       "+ struct MonteCarlo          ... to simulate the cascade decay by a Monte-Carlo approach of possible \n",
       "                                 pathes (not yet considered).\n",
       "+ struct RateEquations       ... to solve the cascade by a set of rate equations (not yet considered).\n",
       "\\end{verbatim}\n"
      ],
      "text/markdown": [
       "abstract type  Cascade.AbstractSimulationMethod`       ... defines a enumeration for the various methods that can be used to run the simulation of cascade data.\n",
       "\n",
       "```\n",
       "+ struct ProbPropagation     ... to propagate the (occupation) probabilites of the levels until no further \n",
       "                                 changes occur.\n",
       "+ struct MonteCarlo          ... to simulate the cascade decay by a Monte-Carlo approach of possible \n",
       "                                 pathes (not yet considered).\n",
       "+ struct RateEquations       ... to solve the cascade by a set of rate equations (not yet considered).\n",
       "```\n"
      ],
      "text/plain": [
       "  abstract type Cascade.AbstractSimulationMethod` ... defines a enumeration\n",
       "  for the various methods that can be used to run the simulation of cascade\n",
       "  data.\n",
       "\n",
       "\u001b[36m  + struct ProbPropagation     ... to propagate the (occupation) probabilites of the levels until no further \u001b[39m\n",
       "\u001b[36m                                   changes occur.\u001b[39m\n",
       "\u001b[36m  + struct MonteCarlo          ... to simulate the cascade decay by a Monte-Carlo approach of possible \u001b[39m\n",
       "\u001b[36m                                   pathes (not yet considered).\u001b[39m\n",
       "\u001b[36m  + struct RateEquations       ... to solve the cascade by a set of rate equations (not yet considered).\u001b[39m"
      ]
     },
     "execution_count": 11,
     "metadata": {},
     "output_type": "execute_result"
    }
   ],
   "source": [
    "? Cascade.AbstractSimulationMethod"
   ]
  },
  {
   "cell_type": "markdown",
   "metadata": {},
   "source": [
    "In addition, we also need to specify the `settings::Cascade.SimulationSettings` for this simulation:"
   ]
  },
  {
   "cell_type": "code",
   "execution_count": 12,
   "metadata": {},
   "outputs": [
    {
     "data": {
      "text/latex": [
       "\\texttt{struct  Cascade.SimulationSettings}  ... defines settings for performing the simulation of some cascade (data).\n",
       "\n",
       "\\begin{verbatim}\n",
       "+ minElectronEnergy   ::Float64     ... Minimum electron energy for the simulation of electron spectra.\n",
       "+ maxElectronEnergy   ::Float64     ... Maximum electron energy for the simulation of electron spectra.\n",
       "+ minPhotonEnergy     ::Float64     ... Minimum photon energy for the simulation of electron spectra.\n",
       "+ maxPhotonEnergy     ::Float64     ... Maximum photon energy for the simulation of electron spectra.\n",
       "+ initialPhotonEnergy ::Float64     ... Photon energy for which photoionization data are considered. \n",
       "+ initialOccupations  ::Array{Tuple{Int64,Float64},1}   ... List of one or several (tupels of) levels \n",
       "                                    in the overall cascade tree together with their relative population.\n",
       "\\end{verbatim}\n",
       "\\rule{\\textwidth}{1pt}\n",
       "\\texttt{Cascade.SimulationSettings()}  ... constructor for an 'empty' instance of a Cascade.Block.\n",
       "\n"
      ],
      "text/markdown": [
       "`struct  Cascade.SimulationSettings`  ... defines settings for performing the simulation of some cascade (data).\n",
       "\n",
       "```\n",
       "+ minElectronEnergy   ::Float64     ... Minimum electron energy for the simulation of electron spectra.\n",
       "+ maxElectronEnergy   ::Float64     ... Maximum electron energy for the simulation of electron spectra.\n",
       "+ minPhotonEnergy     ::Float64     ... Minimum photon energy for the simulation of electron spectra.\n",
       "+ maxPhotonEnergy     ::Float64     ... Maximum photon energy for the simulation of electron spectra.\n",
       "+ initialPhotonEnergy ::Float64     ... Photon energy for which photoionization data are considered. \n",
       "+ initialOccupations  ::Array{Tuple{Int64,Float64},1}   ... List of one or several (tupels of) levels \n",
       "                                    in the overall cascade tree together with their relative population.\n",
       "```\n",
       "\n",
       "---\n",
       "\n",
       "`Cascade.SimulationSettings()`  ... constructor for an 'empty' instance of a Cascade.Block.\n"
      ],
      "text/plain": [
       "  \u001b[36mstruct  Cascade.SimulationSettings\u001b[39m ... defines settings for performing the\n",
       "  simulation of some cascade (data).\n",
       "\n",
       "\u001b[36m  + minElectronEnergy   ::Float64     ... Minimum electron energy for the simulation of electron spectra.\u001b[39m\n",
       "\u001b[36m  + maxElectronEnergy   ::Float64     ... Maximum electron energy for the simulation of electron spectra.\u001b[39m\n",
       "\u001b[36m  + minPhotonEnergy     ::Float64     ... Minimum photon energy for the simulation of electron spectra.\u001b[39m\n",
       "\u001b[36m  + maxPhotonEnergy     ::Float64     ... Maximum photon energy for the simulation of electron spectra.\u001b[39m\n",
       "\u001b[36m  + initialPhotonEnergy ::Float64     ... Photon energy for which photoionization data are considered. \u001b[39m\n",
       "\u001b[36m  + initialOccupations  ::Array{Tuple{Int64,Float64},1}   ... List of one or several (tupels of) levels \u001b[39m\n",
       "\u001b[36m                                      in the overall cascade tree together with their relative population.\u001b[39m\n",
       "\n",
       "  ────────────────────────────────────────────────────────────────────────────\n",
       "\n",
       "  \u001b[36mCascade.SimulationSettings()\u001b[39m ... constructor for an 'empty' instance of a\n",
       "  Cascade.Block."
      ]
     },
     "execution_count": 12,
     "metadata": {},
     "output_type": "execute_result"
    }
   ],
   "source": [
    "? Cascade.SimulationSettings"
   ]
  },
  {
   "cell_type": "markdown",
   "metadata": {},
   "source": [
    "as well as the (cascade tree) data from the previous steps. Generally, data from different `Cascade.Computation()` can be combined, though care has to be taken that all these data fit properly together. Although various tests are made, it appears very difficult to recognize all mistakes that can be made by the user.\n",
    "\n",
    "In the present example, all this input is quite simple:"
   ]
  },
  {
   "cell_type": "code",
   "execution_count": 13,
   "metadata": {},
   "outputs": [
    {
     "data": {
      "text/plain": [
       "name:              Simulation of the neon 1s^-1 3p decay  \n",
       "properties:        JAC.Cascade.AbstractSimulationProperty[IonDistribution(), FinalLevelDistribution()]  \n",
       "method:            JAC.Cascade.ProbPropagation()  \n",
       "computationData:   ... based on 1 cascade data sets \n",
       "> settings:      \n",
       "minElectronEnergy:        0.0  \n",
       "maxElectronEnergy:        0.0  \n",
       "minPhotonEnergy:          0.0  \n",
       "maxPhotonEnergy:          0.0  \n",
       "initialPhotonEnergy:      0.0  \n",
       "initialOccupations:       Tuple{Int64,Float64}[(1, 2.0), (2, 1.0), (3, 0.5)]  \n",
       "  \n"
      ]
     },
     "execution_count": 13,
     "metadata": {},
     "output_type": "execute_result"
    }
   ],
   "source": [
    "data = [wb]\n",
    "name = \"Simulation of the neon 1s^-1 3p decay\"\n",
    "\n",
    "wc   = Cascade.Simulation(Cascade.Simulation(), name=name, \n",
    "                          properties=Cascade.AbstractSimulationProperty[Cascade.IonDistribution(), \n",
    "                                                                        Cascade.FinalLevelDistribution()], \n",
    "                          settings=Cascade.SimulationSettings(0., 0., 0., 0., 0., [(1, 2.0), (2, 1.0), (3, 0.5)]), \n",
    "                          computationData=data )"
   ]
  },
  {
   "cell_type": "markdown",
   "metadata": {},
   "source": [
    "Apparently, we here request for the **simulation of the ion distribution** as well as **final-level distribution** of this cascade; the initial occupation of the first tree levels is given rather arbitrary and should be defined due to physical insights into the prior excitation process.\n",
    "\n",
    "As before, we have to `perform(sim::Cascade.Simulation)`"
   ]
  },
  {
   "cell_type": "code",
   "execution_count": 14,
   "metadata": {
    "scrolled": true
   },
   "outputs": [
    {
     "name": "stdout",
     "output_type": "stream",
     "text": [
      "\n",
      "* 1) Data dictionary for cascade computation:   Cascade after neon 1s --> 3p excitation  with  4 initial and  100 generated levels\n",
      "  ===========================================\n",
      " \n",
      "* Configurations and levels for all given initial multiplets of the cascade, relative to the lowest:\n",
      "  \n",
      "  Configuration: 1s^1 2s^2 2p^6 3p^1 \n",
      "  --------------------------------------------\n",
      "    Level  J Parity          Energy [eV]\n",
      "  --------------------------------------------\n",
      "       1     0 -      0.000000000000000e+00 \n",
      "       2     1 -      2.414858959309364e-03 \n",
      "       3     2 -      7.422776175139396e-03 \n",
      "       4     1 -      2.226188058198399e-01 \n",
      "  --------------------------------------------\n",
      "> Extract and sort the list of levels for the given decay data ... a total of 28 levels were found.\n",
      "> Append 28 (new) levels to 0 levels results in a total of 28 levels (with 0 modified levels) in the list.\n",
      "> Sort and assign occupation to a total of 28 levels, and to which all level numbers refer below.\n",
      "   Here all charged states are considered together in the overall cascade.\n",
      " \n",
      "* Level tree of this cascade:  **name ?? **\n",
      " \n",
      "  -----------------------------------------------------------------\n",
      "  No. e-   Lev-No    J^P      Energy [eV]     Rel. occ.   \n",
      "  -----------------------------------------------------------------\n",
      "    10        1    1 -        -2.63190e+03    2.0000e+00  \n",
      "              2    1 -        -2.63198e+03    1.0000e+00  \n",
      "              3    2 -        -2.63205e+03    5.0000e-01  \n",
      "              4    0 -        -2.63206e+03    0.0000e+00  \n",
      "     9        5    3/2 -      -3.38387e+03    0.0000e+00  \n",
      "              6    1/2 -      -3.38388e+03    0.0000e+00  \n",
      "             10    1/2 +      -3.41207e+03    0.0000e+00  \n",
      "             12    3/2 +      -3.41263e+03    0.0000e+00  \n",
      "             13    3/2 +      -3.41271e+03    0.0000e+00  \n",
      "             14    5/2 +      -3.41275e+03    0.0000e+00  \n",
      "             15    1/2 +      -3.41275e+03    0.0000e+00  \n",
      "             16    1/2 +      -3.41584e+03    0.0000e+00  \n",
      "             17    1/2 +      -3.41654e+03    0.0000e+00  \n",
      "             18    3/2 +      -3.41658e+03    0.0000e+00  \n",
      "             19    3/2 +      -3.41665e+03    0.0000e+00  \n",
      "             20    5/2 +      -3.41666e+03    0.0000e+00  \n",
      "             21    1/2 +      -3.41934e+03    0.0000e+00  \n",
      "             22    1/2 +      -3.42038e+03    0.0000e+00  \n",
      "             23    5/2 +      -3.42055e+03    0.0000e+00  \n",
      "             24    3/2 +      -3.42061e+03    0.0000e+00  \n",
      "             25    5/2 +      -3.42066e+03    0.0000e+00  \n",
      "             26    3/2 +      -3.42066e+03    0.0000e+00  \n",
      "             27    3/2 +      -3.42081e+03    0.0000e+00  \n",
      "             28    7/2 +      -3.42089e+03    0.0000e+00  \n",
      "     8        7    1 -        -3.40412e+03    0.0000e+00  \n",
      "              8    1 -        -3.40801e+03    0.0000e+00  \n",
      "              9    0 -        -3.41201e+03    0.0000e+00  \n",
      "             11    2 -        -3.41211e+03    0.0000e+00  \n",
      "  -----------------------------------------------------------------\n",
      "\n",
      "*  Probability propagation through 28 levels of the cascade:\n",
      "    1-th round ... has propagated a total of 3.8499999999999996 level occupation.\n",
      "    2-th round ... has propagated a total of 0.0 level occupation.\n",
      " \n",
      "  (Final) Ion distribution for the cascade:  Simulation of the neon 1s^-1 3p decay \n",
      " \n",
      "  -------------------------------\n",
      "   No. electrons     Rel. occ.  \n",
      "  -------------------------------\n",
      "         10         0.00000e+00\n",
      "          9         3.15000e+00\n",
      "          8         3.50000e-01\n",
      "  -------------------------------\n",
      " \n",
      "  (Final) Level distribution for the cascade:  Simulation of the neon 1s^-1 3p decay\n",
      " \n",
      "  ---------------------------------------------------------------------\n",
      "   No. electrons   Lev-No     J^P       Energy [eV]        Rel. occ.  \n",
      "  ---------------------------------------------------------------------\n",
      "         10            1    1 -        -2.631904e+03      0.00000e+00\n",
      "                       2    1 -        -2.631984e+03      0.00000e+00\n",
      "                       3    2 -        -2.632049e+03      0.00000e+00\n",
      "                       4    0 -        -2.632057e+03      0.00000e+00\n",
      "          9            5    3/2 -      -3.383871e+03      0.00000e+00\n",
      "                       6    1/2 -      -3.383882e+03      0.00000e+00\n",
      "                      10    1/2 +      -3.412071e+03      1.75000e-01\n",
      "                      12    3/2 +      -3.412630e+03      1.75000e-01\n",
      "                      13    3/2 +      -3.412714e+03      1.75000e-01\n",
      "                      14    5/2 +      -3.412747e+03      1.75000e-01\n",
      "                      15    1/2 +      -3.412755e+03      1.75000e-01\n",
      "                      16    1/2 +      -3.415841e+03      1.75000e-01\n",
      "                      17    1/2 +      -3.416539e+03      1.75000e-01\n",
      "                      18    3/2 +      -3.416584e+03      1.75000e-01\n",
      "                      19    3/2 +      -3.416652e+03      1.75000e-01\n",
      "                      20    5/2 +      -3.416660e+03      1.75000e-01\n",
      "                      21    1/2 +      -3.419341e+03      1.75000e-01\n",
      "                      22    1/2 +      -3.420380e+03      1.75000e-01\n",
      "                      23    5/2 +      -3.420549e+03      1.75000e-01\n",
      "                      24    3/2 +      -3.420613e+03      1.75000e-01\n",
      "                      25    5/2 +      -3.420664e+03      1.75000e-01\n",
      "                      26    3/2 +      -3.420665e+03      1.75000e-01\n",
      "                      27    3/2 +      -3.420806e+03      1.75000e-01\n",
      "                      28    7/2 +      -3.420891e+03      1.75000e-01\n",
      "          8            7    1 -        -3.404116e+03      8.75000e-02\n",
      "                       8    1 -        -3.408011e+03      8.75000e-02\n",
      "                       9    0 -        -3.412009e+03      8.75000e-02\n",
      "                      11    2 -        -3.412109e+03      8.75000e-02\n",
      "  ---------------------------------------------------------------------\n",
      "\n",
      "Write all results to disk; use:\n",
      "   save(zzz-Cascade-simulation-2020-05-27T10.jld, results) \n",
      "   using JLD \n",
      "   results = load(zzz-Cascade-simulation-2020-05-27T10.jld)    ... to load the results back from file ... CURRENTLY NOT.\n"
     ]
    },
    {
     "data": {
      "text/plain": [
       "Dict{String,Any} with 1 entry:\n",
       "  \"ion distribution:\" => 0.0"
      ]
     },
     "execution_count": 14,
     "metadata": {},
     "output_type": "execute_result"
    }
   ],
   "source": [
    "wd = perform(wc; output=true)"
   ]
  },
  {
   "cell_type": "markdown",
   "metadata": {},
   "source": [
    "The result for the final ion distribution simply tells us that only a tiny fraction of all atoms remains neutral due to the radiative decay back to the $1s^2 2s^2 2p^6\\; ^1S_0$ ground level, while singly and doubly-charged neon is roughly the same ... at present, a consequence of the (still) unphysical specification of the amplitudes."
   ]
  },
  {
   "cell_type": "markdown",
   "metadata": {},
   "source": [
    "Already this (quite) simple example shows the **complexity of atomic cascades**; we shall develop this *branch* of JAC further, although support and a detailed discussion about the experiment, which need to be modeled, will be necessary in almost all cases."
   ]
  },
  {
   "cell_type": "code",
   "execution_count": null,
   "metadata": {},
   "outputs": [],
   "source": []
  }
 ],
 "metadata": {
  "@webio": {
   "lastCommId": null,
   "lastKernelId": null
  },
  "kernelspec": {
   "display_name": "Julia 1.0.3",
   "language": "julia",
   "name": "julia-1.0"
  },
  "language_info": {
   "file_extension": ".jl",
   "mimetype": "application/julia",
   "name": "julia",
   "version": "1.0.3"
  }
 },
 "nbformat": 4,
 "nbformat_minor": 4
}
