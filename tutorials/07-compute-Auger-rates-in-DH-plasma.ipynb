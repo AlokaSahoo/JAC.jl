{
 "cells": [
  {
   "cell_type": "markdown",
   "metadata": {},
   "source": [
    "# Compute K-LL Auger rates for neon-like iron in a Debye-Hückel potential"
   ]
  },
  {
   "cell_type": "code",
   "execution_count": 1,
   "metadata": {},
   "outputs": [
    {
     "data": {
      "text/html": [
       "    <script class='js-collapse-script'>\n",
       "        var curMatch =\n",
       "            window.location.href\n",
       "            .match(/(.*?)\\/notebooks\\/.*\\.ipynb/);\n",
       "\n",
       "        curMatch = curMatch ||\n",
       "            window.location.href\n",
       "            .match(/(.*?)\\/apps\\/.*\\.ipynb/);\n",
       "\n",
       "        if ( curMatch ) {\n",
       "            $('head').append('<base href=\"' + curMatch[1] + '/\">');\n",
       "        }\n",
       "    </script>\n"
      ],
      "text/plain": [
       "HTML{String}(\"    <script class='js-collapse-script'>\\n        var curMatch =\\n            window.location.href\\n            .match(/(.*?)\\\\/notebooks\\\\/.*\\\\.ipynb/);\\n\\n        curMatch = curMatch ||\\n            window.location.href\\n            .match(/(.*?)\\\\/apps\\\\/.*\\\\.ipynb/);\\n\\n        if ( curMatch ) {\\n            \\$('head').append('<base href=\\\"' + curMatch[1] + '/\\\">');\\n        }\\n    </script>\\n\")"
      ]
     },
     "metadata": {},
     "output_type": "display_data"
    },
    {
     "data": {
      "text/html": [
       "<script class='js-collapse-script' src='/assetserver/b5211b19a5aa56f2c76a4f66df0ec7b35773f4c6-assets/webio/dist/bundle.js'></script>"
      ],
      "text/plain": [
       "HTML{String}(\"<script class='js-collapse-script' src='/assetserver/b5211b19a5aa56f2c76a4f66df0ec7b35773f4c6-assets/webio/dist/bundle.js'></script>\")"
      ]
     },
     "metadata": {},
     "output_type": "display_data"
    },
    {
     "data": {
      "text/html": [
       "<script class='js-collapse-script' src='/assetserver/b5211b19a5aa56f2c76a4f66df0ec7b35773f4c6-assets/providers/ijulia_setup.js'></script>"
      ],
      "text/plain": [
       "HTML{String}(\"<script class='js-collapse-script' src='/assetserver/b5211b19a5aa56f2c76a4f66df0ec7b35773f4c6-assets/providers/ijulia_setup.js'></script>\")"
      ]
     },
     "metadata": {},
     "output_type": "display_data"
    },
    {
     "data": {
      "text/html": [
       "  <script class='js-collapse-script'>\n",
       "    $('.js-collapse-script').parent('.output_subarea').css('padding', '0');\n",
       "  </script>\n"
      ],
      "text/plain": [
       "HTML{String}(\"  <script class='js-collapse-script'>\\n    \\$('.js-collapse-script').parent('.output_subarea').css('padding', '0');\\n  </script>\\n\")"
      ]
     },
     "metadata": {},
     "output_type": "display_data"
    }
   ],
   "source": [
    "using JAC"
   ]
  },
  {
   "cell_type": "markdown",
   "metadata": {},
   "source": [
    "A plasma environment generally affects both, the level structure of atoms and ions as well their rates and cross sections. In this tutorial, we wish to compute the K-LL rates for neon-like iron in a Debye-Hückel potential following the work by Deprince *etal* (2019). \n",
    "\n",
    "A Debye-Hückel potential may affect the Auger rates of an atom or ion in three different ways: (i) the level structure due to the screened electron-nucleus and electron-electron interaction; (ii) the shape of the continuum potential due to the screened potential of the ionic core; as well as (iii) the screening of the electron-electron interaction in the Auger matrix. In the present implementation, only the (screened) Coulomb interaction can be taken into account for the computation of the plasma-modified Auger rates, i.e. **no** Breit interactions nor QED estimates are supported by the JAC program.\n",
    "\n",
    "As with most other (atomic) processes, the compuation of plasma-modified Auger is supported in JAC by a special process identifier `AugerInPlasma` and the corresponding settings `PlasmaShift.AugerSettings`. These settings can be used to define the screening parameter $\\lambda$. \n"
   ]
  },
  {
   "cell_type": "markdown",
   "metadata": {},
   "source": [
    "Let us start again from the `PlasmaShift.AugerSettings` to understand what and how we can control the computations:"
   ]
  },
  {
   "cell_type": "code",
   "execution_count": 2,
   "metadata": {},
   "outputs": [
    {
     "data": {
      "text/latex": [
       "\\texttt{struct  PlasmaShift.AugerSettings}  ... defines a type for the details and parameters of computing Auger rates with plasma interactions.\n",
       "\n",
       "\\begin{verbatim}\n",
       "+ plasmaModel            ::PlasmaModel                   ... Specified the particular type of plasma model; from {ion-sphere, debye}\n",
       "+ lambdaDebye            ::Float64                       ... The lambda parameter of different plasma models.\n",
       "+ ionSphereR0            ::Float64                       ... The effective radius of the ion-sphere model.\n",
       "+ NoBoundElectrons       ::Int64                         ... Effective number of bound electrons.\n",
       "+ printBeforeComputation ::Bool                          ... True, if all energies and lines are printed before their evaluation.\n",
       "+ selectLines            ::Bool                          ... True, if lines are selected individually for the computations.\n",
       "+ selectedLines          ::Array{Tuple{Int64,Int64},1}   ... List of lines, given by tupels (inital-level, final-level).\n",
       "\\end{verbatim}\n",
       "\\rule{\\textwidth}{1pt}\n",
       "\\texttt{JAC.PlasmaShift.AugerSettings()}  ... constructor for a standard instance of PlasmaShift.AugerSettings.\n",
       "\n"
      ],
      "text/markdown": [
       "`struct  PlasmaShift.AugerSettings`  ... defines a type for the details and parameters of computing Auger rates with plasma interactions.\n",
       "\n",
       "```\n",
       "+ plasmaModel            ::PlasmaModel                   ... Specified the particular type of plasma model; from {ion-sphere, debye}\n",
       "+ lambdaDebye            ::Float64                       ... The lambda parameter of different plasma models.\n",
       "+ ionSphereR0            ::Float64                       ... The effective radius of the ion-sphere model.\n",
       "+ NoBoundElectrons       ::Int64                         ... Effective number of bound electrons.\n",
       "+ printBeforeComputation ::Bool                          ... True, if all energies and lines are printed before their evaluation.\n",
       "+ selectLines            ::Bool                          ... True, if lines are selected individually for the computations.\n",
       "+ selectedLines          ::Array{Tuple{Int64,Int64},1}   ... List of lines, given by tupels (inital-level, final-level).\n",
       "```\n",
       "\n",
       "---\n",
       "\n",
       "`JAC.PlasmaShift.AugerSettings()`  ... constructor for a standard instance of PlasmaShift.AugerSettings.\n"
      ],
      "text/plain": [
       "  \u001b[36mstruct  PlasmaShift.AugerSettings\u001b[39m ... defines a type for the details and\n",
       "  parameters of computing Auger rates with plasma interactions.\n",
       "\n",
       "\u001b[36m  + plasmaModel            ::PlasmaModel                   ... Specified the particular type of plasma model; from {ion-sphere, debye}\u001b[39m\n",
       "\u001b[36m  + lambdaDebye            ::Float64                       ... The lambda parameter of different plasma models.\u001b[39m\n",
       "\u001b[36m  + ionSphereR0            ::Float64                       ... The effective radius of the ion-sphere model.\u001b[39m\n",
       "\u001b[36m  + NoBoundElectrons       ::Int64                         ... Effective number of bound electrons.\u001b[39m\n",
       "\u001b[36m  + printBeforeComputation ::Bool                          ... True, if all energies and lines are printed before their evaluation.\u001b[39m\n",
       "\u001b[36m  + selectLines            ::Bool                          ... True, if lines are selected individually for the computations.\u001b[39m\n",
       "\u001b[36m  + selectedLines          ::Array{Tuple{Int64,Int64},1}   ... List of lines, given by tupels (inital-level, final-level).\u001b[39m\n",
       "\n",
       "  ────────────────────────────────────────────────────────────────────────────\n",
       "\n",
       "  \u001b[36mJAC.PlasmaShift.AugerSettings()\u001b[39m ... constructor for a standard instance of\n",
       "  PlasmaShift.AugerSettings."
      ]
     },
     "execution_count": 2,
     "metadata": {},
     "output_type": "execute_result"
    }
   ],
   "source": [
    "? PlasmaShift.AugerSettings"
   ]
  },
  {
   "cell_type": "code",
   "execution_count": 3,
   "metadata": {},
   "outputs": [
    {
     "data": {
      "text/plain": [
       "plasmaModel:             DebyeHueckel  \n",
       "lambdaDebye:             0.25  \n",
       "ionSphereR0:             0.0  \n",
       "NoBoundElectrons:        0  \n",
       "printBeforeComputation:  true  \n",
       "selectLines:             false  \n",
       "selectedLines:           Tuple{Int64,Int64}[]  \n"
      ]
     },
     "execution_count": 3,
     "metadata": {},
     "output_type": "execute_result"
    }
   ],
   "source": [
    "PlasmaShift.AugerSettings()   # show the default values"
   ]
  },
  {
   "cell_type": "markdown",
   "metadata": {},
   "source": [
    "We can re-define these settings by specifying the screening parameter and the selected lines to be \n",
    "calculated:"
   ]
  },
  {
   "cell_type": "code",
   "execution_count": 4,
   "metadata": {},
   "outputs": [
    {
     "data": {
      "text/plain": [
       "plasmaModel:             DebyeHueckel  \n",
       "lambdaDebye:             0.1  \n",
       "ionSphereR0:             0.0  \n",
       "NoBoundElectrons:        0  \n",
       "printBeforeComputation:  true  \n",
       "selectLines:             true  \n",
       "selectedLines:           Tuple{Int64,Int64}[(1, 1), (1, 2)]  \n"
      ]
     },
     "execution_count": 4,
     "metadata": {},
     "output_type": "execute_result"
    }
   ],
   "source": [
    "pSettings = PlasmaShift.AugerSettings(PlasmaShift.DebyeHueckel, 0.1, 0., 0, true, true, [(1,1), (1,2)])"
   ]
  },
  {
   "cell_type": "markdown",
   "metadata": {},
   "source": [
    "\n",
    "As usual, we can now defined and run the desired computation by *defining* and *performing* an \n",
    "`Atomic.Computation()`:\n"
   ]
  },
  {
   "cell_type": "code",
   "execution_count": 6,
   "metadata": {},
   "outputs": [
    {
     "name": "stdout",
     "output_type": "stream",
     "text": [
      "Define a radial grid of type MeshGL with 610 grid points\n",
      " [rnt=2.000e-06, h=5.000e-02, hp=1.000e-02, NoPoints=600, r_max=3.229e+00;\n",
      "  B-splines wit break points at every 7th point, nsL=86, nsS=87, orderL=7, orderS=8, orderGL=7] \n",
      "shellOccList = SubString{String}[\"1s\", \"2s^2\", \"2p^6\"]\n",
      "shellOccList = SubString{String}[\"1s^2\", \"2s^2\", \"2p^4\"]\n",
      "shellOccList = SubString{String}[\"1s^2\", \"2s\", \"2p^5\"]\n",
      "shellOccList = SubString{String}[\"1s^2\", \"2p^6\"]\n",
      "\n",
      "... in perform('computation: SCF', ...\n",
      "perform-aa: Configuration: 1s_1/2^1 2s_1/2^2 2p_1/2^2 2p_3/2^4 \n",
      "(Re-) Define a new standard subshell list.\n",
      "(Re-) Define a storage array for various B-spline matrices:\n",
      "Nuclear model = Fermi nuclear model for Z = 26.0 with mass = 55.38, radius R = 3.756573410087755 fm and nuclear spin I = 0, dipole moment mu = 0.0 and quadrupole moment Q = 0.0. \n",
      "Generate hydrogenic orbital for subshell 1s_1/2 \n",
      "  -----------------------------------------------------------------------------\n",
      "   Index    Subshell     Energies [a.u.]    Dirac-E  [a.u.]     Delta-E / |E|    \n",
      "  -----------------------------------------------------------------------------\n",
      "      1      1s_1/2      -3.41095880e+02    -3.41097837e+02    +5.73779939e-06    \n",
      "      2      2s_1/2      -8.54687058e+01    -8.54689584e+01    +2.95488342e-06    \n",
      "      3      3s_1/2      -3.78993728e+01    -3.78994478e+01    +1.97799613e-06    \n",
      "      4      4s_1/2      -2.12819060e+01    -2.12819385e+01    +1.52849301e-06    \n",
      "      5      5s_1/2      -1.35997938e+01    -1.36039714e+01    +3.07182944e-04    \n",
      "      6      6s_1/2      -9.12495730e+00    -9.43887322e+00    +3.44019052e-02    \n",
      "      7      7s_1/2      -4.57764544e+00    -6.93005925e+00    +5.13891659e-01    \n",
      "      8      8s_1/2      +1.38857295e+00    -5.30306679e+00    +4.81907684e+00    \n",
      "      :       :    \n",
      "     81     81s_1/2      +8.42912101e+07    -5.15394375e-02    +1.00000000e+00    \n",
      "     82     82s_1/2      +1.28022501e+08    -5.02897729e-02    +1.00000000e+00    \n",
      "     83     83s_1/2      +2.02337888e+08    -4.90850138e-02    +1.00000000e+00    \n",
      "     84     84s_1/2      +3.44759810e+08    -4.79230342e-02    +1.00000000e+00    \n",
      "     85     85s_1/2      +6.89610594e+08    -4.68018324e-02    +1.00000000e+00    \n",
      "     86     86s_1/2      +2.35241163e+09    -4.57195223e-02    +1.00000000e+00    \n",
      "  -----------------------------------------------------------------------------\n",
      "Use hydrogenic orbital from this symmetriy block also for 1s_1/2.\n",
      "Use hydrogenic orbital from this symmetriy block also for 2s_1/2.\n",
      "Generate hydrogenic orbital for subshell 2p_1/2 \n",
      "  -----------------------------------------------------------------------------\n",
      "   Index    Subshell     Energies [a.u.]    Dirac-E  [a.u.]     Delta-E / |E|    \n",
      "  -----------------------------------------------------------------------------\n",
      "      1      2p_1/2      -8.54689566e+01    -8.54689584e+01    +2.03867382e-08    \n",
      "      2      3p_1/2      -3.78994472e+01    -3.78994478e+01    +1.61654949e-08    \n",
      "      3      4p_1/2      -2.12819376e+01    -2.12819385e+01    +4.20454943e-08    \n",
      "      4      5p_1/2      -1.36007259e+01    -1.36039714e+01    +2.38626723e-04    \n",
      "      5      6p_1/2      -9.16452793e+00    -9.43887322e+00    +2.99355617e-02    \n",
      "      6      7p_1/2      -4.75328332e+00    -6.93005925e+00    +4.57952068e-01    \n",
      "      7      8p_1/2      +1.03361072e+00    -5.30306679e+00    +6.13062287e+00    \n",
      "      8      9p_1/2      +8.17908255e+00    -4.18833237e+00    +1.51207851e+00    \n",
      "      :       :    \n",
      "     80     81p_1/2      +7.00849374e+07    -5.15394375e-02    +1.00000000e+00    \n",
      "     81     82p_1/2      +1.05235602e+08    -5.02897729e-02    +1.00000000e+00    \n",
      "     82     83p_1/2      +1.62946204e+08    -4.90850138e-02    +1.00000000e+00    \n",
      "     83     84p_1/2      +2.66779695e+08    -4.79230342e-02    +1.00000000e+00    \n",
      "     84     85p_1/2      +4.87801439e+08    -4.68018324e-02    +1.00000000e+00    \n",
      "     85     86p_1/2      +1.16204207e+09    -4.57195223e-02    +1.00000000e+00    \n",
      "  -----------------------------------------------------------------------------\n",
      "Use hydrogenic orbital from this symmetriy block also for 2p_1/2.\n",
      "Generate hydrogenic orbital for subshell 2p_3/2 \n",
      "  -----------------------------------------------------------------------------\n",
      "   Index    Subshell     Energies [a.u.]    Dirac-E  [a.u.]     Delta-E / |E|    \n",
      "  -----------------------------------------------------------------------------\n",
      "      1      2p_3/2      -8.46909743e+01    -8.46909743e+01    +3.20659239e-13    \n",
      "      2      3p_3/2      -3.76687634e+01    -3.76687634e+01    +3.52736537e-13    \n",
      "      3      4p_3/2      -2.11846923e+01    -2.11846929e+01    +3.25167803e-08    \n",
      "      4      5p_3/2      -1.35507902e+01    -1.35542226e+01    +2.53296212e-04    \n",
      "      5      6p_3/2      -9.12838111e+00    -9.41010352e+00    +3.08622536e-02    \n",
      "      6      7p_3/2      -4.70737723e+00    -6.91195226e+00    +4.68323428e-01    \n",
      "      7      8p_3/2      +1.09207617e+00    -5.29094223e+00    +5.84484727e+00    \n",
      "      8      9p_3/2      +8.24900691e+00    -4.17982022e+00    +1.50670587e+00    \n",
      "      :       :    \n",
      "     81     82p_3/2      +9.99621469e+07    -5.02785564e-02    +1.00000000e+00    \n",
      "     82     83p_3/2      +1.53634350e+08    -4.90741979e-02    +1.00000000e+00    \n",
      "     83     84p_3/2      +2.48104062e+08    -4.79126000e-02    +1.00000000e+00    \n",
      "     84     85p_3/2      +4.40741064e+08    -4.67917622e-02    +1.00000000e+00    \n",
      "     85     86p_3/2      +9.65252651e+08    -4.57097995e-02    +1.00000000e+00    \n",
      "     86     87p_3/2      +3.73434372e+09    -4.46649346e-02    +1.00000000e+00    \n",
      "  -----------------------------------------------------------------------------\n",
      "Use hydrogenic orbital from this symmetriy block also for 2p_3/2.\n",
      "Re-define the standard grid with 600 grid points.\n",
      "(Re-) Define a storage array for various B-spline matrices:\n",
      "\n",
      "Iteration 1 for symmetries ... \n",
      "  1s_1/2::  en [a.u.] = -2.84381580e+02;   self-consistency = 9.067361e-02  [1.000000e+02 for symmetry block kappa = -1]\n",
      "  2s_1/2::  en [a.u.] = -5.15735576e+01;   self-consistency = 2.473335e-01  [1.000000e+02 for symmetry block kappa = -1]\n",
      "  2p_1/2::  en [a.u.] = -4.82972823e+01;   self-consistency = 2.778853e-01  [1.000000e+02 for symmetry block kappa = 1]\n",
      "  2p_3/2::  en [a.u.] = -4.83959791e+01;   self-consistency = 2.727164e-01  [1.000000e+02 for symmetry block kappa = -2]\n",
      "\n",
      "Iteration 2 for symmetries ... \n",
      "  1s_1/2::  en [a.u.] = -2.90251050e+02;   self-consistency = 1.021430e-02  [2.667549e-02 for symmetry block kappa = -1]\n",
      "  2s_1/2::  en [a.u.] = -5.34076888e+01;   self-consistency = 1.747104e-02  [2.667549e-02 for symmetry block kappa = -1]\n",
      "  2p_1/2::  en [a.u.] = -5.00363436e+01;   self-consistency = 1.768532e-02  [2.202399e-02 for symmetry block kappa = 1]\n",
      "  2p_3/2::  en [a.u.] = -4.94024722e+01;   self-consistency = 1.029150e-02  [1.252790e-02 for symmetry block kappa = -2]\n",
      "\n",
      "Iteration 3 for symmetries ... \n",
      "  1s_1/2::  en [a.u.] = -2.89588071e+02;   self-consistency = 1.143385e-03  [3.129828e-03 for symmetry block kappa = -1]\n",
      "  2s_1/2::  en [a.u.] = -5.31887904e+01;   self-consistency = 2.053524e-03  [3.129828e-03 for symmetry block kappa = -1]\n",
      "  2p_1/2::  en [a.u.] = -4.98507888e+01;   self-consistency = 1.857644e-03  [2.390045e-03 for symmetry block kappa = 1]\n",
      "  2p_3/2::  en [a.u.] = -4.93171938e+01;   self-consistency = 8.638439e-04  [1.099371e-03 for symmetry block kappa = -2]\n",
      "\n",
      "Iteration 4 for symmetries ... \n",
      "  1s_1/2::  en [a.u.] = -2.89652421e+02;   self-consistency = 1.110938e-04  [3.041694e-04 for symmetry block kappa = -1]\n",
      "  2s_1/2::  en [a.u.] = -5.32100172e+01;   self-consistency = 1.995025e-04  [3.041694e-04 for symmetry block kappa = -1]\n",
      "  2p_1/2::  en [a.u.] = -4.98672808e+01;   self-consistency = 1.653867e-04  [2.119121e-04 for symmetry block kappa = 1]\n",
      "  2p_3/2::  en [a.u.] = -4.93237793e+01;   self-consistency = 6.676249e-05  [8.454649e-05 for symmetry block kappa = -2]\n",
      "\n",
      "Iteration 5 for symmetries ... \n",
      "  1s_1/2::  en [a.u.] = -2.89646732e+02;   self-consistency = 9.820147e-06  [2.698155e-05 for symmetry block kappa = -1]\n",
      "  2s_1/2::  en [a.u.] = -5.32081361e+01;   self-consistency = 1.767639e-05  [2.698155e-05 for symmetry block kappa = -1]\n",
      "  2p_1/2::  en [a.u.] = -4.98659033e+01;   self-consistency = 1.381177e-05  [1.769562e-05 for symmetry block kappa = 1]\n",
      "  2p_3/2::  en [a.u.] = -4.93232821e+01;   self-consistency = 5.039700e-06  [6.377984e-06 for symmetry block kappa = -2]\n",
      "\n",
      "Iteration 6 for symmetries ... \n",
      "  1s_1/2::  en [a.u.] = -2.89647206e+02;   self-consistency = 8.172401e-07  [2.249671e-06 for symmetry block kappa = -1]\n",
      "  2s_1/2::  en [a.u.] = -5.32082929e+01;   self-consistency = 1.472866e-06  [2.249671e-06 for symmetry block kappa = -1]\n",
      "  2p_1/2::  en [a.u.] = -4.98660133e+01;   self-consistency = 1.102030e-06  [1.411349e-06 for symmetry block kappa = 1]\n",
      "  2p_3/2::  en [a.u.] = -4.93233188e+01;   self-consistency = 3.720835e-07  [4.704462e-07 for symmetry block kappa = -2]\n",
      "\n",
      "Iteration 7 for symmetries ... \n"
     ]
    },
    {
     "name": "stdout",
     "output_type": "stream",
     "text": [
      "  1s_1/2::  en [a.u.] = -2.89647168e+02;   self-consistency = 6.516769e-08  [1.796456e-07 for symmetry block kappa = -1]\n",
      "  2s_1/2::  en [a.u.] = -5.32082804e+01;   self-consistency = 1.175601e-07  [1.796456e-07 for symmetry block kappa = -1]\n",
      "  2p_1/2::  en [a.u.] = -4.98660048e+01;   self-consistency = 8.507489e-08  [1.089197e-07 for symmetry block kappa = 1]\n",
      "  2p_3/2::  en [a.u.] = -4.93233162e+01;   self-consistency = 2.695664e-08  [3.405867e-08 for symmetry block kappa = -2]\n",
      "Compute DebyeHueckel-CI matrix of dimension 1 x 1 for the symmetry 1/2^+ ...   ... done.\n",
      "\n",
      "  Eigenenergies:\n",
      "\n",
      "  Level  J Parity          Hartrees                    eV                   [eV]\n",
      "\n",
      "     1    1/2 +     -8.455732871713233e+02    -2.300922112541919e+04    -2.300922112541919e+04 \n",
      "\n",
      "  Energy of each level relative to immediately lower level:\n",
      "\n",
      "  Level  J Parity          Hartrees                    eV                   [eV]\n",
      "\n",
      "\n",
      "  Energy of each level relative to lowest level:\n",
      "\n",
      "  Level  J Parity          Hartrees                    eV                   [eV]\n",
      "\n",
      "\n",
      "... in perform('computation: SCF', ...\n",
      "perform-aa: Configuration: 1s_1/2^2 2s_1/2^2 2p_3/2^4 \n",
      "perform-aa: Configuration: 1s_1/2^2 2s_1/2^2 2p_1/2^1 2p_3/2^3 \n",
      "perform-aa: Configuration: 1s_1/2^2 2s_1/2^2 2p_1/2^2 2p_3/2^2 \n",
      "perform-aa: Configuration: 1s_1/2^2 2s_1/2^1 2p_1/2^1 2p_3/2^4 \n",
      "perform-aa: Configuration: 1s_1/2^2 2s_1/2^1 2p_1/2^2 2p_3/2^3 \n",
      "perform-aa: Configuration: 1s_1/2^2 2p_1/2^2 2p_3/2^4 \n",
      "(Re-) Define a new standard subshell list.\n",
      "(Re-) Define a storage array for various B-spline matrices:\n",
      "Nuclear model = Fermi nuclear model for Z = 26.0 with mass = 55.38, radius R = 3.756573410087755 fm and nuclear spin I = 0, dipole moment mu = 0.0 and quadrupole moment Q = 0.0. \n",
      "Generate hydrogenic orbital for subshell 1s_1/2 \n",
      "  -----------------------------------------------------------------------------\n",
      "   Index    Subshell     Energies [a.u.]    Dirac-E  [a.u.]     Delta-E / |E|    \n",
      "  -----------------------------------------------------------------------------\n",
      "      1      1s_1/2      -3.41095880e+02    -3.41097837e+02    +5.73779939e-06    \n",
      "      2      2s_1/2      -8.54687058e+01    -8.54689584e+01    +2.95488342e-06    \n",
      "      3      3s_1/2      -3.78993728e+01    -3.78994478e+01    +1.97799613e-06    \n",
      "      4      4s_1/2      -2.12819060e+01    -2.12819385e+01    +1.52849301e-06    \n",
      "      5      5s_1/2      -1.35997938e+01    -1.36039714e+01    +3.07182944e-04    \n",
      "      6      6s_1/2      -9.12495730e+00    -9.43887322e+00    +3.44019052e-02    \n",
      "      7      7s_1/2      -4.57764544e+00    -6.93005925e+00    +5.13891659e-01    \n",
      "      8      8s_1/2      +1.38857295e+00    -5.30306679e+00    +4.81907684e+00    \n",
      "      :       :    \n",
      "     81     81s_1/2      +8.42912101e+07    -5.15394375e-02    +1.00000000e+00    \n",
      "     82     82s_1/2      +1.28022501e+08    -5.02897729e-02    +1.00000000e+00    \n",
      "     83     83s_1/2      +2.02337888e+08    -4.90850138e-02    +1.00000000e+00    \n",
      "     84     84s_1/2      +3.44759810e+08    -4.79230342e-02    +1.00000000e+00    \n",
      "     85     85s_1/2      +6.89610594e+08    -4.68018324e-02    +1.00000000e+00    \n",
      "     86     86s_1/2      +2.35241163e+09    -4.57195223e-02    +1.00000000e+00    \n",
      "  -----------------------------------------------------------------------------\n",
      "Use hydrogenic orbital from this symmetriy block also for 1s_1/2.\n",
      "Use hydrogenic orbital from this symmetriy block also for 2s_1/2.\n",
      "Generate hydrogenic orbital for subshell 2p_1/2 \n",
      "  -----------------------------------------------------------------------------\n",
      "   Index    Subshell     Energies [a.u.]    Dirac-E  [a.u.]     Delta-E / |E|    \n",
      "  -----------------------------------------------------------------------------\n",
      "      1      2p_1/2      -8.54689566e+01    -8.54689584e+01    +2.03867382e-08    \n",
      "      2      3p_1/2      -3.78994472e+01    -3.78994478e+01    +1.61654949e-08    \n",
      "      3      4p_1/2      -2.12819376e+01    -2.12819385e+01    +4.20454943e-08    \n",
      "      4      5p_1/2      -1.36007259e+01    -1.36039714e+01    +2.38626723e-04    \n",
      "      5      6p_1/2      -9.16452793e+00    -9.43887322e+00    +2.99355617e-02    \n",
      "      6      7p_1/2      -4.75328332e+00    -6.93005925e+00    +4.57952068e-01    \n",
      "      7      8p_1/2      +1.03361072e+00    -5.30306679e+00    +6.13062287e+00    \n",
      "      8      9p_1/2      +8.17908255e+00    -4.18833237e+00    +1.51207851e+00    \n",
      "      :       :    \n",
      "     80     81p_1/2      +7.00849374e+07    -5.15394375e-02    +1.00000000e+00    \n",
      "     81     82p_1/2      +1.05235602e+08    -5.02897729e-02    +1.00000000e+00    \n",
      "     82     83p_1/2      +1.62946204e+08    -4.90850138e-02    +1.00000000e+00    \n",
      "     83     84p_1/2      +2.66779695e+08    -4.79230342e-02    +1.00000000e+00    \n",
      "     84     85p_1/2      +4.87801439e+08    -4.68018324e-02    +1.00000000e+00    \n",
      "     85     86p_1/2      +1.16204207e+09    -4.57195223e-02    +1.00000000e+00    \n",
      "  -----------------------------------------------------------------------------\n",
      "Use hydrogenic orbital from this symmetriy block also for 2p_1/2.\n",
      "Generate hydrogenic orbital for subshell 2p_3/2 \n",
      "  -----------------------------------------------------------------------------\n",
      "   Index    Subshell     Energies [a.u.]    Dirac-E  [a.u.]     Delta-E / |E|    \n",
      "  -----------------------------------------------------------------------------\n",
      "      1      2p_3/2      -8.46909743e+01    -8.46909743e+01    +3.20659239e-13    \n",
      "      2      3p_3/2      -3.76687634e+01    -3.76687634e+01    +3.52736537e-13    \n",
      "      3      4p_3/2      -2.11846923e+01    -2.11846929e+01    +3.25167803e-08    \n",
      "      4      5p_3/2      -1.35507902e+01    -1.35542226e+01    +2.53296212e-04    \n",
      "      5      6p_3/2      -9.12838111e+00    -9.41010352e+00    +3.08622536e-02    \n",
      "      6      7p_3/2      -4.70737723e+00    -6.91195226e+00    +4.68323428e-01    \n",
      "      7      8p_3/2      +1.09207617e+00    -5.29094223e+00    +5.84484727e+00    \n",
      "      8      9p_3/2      +8.24900691e+00    -4.17982022e+00    +1.50670587e+00    \n",
      "      :       :    \n",
      "     81     82p_3/2      +9.99621469e+07    -5.02785564e-02    +1.00000000e+00    \n",
      "     82     83p_3/2      +1.53634350e+08    -4.90741979e-02    +1.00000000e+00    \n",
      "     83     84p_3/2      +2.48104062e+08    -4.79126000e-02    +1.00000000e+00    \n",
      "     84     85p_3/2      +4.40741064e+08    -4.67917622e-02    +1.00000000e+00    \n",
      "     85     86p_3/2      +9.65252651e+08    -4.57097995e-02    +1.00000000e+00    \n",
      "     86     87p_3/2      +3.73434372e+09    -4.46649346e-02    +1.00000000e+00    \n",
      "  -----------------------------------------------------------------------------\n",
      "Use hydrogenic orbital from this symmetriy block also for 2p_3/2.\n",
      "Re-define the standard grid with 600 grid points.\n",
      "(Re-) Define a storage array for various B-spline matrices:\n",
      "\n",
      "Iteration 1 for symmetries ... \n",
      "  1s_1/2::  en [a.u.] = -2.81710829e+02;   self-consistency = 9.535069e-02  [1.000000e+02 for symmetry block kappa = -1]\n",
      "  2s_1/2::  en [a.u.] = -5.42635372e+01;   self-consistency = 2.233212e-01  [1.000000e+02 for symmetry block kappa = -1]\n",
      "  2p_1/2::  en [a.u.] = -5.09708268e+01;   self-consistency = 2.528451e-01  [1.000000e+02 for symmetry block kappa = 1]\n",
      "  2p_3/2::  en [a.u.] = -5.09608411e+01;   self-consistency = 2.486523e-01  [1.000000e+02 for symmetry block kappa = -2]\n",
      "\n",
      "Iteration 2 for symmetries ... \n",
      "  1s_1/2::  en [a.u.] = -2.86522067e+02;   self-consistency = 8.467018e-03  [2.957445e-02 for symmetry block kappa = -1]\n",
      "  2s_1/2::  en [a.u.] = -5.56801641e+01;   self-consistency = 1.288502e-02  [2.957445e-02 for symmetry block kappa = -1]\n",
      "  2p_1/2::  en [a.u.] = -5.22836846e+01;   self-consistency = 1.271477e-02  [2.397891e-02 for symmetry block kappa = 1]\n",
      "  2p_3/2::  en [a.u.] = -5.17168980e+01;   self-consistency = 7.363397e-03  [1.348448e-02 for symmetry block kappa = -2]\n",
      "\n",
      "Iteration 3 for symmetries ... \n",
      "  1s_1/2::  en [a.u.] = -2.86121667e+02;   self-consistency = 6.992129e-04  [2.576601e-03 for symmetry block kappa = -1]\n",
      "  2s_1/2::  en [a.u.] = -5.55564748e+01;   self-consistency = 1.111947e-03  [2.576601e-03 for symmetry block kappa = -1]\n",
      "  2p_1/2::  en [a.u.] = -5.21830031e+01;   self-consistency = 9.637660e-04  [1.896502e-03 for symmetry block kappa = 1]\n",
      "  2p_3/2::  en [a.u.] = -5.16713438e+01;   self-consistency = 4.406136e-04  [8.509472e-04 for symmetry block kappa = -2]\n",
      "\n",
      "Iteration 4 for symmetries ... \n"
     ]
    },
    {
     "name": "stdout",
     "output_type": "stream",
     "text": [
      "  1s_1/2::  en [a.u.] = -2.86150268e+02;   self-consistency = 4.997812e-05  [1.832106e-04 for symmetry block kappa = -1]\n",
      "  2s_1/2::  en [a.u.] = -5.55652419e+01;   self-consistency = 7.889637e-05  [1.832106e-04 for symmetry block kappa = -1]\n",
      "  2p_1/2::  en [a.u.] = -5.21894342e+01;   self-consistency = 6.161628e-05  [1.208746e-04 for symmetry block kappa = 1]\n",
      "  2p_3/2::  en [a.u.] = -5.16738423e+01;   self-consistency = 2.417710e-05  [4.652023e-05 for symmetry block kappa = -2]\n",
      "\n",
      "Iteration 5 for symmetries ... \n",
      "  1s_1/2::  en [a.u.] = -2.86148413e+02;   self-consistency = 3.241216e-06  [1.181163e-05 for symmetry block kappa = -1]\n",
      "  2s_1/2::  en [a.u.] = -5.55646779e+01;   self-consistency = 5.075442e-06  [1.181163e-05 for symmetry block kappa = -1]\n",
      "  2p_1/2::  en [a.u.] = -5.21890504e+01;   self-consistency = 3.676928e-06  [7.211232e-06 for symmetry block kappa = 1]\n",
      "  2p_3/2::  en [a.u.] = -5.16737090e+01;   self-consistency = 1.290190e-06  [2.479844e-06 for symmetry block kappa = -2]\n",
      "\n",
      "Iteration 6 for symmetries ... \n",
      "  1s_1/2::  en [a.u.] = -2.86148526e+02;   self-consistency = 1.969457e-07  [7.135362e-07 for symmetry block kappa = -1]\n",
      "  2s_1/2::  en [a.u.] = -5.55647119e+01;   self-consistency = 3.061650e-07  [7.135362e-07 for symmetry block kappa = -1]\n",
      "  2p_1/2::  en [a.u.] = -5.21890722e+01;   self-consistency = 2.091142e-07  [4.099332e-07 for symmetry block kappa = 1]\n",
      "  2p_3/2::  en [a.u.] = -5.16737159e+01;   self-consistency = 6.710988e-08  [1.288134e-07 for symmetry block kappa = -2]\n",
      "Compute DebyeHueckel-CI matrix of dimension 1 x 1 for the symmetry 2^- ...   ... done.\n",
      "Compute DebyeHueckel-CI matrix of dimension 1 x 1 for the symmetry 1^+ ...   ... done.\n",
      "Compute DebyeHueckel-CI matrix of dimension 2 x 2 for the symmetry 2^+ ...   ... done.\n",
      "Compute DebyeHueckel-CI matrix of dimension 1 x 1 for the symmetry 0^- ...   ... done.\n",
      "Compute DebyeHueckel-CI matrix of dimension 2 x 2 for the symmetry 1^- ...   ... done.\n",
      "Compute DebyeHueckel-CI matrix of dimension 3 x 3 for the symmetry 0^+ ...   ... done.\n",
      "\n",
      "  Eigenenergies:\n",
      "\n",
      "  Level  J Parity          Hartrees                    eV                   [eV]\n",
      "\n",
      "     1    2 +     -1.034393086698018e+03    -2.814726957855908e+04    -2.814726957855908e+04 \n",
      "     2    0 +     -1.034057856536577e+03    -2.813814750123059e+04    -2.813814750123059e+04 \n",
      "     3    1 +     -1.033981511266276e+03    -2.813607004060963e+04    -2.813607004060963e+04 \n",
      "     4    2 +     -1.033604287623330e+03    -2.812580526244553e+04    -2.812580526244553e+04 \n",
      "     5    0 +     -1.032918967901489e+03    -2.810715676294742e+04    -2.810715676294742e+04 \n",
      "     6    2 -     -1.030140525406932e+03    -2.803155149169365e+04    -2.803155149169365e+04 \n",
      "     7    1 -     -1.029851769845233e+03    -2.802369405263882e+04    -2.802369405263882e+04 \n",
      "     8    0 -     -1.029645129038320e+03    -2.801807106987442e+04    -2.801807106987442e+04 \n",
      "     9    1 -     -1.028510015754593e+03    -2.798718306413451e+04    -2.798718306413451e+04 \n",
      "    10    0 +     -1.024463202610246e+03    -2.787706366951288e+04    -2.787706366951288e+04 \n",
      "\n",
      "  Energy of each level relative to immediately lower level:\n",
      "\n",
      "  Level  J Parity          Hartrees                    eV                   [eV]\n",
      "\n",
      "     2    0 +     3.352301614402222e-01    9.122077328496806e+00    9.122077328496806e+00 \n",
      "     3    1 +     7.634527030108984e-02    2.077460620964197e+00    2.077460620964197e+00 \n",
      "     4    2 +     3.772236429467739e-01    1.026477816409531e+01    1.026477816409531e+01 \n",
      "     5    0 +     6.853197218401874e-01    1.864849949811236e+01    1.864849949811236e+01 \n",
      "     6    2 -     2.778442494557112e+00    7.560527125376531e+01    7.560527125376531e+01 \n",
      "     7    1 -     2.887555616996451e-01    7.857439054830970e+00    7.857439054830970e+00 \n",
      "     8    0 -     2.066408069131285e-01    5.622982764397423e+00    5.622982764397423e+00 \n",
      "     9    1 -     1.135113283726469e+00    3.088800573991072e+01    3.088800573991072e+01 \n",
      "    10    0 +     4.046813144346970e+00    1.101193946216354e+02    1.101193946216354e+02 \n",
      "\n",
      "  Energy of each level relative to lowest level:\n",
      "\n",
      "  Level  J Parity          Hartrees                    eV                   [eV]\n",
      "\n",
      "     2    0 +     3.352301614402222e-01    9.122077328496806e+00    9.122077328496806e+00 \n",
      "     3    1 +     4.115754317413121e-01    1.119953794946100e+01    1.119953794946100e+01 \n",
      "     4    2 +     7.887990746880860e-01    2.146431611355632e+01    2.146431611355632e+01 \n",
      "     5    0 +     1.474118796528273e+00    4.011281561166868e+01    4.011281561166868e+01 \n",
      "     6    2 -     4.252561291085385e+00    1.157180868654340e+02    1.157180868654340e+02 \n",
      "     7    1 -     4.541316852785030e+00    1.235755259202650e+02    1.235755259202650e+02 \n",
      "     8    0 -     4.747957659698159e+00    1.291985086846624e+02    1.291985086846624e+02 \n",
      "     9    1 -     5.883070943424627e+00    1.600865144245731e+02    1.600865144245731e+02 \n",
      "    10    0 +     9.929884087771597e+00    2.702059090462085e+02    2.702059090462085e+02 \n",
      "\n",
      "\u001b[92mJAC.Auger.computeLinesPlasma(): The computation of Auger rates starts now ... \u001b[39m\n",
      "\u001b[92m----------------------------------------------------------------------------- \u001b[39m\n",
      "\n",
      " \n",
      "  Selected Auger lines:\n",
      " \n",
      "  ------------------------------------------------------------------------------------------------------------------------------------------------------\n",
      "       i-level-f           i--J^P--f            Energy          Energy e_A      List of kappas and total symmetries      \n",
      "                                                 [eV]              [eV]         partial (total J^P)                      \n",
      "  ------------------------------------------------------------------------------------------------------------------------------------------------------\n",
      "        1 --     1       1/2 + --> 2 +      -2.30092211e+04    5.13804845e+03   d_5/2 (1/2 +),  d_3/2 (1/2 +)\n",
      "        1 --     2       1/2 + --> 0 +      -2.30092211e+04    5.12892638e+03   s_1/2 (1/2 +)\n",
      "  ------------------------------------------------------------------------------------------------------------------------------------------------------\n",
      "\n",
      "Continuum-Bessel orbital for q = 19.432951372691406,  l = 2\n",
      "Pure-sine normalized continuum orbital with normalization constant N=3.9503e+00 (Delta-N=2.8611e+01) and phase phi=1.5085e+00 (Delta-N=8.4727e-01).\n"
     ]
    },
    {
     "name": "stderr",
     "output_type": "stream",
     "text": [
      "┌ Warning: Adapt a proper continuum orbital for the plasma potential\n",
      "└ @ JAC.Auger /home/fritzsch/fri/JAC.jl/src/module-Auger.jl:230\n"
     ]
    },
    {
     "name": "stdout",
     "output_type": "stream",
     "text": [
      "Continuum-Bessel orbital for q = 19.432951372691406,  l = 2\n",
      "Pure-sine normalized continuum orbital with normalization constant N=3.9503e+00 (Delta-N=2.8611e+01) and phase phi=1.5085e+00 (Delta-N=8.4727e-01).\n",
      "Continuum-Bessel orbital for q = 19.415693104561278,  l = 0\n",
      "Pure-sine normalized continuum orbital with normalization constant N=2.6385e+00 (Delta-N=2.5201e+01) and phase phi=1.5638e+00 (Delta-N=8.4457e-01).\n"
     ]
    },
    {
     "name": "stderr",
     "output_type": "stream",
     "text": [
      "┌ Warning: Adapt a proper Auger amplitude for the plasma e-e interaction\n",
      "└ @ JAC.Auger /home/fritzsch/fri/JAC.jl/src/module-Auger.jl:234\n",
      "┌ Warning: Adapt a proper continuum orbital for the plasma potential\n",
      "└ @ JAC.Auger /home/fritzsch/fri/JAC.jl/src/module-Auger.jl:230\n",
      "┌ Warning: Adapt a proper Auger amplitude for the plasma e-e interaction\n",
      "└ @ JAC.Auger /home/fritzsch/fri/JAC.jl/src/module-Auger.jl:234\n",
      "┌ Warning: Adapt a proper continuum orbital for the plasma potential\n",
      "└ @ JAC.Auger /home/fritzsch/fri/JAC.jl/src/module-Auger.jl:230\n",
      "┌ Warning: Adapt a proper Auger amplitude for the plasma e-e interaction\n",
      "└ @ JAC.Auger /home/fritzsch/fri/JAC.jl/src/module-Auger.jl:234\n"
     ]
    },
    {
     "name": "stdout",
     "output_type": "stream",
     "text": [
      " \n",
      "  Auger rates (without angular parameters): \n",
      "\n",
      "  -------------------------------------------------------------------------------------------------------------------\n",
      "       i-level-f           i--J^P--f            Energy         Electron energy     Auger rate          alpha_2      \n",
      "                                                 [eV]               [eV]              [1/s]                         \n",
      "  -------------------------------------------------------------------------------------------------------------------\n",
      "        1 --     1       1/2 + --> 2 +      -2.30092211e+04    5.13804845e+03    5.19511019e+17    0.00000000e+00    \n",
      "        1 --     2       1/2 + --> 0 +      -2.30092211e+04    5.12892638e+03    2.59755509e+17    0.00000000e+00    \n",
      "  -------------------------------------------------------------------------------------------------------------------\n",
      " \n",
      "  Auger lifetimes, total rates and widths:\n",
      " \n",
      "  -------------------------------------------------------------------------------------------------------------------\n",
      "     Level       J^P         Lifetime          Total rate                              Widths                       \n",
      "                               [sec]              [1/s]             Hartrees           Kaysers             eV     \n",
      "  -------------------------------------------------------------------------------------------------------------------\n",
      "         1      1/2 +     1.28325795e-18     7.79266528e+17      5.12922542e+02    4.13699932e+06    5.12922542e+02    \n",
      "  -------------------------------------------------------------------------------------------------------------------\n",
      "\u001b[95mJAC.warn():  Reset global array JAC_WARNINGS.\u001b[39m"
     ]
    }
   ],
   "source": [
    "wa = Atomic.Computation(\"K-LL Auger spectrum in a Debye-Hueckel potential\",  Nuclear.Model(26.); \n",
    "            grid = JAC.Radial.Grid(\"grid: by given parameters\"; rnt = 2.0e-6, h = 5.0e-2, \n",
    "                                                                hp = 1.0e-2, NoPoints = 600), \n",
    "            initialConfigs=[Configuration(\"1s 2s^2 2p^6\")],\n",
    "            finalConfigs  =[Configuration(\"1s^2 2s^2 2p^4\"), Configuration(\"1s^2 2s 2p^5\"), \n",
    "                            Configuration(\"1s^2 2p^6\")], process = JAC.AugerInPlasma,\n",
    "            processSettings = pSettings)\n",
    "perform(wa)"
   ]
  },
  {
   "cell_type": "markdown",
   "metadata": {},
   "source": [
    "\n",
    "Similar computation will be made available also for photoionization cross sections in the near future.\n"
   ]
  },
  {
   "cell_type": "code",
   "execution_count": null,
   "metadata": {},
   "outputs": [],
   "source": []
  }
 ],
 "metadata": {
  "@webio": {
   "lastCommId": "46f4060ef16d42a383c24a69f5bf91ee",
   "lastKernelId": "4394e5b4-cd6b-4790-b7f7-e4f170e6e1d6"
  },
  "kernelspec": {
   "display_name": "Julia 1.0.3",
   "language": "julia",
   "name": "julia-1.0"
  },
  "language_info": {
   "file_extension": ".jl",
   "mimetype": "application/julia",
   "name": "julia",
   "version": "1.0.3"
  }
 },
 "nbformat": 4,
 "nbformat_minor": 2
}
