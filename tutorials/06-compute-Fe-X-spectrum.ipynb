{
 "cells": [
  {
   "cell_type": "markdown",
   "metadata": {},
   "source": [
    "# Compute the spectrum of Fe X"
   ]
  },
  {
   "cell_type": "code",
   "execution_count": 1,
   "metadata": {},
   "outputs": [
    {
     "data": {
      "text/html": [
       "    <script class='js-collapse-script'>\n",
       "        var curMatch =\n",
       "            window.location.href\n",
       "            .match(/(.*?)\\/notebooks\\/.*\\.ipynb/);\n",
       "\n",
       "        curMatch = curMatch ||\n",
       "            window.location.href\n",
       "            .match(/(.*?)\\/apps\\/.*\\.ipynb/);\n",
       "\n",
       "        if ( curMatch ) {\n",
       "            $('head').append('<base href=\"' + curMatch[1] + '/\">');\n",
       "        }\n",
       "    </script>\n"
      ],
      "text/plain": [
       "HTML{String}(\"    <script class='js-collapse-script'>\\n        var curMatch =\\n            window.location.href\\n            .match(/(.*?)\\\\/notebooks\\\\/.*\\\\.ipynb/);\\n\\n        curMatch = curMatch ||\\n            window.location.href\\n            .match(/(.*?)\\\\/apps\\\\/.*\\\\.ipynb/);\\n\\n        if ( curMatch ) {\\n            \\$('head').append('<base href=\\\"' + curMatch[1] + '/\\\">');\\n        }\\n    </script>\\n\")"
      ]
     },
     "metadata": {},
     "output_type": "display_data"
    },
    {
     "data": {
      "text/html": [
       "<script class='js-collapse-script' src='/assetserver/b5211b19a5aa56f2c76a4f66df0ec7b35773f4c6-assets/webio/dist/bundle.js'></script>"
      ],
      "text/plain": [
       "HTML{String}(\"<script class='js-collapse-script' src='/assetserver/b5211b19a5aa56f2c76a4f66df0ec7b35773f4c6-assets/webio/dist/bundle.js'></script>\")"
      ]
     },
     "metadata": {},
     "output_type": "display_data"
    },
    {
     "data": {
      "text/html": [
       "<script class='js-collapse-script' src='/assetserver/b5211b19a5aa56f2c76a4f66df0ec7b35773f4c6-assets/providers/ijulia_setup.js'></script>"
      ],
      "text/plain": [
       "HTML{String}(\"<script class='js-collapse-script' src='/assetserver/b5211b19a5aa56f2c76a4f66df0ec7b35773f4c6-assets/providers/ijulia_setup.js'></script>\")"
      ]
     },
     "metadata": {},
     "output_type": "display_data"
    },
    {
     "data": {
      "text/html": [
       "  <script class='js-collapse-script'>\n",
       "    $('.js-collapse-script').parent('.output_subarea').css('padding', '0');\n",
       "  </script>\n"
      ],
      "text/plain": [
       "HTML{String}(\"  <script class='js-collapse-script'>\\n    \\$('.js-collapse-script').parent('.output_subarea').css('padding', '0');\\n  </script>\\n\")"
      ]
     },
     "metadata": {},
     "output_type": "display_data"
    }
   ],
   "source": [
    "using JAC"
   ]
  },
  {
   "cell_type": "markdown",
   "metadata": {},
   "source": [
    "Multiply charged ions have attracted contineous interest due to recent observations by the Solar and heliospheric Observatory (SOHO), the Far Ultraviolet Spectroscopic Explorer (FUSE) and several others. In the extreme ultra-violet (EUV) range of spectra, for instance, many of the spectroscopically observed lines belong to the iron-group elements owing to their high abundance in different objects. Until the present, however, many of these lines remained unclassified because reliable theoretical predictions are often not available that consistently include relativistic and correlation effects. \n",
    "\n",
    "To demonstrate the use of the JAC toolbox, we here consider the level structure of Fe^9+ ions which, in spectroscopic notation, give rise to the spectrum Fe X. Several medium-to-large scale computations have been carried out to calculate the excitation energies and transition probabilities of (and among) the levels from the\n",
    "[Ne] 3s^2 3p^5  --->  3s^2 3p^4 3d + 3s 3p^6 configuration. These three configurations comprises in total\n",
    "31 fine-structure levels with total angular momenta J=1/2, ..., 9/2 (cf. Dong et al., 1999). Although the \n",
    "3s^2 3p^4 3d + 3s 3p^6 levels mainly decay by electric-dipole (E1) transitions, also M1, E2 and M2 multipole transitions have been considered in the literature. Below, we show how this complete Fe X spectrum can be calculated approximately by means of a single call within the JAC toolbox.\n",
    "\n"
   ]
  },
  {
   "cell_type": "markdown",
   "metadata": {},
   "source": [
    "However, before we shall perform this computation, let us first consider some technical issues of how to select\n",
    "proper *physical units*, in which all the energies, rates, etc. are handled at input and output time. To see the present **settings** of this units, we can simply call:"
   ]
  },
  {
   "cell_type": "code",
   "execution_count": 2,
   "metadata": {},
   "outputs": [
    {
     "ename": "UndefVarError",
     "evalue": "UndefVarError: JAC not defined",
     "output_type": "error",
     "traceback": [
      "UndefVarError: JAC not defined",
      "",
      "Stacktrace:",
      " [1] top-level scope at In[2]:1"
     ]
    }
   ],
   "source": [
    "JAC.display(\"settings\")"
   ]
  },
  {
   "cell_type": "markdown",
   "metadata": {},
   "source": [
    "Of course, we could easily change any of these units by a proper call to JAC.define(), but we shall leave the present (standard) choice for the given computations. Call JAC.define() to change these settings:\n"
   ]
  },
  {
   "cell_type": "code",
   "execution_count": 3,
   "metadata": {},
   "outputs": [
    {
     "ename": "UndefVarError",
     "evalue": "UndefVarError: JAC not defined",
     "output_type": "error",
     "traceback": [
      "UndefVarError: JAC not defined",
      "",
      "Stacktrace:",
      " [1] top-level scope at /buildworker/worker/package_linux64/build/usr/share/julia/stdlib/v0.7/REPL/src/docview.jl:304",
      " [2] eval at ./boot.jl:319 [inlined]",
      " [3] execute_request(::ZMQ.Socket, ::IJulia.Msg) at /home/fritzsch/.julia/packages/IJulia/DL02A/src/execute_request.jl:61",
      " [4] #invokelatest#1 at ./essentials.jl:691 [inlined]",
      " [5] invokelatest at ./essentials.jl:690 [inlined]",
      " [6] eventloop(::ZMQ.Socket) at /home/fritzsch/.julia/packages/IJulia/DL02A/src/eventloop.jl:8",
      " [7] (::getfield(IJulia, Symbol(\"##12#15\")))() at ./task.jl:262"
     ]
    }
   ],
   "source": [
    "? JAC.define"
   ]
  },
  {
   "cell_type": "markdown",
   "metadata": {},
   "source": [
    "\n",
    "Moreover, we can call JAC.define() to open some ASCII (.txt) file into which all the final (important) results are printed for later reference and inspection.\n"
   ]
  },
  {
   "cell_type": "code",
   "execution_count": 4,
   "metadata": {},
   "outputs": [
    {
     "ename": "UndefVarError",
     "evalue": "UndefVarError: JAC not defined",
     "output_type": "error",
     "traceback": [
      "UndefVarError: JAC not defined",
      "",
      "Stacktrace:",
      " [1] top-level scope at In[4]:1"
     ]
    }
   ],
   "source": [
    "JAC.define(\"print summary: open\", \"06-output-radiative.txt\")"
   ]
  },
  {
   "cell_type": "markdown",
   "metadata": {},
   "source": [
    "\n",
    "Next, we shall now describe the computation to be carried out. Apart from a title line (String) and nuclear model (cf. tutorial 03-setting-the-nucleus.ipynb), we here need to specify the initial- and final-state configurations that are to be included into the computation. This is done by defining an instance of an:\n",
    "\n",
    "comp = Atomic.Computation(\"Energies and Einstein coefficients for the spectrum Fe X\",  Nuclear.Model(26.);              \n",
    "              initialConfigs = [Configuration(\"[Ne] 3s 3p^6\"), Configuration(\"[Ne] 3s^2 3p^4 3d\")],              \n",
    "              finalConfigs   = [Configuration(\"[Ne] 3s^2 3p^5\")],               \n",
    "              process = RadiativeX, \n",
    "              processSettings = Radiative.Settings(...) ); \n",
    "              \n",
    "In principle, any number of configurations can be specified as long as they are listed explicitly. Here, we have selected also the identifier **RadiativeX** to consider the computation of transition probabilities between the levels of the three configurations given above. All further details about any computation can be specified by means of some proper **settings** that are specific to each particular process, here Radiative.Settings(). To better understand to which extent we can affect and control these computations, let us loot at the definition of this data struct:\n"
   ]
  },
  {
   "cell_type": "code",
   "execution_count": 5,
   "metadata": {},
   "outputs": [
    {
     "ename": "UndefVarError",
     "evalue": "UndefVarError: Radiative not defined",
     "output_type": "error",
     "traceback": [
      "UndefVarError: Radiative not defined",
      "",
      "Stacktrace:",
      " [1] top-level scope at /buildworker/worker/package_linux64/build/usr/share/julia/stdlib/v0.7/REPL/src/docview.jl:304",
      " [2] eval at ./boot.jl:319 [inlined]",
      " [3] execute_request(::ZMQ.Socket, ::IJulia.Msg) at /home/fritzsch/.julia/packages/IJulia/DL02A/src/execute_request.jl:61",
      " [4] #invokelatest#1 at ./essentials.jl:691 [inlined]",
      " [5] invokelatest at ./essentials.jl:690 [inlined]",
      " [6] eventloop(::ZMQ.Socket) at /home/fritzsch/.julia/packages/IJulia/DL02A/src/eventloop.jl:8",
      " [7] (::getfield(IJulia, Symbol(\"##12#15\")))() at ./task.jl:262"
     ]
    }
   ],
   "source": [
    "? Radiative.Settings"
   ]
  },
  {
   "cell_type": "markdown",
   "metadata": {},
   "source": [
    "\n",
    "Of course, we can always apply the default values for any particular compuation which, for present case, are given by:\n",
    "\n",
    "JAC.Radiative.Settings()\n",
    "Radiative.Settings(with multipoles = EmMultipole[E1], use-gauges = UseGauge[JAC.UseBabushkin], calcAnisotropy = false, printBeforeComputation = false, selectLines = false, selectedLines = Tuple{Int64,Int64}[], photonEnergyShift = 0.0, mimimumPhotonEnergy = 0.0, maximumPhotonEnergy = 0.0) \n",
    "\n",
    "\n",
    "Below, we wish to consider also other multipole transitions, namely E1, M1, E2, M2, and like perform all calculations within both, the Coulomb and Babushkin gauges. In addition, we shall NOT compute the (angular) anisotropy parameters nor do we wish to select individual transitions right from the beginning. This latter option might be interesting if large sets of configurations are to be considered. Moreover, we do not neither specify any (overall) shift nor restrict the photon energies, two features that are of particular interest for large data sets\n",
    "\n",
    "\n",
    "We these remarks in mind, we now specify the atomic computation in the form:\n"
   ]
  },
  {
   "cell_type": "code",
   "execution_count": 6,
   "metadata": {
    "scrolled": true
   },
   "outputs": [
    {
     "ename": "UndefVarError",
     "evalue": "UndefVarError: Nuclear not defined",
     "output_type": "error",
     "traceback": [
      "UndefVarError: Nuclear not defined",
      "",
      "Stacktrace:",
      " [1] top-level scope at In[6]:1"
     ]
    }
   ],
   "source": [
    "comp = Atomic.Computation(\"Energies and Einstein coefficients for the spectrum Fe X\",  Nuclear.Model(26.);\n",
    "              initialConfigs = [Configuration(\"[Ne] 3s 3p^6\"), Configuration(\"[Ne] 3s^2 3p^4 3d\")],\n",
    "              finalConfigs   = [Configuration(\"[Ne] 3s^2 3p^5\")], \n",
    "              process = RadiativeX, \n",
    "              processSettings = Radiative.Settings([E1, M1, E2, M2], [JAC.UseCoulomb, JAC.UseBabushkin], \n",
    "                        false, true, false, Tuple{Int64,Int64}[], 0., 0., 10000. ) ); "
   ]
  },
  {
   "cell_type": "markdown",
   "metadata": {},
   "source": [
    "\n",
    "All what is needed now is to **perform** this computation by the call:\n"
   ]
  },
  {
   "cell_type": "code",
   "execution_count": 7,
   "metadata": {},
   "outputs": [
    {
     "ename": "UndefVarError",
     "evalue": "UndefVarError: perform not defined",
     "output_type": "error",
     "traceback": [
      "UndefVarError: perform not defined",
      "",
      "Stacktrace:",
      " [1] top-level scope at In[7]:1"
     ]
    }
   ],
   "source": [
    "perform(comp)"
   ]
  },
  {
   "cell_type": "markdown",
   "metadata": {},
   "source": [
    "\n",
    "... and which shows all the intermediate output of the computations. First, all the initial-state levels are calculated *self-consistently* due to the default values for such SCF and configuration-interaction computations, and similarly for all final-state levels. These computations include the definition of the CSF basis, the generation of *start* orbitals as well as the computation of the angular coefficients, the SCF interation and up to the set-up and diagonalization of the corresponding Hamiltonian matrix. Obviously, this gives rise to a full representation of all atomic levels of interest.\n",
    "\n",
    "These levels are then utilized to compute the (multipole) transitions amplitudes and rates. All final results are also tabulated in a neat format. However, since many of the internal tables of the JAC toolbox are *wider* than the standard widths of these notebooks, we shall first **close** our .txt summary file:\n"
   ]
  },
  {
   "cell_type": "code",
   "execution_count": 8,
   "metadata": {},
   "outputs": [
    {
     "ename": "UndefVarError",
     "evalue": "UndefVarError: JAC not defined",
     "output_type": "error",
     "traceback": [
      "UndefVarError: JAC not defined",
      "",
      "Stacktrace:",
      " [1] top-level scope at In[8]:1"
     ]
    }
   ],
   "source": [
    "JAC.define(\"print summary: close\", \"\")"
   ]
  },
  {
   "cell_type": "markdown",
   "metadata": {},
   "source": [
    "\n",
    "This summary file **06-output-radiative.txt** can be found in the currnt directory. As seen from these tables, the transition energies agree within 3..4 digits with a similar computation by other atomic structure codes, such as GRASP. Apart from the level splitting among the low-lying 3s 3p^6, 3s^2 3p^4 3d  J=1/2 levels, further comparision can be made also with the evaluated data from the NIST Spectroscopic Database, for instance, for the excitation energies from the 3s^2 3p^5  J = 3/2 ground state."
   ]
  },
  {
   "cell_type": "code",
   "execution_count": null,
   "metadata": {},
   "outputs": [],
   "source": []
  },
  {
   "cell_type": "code",
   "execution_count": null,
   "metadata": {},
   "outputs": [],
   "source": []
  }
 ],
 "metadata": {
  "@webio": {
   "lastCommId": "3eaeea6e37e2454886b38d456bb4af3f",
   "lastKernelId": "0a1bd3d4-06e5-47bc-b19a-2380d9ed55d1"
  },
  "kernelspec": {
   "display_name": "Julia 1.0.3",
   "language": "julia",
   "name": "julia-1.0"
  },
  "language_info": {
   "file_extension": ".jl",
   "mimetype": "application/julia",
   "name": "julia",
   "version": "1.0.3"
  }
 },
 "nbformat": 4,
 "nbformat_minor": 2
}
