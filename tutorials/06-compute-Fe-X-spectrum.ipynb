{
 "cells": [
  {
   "cell_type": "raw",
   "metadata": {},
   "source": [
    "# Compute the spectrum of Fe X"
   ]
  },
  {
   "cell_type": "code",
   "execution_count": 1,
   "metadata": {},
   "outputs": [
    {
     "name": "stderr",
     "output_type": "stream",
     "text": [
      "┌ Info: Precompiling JAC [top-level]\n",
      "└ @ Base loading.jl:1187\n",
      "WARNING: Method definition show(IO, JAC.Parity) in module JAC at Enums.jl:149 overwritten at /home/fritzsch/fri/JAC/src/jac-basics.jl:270.\n",
      "WARNING: Method definition show(IO, JAC.AtomicProcess) in module JAC at Enums.jl:149 overwritten at /home/fritzsch/fri/JAC/src/jac-basics.jl:699.\n",
      "WARNING: Method definition show(IO, JAC.EmGauge) in module JAC at Enums.jl:149 overwritten at /home/fritzsch/fri/JAC/src/jac-basics.jl:826.\n",
      "WARNING: Method definition show(IO, JAC.UseGauge) in module JAC at Enums.jl:149 overwritten at /home/fritzsch/fri/JAC/src/jac-basics.jl:867.\n",
      "WARNING: Method definition show(IO, JAC.AtomicLevelProperty) in module JAC at Enums.jl:149 overwritten at /home/fritzsch/fri/JAC/src/jac-basics.jl:1084.\n",
      "ERROR: LoadError: LoadError: syntax: incomplete: \"module\" at /home/fritzsch/fri/JAC/src/module-Hfs.jl:6 requires end\n",
      "Stacktrace:\n",
      " [1] include at ./boot.jl:317 [inlined]\n",
      " [2] include_relative(::Module, ::String) at ./loading.jl:1038\n",
      " [3] include at ./sysimg.jl:29 [inlined]\n",
      " [4] include(::String) at /home/fritzsch/fri/JAC/src/JAC.jl:39\n",
      " [5] top-level scope at none:0\n",
      " [6] include at ./boot.jl:317 [inlined]\n",
      " [7] include_relative(::Module, ::String) at ./loading.jl:1038\n",
      " [8] include(::Module, ::String) at ./sysimg.jl:29\n",
      " [9] top-level scope at none:2\n",
      " [10] eval at ./boot.jl:319 [inlined]\n",
      " [11] eval(::Expr) at ./client.jl:399\n",
      " [12] top-level scope at ./none:3\n",
      "in expression starting at /home/fritzsch/fri/JAC/src/module-Hfs.jl:2\n",
      "in expression starting at /home/fritzsch/fri/JAC/src/JAC.jl:73\n"
     ]
    },
    {
     "ename": "LoadError",
     "evalue": "Failed to precompile JAC [top-level] to /home/fritzsch/.julia/compiled/v0.7/JAC.ji.",
     "output_type": "error",
     "traceback": [
      "Failed to precompile JAC [top-level] to /home/fritzsch/.julia/compiled/v0.7/JAC.ji.",
      "",
      "Stacktrace:",
      " [1] error(::String) at ./error.jl:33",
      " [2] macro expansion at ./logging.jl:313 [inlined]",
      " [3] compilecache(::Base.PkgId, ::String) at ./loading.jl:1185",
      " [4] macro expansion at ./logging.jl:311 [inlined]",
      " [5] _require(::Base.PkgId) at ./loading.jl:941",
      " [6] require(::Base.PkgId) at ./loading.jl:852",
      " [7] macro expansion at ./logging.jl:311 [inlined]",
      " [8] require(::Module, ::Symbol) at ./loading.jl:834",
      " [9] include at ./boot.jl:317 [inlined]",
      " [10] include_relative(::Module, ::String) at ./loading.jl:1038",
      " [11] include(::Module, ::String) at ./sysimg.jl:29",
      " [12] include(::String) at ./client.jl:398",
      " [13] top-level scope at In[1]:1"
     ]
    }
   ],
   "source": [
    "include(\"../src/jac.jl\")  ## using JAC"
   ]
  },
  {
   "cell_type": "markdown",
   "metadata": {},
   "source": [
    "Multiply charged ions have attracted contineous interest due to recent observations by the Solar and heliospheric Observatory (SOHO), the Far Ultraviolet Spectroscopic Explorer (FUSE) and several others. In the extreme ultra-violet (EUV) range of spectra, for instance, many of the spectroscopically observed lines belong to the iron-group elements owing to their high abundance in different objects. Until the present, however, many of these lines remained unclassified because reliable theoretical predictions are often not available that consistently include relativistic and correlation effects. \n",
    "\n",
    "To demonstrate the use of the JAC toolbox, we here consider the level structure of Fe^9+ ions which, in spectroscopic notation, give rise to the spectrum Fe X. Several medium-to-large scale computations have been carried out to calculate the excitation energies and transition probabilities of (and among) the levels from the\n",
    "[Ne] 3s^2 3p^5  --->  3s^2 3p^4 3d + 3s 3p^6 configuration. These three configurations comprises in total\n",
    "31 fine-structure levels with total angular momenta J=1/2, ..., 9/2 (cf. Dong et al., 1999). Although the \n",
    "3s^2 3p^4 3d + 3s 3p^6 levels mainly decay by electric-dipole (E1) transitions, also M1, E2 and M2 multipole transitions have been considered in the literature. Below, we show how this complete Fe X spectrum can be calculated approximately by means of a single call within the JAC toolbox.\n",
    "\n"
   ]
  },
  {
   "cell_type": "markdown",
   "metadata": {},
   "source": [
    "However, before we shall perform this computation, let us first consider some technical issues of how to select\n",
    "proper *physical units*, in which all the energies, rates, etc. are handled at input and output time. To see the present **settings** of this units, we can simply call:"
   ]
  },
  {
   "cell_type": "code",
   "execution_count": 2,
   "metadata": {},
   "outputs": [
    {
     "ename": "UndefVarError",
     "evalue": "UndefVarError: JAC not defined",
     "output_type": "error",
     "traceback": [
      "UndefVarError: JAC not defined",
      "",
      "Stacktrace:",
      " [1] top-level scope at In[2]:1"
     ]
    }
   ],
   "source": [
    "JAC.display(\"settings\")"
   ]
  },
  {
   "cell_type": "markdown",
   "metadata": {},
   "source": [
    "Of course, we could easily change any of these units by a proper call to JAC.define(), but we shall leave the present (standard) choice for the given computations. Call JAC.define() to change these settings:\n"
   ]
  },
  {
   "cell_type": "code",
   "execution_count": 3,
   "metadata": {},
   "outputs": [
    {
     "ename": "UndefVarError",
     "evalue": "UndefVarError: JAC not defined",
     "output_type": "error",
     "traceback": [
      "UndefVarError: JAC not defined",
      "",
      "Stacktrace:",
      " [1] top-level scope at /buildworker/worker/package_linux64/build/usr/share/julia/stdlib/v0.7/REPL/src/docview.jl:304",
      " [2] eval at ./boot.jl:319 [inlined]",
      " [3] execute_request(::ZMQ.Socket, ::IJulia.Msg) at /home/fritzsch/.julia/packages/IJulia/DL02A/src/execute_request.jl:61",
      " [4] #invokelatest#1 at ./essentials.jl:691 [inlined]",
      " [5] invokelatest at ./essentials.jl:690 [inlined]",
      " [6] eventloop(::ZMQ.Socket) at /home/fritzsch/.julia/packages/IJulia/DL02A/src/eventloop.jl:8",
      " [7] (::getfield(IJulia, Symbol(\"##12#15\")))() at ./task.jl:262"
     ]
    }
   ],
   "source": [
    "? JAC.define"
   ]
  },
  {
   "cell_type": "markdown",
   "metadata": {},
   "source": [
    "\n",
    "Moreover, we can call JAC.define() to open some ASCII (.txt) file into which all the final (important) results are printed for later reference and inspection.\n"
   ]
  },
  {
   "cell_type": "code",
   "execution_count": 4,
   "metadata": {},
   "outputs": [
    {
     "ename": "UndefVarError",
     "evalue": "UndefVarError: JAC not defined",
     "output_type": "error",
     "traceback": [
      "UndefVarError: JAC not defined",
      "",
      "Stacktrace:",
      " [1] top-level scope at In[4]:1"
     ]
    }
   ],
   "source": [
    "JAC.define(\"print summary: open\", \"06-output-radiative.txt\")"
   ]
  },
  {
   "cell_type": "markdown",
   "metadata": {},
   "source": [
    "\n",
    "Next, we shall now describe the computation to be carried out. Apart from a title line (String) and nuclear model (cf. tutorial 03-setting-the-nucleus.ipynb), we here need to specify the initial- and final-state configurations that are to be included into the computation. This is done by defining an instance of an:\n",
    "\n",
    "comp = Atomic.Computation(\"Energies and Einstein coefficients for the spectrum Fe X\",  Nuclear.Model(26.);              \n",
    "              initialConfigs = [Configuration(\"[Ne] 3s 3p^6\"), Configuration(\"[Ne] 3s^2 3p^4 3d\")],              \n",
    "              finalConfigs   = [Configuration(\"[Ne] 3s^2 3p^5\")],               \n",
    "              process = RadiativeX, \n",
    "              processSettings = Radiative.Settings(...) ); \n",
    "              \n",
    "In principle, any number of configurations can be specified as long as they are listed explicitly. Here, we have selected also the identifier **RadiativeX** to consider the computation of transition probabilities between the levels of the three configurations given above. All further details about any computation can be specified by means of some proper **settings** that are specific to each particular process, here Radiative.Settings(). To better understand to which extent we can affect and control these computations, let us loot at the definition of this data struct:\n"
   ]
  },
  {
   "cell_type": "code",
   "execution_count": 5,
   "metadata": {},
   "outputs": [
    {
     "ename": "UndefVarError",
     "evalue": "UndefVarError: Radiative not defined",
     "output_type": "error",
     "traceback": [
      "UndefVarError: Radiative not defined",
      "",
      "Stacktrace:",
      " [1] top-level scope at /buildworker/worker/package_linux64/build/usr/share/julia/stdlib/v0.7/REPL/src/docview.jl:304",
      " [2] eval at ./boot.jl:319 [inlined]",
      " [3] execute_request(::ZMQ.Socket, ::IJulia.Msg) at /home/fritzsch/.julia/packages/IJulia/DL02A/src/execute_request.jl:61",
      " [4] #invokelatest#1 at ./essentials.jl:691 [inlined]",
      " [5] invokelatest at ./essentials.jl:690 [inlined]",
      " [6] eventloop(::ZMQ.Socket) at /home/fritzsch/.julia/packages/IJulia/DL02A/src/eventloop.jl:8",
      " [7] (::getfield(IJulia, Symbol(\"##12#15\")))() at ./task.jl:262"
     ]
    }
   ],
   "source": [
    "? Radiative.Settings"
   ]
  },
  {
   "cell_type": "markdown",
   "metadata": {},
   "source": [
    "\n",
    "Of course, we can always apply the default values for any particular compuation which, for present case, are given by:\n",
    "\n",
    "JAC.Radiative.Settings()\n",
    "Radiative.Settings(with multipoles = EmMultipole[E1], use-gauges = UseGauge[JAC.UseBabushkin], calcAnisotropy = false, printBeforeComputation = false, selectLines = false, selectedLines = Tuple{Int64,Int64}[], photonEnergyShift = 0.0, mimimumPhotonEnergy = 0.0, maximumPhotonEnergy = 0.0) \n",
    "\n",
    "\n",
    "Below, we wish to consider also other multipole transitions, namely E1, M1, E2, M2, and like perform all calculations within both, the Coulomb and Babushkin gauges. In addition, we shall NOT compute the (angular) anisotropy parameters nor do we wish to select individual transitions right from the beginning. This latter option might be interesting if large sets of configurations are to be considered. Moreover, we do not neither specify any (overall) shift nor restrict the photon energies, two features that are of particular interest for large data sets\n",
    "\n",
    "\n",
    "We these remarks in mind, we now specify the atomic computation in the form:\n"
   ]
  },
  {
   "cell_type": "code",
   "execution_count": 6,
   "metadata": {
    "scrolled": true
   },
   "outputs": [
    {
     "ename": "UndefVarError",
     "evalue": "UndefVarError: Nuclear not defined",
     "output_type": "error",
     "traceback": [
      "UndefVarError: Nuclear not defined",
      "",
      "Stacktrace:",
      " [1] top-level scope at In[6]:1"
     ]
    }
   ],
   "source": [
    "comp = Atomic.Computation(\"Energies and Einstein coefficients for the spectrum Fe X\",  Nuclear.Model(26.);\n",
    "              initialConfigs = [Configuration(\"[Ne] 3s 3p^6\"), Configuration(\"[Ne] 3s^2 3p^4 3d\")],\n",
    "              finalConfigs   = [Configuration(\"[Ne] 3s^2 3p^5\")], \n",
    "              process = RadiativeX, \n",
    "              processSettings = Radiative.Settings([E1, M1, E2, M2], [JAC.UseCoulomb, JAC.UseBabushkin], \n",
    "                        false, true, false, Tuple{Int64,Int64}[], 0., 0., 10000. ) ); "
   ]
  },
  {
   "cell_type": "markdown",
   "metadata": {},
   "source": [
    "\n",
    "All what is needed now is to **perform** this computation by the call:\n"
   ]
  },
  {
   "cell_type": "code",
   "execution_count": 7,
   "metadata": {},
   "outputs": [
    {
     "ename": "UndefVarError",
     "evalue": "UndefVarError: perform not defined",
     "output_type": "error",
     "traceback": [
      "UndefVarError: perform not defined",
      "",
      "Stacktrace:",
      " [1] top-level scope at In[7]:1"
     ]
    }
   ],
   "source": [
    "perform(comp)"
   ]
  },
  {
   "cell_type": "markdown",
   "metadata": {},
   "source": [
    "\n",
    "... and which shows all the intermediate output of the computations. First, all the initial-state levels are calculated *self-consistently* due to the default values for such SCF and configuration-interaction computations, and similarly for all final-state levels. These computations include the definition of the CSF basis, the generation of *start* orbitals as well as the computation of the angular coefficients, the SCF interation and up to the set-up and diagonalization of the corresponding Hamiltonian matrix. Obviously, this gives rise to a full representation of all atomic levels of interest.\n",
    "\n",
    "These levels are then utilized to compute the (multipole) transitions amplitudes and rates. All final results are also tabulated in a neat format. However, since many of the internal tables of the JAC toolbox are *wider* than the standard widths of these notebooks, we shall first **close** our .txt summary file:\n"
   ]
  },
  {
   "cell_type": "code",
   "execution_count": 8,
   "metadata": {},
   "outputs": [
    {
     "ename": "UndefVarError",
     "evalue": "UndefVarError: JAC not defined",
     "output_type": "error",
     "traceback": [
      "UndefVarError: JAC not defined",
      "",
      "Stacktrace:",
      " [1] top-level scope at In[8]:1"
     ]
    }
   ],
   "source": [
    "JAC.define(\"print summary: close\", \"\")"
   ]
  },
  {
   "cell_type": "markdown",
   "metadata": {},
   "source": [
    "\n",
    "This summary file **06-output-radiative.txt** can be found in the currnt directory. As seen from these tables, the transition energies agree within 3..4 digits with a similar computation by other atomic structure codes, such as GRASP. Apart from the level splitting among the low-lying 3s 3p^6, 3s^2 3p^4 3d  J=1/2 levels, further comparision can be made also with the evaluated data from the NIST Spectroscopic Database, for instance, for the excitation energies from the 3s^2 3p^5  J = 3/2 ground state."
   ]
  },
  {
   "cell_type": "code",
   "execution_count": null,
   "metadata": {},
   "outputs": [],
   "source": []
  },
  {
   "cell_type": "code",
   "execution_count": null,
   "metadata": {},
   "outputs": [],
   "source": []
  }
 ],
 "metadata": {
  "@webio": {
   "lastCommId": "ebde18bf5ef34b55a2bced517fbeb90d",
   "lastKernelId": "9e070f7c-ba47-4d64-b79a-817da357658b"
  },
  "kernelspec": {
   "display_name": "Julia 0.7.0",
   "language": "julia",
   "name": "julia-0.7"
  },
  "language_info": {
   "file_extension": ".jl",
   "mimetype": "application/julia",
   "name": "julia",
   "version": "0.7.0"
  }
 },
 "nbformat": 4,
 "nbformat_minor": 2
}
