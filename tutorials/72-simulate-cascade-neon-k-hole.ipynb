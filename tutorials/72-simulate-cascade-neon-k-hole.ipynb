{
 "cells": [
  {
   "cell_type": "markdown",
   "metadata": {},
   "source": [
    "# Cascade decay of a Ne 1s-hole: Simulate the final ion distribution"
   ]
  },
  {
   "cell_type": "markdown",
   "metadata": {},
   "source": [
    "# **This nootebook is still under construction !!!**"
   ]
  },
  {
   "cell_type": "code",
   "execution_count": 1,
   "metadata": {},
   "outputs": [],
   "source": [
    "using JAC"
   ]
  },
  {
   "cell_type": "markdown",
   "metadata": {},
   "source": [
    "\n",
    "The computation of the cascade tree alone does not provide much information which could be compared with experiment. To facilitate the prediction of cascades or the comparison with experiment, the amplitudes from the various decay pathways need to be combined properly in order to predict different spectra and observables. Such observables are\n",
    "\n",
    "(1)\n",
    "(2)\n",
    "\n",
    "What does it include: Let us have a look at the definition of such a `Cascade.Simulation`:\n"
   ]
  },
  {
   "cell_type": "code",
   "execution_count": 2,
   "metadata": {},
   "outputs": [
    {
     "data": {
      "text/latex": [
       "\\texttt{struct  Cascade.Simulation}  ... defines a simulation on some given cascade (data).\n",
       "\n",
       "\\begin{verbatim}\n",
       "+ name            ::String                                      ... Name of the simulation\n",
       "+ properties      ::Array{Cascade.AbstractSimulationProperty,1} ... Properties that are considered in this \n",
       "                                                                    simulation of the cascade (data).\n",
       "+ method          ::Cascade.AbstractSimulationMethod    ... Method that is used in the cascade simulation; \n",
       "                                                            cf. Cascade.SimulationMethod.\n",
       "+ settings        ::Cascade.SimulationSettings          ... Settings for performing these simulations.\n",
       "+ computationData ::Array{Dict{String,Any},1}           ... Date on which the simulations are performed\n",
       "\\end{verbatim}\n",
       "\\rule{\\textwidth}{1pt}\n",
       "\\texttt{Cascade.Simulation()}  ... constructor for an 'default' instance of a Cascade.Simulation.\n",
       "\n",
       "\\rule{\\textwidth}{1pt}\n",
       "\\texttt{Cascade.Simulation(sim::Cascade.Simulation;}\n",
       "\n",
       "\\begin{verbatim}\n",
       "        name=..,               properties=..,             method=..,              settings=..,     computationData=.. )\n",
       "        \n",
       "... constructor for re-defining the computation::Cascade.Simulation.\n",
       "\\end{verbatim}\n"
      ],
      "text/markdown": [
       "`struct  Cascade.Simulation`  ... defines a simulation on some given cascade (data).\n",
       "\n",
       "```\n",
       "+ name            ::String                                      ... Name of the simulation\n",
       "+ properties      ::Array{Cascade.AbstractSimulationProperty,1} ... Properties that are considered in this \n",
       "                                                                    simulation of the cascade (data).\n",
       "+ method          ::Cascade.AbstractSimulationMethod    ... Method that is used in the cascade simulation; \n",
       "                                                            cf. Cascade.SimulationMethod.\n",
       "+ settings        ::Cascade.SimulationSettings          ... Settings for performing these simulations.\n",
       "+ computationData ::Array{Dict{String,Any},1}           ... Date on which the simulations are performed\n",
       "```\n",
       "\n",
       "---\n",
       "\n",
       "`Cascade.Simulation()`  ... constructor for an 'default' instance of a Cascade.Simulation.\n",
       "\n",
       "---\n",
       "\n",
       "`Cascade.Simulation(sim::Cascade.Simulation;`\n",
       "\n",
       "```\n",
       "        name=..,               properties=..,             method=..,              settings=..,     computationData=.. )\n",
       "        \n",
       "... constructor for re-defining the computation::Cascade.Simulation.\n",
       "```\n"
      ],
      "text/plain": [
       "  \u001b[36mstruct  Cascade.Simulation\u001b[39m ... defines a simulation on some given cascade\n",
       "  (data).\n",
       "\n",
       "\u001b[36m  + name            ::String                                      ... Name of the simulation\u001b[39m\n",
       "\u001b[36m  + properties      ::Array{Cascade.AbstractSimulationProperty,1} ... Properties that are considered in this \u001b[39m\n",
       "\u001b[36m                                                                      simulation of the cascade (data).\u001b[39m\n",
       "\u001b[36m  + method          ::Cascade.AbstractSimulationMethod    ... Method that is used in the cascade simulation; \u001b[39m\n",
       "\u001b[36m                                                              cf. Cascade.SimulationMethod.\u001b[39m\n",
       "\u001b[36m  + settings        ::Cascade.SimulationSettings          ... Settings for performing these simulations.\u001b[39m\n",
       "\u001b[36m  + computationData ::Array{Dict{String,Any},1}           ... Date on which the simulations are performed\u001b[39m\n",
       "\n",
       "  ────────────────────────────────────────────────────────────────────────────\n",
       "\n",
       "  \u001b[36mCascade.Simulation()\u001b[39m ... constructor for an 'default' instance of a\n",
       "  Cascade.Simulation.\n",
       "\n",
       "  ────────────────────────────────────────────────────────────────────────────\n",
       "\n",
       "  \u001b[36mCascade.Simulation(sim::Cascade.Simulation;\u001b[39m\n",
       "\n",
       "\u001b[36m          name=..,               properties=..,             method=..,              settings=..,     computationData=.. )\u001b[39m\n",
       "\u001b[36m          \u001b[39m\n",
       "\u001b[36m  ... constructor for re-defining the computation::Cascade.Simulation.\u001b[39m"
      ]
     },
     "execution_count": 2,
     "metadata": {},
     "output_type": "execute_result"
    }
   ],
   "source": [
    "? Cascade.Simulation"
   ]
  },
  {
   "cell_type": "markdown",
   "metadata": {},
   "source": [
    "What is seen ... and which information needed to be provided for such a computation"
   ]
  },
  {
   "cell_type": "code",
   "execution_count": null,
   "metadata": {},
   "outputs": [],
   "source": []
  }
 ],
 "metadata": {
  "@webio": {
   "lastCommId": null,
   "lastKernelId": null
  },
  "kernelspec": {
   "display_name": "Julia 1.0.3",
   "language": "julia",
   "name": "julia-1.0"
  },
  "language_info": {
   "file_extension": ".jl",
   "mimetype": "application/julia",
   "name": "julia",
   "version": "1.0.3"
  }
 },
 "nbformat": 4,
 "nbformat_minor": 4
}
