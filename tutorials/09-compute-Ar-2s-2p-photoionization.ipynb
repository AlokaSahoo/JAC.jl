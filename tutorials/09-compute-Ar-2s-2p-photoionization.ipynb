{
 "cells": [
  {
   "cell_type": "raw",
   "metadata": {},
   "source": [
    "# Photoionization of atomic argon: compute cross sections and angular parameters"
   ]
  },
  {
   "cell_type": "code",
   "execution_count": 1,
   "metadata": {},
   "outputs": [
    {
     "data": {
      "text/html": [
       "    <script class='js-collapse-script'>\n",
       "        var curMatch =\n",
       "            window.location.href\n",
       "            .match(/(.*?)\\/notebooks\\/.*\\.ipynb/);\n",
       "\n",
       "        curMatch = curMatch ||\n",
       "            window.location.href\n",
       "            .match(/(.*?)\\/apps\\/.*\\.ipynb/);\n",
       "\n",
       "        if ( curMatch ) {\n",
       "            $('head').append('<base href=\"' + curMatch[1] + '/\">');\n",
       "        }\n",
       "    </script>\n"
      ],
      "text/plain": [
       "HTML{String}(\"    <script class='js-collapse-script'>\\n        var curMatch =\\n            window.location.href\\n            .match(/(.*?)\\\\/notebooks\\\\/.*\\\\.ipynb/);\\n\\n        curMatch = curMatch ||\\n            window.location.href\\n            .match(/(.*?)\\\\/apps\\\\/.*\\\\.ipynb/);\\n\\n        if ( curMatch ) {\\n            \\$('head').append('<base href=\\\"' + curMatch[1] + '/\\\">');\\n        }\\n    </script>\\n\")"
      ]
     },
     "metadata": {},
     "output_type": "display_data"
    },
    {
     "data": {
      "text/html": [
       "<script class='js-collapse-script' src='/assetserver/b5211b19a5aa56f2c76a4f66df0ec7b35773f4c6-assets/webio/dist/bundle.js'></script>"
      ],
      "text/plain": [
       "HTML{String}(\"<script class='js-collapse-script' src='/assetserver/b5211b19a5aa56f2c76a4f66df0ec7b35773f4c6-assets/webio/dist/bundle.js'></script>\")"
      ]
     },
     "metadata": {},
     "output_type": "display_data"
    },
    {
     "data": {
      "text/html": [
       "<script class='js-collapse-script' src='/assetserver/b5211b19a5aa56f2c76a4f66df0ec7b35773f4c6-assets/providers/ijulia_setup.js'></script>"
      ],
      "text/plain": [
       "HTML{String}(\"<script class='js-collapse-script' src='/assetserver/b5211b19a5aa56f2c76a4f66df0ec7b35773f4c6-assets/providers/ijulia_setup.js'></script>\")"
      ]
     },
     "metadata": {},
     "output_type": "display_data"
    },
    {
     "data": {
      "text/html": [
       "  <script class='js-collapse-script'>\n",
       "    $('.js-collapse-script').parent('.output_subarea').css('padding', '0');\n",
       "  </script>\n"
      ],
      "text/plain": [
       "HTML{String}(\"  <script class='js-collapse-script'>\\n    \\$('.js-collapse-script').parent('.output_subarea').css('padding', '0');\\n  </script>\\n\")"
      ]
     },
     "metadata": {},
     "output_type": "display_data"
    }
   ],
   "source": [
    "include(\"../src/jac.jl\")  ## using JAC"
   ]
  },
  {
   "cell_type": "markdown",
   "metadata": {},
   "source": [
    "\n",
    "Here, we wish to calculate the cross sections and the beta_2 angular parameters for the photoionzation of atomic argon by linearly-polarized synchrotron radiation. Since the ionization process depends on the energy and polarization of the incident radiatian, the **standard settings** (though available be default) are of less help, and at least the photon energies should be specified in advance.\n"
   ]
  },
  {
   "cell_type": "markdown",
   "metadata": {},
   "source": [
    "\n",
    "Therefore, let us first have a look how these settings are defined internally:\n"
   ]
  },
  {
   "cell_type": "code",
   "execution_count": 2,
   "metadata": {
    "scrolled": true
   },
   "outputs": [
    {
     "data": {
      "text/markdown": [
       "`struct  PhotoIonization.Settings`  ... defines a type for the details and parameters of computing photoionization lines.\n",
       "\n",
       "```\n",
       "+ multipoles              ::Array{EmMultipole}           ... Specifies the multipoles of the radiation field that are to be included.\n",
       "+ gauges                  ::Array{UseGauge}              ... Specifies the gauges to be included into the computations.\n",
       "+ photonEnergies          ::Array{Float64,1}             ... List of photon energies.  \n",
       "+ calcAnisotropy          ::Bool                         ... True, if the beta anisotropy parameters are to be calculated and false otherwise \n",
       "+ calcPartialCs           ::Bool                         ... True, if partial cross sections are to be calculated and false otherwise.  \n",
       "+ calcTensors             ::Bool                         ... True, if the statistical tensors of the excited atom are to be calculated and false otherwise. \n",
       "+ printBeforeComputation  ::Bool                         ... True, if all energies and lines are printed before their evaluation.\n",
       "+ selectLines             ::Bool                         ... True, if lines are selected individually for the computations.\n",
       "+ selectedLines           ::Array{Tuple{Int64,Int64},1}  ... List of lines, given by tupels (inital-level, final-level).\n",
       "```\n",
       "\n",
       "---\n",
       "\n",
       "`JAC.PhotoIonization.Settings()`  ... constructor for the default values of photoionization line computations\n"
      ],
      "text/plain": [
       "  \u001b[36mstruct  PhotoIonization.Settings\u001b[39m ... defines a type for the details and\n",
       "  parameters of computing photoionization lines.\n",
       "\n",
       "\u001b[36m  + multipoles              ::Array{EmMultipole}           ... Specifies the multipoles of the radiation field that are to be included.\u001b[39m\n",
       "\u001b[36m  + gauges                  ::Array{UseGauge}              ... Specifies the gauges to be included into the computations.\u001b[39m\n",
       "\u001b[36m  + photonEnergies          ::Array{Float64,1}             ... List of photon energies.  \u001b[39m\n",
       "\u001b[36m  + calcAnisotropy          ::Bool                         ... True, if the beta anisotropy parameters are to be calculated and false otherwise \u001b[39m\n",
       "\u001b[36m  + calcPartialCs           ::Bool                         ... True, if partial cross sections are to be calculated and false otherwise.  \u001b[39m\n",
       "\u001b[36m  + calcTensors             ::Bool                         ... True, if the statistical tensors of the excited atom are to be calculated and false otherwise. \u001b[39m\n",
       "\u001b[36m  + printBeforeComputation  ::Bool                         ... True, if all energies and lines are printed before their evaluation.\u001b[39m\n",
       "\u001b[36m  + selectLines             ::Bool                         ... True, if lines are selected individually for the computations.\u001b[39m\n",
       "\u001b[36m  + selectedLines           ::Array{Tuple{Int64,Int64},1}  ... List of lines, given by tupels (inital-level, final-level).\u001b[39m\n",
       "\n",
       "  ────────────────────────────────────────────────────────────────────────────\n",
       "\n",
       "  \u001b[36mJAC.PhotoIonization.Settings()\u001b[39m ... constructor for the default values of\n",
       "  photoionization line computations"
      ]
     },
     "execution_count": 2,
     "metadata": {},
     "output_type": "execute_result"
    }
   ],
   "source": [
    "? PhotoIonization.Settings"
   ]
  },
  {
   "cell_type": "code",
   "execution_count": 5,
   "metadata": {},
   "outputs": [
    {
     "ename": "ErrorException",
     "evalue": "type Settings has no field calccalcPartialCs",
     "output_type": "error",
     "traceback": [
      "type Settings has no field calccalcPartialCs",
      "",
      "Stacktrace:",
      " [1] getproperty(::Any, ::Symbol) at ./sysimg.jl:18",
      " [2] show(::IOContext{Base.GenericIOBuffer{Array{UInt8,1}}}, ::JAC.PhotoIonization.Settings) at /home/fritzsch/fri/JAC/src/module-PhotoIonization.jl:55",
      " [3] show(::IOContext{Base.GenericIOBuffer{Array{UInt8,1}}}, ::MIME{Symbol(\"text/plain\")}, ::JAC.PhotoIonization.Settings) at ./sysimg.jl:195",
      " [4] limitstringmime(::MIME{Symbol(\"text/plain\")}, ::JAC.PhotoIonization.Settings) at /home/fritzsch/.julia/packages/IJulia/DL02A/src/inline.jl:37",
      " [5] display_mimestring(::MIME{Symbol(\"text/plain\")}, ::JAC.PhotoIonization.Settings) at /home/fritzsch/.julia/packages/IJulia/DL02A/src/display.jl:66",
      " [6] display_dict(::JAC.PhotoIonization.Settings) at /home/fritzsch/.julia/packages/IJulia/DL02A/src/display.jl:95",
      " [7] #invokelatest#1 at ./essentials.jl:691 [inlined]",
      " [8] invokelatest at ./essentials.jl:690 [inlined]",
      " [9] execute_request(::ZMQ.Socket, ::IJulia.Msg) at /home/fritzsch/.julia/packages/IJulia/DL02A/src/execute_request.jl:97",
      " [10] #invokelatest#1 at ./essentials.jl:691 [inlined]",
      " [11] invokelatest at ./essentials.jl:690 [inlined]",
      " [12] eventloop(::ZMQ.Socket) at /home/fritzsch/.julia/packages/IJulia/DL02A/src/eventloop.jl:8",
      " [13] (::getfield(IJulia, Symbol(\"##12#15\")))() at ./task.jl:262"
     ]
    }
   ],
   "source": [
    "PhotoIonization.Settings()"
   ]
  },
  {
   "cell_type": "markdown",
   "metadata": {},
   "source": [
    "\n",
    "What can be seen from this output ?? ... and which general features can be specified; which of these features will be discussed below ... or for which shall we refer to the manual ??\n"
   ]
  },
  {
   "cell_type": "markdown",
   "metadata": {},
   "source": [
    "We here wish to calculate the cross sections from just the Ar 3s^2 3p^6 ^1S_0 ground level at the two photon energies 50 eV and 100 eV, respectively. For this, let us re-set the energy units and the **Photoionization.Settings** to:\n"
   ]
  },
  {
   "cell_type": "code",
   "execution_count": null,
   "metadata": {},
   "outputs": [],
   "source": [
    "JAC.define(\"units: energy\", \"eV\")\n",
    "photoSettings = PhotoIonization.Settings(...)"
   ]
  },
  {
   "cell_type": "markdown",
   "metadata": {},
   "source": [
    "\n",
    "With these settings, we can proceed standard lines and compute the cross section and beta_2 parameters by:\n"
   ]
  },
  {
   "cell_type": "code",
   "execution_count": null,
   "metadata": {},
   "outputs": [],
   "source": [
    "wa = Atomic.Computation(...)\n",
    "perform(wa)"
   ]
  },
  {
   "cell_type": "markdown",
   "metadata": {},
   "source": [
    "\n",
    "What can be seen from this output ?? .. and what else could be controlled ?? ... for this, we refer the user to the manual.\n"
   ]
  },
  {
   "cell_type": "code",
   "execution_count": null,
   "metadata": {},
   "outputs": [],
   "source": []
  }
 ],
 "metadata": {
  "@webio": {
   "lastCommId": "f66ad8c0113147f99c9594493f39a0a9",
   "lastKernelId": "53fdaf51-8a44-4960-8471-c666e3e174d9"
  },
  "kernelspec": {
   "display_name": "Julia 0.7.0",
   "language": "julia",
   "name": "julia-0.7"
  },
  "language_info": {
   "file_extension": ".jl",
   "mimetype": "application/julia",
   "name": "julia",
   "version": "0.7.0"
  }
 },
 "nbformat": 4,
 "nbformat_minor": 2
}
