{
 "cells": [
  {
   "cell_type": "markdown",
   "metadata": {},
   "source": [
    "# Photoionization and subsequent cascade decay of neutral neon"
   ]
  },
  {
   "cell_type": "code",
   "execution_count": 1,
   "metadata": {},
   "outputs": [],
   "source": [
    "using JAC"
   ]
  },
  {
   "cell_type": "markdown",
   "metadata": {},
   "source": [
    "Atomic cascades usually depend also on the prior excitation or ionization of the atom or ion of interest. Therefore, it is desirable to combine information about the excitation and subsequent decay. While the decay arises due to *internal* interactions among the electrons or the spontaneous photon emission, the excitation or ionization may occur due to photon- or electron-impact processes, whose modelling itself is quite cumbersome.\n",
    "\n",
    "Accurate photo-excitation studies are difficult since the theoretical (transition) energies are often not accurate enough to decide whether incoming photons are sufficiently resonant to trigger the excitation process. Photoionization is perhaps the simplest process which, apart from embedded resonances, are less sensitive to the details of the incoming beams. However, photoionization formally often results in a quite large number of different excited configurations, although with very different cross sections. Moreover, photoionization is often *tuned* over a range of photon energies with energy- and level-dependent cross sections.\n",
    "\n",
    "Here, we shall describe the cascade that results from the photoionization and subsequent decay of neutral neon, $ 1s^2 2s^2 2p^6 \\to (1s 2s^2 2p^6 + 1s^2 2s 2p^6 + 1s^2 2s^2 2p^5) \\to ... \\to$ Ne$^{q+} + q\\: e^-$. For this photoionization-and-subsequent-decay cascade, it is useful and necessary in JAC to compute the photoionization and the decay cascade separately, and to combine the corresponding transition data later at the time of simulations. For the photoionization, we need to perform a `Cascade.Computation` for the `scheme::Cascade.PhotonIonizationScheme`\n"
   ]
  },
  {
   "cell_type": "code",
   "execution_count": 2,
   "metadata": {},
   "outputs": [
    {
     "data": {
      "text/latex": [
       "\\texttt{struct  Cascade.PhotonIonizationScheme  <:  Cascade.AbstractCascadeScheme}       ... a struct to represent (and generate) a mean-field orbital basis.\n",
       "\n",
       "\\begin{verbatim}\n",
       "+ processes             ::Array{Basics.AbstractProcess,1} \n",
       "    ... List of the atomic processes that are supported and should be included into the cascade.\n",
       "+ maxPhotoElectrons     ::Int64                 \n",
       "    ... (Maximum) Number of photo-electrons in which the initial-and (photo-ionized) final-state configurations can differ \n",
       "        from each other; this affects the number of ionized multiplets in the cascade.\n",
       "+ photonEnergies        ::Array{Float64,1}      \n",
       "    ... List of photon energies for which this photo-ionization scheme is to be calculated.\n",
       "\\end{verbatim}\n",
       "\\rule{\\textwidth}{1pt}\n",
       "\\texttt{Cascade.PhotonIonizationScheme()}  ... constructor for an 'default' instance of a Cascade.PhotonIonizationScheme.\n",
       "\n"
      ],
      "text/markdown": [
       "`struct  Cascade.PhotonIonizationScheme  <:  Cascade.AbstractCascadeScheme`       ... a struct to represent (and generate) a mean-field orbital basis.\n",
       "\n",
       "```\n",
       "+ processes             ::Array{Basics.AbstractProcess,1} \n",
       "    ... List of the atomic processes that are supported and should be included into the cascade.\n",
       "+ maxPhotoElectrons     ::Int64                 \n",
       "    ... (Maximum) Number of photo-electrons in which the initial-and (photo-ionized) final-state configurations can differ \n",
       "        from each other; this affects the number of ionized multiplets in the cascade.\n",
       "+ photonEnergies        ::Array{Float64,1}      \n",
       "    ... List of photon energies for which this photo-ionization scheme is to be calculated.\n",
       "```\n",
       "\n",
       "---\n",
       "\n",
       "`Cascade.PhotonIonizationScheme()`  ... constructor for an 'default' instance of a Cascade.PhotonIonizationScheme.\n"
      ],
      "text/plain": [
       "  \u001b[36mstruct  Cascade.PhotonIonizationScheme  <:  Cascade.AbstractCascadeScheme\u001b[39m\n",
       "  ... a struct to represent (and generate) a mean-field orbital basis.\n",
       "\n",
       "\u001b[36m  + processes             ::Array{Basics.AbstractProcess,1} \u001b[39m\n",
       "\u001b[36m      ... List of the atomic processes that are supported and should be included into the cascade.\u001b[39m\n",
       "\u001b[36m  + maxPhotoElectrons     ::Int64                 \u001b[39m\n",
       "\u001b[36m      ... (Maximum) Number of photo-electrons in which the initial-and (photo-ionized) final-state configurations can differ \u001b[39m\n",
       "\u001b[36m          from each other; this affects the number of ionized multiplets in the cascade.\u001b[39m\n",
       "\u001b[36m  + photonEnergies        ::Array{Float64,1}      \u001b[39m\n",
       "\u001b[36m      ... List of photon energies for which this photo-ionization scheme is to be calculated.\u001b[39m\n",
       "\n",
       "  ────────────────────────────────────────────────────────────────────────────\n",
       "\n",
       "  \u001b[36mCascade.PhotonIonizationScheme()\u001b[39m ... constructor for an 'default' instance\n",
       "  of a Cascade.PhotonIonizationScheme."
      ]
     },
     "execution_count": 2,
     "metadata": {},
     "output_type": "execute_result"
    }
   ],
   "source": [
    "? Cascade.PhotonIonizationScheme"
   ]
  },
  {
   "cell_type": "markdown",
   "metadata": {},
   "source": [
    "for which we have to specify again the physical processes (Photo) as well as the maximum number of electron; at present, only single-electron photoionization is supported here. We should specify also the photon energies (in a.u.). For this **first photoionization step**, all other input data are similar as before:"
   ]
  },
  {
   "cell_type": "code",
   "execution_count": 3,
   "metadata": {
    "scrolled": true
   },
   "outputs": [
    {
     "data": {
      "text/plain": [
       "Cascade computation   Photoionization of neutral neon  for a (prior) photo-ionization scheme,  in JAC.Cascade.AverageSCA() approach as well as for Z = 10.0 and initial configurations: \n",
       " 1s^2 2s^2 2p^6 ,  \n",
       " ... in addition, the following parameters/settings are defined: \n",
       "> cascade scheme:           Photo-ionization (scheme) as prior part of an atomic cascade:\n",
       "processes:                  JAC.Basics.AbstractProcess[Photo()]  \n",
       "maxPhotoElectrons:          1  \n",
       "photonEnergies:             [30.0, 60.0, 90.0]  \n",
       "  \n",
       "> nuclearModel:             Fermi nuclear model for Z = 10.0 with mass = 20.5, radius R = 2.8580081360657426 fm and nuclear spin I = 0, dipole moment mu = 0.0 and quadrupole moment Q = 0.0.  \n",
       "> grid:                     Radial grid:  rnt = 2.0e-6,  h = 0.05,  hp = 0.02,  NoPoints = 600, orderL = 7,  orderS = 8,  nsL = 92,  nsS = 93,  mesh = JAC.Radial.MeshGL(), ...  \n",
       "r:    [0.0, 2.1327071094699404e-8, 1.0831512390708573e-7]  ...  [6.162114779810744, 6.1841745613033705, 6.197815573344656]\n",
       "wr:   [0.0, 5.426256234126586e-8, 1.1721462106327495e-7]  ...  [0.025092159407177385, 0.018380984579425597, 0.008509171574222901]\n",
       "t:    [0.0, 0.0, 0.0]  ...  [6.201159973227195, 6.201159973227195, 6.201159973227195]  \n",
       "> asfSettings:            \n",
       "generateScf:          true  \n",
       "eeInteraction:        CoulombInteraction()  \n",
       "scField:              JAC.Basics.DFSField()  \n",
       "startScfFrom:         StartFromHydrogenic()  \n",
       "maxIterationsScf:     24  \n",
       "accuracyScf:          1.0e-6  \n",
       "shellSequenceScf:     Subshell[]  \n",
       "frozenSubshells:      Subshell[]  \n",
       "eeInteractionCI:      CoulombInteraction()  \n",
       "qedModel :            NoneQed()  \n",
       "methodCI:             FullCIeigen()  \n",
       "jjLS:                 false  \n",
       "levelSelectionCI:     Inactive LevelSelection.  \n",
       " \n"
      ]
     },
     "execution_count": 3,
     "metadata": {},
     "output_type": "execute_result"
    }
   ],
   "source": [
    "name = \"Photoionization of neutral neon\"\n",
    "grid = Radial.Grid(false)\n",
    "wa   = Cascade.Computation(Cascade.Computation(); name=name, nuclearModel=Nuclear.Model(10.), grid=grid, \n",
    "                           approach=Cascade.AverageSCA(),\n",
    "                           scheme=Cascade.PhotonIonizationScheme([Photo()], 1, [30.0, 60.0, 90.0]),\n",
    "                           initialConfigs=[Configuration(\"1s^2 2s^2 2p^6\")] )"
   ]
  },
  {
   "cell_type": "markdown",
   "metadata": {},
   "source": [
    "and perform the computation:"
   ]
  },
  {
   "cell_type": "code",
   "execution_count": 4,
   "metadata": {
    "scrolled": true
   },
   "outputs": [
    {
     "name": "stdout",
     "output_type": "stream",
     "text": [
      "Maximum number of SCF iterations = 24 is reached ... computations proceed.\n",
      "(sym, settings.levelSelectionCI, Basics.selectSymmetry(sym, settings.levelSelectionCI)) = (0 +, Inactive LevelSelection., true)\n",
      "  reset GBL_Storage_XL_Breit storage ...\n",
      ">> performCI() ...   0.266731 seconds (356.38 k allocations: 16.896 MiB)\n",
      " \n",
      "* Configurations and levels for all given initial multiplets of the cascade, relative to the lowest:\n",
      "  \n",
      "  Configuration: 1s^2 2s^2 2p^6 \n",
      "  --------------------------------------------\n",
      "    Level  J Parity          Energy [eV]\n",
      "  --------------------------------------------\n",
      "       1     0 +      0.000000000000000e+00 \n",
      "  --------------------------------------------\n",
      "\n",
      "* Electron configuration used in the (initial part of the) ionizing cascade:\n",
      "\n",
      "  Configuration(s) with 10 electrons:\n",
      "      1s^2 2s^2 2p^6    av. BE = -1968.0  [eV]      (1)\n",
      "\n",
      "  A total of 1 configuration have been defined for this (initial part of the) ionizing cascade, and selected configurations could be removed here:  [currently not supported]\n",
      "\n",
      "* Electron configuration used in the (generated part of the) ionizing cascade:\n",
      "\n",
      "  Configuration(s) with 9 electrons:\n",
      "      1s^1 2s^2 2p^6    av. BE = -1097.0  [eV]      (1)\n",
      "      1s^2 2s^1 2p^6    av. BE = -1919.0  [eV]      (2)\n",
      "      1s^2 2s^2 2p^5    av. BE = -1946.0  [eV]      (3)\n",
      "\n",
      "  A total of 3 configuration have been defined for this (generated part of the) ionizing cascade, and selected configurations could be removed here:  [currently not supported]\n",
      "\n",
      "* Generate blocks for the ionizing cascade \n",
      "\n",
      "  In the cascade approach JAC.Cascade.AverageSCA(), the following assumptions/simplifications are made: \n",
      "    + orbitals from the initial multiplet are applied throughout; \n",
      "    + all blocks (multiplets) are generated from single-CSF levels and without any configuration mixing even in the SC; \n",
      "    + only E1 dipole transitions are applied in all radiative decay stets; \n",
      "    + for each decay step, a (single) set of continuum orbitals with an configuration averaged energy is applied for all transitions of the same step. \n",
      "\n",
      "  Multiplet computations for 1s^2 2s^2 2p^6  with 10 electrons ... and 1 CSF done. \n",
      "  Multiplet computations for 1s^1 2s^2 2p^6  with 9 electrons ... and 1 CSF done. \n",
      "  Multiplet computations for 1s^2 2s^1 2p^6  with 9 electrons ... and 1 CSF done. \n",
      "  Multiplet computations for 1s^2 2s^2 2p^5  with 9 electrons ... and 2 CSF done. \n",
      "\n",
      "* Configuration 'blocks' (multiplets) for the (initial part of the) ionizing cascade in the given cascade model: \n",
      "\n",
      "  ------------------------------------------------------------------------------------------------------------------------------------------------------\n",
      "      No.   Configurations                                                                             No. CSF        Range of total energies [eV]\n",
      "  ------------------------------------------------------------------------------------------------------------------------------------------------------\n",
      "        1   1s^2 2s^2 2p^6                                                                                   1        -3501.0 ... -3501.0             \n",
      "  ------------------------------------------------------------------------------------------------------------------------------------------------------\n",
      "\n",
      "* Configuration 'blocks' (multiplets) for the (generated part of the) ionizing cascade in the given cascade model: \n",
      "\n",
      "  ------------------------------------------------------------------------------------------------------------------------------------------------------\n",
      "      No.   Configurations                                                                             No. CSF        Range of total energies [eV]\n",
      "  ------------------------------------------------------------------------------------------------------------------------------------------------------\n",
      "        1   1s^1 2s^2 2p^6                                                                                   1        -2606.0 ... -2606.0             \n",
      "        2   1s^2 2s^1 2p^6                                                                                   1        -3447.0 ... -3447.0             \n",
      "        3   1s^2 2s^2 2p^5                                                                                   2        -3477.0 ... -3477.0             \n",
      "  ------------------------------------------------------------------------------------------------------------------------------------------------------\n",
      " \n",
      "* Steps that are defined for the current ionizing cascade due to the given approach:\n",
      " \n",
      "  --------------------------------------------------------------------------------------------------------------------------------------------------------------------------\n",
      "   Step-No   Process     Initial:  No CSF, configuration(s)                         Final:  No CSF, configuration(s)                           Energies from ... to in [eV]                \n",
      "  --------------------------------------------------------------------------------------------------------------------------------------------------------------------------\n",
      "       1     Photo         1, 1s^2 2s^2 2p^6                                          1, 1s^1 2s^2 2p^6                                        -895.0 ... -895.0\n",
      "       2     Photo         1, 1s^2 2s^2 2p^6                                          1, 1s^2 2s^1 2p^6                                        -54.0 ... -54.0\n",
      "       3     Photo         1, 1s^2 2s^2 2p^6                                          2, 1s^2 2s^2 2p^5                                        -24.0 ... -24.0\n",
      "  --------------------------------------------------------------------------------------------------------------------------------------------------------------------------\n",
      "\n",
      "* Here, modify the individual steps explicitly in the code, if needed, ...... and just do it !!\n",
      "\n",
      "  A total of 3 steps are still defined in the cascade.\n",
      "\n",
      "\n",
      "* Perform ionizing computations for the photon energy 30.0  [a.u.]\n",
      "\n",
      "  1) Perform Photo amplitude computations for up to 1 ionizing lines (without selection rules): \n",
      "     Step 1:: A total of 0 Photo lines are calculated, giving now rise to a total of 0 Photo ionizing lines.\n",
      "\n",
      "  2) Perform Photo amplitude computations for up to 1 ionizing lines (without selection rules): \n",
      ">> (Re-) Define a storage array for various B-spline matrices:\n",
      ">> Continuum B-spline-Galerkin orbital for energy=2.8021e+01,  kappa=-2 [mpt=410, r[mtp]=2.5399e+00, smallest eigenvalue=1.9094e-04].\n",
      ">> Pure-sine normalized continuum orbital with normalization constant N=-1.9357e+00 and phase phi=2.0267e+00 at r=2.2049e+00 a.u.\n",
      ">> (Re-) Define a storage array for various B-spline matrices:\n",
      ">> Continuum B-spline-Galerkin orbital for energy=2.8021e+01,  kappa=1 [mpt=410, r[mtp]=2.5399e+00, smallest eigenvalue=3.2445e-05].\n",
      ">> Pure-sine normalized continuum orbital with normalization constant N=-7.6562e+07 and phase phi=1.0314e+00 at r=2.2049e+00 a.u.\n",
      ">> (Re-) Define a storage array for various B-spline matrices:\n",
      ">> Continuum B-spline-Galerkin orbital for energy=2.8021e+01,  kappa=-2 [mpt=410, r[mtp]=2.5399e+00, smallest eigenvalue=1.9094e-04].\n",
      ">> Pure-sine normalized continuum orbital with normalization constant N=-1.9357e+00 and phase phi=2.0267e+00 at r=2.2049e+00 a.u.\n",
      ">> (Re-) Define a storage array for various B-spline matrices:\n",
      ">> Continuum B-spline-Galerkin orbital for energy=2.8021e+01,  kappa=1 [mpt=410, r[mtp]=2.5399e+00, smallest eigenvalue=3.2445e-05].\n",
      ">> Pure-sine normalized continuum orbital with normalization constant N=-7.6562e+07 and phase phi=1.0314e+00 at r=2.2049e+00 a.u.\n",
      "     Step 2:: A total of 1 Photo lines are calculated, giving now rise to a total of 1 Photo ionizing lines.\n",
      "\n",
      "  3) Perform Photo amplitude computations for up to 2 ionizing lines (without selection rules): \n",
      ">> (Re-) Define a storage array for various B-spline matrices:\n",
      ">> Continuum B-spline-Galerkin orbital for energy=2.9107e+01,  kappa=-3 [mpt=410, r[mtp]=2.5399e+00, smallest eigenvalue=1.2742e-02].\n",
      ">> Pure-sine normalized continuum orbital with normalization constant N=6.1518e+01 and phase phi=2.0686e+00 at r=2.2049e+00 a.u.\n",
      ">> (Re-) Define a storage array for various B-spline matrices:\n",
      ">> Continuum B-spline-Galerkin orbital for energy=2.9107e+01,  kappa=-1 [mpt=410, r[mtp]=2.5399e+00, smallest eigenvalue=1.6585e-04].\n",
      ">> Pure-sine normalized continuum orbital with normalization constant N=-1.9367e+00 and phase phi=-2.7525e-01 at r=2.2049e+00 a.u.\n",
      ">> (Re-) Define a storage array for various B-spline matrices:\n",
      ">> Continuum B-spline-Galerkin orbital for energy=2.9107e+01,  kappa=2 [mpt=410, r[mtp]=2.5399e+00, smallest eigenvalue=1.2971e-05].\n",
      ">> Pure-sine normalized continuum orbital with normalization constant N=-1.8977e+10 and phase phi=2.6365e+00 at r=2.2049e+00 a.u.\n",
      ">> (Re-) Define a storage array for various B-spline matrices:\n",
      ">> Continuum B-spline-Galerkin orbital for energy=2.9107e+01,  kappa=-3 [mpt=410, r[mtp]=2.5399e+00, smallest eigenvalue=1.2742e-02].\n",
      ">> Pure-sine normalized continuum orbital with normalization constant N=6.1518e+01 and phase phi=2.0686e+00 at r=2.2049e+00 a.u.\n",
      ">> (Re-) Define a storage array for various B-spline matrices:\n",
      ">> Continuum B-spline-Galerkin orbital for energy=2.9107e+01,  kappa=-1 [mpt=410, r[mtp]=2.5399e+00, smallest eigenvalue=1.6585e-04].\n",
      ">> Pure-sine normalized continuum orbital with normalization constant N=-1.9367e+00 and phase phi=-2.7525e-01 at r=2.2049e+00 a.u.\n",
      ">> (Re-) Define a storage array for various B-spline matrices:\n",
      ">> Continuum B-spline-Galerkin orbital for energy=2.9107e+01,  kappa=2 [mpt=410, r[mtp]=2.5399e+00, smallest eigenvalue=1.2971e-05].\n",
      ">> Pure-sine normalized continuum orbital with normalization constant N=-1.8977e+10 and phase phi=2.6365e+00 at r=2.2049e+00 a.u.\n",
      ">> (Re-) Define a storage array for various B-spline matrices:\n",
      ">> Continuum B-spline-Galerkin orbital for energy=2.9102e+01,  kappa=-1 [mpt=410, r[mtp]=2.5399e+00, smallest eigenvalue=1.5843e-04].\n",
      ">> Pure-sine normalized continuum orbital with normalization constant N=1.9367e+00 and phase phi=-2.7354e-01 at r=2.2049e+00 a.u.\n",
      ">> (Re-) Define a storage array for various B-spline matrices:\n",
      ">> Continuum B-spline-Galerkin orbital for energy=2.9102e+01,  kappa=2 [mpt=410, r[mtp]=2.5399e+00, smallest eigenvalue=1.2971e-05].\n",
      ">> Pure-sine normalized continuum orbital with normalization constant N=-1.4878e+10 and phase phi=2.5369e+00 at r=2.2049e+00 a.u.\n",
      ">> (Re-) Define a storage array for various B-spline matrices:\n",
      ">> Continuum B-spline-Galerkin orbital for energy=2.9102e+01,  kappa=-1 [mpt=410, r[mtp]=2.5399e+00, smallest eigenvalue=1.5843e-04].\n",
      ">> Pure-sine normalized continuum orbital with normalization constant N=1.9367e+00 and phase phi=-2.7354e-01 at r=2.2049e+00 a.u.\n",
      ">> (Re-) Define a storage array for various B-spline matrices:\n",
      ">> Continuum B-spline-Galerkin orbital for energy=2.9102e+01,  kappa=2 [mpt=410, r[mtp]=2.5399e+00, smallest eigenvalue=1.2971e-05].\n",
      ">> Pure-sine normalized continuum orbital with normalization constant N=-1.4878e+10 and phase phi=2.5369e+00 at r=2.2049e+00 a.u.\n",
      "     Step 3:: A total of 2 Photo lines are calculated, giving now rise to a total of 3 Photo ionizing lines.\n",
      "\n",
      "\n",
      "* Perform ionizing computations for the photon energy 60.0  [a.u.]\n",
      "\n",
      "  1) Perform Photo amplitude computations for up to 1 ionizing lines (without selection rules): \n",
      ">> (Re-) Define a storage array for various B-spline matrices:\n",
      ">> Continuum B-spline-Galerkin orbital for energy=2.7106e+01,  kappa=-2 [mpt=410, r[mtp]=2.5399e+00, smallest eigenvalue=4.1303e-03].\n",
      ">> Pure-sine normalized continuum orbital with normalization constant N=1.9467e+00 and phase phi=2.4153e+00 at r=2.2049e+00 a.u.\n",
      ">> (Re-) Define a storage array for various B-spline matrices:\n",
      ">> Continuum B-spline-Galerkin orbital for energy=2.7106e+01,  kappa=1 [mpt=410, r[mtp]=2.5399e+00, smallest eigenvalue=3.2446e-05].\n",
      ">> Pure-sine normalized continuum orbital with normalization constant N=6.7722e+07 and phase phi=1.2803e+00 at r=2.2049e+00 a.u.\n",
      ">> (Re-) Define a storage array for various B-spline matrices:\n",
      ">> Continuum B-spline-Galerkin orbital for energy=2.7106e+01,  kappa=-2 [mpt=410, r[mtp]=2.5399e+00, smallest eigenvalue=4.1303e-03].\n",
      ">> Pure-sine normalized continuum orbital with normalization constant N=1.9467e+00 and phase phi=2.4153e+00 at r=2.2049e+00 a.u.\n",
      ">> (Re-) Define a storage array for various B-spline matrices:\n",
      ">> Continuum B-spline-Galerkin orbital for energy=2.7106e+01,  kappa=1 [mpt=410, r[mtp]=2.5399e+00, smallest eigenvalue=3.2446e-05].\n",
      ">> Pure-sine normalized continuum orbital with normalization constant N=6.7722e+07 and phase phi=1.2803e+00 at r=2.2049e+00 a.u.\n",
      "     Step 1:: A total of 1 Photo lines are calculated, giving now rise to a total of 1 Photo ionizing lines.\n",
      "\n",
      "  2) Perform Photo amplitude computations for up to 1 ionizing lines (without selection rules): \n",
      ">> (Re-) Define a storage array for various B-spline matrices:\n",
      ">> Continuum B-spline-Galerkin orbital for energy=5.8021e+01,  kappa=-2 [mpt=410, r[mtp]=2.5399e+00, smallest eigenvalue=6.2407e-03].\n",
      ">> Pure-sine normalized continuum orbital with normalization constant N=2.0254e+00 and phase phi=1.3051e+00 at r=2.2049e+00 a.u.\n",
      ">> (Re-) Define a storage array for various B-spline matrices:\n",
      ">> Continuum B-spline-Galerkin orbital for energy=5.8021e+01,  kappa=1 [mpt=410, r[mtp]=2.5399e+00, smallest eigenvalue=3.2453e-05].\n",
      ">> Pure-sine normalized continuum orbital with normalization constant N=-1.0000e+10 and phase phi=5.2153e-01 at r=2.2049e+00 a.u.\n",
      ">> (Re-) Define a storage array for various B-spline matrices:\n",
      ">> Continuum B-spline-Galerkin orbital for energy=5.8021e+01,  kappa=-2 [mpt=410, r[mtp]=2.5399e+00, smallest eigenvalue=6.2407e-03].\n",
      ">> Pure-sine normalized continuum orbital with normalization constant N=2.0254e+00 and phase phi=1.3051e+00 at r=2.2049e+00 a.u.\n",
      ">> (Re-) Define a storage array for various B-spline matrices:\n",
      ">> Continuum B-spline-Galerkin orbital for energy=5.8021e+01,  kappa=1 [mpt=410, r[mtp]=2.5399e+00, smallest eigenvalue=3.2453e-05].\n",
      ">> Pure-sine normalized continuum orbital with normalization constant N=-1.0000e+10 and phase phi=5.2153e-01 at r=2.2049e+00 a.u.\n",
      "     Step 2:: A total of 1 Photo lines are calculated, giving now rise to a total of 2 Photo ionizing lines.\n",
      "\n",
      "  3) Perform Photo amplitude computations for up to 2 ionizing lines (without selection rules): \n",
      ">> (Re-) Define a storage array for various B-spline matrices:\n",
      ">> Continuum B-spline-Galerkin orbital for energy=5.9107e+01,  kappa=-3 [mpt=410, r[mtp]=2.5399e+00, smallest eigenvalue=6.3071e-04].\n",
      ">> Pure-sine normalized continuum orbital with normalization constant N=-2.0428e+00 and phase phi=1.3944e+00 at r=2.2049e+00 a.u.\n",
      ">> (Re-) Define a storage array for various B-spline matrices:\n",
      ">> Continuum B-spline-Galerkin orbital for energy=5.9107e+01,  kappa=-1 [mpt=410, r[mtp]=2.5399e+00, smallest eigenvalue=4.1256e-03].\n",
      ">> Pure-sine normalized continuum orbital with normalization constant N=-2.0594e+00 and phase phi=-1.0306e+00 at r=2.2049e+00 a.u.\n",
      ">> (Re-) Define a storage array for various B-spline matrices:\n",
      ">> Continuum B-spline-Galerkin orbital for energy=5.9107e+01,  kappa=2 [mpt=410, r[mtp]=2.5399e+00, smallest eigenvalue=1.2974e-05].\n",
      ">> Pure-sine normalized continuum orbital with normalization constant N=-2.3997e+09 and phase phi=2.6160e-01 at r=2.2049e+00 a.u.\n",
      ">> (Re-) Define a storage array for various B-spline matrices:\n",
      ">> Continuum B-spline-Galerkin orbital for energy=5.9107e+01,  kappa=-3 [mpt=410, r[mtp]=2.5399e+00, smallest eigenvalue=6.3071e-04].\n",
      ">> Pure-sine normalized continuum orbital with normalization constant N=-2.0428e+00 and phase phi=1.3944e+00 at r=2.2049e+00 a.u.\n",
      ">> (Re-) Define a storage array for various B-spline matrices:\n",
      ">> Continuum B-spline-Galerkin orbital for energy=5.9107e+01,  kappa=-1 [mpt=410, r[mtp]=2.5399e+00, smallest eigenvalue=4.1256e-03].\n",
      ">> Pure-sine normalized continuum orbital with normalization constant N=-2.0594e+00 and phase phi=-1.0306e+00 at r=2.2049e+00 a.u.\n",
      ">> (Re-) Define a storage array for various B-spline matrices:\n",
      ">> Continuum B-spline-Galerkin orbital for energy=5.9107e+01,  kappa=2 [mpt=410, r[mtp]=2.5399e+00, smallest eigenvalue=1.2974e-05].\n",
      ">> Pure-sine normalized continuum orbital with normalization constant N=-2.3997e+09 and phase phi=2.6160e-01 at r=2.2049e+00 a.u.\n",
      ">> (Re-) Define a storage array for various B-spline matrices:\n",
      ">> Continuum B-spline-Galerkin orbital for energy=5.9102e+01,  kappa=-1 [mpt=410, r[mtp]=2.5399e+00, smallest eigenvalue=4.1021e-03].\n",
      ">> Pure-sine normalized continuum orbital with normalization constant N=-2.0594e+00 and phase phi=-1.0295e+00 at r=2.2049e+00 a.u.\n",
      ">> (Re-) Define a storage array for various B-spline matrices:\n",
      ">> Continuum B-spline-Galerkin orbital for energy=5.9102e+01,  kappa=2 [mpt=410, r[mtp]=2.5399e+00, smallest eigenvalue=1.2974e-05].\n",
      ">> Pure-sine normalized continuum orbital with normalization constant N=2.0128e+09 and phase phi=1.3468e+00 at r=2.2049e+00 a.u.\n",
      ">> (Re-) Define a storage array for various B-spline matrices:\n",
      ">> Continuum B-spline-Galerkin orbital for energy=5.9102e+01,  kappa=-1 [mpt=410, r[mtp]=2.5399e+00, smallest eigenvalue=4.1021e-03].\n",
      ">> Pure-sine normalized continuum orbital with normalization constant N=-2.0594e+00 and phase phi=-1.0295e+00 at r=2.2049e+00 a.u.\n",
      ">> (Re-) Define a storage array for various B-spline matrices:\n",
      ">> Continuum B-spline-Galerkin orbital for energy=5.9102e+01,  kappa=2 [mpt=410, r[mtp]=2.5399e+00, smallest eigenvalue=1.2974e-05].\n",
      ">> Pure-sine normalized continuum orbital with normalization constant N=2.0128e+09 and phase phi=1.3468e+00 at r=2.2049e+00 a.u.\n",
      "     Step 3:: A total of 2 Photo lines are calculated, giving now rise to a total of 4 Photo ionizing lines.\n",
      "\n",
      "\n",
      "* Perform ionizing computations for the photon energy 90.0  [a.u.]\n",
      "\n",
      "  1) Perform Photo amplitude computations for up to 1 ionizing lines (without selection rules): \n",
      ">> (Re-) Define a storage array for various B-spline matrices:\n",
      ">> Continuum B-spline-Galerkin orbital for energy=5.7106e+01,  kappa=-2 [mpt=410, r[mtp]=2.5399e+00, smallest eigenvalue=2.2853e-03].\n",
      ">> Pure-sine normalized continuum orbital with normalization constant N=2.0295e+00 and phase phi=1.5636e+00 at r=2.2049e+00 a.u.\n",
      ">> (Re-) Define a storage array for various B-spline matrices:\n",
      ">> Continuum B-spline-Galerkin orbital for energy=5.7106e+01,  kappa=1 [mpt=410, r[mtp]=2.5399e+00, smallest eigenvalue=3.2454e-05].\n",
      ">> Pure-sine normalized continuum orbital with normalization constant N=5.9026e+08 and phase phi=-1.0170e+00 at r=2.2049e+00 a.u.\n",
      ">> (Re-) Define a storage array for various B-spline matrices:\n",
      ">> Continuum B-spline-Galerkin orbital for energy=5.7106e+01,  kappa=-2 [mpt=410, r[mtp]=2.5399e+00, smallest eigenvalue=2.2853e-03].\n",
      ">> Pure-sine normalized continuum orbital with normalization constant N=2.0295e+00 and phase phi=1.5636e+00 at r=2.2049e+00 a.u.\n",
      ">> (Re-) Define a storage array for various B-spline matrices:\n",
      ">> Continuum B-spline-Galerkin orbital for energy=5.7106e+01,  kappa=1 [mpt=410, r[mtp]=2.5399e+00, smallest eigenvalue=3.2454e-05].\n",
      ">> Pure-sine normalized continuum orbital with normalization constant N=5.9026e+08 and phase phi=-1.0170e+00 at r=2.2049e+00 a.u.\n",
      "     Step 1:: A total of 1 Photo lines are calculated, giving now rise to a total of 1 Photo ionizing lines.\n",
      "\n",
      "  2) Perform Photo amplitude computations for up to 1 ionizing lines (without selection rules): \n",
      ">> (Re-) Define a storage array for various B-spline matrices:\n",
      ">> Continuum B-spline-Galerkin orbital for energy=8.8021e+01,  kappa=-2 [mpt=410, r[mtp]=2.5399e+00, smallest eigenvalue=1.3516e-03].\n",
      ">> Pure-sine normalized continuum orbital with normalization constant N=-2.3619e+00 and phase phi=1.3033e+00 at r=2.2049e+00 a.u.\n",
      ">> (Re-) Define a storage array for various B-spline matrices:\n",
      ">> Continuum B-spline-Galerkin orbital for energy=8.8021e+01,  kappa=1 [mpt=410, r[mtp]=2.5399e+00, smallest eigenvalue=3.2461e-05].\n",
      ">> Pure-sine normalized continuum orbital with normalization constant N=1.1861e+08 and phase phi=1.8201e+00 at r=2.2049e+00 a.u.\n",
      ">> (Re-) Define a storage array for various B-spline matrices:\n",
      ">> Continuum B-spline-Galerkin orbital for energy=8.8021e+01,  kappa=-2 [mpt=410, r[mtp]=2.5399e+00, smallest eigenvalue=1.3516e-03].\n",
      ">> Pure-sine normalized continuum orbital with normalization constant N=-2.3619e+00 and phase phi=1.3033e+00 at r=2.2049e+00 a.u.\n",
      ">> (Re-) Define a storage array for various B-spline matrices:\n",
      ">> Continuum B-spline-Galerkin orbital for energy=8.8021e+01,  kappa=1 [mpt=410, r[mtp]=2.5399e+00, smallest eigenvalue=3.2461e-05].\n",
      ">> Pure-sine normalized continuum orbital with normalization constant N=1.1861e+08 and phase phi=1.8201e+00 at r=2.2049e+00 a.u.\n",
      "     Step 2:: A total of 1 Photo lines are calculated, giving now rise to a total of 2 Photo ionizing lines.\n",
      "\n",
      "  3) Perform Photo amplitude computations for up to 2 ionizing lines (without selection rules): \n",
      ">> (Re-) Define a storage array for various B-spline matrices:\n",
      ">> Continuum B-spline-Galerkin orbital for energy=8.9107e+01,  kappa=-3 [mpt=410, r[mtp]=2.5399e+00, smallest eigenvalue=1.6818e-03].\n",
      ">> Pure-sine normalized continuum orbital with normalization constant N=2.4189e+00 and phase phi=1.3977e+00 at r=2.2049e+00 a.u.\n",
      ">> (Re-) Define a storage array for various B-spline matrices:\n",
      ">> Continuum B-spline-Galerkin orbital for energy=8.9107e+01,  kappa=-1 [mpt=410, r[mtp]=2.5399e+00, smallest eigenvalue=1.7966e-04].\n",
      ">> Pure-sine normalized continuum orbital with normalization constant N=-2.4047e+00 and phase phi=-1.0855e+00 at r=2.2049e+00 a.u.\n",
      ">> (Re-) Define a storage array for various B-spline matrices:\n",
      ">> Continuum B-spline-Galerkin orbital for energy=8.9107e+01,  kappa=2 [mpt=410, r[mtp]=2.5399e+00, smallest eigenvalue=1.2978e-05].\n",
      ">> Pure-sine normalized continuum orbital with normalization constant N=-2.0523e+08 and phase phi=-3.0614e+00 at r=2.2049e+00 a.u.\n",
      ">> (Re-) Define a storage array for various B-spline matrices:\n",
      ">> Continuum B-spline-Galerkin orbital for energy=8.9107e+01,  kappa=-3 [mpt=410, r[mtp]=2.5399e+00, smallest eigenvalue=1.6818e-03].\n",
      ">> Pure-sine normalized continuum orbital with normalization constant N=2.4189e+00 and phase phi=1.3977e+00 at r=2.2049e+00 a.u.\n",
      ">> (Re-) Define a storage array for various B-spline matrices:\n",
      ">> Continuum B-spline-Galerkin orbital for energy=8.9107e+01,  kappa=-1 [mpt=410, r[mtp]=2.5399e+00, smallest eigenvalue=1.7966e-04].\n",
      ">> Pure-sine normalized continuum orbital with normalization constant N=-2.4047e+00 and phase phi=-1.0855e+00 at r=2.2049e+00 a.u.\n",
      ">> (Re-) Define a storage array for various B-spline matrices:\n",
      ">> Continuum B-spline-Galerkin orbital for energy=8.9107e+01,  kappa=2 [mpt=410, r[mtp]=2.5399e+00, smallest eigenvalue=1.2978e-05].\n",
      ">> Pure-sine normalized continuum orbital with normalization constant N=-2.0523e+08 and phase phi=-3.0614e+00 at r=2.2049e+00 a.u.\n",
      ">> (Re-) Define a storage array for various B-spline matrices:\n",
      ">> Continuum B-spline-Galerkin orbital for energy=8.9102e+01,  kappa=-1 [mpt=410, r[mtp]=2.5399e+00, smallest eigenvalue=1.7675e-04].\n",
      ">> Pure-sine normalized continuum orbital with normalization constant N=2.4047e+00 and phase phi=-1.0847e+00 at r=2.2049e+00 a.u.\n",
      ">> (Re-) Define a storage array for various B-spline matrices:\n",
      ">> Continuum B-spline-Galerkin orbital for energy=8.9102e+01,  kappa=2 [mpt=410, r[mtp]=2.5399e+00, smallest eigenvalue=1.2978e-05].\n",
      ">> Pure-sine normalized continuum orbital with normalization constant N=-1.3442e+10 and phase phi=2.4385e+00 at r=2.2049e+00 a.u.\n",
      ">> (Re-) Define a storage array for various B-spline matrices:\n",
      ">> Continuum B-spline-Galerkin orbital for energy=8.9102e+01,  kappa=-1 [mpt=410, r[mtp]=2.5399e+00, smallest eigenvalue=1.7675e-04].\n",
      ">> Pure-sine normalized continuum orbital with normalization constant N=2.4047e+00 and phase phi=-1.0847e+00 at r=2.2049e+00 a.u.\n",
      ">> (Re-) Define a storage array for various B-spline matrices:\n",
      ">> Continuum B-spline-Galerkin orbital for energy=8.9102e+01,  kappa=2 [mpt=410, r[mtp]=2.5399e+00, smallest eigenvalue=1.2978e-05].\n",
      ">> Pure-sine normalized continuum orbital with normalization constant N=-1.3442e+10 and phase phi=2.4385e+00 at r=2.2049e+00 a.u.\n",
      "     Step 3:: A total of 2 Photo lines are calculated, giving now rise to a total of 4 Photo ionizing lines.\n",
      "\n",
      "* Write all results to disk; use:\n",
      "   JLD.save(''zzz-cascade-ionizing-computations-2020-07-19T11.jld'', results) \n",
      "   using JLD \n",
      "   results = JLD.load(''zzz-cascade-ionizing-computations-2020-07-19T11.jld'')    ... to load the results back from file.\n"
     ]
    }
   ],
   "source": [
    "setDefaults(\"print summary: open\", \"16-cascade-computation-photoionization.sum\")\n",
    "resultsPI = perform(wa; output=true)\n",
    "\n",
    "setDefaults(\"print summary: close\", \"\")"
   ]
  },
  {
   "cell_type": "markdown",
   "metadata": {},
   "source": [
    "As before, the results are typical written to some `JLD2` file in order to make use of them, even if the Julia session need to be restarted; here, we simply assign these results to the variable `resultsPI` which we shall use in the subsequent steps. Note that three sets of photoionization (transition) data are generated because of the three given photon energies; in the subsequent simulations, we will need to specify for which photon energy a particular simulation has to be made."
   ]
  },
  {
   "cell_type": "code",
   "execution_count": 5,
   "metadata": {},
   "outputs": [
    {
     "data": {
      "text/plain": [
       "Dict{String,Any} with 5 entries:\n",
       "  \"name\"                      => \"Photoionization of neutral neon\"\n",
       "  \"initial multiplets:\"       => Multiplet[name:        initial states  …\n",
       "  \"photo-ionizing line data:\" => JAC.Cascade.PhotoIonData[photonEnergy:        …\n",
       "  \"cascade scheme\"            => Photo-ionization (scheme) as prior part of an …\n",
       "  \"generated multiplets:\"     => Multiplet[name:        noName  …"
      ]
     },
     "execution_count": 5,
     "metadata": {},
     "output_type": "execute_result"
    }
   ],
   "source": [
    "resultsPI"
   ]
  },
  {
   "cell_type": "markdown",
   "metadata": {},
   "source": [
    "For the **second decay cascade step**, we can either specify the initial hole configurations explicitly (as in the previous example) or we use of the *generated multiplets* from the `resultsPI`. Here, we still have the freedom to restrict the cascade computation to the $1s 2s^2 2p^6$ multiplet since the other multiplets will be generated automatically. Here, the user need to take care that no *computations are missing* nor that *double computations* are carried out which are later not properly recognized in the simulations. -- In this example, we make use of all three generated multiplets to *start* the cascade and allow up to the emission of three Auger electrons, although such high charge states cannot be reached without additional shake processes: This program should recognize this:"
   ]
  },
  {
   "cell_type": "code",
   "execution_count": 6,
   "metadata": {
    "scrolled": true
   },
   "outputs": [
    {
     "ename": "MethodError",
     "evalue": "MethodError: no method matching JAC.Cascade.StepwiseDecayScheme(::Array{JAC.Basics.AbstractProcess,1}, ::Int64, ::Int64, ::Array{Shell,1}, ::Array{Shell,1})\nClosest candidates are:\n  JAC.Cascade.StepwiseDecayScheme(::Any, ::Any, ::Any, ::Any, ::Any, !Matched::Any) at /home/fritzsch/fri/JAC.jl/src/module-Cascade.jl:46\n  JAC.Cascade.StepwiseDecayScheme(::Array{JAC.Basics.AbstractProcess,1}, ::Int64, !Matched::Dict{Int64,Float64}, !Matched::Int64, ::Array{Shell,1}, !Matched::Array{Shell,1}) at /home/fritzsch/fri/JAC.jl/src/module-Cascade.jl:46",
     "output_type": "error",
     "traceback": [
      "MethodError: no method matching JAC.Cascade.StepwiseDecayScheme(::Array{JAC.Basics.AbstractProcess,1}, ::Int64, ::Int64, ::Array{Shell,1}, ::Array{Shell,1})\nClosest candidates are:\n  JAC.Cascade.StepwiseDecayScheme(::Any, ::Any, ::Any, ::Any, ::Any, !Matched::Any) at /home/fritzsch/fri/JAC.jl/src/module-Cascade.jl:46\n  JAC.Cascade.StepwiseDecayScheme(::Array{JAC.Basics.AbstractProcess,1}, ::Int64, !Matched::Dict{Int64,Float64}, !Matched::Int64, ::Array{Shell,1}, !Matched::Array{Shell,1}) at /home/fritzsch/fri/JAC.jl/src/module-Cascade.jl:46",
      "",
      "Stacktrace:",
      " [1] top-level scope at In[6]:3"
     ]
    }
   ],
   "source": [
    "iniMultiplets = resultsPI[\"generated multiplets:\"]\n",
    "name          = \"Neon 1s 2s^2 2p^6 decay cascade\"\n",
    "wb            = Cascade.Computation(Cascade.Computation(); name=name, nuclearModel=Nuclear.Model(10.), \n",
    "                grid=grid, approach=Cascade.AverageSCA(),\n",
    "                scheme=Cascade.StepwiseDecayScheme([Auger(), Radiative()], 3, 0, Shell[], Shell[]),\n",
    "                initialMultiplets=iniMultiplets )"
   ]
  },
  {
   "cell_type": "code",
   "execution_count": 7,
   "metadata": {
    "scrolled": true
   },
   "outputs": [
    {
     "ename": "UndefVarError",
     "evalue": "UndefVarError: wb not defined",
     "output_type": "error",
     "traceback": [
      "UndefVarError: wb not defined",
      "",
      "Stacktrace:",
      " [1] top-level scope at In[7]:2"
     ]
    }
   ],
   "source": [
    "setDefaults(\"print summary: open\", \"16-cascade-computation-decay-cascade.sum\")\n",
    "resultsDecay = perform(wb; output=true)\n",
    "\n",
    "setDefaults(\"print summary: close\", \"\")"
   ]
  },
  {
   "cell_type": "markdown",
   "metadata": {},
   "source": [
    "Again, the results are kept here locally in `resultsDecay`"
   ]
  },
  {
   "cell_type": "code",
   "execution_count": 8,
   "metadata": {},
   "outputs": [
    {
     "ename": "UndefVarError",
     "evalue": "UndefVarError: resultsDecay not defined",
     "output_type": "error",
     "traceback": [
      "UndefVarError: resultsDecay not defined",
      "",
      "Stacktrace:",
      " [1] top-level scope at In[8]:1"
     ]
    }
   ],
   "source": [
    "resultsDecay"
   ]
  },
  {
   "cell_type": "markdown",
   "metadata": {},
   "source": [
    "In the **third simulation step**, we combined these data and apply them in a `Cascade.Simulation`; since all energy levels are numbered in descending energy order, we will usual not know the number of the initial level to provide the correct relative occupation but this can easily sorted out in a second run, once all the relevant energy levels have been tabulated for both cascade computations. Not that this level numbers will usually depend even on the photon energies since different levels will be populated for different incident photon energies. In the input below, we consider the combined cascade for the photon energy 30.0 a.u.:"
   ]
  },
  {
   "cell_type": "code",
   "execution_count": 9,
   "metadata": {
    "scrolled": true
   },
   "outputs": [
    {
     "ename": "UndefVarError",
     "evalue": "UndefVarError: resultsDecay not defined",
     "output_type": "error",
     "traceback": [
      "UndefVarError: resultsDecay not defined",
      "",
      "Stacktrace:",
      " [1] top-level scope at In[9]:1"
     ]
    }
   ],
   "source": [
    "data = [resultsPI, resultsDecay]\n",
    "name = \"Simulation after photoionization and subsequent cascade decay of neutral neon\"\n",
    "wc   = Cascade.Simulation(Cascade.Simulation(), name=name, \n",
    "                          properties=Cascade.AbstractSimulationProperty[Cascade.IonDistribution()],  \n",
    "                          settings=Cascade.SimulationSettings(0., 0., 0., 0., 30., [(28, 2.0)]), \n",
    "                          computationData=data )\n",
    "perform(wc)"
   ]
  },
  {
   "cell_type": "markdown",
   "metadata": {},
   "source": [
    "For the photon energy = 30 a.u. $\\approx$ 810 eV, only the photoionization of $2s$ and $2p$ electrons are possible in the given approximation and the cascade decay does not lead to a further autoionization but all occupation is left in the single-charged ion.\n",
    "\n",
    "We can repeat these computations for the other photon energies and find that the vast majority of all photoionized atoms will autoionize, leading to doubly-charged ions, while Ne$^{3+}$ can still not be formed in this approximation."
   ]
  },
  {
   "cell_type": "code",
   "execution_count": 10,
   "metadata": {
    "scrolled": true
   },
   "outputs": [
    {
     "ename": "UndefVarError",
     "evalue": "UndefVarError: resultsDecay not defined",
     "output_type": "error",
     "traceback": [
      "UndefVarError: resultsDecay not defined",
      "",
      "Stacktrace:",
      " [1] top-level scope at In[10]:1"
     ]
    }
   ],
   "source": [
    "data = [resultsPI, resultsDecay]\n",
    "name = \"Simulation after photoionization and subsequent cascade decay of neutral neon\"\n",
    "wc   = Cascade.Simulation(Cascade.Simulation(), name=name, \n",
    "                          properties=Cascade.AbstractSimulationProperty[Cascade.IonDistribution()],  \n",
    "                          settings=Cascade.SimulationSettings(0., 0., 0., 0., 60., [(28, 2.0)]), \n",
    "                          computationData=data )\n",
    "perform(wc)"
   ]
  },
  {
   "cell_type": "code",
   "execution_count": 11,
   "metadata": {
    "scrolled": true
   },
   "outputs": [
    {
     "ename": "UndefVarError",
     "evalue": "UndefVarError: resultsDecay not defined",
     "output_type": "error",
     "traceback": [
      "UndefVarError: resultsDecay not defined",
      "",
      "Stacktrace:",
      " [1] top-level scope at In[11]:1"
     ]
    }
   ],
   "source": [
    "data = [resultsPI, resultsDecay]\n",
    "name = \"Simulation after photoionization and subsequent cascade decay of neutral neon\"\n",
    "wc   = Cascade.Simulation(Cascade.Simulation(), name=name, \n",
    "                          properties=Cascade.AbstractSimulationProperty[Cascade.IonDistribution()],  \n",
    "                          settings=Cascade.SimulationSettings(0., 0., 0., 0., 90., [(28, 2.0)]), \n",
    "                          computationData=data )\n",
    "perform(wc)"
   ]
  },
  {
   "cell_type": "code",
   "execution_count": null,
   "metadata": {},
   "outputs": [],
   "source": []
  }
 ],
 "metadata": {
  "@webio": {
   "lastCommId": null,
   "lastKernelId": null
  },
  "kernelspec": {
   "display_name": "Julia 1.4.2",
   "language": "julia",
   "name": "julia-1.4"
  },
  "language_info": {
   "file_extension": ".jl",
   "mimetype": "application/julia",
   "name": "julia",
   "version": "1.4.2"
  }
 },
 "nbformat": 4,
 "nbformat_minor": 4
}
