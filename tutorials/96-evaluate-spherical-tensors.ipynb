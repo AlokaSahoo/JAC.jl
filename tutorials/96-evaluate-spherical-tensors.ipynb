{
 "cells": [
  {
   "cell_type": "markdown",
   "metadata": {},
   "source": [
    "# Evaluate spherical tensor products and transition amplitudes"
   ]
  },
  {
   "cell_type": "code",
   "execution_count": 1,
   "metadata": {},
   "outputs": [],
   "source": [
    "using JAC, SymEngine"
   ]
  },
  {
   "cell_type": "markdown",
   "metadata": {},
   "source": [
    "**Note**: The Julia package `SymEngine` is needed to perform symbolic simplifications of spherical tensor products, transition amplitudes, etc. in JAC. By default, this package is not automatically loaded since these symbolic evaluations are a ratjer specific application of JAC:"
   ]
  },
  {
   "cell_type": "markdown",
   "metadata": {},
   "source": [
    "Spherical tensors are a *key concept* in atomic and nuclear (structure) theory and are central to most computations. While the daily use of JAC does not require much prior knowledge about these tensors, they often occur in the formulation, decomposition and simplification of matrix elements and transition amplitudes, and both at the single-, two- and many-electron formulation of the theory. The use of spherical tensor representations of atomic states, operators and density matrices plays an crucial role as they enable to decompose and simplify many expressions prior to their computations by using the theory of the SU$_2$ special-unitary and SO$_3$ rotation group. It is also very closely related to the use and handling of expressions from Racah's algebra."
   ]
  },
  {
   "cell_type": "markdown",
   "metadata": {},
   "source": [
    "In practice, the main goal in dealing with spherical tensors is the (symbolic) manipulation and simplification of products, matrix elements and (transition) amplitudes in spherical tensor notation. This includes (i) the separation of constant operators, external (field) operators and electronic operators that act upon the quantum states; (ii) the *reduction* of matrix elements and amplitudes towards (reduced electronic) matrix elements; (iii) the decompositon of matrix elements that refer to the spin and spatial parts of the associated Hilbert space; and (iv) the representation of many-particle amplitudes into reduced one- and two-particle matrix elements due to the one- and two-particle structure of most, if not all, physical interactions in Nature. To deal with these goals, different representations and distinctions of spherical tensors and tensor components are needed and are (partly) supported by the JAC program. To our knowledge, no other software exist that seriously supports the evaluation and simplification of matrix elements in spherical tensor representation. Apart from atomic structure and collision theory. these developements will be useful for nuclear-structure theory, atomic QED, crystalllography and, perhaps, even for astrophysics."
   ]
  },
  {
   "cell_type": "markdown",
   "metadata": {},
   "source": [
    "To make use of symbolic definitions and manipulations, let us start by defining some symbols, similar as for the tutorials on Racah's algebra. We shall use (the global definition of) these symbols below:"
   ]
  },
  {
   "cell_type": "code",
   "execution_count": 2,
   "metadata": {},
   "outputs": [
    {
     "data": {
      "text/plain": [
       "QQ"
      ]
     },
     "execution_count": 2,
     "metadata": {},
     "output_type": "execute_result"
    }
   ],
   "source": [
    "j1  = Basic(:j1);    j2  = Basic(:j2);    j3  = Basic(:j3);    j4  = Basic(:j4);    j5  = Basic(:j5)\n",
    "m1  = Basic(:m1);    m2  = Basic(:m2);    m3  = Basic(:m3);    m4  = Basic(:m4);    m5  = Basic(:m5)\n",
    "ja  = Basic(:ja);    jb  = Basic(:jb);    jc  = Basic(:jc);    jd  = Basic(:jd);    je  = Basic(:je)\n",
    "ma  = Basic(:ma);    mb  = Basic(:mb);    mc  = Basic(:mc);    md  = Basic(:md);    me  = Basic(:me)\n",
    "k   = Basic(:k);     q   = Basic(:q );    K   = Basic(:K);     Q   = Basic(:Q);\n",
    "kk  = Basic(:kk);    qq  = Basic(:qq);    KK  = Basic(:KK);    QQ  = Basic(:QQ)"
   ]
  },
  {
   "cell_type": "markdown",
   "metadata": {},
   "source": [
    "To distinguish different classes of operators, a number (and hierarchy) of **abstract** data types are defined in JAC to represent *particle (electronic)*, *external field* and constant operators as they occur frequently in the decompositions. For example:"
   ]
  },
  {
   "cell_type": "code",
   "execution_count": 3,
   "metadata": {},
   "outputs": [
    {
     "data": {
      "text/latex": [
       "\\texttt{abstract type SphericalTensor.AbstractSphericalTensor}      ... defines an abstract type to comprise various spherical (electron) operators and spherical fields.\n",
       "\n"
      ],
      "text/markdown": [
       "`abstract type SphericalTensor.AbstractSphericalTensor`      ... defines an abstract type to comprise various spherical (electron) operators and spherical fields.\n"
      ],
      "text/plain": [
       "  \u001b[36mabstract type SphericalTensor.AbstractSphericalTensor\u001b[39m ... defines an\n",
       "  abstract type to comprise various spherical (electron) operators and\n",
       "  spherical fields."
      ]
     },
     "execution_count": 3,
     "metadata": {},
     "output_type": "execute_result"
    }
   ],
   "source": [
    "? SphericalTensor.AbstractSphericalTensor"
   ]
  },
  {
   "cell_type": "markdown",
   "metadata": {},
   "source": [
    "It comprises tensors of (abstract) type:"
   ]
  },
  {
   "cell_type": "code",
   "execution_count": 4,
   "metadata": {},
   "outputs": [
    {
     "data": {
      "text/latex": [
       "\\texttt{abstract type SphericalTensor.AbstractSphericalOperator}      ... defines an abstract type to comprise various spherical (electron) operators.\n",
       "\n",
       "\\begin{verbatim}\n",
       "+ CkOperator                ... to represent a C^(K) tensor operator.\n",
       "+ CoulombOperator           ... to represent a V^(0, Coulomb) tensor operator.\n",
       "+ DipoleOperator            ... to represent a D^(1) dipole operator.\n",
       "+ MultipoleOperator         ... to represent a O^(L, multipole) operator.\n",
       "+ TkOperator                ... to represent a general T^(K) tensor operator.\n",
       "\\end{verbatim}\n"
      ],
      "text/markdown": [
       "`abstract type SphericalTensor.AbstractSphericalOperator`      ... defines an abstract type to comprise various spherical (electron) operators.\n",
       "\n",
       "```\n",
       "+ CkOperator                ... to represent a C^(K) tensor operator.\n",
       "+ CoulombOperator           ... to represent a V^(0, Coulomb) tensor operator.\n",
       "+ DipoleOperator            ... to represent a D^(1) dipole operator.\n",
       "+ MultipoleOperator         ... to represent a O^(L, multipole) operator.\n",
       "+ TkOperator                ... to represent a general T^(K) tensor operator.\n",
       "```\n"
      ],
      "text/plain": [
       "  \u001b[36mabstract type SphericalTensor.AbstractSphericalOperator\u001b[39m ... defines an\n",
       "  abstract type to comprise various spherical (electron) operators.\n",
       "\n",
       "\u001b[36m  + CkOperator                ... to represent a C^(K) tensor operator.\u001b[39m\n",
       "\u001b[36m  + CoulombOperator           ... to represent a V^(0, Coulomb) tensor operator.\u001b[39m\n",
       "\u001b[36m  + DipoleOperator            ... to represent a D^(1) dipole operator.\u001b[39m\n",
       "\u001b[36m  + MultipoleOperator         ... to represent a O^(L, multipole) operator.\u001b[39m\n",
       "\u001b[36m  + TkOperator                ... to represent a general T^(K) tensor operator.\u001b[39m"
      ]
     },
     "execution_count": 4,
     "metadata": {},
     "output_type": "execute_result"
    }
   ],
   "source": [
    "? SphericalTensor.AbstractSphericalOperator"
   ]
  },
  {
   "cell_type": "code",
   "execution_count": 5,
   "metadata": {},
   "outputs": [
    {
     "data": {
      "text/latex": [
       "\\texttt{abstract type SphericalTensor.AbstractSphericalField  <:  AbstractSphericalTensor}      ... defines an abstract type to comprise various (external and electron-independent) field operators.\n",
       "\n",
       "\\begin{verbatim}\n",
       "+ UVector                   ... to represent a u^(1) polarization (unit) vector.\n",
       "+ TwistedU                  ... to represent a u^(1, twisted) unit vector.\n",
       "\\end{verbatim}\n"
      ],
      "text/markdown": [
       "`abstract type SphericalTensor.AbstractSphericalField  <:  AbstractSphericalTensor`      ... defines an abstract type to comprise various (external and electron-independent) field operators.\n",
       "\n",
       "```\n",
       "+ UVector                   ... to represent a u^(1) polarization (unit) vector.\n",
       "+ TwistedU                  ... to represent a u^(1, twisted) unit vector.\n",
       "```\n"
      ],
      "text/plain": [
       "  \u001b[36mabstract type SphericalTensor.AbstractSphericalField  <: \n",
       "  AbstractSphericalTensor\u001b[39m ... defines an abstract type to comprise various\n",
       "  (external and electron-independent) field operators.\n",
       "\n",
       "\u001b[36m  + UVector                   ... to represent a u^(1) polarization (unit) vector.\u001b[39m\n",
       "\u001b[36m  + TwistedU                  ... to represent a u^(1, twisted) unit vector.\u001b[39m"
      ]
     },
     "execution_count": 5,
     "metadata": {},
     "output_type": "execute_result"
    }
   ],
   "source": [
    "? SphericalTensor.AbstractSphericalField"
   ]
  },
  {
   "cell_type": "code",
   "execution_count": 6,
   "metadata": {},
   "outputs": [
    {
     "data": {
      "text/latex": [
       "\\texttt{abstract type SphericalTensor.AbstractSphericalConstant  <:  AbstractSphericalTensor}      ... defines an abstract type to comprise various (parametric-dependent) scalar constants, such as field amplitudes, etc.\n",
       "\n",
       "\\begin{verbatim}\n",
       "+ ScalarConstant            ... to represent a scalar constant to comprise all all factors that do not\n",
       "                                affect the tensorial structure of matrix elements and amplitues.\n",
       "\\end{verbatim}\n"
      ],
      "text/markdown": [
       "`abstract type SphericalTensor.AbstractSphericalConstant  <:  AbstractSphericalTensor`      ... defines an abstract type to comprise various (parametric-dependent) scalar constants, such as field amplitudes, etc.\n",
       "\n",
       "```\n",
       "+ ScalarConstant            ... to represent a scalar constant to comprise all all factors that do not\n",
       "                                affect the tensorial structure of matrix elements and amplitues.\n",
       "```\n"
      ],
      "text/plain": [
       "  \u001b[36mabstract type SphericalTensor.AbstractSphericalConstant  <: \n",
       "  AbstractSphericalTensor\u001b[39m ... defines an abstract type to comprise various\n",
       "  (parametric-dependent) scalar constants, such as field amplitudes, etc.\n",
       "\n",
       "\u001b[36m  + ScalarConstant            ... to represent a scalar constant to comprise all all factors that do not\u001b[39m\n",
       "\u001b[36m                                  affect the tensorial structure of matrix elements and amplitues.\u001b[39m"
      ]
     },
     "execution_count": 6,
     "metadata": {},
     "output_type": "execute_result"
    }
   ],
   "source": [
    "? SphericalTensor.AbstractSphericalConstant"
   ]
  },
  {
   "cell_type": "code",
   "execution_count": 7,
   "metadata": {},
   "outputs": [
    {
     "data": {
      "text/latex": [
       "\\texttt{struct  SphericalTensor.TensorProduct  <:  AbstractSphericalTensor}      ... defines the coupled tensor product of two spherical tensors [T1\\^{}(k1) * T2\\^{}(k2)]\\^{}(k).\n",
       "\n",
       "\\begin{verbatim}\n",
       "+ star          ::Bool      ... defines the complex-conjugate form, if true. \n",
       "+ k             ::Basic     ... (total) tensor rank k.\n",
       "+ tensor1       ::AbstractSphericalTensor  ... spherical tensor T1.\n",
       "+ tensor2       ::AbstractSphericalTensor  ... spherical tensor T2.\n",
       "\\end{verbatim}\n",
       "\\rule{\\textwidth}{1pt}\n",
       "\\texttt{SphericalTensor.TensorProduct(k::Basic, tensor1::AbstractSphericalTensor, tensor2::AbstractSphericalTensor)}       ... constructor for just setting the tensor product (star = false).\n",
       "\n"
      ],
      "text/markdown": [
       "`struct  SphericalTensor.TensorProduct  <:  AbstractSphericalTensor`      ... defines the coupled tensor product of two spherical tensors [T1^(k1) * T2^(k2)]^(k).\n",
       "\n",
       "```\n",
       "+ star          ::Bool      ... defines the complex-conjugate form, if true. \n",
       "+ k             ::Basic     ... (total) tensor rank k.\n",
       "+ tensor1       ::AbstractSphericalTensor  ... spherical tensor T1.\n",
       "+ tensor2       ::AbstractSphericalTensor  ... spherical tensor T2.\n",
       "```\n",
       "\n",
       "---\n",
       "\n",
       "`SphericalTensor.TensorProduct(k::Basic, tensor1::AbstractSphericalTensor, tensor2::AbstractSphericalTensor)`       ... constructor for just setting the tensor product (star = false).\n"
      ],
      "text/plain": [
       "  \u001b[36mstruct  SphericalTensor.TensorProduct  <:  AbstractSphericalTensor\u001b[39m ...\n",
       "  defines the coupled tensor product of two spherical tensors [T1^(k1) *\n",
       "  T2^(k2)]^(k).\n",
       "\n",
       "\u001b[36m  + star          ::Bool      ... defines the complex-conjugate form, if true. \u001b[39m\n",
       "\u001b[36m  + k             ::Basic     ... (total) tensor rank k.\u001b[39m\n",
       "\u001b[36m  + tensor1       ::AbstractSphericalTensor  ... spherical tensor T1.\u001b[39m\n",
       "\u001b[36m  + tensor2       ::AbstractSphericalTensor  ... spherical tensor T2.\u001b[39m\n",
       "\n",
       "  ────────────────────────────────────────────────────────────────────────────\n",
       "\n",
       "  \u001b[36mSphericalTensor.TensorProduct(k::Basic, tensor1::AbstractSphericalTensor,\n",
       "  tensor2::AbstractSphericalTensor)\u001b[39m ... constructor for just setting the\n",
       "  tensor product (star = false)."
      ]
     },
     "execution_count": 7,
     "metadata": {},
     "output_type": "execute_result"
    }
   ],
   "source": [
    "? SphericalTensor.TensorProduct"
   ]
  },
  {
   "cell_type": "markdown",
   "metadata": {},
   "source": [
    "The data struct's of these (four) type definitions enables one to define tensors of successive complexity. For example, a simple T^(K) spherical and the rank-1 dipole operators are defined by:"
   ]
  },
  {
   "cell_type": "code",
   "execution_count": 8,
   "metadata": {},
   "outputs": [
    {
     "data": {
      "text/plain": [
       "T^(k) spherical tensor operator.\n"
      ]
     },
     "execution_count": 8,
     "metadata": {},
     "output_type": "execute_result"
    }
   ],
   "source": [
    "Tk = SphericalTensor.TkOperator(k)"
   ]
  },
  {
   "cell_type": "code",
   "execution_count": 9,
   "metadata": {},
   "outputs": [
    {
     "data": {
      "text/plain": [
       "D^(1) spherical dipole operator.\n"
      ]
     },
     "execution_count": 9,
     "metadata": {},
     "output_type": "execute_result"
    }
   ],
   "source": [
    "Dop = SphericalTensor.DipoleOperator(false)"
   ]
  },
  {
   "cell_type": "markdown",
   "metadata": {},
   "source": [
    "Here, the `false` indicates that we do not request for the complex-conjugate (adjoint) dipole operator. Similarly, we can define a (parametrically-dependent) scalar and the polarization (rank-1 vector) of an external plane-wave field by:"
   ]
  },
  {
   "cell_type": "code",
   "execution_count": 10,
   "metadata": {},
   "outputs": [
    {
     "data": {
      "text/plain": [
       "g scalar constant.\n"
      ]
     },
     "execution_count": 10,
     "metadata": {},
     "output_type": "execute_result"
    }
   ],
   "source": [
    "g = SphericalTensor.ScalarConstant(false, Basic(:g))"
   ]
  },
  {
   "cell_type": "code",
   "execution_count": 11,
   "metadata": {},
   "outputs": [
    {
     "data": {
      "text/plain": [
       "u^(1) spherical polarization (unit) vector.\n"
      ]
     },
     "execution_count": 11,
     "metadata": {},
     "output_type": "execute_result"
    }
   ],
   "source": [
    "uVector = SphericalTensor.UVector(false)"
   ]
  },
  {
   "cell_type": "markdown",
   "metadata": {},
   "source": [
    "We can use these pre-defined spherical operators to define tensor products of different rank:"
   ]
  },
  {
   "cell_type": "code",
   "execution_count": 12,
   "metadata": {},
   "outputs": [
    {
     "data": {
      "text/plain": [
       "[u^(1) * D^(1)]^(0) spherical tensor product.\n"
      ]
     },
     "execution_count": 12,
     "metadata": {},
     "output_type": "execute_result"
    }
   ],
   "source": [
    "uDopScalar = SphericalTensor.TensorProduct(false, Basic(0), uVector, Dop)"
   ]
  },
  {
   "cell_type": "code",
   "execution_count": 13,
   "metadata": {},
   "outputs": [
    {
     "data": {
      "text/plain": [
       "[u^(1) * D^(1)]^(1) spherical tensor product.\n"
      ]
     },
     "execution_count": 13,
     "metadata": {},
     "output_type": "execute_result"
    }
   ],
   "source": [
    "uDopVector = SphericalTensor.TensorProduct(false, Basic(1), uVector, Dop)"
   ]
  },
  {
   "cell_type": "code",
   "execution_count": 14,
   "metadata": {},
   "outputs": [
    {
     "data": {
      "text/plain": [
       "[[u^(1) * D^(1)]^(1) * T^(k)]^(K) spherical tensor product.\n"
      ]
     },
     "execution_count": 14,
     "metadata": {},
     "output_type": "execute_result"
    }
   ],
   "source": [
    "uDopVectorTk = SphericalTensor.TensorProduct(false, K, uDopVector, Tk)"
   ]
  },
  {
   "cell_type": "markdown",
   "metadata": {},
   "source": [
    "Often, however, one starts from matrix elements and expressions that include well-defined tensor components and, hence, from the expansion of such tensor components:"
   ]
  },
  {
   "cell_type": "code",
   "execution_count": 15,
   "metadata": {},
   "outputs": [
    {
     "data": {
      "text/latex": [
       "\\texttt{SphericalTensor.expandSphericalTensorComponent(tn::SphericalTensor.AbstractSphericalTensorComp, q::Basic)}       ... expand a coupled product of spherical tensors into its (uncoupled) tensor components by means of a Clebsch-Gordan expansion.         All necessary magnetic quantum numbers are 'derived' from the corresponding tensor ranks: K -> qK, 2 -> q2,  0 -> 0.         No expansion is made for elementary spherical tensors. The tensor components of this expansion is returned by (the tuple of)         three variables: (rex::RacahExpression, fields::Array\\{SphericalTensor.AbstractSphericalField,1\\},                            operators::Array\\{SphericalTensor.AbstractSphericalOperator,1\\}).\n",
       "\n"
      ],
      "text/markdown": [
       "`SphericalTensor.expandSphericalTensorComponent(tn::SphericalTensor.AbstractSphericalTensorComp, q::Basic)`       ... expand a coupled product of spherical tensors into its (uncoupled) tensor components by means of a Clebsch-Gordan expansion.         All necessary magnetic quantum numbers are 'derived' from the corresponding tensor ranks: K -> qK, 2 -> q2,  0 -> 0.         No expansion is made for elementary spherical tensors. The tensor components of this expansion is returned by (the tuple of)         three variables: (rex::RacahExpression, fields::Array{SphericalTensor.AbstractSphericalField,1},                            operators::Array{SphericalTensor.AbstractSphericalOperator,1}).\n"
      ],
      "text/plain": [
       "  \u001b[36mSphericalTensor.expandSphericalTensorComponent(tn::SphericalTensor.AbstractSphericalTensorComp,\n",
       "  q::Basic)\u001b[39m ... expand a coupled product of spherical tensors into its\n",
       "  (uncoupled) tensor components by means of a Clebsch-Gordan expansion. All\n",
       "  necessary magnetic quantum numbers are 'derived' from the corresponding\n",
       "  tensor ranks: K -> qK, 2 -> q2, 0 -> 0. No expansion is made for elementary\n",
       "  spherical tensors. The tensor components of this expansion is returned by\n",
       "  (the tuple of) three variables: (rex::RacahExpression,\n",
       "  fields::Array{SphericalTensor.AbstractSphericalField,1},\n",
       "  operators::Array{SphericalTensor.AbstractSphericalOperator,1})."
      ]
     },
     "execution_count": 15,
     "metadata": {},
     "output_type": "execute_result"
    }
   ],
   "source": [
    "? SphericalTensor.expandSphericalTensorComponent"
   ]
  },
  {
   "cell_type": "markdown",
   "metadata": {},
   "source": [
    "which enables us to distinguish and classify between external operators and those that act upon the (electronic) particle states:"
   ]
  },
  {
   "cell_type": "code",
   "execution_count": 16,
   "metadata": {},
   "outputs": [
    {
     "data": {
      "text/plain": [
       "(1, JAC.SphericalTensor.AbstractSphericalConstant[], JAC.SphericalTensor.SphericalFieldComp[u^(1)_q spherical field component.\n",
       "], JAC.SphericalTensor.SphericalOperatorComp[])"
      ]
     },
     "execution_count": 16,
     "metadata": {},
     "output_type": "execute_result"
    }
   ],
   "source": [
    "SphericalTensor.expandSphericalTensorComponent(uVector, q)"
   ]
  },
  {
   "cell_type": "code",
   "execution_count": 17,
   "metadata": {},
   "outputs": [
    {
     "data": {
      "text/plain": [
       "(Sum_[Basic[q1_89, q1_15, q1_84, qk_79]]  (-1)^(1 - k - q1_46 - qK_46)  ((1/3)*sqrt(3)/sqrt(1 + 2*K))  W3j(1, 1, 1; q1_89, q1_15, -q1_46)  W3j(1, k, K; q1_84, qk_79, -qK_46)  , JAC.SphericalTensor.AbstractSphericalConstant[], JAC.SphericalTensor.SphericalFieldComp[u^(1)_q1_89 spherical field component.\n",
       "], JAC.SphericalTensor.SphericalOperatorComp[D^(1)_q1_15 spherical operator component.\n",
       ", T^(k)_qk_79 spherical operator component.\n",
       "])"
      ]
     },
     "execution_count": 17,
     "metadata": {},
     "output_type": "execute_result"
    }
   ],
   "source": [
    "SphericalTensor.expandSphericalTensorComponent(uDopVectorTk, q)"
   ]
  },
  {
   "cell_type": "markdown",
   "metadata": {},
   "source": [
    "This function expands the vector component into its product terms by using a Clebsch-Gordan expansion for each individual tensor product. Here, the `magnetic` $q$ quantum numbers are chosen automatically and a random (two-digit) suffix is chosen to make these quantum numbers *unique*."
   ]
  },
  {
   "cell_type": "markdown",
   "metadata": {},
   "source": [
    "Apart from the tensors, we need to specify the *spherical* states, i.e. states in angular-momentum basis:"
   ]
  },
  {
   "cell_type": "code",
   "execution_count": 18,
   "metadata": {},
   "outputs": [
    {
     "data": {
      "text/plain": [
       "|jb mb> spherical state.\n"
      ]
     },
     "execution_count": 18,
     "metadata": {},
     "output_type": "execute_result"
    }
   ],
   "source": [
    "jma = SphericalTensor.SphericalState(false, ja, ma)\n",
    "jmb = SphericalTensor.SphericalState(false, jb, mb)"
   ]
  },
  {
   "cell_type": "markdown",
   "metadata": {},
   "source": [
    "We can use these states to form *spherical* matrix elements in which both, the state and the tensor operators are given in spherical representation:"
   ]
  },
  {
   "cell_type": "code",
   "execution_count": 19,
   "metadata": {},
   "outputs": [
    {
     "data": {
      "text/plain": [
       "<ja ma | [u^(1) * D^(1)]^(0)_0 | jb mb> reduced matrix element.\n"
      ]
     },
     "execution_count": 19,
     "metadata": {},
     "output_type": "execute_result"
    }
   ],
   "source": [
    "me = SphericalTensor.SphericalMatrixElement(jma, uDopScalar, Basic(0), jmb)"
   ]
  },
  {
   "cell_type": "markdown",
   "metadata": {},
   "source": [
    "and to expand the amplitutes that can be formed by these matrix elements:"
   ]
  },
  {
   "cell_type": "code",
   "execution_count": 20,
   "metadata": {},
   "outputs": [
    {
     "data": {
      "text/plain": [
       "<ja ma | g[u^(1) * D^(1)]^(0)_0 | jb mb>^(*) reduced matrix element.\n"
      ]
     },
     "execution_count": 20,
     "metadata": {},
     "output_type": "execute_result"
    }
   ],
   "source": [
    "meStar = SphericalTensor.SphericalMatrixElement(true, jma, g, uDopScalar, Basic(0), jmb)"
   ]
  },
  {
   "cell_type": "code",
   "execution_count": 21,
   "metadata": {},
   "outputs": [
    {
     "name": "stdout",
     "output_type": "stream",
     "text": [
      "wd = JAC.SphericalTensor.SphericalOperatorComp[D^(1*)_q1_93 spherical operator component.\n",
      "]\n",
      "wd = JAC.SphericalTensor.SphericalOperatorComp[D^(1)_q1_53 spherical operator component.\n",
      "]\n"
     ]
    },
    {
     "data": {
      "text/plain": [
       "Spherical amplitude with: \n",
       "RacahExpression:    Sum_[Basic[q1_93, q1_59, q1_97, q1_53]]  W3j(1, 1, 0; q1_93, q1_59, 0)  W3j(1, 1, 0; q1_97, q1_53, 0)  \n",
       "Constants:          g^(*)\n",
       "Field components:   u^(1*)_q1_59  u^(1)_q1_97\n",
       "productMes:         <jb mb |   D^(1*)_q1_93 | ja ma>   <ja ma |   D^(1)_q1_53 | jb mb> \n"
      ]
     },
     "execution_count": 21,
     "metadata": {},
     "output_type": "execute_result"
    }
   ],
   "source": [
    "SphericalTensor.expandSphericalMatrixElements([meStar, me])"
   ]
  },
  {
   "cell_type": "code",
   "execution_count": null,
   "metadata": {},
   "outputs": [],
   "source": []
  },
  {
   "cell_type": "markdown",
   "metadata": {},
   "source": [
    "# **The following part of this nootebook is still under construction.**\n",
    "What can be seen from this output ?? .. and what else could be controlled ?? ... for this, we refer the user to the manual.\n"
   ]
  },
  {
   "cell_type": "code",
   "execution_count": null,
   "metadata": {},
   "outputs": [],
   "source": []
  }
 ],
 "metadata": {
  "@webio": {
   "lastCommId": null,
   "lastKernelId": null
  },
  "kernelspec": {
   "display_name": "Julia 1.0.3",
   "language": "julia",
   "name": "julia-1.0"
  },
  "language_info": {
   "file_extension": ".jl",
   "mimetype": "application/julia",
   "name": "julia",
   "version": "1.0.3"
  }
 },
 "nbformat": 4,
 "nbformat_minor": 4
}
