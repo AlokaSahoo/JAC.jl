{
 "cells": [
  {
   "cell_type": "markdown",
   "metadata": {},
   "source": [
    "# Compute the level shifts of helium-like iron ions in a Debye-Hückel (plasma) potential: $Fe^{24+}\\quad 1s^2 + 1s2s + 1s2p$"
   ]
  },
  {
   "cell_type": "code",
   "execution_count": 1,
   "metadata": {},
   "outputs": [
    {
     "data": {
      "text/html": [
       "<script>\n",
       "// Immediately-invoked-function-expression to avoid global variables.\n",
       "(function() {\n",
       "    var warning_div = document.getElementById(\"webio-warning-887022273999337348\");\n",
       "    var hide = function () {\n",
       "        var script = document.getElementById(\"webio-setup-6189826319390257414\");\n",
       "        var parent = script && script.parentElement;\n",
       "        var grandparent = parent && parent.parentElement;\n",
       "        if (grandparent) {\n",
       "            grandparent.style.display = \"none\";\n",
       "        }\n",
       "        warning_div.style.display = \"none\";\n",
       "    };\n",
       "    if (typeof Jupyter !== \"undefined\") {\n",
       "        console.log(\"WebIO detected Jupyter notebook environment.\");\n",
       "        // Jupyter notebook.\n",
       "        var extensions = (\n",
       "            Jupyter\n",
       "            && Jupyter.notebook.config.data\n",
       "            && Jupyter.notebook.config.data.load_extensions\n",
       "        );\n",
       "        if (extensions && extensions[\"webio-jupyter-notebook\"]) {\n",
       "            // Extension already loaded.\n",
       "            console.log(\"Jupyter WebIO nbextension detected; not loading ad-hoc.\");\n",
       "            hide();\n",
       "            return;\n",
       "        }\n",
       "    } else if (window.location.pathname.includes(\"/lab\")) {\n",
       "        // Guessing JupyterLa\n",
       "        console.log(\"Jupyter Lab detected; make sure the @webio/jupyter-lab-provider labextension is installed.\");\n",
       "        hide();\n",
       "        return;\n",
       "    }\n",
       "})();\n",
       "\n",
       "</script>\n",
       "<p\n",
       "    id=\"webio-warning-887022273999337348\"\n",
       "    class=\"output_text output_stderr\"\n",
       "    style=\"padding: 1em; font-weight: bold;\"\n",
       ">\n",
       "    Unable to load WebIO. Please make sure WebIO works for your Jupyter client.\n",
       "    For troubleshooting, please see <a href=\"https://juliagizmos.github.io/WebIO.jl/latest/providers/ijulia/\">\n",
       "    the WebIO/IJulia documentation</a>.\n",
       "    <!-- TODO: link to installation docs. -->\n",
       "</p>\n"
      ],
      "text/plain": [
       "HTML{String}(\"<script>\\n// Immediately-invoked-function-expression to avoid global variables.\\n(function() {\\n    var warning_div = document.getElementById(\\\"webio-warning-887022273999337348\\\");\\n    var hide = function () {\\n        var script = document.getElementById(\\\"webio-setup-6189826319390257414\\\");\\n        var parent = script && script.parentElement;\\n        var grandparent = parent && parent.parentElement;\\n        if (grandparent) {\\n            grandparent.style.display = \\\"none\\\";\\n        }\\n        warning_div.style.display = \\\"none\\\";\\n    };\\n    if (typeof Jupyter !== \\\"undefined\\\") {\\n        console.log(\\\"WebIO detected Jupyter notebook environment.\\\");\\n        // Jupyter notebook.\\n        var extensions = (\\n            Jupyter\\n            && Jupyter.notebook.config.data\\n            && Jupyter.notebook.config.data.load_extensions\\n        );\\n        if (extensions && extensions[\\\"webio-jupyter-notebook\\\"]) {\\n            // Extension already loaded.\\n            console.log(\\\"Jupyter WebIO nbextension detected; not loading ad-hoc.\\\");\\n            hide();\\n            return;\\n        }\\n    } else if (window.location.pathname.includes(\\\"/lab\\\")) {\\n        // Guessing JupyterLa\\n        console.log(\\\"Jupyter Lab detected; make sure the @webio/jupyter-lab-provider labextension is installed.\\\");\\n        hide();\\n        return;\\n    }\\n})();\\n\\n</script>\\n<p\\n    id=\\\"webio-warning-887022273999337348\\\"\\n    class=\\\"output_text output_stderr\\\"\\n    style=\\\"padding: 1em; font-weight: bold;\\\"\\n>\\n    Unable to load WebIO. Please make sure WebIO works for your Jupyter client.\\n    For troubleshooting, please see <a href=\\\"https://juliagizmos.github.io/WebIO.jl/latest/providers/ijulia/\\\">\\n    the WebIO/IJulia documentation</a>.\\n    <!-- TODO: link to installation docs. -->\\n</p>\\n\")"
      ]
     },
     "metadata": {},
     "output_type": "display_data"
    }
   ],
   "source": [
    "using JAC"
   ]
  },
  {
   "cell_type": "markdown",
   "metadata": {},
   "source": [
    "\n",
    "We shall consider iron ions in a Debye-Hückel potential and explore the level shift for different\n",
    "(plasma) coupling parameters $\\lambda$. In JAC, these level shifts are currently supported *perturbatively* by including the plasma screening in the electron-nucleus and electron-electron interaction into the CI matrix.\n",
    "\n",
    "Different **plasma models** are distinghuised as subtypes of some `AbstractPlasmaModel` and due to parameters that need to be specified by the settings:"
   ]
  },
  {
   "cell_type": "code",
   "execution_count": 2,
   "metadata": {},
   "outputs": [
    {
     "data": {
      "text/latex": [
       "\\texttt{abstract type PlasmaShift.AbstractPlasmaModel}      ... defines an abstract and a number of singleton types for the the (allowed) plasma models.\n",
       "\n",
       "\\begin{verbatim}\n",
       "+ NoPlasmaModel      ... No plasma model defined.\n",
       "+ DebyeHueckel       ... Debye-Hueckel plasma model.\n",
       "+ IonSphere          ... Ion-sphere (not yet supported).\n",
       "\\end{verbatim}\n"
      ],
      "text/markdown": [
       "`abstract type PlasmaShift.AbstractPlasmaModel`      ... defines an abstract and a number of singleton types for the the (allowed) plasma models.\n",
       "\n",
       "```\n",
       "+ NoPlasmaModel      ... No plasma model defined.\n",
       "+ DebyeHueckel       ... Debye-Hueckel plasma model.\n",
       "+ IonSphere          ... Ion-sphere (not yet supported).\n",
       "```\n"
      ],
      "text/plain": [
       "  \u001b[36mabstract type PlasmaShift.AbstractPlasmaModel\u001b[39m ... defines an abstract and a\n",
       "  number of singleton types for the the (allowed) plasma models.\n",
       "\n",
       "\u001b[36m  + NoPlasmaModel      ... No plasma model defined.\u001b[39m\n",
       "\u001b[36m  + DebyeHueckel       ... Debye-Hueckel plasma model.\u001b[39m\n",
       "\u001b[36m  + IonSphere          ... Ion-sphere (not yet supported).\u001b[39m"
      ]
     },
     "execution_count": 2,
     "metadata": {},
     "output_type": "execute_result"
    }
   ],
   "source": [
    "? PlasmaShift.AbstractPlasmaModel"
   ]
  },
  {
   "cell_type": "code",
   "execution_count": 3,
   "metadata": {},
   "outputs": [
    {
     "data": {
      "text/latex": [
       "\\texttt{struct  PlasmaShift.Settings}  ... defines a type for the details and parameters of computing level energies with plasma interactions.\n",
       "\n",
       "\\begin{verbatim}\n",
       "+ plasmaModel      ::AbstractPlasmaModel        ... Specify a particular plasma model, e.g. ion-sphere, debye.\n",
       "+ lambdaDebye      ::Float64                    ... The lambda parameter of different plasma models.\n",
       "+ ionSphereR0      ::Float64                    ... The effective radius of the ion-sphere model.\n",
       "+ NoBoundElectrons ::Int64                      ... Effective number of bound electrons.\n",
       "\\end{verbatim}\n",
       "\\rule{\\textwidth}{1pt}\n",
       "\\texttt{PlasmaShift.Settings()}  ... constructor for a standard instance of PlasmaShift.Settings.\n",
       "\n"
      ],
      "text/markdown": [
       "`struct  PlasmaShift.Settings`  ... defines a type for the details and parameters of computing level energies with plasma interactions.\n",
       "\n",
       "```\n",
       "+ plasmaModel      ::AbstractPlasmaModel        ... Specify a particular plasma model, e.g. ion-sphere, debye.\n",
       "+ lambdaDebye      ::Float64                    ... The lambda parameter of different plasma models.\n",
       "+ ionSphereR0      ::Float64                    ... The effective radius of the ion-sphere model.\n",
       "+ NoBoundElectrons ::Int64                      ... Effective number of bound electrons.\n",
       "```\n",
       "\n",
       "---\n",
       "\n",
       "`PlasmaShift.Settings()`  ... constructor for a standard instance of PlasmaShift.Settings.\n"
      ],
      "text/plain": [
       "  \u001b[36mstruct  PlasmaShift.Settings\u001b[39m ... defines a type for the details and\n",
       "  parameters of computing level energies with plasma interactions.\n",
       "\n",
       "\u001b[36m  + plasmaModel      ::AbstractPlasmaModel        ... Specify a particular plasma model, e.g. ion-sphere, debye.\u001b[39m\n",
       "\u001b[36m  + lambdaDebye      ::Float64                    ... The lambda parameter of different plasma models.\u001b[39m\n",
       "\u001b[36m  + ionSphereR0      ::Float64                    ... The effective radius of the ion-sphere model.\u001b[39m\n",
       "\u001b[36m  + NoBoundElectrons ::Int64                      ... Effective number of bound electrons.\u001b[39m\n",
       "\n",
       "  ────────────────────────────────────────────────────────────────────────────\n",
       "\n",
       "  \u001b[36mPlasmaShift.Settings()\u001b[39m ... constructor for a standard instance of\n",
       "  PlasmaShift.Settings."
      ]
     },
     "execution_count": 3,
     "metadata": {},
     "output_type": "execute_result"
    }
   ],
   "source": [
    "? PlasmaShift.Settings"
   ]
  },
  {
   "cell_type": "markdown",
   "metadata": {},
   "source": [
    "\n",
    "For a Debye-Hückel potential, only the screening parameter `lambdaDebye` is relevant and need to be defined if not the defaults values are to be taken:\n"
   ]
  },
  {
   "cell_type": "code",
   "execution_count": 4,
   "metadata": {},
   "outputs": [
    {
     "data": {
      "text/plain": [
       "plasmaModel:            Debye-Hueckel model  \n",
       "lambdaDebye:            0.25  \n",
       "ionSphereR0:            0.0  \n",
       "NoBoundElectrons:       0  \n"
      ]
     },
     "execution_count": 4,
     "metadata": {},
     "output_type": "execute_result"
    }
   ],
   "source": [
    "PlasmaShift.Settings()          # show defaults values"
   ]
  },
  {
   "cell_type": "code",
   "execution_count": 5,
   "metadata": {},
   "outputs": [
    {
     "data": {
      "text/plain": [
       "plasmaModel:            Debye-Hueckel model  \n",
       "lambdaDebye:            0.2  \n",
       "ionSphereR0:            0.0  \n",
       "NoBoundElectrons:       0  \n"
      ]
     },
     "execution_count": 5,
     "metadata": {},
     "output_type": "execute_result"
    }
   ],
   "source": [
    "pSettings = PlasmaShift.Settings(PlasmaShift.DebyeHueckel(), 0.2, 0.0, 0)"
   ]
  },
  {
   "cell_type": "markdown",
   "metadata": {},
   "source": [
    "\n",
    "The computation of level shifts follow standard line by defining and running an `Atomic.Computation()`"
   ]
  },
  {
   "cell_type": "code",
   "execution_count": 6,
   "metadata": {
    "scrolled": true
   },
   "outputs": [
    {
     "name": "stdout",
     "output_type": "stream",
     "text": [
      "Define a radial grid of type MeshGL with 400 grid points\n",
      " [rnt=2.000e-06, h=5.000e-02, hp=0.000e+00, NoPoints=390, r_max=9.161e+02;\n",
      "  B-splines with break points at every 7th point, nsL=56, nsS=57, orderL=7, orderS=8, orderGL=7] \n",
      "\n",
      "... in perform['computation: SCF'] ...\n",
      "perform-aa: Configuration: 1s_1/2^2 \n",
      "perform-aa: Configuration: 1s_1/2^1 2s_1/2^1 \n",
      "perform-aa: Configuration: 1s_1/2^1 2p_1/2^0 2p_3/2^1 \n",
      "perform-aa: Configuration: 1s_1/2^1 2p_1/2^1 2p_3/2^0 \n",
      "(Re-) Define a new standard subshell list.\n",
      "(Re-) Define a storage array for various B-spline matrices:\n",
      "Nuclear model = Fermi nuclear model for Z = 26.0 with mass = 55.38, radius R = 3.756573410087755 fm and nuclear spin I = 0, dipole moment mu = 0.0 and quadrupole moment Q = 0.0. \n",
      "Generate hydrogenic orbital for subshell 1s_1/2 \n",
      "  -----------------------------------------------------------------------------\n",
      "   Index    Subshell     Energies [a.u.]    Dirac-E  [a.u.]     Delta-E / |E|    \n",
      "  -----------------------------------------------------------------------------\n",
      "      1      1s_1/2      -3.41095882e+02    -3.41097837e+02    +5.73282577e-06    \n",
      "      2      2s_1/2      -8.54687335e+01    -8.54689584e+01    +2.63136714e-06    \n",
      "      3      3s_1/2      -3.78995149e+01    -3.78994478e+01    -1.77118976e-06    \n",
      "      4      4s_1/2      -2.12860102e+01    -2.12819385e+01    -1.91283922e-04    \n",
      "      5      5s_1/2      -1.36596748e+01    -1.36039714e+01    -4.07794550e-03    \n",
      "      6      6s_1/2      -1.02231533e+01    -9.43887322e+00    -7.67160661e-02    \n",
      "      7      7s_1/2      -8.71004839e+00    -6.93005925e+00    -2.04360420e-01    \n",
      "      8      8s_1/2      -6.39173280e+00    -5.30306679e+00    -1.70324081e-01    \n",
      "      :       :    \n",
      "     51     51s_1/2      +8.42794522e+07    -1.30041283e-01    +1.00000000e+00    \n",
      "     52     52s_1/2      +1.28010239e+08    -1.25086123e-01    +1.00000000e+00    \n",
      "     53     53s_1/2      +2.02324641e+08    -1.20408879e-01    +1.00000000e+00    \n",
      "     54     54s_1/2      +3.44744353e+08    -1.15989152e-01    +1.00000000e+00    \n",
      "     55     55s_1/2      +6.89589055e+08    -1.11808377e-01    +1.00000000e+00    \n",
      "     56     56s_1/2      +2.35235601e+09    -1.07849636e-01    +1.00000000e+00    \n",
      "  -----------------------------------------------------------------------------\n",
      "Use hydrogenic orbital from this symmetry block also for 1s_1/2.\n",
      "Use hydrogenic orbital from this symmetry block also for 2s_1/2.\n",
      "Generate hydrogenic orbital for subshell 2p_1/2 \n",
      "  -----------------------------------------------------------------------------\n",
      "   Index    Subshell     Energies [a.u.]    Dirac-E  [a.u.]     Delta-E / |E|    \n",
      "  -----------------------------------------------------------------------------\n",
      "      1      2p_1/2      -8.54689639e+01    -8.54689584e+01    -6.48489779e-08    \n",
      "      2      3p_1/2      -3.78994938e+01    -3.78994478e+01    -1.21351773e-06    \n",
      "      3      4p_1/2      -2.12835731e+01    -2.12819385e+01    -7.68010407e-05    \n",
      "      4      5p_1/2      -1.36205252e+01    -1.36039714e+01    -1.21535783e-03    \n",
      "      5      6p_1/2      -9.56125779e+00    -9.43887322e+00    -1.28000495e-02    \n",
      "      6      7p_1/2      -7.52775477e+00    -6.93005925e+00    -7.93989094e-02    \n",
      "      7      8p_1/2      -6.03969738e+00    -5.30306679e+00    -1.21964819e-01    \n",
      "      8      9p_1/2      -4.48651176e+00    -4.18833237e+00    -6.64612987e-02    \n",
      "      :       :    \n",
      "     50     51p_1/2      +7.00735016e+07    -1.30041283e-01    +1.00000000e+00    \n",
      "     51     52p_1/2      +1.05223801e+08    -1.25086123e-01    +1.00000000e+00    \n",
      "     52     53p_1/2      +1.62933722e+08    -1.20408879e-01    +1.00000000e+00    \n",
      "     53     54p_1/2      +2.66765784e+08    -1.15989152e-01    +1.00000000e+00    \n",
      "     54     55p_1/2      +4.87784029e+08    -1.11808377e-01    +1.00000000e+00    \n",
      "     55     56p_1/2      +1.16201287e+09    -1.07849636e-01    +1.00000000e+00    \n",
      "  -----------------------------------------------------------------------------\n",
      "Use hydrogenic orbital from this symmetry block also for 2p_1/2.\n",
      "Generate hydrogenic orbital for subshell 2p_3/2 \n",
      "  -----------------------------------------------------------------------------\n",
      "   Index    Subshell     Energies [a.u.]    Dirac-E  [a.u.]     Delta-E / |E|    \n",
      "  -----------------------------------------------------------------------------\n",
      "      1      2p_3/2      -8.46909840e+01    -8.46909743e+01    -1.14756318e-07    \n",
      "      2      3p_3/2      -3.76688504e+01    -3.76687634e+01    -2.30930719e-06    \n",
      "      3      4p_3/2      -2.11877104e+01    -2.11846929e+01    -1.42417132e-04    \n",
      "      4      5p_3/2      -1.36424365e+01    -1.35542226e+01    -6.46613863e-03    \n",
      "      5      6p_3/2      -1.15227486e+01    -9.41010352e+00    -1.83345584e-01    \n",
      "      6      7p_3/2      -9.11847384e+00    -6.91195226e+00    -2.41983649e-01    \n",
      "      7      8p_3/2      -6.55244670e+00    -5.29094223e+00    -1.92524186e-01    \n",
      "      8      9p_3/2      -4.81673112e+00    -4.17982022e+00    -1.32228867e-01    \n",
      "      :       :    \n",
      "     51     52p_3/2      +9.99498601e+07    -1.25042127e-01    +1.00000000e+00    \n",
      "     52     53p_3/2      +1.53621355e+08    -1.20367328e-01    +1.00000000e+00    \n",
      "     53     54p_3/2      +2.48089620e+08    -1.15949867e-01    +1.00000000e+00    \n",
      "     54     55p_3/2      +4.40723192e+08    -1.11771197e-01    +1.00000000e+00    \n",
      "     55     56p_3/2      +9.65224244e+08    -1.07814412e-01    +1.00000000e+00    \n",
      "     56     57p_3/2      +3.73425631e+09    -1.04064077e-01    +1.00000000e+00    \n",
      "  -----------------------------------------------------------------------------\n",
      "Use hydrogenic orbital from this symmetry block also for 2p_3/2.\n",
      "Re-define the standard grid with 390 grid points.\n",
      "(Re-) Define a storage array for various B-spline matrices:\n",
      "\n",
      "Iteration 1 for symmetries ... \n",
      "  1s_1/2::  en [a.u.] = -3.2604891e+02;   self-cons'cy = 2.2554e-02  [1.0000e+02 for sym-block kappa = -1]\n",
      "  2s_1/2::  en [a.u.] = -7.8008697e+01;   self-cons'cy = 4.5633e-02  [1.0000e+02 for sym-block kappa = -1]\n",
      "  2p_1/2::  en [a.u.] = -7.6964277e+01;   self-cons'cy = 5.2358e-02  [1.0000e+02 for sym-block kappa = 1]\n",
      "  2p_3/2::  en [a.u.] = -7.6279132e+01;   self-cons'cy = 5.2257e-02  [1.0000e+02 for sym-block kappa = -2]\n",
      "\n",
      "Iteration 2 for symmetries ... \n",
      "  1s_1/2::  en [a.u.] = -3.2625928e+02;   self-cons'cy = 3.2251e-04  [1.1230e-02 for sym-block kappa = -1]\n",
      "  2s_1/2::  en [a.u.] = -7.8074292e+01;   self-cons'cy = 4.2026e-04  [1.1230e-02 for sym-block kappa = -1]\n",
      "  2p_1/2::  en [a.u.] = -7.7023438e+01;   self-cons'cy = 3.8420e-04  [3.4037e-03 for sym-block kappa = 1]\n",
      "  2p_3/2::  en [a.u.] = -7.6323939e+01;   self-cons'cy = 2.9362e-04  [2.8050e-03 for sym-block kappa = -2]\n",
      "\n",
      "Iteration 3 for symmetries ... \n",
      "  1s_1/2::  en [a.u.] = -3.2625692e+02;   self-cons'cy = 3.6261e-06  [9.7661e-05 for sym-block kappa = -1]\n",
      "  2s_1/2::  en [a.u.] = -7.8073710e+01;   self-cons'cy = 3.7298e-06  [9.7661e-05 for sym-block kappa = -1]\n",
      "  2p_1/2::  en [a.u.] = -7.7023022e+01;   self-cons'cy = 2.7004e-06  [2.4115e-05 for sym-block kappa = 1]\n",
      "  2p_3/2::  en [a.u.] = -7.6323646e+01;   self-cons'cy = 1.9213e-06  [1.9241e-05 for sym-block kappa = -2]\n",
      "\n",
      "Iteration 4 for symmetries ... \n",
      "  1s_1/2::  en [a.u.] = -3.2625694e+02;   self-cons'cy = 3.7822e-08  [8.6348e-07 for sym-block kappa = -1]\n",
      "  2s_1/2::  en [a.u.] = -7.8073715e+01;   self-cons'cy = 3.3849e-08  [8.6348e-07 for sym-block kappa = -1]\n",
      "  2p_1/2::  en [a.u.] = -7.7023025e+01;   self-cons'cy = 1.8657e-08  [1.6599e-07 for sym-block kappa = 1]\n",
      "  2p_3/2::  en [a.u.] = -7.6323648e+01;   self-cons'cy = 1.2956e-08  [1.2923e-07 for sym-block kappa = -2]\n",
      "Compute CI matrix of dimension 2 x 2 for the symmetry 1^- ...   ... done.\n",
      "Compute CI matrix of dimension 1 x 1 for the symmetry 1^+ ...   ... done.\n",
      "Compute CI matrix of dimension 2 x 2 for the symmetry 0^+ ...   ... done.\n",
      "Compute CI matrix of dimension 1 x 1 for the symmetry 2^- ...   ... done.\n",
      "Compute CI matrix of dimension 1 x 1 for the symmetry 0^- ...   ... done.\n",
      "\n",
      "  Eigenenergies:\n",
      "\n",
      "  Level  J Parity          Hartrees                    eV                   [eV]\n",
      "\n",
      "     1    0 +     -6.658095637782799e+02    -1.811760105577858e+04    -1.811760105577858e+04 \n",
      "     2    1 +     -4.216410817726994e+02    -1.147343823800731e+04    -1.147343823800731e+04 \n",
      "     3    0 -     -4.206382562941365e+02    -1.144614996679944e+04    -1.144614996679944e+04 \n",
      "     4    0 +     -4.205014354629374e+02    -1.144242688234611e+04    -1.144242688234611e+04 \n",
      "     5    1 -     -4.204990663054206e+02    -1.144236241428637e+04    -1.144236241428637e+04 \n",
      "     6    2 -     -4.199463164526251e+02    -1.142732132466946e+04    -1.142732132466946e+04 \n",
      "     7    1 -     -4.192626683636331e+02    -1.140871831261806e+04    -1.140871831261806e+04 \n",
      "\n",
      "  Energy of each level relative to immediately lower level:\n",
      "\n",
      "  Level  J Parity          Hartrees                    eV                   [eV]\n",
      "\n",
      "     2    1 +     2.441684820055805e+02    6.644162817771274e+03    6.644162817771274e+03 \n",
      "     3    0 -     1.002825478562897e+00    2.728827120786623e+01    2.728827120786623e+01 \n",
      "     4    0 +     1.368208311990884e-01    3.723084453335654e+00    3.723084453335654e+00 \n",
      "     5    1 -     2.369157516852738e-03    6.446805973326450e-02    6.446805973326450e-02 \n",
      "     6    2 -     5.527498527954435e-01    1.504108961691499e+01    1.504108961691499e+01 \n",
      "     7    1 -     6.836480889920153e-01    1.860301205139704e+01    1.860301205139704e+01 \n",
      "\n",
      "  Energy of each level relative to lowest level:\n",
      "\n",
      "  Level  J Parity          Hartrees                    eV                   [eV]\n",
      "\n",
      "     2    1 +     2.441684820055805e+02    6.644162817771274e+03    6.644162817771274e+03 \n",
      "     3    0 -     2.451713074841434e+02    6.671451088979140e+03    6.671451088979140e+03 \n",
      "     4    0 +     2.453081283153425e+02    6.675174173432476e+03    6.675174173432476e+03 \n",
      "     5    1 -     2.453104974728593e+02    6.675238641492209e+03    6.675238641492209e+03 \n",
      "     6    2 -     2.458632473256548e+02    6.690279731109124e+03    6.690279731109124e+03 \n",
      "     7    1 -     2.465468954146468e+02    6.708882743160521e+03    6.708882743160521e+03 \n",
      "\n",
      "\u001b[92mPlasmaShift.computeOutcomes(): The computation of plasma-shifts starts now ... \u001b[39m\n",
      "\u001b[92m---------------------------------------------------------------------------------- \u001b[39m\n",
      "Compute DebyeHueckel-CI matrix of dimension 2 x 2 for the symmetry 1^- ...   ... done.\n",
      "Compute DebyeHueckel-CI matrix of dimension 1 x 1 for the symmetry 1^+ ...   ... done.\n",
      "Compute DebyeHueckel-CI matrix of dimension 2 x 2 for the symmetry 0^+ ...   ... done.\n",
      "Compute DebyeHueckel-CI matrix of dimension 1 x 1 for the symmetry 2^- ...   ... done.\n",
      "Compute DebyeHueckel-CI matrix of dimension 1 x 1 for the symmetry 0^- ...   ... done.\n",
      "\n",
      "  Eigenenergies:\n",
      "\n",
      "  Level  J Parity          Hartrees                    eV                   [eV]\n",
      "\n",
      "     1    0 +     -6.556674873401299e+02    -1.784162109877574e+04    -1.784162109877574e+04 \n",
      "     2    1 +     -4.115854341911796e+02    -1.119981012998550e+04    -1.119981012998550e+04 \n",
      "     3    0 -     -4.105643148196935e+02    -1.117202405659549e+04    -1.117202405659549e+04 \n",
      "     4    0 +     -4.104456665863245e+02    -1.116879547371669e+04    -1.116879547371669e+04 \n",
      "     5    1 -     -4.104252691861011e+02    -1.116824043218541e+04    -1.116824043218541e+04 \n",
      "     6    2 -     -4.098735420645154e+02    -1.115322717250224e+04    -1.115322717250224e+04 \n",
      "     7    1 -     -4.091899432971226e+02    -1.113462550255991e+04    -1.113462550255991e+04 \n",
      "\n",
      "  Energy of each level relative to immediately lower level:\n",
      "\n",
      "  Level  J Parity          Hartrees                    eV                   [eV]\n",
      "\n",
      "     2    1 +     2.440820531489503e+02    6.641810968790243e+03    6.641810968790243e+03 \n",
      "     3    0 -     1.021119371486066e+00    2.778607339000711e+01    2.778607339000711e+01 \n",
      "     4    0 +     1.186482333690719e-01    3.228582878796861e+00    3.228582878796861e+00 \n",
      "     5    1 -     2.039740022337355e-02    5.550415312826519e-01    5.550415312826519e-01 \n",
      "     6    2 -     5.517271215856567e-01    1.501325968317078e+01    1.501325968317078e+01 \n",
      "     7    1 -     6.835987673928230e-01    1.860166994232230e+01    1.860166994232230e+01 \n",
      "\n",
      "  Energy of each level relative to lowest level:\n",
      "\n",
      "  Level  J Parity          Hartrees                    eV                   [eV]\n",
      "\n",
      "     2    1 +     2.440820531489503e+02    6.641810968790243e+03    6.641810968790243e+03 \n",
      "     3    0 -     2.451031725204364e+02    6.669597042180250e+03    6.669597042180250e+03 \n",
      "     4    0 +     2.452218207538054e+02    6.672825625059048e+03    6.672825625059048e+03 \n",
      "     5    1 -     2.452422181540288e+02    6.673380666590329e+03    6.673380666590329e+03 \n",
      "     6    2 -     2.457939452756145e+02    6.688393926273500e+03    6.688393926273500e+03 \n",
      "     7    1 -     2.464775440430073e+02    6.706995596215823e+03    6.706995596215823e+03 \n",
      " \n",
      " \n",
      "  Plasma shifts for Debye-Hueckel model:\n",
      "\n",
      "     + lambda = 0.2\n",
      "     + Plasma screening included perturbatively in CI matrix but not in SCF field.\n",
      " \n",
      "  ----------------------------------------------------------------\n",
      "     Level        J^P        Energy w/o plasma        Delta E       \n",
      "                                   [eV]                [eV]         \n",
      "  ----------------------------------------------------------------\n",
      "         1        0 +         -1.81176011e+04     2.75979957e+02\n",
      "         2        1 +         -1.14734382e+04     2.73628108e+02\n",
      "         3        0 -         -1.14461500e+04     2.74125910e+02\n",
      "         4        0 +         -1.14424269e+04     2.73631409e+02\n",
      "         5        1 -         -1.14423624e+04     2.74121982e+02\n",
      "         6        2 -         -1.14273213e+04     2.74094152e+02\n",
      "         7        1 -         -1.14087183e+04     2.74092810e+02\n",
      "  ----------------------------------------------------------------\n",
      "\n",
      "\n",
      "\u001b[95mConstants.warn():  Reset global array GBL_WARNINGS.\u001b[39m"
     ]
    }
   ],
   "source": [
    "comp = Atomic.Computation(\"Debye-Huckel plasma shifts\",  JAC.Nuclear.Model(26.); \n",
    "                          properties=[JAC.Plasma], \n",
    "                          configs=[Configuration(\"1s^2\"), Configuration(\"1s 2s\"), \n",
    "                          Configuration(\"1s 2p\")], plasmaSettings=pSettings )\n",
    "perform(comp)"
   ]
  },
  {
   "cell_type": "markdown",
   "metadata": {},
   "source": [
    "\n",
    "We could easily repeat the computations with `lambdaDebye = 0.` to see that **NO** shift will occur if the screening is set to zero.\n",
    "    "
   ]
  },
  {
   "cell_type": "code",
   "execution_count": null,
   "metadata": {
    "scrolled": true
   },
   "outputs": [],
   "source": []
  }
 ],
 "metadata": {
  "@webio": {
   "lastCommId": null,
   "lastKernelId": null
  },
  "kernelspec": {
   "display_name": "Julia 1.0.3",
   "language": "julia",
   "name": "julia-1.0"
  },
  "language_info": {
   "file_extension": ".jl",
   "mimetype": "application/julia",
   "name": "julia",
   "version": "1.0.3"
  }
 },
 "nbformat": 4,
 "nbformat_minor": 4
}
