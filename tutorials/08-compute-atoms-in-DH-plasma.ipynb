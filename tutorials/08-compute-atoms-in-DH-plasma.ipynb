{
 "cells": [
  {
   "cell_type": "markdown",
   "metadata": {},
   "source": [
    "# Compute the level shifts of helium-like iron ions in a Debye-Hückel (plasma) potential: $Fe^{24+}\\quad 1s^2 + 1s2s + 1s2p$"
   ]
  },
  {
   "cell_type": "code",
   "execution_count": 1,
   "metadata": {},
   "outputs": [],
   "source": [
    "using JAC"
   ]
  },
  {
   "cell_type": "markdown",
   "metadata": {},
   "source": [
    "\n",
    "We shall consider iron ions in a Debye-Hückel potential and explore the level shift for different\n",
    "(plasma) coupling parameters $\\lambda$. In JAC, these level shifts are currently supported *perturbatively* by including the plasma screening in the electron-nucleus and electron-electron interaction into the CI matrix.\n",
    "\n",
    "Different **plasma models** are distinghuised as subtypes of some `AbstractPlasmaModel` and due to parameters that need to be specified by the settings:"
   ]
  },
  {
   "cell_type": "code",
   "execution_count": 2,
   "metadata": {},
   "outputs": [
    {
     "data": {
      "text/latex": [
       "\\texttt{abstract type PlasmaShift.AbstractPlasmaModel}      ... defines an abstract and a number of singleton types for the the (allowed) plasma models.\n",
       "\n",
       "\\begin{verbatim}\n",
       "+ NoPlasmaModel      ... No plasma model defined.\n",
       "+ DebyeHueckel       ... Debye-Hueckel plasma model.\n",
       "+ IonSphere          ... Ion-sphere (not yet supported).\n",
       "\\end{verbatim}\n"
      ],
      "text/markdown": [
       "`abstract type PlasmaShift.AbstractPlasmaModel`      ... defines an abstract and a number of singleton types for the the (allowed) plasma models.\n",
       "\n",
       "```\n",
       "+ NoPlasmaModel      ... No plasma model defined.\n",
       "+ DebyeHueckel       ... Debye-Hueckel plasma model.\n",
       "+ IonSphere          ... Ion-sphere (not yet supported).\n",
       "```\n"
      ],
      "text/plain": [
       "  \u001b[36mabstract type PlasmaShift.AbstractPlasmaModel\u001b[39m ... defines an abstract and a\n",
       "  number of singleton types for the the (allowed) plasma models.\n",
       "\n",
       "\u001b[36m  + NoPlasmaModel      ... No plasma model defined.\u001b[39m\n",
       "\u001b[36m  + DebyeHueckel       ... Debye-Hueckel plasma model.\u001b[39m\n",
       "\u001b[36m  + IonSphere          ... Ion-sphere (not yet supported).\u001b[39m"
      ]
     },
     "execution_count": 2,
     "metadata": {},
     "output_type": "execute_result"
    }
   ],
   "source": [
    "? PlasmaShift.AbstractPlasmaModel"
   ]
  },
  {
   "cell_type": "code",
   "execution_count": 3,
   "metadata": {},
   "outputs": [
    {
     "data": {
      "text/latex": [
       "\\texttt{struct  PlasmaShift.Settings}  ... defines a type for the details and parameters of computing level energies with plasma interactions.\n",
       "\n",
       "\\begin{verbatim}\n",
       "+ plasmaModel      ::AbstractPlasmaModel        ... Specify a particular plasma model, e.g. ion-sphere, debye.\n",
       "+ lambdaDebye      ::Float64                    ... The lambda parameter of different plasma models.\n",
       "+ ionSphereR0      ::Float64                    ... The effective radius of the ion-sphere model.\n",
       "+ NoBoundElectrons ::Int64                      ... Effective number of bound electrons.\n",
       "\\end{verbatim}\n",
       "\\rule{\\textwidth}{1pt}\n",
       "\\texttt{PlasmaShift.Settings()}  ... constructor for a standard instance of PlasmaShift.Settings.\n",
       "\n"
      ],
      "text/markdown": [
       "`struct  PlasmaShift.Settings`  ... defines a type for the details and parameters of computing level energies with plasma interactions.\n",
       "\n",
       "```\n",
       "+ plasmaModel      ::AbstractPlasmaModel        ... Specify a particular plasma model, e.g. ion-sphere, debye.\n",
       "+ lambdaDebye      ::Float64                    ... The lambda parameter of different plasma models.\n",
       "+ ionSphereR0      ::Float64                    ... The effective radius of the ion-sphere model.\n",
       "+ NoBoundElectrons ::Int64                      ... Effective number of bound electrons.\n",
       "```\n",
       "\n",
       "---\n",
       "\n",
       "`PlasmaShift.Settings()`  ... constructor for a standard instance of PlasmaShift.Settings.\n"
      ],
      "text/plain": [
       "  \u001b[36mstruct  PlasmaShift.Settings\u001b[39m ... defines a type for the details and\n",
       "  parameters of computing level energies with plasma interactions.\n",
       "\n",
       "\u001b[36m  + plasmaModel      ::AbstractPlasmaModel        ... Specify a particular plasma model, e.g. ion-sphere, debye.\u001b[39m\n",
       "\u001b[36m  + lambdaDebye      ::Float64                    ... The lambda parameter of different plasma models.\u001b[39m\n",
       "\u001b[36m  + ionSphereR0      ::Float64                    ... The effective radius of the ion-sphere model.\u001b[39m\n",
       "\u001b[36m  + NoBoundElectrons ::Int64                      ... Effective number of bound electrons.\u001b[39m\n",
       "\n",
       "  ────────────────────────────────────────────────────────────────────────────\n",
       "\n",
       "  \u001b[36mPlasmaShift.Settings()\u001b[39m ... constructor for a standard instance of\n",
       "  PlasmaShift.Settings."
      ]
     },
     "execution_count": 3,
     "metadata": {},
     "output_type": "execute_result"
    }
   ],
   "source": [
    "? PlasmaShift.Settings"
   ]
  },
  {
   "cell_type": "markdown",
   "metadata": {},
   "source": [
    "\n",
    "For a Debye-Hückel potential, only the screening parameter `lambdaDebye` is relevant and need to be defined if not the defaults values are to be taken:\n"
   ]
  },
  {
   "cell_type": "code",
   "execution_count": 4,
   "metadata": {},
   "outputs": [
    {
     "data": {
      "text/plain": [
       "plasmaModel:            Debye-Hueckel model  \n",
       "lambdaDebye:            0.25  \n",
       "ionSphereR0:            0.0  \n",
       "NoBoundElectrons:       0  \n"
      ]
     },
     "execution_count": 4,
     "metadata": {},
     "output_type": "execute_result"
    }
   ],
   "source": [
    "PlasmaShift.Settings()          # show defaults values"
   ]
  },
  {
   "cell_type": "code",
   "execution_count": 5,
   "metadata": {},
   "outputs": [
    {
     "data": {
      "text/plain": [
       "plasmaModel:            Debye-Hueckel model  \n",
       "lambdaDebye:            0.2  \n",
       "ionSphereR0:            0.0  \n",
       "NoBoundElectrons:       0  \n"
      ]
     },
     "execution_count": 5,
     "metadata": {},
     "output_type": "execute_result"
    }
   ],
   "source": [
    "pSettings = PlasmaShift.Settings(PlasmaShift.DebyeHueckel(), 0.2, 0.0, 0)"
   ]
  },
  {
   "cell_type": "markdown",
   "metadata": {},
   "source": [
    "\n",
    "The computation of level shifts follow standard line by defining and running an `Atomic.Computation()`"
   ]
  },
  {
   "cell_type": "code",
   "execution_count": 6,
   "metadata": {
    "scrolled": true
   },
   "outputs": [
    {
     "name": "stdout",
     "output_type": "stream",
     "text": [
      "\n",
      "... in performSCF ...\n",
      ">> include Configuration: 1s_1/2^2 \n",
      ">> include Configuration: 1s_1/2^1 2s_1/2^1 \n",
      ">> include Configuration: 1s_1/2^1 2p_1/2^0 2p_3/2^1 \n",
      ">> include Configuration: 1s_1/2^1 2p_1/2^1 2p_3/2^0 \n",
      "(Re-) Define a new standard subshell list.\n",
      "Start SCF process with hydrogenic orbitals.\n",
      ">> (Re-) Define a storage array for various B-spline matrices:\n",
      "Nuclear model = Fermi nuclear model for Z = 26.0 with mass = 55.38, radius R = 3.756573410087755 fm and nuclear spin I = 0, dipole moment mu = 0.0 and quadrupole moment Q = 0.0. \n",
      "Generate hydrogenic orbital for subshell 1s_1/2 \n",
      "  -----------------------------------------------------------------------------\n",
      "   Index    Subshell     Energies [a.u.]    Dirac-E  [a.u.]     Delta-E / |E|    \n",
      "  -----------------------------------------------------------------------------\n",
      "      1      1s_1/2      -3.41095882e+02    -3.41097837e+02    +5.73282564e-06    \n",
      "      2      2s_1/2      -8.54687335e+01    -8.54689584e+01    +2.63136790e-06    \n",
      "      3      3s_1/2      -3.78995149e+01    -3.78994478e+01    -1.77114873e-06    \n",
      "      4      4s_1/2      -2.12860100e+01    -2.12819385e+01    -1.91276379e-04    \n",
      "      5      5s_1/2      -1.36596695e+01    -1.36039714e+01    -4.07755799e-03    \n",
      "      6      6s_1/2      -1.02229687e+01    -9.43887322e+00    -7.66993935e-02    \n",
      "      7      7s_1/2      -8.70989688e+00    -6.93005925e+00    -2.04346579e-01    \n",
      "      8      8s_1/2      -6.39168168e+00    -5.30306679e+00    -1.70317444e-01    \n",
      "      :       :    \n",
      "     57     57s_1/2      +8.42794522e+07    -1.04097479e-01    +1.00000000e+00    \n",
      "     58     58s_1/2      +1.28010239e+08    -1.00537779e-01    +1.00000000e+00    \n",
      "     59     59s_1/2      +2.02324641e+08    -9.71575946e-02    +1.00000000e+00    \n",
      "     60     60s_1/2      +3.44744353e+08    -9.39450561e-02    +1.00000000e+00    \n",
      "     61     61s_1/2      +6.89589055e+08    -9.08892574e-02    +1.00000000e+00    \n",
      "     62     62s_1/2      +2.35235601e+09    -8.79801654e-02    +1.00000000e+00    \n",
      "  -----------------------------------------------------------------------------\n",
      ">> Use hydrogenic orbital from this symmetry block also for 1s_1/2.\n",
      ">> Use hydrogenic orbital from this symmetry block also for 2s_1/2.\n",
      "Generate hydrogenic orbital for subshell 2p_1/2 \n",
      "  -----------------------------------------------------------------------------\n",
      "   Index    Subshell     Energies [a.u.]    Dirac-E  [a.u.]     Delta-E / |E|    \n",
      "  -----------------------------------------------------------------------------\n",
      "      1      2p_1/2      -8.54689639e+01    -8.54689584e+01    -6.48484899e-08    \n",
      "      2      3p_1/2      -3.78994938e+01    -3.78994478e+01    -1.21349515e-06    \n",
      "      3      4p_1/2      -2.12835730e+01    -2.12819385e+01    -7.67987315e-05    \n",
      "      4      5p_1/2      -1.36205244e+01    -1.36039714e+01    -1.21529696e-03    \n",
      "      5      6p_1/2      -9.56124311e+00    -9.43887322e+00    -1.27985341e-02    \n",
      "      6      7p_1/2      -7.52764304e+00    -6.93005925e+00    -7.93852457e-02    \n",
      "      7      8p_1/2      -6.03959751e+00    -5.30306679e+00    -1.21950299e-01    \n",
      "      8      9p_1/2      -4.48646187e+00    -4.18833237e+00    -6.64509172e-02    \n",
      "      :       :    \n",
      "     56     57p_1/2      +7.00735016e+07    -1.04097479e-01    +1.00000000e+00    \n",
      "     57     58p_1/2      +1.05223801e+08    -1.00537779e-01    +1.00000000e+00    \n",
      "     58     59p_1/2      +1.62933722e+08    -9.71575946e-02    +1.00000000e+00    \n",
      "     59     60p_1/2      +2.66765784e+08    -9.39450561e-02    +1.00000000e+00    \n",
      "     60     61p_1/2      +4.87784029e+08    -9.08892574e-02    +1.00000000e+00    \n",
      "     61     62p_1/2      +1.16201287e+09    -8.79801654e-02    +1.00000000e+00    \n",
      "  -----------------------------------------------------------------------------\n",
      ">> Use hydrogenic orbital from this symmetry block also for 2p_1/2.\n",
      "Generate hydrogenic orbital for subshell 2p_3/2 \n",
      "  -----------------------------------------------------------------------------\n",
      "   Index    Subshell     Energies [a.u.]    Dirac-E  [a.u.]     Delta-E / |E|    \n",
      "  -----------------------------------------------------------------------------\n",
      "      1      2p_3/2      -8.46909840e+01    -8.46909743e+01    -1.14756943e-07    \n",
      "      2      3p_3/2      -3.76688504e+01    -3.76687634e+01    -2.30929202e-06    \n",
      "      3      4p_3/2      -2.11877103e+01    -2.11846929e+01    -1.42409462e-04    \n",
      "      4      5p_3/2      -1.36424186e+01    -1.35542226e+01    -6.46483419e-03    \n",
      "      5      6p_3/2      -1.15223715e+01    -9.41010352e+00    -1.83318859e-01    \n",
      "      6      7p_3/2      -9.11842636e+00    -6.91195226e+00    -2.41979703e-01    \n",
      "      7      8p_3/2      -6.55242325e+00    -5.29094223e+00    -1.92521297e-01    \n",
      "      8      9p_3/2      -4.81672435e+00    -4.17982022e+00    -1.32227648e-01    \n",
      "      :       :    \n",
      "     57     58p_3/2      +9.99498601e+07    -1.00506075e-01    +1.00000000e+00    \n",
      "     58     59p_3/2      +1.53621355e+08    -9.71274767e-02    +1.00000000e+00    \n",
      "     59     60p_3/2      +2.48089620e+08    -9.39164194e-02    +1.00000000e+00    \n",
      "     60     61p_3/2      +4.40723192e+08    -9.08620064e-02    +1.00000000e+00    \n",
      "     61     62p_3/2      +9.65224244e+08    -8.79542121e-02    +1.00000000e+00    \n",
      "     62     63p_3/2      +3.73425631e+09    -8.51838006e-02    +1.00000000e+00    \n",
      "  -----------------------------------------------------------------------------\n",
      ">> Use hydrogenic orbital from this symmetry block also for 2p_3/2.\n",
      "(Re-) Define the standard grid with 390 grid points.\n",
      ">>  for various B-spline matrices:\n",
      "\n",
      "Iteration 1 for symmetries ... \n",
      "  1s_1/2::  en [a.u.] = -3.2604891e+02;   self-cons'cy = 2.2554e-02  [1.0000e+02 for sym-block kappa = -1]\n",
      "  2s_1/2::  en [a.u.] = -7.8008697e+01;   self-cons'cy = 4.5633e-02  [1.0000e+02 for sym-block kappa = -1]\n",
      "  2p_1/2::  en [a.u.] = -7.6964277e+01;   self-cons'cy = 5.2358e-02  [1.0000e+02 for sym-block kappa = 1]\n",
      "  2p_3/2::  en [a.u.] = -7.6279132e+01;   self-cons'cy = 5.2257e-02  [1.0000e+02 for sym-block kappa = -2]\n",
      "\n",
      "Iteration 2 for symmetries ... \n",
      "  1s_1/2::  en [a.u.] = -3.2625928e+02;   self-cons'cy = 3.2251e-04  [1.1229e-02 for sym-block kappa = -1]\n",
      "  2s_1/2::  en [a.u.] = -7.8074292e+01;   self-cons'cy = 4.2026e-04  [1.1229e-02 for sym-block kappa = -1]\n",
      "  2p_1/2::  en [a.u.] = -7.7023438e+01;   self-cons'cy = 3.8420e-04  [3.4036e-03 for sym-block kappa = 1]\n",
      "  2p_3/2::  en [a.u.] = -7.6323939e+01;   self-cons'cy = 2.9362e-04  [2.8000e-03 for sym-block kappa = -2]\n",
      "\n",
      "Iteration 3 for symmetries ... \n",
      "  1s_1/2::  en [a.u.] = -3.2625692e+02;   self-cons'cy = 3.6261e-06  [9.7657e-05 for sym-block kappa = -1]\n",
      "  2s_1/2::  en [a.u.] = -7.8073710e+01;   self-cons'cy = 3.7298e-06  [9.7657e-05 for sym-block kappa = -1]\n",
      "  2p_1/2::  en [a.u.] = -7.7023022e+01;   self-cons'cy = 2.7004e-06  [2.4114e-05 for sym-block kappa = 1]\n",
      "  2p_3/2::  en [a.u.] = -7.6323646e+01;   self-cons'cy = 1.9213e-06  [1.9209e-05 for sym-block kappa = -2]\n",
      "\n",
      "Iteration 4 for symmetries ... \n",
      "  1s_1/2::  en [a.u.] = -3.2625694e+02;   self-cons'cy = 3.7822e-08  [8.6349e-07 for sym-block kappa = -1]\n",
      "  2s_1/2::  en [a.u.] = -7.8073715e+01;   self-cons'cy = 3.3849e-08  [8.6349e-07 for sym-block kappa = -1]\n",
      "  2p_1/2::  en [a.u.] = -7.7023025e+01;   self-cons'cy = 1.8657e-08  [1.6599e-07 for sym-block kappa = 1]\n",
      "  2p_3/2::  en [a.u.] = -7.6323648e+01;   self-cons'cy = 1.2956e-08  [1.2898e-07 for sym-block kappa = -2]\n",
      "Compute CI matrix of dimension 2 x 2 for the symmetry 0^+ ...   ... done.\n",
      "Compute CI matrix of dimension 2 x 2 for the symmetry 1^- ...   ... done.\n",
      "Compute CI matrix of dimension 1 x 1 for the symmetry 1^+ ...   ... done.\n",
      "Compute CI matrix of dimension 1 x 1 for the symmetry 2^- ...   ... done.\n",
      "Compute CI matrix of dimension 1 x 1 for the symmetry 0^- ...   ... done.\n",
      "\n",
      "  Eigenenergies:\n",
      "\n",
      "  Level  J Parity          Hartrees                    eV                   [eV]\n",
      "\n",
      "     1    0 +     -6.658095637781539e+02    -1.811760105577515e+04    -1.811760105577515e+04 \n",
      "     2    1 +     -4.216410817726282e+02    -1.147343823800537e+04    -1.147343823800537e+04 \n",
      "     3    0 -     -4.206382562941229e+02    -1.144614996679907e+04    -1.144614996679907e+04 \n",
      "     4    0 +     -4.205014354626804e+02    -1.144242688233911e+04    -1.144242688233911e+04 \n",
      "     5    1 -     -4.204990663054170e+02    -1.144236241428628e+04    -1.144236241428628e+04 \n",
      "     6    2 -     -4.199463164526061e+02    -1.142732132466894e+04    -1.142732132466894e+04 \n",
      "     7    1 -     -4.192626683634167e+02    -1.140871831261217e+04    -1.140871831261217e+04 \n",
      "\n",
      "  Energy of each level relative to immediately lower level:\n",
      "\n",
      "  Level  J Parity          Hartrees                    eV                   [eV]\n",
      "\n",
      "     2    1 +     2.441684820055257e+02    6.644162817769783e+03    6.644162817769783e+03 \n",
      "     3    0 -     1.002825478505372e+00    2.728827120630088e+01    2.728827120630088e+01 \n",
      "     4    0 +     1.368208314424919e-01    3.723084459959001e+00    3.723084459959001e+00 \n",
      "     5    1 -     2.369157263387933e-03    6.446805283613587e-02    6.446805283613587e-02 \n",
      "     6    2 -     5.527498528108481e-01    1.504108961733417e+01    1.504108961733417e+01 \n",
      "     7    1 -     6.836480891894894e-01    1.860301205677058e+01    1.860301205677058e+01 \n",
      "\n",
      "  Energy of each level relative to lowest level:\n",
      "\n",
      "  Level  J Parity          Hartrees                    eV                   [eV]\n",
      "\n",
      "     2    1 +     2.441684820055257e+02    6.644162817769783e+03    6.644162817769783e+03 \n",
      "     3    0 -     2.451713074840310e+02    6.671451088976083e+03    6.671451088976083e+03 \n",
      "     4    0 +     2.453081283154735e+02    6.675174173436043e+03    6.675174173436043e+03 \n",
      "     5    1 -     2.453104974727369e+02    6.675238641488879e+03    6.675238641488879e+03 \n",
      "     6    2 -     2.458632473255478e+02    6.690279731106213e+03    6.690279731106213e+03 \n",
      "     7    1 -     2.465468954147373e+02    6.708882743162983e+03    6.708882743162983e+03 \n",
      "\n",
      "\u001b[92mPlasmaShift.computeOutcomes(): The computation of plasma-shifts starts now ... \u001b[39m\n",
      "\u001b[92m---------------------------------------------------------------------------------- \u001b[39m\n",
      "Compute DebyeHueckel-CI matrix of dimension 2 x 2 for the symmetry 0^+ ...   ... done.\n",
      "Compute DebyeHueckel-CI matrix of dimension 2 x 2 for the symmetry 1^- ...   ... done.\n",
      "Compute DebyeHueckel-CI matrix of dimension 1 x 1 for the symmetry 1^+ ...   ... done.\n",
      "Compute DebyeHueckel-CI matrix of dimension 1 x 1 for the symmetry 2^- ...   ... done.\n",
      "Compute DebyeHueckel-CI matrix of dimension 1 x 1 for the symmetry 0^- ...   ... done.\n",
      "\n",
      "  Eigenenergies:\n",
      "\n",
      "  Level  J Parity          Hartrees                    eV                   [eV]\n",
      "\n",
      "     1    0 +     -6.556674873400036e+02    -1.784162109877230e+04    -1.784162109877230e+04 \n",
      "     2    1 +     -4.115854341911095e+02    -1.119981012998359e+04    -1.119981012998359e+04 \n",
      "     3    0 -     -4.105643148196801e+02    -1.117202405659512e+04    -1.117202405659512e+04 \n",
      "     4    0 +     -4.104456665860683e+02    -1.116879547370972e+04    -1.116879547370972e+04 \n",
      "     5    1 -     -4.104252691860977e+02    -1.116824043218532e+04    -1.116824043218532e+04 \n",
      "     6    2 -     -4.098735420644961e+02    -1.115322717250171e+04    -1.115322717250171e+04 \n",
      "     7    1 -     -4.091899432969059e+02    -1.113462550255402e+04    -1.113462550255402e+04 \n",
      "\n",
      "  Energy of each level relative to immediately lower level:\n",
      "\n",
      "  Level  J Parity          Hartrees                    eV                   [eV]\n",
      "\n",
      "     2    1 +     2.440820531488941e+02    6.641810968788714e+03    6.641810968788714e+03 \n",
      "     3    0 -     1.021119371429336e+00    2.778607338846341e+01    2.778607338846341e+01 \n",
      "     4    0 +     1.186482336118502e-01    3.228582885403194e+00    3.228582885403194e+00 \n",
      "     5    1 -     2.039739997059087e-02    5.550415244040847e-01    5.550415244040847e-01 \n",
      "     6    2 -     5.517271216015729e-01    1.501325968360388e+01    1.501325968360388e+01 \n",
      "     7    1 -     6.835987675901833e-01    1.860166994769274e+01    1.860166994769274e+01 \n",
      "\n",
      "  Energy of each level relative to lowest level:\n",
      "\n",
      "  Level  J Parity          Hartrees                    eV                   [eV]\n",
      "\n",
      "     2    1 +     2.440820531488941e+02    6.641810968788714e+03    6.641810968788714e+03 \n",
      "     3    0 -     2.451031725203235e+02    6.669597042177178e+03    6.669597042177178e+03 \n",
      "     4    0 +     2.452218207539353e+02    6.672825625062582e+03    6.672825625062582e+03 \n",
      "     5    1 -     2.452422181539059e+02    6.673380666586986e+03    6.673380666586986e+03 \n",
      "     6    2 -     2.457939452755075e+02    6.688393926270590e+03    6.688393926270590e+03 \n",
      "     7    1 -     2.464775440430977e+02    6.706995596218282e+03    6.706995596218282e+03 \n",
      " \n",
      " \n",
      "  Plasma shifts for Debye-Hueckel model:\n",
      "\n",
      "     + lambda = 0.2\n",
      "     + Plasma screening included perturbatively in CI matrix but not in SCF field.\n",
      " \n",
      "  ----------------------------------------------------------------\n",
      "     Level        J^P        Energy w/o plasma        Delta E       \n",
      "                                   [eV]                [eV]         \n",
      "  ----------------------------------------------------------------\n",
      "         1        0 +         -1.81176011e+04     2.75979957e+02\n",
      "         2        1 +         -1.14734382e+04     2.73628108e+02\n",
      "         3        0 -         -1.14461500e+04     2.74125910e+02\n",
      "         4        0 +         -1.14424269e+04     2.73631409e+02\n",
      "         5        1 -         -1.14423624e+04     2.74121982e+02\n",
      "         6        2 -         -1.14273213e+04     2.74094152e+02\n",
      "         7        1 -         -1.14087183e+04     2.74092810e+02\n",
      "  ----------------------------------------------------------------\n",
      "\n",
      "\n",
      "\u001b[95mConstants.warn():  Reset global array GBL_WARNINGS.\u001b[39m"
     ]
    }
   ],
   "source": [
    "comp = Atomic.Computation(Atomic.Computation(), name=\"Debye-Huckel plasma shifts\", grid=Radial.Grid(true),\n",
    "                          nuclearModel=JAC.Nuclear.Model(26.), properties=[JAC.Plasma], \n",
    "                          configs=[Configuration(\"1s^2\"), Configuration(\"1s 2s\"), Configuration(\"1s 2p\")], plasmaSettings=pSettings )\n",
    "perform(comp)"
   ]
  },
  {
   "cell_type": "markdown",
   "metadata": {},
   "source": [
    "\n",
    "We could easily repeat the computations with `lambdaDebye = 0.` to see that **NO** shift will occur if the screening is set to zero.\n",
    "    "
   ]
  },
  {
   "cell_type": "code",
   "execution_count": null,
   "metadata": {
    "scrolled": true
   },
   "outputs": [],
   "source": []
  }
 ],
 "metadata": {
  "@webio": {
   "lastCommId": null,
   "lastKernelId": null
  },
  "kernelspec": {
   "display_name": "Julia 1.0.3",
   "language": "julia",
   "name": "julia-1.0"
  },
  "language_info": {
   "file_extension": ".jl",
   "mimetype": "application/julia",
   "name": "julia",
   "version": "1.0.3"
  }
 },
 "nbformat": 4,
 "nbformat_minor": 4
}
