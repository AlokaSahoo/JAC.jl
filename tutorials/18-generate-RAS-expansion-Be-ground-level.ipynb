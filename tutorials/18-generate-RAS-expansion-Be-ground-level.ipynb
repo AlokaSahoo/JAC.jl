{
 "cells": [
  {
   "cell_type": "markdown",
   "metadata": {},
   "source": [
    "# Three-step RAS expansion for the $1s^2 2s^2\\: ^1S_0$ and $1s^2 2s2p\\: ^{1,3}P_1$ levels of neutral beryllium"
   ]
  },
  {
   "cell_type": "code",
   "execution_count": 2,
   "metadata": {},
   "outputs": [],
   "source": [
    "using JAC"
   ]
  },
  {
   "cell_type": "markdown",
   "metadata": {},
   "source": [
    "\n",
    "In JAC, an restricted-active space (RAS) expansion is to a particular (atomic) representation and, more generally, refers to systematically enlarged SCF computations that are performed stepwise in order to include additional layers of active orbitals. RAS computations are based on one several *reference configurations*, a well-defined *level symmetry* for all CSF bases under consideration as well as on virtual single- (S), double- (D), triple-excitations (T), etc. of electrons from valence orbitals $\\to$ valence+virtual orbitals from the (so-called) *active* set. These SD++ excitations can be chosen differently for each step of the RAS computation, similar as the orbitals which are kept *frozen* during a particular step. More often than not, another layer of active orbitals is added and optimized in each step, while all orbitals from previous steps are kept frozen.\n",
    "\n",
    "In this tutorial, we explain how a three-step RAS expansion for the $1s^2 2s^2\\: ^1S_0$ ground level of neutral beryllium as well as for its two lowest-excited $1s^2 2s2p\\: ^{1,3}P_1$ levels can be readily generated. For such a representation (of one or several atomic states), we first compute the orbitals for the $1s^2 2s^2$ reference configuration (in some configuration-average approach), and then stepwise enlarge the active orbitals by $2s,\\: 2p$ (step$_1$), $3s,\\: 3p,\\: 3d$ (step$_2$), and finally $4s,\\: ...,\\: 4f$ (step$_3$). In all these steps, the $1s$ orbitals as well as the orbitals from the previous steps are kept frozen to ensure a proper convergence of the orbitals.\n",
    "\n",
    "Before we shall explain further details about such RAS expansions (and computations), however, let us however look again at the `struct Atomic.Representation` from which the RAS representation can be *generate*(d) as usual:"
   ]
  },
  {
   "cell_type": "code",
   "execution_count": 5,
   "metadata": {},
   "outputs": [
    {
     "data": {
      "text/latex": [
       "\\texttt{struct  Atomic.Representation}       ... a struct for defining an atomic representation. Such representations often refer to approximate wave function approximations of         one or several levels but may concern also a mean-field basis (for some multiplet of some given configurations) or Green functions,         etc.\n",
       "\n",
       "\\begin{verbatim}\n",
       "+ name             ::String                      ... to assign a name to the given model.\n",
       "+ nuclearModel     ::Nuclear.Model               ... Model, charge and parameters of the nucleus.\n",
       "+ grid             ::Radial.Grid                 ... The radial grid to be used for the computation.\n",
       "+ refConfigs       ::Array{Configuration,1}      ... List of references configurations, at least 1.\n",
       "+ repType          ::AbstractRepresentationType  ... Specifies the particular representation.\n",
       "\\end{verbatim}\n",
       "\\rule{\\textwidth}{1pt}\n",
       "\\texttt{Atomic.Representation()}  ... constructor for an 'empty' instance of the a variable::Atomic.Representation\n",
       "\n"
      ],
      "text/markdown": [
       "`struct  Atomic.Representation`       ... a struct for defining an atomic representation. Such representations often refer to approximate wave function approximations of         one or several levels but may concern also a mean-field basis (for some multiplet of some given configurations) or Green functions,         etc.\n",
       "\n",
       "```\n",
       "+ name             ::String                      ... to assign a name to the given model.\n",
       "+ nuclearModel     ::Nuclear.Model               ... Model, charge and parameters of the nucleus.\n",
       "+ grid             ::Radial.Grid                 ... The radial grid to be used for the computation.\n",
       "+ refConfigs       ::Array{Configuration,1}      ... List of references configurations, at least 1.\n",
       "+ repType          ::AbstractRepresentationType  ... Specifies the particular representation.\n",
       "```\n",
       "\n",
       "---\n",
       "\n",
       "`Atomic.Representation()`  ... constructor for an 'empty' instance of the a variable::Atomic.Representation\n"
      ],
      "text/plain": [
       "  \u001b[36mstruct  Atomic.Representation\u001b[39m ... a struct for defining an atomic\n",
       "  representation. Such representations often refer to approximate wave\n",
       "  function approximations of one or several levels but may concern also a\n",
       "  mean-field basis (for some multiplet of some given configurations) or Green\n",
       "  functions, etc.\n",
       "\n",
       "\u001b[36m  + name             ::String                      ... to assign a name to the given model.\u001b[39m\n",
       "\u001b[36m  + nuclearModel     ::Nuclear.Model               ... Model, charge and parameters of the nucleus.\u001b[39m\n",
       "\u001b[36m  + grid             ::Radial.Grid                 ... The radial grid to be used for the computation.\u001b[39m\n",
       "\u001b[36m  + refConfigs       ::Array{Configuration,1}      ... List of references configurations, at least 1.\u001b[39m\n",
       "\u001b[36m  + repType          ::AbstractRepresentationType  ... Specifies the particular representation.\u001b[39m\n",
       "\n",
       "  ────────────────────────────────────────────────────────────────────────────\n",
       "\n",
       "  \u001b[36mAtomic.Representation()\u001b[39m ... constructor for an 'empty' instance of the a\n",
       "  variable::Atomic.Representation"
      ]
     },
     "execution_count": 5,
     "metadata": {},
     "output_type": "execute_result"
    }
   ],
   "source": [
    "? Atomic.Representation"
   ]
  },
  {
   "cell_type": "markdown",
   "metadata": {},
   "source": [
    "For a RAS expansion, the `repType` must be a `RasExpansion()`, while all virtual excitations of the stepwise enlarged computations refer to the (list of) reference configurations `refConfigs`."
   ]
  },
  {
   "cell_type": "code",
   "execution_count": 6,
   "metadata": {},
   "outputs": [
    {
     "data": {
      "text/latex": [
       "\\texttt{struct  Atomic.RasExpansion    <:  AbstractRepresentationType}       ... a struct to represent (and generate) a restricted active-space representation.\n",
       "\n",
       "\\begin{verbatim}\n",
       "+ symmetry         ::LevelSymmetry             ... Symmetry of the levels/CSF in the many-electron basis.\n",
       "+ NoElectrons      ::Int64                     ... Number of electrons.\n",
       "+ steps            ::Array{Atomic.RasStep,1}   ... List of SCF steps that are to be done in this model computation.\n",
       "+ settings         ::Atomic.RasSettings        ... Settings for the given RAS computation\n",
       "\\end{verbatim}\n",
       "\\rule{\\textwidth}{1pt}\n",
       "\\texttt{Atomic.RasExpansion()}  ... constructor for an 'empty' instance of the a variable::Atomic.RasExpansion\n",
       "\n"
      ],
      "text/markdown": [
       "`struct  Atomic.RasExpansion    <:  AbstractRepresentationType`       ... a struct to represent (and generate) a restricted active-space representation.\n",
       "\n",
       "```\n",
       "+ symmetry         ::LevelSymmetry             ... Symmetry of the levels/CSF in the many-electron basis.\n",
       "+ NoElectrons      ::Int64                     ... Number of electrons.\n",
       "+ steps            ::Array{Atomic.RasStep,1}   ... List of SCF steps that are to be done in this model computation.\n",
       "+ settings         ::Atomic.RasSettings        ... Settings for the given RAS computation\n",
       "```\n",
       "\n",
       "---\n",
       "\n",
       "`Atomic.RasExpansion()`  ... constructor for an 'empty' instance of the a variable::Atomic.RasExpansion\n"
      ],
      "text/plain": [
       "  \u001b[36mstruct  Atomic.RasExpansion    <:  AbstractRepresentationType\u001b[39m ... a struct\n",
       "  to represent (and generate) a restricted active-space representation.\n",
       "\n",
       "\u001b[36m  + symmetry         ::LevelSymmetry             ... Symmetry of the levels/CSF in the many-electron basis.\u001b[39m\n",
       "\u001b[36m  + NoElectrons      ::Int64                     ... Number of electrons.\u001b[39m\n",
       "\u001b[36m  + steps            ::Array{Atomic.RasStep,1}   ... List of SCF steps that are to be done in this model computation.\u001b[39m\n",
       "\u001b[36m  + settings         ::Atomic.RasSettings        ... Settings for the given RAS computation\u001b[39m\n",
       "\n",
       "  ────────────────────────────────────────────────────────────────────────────\n",
       "\n",
       "  \u001b[36mAtomic.RasExpansion()\u001b[39m ... constructor for an 'empty' instance of the a\n",
       "  variable::Atomic.RasExpansion"
      ]
     },
     "execution_count": 6,
     "metadata": {},
     "output_type": "execute_result"
    }
   ],
   "source": [
    "? Atomic.RasExpansion"
   ]
  },
  {
   "cell_type": "markdown",
   "metadata": {},
   "source": [
    "In this RAS expansion, we have to specify the (level) `symmetry` of automtically generated CSF expansions as well as *list of* `steps`, which specify the virtual excitations as well as those orbitals which are kept to be frozen during this particular step. These steps are *decribed* by:"
   ]
  },
  {
   "cell_type": "code",
   "execution_count": 7,
   "metadata": {},
   "outputs": [
    {
     "name": "stdout",
     "output_type": "stream",
     "text": [
      "search: \u001b[0m\u001b[1mR\u001b[22m\u001b[0m\u001b[1ma\u001b[22m\u001b[0m\u001b[1ms\u001b[22m\u001b[0m\u001b[1mS\u001b[22m\u001b[0m\u001b[1mt\u001b[22m\u001b[0m\u001b[1me\u001b[22m\u001b[0m\u001b[1mp\u001b[22m \u001b[0m\u001b[1mR\u001b[22m\u001b[0m\u001b[1ma\u001b[22m\u001b[0m\u001b[1ms\u001b[22m\u001b[0m\u001b[1mS\u001b[22me\u001b[0m\u001b[1mt\u001b[22mtings uppe\u001b[0m\u001b[1mr\u001b[22mc\u001b[0m\u001b[1ma\u001b[22m\u001b[0m\u001b[1ms\u001b[22mefir\u001b[0m\u001b[1ms\u001b[22m\u001b[0m\u001b[1mt\u001b[22m lowe\u001b[0m\u001b[1mr\u001b[22mc\u001b[0m\u001b[1ma\u001b[22m\u001b[0m\u001b[1ms\u001b[22mefir\u001b[0m\u001b[1ms\u001b[22m\u001b[0m\u001b[1mt\u001b[22m\n",
      "\n"
     ]
    },
    {
     "data": {
      "text/latex": [
       "\\texttt{struct  Atomic.RasStep}       ... specifies an individual step of a (relativistic) restricted active space computation for a set of levels. This struct          comprises all information to generate the orbital basis and to perform the associated SCF and multiplet computations for a          selected number of levels.\n",
       "\n",
       "\\begin{verbatim}\n",
       "+ seFrom            ::Array{Shell,1}        ... Single-excitations from shells   [sh_1, sh_2, ...]\n",
       "+ seTo              ::Array{Shell,1}        ... Single-excitations to shells  [sh_1, sh_2, ...]\n",
       "+ deFrom            ::Array{Shell,1}        ... Double-excitations from shells   [sh_1, sh_2, ...]\n",
       "+ deTo              ::Array{Shell,1}        ... Double-excitations to shells  [sh_1, sh_2, ...]\n",
       "+ teFrom            ::Array{Shell,1}        ... Triple-excitations from shells   [sh_1, sh_2, ...]\n",
       "+ teTo              ::Array{Shell,1}        ... Triple-excitations to shells  [sh_1, sh_2, ...]\n",
       "+ qeFrom            ::Array{Shell,1}        ... Quadrupole-excitations from shells   [sh_1, sh_2, ...]\n",
       "+ qeTo              ::Array{Shell,1}        ... Quadrupole-excitations to shells  [sh_1, sh_2, ...]\n",
       "+ frozenShells      ::Array{Shell,1}        ... List of shells that are kept 'frozen' in this step.\n",
       "+ constraints       ::Array{String,1}       ... List of Strings to define 'constraints/restrictions' to the generated CSF basis.\n",
       "\\end{verbatim}\n",
       "\\rule{\\textwidth}{1pt}\n",
       "\\texttt{Atomic.RasStep()}  ... constructor for an 'empty' instance of a variable::Atomic.RasStep\n",
       "\n",
       "\\rule{\\textwidth}{1pt}\n",
       "\\texttt{Atomic.RasStep(rasStep::Atomic.RasStep;}\n",
       "\n",
       "\\begin{verbatim}\n",
       "                seFrom::Array{Shell,1}=Shell[], seTo::Array{Shell,1}=Shell[], \n",
       "                deFrom::Array{Shell,1}=Shell[], deTo::Array{Shell,1}=Shell[], \n",
       "                teFrom::Array{Shell,1}=Shell[], teTo::Array{Shell,1}=Shell[], \n",
       "                qeFrom::Array{Shell,1}=Shell[], qeTo::Array{Shell,1}=Shell[], \n",
       "                frozen::Array{Shell,1}=Shell[], constraints::Array{String,1}=String[]  \n",
       "                \n",
       "... constructor for modifying the given rasStep by specifying all excitations, frozen shells and constraints optionally.\n",
       "\\end{verbatim}\n"
      ],
      "text/markdown": [
       "`struct  Atomic.RasStep`       ... specifies an individual step of a (relativistic) restricted active space computation for a set of levels. This struct          comprises all information to generate the orbital basis and to perform the associated SCF and multiplet computations for a          selected number of levels.\n",
       "\n",
       "```\n",
       "+ seFrom            ::Array{Shell,1}        ... Single-excitations from shells   [sh_1, sh_2, ...]\n",
       "+ seTo              ::Array{Shell,1}        ... Single-excitations to shells  [sh_1, sh_2, ...]\n",
       "+ deFrom            ::Array{Shell,1}        ... Double-excitations from shells   [sh_1, sh_2, ...]\n",
       "+ deTo              ::Array{Shell,1}        ... Double-excitations to shells  [sh_1, sh_2, ...]\n",
       "+ teFrom            ::Array{Shell,1}        ... Triple-excitations from shells   [sh_1, sh_2, ...]\n",
       "+ teTo              ::Array{Shell,1}        ... Triple-excitations to shells  [sh_1, sh_2, ...]\n",
       "+ qeFrom            ::Array{Shell,1}        ... Quadrupole-excitations from shells   [sh_1, sh_2, ...]\n",
       "+ qeTo              ::Array{Shell,1}        ... Quadrupole-excitations to shells  [sh_1, sh_2, ...]\n",
       "+ frozenShells      ::Array{Shell,1}        ... List of shells that are kept 'frozen' in this step.\n",
       "+ constraints       ::Array{String,1}       ... List of Strings to define 'constraints/restrictions' to the generated CSF basis.\n",
       "```\n",
       "\n",
       "---\n",
       "\n",
       "`Atomic.RasStep()`  ... constructor for an 'empty' instance of a variable::Atomic.RasStep\n",
       "\n",
       "---\n",
       "\n",
       "`Atomic.RasStep(rasStep::Atomic.RasStep;`\n",
       "\n",
       "```\n",
       "                seFrom::Array{Shell,1}=Shell[], seTo::Array{Shell,1}=Shell[], \n",
       "                deFrom::Array{Shell,1}=Shell[], deTo::Array{Shell,1}=Shell[], \n",
       "                teFrom::Array{Shell,1}=Shell[], teTo::Array{Shell,1}=Shell[], \n",
       "                qeFrom::Array{Shell,1}=Shell[], qeTo::Array{Shell,1}=Shell[], \n",
       "                frozen::Array{Shell,1}=Shell[], constraints::Array{String,1}=String[]  \n",
       "                \n",
       "... constructor for modifying the given rasStep by specifying all excitations, frozen shells and constraints optionally.\n",
       "```\n"
      ],
      "text/plain": [
       "  \u001b[36mstruct  Atomic.RasStep\u001b[39m ... specifies an individual step of a (relativistic)\n",
       "  restricted active space computation for a set of levels. This struct\n",
       "  comprises all information to generate the orbital basis and to perform the\n",
       "  associated SCF and multiplet computations for a selected number of levels.\n",
       "\n",
       "\u001b[36m  + seFrom            ::Array{Shell,1}        ... Single-excitations from shells   [sh_1, sh_2, ...]\u001b[39m\n",
       "\u001b[36m  + seTo              ::Array{Shell,1}        ... Single-excitations to shells  [sh_1, sh_2, ...]\u001b[39m\n",
       "\u001b[36m  + deFrom            ::Array{Shell,1}        ... Double-excitations from shells   [sh_1, sh_2, ...]\u001b[39m\n",
       "\u001b[36m  + deTo              ::Array{Shell,1}        ... Double-excitations to shells  [sh_1, sh_2, ...]\u001b[39m\n",
       "\u001b[36m  + teFrom            ::Array{Shell,1}        ... Triple-excitations from shells   [sh_1, sh_2, ...]\u001b[39m\n",
       "\u001b[36m  + teTo              ::Array{Shell,1}        ... Triple-excitations to shells  [sh_1, sh_2, ...]\u001b[39m\n",
       "\u001b[36m  + qeFrom            ::Array{Shell,1}        ... Quadrupole-excitations from shells   [sh_1, sh_2, ...]\u001b[39m\n",
       "\u001b[36m  + qeTo              ::Array{Shell,1}        ... Quadrupole-excitations to shells  [sh_1, sh_2, ...]\u001b[39m\n",
       "\u001b[36m  + frozenShells      ::Array{Shell,1}        ... List of shells that are kept 'frozen' in this step.\u001b[39m\n",
       "\u001b[36m  + constraints       ::Array{String,1}       ... List of Strings to define 'constraints/restrictions' to the generated CSF basis.\u001b[39m\n",
       "\n",
       "  ────────────────────────────────────────────────────────────────────────────\n",
       "\n",
       "  \u001b[36mAtomic.RasStep()\u001b[39m ... constructor for an 'empty' instance of a\n",
       "  variable::Atomic.RasStep\n",
       "\n",
       "  ────────────────────────────────────────────────────────────────────────────\n",
       "\n",
       "  \u001b[36mAtomic.RasStep(rasStep::Atomic.RasStep;\u001b[39m\n",
       "\n",
       "\u001b[36m                  seFrom::Array{Shell,1}=Shell[], seTo::Array{Shell,1}=Shell[], \u001b[39m\n",
       "\u001b[36m                  deFrom::Array{Shell,1}=Shell[], deTo::Array{Shell,1}=Shell[], \u001b[39m\n",
       "\u001b[36m                  teFrom::Array{Shell,1}=Shell[], teTo::Array{Shell,1}=Shell[], \u001b[39m\n",
       "\u001b[36m                  qeFrom::Array{Shell,1}=Shell[], qeTo::Array{Shell,1}=Shell[], \u001b[39m\n",
       "\u001b[36m                  frozen::Array{Shell,1}=Shell[], constraints::Array{String,1}=String[]  \u001b[39m\n",
       "\u001b[36m                  \u001b[39m\n",
       "\u001b[36m  ... constructor for modifying the given rasStep by specifying all excitations, frozen shells and constraints optionally.\u001b[39m"
      ]
     },
     "execution_count": 7,
     "metadata": {},
     "output_type": "execute_result"
    }
   ],
   "source": [
    "? RasStep"
   ]
  },
  {
   "cell_type": "markdown",
   "metadata": {},
   "source": [
    "with quite an obvious meaning of single excitations (se), double excitations (de), etc., and where `from` and `to` refer lists of active shells. For each step, we can also specify which `frozenShells` are kept frozen and which additional constraints should be taken into account in generating the CSF lists. **We note, however, that presently no constraints are taken into account in these RAS expansions.** \n",
    "\n",
    "Apart from the `steps`, various details about the RAS computations can be specified in terms of the `settings::RasSettings` above, and which apply (equally) to *all* steps:"
   ]
  },
  {
   "cell_type": "code",
   "execution_count": 8,
   "metadata": {},
   "outputs": [
    {
     "name": "stdout",
     "output_type": "stream",
     "text": [
      "search: \u001b[0m\u001b[1mR\u001b[22m\u001b[0m\u001b[1ma\u001b[22m\u001b[0m\u001b[1ms\u001b[22m\u001b[0m\u001b[1mS\u001b[22m\u001b[0m\u001b[1me\u001b[22m\u001b[0m\u001b[1mt\u001b[22m\u001b[0m\u001b[1mt\u001b[22m\u001b[0m\u001b[1mi\u001b[22m\u001b[0m\u001b[1mn\u001b[22m\u001b[0m\u001b[1mg\u001b[22m\u001b[0m\u001b[1ms\u001b[22m\n",
      "\n"
     ]
    },
    {
     "data": {
      "text/latex": [
       "\\texttt{struct  Atomic.RasSettings}       ... a struct for defining the settings for a restricted active-space computations.\n",
       "\n",
       "\\begin{verbatim}\n",
       "+ levelsScf            ::Array{Int64,1}     ... Levels on which the optimization need to be carried out.\n",
       "+ maxIterationsScf     ::Int64              ... maximum number of SCF iterations in each RAS step.\n",
       "+ accuracyScf          ::Float64            ... convergence criterion for the SCF field.\n",
       "\n",
       "+ breitCI              ::Bool               ... logical flag to include Breit interactions.\n",
       "+ selectLevelsCI       ::Bool               ... true, if specific level (number)s have been selected.\n",
       "+ selectedLevelsCI     ::Array{Int64,1}     ... Level number that have been selected.\n",
       "\\end{verbatim}\n",
       "\\rule{\\textwidth}{1pt}\n",
       "\\texttt{Atomic.RasSettings()}  ... constructor for setting the default values.\n",
       "\n"
      ],
      "text/markdown": [
       "`struct  Atomic.RasSettings`       ... a struct for defining the settings for a restricted active-space computations.\n",
       "\n",
       "```\n",
       "+ levelsScf            ::Array{Int64,1}     ... Levels on which the optimization need to be carried out.\n",
       "+ maxIterationsScf     ::Int64              ... maximum number of SCF iterations in each RAS step.\n",
       "+ accuracyScf          ::Float64            ... convergence criterion for the SCF field.\n",
       "\n",
       "+ breitCI              ::Bool               ... logical flag to include Breit interactions.\n",
       "+ selectLevelsCI       ::Bool               ... true, if specific level (number)s have been selected.\n",
       "+ selectedLevelsCI     ::Array{Int64,1}     ... Level number that have been selected.\n",
       "```\n",
       "\n",
       "---\n",
       "\n",
       "`Atomic.RasSettings()`  ... constructor for setting the default values.\n"
      ],
      "text/plain": [
       "  \u001b[36mstruct  Atomic.RasSettings\u001b[39m ... a struct for defining the settings for a\n",
       "  restricted active-space computations.\n",
       "\n",
       "\u001b[36m  + levelsScf            ::Array{Int64,1}     ... Levels on which the optimization need to be carried out.\u001b[39m\n",
       "\u001b[36m  + maxIterationsScf     ::Int64              ... maximum number of SCF iterations in each RAS step.\u001b[39m\n",
       "\u001b[36m  + accuracyScf          ::Float64            ... convergence criterion for the SCF field.\u001b[39m\n",
       "\u001b[36m  \u001b[39m\n",
       "\u001b[36m  + breitCI              ::Bool               ... logical flag to include Breit interactions.\u001b[39m\n",
       "\u001b[36m  + selectLevelsCI       ::Bool               ... true, if specific level (number)s have been selected.\u001b[39m\n",
       "\u001b[36m  + selectedLevelsCI     ::Array{Int64,1}     ... Level number that have been selected.\u001b[39m\n",
       "\n",
       "  ────────────────────────────────────────────────────────────────────────────\n",
       "\n",
       "  \u001b[36mAtomic.RasSettings()\u001b[39m ... constructor for setting the default values."
      ]
     },
     "execution_count": 8,
     "metadata": {},
     "output_type": "execute_result"
    }
   ],
   "source": [
    "? RasSettings"
   ]
  },
  {
   "cell_type": "markdown",
   "metadata": {},
   "source": [
    "These settings enables one to specify the levels on which the SCF is optimized as well as the maximum number of iterations and requested accuracy in these computations. In addition, the flag `breitCI` determines the use of the Breit interaction in the set-up (and diagonalization) of the Hamiltonian matrix; this flag does not affect the SCF of the *next* RAS step but may influence further computations, if the multiplets of the individual steps are subsequently used in computations of properties and processes. We can look for the default settings as well as specify these settings explictly by:"
   ]
  },
  {
   "cell_type": "code",
   "execution_count": 9,
   "metadata": {},
   "outputs": [
    {
     "data": {
      "text/plain": [
       "levelsScf:            [1]  \n",
       "maxIterationsScf:     24  \n",
       "accuracyScf:          1.0e-6  \n",
       "breitCI:              false  \n",
       "selectLevelsCI:       false  \n",
       "selectedLevelsCI:     Int64[]  \n"
      ]
     },
     "execution_count": 9,
     "metadata": {},
     "output_type": "execute_result"
    }
   ],
   "source": [
    "Atomic.RasSettings()"
   ]
  },
  {
   "cell_type": "code",
   "execution_count": 10,
   "metadata": {},
   "outputs": [
    {
     "data": {
      "text/plain": [
       "levelsScf:            [1]  \n",
       "maxIterationsScf:     24  \n",
       "accuracyScf:          1.0e-6  \n",
       "breitCI:              false  \n",
       "selectLevelsCI:       true  \n",
       "selectedLevelsCI:     [1, 2, 3]  \n"
      ]
     },
     "execution_count": 10,
     "metadata": {},
     "output_type": "execute_result"
    }
   ],
   "source": [
    "rasSettings = RasSettings([1], 24, 1.0e-6, false, true, [1,2,3] )"
   ]
  },
  {
   "cell_type": "markdown",
   "metadata": {},
   "source": [
    "The last two entries to these settings tell JAC that we wish to compute (and print) always the lowest three levels of each Hamiltonian matrix; **this feature is done properly at present since, until now, the whole Hamiltonian matrix is diagonalized (and printed) in all cases.**"
   ]
  },
  {
   "cell_type": "markdown",
   "metadata": {},
   "source": [
    "We are now prepared to define the RAS computation as a whole, i.e. a name (mainly for the printout), the reference configuration(s) as well as in turn all (three) steps of a RAS computation for the $1s^2 2s^2\\: ^1S_0$ ground level of neutral beryllium:"
   ]
  },
  {
   "cell_type": "code",
   "execution_count": null,
   "metadata": {},
   "outputs": [],
   "source": [
    "name        = \"Beryllium 1s^2 2s^2 ^1S_0 ground state\"\n",
    "refConfigs  = [Configuration(\"[He] 2s^2\")]"
   ]
  },
  {
   "cell_type": "markdown",
   "metadata": {},
   "source": [
    "We also specify that we will keep the $1s$ orbital frozen in the computation of all orbitals beyond those in the reference configurations as well as that all excitations are to be taken from the $2s$ shell:"
   ]
  },
  {
   "cell_type": "code",
   "execution_count": null,
   "metadata": {},
   "outputs": [],
   "source": [
    "frozen      = [Shell(\"1s\")]\n",
    "from        = [Shell(\"2s\")]"
   ]
  },
  {
   "cell_type": "code",
   "execution_count": null,
   "metadata": {},
   "outputs": [],
   "source": [
    "to          = [Shell(\"2s\"), Shell(\"2p\")]\n",
    "step1       = RasStep(RasStep(); seFrom=from, seTo=deepcopy(to), deFrom=from, deTo=deepcopy(to), frozen=deepcopy(frozen))"
   ]
  },
  {
   "cell_type": "markdown",
   "metadata": {},
   "source": [
    "Similarly, we can specify the second and third step by using (and overwriting) the information provided for the previous step; the use of deepcopy() ensures that no internal calls are repeated if these cells are called in different order:"
   ]
  },
  {
   "cell_type": "code",
   "execution_count": null,
   "metadata": {},
   "outputs": [],
   "source": [
    "append!(frozen, [Shell(\"2s\"), Shell(\"2p\")])\n",
    "append!(to,     [Shell(\"3s\"), Shell(\"3p\"), Shell(\"3d\")])\n",
    "step2       = RasStep(step1; seTo=deepcopy(to), deTo=deepcopy(to), frozen=deepcopy(frozen))"
   ]
  },
  {
   "cell_type": "code",
   "execution_count": null,
   "metadata": {},
   "outputs": [],
   "source": [
    "append!(frozen, [Shell(\"3s\"), Shell(\"3p\"), Shell(\"3d\")])\n",
    "append!(to,     [Shell(\"4s\"), Shell(\"4p\"), Shell(\"4d\"), Shell(\"4f\")])\n",
    "step3       = RasStep(step2; seTo=deepcopy(to), deTo=deepcopy(to), frozen=deepcopy(frozen))"
   ]
  },
  {
   "cell_type": "markdown",
   "metadata": {},
   "source": [
    "With these definition of all *steps*, we can now define the RAS computations as a whole and subsequently *run* it:"
   ]
  },
  {
   "cell_type": "code",
   "execution_count": null,
   "metadata": {},
   "outputs": [],
   "source": [
    "wa          = RasComputation(name, Nuclear.Model(4.), Radial.Grid(\"grid: exponential\"), refConfigs, LevelSymmetry(0, Basics.plus),\n",
    "                             4, [step1, step2, step3], rasSettings)"
   ]
  },
  {
   "cell_type": "code",
   "execution_count": null,
   "metadata": {
    "scrolled": true
   },
   "outputs": [],
   "source": [
    "wb = perform(wa, output=true)"
   ]
  },
  {
   "cell_type": "markdown",
   "metadata": {},
   "source": [
    "Of course, analogue computations can be readily carried out also for the (two) $1s^2 2s2p\\: ^{1,3}P_1$ excited levels of neutral beryllium, and where we use major parts of the previous computation:"
   ]
  },
  {
   "cell_type": "code",
   "execution_count": null,
   "metadata": {},
   "outputs": [],
   "source": [
    "name2        = \"Beryllium 1s^2 2s^2 ^1S_0 ground state\"\n",
    "refConfigs2  = [Configuration(\"[He] 2s^2\")]\n",
    "wa2          = RasComputation(name2, Nuclear.Model(4.), Radial.Grid(\"grid: exponential\"), refConfigs2, LevelSymmetry(1, Basics.minus),\n",
    "                              4, [step1, step2, step3], rasSettings)"
   ]
  },
  {
   "cell_type": "code",
   "execution_count": null,
   "metadata": {
    "scrolled": true
   },
   "outputs": [],
   "source": [
    "wb2 = perform(wa2, output=true)"
   ]
  },
  {
   "cell_type": "markdown",
   "metadata": {},
   "source": [
    "All *results* of this and the previous RAS computations are kept by the dictionaries `wb2` and `wb` above. We can use these variables to extract, for instance, the multiplets as obtained from the first step:"
   ]
  },
  {
   "cell_type": "code",
   "execution_count": null,
   "metadata": {},
   "outputs": [],
   "source": [
    "wm = wb[\"reference multiplet\"];   wm2 = wb2[\"reference multiplet\"]"
   ]
  },
  {
   "cell_type": "code",
   "execution_count": null,
   "metadata": {},
   "outputs": [],
   "source": [
    "Obviously, the describe the same *level* since they are both built just open the $1s^2 2s^2$ closed-shell configuration:"
   ]
  },
  {
   "cell_type": "code",
   "execution_count": null,
   "metadata": {},
   "outputs": [],
   "source": [
    "println(\"Energies from references conf:  $(wm.levels[1].energy)   $(wm2.levels[1].energy)   \")"
   ]
  },
  {
   "cell_type": "markdown",
   "metadata": {},
   "source": [
    "These energies differ, however, if we compare them for different steps as well as for the two different RAS computations."
   ]
  },
  {
   "cell_type": "code",
   "execution_count": null,
   "metadata": {},
   "outputs": [],
   "source": [
    "wm = wb[\"step1\"];   wm2 = wb2[\"step1\"]\n",
    "println(\"Energies from step 1:           $(wm.levels[1].energy)   $(wm2.levels[1].energy)   \")"
   ]
  },
  {
   "cell_type": "code",
   "execution_count": null,
   "metadata": {},
   "outputs": [],
   "source": [
    "wm = wb[\"step2\"];   wm2 = wb2[\"step2\"]\n",
    "println(\"Energies from step 2:           $(wm.levels[1].energy)   $(wm2.levels[1].energy)   \")"
   ]
  },
  {
   "cell_type": "code",
   "execution_count": null,
   "metadata": {},
   "outputs": [],
   "source": [
    "wm = wb[\"step3\"];   wm2 = wb2[\"step3\"]\n",
    "println(\"Energies from step 3:           $(wm.levels[1].energy)   $(wm2.levels[1].energy)   \")"
   ]
  },
  {
   "cell_type": "code",
   "execution_count": null,
   "metadata": {},
   "outputs": [],
   "source": []
  }
 ],
 "metadata": {
  "@webio": {
   "lastCommId": null,
   "lastKernelId": null
  },
  "kernelspec": {
   "display_name": "Julia 1.0.3",
   "language": "julia",
   "name": "julia-1.0"
  },
  "language_info": {
   "file_extension": ".jl",
   "mimetype": "application/julia",
   "name": "julia",
   "version": "1.0.3"
  }
 },
 "nbformat": 4,
 "nbformat_minor": 4
}
