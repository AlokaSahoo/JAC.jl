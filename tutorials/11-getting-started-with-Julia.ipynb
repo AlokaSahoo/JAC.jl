{
 "cells": [
  {
   "cell_type": "markdown",
   "metadata": {},
   "source": [
    "# Getting started with Julia"
   ]
  },
  {
   "cell_type": "markdown",
   "metadata": {},
   "source": [
    "Julia is known as a high-level programming language that has been designed from the very beginning in order to combine (high) performance and productivity. The initial design of Julia was started about 2009, and a first beta version was launched around 2012 (well before I got aware of it). Since then, the **Julia community** has grown very rapidly. While Julia has been designed as a general-purpose language for many different applications, its central features are well suited for high-performance numerical analysis and computational science, and as required especially for modelling quantum many-particle systems. Indeed, Julia comprises a very careful design and a good number of modern technologies that enables the user to gradually learning modern concepts in scientific computing."
   ]
  },
  {
   "cell_type": "markdown",
   "metadata": {},
   "source": [
    "Julia offers various features that are otherwise ust known from (so-called) *productivity languages*, including rapid development cycles; exploratory programming without the need to type declarations and memory management; language extensibility via multiple dispatch as well as various features for meta-programming and parallelization. In particular, Julia provides the user with dynamic typing, automatic garbage collection as well as a type-specializing *just-in-time* compilation of code, and which enables one to port code to other platforms with only moderate adaptions. With the rapid growth of the Julia user community, there has been developed a large number of tutorials https://julialang.org/learning/ which help the user to get started."
   ]
  },
  {
   "cell_type": "markdown",
   "metadata": {},
   "source": [
    "The modern features of Julia are quite *in contrast* to the codes that are currently applied in **computational atomic physics** or, more generally, in atomic, molecular and optical (AMO) physics. Mainly for historical reason (and the existence of more or less powerful codes), most atomic computations make still use of Fortran or C. Since atomic structure (and collision) theory has been developed parallel with Fortran, a large (or even huge) amount of Fortran code exists and is applied by the community, a situation with sometimes undesired consequences: Newcomers to computional atomic or AMO either have to *learn* the basics about Fortran programming or, *vice versa*, begin to belief that both, (the use of) Fortran and atomic physics are old-fashioned. From a physics viewpoint, however, the opposite is true: Until today, **atomic pyhsics has proven as great playground** for developing new ideas, concepts or theoretical methods in quantum many-particle physics. With the design of the **Jena Atomic Calculator (JAC)**, I wish to show that atomic computations can be made much simpler and applied to various modern and emerging fields of physics. "
   ]
  },
  {
   "cell_type": "markdown",
   "metadata": {},
   "source": [
    "Here, we shall **not introduce** Julia's syntax and concepts for which many tutorials are available on the web. Instead, we just wish to remind and highlight some simple (syntax) features that help to go easier around with JAC, and especially for occasional users from experiment or teaching. This reminder aims to lower the initial *threshold* for users that have been trained on other languages in the past. Here, we shall *pick up* some issues whose physics background is explained only later in other tutorial. Obviously, moreover, Julia is a very rich and powerful language with many features that go well beyond of what is (and will ever) needed for JAC."
   ]
  },
  {
   "cell_type": "markdown",
   "metadata": {},
   "source": [
    "In brief, JAC provides tools for performing atomic (structure) calculations of different kind and complexity, and for which further details are given in the tutorials below. To see anything from JAC, we shall first invoke the tools by:"
   ]
  },
  {
   "cell_type": "code",
   "execution_count": 1,
   "metadata": {},
   "outputs": [],
   "source": [
    "using JAC"
   ]
  },
  {
   "cell_type": "markdown",
   "metadata": {},
   "source": [
    "a line that will be at the beginning of all subsequent tutorials. -- A first powerful and frequently needed feature refers to Julia's help pages or just the \"?\". By typing, for instance, atom or computation"
   ]
  },
  {
   "cell_type": "code",
   "execution_count": 2,
   "metadata": {},
   "outputs": [
    {
     "name": "stdout",
     "output_type": "stream",
     "text": [
      "search: \u001b[0m\u001b[1mA\u001b[22m\u001b[0m\u001b[1mt\u001b[22m\u001b[0m\u001b[1mo\u001b[22m\u001b[0m\u001b[1mm\u001b[22mic \u001b[0m\u001b[1mA\u001b[22m\u001b[0m\u001b[1mt\u001b[22m\u001b[0m\u001b[1mo\u001b[22m\u001b[0m\u001b[1mm\u001b[22micState \u001b[0m\u001b[1mA\u001b[22m\u001b[0m\u001b[1mt\u001b[22m\u001b[0m\u001b[1mo\u001b[22m\u001b[0m\u001b[1mm\u001b[22micStructure St\u001b[0m\u001b[1ma\u001b[22mr\u001b[0m\u001b[1mt\u001b[22mFr\u001b[0m\u001b[1mo\u001b[22m\u001b[0m\u001b[1mm\u001b[22mPrevious St\u001b[0m\u001b[1ma\u001b[22mr\u001b[0m\u001b[1mt\u001b[22mFr\u001b[0m\u001b[1mo\u001b[22m\u001b[0m\u001b[1mm\u001b[22mHydrogenic\n",
      "\n",
      "Couldn't find \u001b[36matom\u001b[39m\n",
      "Perhaps you meant atan, acot, acos, htol, hton, ltoh, ntoh, Atomic or pathof\n"
     ]
    },
    {
     "data": {
      "text/latex": [
       "No documentation found.\n",
       "\n",
       "Binding \\texttt{atom} does not exist.\n",
       "\n"
      ],
      "text/markdown": [
       "No documentation found.\n",
       "\n",
       "Binding `atom` does not exist.\n"
      ],
      "text/plain": [
       "  No documentation found.\n",
       "\n",
       "  Binding \u001b[36matom\u001b[39m does not exist."
      ]
     },
     "execution_count": 2,
     "metadata": {},
     "output_type": "execute_result"
    }
   ],
   "source": [
    "? atom"
   ]
  },
  {
   "cell_type": "markdown",
   "metadata": {},
   "source": [
    "we see, that `atom` itself is not a well-defined term in JAC but there exist a number of related terms, such as `Atomic`, `AtomicState` (two modules of JAC) and others. We shall not enter here the modular structure of the JAC toolbox but start much simpler with: "
   ]
  },
  {
   "cell_type": "code",
   "execution_count": 3,
   "metadata": {},
   "outputs": [
    {
     "name": "stdout",
     "output_type": "stream",
     "text": [
      "search: \u001b[0m\u001b[1mO\u001b[22m\u001b[0m\u001b[1mr\u001b[22m\u001b[0m\u001b[1mb\u001b[22m\u001b[0m\u001b[1mi\u001b[22m\u001b[0m\u001b[1mt\u001b[22m\u001b[0m\u001b[1ma\u001b[22m\u001b[0m\u001b[1ml\u001b[22m AbstractStart\u001b[0m\u001b[1mO\u001b[22m\u001b[0m\u001b[1mr\u001b[22m\u001b[0m\u001b[1mb\u001b[22m\u001b[0m\u001b[1mi\u001b[22m\u001b[0m\u001b[1mt\u001b[22m\u001b[0m\u001b[1ma\u001b[22m\u001b[0m\u001b[1ml\u001b[22ms Ph\u001b[0m\u001b[1mo\u001b[22mto\u001b[0m\u001b[1mR\u001b[22mecom\u001b[0m\u001b[1mb\u001b[22m\u001b[0m\u001b[1mi\u001b[22mna\u001b[0m\u001b[1mt\u001b[22mion Multip\u001b[0m\u001b[1mo\u001b[22mlePola\u001b[0m\u001b[1mr\u001b[22mizi\u001b[0m\u001b[1mb\u001b[22m\u001b[0m\u001b[1mi\u001b[22mli\u001b[0m\u001b[1mt\u001b[22my\n",
      "\n"
     ]
    },
    {
     "data": {
      "text/latex": [
       "\\texttt{struct  Radial.Orbital}       ... defines a type for a single-electron radial orbital function with a large and small component, and which can refer to         either the standard or an explicitly given grid due to the logical flag useStandardGrid. Bound-state orbitals with energy < 0 are          distinguished from free-electron orbitals by the flag isBound.\n",
       "\n",
       "\\begin{verbatim}\n",
       "+ subshell        ::Subshell          ... Relativistic subshell.\n",
       "+ isBound         ::Bool              ... Logical flag to distinguish between bound (true) and free-electron orbitals (false).\n",
       "+ useStandardGrid ::Bool              ... Logical flag for using the standard grid (true) or an explicitly given grid (false).\n",
       "+ energy          ::Float64           ... Single-electron energies of bound orbitals are always negative.\n",
       "+ P               ::Array{Float64,1}  ... Large and ..\n",
       "+ Q               ::Array{Float64,1}  ... small component of the radial orbital.\n",
       "+ Pprime          ::Array{Float64,1}  ... dP/dr.\n",
       "+ Qprime          ::Array{Float64,1}  ... dQ/dr.\n",
       "+ grid            ::Array{Float64,1}  ... explic. defined radial grid array for P, Q, if StandardGrid = false.\n",
       "\\end{verbatim}\n",
       "\\rule{\\textwidth}{1pt}\n",
       "\\texttt{Radial.Orbital(subshell::Subshell, energy::Float64)}       ... constructor for given subshell and energy, and where useStandardGrid is set to true; the grid must be defined          explicitly and neither the large and small components nor their derivatives are yet defined in this case.\n",
       "\n",
       "\\rule{\\textwidth}{1pt}\n",
       "\\texttt{Radial.Orbital(label::String, energy::Float64)}       ... constructor for given string identifier and energy, and where useStandardGrid is set to true; the grid must be          defined explicitly and neither the large and small components nor their derivatives are yet defined in this case.\n",
       "\n"
      ],
      "text/markdown": [
       "`struct  Radial.Orbital`       ... defines a type for a single-electron radial orbital function with a large and small component, and which can refer to         either the standard or an explicitly given grid due to the logical flag useStandardGrid. Bound-state orbitals with energy < 0 are          distinguished from free-electron orbitals by the flag isBound.\n",
       "\n",
       "```\n",
       "+ subshell        ::Subshell          ... Relativistic subshell.\n",
       "+ isBound         ::Bool              ... Logical flag to distinguish between bound (true) and free-electron orbitals (false).\n",
       "+ useStandardGrid ::Bool              ... Logical flag for using the standard grid (true) or an explicitly given grid (false).\n",
       "+ energy          ::Float64           ... Single-electron energies of bound orbitals are always negative.\n",
       "+ P               ::Array{Float64,1}  ... Large and ..\n",
       "+ Q               ::Array{Float64,1}  ... small component of the radial orbital.\n",
       "+ Pprime          ::Array{Float64,1}  ... dP/dr.\n",
       "+ Qprime          ::Array{Float64,1}  ... dQ/dr.\n",
       "+ grid            ::Array{Float64,1}  ... explic. defined radial grid array for P, Q, if StandardGrid = false.\n",
       "```\n",
       "\n",
       "---\n",
       "\n",
       "`Radial.Orbital(subshell::Subshell, energy::Float64)`       ... constructor for given subshell and energy, and where useStandardGrid is set to true; the grid must be defined          explicitly and neither the large and small components nor their derivatives are yet defined in this case.\n",
       "\n",
       "---\n",
       "\n",
       "`Radial.Orbital(label::String, energy::Float64)`       ... constructor for given string identifier and energy, and where useStandardGrid is set to true; the grid must be          defined explicitly and neither the large and small components nor their derivatives are yet defined in this case.\n"
      ],
      "text/plain": [
       "  \u001b[36mstruct  Radial.Orbital\u001b[39m ... defines a type for a single-electron radial\n",
       "  orbital function with a large and small component, and which can refer to\n",
       "  either the standard or an explicitly given grid due to the logical flag\n",
       "  useStandardGrid. Bound-state orbitals with energy < 0 are distinguished from\n",
       "  free-electron orbitals by the flag isBound.\n",
       "\n",
       "\u001b[36m  + subshell        ::Subshell          ... Relativistic subshell.\u001b[39m\n",
       "\u001b[36m  + isBound         ::Bool              ... Logical flag to distinguish between bound (true) and free-electron orbitals (false).\u001b[39m\n",
       "\u001b[36m  + useStandardGrid ::Bool              ... Logical flag for using the standard grid (true) or an explicitly given grid (false).\u001b[39m\n",
       "\u001b[36m  + energy          ::Float64           ... Single-electron energies of bound orbitals are always negative.\u001b[39m\n",
       "\u001b[36m  + P               ::Array{Float64,1}  ... Large and ..\u001b[39m\n",
       "\u001b[36m  + Q               ::Array{Float64,1}  ... small component of the radial orbital.\u001b[39m\n",
       "\u001b[36m  + Pprime          ::Array{Float64,1}  ... dP/dr.\u001b[39m\n",
       "\u001b[36m  + Qprime          ::Array{Float64,1}  ... dQ/dr.\u001b[39m\n",
       "\u001b[36m  + grid            ::Array{Float64,1}  ... explic. defined radial grid array for P, Q, if StandardGrid = false.\u001b[39m\n",
       "\n",
       "  ────────────────────────────────────────────────────────────────────────────\n",
       "\n",
       "  \u001b[36mRadial.Orbital(subshell::Subshell, energy::Float64)\u001b[39m ... constructor for\n",
       "  given subshell and energy, and where useStandardGrid is set to true; the\n",
       "  grid must be defined explicitly and neither the large and small components\n",
       "  nor their derivatives are yet defined in this case.\n",
       "\n",
       "  ────────────────────────────────────────────────────────────────────────────\n",
       "\n",
       "  \u001b[36mRadial.Orbital(label::String, energy::Float64)\u001b[39m ... constructor for given\n",
       "  string identifier and energy, and where useStandardGrid is set to true; the\n",
       "  grid must be defined explicitly and neither the large and small components\n",
       "  nor their derivatives are yet defined in this case."
      ]
     },
     "execution_count": 3,
     "metadata": {},
     "output_type": "execute_result"
    }
   ],
   "source": [
    "? Orbital"
   ]
  },
  {
   "cell_type": "markdown",
   "metadata": {},
   "source": [
    "which, apart from its formal meaning, is a particular data structure (`struct`) of JAC and which represents a relativistic orbital (function) including additional information that appears helpful in the given implementation. Indeed, there are many (say, more than 300 of such data struct's) defined in the JAC toolbox,a and it is obvious that nobody will remember the details of all these definitions. Indeed, the \"?\" is the right and powerful means here to remind and make use of these data structures where ever necessary. Special care has been taken that all data structures and functions/methods comes with a reasonable explanation (docstring) in order to work efficiently with JAC. (**Hint:** If, in JupyterLab, the printout of some code cell in is too wide, you can make the font smaller/larger by <ctrl> -/+)."
   ]
  },
  {
   "cell_type": "markdown",
   "metadata": {},
   "source": [
    "For instance, we might ask of what can be *added* to each other in JAC:"
   ]
  },
  {
   "cell_type": "code",
   "execution_count": 4,
   "metadata": {},
   "outputs": [
    {
     "name": "stdout",
     "output_type": "stream",
     "text": [
      "search: \u001b[0m\u001b[1ma\u001b[22m\u001b[0m\u001b[1md\u001b[22m\u001b[0m\u001b[1md\u001b[22m re\u001b[0m\u001b[1ma\u001b[22m\u001b[0m\u001b[1md\u001b[22m\u001b[0m\u001b[1md\u001b[22mir mul\u001b[0m\u001b[1ma\u001b[22m\u001b[0m\u001b[1md\u001b[22m\u001b[0m\u001b[1md\u001b[22m r\u001b[0m\u001b[1ma\u001b[22m\u001b[0m\u001b[1md\u001b[22m2\u001b[0m\u001b[1md\u001b[22meg \u001b[0m\u001b[1mA\u001b[22mbstractQe\u001b[0m\u001b[1md\u001b[22mMo\u001b[0m\u001b[1md\u001b[22mel\n",
      "\n"
     ]
    },
    {
     "data": {
      "text/latex": [
       "\\texttt{Basics.add(ma::AngularM64, mb::AngularM64)}       ... adds the projections of the angular momenta ma + mb and returns a mc::AngularM64.\n",
       "\n",
       "\\rule{\\textwidth}{1pt}\n",
       "\\texttt{Basics.add(pota::Radial.Potential, potb::Radial.Potential)}       ... to add two radial potentials together that are defined on the same grid. A potential::RadialPotential is returned          that inherits its radial size from the potential that is defined in a larger range of r-values.\n",
       "\n"
      ],
      "text/markdown": [
       "`Basics.add(ma::AngularM64, mb::AngularM64)`       ... adds the projections of the angular momenta ma + mb and returns a mc::AngularM64.\n",
       "\n",
       "---\n",
       "\n",
       "`Basics.add(pota::Radial.Potential, potb::Radial.Potential)`       ... to add two radial potentials together that are defined on the same grid. A potential::RadialPotential is returned          that inherits its radial size from the potential that is defined in a larger range of r-values.\n"
      ],
      "text/plain": [
       "  \u001b[36mBasics.add(ma::AngularM64, mb::AngularM64)\u001b[39m ... adds the projections of the\n",
       "  angular momenta ma + mb and returns a mc::AngularM64.\n",
       "\n",
       "  ────────────────────────────────────────────────────────────────────────────\n",
       "\n",
       "  \u001b[36mBasics.add(pota::Radial.Potential, potb::Radial.Potential)\u001b[39m ... to add two\n",
       "  radial potentials together that are defined on the same grid. A\n",
       "  potential::RadialPotential is returned that inherits its radial size from\n",
       "  the potential that is defined in a larger range of r-values."
      ]
     },
     "execution_count": 4,
     "metadata": {},
     "output_type": "execute_result"
    }
   ],
   "source": [
    "? add"
   ]
  },
  {
   "cell_type": "markdown",
   "metadata": {},
   "source": [
    "Apart from a short explanation, these docstring always tell the user (i) in which module the method is defined; (ii) which arguments it takes, including Julia's *multiple dispatch* feature as well as (iii) the type of the return value. All these information are typically relevant to the user, especially if some input or output does not behave as it should. Indeed, the complexity can grow quite rapidly, for instance, if we ask for help of what we can `compute`:"
   ]
  },
  {
   "cell_type": "code",
   "execution_count": 5,
   "metadata": {},
   "outputs": [
    {
     "name": "stdout",
     "output_type": "stream",
     "text": [
      "search: \u001b[0m\u001b[1mc\u001b[22m\u001b[0m\u001b[1mo\u001b[22m\u001b[0m\u001b[1mm\u001b[22m\u001b[0m\u001b[1mp\u001b[22m\u001b[0m\u001b[1mu\u001b[22m\u001b[0m\u001b[1mt\u001b[22m\u001b[0m\u001b[1me\u001b[22m\n",
      "\n"
     ]
    },
    {
     "data": {
      "text/latex": [
       "\\texttt{Basics.compute(\"angular coefficients: e-e, Ratip2013\", csfa::CsfR, csfb::CsfR)}       ... to compute the angular coefficients in the decomposition of a (reduced) many-electron matrix element with a general          rank-0 electron-electron interaction operator $⟨csf_a ||V(e-e)|| csfb⟩ = \\sum_t  T(a_t, b_t, c_t, d_t) * R^k (a_t, b_t, c_t, d_t)$         by a call to the Fortran procedure \\texttt{anco\\_calculate\\_csf\\_pair} of the RATIP program; a Tuple\\{Array\\{AngularTcoeff,1\\},Array\\{AngularVcoeff,1\\}\\}`          is returned.\n",
       "\n",
       "\\rule{\\textwidth}{1pt}\n",
       "\\texttt{Basics.compute(\"angular coefficients: 1-p, Ratip2013\", rank::Int64, csfa::CsfR, csfb::CsfR)}       ... to compute the the angular coefficients in the decomposition of a (reduced) many-electron matrix element with a general          single-particle operator of the given rank $⟨csf_a ||O^rank|| csfb⟩ = \\sum_t  T(a_t, b_t) * R (a_t, b_t)$  by a call          to the Fortran procedure \\texttt{anco\\_calculate\\_csf\\_pair\\_1p} of the RATIP program; an \\texttt{Array\\{AngularTcoeff,1\\}} is returned.\n",
       "\n",
       "\\rule{\\textwidth}{1pt}\n",
       "\\texttt{Basics.compute(\"angular coefficients: 1-p, Grasp92\", parity, rank::Integer, csfa::CsfR, csfb::CsfR)}       ... to compute the the angular coefficients in the decomposition of a (reduced) many-electron matrix element with a general          single-particle operator of the given parity and rank by a call to the Fortran procedure \\texttt{mct\\_generate\\_coefficients}          of the RATIP program; an \\texttt{Array\\{AngularTcoeff,1\\}} is returned.\n",
       "\n",
       "\\rule{\\textwidth}{1pt}\n",
       "\\texttt{Basics.compute(\"matrix: CI, J\\^{}P symmetry\", JP::LevelSymmetry, basis::Basis, nuclearModel::Nuclear.Model, grid::Radial.Grid,                                            settings::AsfSettings; printout::Bool=true)}       ... to compute the CI matrix for a given J\\^{}P symmetry block of basis and by making use of the nuclear model and the grid;          a matrix::Array\\{Float64,2\\} is returned.\n",
       "\n",
       "\\rule{\\textwidth}{1pt}\n",
       "\\texttt{Basics.compute(\"matrix: CI for plasma, J\\^{}P symmetry\", JP::LevelSymmetry, basis::Basis, nuclearModel::Nuclear.Model, grid::Radial.Grid,                                                       settings::AsfSettings, plasmaSettings::PlasmaShift.Settings; printout::Bool=true)}       ... to compute the CI matrix for a given J\\^{}P symmetry block of basis and by making use of the nuclear model and the grid;          a matrix::Array\\{Float64,2\\} is returned.\n",
       "\n",
       "\\rule{\\textwidth}{1pt}\n",
       "\\texttt{Basics.compute(\"radial orbital: NR, Bunge (1993)\", subshell::Subshell, Z::Int64)}       ... to compute a radial orbital::Orbital for the given subshell and nuclear charge by using the Roothan-Hartree-Fock data by          Bunge et al., Atomic Data and Nuclear Data Tables 53 (1993) 113, as obtained for a non-relativistic RHF computation of the          neutral atom. These functions are used a large component, and the small component is obtained from the kinetic balance          condition. Radial orbitals can be obtained for the ground-state configuration for all elements with 2 <= Z <= 54.  \\texttt{Basics.compute(\"radial orbital: NR, McLean (1981)\", subshell::Subshell, Z::Int64)}       ... to compute a radial orbital::Orbital for the given subshell and nuclear charge by using the Roothan-Hartree-Fock data by          McLean and McLean, Atomic Data and Nuclear Data Tables 26 (1981) 197., as obtained for a non-relativistic RHF computation of          the neutral atom. These functions are used a large component, and the small component is obtained from the kinetic balance          condition. Radial orbitals can be obtained for the ground-state configuration for all elements with 55 <= Z <= 92. \n",
       "\n",
       "\\rule{\\textwidth}{1pt}\n",
       "\\texttt{Basics.compute(\"radial potential: core-Hartree\", grid::Radial.Grid, level::Level)}       ... to compute a (radial) core-Hartree potential from the given list of orbitals; cf. Basics.computePotentialCoreHartree.          A potential::RadialPotential is returned. \n",
       "\n",
       "\\texttt{Basics.compute(\"radial potential: Kohn-Sham\", grid::Radial.Grid, level::Level)}       ... to compute a (radial) Kohn-Sham potential from the given list of orbitals; cf. Basics.computePotentialKohnSham.          A potential::RadialPotential is returned.\n",
       "\n",
       "\\texttt{Basics.compute(\"radial potential: Dirac-Fock-Slater\", grid::Radial.Grid, level::Level)}       ... to compute a (radial) Dirac-Fock-Slater potential from the given list of orbitals; this potential is rather simple but          includes some undesired self-interaction and exhibits an asymptotic behaviour. Cf. Basics.computePotentialDFS.          A potential::RadialPotential is returned.\n",
       "\n",
       "\\texttt{Basics.compute(\"radial potential: Dirac-Fock-Slater\", grid::Radial.Grid, basis::Basis)}       ... to compute a (radial) Dirac-Fock-Slater potential but for mean occupation of the given basis. Cf. Basics.computePotentialDFS.          A potential::RadialPotential is returned.\n",
       "\n",
       "\\texttt{Basics.compute(\"radial potential: extended Hartree\", grid::Radial.Grid, level::Level)}       ... to compute a (radial) extended Hartree potential from the given list of orbitals; it is a local potential that is based on          direct and exchange coefficients as obtained from the configuration-averaged energy. Cf. Basics.computePotentialExtendedHartree.          A potential::RadialPotential is returned.\n",
       "\n"
      ],
      "text/markdown": [
       "`Basics.compute(\"angular coefficients: e-e, Ratip2013\", csfa::CsfR, csfb::CsfR)`       ... to compute the angular coefficients in the decomposition of a (reduced) many-electron matrix element with a general          rank-0 electron-electron interaction operator $⟨csf_a ||V(e-e)|| csfb⟩ = \\sum_t  T(a_t, b_t, c_t, d_t) * R^k (a_t, b_t, c_t, d_t)$         by a call to the Fortran procedure `anco_calculate_csf_pair` of the RATIP program; a Tuple{Array{AngularTcoeff,1},Array{AngularVcoeff,1}}`          is returned.\n",
       "\n",
       "---\n",
       "\n",
       "`Basics.compute(\"angular coefficients: 1-p, Ratip2013\", rank::Int64, csfa::CsfR, csfb::CsfR)`       ... to compute the the angular coefficients in the decomposition of a (reduced) many-electron matrix element with a general          single-particle operator of the given rank $⟨csf_a ||O^rank|| csfb⟩ = \\sum_t  T(a_t, b_t) * R (a_t, b_t)$  by a call          to the Fortran procedure `anco_calculate_csf_pair_1p` of the RATIP program; an `Array{AngularTcoeff,1}` is returned.\n",
       "\n",
       "---\n",
       "\n",
       "`Basics.compute(\"angular coefficients: 1-p, Grasp92\", parity, rank::Integer, csfa::CsfR, csfb::CsfR)`       ... to compute the the angular coefficients in the decomposition of a (reduced) many-electron matrix element with a general          single-particle operator of the given parity and rank by a call to the Fortran procedure `mct_generate_coefficients`          of the RATIP program; an `Array{AngularTcoeff,1}` is returned.\n",
       "\n",
       "---\n",
       "\n",
       "`Basics.compute(\"matrix: CI, J^P symmetry\", JP::LevelSymmetry, basis::Basis, nuclearModel::Nuclear.Model, grid::Radial.Grid,                                            settings::AsfSettings; printout::Bool=true)`       ... to compute the CI matrix for a given J^P symmetry block of basis and by making use of the nuclear model and the grid;          a matrix::Array{Float64,2} is returned.\n",
       "\n",
       "---\n",
       "\n",
       "`Basics.compute(\"matrix: CI for plasma, J^P symmetry\", JP::LevelSymmetry, basis::Basis, nuclearModel::Nuclear.Model, grid::Radial.Grid,                                                       settings::AsfSettings, plasmaSettings::PlasmaShift.Settings; printout::Bool=true)`       ... to compute the CI matrix for a given J^P symmetry block of basis and by making use of the nuclear model and the grid;          a matrix::Array{Float64,2} is returned.\n",
       "\n",
       "---\n",
       "\n",
       "`Basics.compute(\"radial orbital: NR, Bunge (1993)\", subshell::Subshell, Z::Int64)`       ... to compute a radial orbital::Orbital for the given subshell and nuclear charge by using the Roothan-Hartree-Fock data by          Bunge et al., Atomic Data and Nuclear Data Tables 53 (1993) 113, as obtained for a non-relativistic RHF computation of the          neutral atom. These functions are used a large component, and the small component is obtained from the kinetic balance          condition. Radial orbitals can be obtained for the ground-state configuration for all elements with 2 <= Z <= 54.  `Basics.compute(\"radial orbital: NR, McLean (1981)\", subshell::Subshell, Z::Int64)`       ... to compute a radial orbital::Orbital for the given subshell and nuclear charge by using the Roothan-Hartree-Fock data by          McLean and McLean, Atomic Data and Nuclear Data Tables 26 (1981) 197., as obtained for a non-relativistic RHF computation of          the neutral atom. These functions are used a large component, and the small component is obtained from the kinetic balance          condition. Radial orbitals can be obtained for the ground-state configuration for all elements with 55 <= Z <= 92. \n",
       "\n",
       "---\n",
       "\n",
       "`Basics.compute(\"radial potential: core-Hartree\", grid::Radial.Grid, level::Level)`       ... to compute a (radial) core-Hartree potential from the given list of orbitals; cf. Basics.computePotentialCoreHartree.          A potential::RadialPotential is returned. \n",
       "\n",
       "`Basics.compute(\"radial potential: Kohn-Sham\", grid::Radial.Grid, level::Level)`       ... to compute a (radial) Kohn-Sham potential from the given list of orbitals; cf. Basics.computePotentialKohnSham.          A potential::RadialPotential is returned.\n",
       "\n",
       "`Basics.compute(\"radial potential: Dirac-Fock-Slater\", grid::Radial.Grid, level::Level)`       ... to compute a (radial) Dirac-Fock-Slater potential from the given list of orbitals; this potential is rather simple but          includes some undesired self-interaction and exhibits an asymptotic behaviour. Cf. Basics.computePotentialDFS.          A potential::RadialPotential is returned.\n",
       "\n",
       "`Basics.compute(\"radial potential: Dirac-Fock-Slater\", grid::Radial.Grid, basis::Basis)`       ... to compute a (radial) Dirac-Fock-Slater potential but for mean occupation of the given basis. Cf. Basics.computePotentialDFS.          A potential::RadialPotential is returned.\n",
       "\n",
       "`Basics.compute(\"radial potential: extended Hartree\", grid::Radial.Grid, level::Level)`       ... to compute a (radial) extended Hartree potential from the given list of orbitals; it is a local potential that is based on          direct and exchange coefficients as obtained from the configuration-averaged energy. Cf. Basics.computePotentialExtendedHartree.          A potential::RadialPotential is returned.\n"
      ],
      "text/plain": [
       "  \u001b[36mBasics.compute(\"angular coefficients: e-e, Ratip2013\", csfa::CsfR,\n",
       "  csfb::CsfR)\u001b[39m ... to compute the angular coefficients in the decomposition of\n",
       "  a (reduced) many-electron matrix element with a general rank-0\n",
       "  electron-electron interaction operator \u001b[35m⟨csf_a ||V(e-e)|| csfb⟩ = \\sum_t \n",
       "  T(a_t, b_t, c_t, d_t) * R^k (a_t, b_t, c_t, d_t)\u001b[39m by a call to the Fortran\n",
       "  procedure \u001b[36manco_calculate_csf_pair\u001b[39m of the RATIP program; a\n",
       "  Tuple{Array{AngularTcoeff,1},Array{AngularVcoeff,1}}` is returned.\n",
       "\n",
       "  ────────────────────────────────────────────────────────────────────────────\n",
       "\n",
       "  \u001b[36mBasics.compute(\"angular coefficients: 1-p, Ratip2013\", rank::Int64,\n",
       "  csfa::CsfR, csfb::CsfR)\u001b[39m ... to compute the the angular coefficients in the\n",
       "  decomposition of a (reduced) many-electron matrix element with a general\n",
       "  single-particle operator of the given rank \u001b[35m⟨csf_a ||O^rank|| csfb⟩ = \\sum_t \n",
       "  T(a_t, b_t) * R (a_t, b_t)\u001b[39m by a call to the Fortran procedure\n",
       "  \u001b[36manco_calculate_csf_pair_1p\u001b[39m of the RATIP program; an \u001b[36mArray{AngularTcoeff,1}\u001b[39m\n",
       "  is returned.\n",
       "\n",
       "  ────────────────────────────────────────────────────────────────────────────\n",
       "\n",
       "  \u001b[36mBasics.compute(\"angular coefficients: 1-p, Grasp92\", parity, rank::Integer,\n",
       "  csfa::CsfR, csfb::CsfR)\u001b[39m ... to compute the the angular coefficients in the\n",
       "  decomposition of a (reduced) many-electron matrix element with a general\n",
       "  single-particle operator of the given parity and rank by a call to the\n",
       "  Fortran procedure \u001b[36mmct_generate_coefficients\u001b[39m of the RATIP program; an\n",
       "  \u001b[36mArray{AngularTcoeff,1}\u001b[39m is returned.\n",
       "\n",
       "  ────────────────────────────────────────────────────────────────────────────\n",
       "\n",
       "  \u001b[36mBasics.compute(\"matrix: CI, J^P symmetry\", JP::LevelSymmetry, basis::Basis,\n",
       "  nuclearModel::Nuclear.Model, grid::Radial.Grid,                             \n",
       "                settings::AsfSettings; printout::Bool=true)\u001b[39m ... to compute the\n",
       "  CI matrix for a given J^P symmetry block of basis and by making use of the\n",
       "  nuclear model and the grid; a matrix::Array{Float64,2} is returned.\n",
       "\n",
       "  ────────────────────────────────────────────────────────────────────────────\n",
       "\n",
       "  \u001b[36mBasics.compute(\"matrix: CI for plasma, J^P symmetry\", JP::LevelSymmetry,\n",
       "  basis::Basis, nuclearModel::Nuclear.Model, grid::Radial.Grid,               \n",
       "                                         settings::AsfSettings,\n",
       "  plasmaSettings::PlasmaShift.Settings; printout::Bool=true)\u001b[39m ... to compute\n",
       "  the CI matrix for a given J^P symmetry block of basis and by making use of\n",
       "  the nuclear model and the grid; a matrix::Array{Float64,2} is returned.\n",
       "\n",
       "  ────────────────────────────────────────────────────────────────────────────\n",
       "\n",
       "  \u001b[36mBasics.compute(\"radial orbital: NR, Bunge (1993)\", subshell::Subshell,\n",
       "  Z::Int64)\u001b[39m ... to compute a radial orbital::Orbital for the given subshell\n",
       "  and nuclear charge by using the Roothan-Hartree-Fock data by Bunge et al.,\n",
       "  Atomic Data and Nuclear Data Tables 53 (1993) 113, as obtained for a\n",
       "  non-relativistic RHF computation of the neutral atom. These functions are\n",
       "  used a large component, and the small component is obtained from the kinetic\n",
       "  balance condition. Radial orbitals can be obtained for the ground-state\n",
       "  configuration for all elements with 2 <= Z <= 54. \u001b[36mBasics.compute(\"radial\n",
       "  orbital: NR, McLean (1981)\", subshell::Subshell, Z::Int64)\u001b[39m ... to compute a\n",
       "  radial orbital::Orbital for the given subshell and nuclear charge by using\n",
       "  the Roothan-Hartree-Fock data by McLean and McLean, Atomic Data and Nuclear\n",
       "  Data Tables 26 (1981) 197., as obtained for a non-relativistic RHF\n",
       "  computation of the neutral atom. These functions are used a large component,\n",
       "  and the small component is obtained from the kinetic balance condition.\n",
       "  Radial orbitals can be obtained for the ground-state configuration for all\n",
       "  elements with 55 <= Z <= 92. \n",
       "\n",
       "  ────────────────────────────────────────────────────────────────────────────\n",
       "\n",
       "  \u001b[36mBasics.compute(\"radial potential: core-Hartree\", grid::Radial.Grid,\n",
       "  level::Level)\u001b[39m ... to compute a (radial) core-Hartree potential from the\n",
       "  given list of orbitals; cf. Basics.computePotentialCoreHartree. A\n",
       "  potential::RadialPotential is returned. \n",
       "\n",
       "  \u001b[36mBasics.compute(\"radial potential: Kohn-Sham\", grid::Radial.Grid,\n",
       "  level::Level)\u001b[39m ... to compute a (radial) Kohn-Sham potential from the given\n",
       "  list of orbitals; cf. Basics.computePotentialKohnSham. A\n",
       "  potential::RadialPotential is returned.\n",
       "\n",
       "  \u001b[36mBasics.compute(\"radial potential: Dirac-Fock-Slater\", grid::Radial.Grid,\n",
       "  level::Level)\u001b[39m ... to compute a (radial) Dirac-Fock-Slater potential from the\n",
       "  given list of orbitals; this potential is rather simple but includes some\n",
       "  undesired self-interaction and exhibits an asymptotic behaviour. Cf.\n",
       "  Basics.computePotentialDFS. A potential::RadialPotential is returned.\n",
       "\n",
       "  \u001b[36mBasics.compute(\"radial potential: Dirac-Fock-Slater\", grid::Radial.Grid,\n",
       "  basis::Basis)\u001b[39m ... to compute a (radial) Dirac-Fock-Slater potential but for\n",
       "  mean occupation of the given basis. Cf. Basics.computePotentialDFS. A\n",
       "  potential::RadialPotential is returned.\n",
       "\n",
       "  \u001b[36mBasics.compute(\"radial potential: extended Hartree\", grid::Radial.Grid,\n",
       "  level::Level)\u001b[39m ... to compute a (radial) extended Hartree potential from the\n",
       "  given list of orbitals; it is a local potential that is based on direct and\n",
       "  exchange coefficients as obtained from the configuration-averaged energy.\n",
       "  Cf. Basics.computePotentialExtendedHartree. A potential::RadialPotential is\n",
       "  returned."
      ]
     },
     "execution_count": 5,
     "metadata": {},
     "output_type": "execute_result"
    }
   ],
   "source": [
    "? compute"
   ]
  },
  {
   "cell_type": "markdown",
   "metadata": {},
   "source": [
    "Well, this is quite a lot, and we shall explain some of these methods below; a similar or even larger output, you can generate by `? perform` as well as few other terms that are central to the implementation of JAC."
   ]
  },
  {
   "cell_type": "markdown",
   "metadata": {},
   "source": [
    "Another frequent use of the (help) \"?\" concerns the control of almost all computations. In JAC, in often make use of (so-called) `Settings` that enable the user overwrite default values to *control* the computation to the extent, he or she wishes to have control. These `Settings` are context dependent and are different for each atomic property or process that can be computed by the JAC toolbox. They are defined in the various modules and need to be specified accordingly. For instance, to control the computation of transition probabilities for the (fine-structure) levels of some given initial- and final-state configuration, one has to overwrite the (defaults) settings:"
   ]
  },
  {
   "cell_type": "code",
   "execution_count": 6,
   "metadata": {},
   "outputs": [
    {
     "data": {
      "text/latex": [
       "\\texttt{struct  PhotoEmission.Settings}  ... defines a type for the details and parameters of computing radiative lines.\n",
       "\n",
       "\\begin{verbatim}\n",
       "+ multipoles              ::Array{EmMultipoles}     ... Specifies the (radiat. field) multipoles to be included.\n",
       "+ gauges                  ::Array{UseGauge}         ... Gauges to be included into the computations.\n",
       "+ calcAnisotropy          ::Bool                    ... True, if the anisotropy (structure) functions are to be \n",
       "                                                        calculated and false otherwise \n",
       "+ printBefore             ::Bool                    ... True, if all energies and lines are printed before comput.\n",
       "+ lineSelection           ::LineSelection          ... Specifies the selected levels, if any.\n",
       "+ photonEnergyShift       ::Float64                 ... An overall energy shift for all photon energies.\n",
       "+ mimimumPhotonEnergy     ::Float64                 ... minimum transition energy for which (photon) transitions \n",
       "                                                        are included into the computation.\n",
       "+ maximumPhotonEnergy     ::Float64                 ... maximum transition energy for which (photon) transitions \n",
       "                                                        are included.\n",
       "\\end{verbatim}\n",
       "\\rule{\\textwidth}{1pt}\n",
       "\\texttt{PhotoEmission.Settings()}  ... constructor for the default values of radiative line computations\n",
       "\n",
       "\\rule{\\textwidth}{1pt}\n",
       "\\texttt{PhotoEmission.Settings(set::PhotoEmission.Settings;}\n",
       "\n",
       "\\begin{verbatim}\n",
       "    multipoles::=..,        gauges=..,          calcAnisotropy=..,          printBefore=..,\n",
       "    line=..,         selectedLines=..,   photonEnergyShift=..,       mimimumPhotonEnergy=.., \n",
       "    maximumPhotonEnergy=..) \n",
       "                \n",
       "... constructor for modifying the given PhotoEmission.Settings by 'overwriting' the previously selected parameters.\n",
       "\\end{verbatim}\n"
      ],
      "text/markdown": [
       "`struct  PhotoEmission.Settings`  ... defines a type for the details and parameters of computing radiative lines.\n",
       "\n",
       "```\n",
       "+ multipoles              ::Array{EmMultipoles}     ... Specifies the (radiat. field) multipoles to be included.\n",
       "+ gauges                  ::Array{UseGauge}         ... Gauges to be included into the computations.\n",
       "+ calcAnisotropy          ::Bool                    ... True, if the anisotropy (structure) functions are to be \n",
       "                                                        calculated and false otherwise \n",
       "+ printBefore             ::Bool                    ... True, if all energies and lines are printed before comput.\n",
       "+ lineSelection           ::LineSelection          ... Specifies the selected levels, if any.\n",
       "+ photonEnergyShift       ::Float64                 ... An overall energy shift for all photon energies.\n",
       "+ mimimumPhotonEnergy     ::Float64                 ... minimum transition energy for which (photon) transitions \n",
       "                                                        are included into the computation.\n",
       "+ maximumPhotonEnergy     ::Float64                 ... maximum transition energy for which (photon) transitions \n",
       "                                                        are included.\n",
       "```\n",
       "\n",
       "---\n",
       "\n",
       "`PhotoEmission.Settings()`  ... constructor for the default values of radiative line computations\n",
       "\n",
       "---\n",
       "\n",
       "`PhotoEmission.Settings(set::PhotoEmission.Settings;`\n",
       "\n",
       "```\n",
       "    multipoles::=..,        gauges=..,          calcAnisotropy=..,          printBefore=..,\n",
       "    line=..,         selectedLines=..,   photonEnergyShift=..,       mimimumPhotonEnergy=.., \n",
       "    maximumPhotonEnergy=..) \n",
       "                \n",
       "... constructor for modifying the given PhotoEmission.Settings by 'overwriting' the previously selected parameters.\n",
       "```\n"
      ],
      "text/plain": [
       "  \u001b[36mstruct  PhotoEmission.Settings\u001b[39m ... defines a type for the details and\n",
       "  parameters of computing radiative lines.\n",
       "\n",
       "\u001b[36m  + multipoles              ::Array{EmMultipoles}     ... Specifies the (radiat. field) multipoles to be included.\u001b[39m\n",
       "\u001b[36m  + gauges                  ::Array{UseGauge}         ... Gauges to be included into the computations.\u001b[39m\n",
       "\u001b[36m  + calcAnisotropy          ::Bool                    ... True, if the anisotropy (structure) functions are to be \u001b[39m\n",
       "\u001b[36m                                                          calculated and false otherwise \u001b[39m\n",
       "\u001b[36m  + printBefore             ::Bool                    ... True, if all energies and lines are printed before comput.\u001b[39m\n",
       "\u001b[36m  + lineSelection           ::LineSelection          ... Specifies the selected levels, if any.\u001b[39m\n",
       "\u001b[36m  + photonEnergyShift       ::Float64                 ... An overall energy shift for all photon energies.\u001b[39m\n",
       "\u001b[36m  + mimimumPhotonEnergy     ::Float64                 ... minimum transition energy for which (photon) transitions \u001b[39m\n",
       "\u001b[36m                                                          are included into the computation.\u001b[39m\n",
       "\u001b[36m  + maximumPhotonEnergy     ::Float64                 ... maximum transition energy for which (photon) transitions \u001b[39m\n",
       "\u001b[36m                                                          are included.\u001b[39m\n",
       "\n",
       "  ────────────────────────────────────────────────────────────────────────────\n",
       "\n",
       "  \u001b[36mPhotoEmission.Settings()\u001b[39m ... constructor for the default values of radiative\n",
       "  line computations\n",
       "\n",
       "  ────────────────────────────────────────────────────────────────────────────\n",
       "\n",
       "  \u001b[36mPhotoEmission.Settings(set::PhotoEmission.Settings;\u001b[39m\n",
       "\n",
       "\u001b[36m      multipoles::=..,        gauges=..,          calcAnisotropy=..,          printBefore=..,\u001b[39m\n",
       "\u001b[36m      line=..,         selectedLines=..,   photonEnergyShift=..,       mimimumPhotonEnergy=.., \u001b[39m\n",
       "\u001b[36m      maximumPhotonEnergy=..) \u001b[39m\n",
       "\u001b[36m                  \u001b[39m\n",
       "\u001b[36m  ... constructor for modifying the given PhotoEmission.Settings by 'overwriting' the previously selected parameters.\u001b[39m"
      ]
     },
     "execution_count": 6,
     "metadata": {},
     "output_type": "execute_result"
    }
   ],
   "source": [
    "? PhotoEmission.Settings"
   ]
  },
  {
   "cell_type": "markdown",
   "metadata": {},
   "source": [
    "Apart from the standard constructor (cf. Julia), JAC provides two additional constructors to either define the default values:"
   ]
  },
  {
   "cell_type": "code",
   "execution_count": 7,
   "metadata": {},
   "outputs": [
    {
     "data": {
      "text/plain": [
       "multipoles:             EmMultipole[E1]  \n",
       "gauges:                 UseGauge[UseCoulomb]  \n",
       "calcAnisotropy:         false  \n",
       "printBefore:            false  \n",
       "lineSelection:          Inactive LineSelection.  \n",
       "photonEnergyShift:      0.0  \n",
       "mimimumPhotonEnergy:    0.0  \n",
       "maximumPhotonEnergy:    10000.0  \n"
      ]
     },
     "execution_count": 7,
     "metadata": {},
     "output_type": "execute_result"
    }
   ],
   "source": [
    "PhotoEmission.Settings()"
   ]
  },
  {
   "cell_type": "markdown",
   "metadata": {},
   "source": [
    "or to overwrite them conviniently by some proper keywords; see other tutorials below. --- Although the photo emmission and excitation processes are closely related to each other, the settings will be different since the excitation processes are affected by the properties of the incident radiation:"
   ]
  },
  {
   "cell_type": "code",
   "execution_count": 8,
   "metadata": {},
   "outputs": [
    {
     "data": {
      "text/latex": [
       "\\texttt{struct  PhotoExcitation.Settings}  ... defines a type for the details and parameters of computing photo-excitation  lines.\n",
       "\n",
       "\\begin{verbatim}\n",
       "+ multipoles              ::Array{EmMultipole,1}         ... Specifies the multipoles of the radiation field that are to be included.\n",
       "+ gauges                  ::Array{UseGauge,1}            ... Specifies the gauges to be included into the computations.\n",
       "+ calcForStokes           ::Bool                         ... True, if the excitation cross sections are to be calculated (and false otherwise)\n",
       "                                                             for given Stokes parameter of the incident plane-wave photons.\n",
       "+ calcPhotonDm            ::Bool                         ... True, if the photon density matrix of a subsequently emitted fluorescence photon is to be\n",
       "                                                             calculated and false otherwise. \n",
       "+ calcTensors             ::Bool                         ... True, if the statistical tensors of the excited atom are to be calculated and false otherwise. \n",
       "+ printBefore             ::Bool                         ... True, if all energies and lines are printed before their evaluation.\n",
       "+ lineSelection           ::LineSelection                ... Specifies the selected levels, if any.\n",
       "+ photonEnergyShift       ::Float64                      ... An overall energy shift for all photon energies.\n",
       "+ mimimumPhotonEnergy     ::Float64                      ... minimum transition energy for which (photon) transitions are included into the\n",
       "                                                             computation.\n",
       "+ maximumPhotonEnergy     ::Float64                      ... maximum transition energy for which (photon) transitions are included.\n",
       "+ stokes                  ::ExpStokes                    ... Stokes parameters of the incident radiation.\n",
       "\\end{verbatim}\n",
       "\\rule{\\textwidth}{1pt}\n",
       "\\texttt{PhotoExcitation.Settings()}  ... 'empty' constructor for the default values of photo-excitation line computations\n",
       "\n",
       "\\rule{\\textwidth}{1pt}\n",
       "\\texttt{PhotoExcitation.Settings(set::PhotoExcitation.Settings;}\n",
       "\n",
       "\\begin{verbatim}\n",
       "    multipoles=..,          gauges=..,                  calcForStokes=..,           calcPhotonDm=..,    \n",
       "    calcTensors=..,         printBefore=..,             lineSelection=..,    \n",
       "    photonEnergyShift=..,   mimimumPhotonEnergy=..,     maximumPhotonEnergy=..,     stokes=..)\n",
       "                \n",
       "... constructor for modifying the given PhotoExcitation.Settings by 'overwriting' the previously selected parameters.\n",
       "\\end{verbatim}\n"
      ],
      "text/markdown": [
       "`struct  PhotoExcitation.Settings`  ... defines a type for the details and parameters of computing photo-excitation  lines.\n",
       "\n",
       "```\n",
       "+ multipoles              ::Array{EmMultipole,1}         ... Specifies the multipoles of the radiation field that are to be included.\n",
       "+ gauges                  ::Array{UseGauge,1}            ... Specifies the gauges to be included into the computations.\n",
       "+ calcForStokes           ::Bool                         ... True, if the excitation cross sections are to be calculated (and false otherwise)\n",
       "                                                             for given Stokes parameter of the incident plane-wave photons.\n",
       "+ calcPhotonDm            ::Bool                         ... True, if the photon density matrix of a subsequently emitted fluorescence photon is to be\n",
       "                                                             calculated and false otherwise. \n",
       "+ calcTensors             ::Bool                         ... True, if the statistical tensors of the excited atom are to be calculated and false otherwise. \n",
       "+ printBefore             ::Bool                         ... True, if all energies and lines are printed before their evaluation.\n",
       "+ lineSelection           ::LineSelection                ... Specifies the selected levels, if any.\n",
       "+ photonEnergyShift       ::Float64                      ... An overall energy shift for all photon energies.\n",
       "+ mimimumPhotonEnergy     ::Float64                      ... minimum transition energy for which (photon) transitions are included into the\n",
       "                                                             computation.\n",
       "+ maximumPhotonEnergy     ::Float64                      ... maximum transition energy for which (photon) transitions are included.\n",
       "+ stokes                  ::ExpStokes                    ... Stokes parameters of the incident radiation.\n",
       "```\n",
       "\n",
       "---\n",
       "\n",
       "`PhotoExcitation.Settings()`  ... 'empty' constructor for the default values of photo-excitation line computations\n",
       "\n",
       "---\n",
       "\n",
       "`PhotoExcitation.Settings(set::PhotoExcitation.Settings;`\n",
       "\n",
       "```\n",
       "    multipoles=..,          gauges=..,                  calcForStokes=..,           calcPhotonDm=..,    \n",
       "    calcTensors=..,         printBefore=..,             lineSelection=..,    \n",
       "    photonEnergyShift=..,   mimimumPhotonEnergy=..,     maximumPhotonEnergy=..,     stokes=..)\n",
       "                \n",
       "... constructor for modifying the given PhotoExcitation.Settings by 'overwriting' the previously selected parameters.\n",
       "```\n"
      ],
      "text/plain": [
       "  \u001b[36mstruct  PhotoExcitation.Settings\u001b[39m ... defines a type for the details and\n",
       "  parameters of computing photo-excitation lines.\n",
       "\n",
       "\u001b[36m  + multipoles              ::Array{EmMultipole,1}         ... Specifies the multipoles of the radiation field that are to be included.\u001b[39m\n",
       "\u001b[36m  + gauges                  ::Array{UseGauge,1}            ... Specifies the gauges to be included into the computations.\u001b[39m\n",
       "\u001b[36m  + calcForStokes           ::Bool                         ... True, if the excitation cross sections are to be calculated (and false otherwise)\u001b[39m\n",
       "\u001b[36m                                                               for given Stokes parameter of the incident plane-wave photons.\u001b[39m\n",
       "\u001b[36m  + calcPhotonDm            ::Bool                         ... True, if the photon density matrix of a subsequently emitted fluorescence photon is to be\u001b[39m\n",
       "\u001b[36m                                                               calculated and false otherwise. \u001b[39m\n",
       "\u001b[36m  + calcTensors             ::Bool                         ... True, if the statistical tensors of the excited atom are to be calculated and false otherwise. \u001b[39m\n",
       "\u001b[36m  + printBefore             ::Bool                         ... True, if all energies and lines are printed before their evaluation.\u001b[39m\n",
       "\u001b[36m  + lineSelection           ::LineSelection                ... Specifies the selected levels, if any.\u001b[39m\n",
       "\u001b[36m  + photonEnergyShift       ::Float64                      ... An overall energy shift for all photon energies.\u001b[39m\n",
       "\u001b[36m  + mimimumPhotonEnergy     ::Float64                      ... minimum transition energy for which (photon) transitions are included into the\u001b[39m\n",
       "\u001b[36m                                                               computation.\u001b[39m\n",
       "\u001b[36m  + maximumPhotonEnergy     ::Float64                      ... maximum transition energy for which (photon) transitions are included.\u001b[39m\n",
       "\u001b[36m  + stokes                  ::ExpStokes                    ... Stokes parameters of the incident radiation.\u001b[39m\n",
       "\n",
       "  ────────────────────────────────────────────────────────────────────────────\n",
       "\n",
       "  \u001b[36mPhotoExcitation.Settings()\u001b[39m ... 'empty' constructor for the default values of\n",
       "  photo-excitation line computations\n",
       "\n",
       "  ────────────────────────────────────────────────────────────────────────────\n",
       "\n",
       "  \u001b[36mPhotoExcitation.Settings(set::PhotoExcitation.Settings;\u001b[39m\n",
       "\n",
       "\u001b[36m      multipoles=..,          gauges=..,                  calcForStokes=..,           calcPhotonDm=..,    \u001b[39m\n",
       "\u001b[36m      calcTensors=..,         printBefore=..,             lineSelection=..,    \u001b[39m\n",
       "\u001b[36m      photonEnergyShift=..,   mimimumPhotonEnergy=..,     maximumPhotonEnergy=..,     stokes=..)\u001b[39m\n",
       "\u001b[36m                  \u001b[39m\n",
       "\u001b[36m  ... constructor for modifying the given PhotoExcitation.Settings by 'overwriting' the previously selected parameters.\u001b[39m"
      ]
     },
     "execution_count": 8,
     "metadata": {},
     "output_type": "execute_result"
    }
   ],
   "source": [
    "? PhotoExcitation.Settings"
   ]
  },
  {
   "cell_type": "markdown",
   "metadata": {},
   "source": [
    "We shall meet these and (many) other settings quite often in the tutorials below. --- Despite these useful help features, it is sometimes difficult to remember the right term or function name. In this case, it most reasy to make use of the (Unix/Linux) `grep` command within the `JAC/src` directly. Similar line-search commands will exist also at other platforms. In particular, for those people who wish to support and extend the JAC toolbox, the `grep` command will be found helpful, perhaps more than other search tools."
   ]
  },
  {
   "cell_type": "markdown",
   "metadata": {},
   "source": [
    "Another Julia feature, that is frequently applied in JAC, is the successive definiton of constructors in order to set-up complex data structures. This features is applied, for instance, in order to define an `Atomic.Computation` or a `Cascade.Computation` as a whole. We shall explain these rather complex data `struct`s below in different tutorials. The same issue appears however already at much simpler level. If we wish to select (specify) a number of levels from a multiplet prior to some particular -- configuration interaction -- computation, we can make use of a"
   ]
  },
  {
   "cell_type": "code",
   "execution_count": 9,
   "metadata": {},
   "outputs": [
    {
     "name": "stdout",
     "output_type": "stream",
     "text": [
      "search: \u001b[0m\u001b[1mL\u001b[22m\u001b[0m\u001b[1me\u001b[22m\u001b[0m\u001b[1mv\u001b[22m\u001b[0m\u001b[1me\u001b[22m\u001b[0m\u001b[1ml\u001b[22m\u001b[0m\u001b[1mS\u001b[22m\u001b[0m\u001b[1me\u001b[22m\u001b[0m\u001b[1ml\u001b[22m\u001b[0m\u001b[1me\u001b[22m\u001b[0m\u001b[1mc\u001b[22m\u001b[0m\u001b[1mt\u001b[22m\u001b[0m\u001b[1mi\u001b[22m\u001b[0m\u001b[1mo\u001b[22m\u001b[0m\u001b[1mn\u001b[22m\n",
      "\n"
     ]
    },
    {
     "data": {
      "text/latex": [
       "\\texttt{struct  Basics.LevelSelection}       ... defines a struct to specify a list of levels by means of their (level) indices or level symmetries.\n",
       "\n",
       "\\begin{verbatim}\n",
       "+ active       ::Bool                     ... true, if some selection has been made.\n",
       "+ indices      ::Array{Int64,1}           ... List of selected indices.\n",
       "+ symmetries   ::Array{LevelSymmetry,1}   ... List of selected symmetries\n",
       "\\end{verbatim}\n",
       "\\rule{\\textwidth}{1pt}\n",
       "\\texttt{Basics.LevelSelection()}  ... constructor for an inactive LevelSelection.\n",
       "\n",
       "\\rule{\\textwidth}{1pt}\n",
       "\\texttt{Basics.LevelSelection(active::Bool; indices::Array\\{Int64,1\\}=Int64[], symmetries::Array\\{LevelSymmetry,1\\}=LevelSymmetry[])}       ... constructor for specifying the details of a LevelSelection.\n",
       "\n"
      ],
      "text/markdown": [
       "`struct  Basics.LevelSelection`       ... defines a struct to specify a list of levels by means of their (level) indices or level symmetries.\n",
       "\n",
       "```\n",
       "+ active       ::Bool                     ... true, if some selection has been made.\n",
       "+ indices      ::Array{Int64,1}           ... List of selected indices.\n",
       "+ symmetries   ::Array{LevelSymmetry,1}   ... List of selected symmetries\n",
       "```\n",
       "\n",
       "---\n",
       "\n",
       "`Basics.LevelSelection()`  ... constructor for an inactive LevelSelection.\n",
       "\n",
       "---\n",
       "\n",
       "`Basics.LevelSelection(active::Bool; indices::Array{Int64,1}=Int64[], symmetries::Array{LevelSymmetry,1}=LevelSymmetry[])`       ... constructor for specifying the details of a LevelSelection.\n"
      ],
      "text/plain": [
       "  \u001b[36mstruct  Basics.LevelSelection\u001b[39m ... defines a struct to specify a list of\n",
       "  levels by means of their (level) indices or level symmetries.\n",
       "\n",
       "\u001b[36m  + active       ::Bool                     ... true, if some selection has been made.\u001b[39m\n",
       "\u001b[36m  + indices      ::Array{Int64,1}           ... List of selected indices.\u001b[39m\n",
       "\u001b[36m  + symmetries   ::Array{LevelSymmetry,1}   ... List of selected symmetries\u001b[39m\n",
       "\n",
       "  ────────────────────────────────────────────────────────────────────────────\n",
       "\n",
       "  \u001b[36mBasics.LevelSelection()\u001b[39m ... constructor for an inactive LevelSelection.\n",
       "\n",
       "  ────────────────────────────────────────────────────────────────────────────\n",
       "\n",
       "  \u001b[36mBasics.LevelSelection(active::Bool; indices::Array{Int64,1}=Int64[],\n",
       "  symmetries::Array{LevelSymmetry,1}=LevelSymmetry[])\u001b[39m ... constructor for\n",
       "  specifying the details of a LevelSelection."
      ]
     },
     "execution_count": 9,
     "metadata": {},
     "output_type": "execute_result"
    }
   ],
   "source": [
    "? LevelSelection"
   ]
  },
  {
   "cell_type": "markdown",
   "metadata": {},
   "source": [
    "Apart from the logical flag `active`, such a level selection requires to either specify a list of level numbers (indices) or *level symmetries*"
   ]
  },
  {
   "cell_type": "code",
   "execution_count": 10,
   "metadata": {},
   "outputs": [
    {
     "name": "stdout",
     "output_type": "stream",
     "text": [
      "search: \u001b[0m\u001b[1mL\u001b[22m\u001b[0m\u001b[1me\u001b[22m\u001b[0m\u001b[1mv\u001b[22m\u001b[0m\u001b[1me\u001b[22m\u001b[0m\u001b[1ml\u001b[22m\u001b[0m\u001b[1mS\u001b[22m\u001b[0m\u001b[1my\u001b[22m\u001b[0m\u001b[1mm\u001b[22m\u001b[0m\u001b[1mm\u001b[22m\u001b[0m\u001b[1me\u001b[22m\u001b[0m\u001b[1mt\u001b[22m\u001b[0m\u001b[1mr\u001b[22m\u001b[0m\u001b[1my\u001b[22m\n",
      "\n"
     ]
    },
    {
     "data": {
      "text/latex": [
       "\\texttt{struct  Basics.LevelSymmetry}  ... defines a struct for defining the overall J\\^{}P symmetry of a level.\n",
       "\n",
       "\\begin{verbatim}\n",
       "+ J          ::AngularJ64  ... total angular momentum of a level\n",
       "+ parity     ::Parity      ... total parity of the level\n",
       "\\end{verbatim}\n",
       "\\rule{\\textwidth}{1pt}\n",
       "\\texttt{Basics.LevelSymmetry(rational::Rational\\{Int64\\}, parity::Parity)}  ... constructor for a given (Rational,Parity).\n",
       "\n",
       "\\rule{\\textwidth}{1pt}\n",
       "\\texttt{Basics.LevelSymmetry(i::Int64, parity::Parity)}  ... constructor for a given (Int64,Parity).\n",
       "\n",
       "\\rule{\\textwidth}{1pt}\n",
       "\\texttt{Basics.LevelSymmetry(rational::Rational\\{Int64\\}, sa::String)}  ... constructor for a given (Rational,String).\n",
       "\n",
       "\\rule{\\textwidth}{1pt}\n",
       "\\texttt{Basics.LevelSymmetry(i::Int64, sa::String)}  ... constructor for a given (Int64,String).\n",
       "\n"
      ],
      "text/markdown": [
       "`struct  Basics.LevelSymmetry`  ... defines a struct for defining the overall J^P symmetry of a level.\n",
       "\n",
       "```\n",
       "+ J          ::AngularJ64  ... total angular momentum of a level\n",
       "+ parity     ::Parity      ... total parity of the level\n",
       "```\n",
       "\n",
       "---\n",
       "\n",
       "`Basics.LevelSymmetry(rational::Rational{Int64}, parity::Parity)`  ... constructor for a given (Rational,Parity).\n",
       "\n",
       "---\n",
       "\n",
       "`Basics.LevelSymmetry(i::Int64, parity::Parity)`  ... constructor for a given (Int64,Parity).\n",
       "\n",
       "---\n",
       "\n",
       "`Basics.LevelSymmetry(rational::Rational{Int64}, sa::String)`  ... constructor for a given (Rational,String).\n",
       "\n",
       "---\n",
       "\n",
       "`Basics.LevelSymmetry(i::Int64, sa::String)`  ... constructor for a given (Int64,String).\n"
      ],
      "text/plain": [
       "  \u001b[36mstruct  Basics.LevelSymmetry\u001b[39m ... defines a struct for defining the overall\n",
       "  J^P symmetry of a level.\n",
       "\n",
       "\u001b[36m  + J          ::AngularJ64  ... total angular momentum of a level\u001b[39m\n",
       "\u001b[36m  + parity     ::Parity      ... total parity of the level\u001b[39m\n",
       "\n",
       "  ────────────────────────────────────────────────────────────────────────────\n",
       "\n",
       "  \u001b[36mBasics.LevelSymmetry(rational::Rational{Int64}, parity::Parity)\u001b[39m ...\n",
       "  constructor for a given (Rational,Parity).\n",
       "\n",
       "  ────────────────────────────────────────────────────────────────────────────\n",
       "\n",
       "  \u001b[36mBasics.LevelSymmetry(i::Int64, parity::Parity)\u001b[39m ... constructor for a given\n",
       "  (Int64,Parity).\n",
       "\n",
       "  ────────────────────────────────────────────────────────────────────────────\n",
       "\n",
       "  \u001b[36mBasics.LevelSymmetry(rational::Rational{Int64}, sa::String)\u001b[39m ... constructor\n",
       "  for a given (Rational,String).\n",
       "\n",
       "  ────────────────────────────────────────────────────────────────────────────\n",
       "\n",
       "  \u001b[36mBasics.LevelSymmetry(i::Int64, sa::String)\u001b[39m ... constructor for a given\n",
       "  (Int64,String)."
      ]
     },
     "execution_count": 10,
     "metadata": {},
     "output_type": "execute_result"
    }
   ],
   "source": [
    "? LevelSymmetry"
   ]
  },
  {
   "cell_type": "markdown",
   "metadata": {},
   "source": [
    "As seen from this definition, the level symmetry just comprises the total angular momentum (of type `AngularJ64`) and the parity of the level (of type `Parity`). Therefore, the specification of a list of level symmetries in `LevelSelection` already requires to nest four constructors in order make the level selection explicit: (i) For the angular momentum, (ii) the parity, (iii) the level symmetry and (iv) to create a list (array) of such level symmetries. All the constructors can be specified and built together in subsequent steps, such as:"
   ]
  },
  {
   "cell_type": "code",
   "execution_count": 20,
   "metadata": {},
   "outputs": [
    {
     "data": {
      "text/plain": [
       "2-element Array{LevelSymmetry,1}:\n",
       " 1/2 +\n",
       " 5/2 -"
      ]
     },
     "execution_count": 20,
     "metadata": {},
     "output_type": "execute_result"
    }
   ],
   "source": [
    "J1    = AngularJ64(1//2);        J2 = AngularJ64(5//2)  \n",
    "pl    = Basics.plus;             mn = Basics.minus\n",
    "lsym1 = LevelSymmetry(J1, pl);   lsym2 = LevelSymmetry(J2, mn)\n",
    "levelsyms = [lsym1, lsym2]"
   ]
  },
  {
   "cell_type": "markdown",
   "metadata": {},
   "source": [
    "or simply by *nesting* all the information within a single step"
   ]
  },
  {
   "cell_type": "code",
   "execution_count": 21,
   "metadata": {},
   "outputs": [
    {
     "data": {
      "text/plain": [
       "2-element Array{LevelSymmetry,1}:\n",
       " 1/2 +\n",
       " 5/2 -"
      ]
     },
     "execution_count": 21,
     "metadata": {},
     "output_type": "execute_result"
    }
   ],
   "source": [
    "levelsyms = [LevelSymmetry(AngularJ64(1//2), Basics.plus), LevelSymmetry(AngularJ64(5//2), Basics.minus)]"
   ]
  },
  {
   "cell_type": "markdown",
   "metadata": {},
   "source": [
    "Both way have their pros and cons, and often some *mixture* is applied where complex constructors are first assigned to some variables, and which is later utilized to built up constructors of higher complexity. --- To finally specify aǹ instance of a `LevelSelection`, we use its second constructor above:"
   ]
  },
  {
   "cell_type": "code",
   "execution_count": 22,
   "metadata": {},
   "outputs": [
    {
     "data": {
      "text/plain": [
       "LevelSelection:  indices = [1, 2, 3];    symmetries = LevelSymmetry[1/2 +, 5/2 -]."
      ]
     },
     "execution_count": 22,
     "metadata": {},
     "output_type": "execute_result"
    }
   ],
   "source": [
    "LevelSelection(true, indices=[1,2,3], symmetries=levelsyms)"
   ]
  },
  {
   "cell_type": "markdown",
   "metadata": {},
   "source": [
    "and which will tell the JAC program to compute the lowest three levels (1, 2, 3) as well as all levels with 1/2+ and 5/2- symmetry. Apart from the selection of individual levels, it is often helpful for the computation of atomic processes to make a prior `LineSelection` and in some cases even a `PathwaySelection` as, for instance, for dielectronic recombination processes. Some of these features will be explained below in subsequent tutorials of JAC:"
   ]
  },
  {
   "cell_type": "markdown",
   "metadata": {},
   "source": [
    "Another feature is: ..."
   ]
  },
  {
   "cell_type": "code",
   "execution_count": null,
   "metadata": {},
   "outputs": [],
   "source": []
  },
  {
   "cell_type": "code",
   "execution_count": null,
   "metadata": {},
   "outputs": [],
   "source": []
  },
  {
   "cell_type": "code",
   "execution_count": null,
   "metadata": {},
   "outputs": [],
   "source": []
  },
  {
   "cell_type": "code",
   "execution_count": null,
   "metadata": {},
   "outputs": [],
   "source": []
  },
  {
   "cell_type": "code",
   "execution_count": null,
   "metadata": {},
   "outputs": [],
   "source": []
  },
  {
   "cell_type": "markdown",
   "metadata": {},
   "source": [
    "One of the powerful features of Julia, finally, is (or might be) its fast and efficient use of graphical representations. In JAC, we wish to make explicit use of such graphical elements, although not too many high-level commands are yet prepared. Here, we just wish to remind the user that by"
   ]
  },
  {
   "cell_type": "code",
   "execution_count": 12,
   "metadata": {},
   "outputs": [],
   "source": [
    "using PyPlot"
   ]
  },
  {
   "cell_type": "markdown",
   "metadata": {},
   "source": [
    "one can easily draw (colorful) plots of different dimension. While this is a topic by its own, we make partly use of PyPlot in JAC with the aim to prepare specialized methods that help display the data from complex data structs, such as orbitals, (radial) potentials or synthetic spectra. However, since `PyPlot` is a very large (and rather slow package, it is never loaded automatically but need to called explictly by the user. -- Having `PyPlot`available, one can easily display a number of\n",
    "random values, even if the output is not so instructive. We encourage the user to draw more useful plots:"
   ]
  },
  {
   "cell_type": "code",
   "execution_count": 13,
   "metadata": {},
   "outputs": [
    {
     "data": {
      "image/png": "[encoded data removed]",
      "text/plain": [
       "Figure(PyObject <Figure size 640x480 with 1 Axes>)"
      ]
     },
     "metadata": {},
     "output_type": "display_data"
    }
   ],
   "source": [
    "r = rand(50); plot(r); show()"
   ]
  },
  {
   "cell_type": "code",
   "execution_count": 14,
   "metadata": {},
   "outputs": [
    {
     "data": {
      "image/png": "[encoded data removed]",
      "text/plain": [
       "Figure(PyObject <Figure size 640x480 with 1 Axes>)"
      ]
     },
     "metadata": {},
     "output_type": "display_data"
    },
    {
     "data": {
      "text/plain": [
       "1-element Array{PyCall.PyObject,1}:\n",
       " PyObject <matplotlib.lines.Line2D object at 0x7fac6501ff98>"
      ]
     },
     "execution_count": 14,
     "metadata": {},
     "output_type": "execute_result"
    }
   ],
   "source": [
    "r = rand(50); s = rand(50); plot(r); plot(s)"
   ]
  },
  {
   "cell_type": "code",
   "execution_count": null,
   "metadata": {},
   "outputs": [],
   "source": []
  }
 ],
 "metadata": {
  "@webio": {
   "lastCommId": null,
   "lastKernelId": null
  },
  "kernelspec": {
   "display_name": "Julia 1.4.2",
   "language": "julia",
   "name": "julia-1.4"
  },
  "language_info": {
   "file_extension": ".jl",
   "mimetype": "application/julia",
   "name": "julia",
   "version": "1.4.2"
  }
 },
 "nbformat": 4,
 "nbformat_minor": 4
}
