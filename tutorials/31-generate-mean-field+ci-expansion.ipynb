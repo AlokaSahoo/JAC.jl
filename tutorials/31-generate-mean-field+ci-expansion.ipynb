{
 "cells": [
  {
   "cell_type": "markdown",
   "metadata": {},
   "source": [
    "# Generate a mean-field (orbital) and CI representation for the oxygen ground configuration"
   ]
  },
  {
   "cell_type": "code",
   "execution_count": 1,
   "metadata": {},
   "outputs": [],
   "source": [
    "using JAC"
   ]
  },
  {
   "cell_type": "markdown",
   "metadata": {},
   "source": [
    "Various *ab-initio* many-electron methods have been developed over the years to describe the level structure and properties of atoms and ions with -- more or less -- simple shell structures. These methods include configurations interaction (CI), many-body perturbation theory (MBPT), coupled-cluster (CC) theory, correlation potential (CP), the multiconfigurational Dirac-Hartree Fock (MCDF) representations and are all typically based on some *self-consistent-field* (SCF).  In JAC, we distinguish between different representations of atomic wave (and Green) functions to facilitate the access to the different methods. For the sake of convinience, we here include also the concept of a self-consistent orbital set as perhaps the most basic *representation* of atomic levels and multiplets.\n",
    "\n",
    "In this tutorial, we shall show how one can easily generate a mean-field (orbital) representation as well as a CI representation, making use of these orbitals. We shall consider the levels of the $1s^2 2s^2 2p^4$ ground configuration of oxygen as a simple but typical example and shall later extent this concept to perform a CI expansion with (virtual) excitations into the $n=3$ shells.\n",
    "\n",
    "The computations of all *atomic representations* are controlled by the `struct Atomic.Representation` which is based on a name, nuclear model, (radial) grid as well as set of *reference configurations*. Let us first consider how such a representation is defined inernally:"
   ]
  },
  {
   "cell_type": "code",
   "execution_count": 2,
   "metadata": {},
   "outputs": [
    {
     "data": {
      "text/latex": [
       "\\texttt{struct  Atomic.Representation}       ... a struct for defining an atomic representation. Such representations often refer to approximate wave function approximations of         one or several levels but may concern also a mean-field basis (for some multiplet of some given configurations) or Green functions,         etc.\n",
       "\n",
       "\\begin{verbatim}\n",
       "+ name             ::String                      ... to assign a name to the given model.\n",
       "+ nuclearModel     ::Nuclear.Model               ... Model, charge and parameters of the nucleus.\n",
       "+ grid             ::Radial.Grid                 ... The radial grid to be used for the computation.\n",
       "+ refConfigs       ::Array{Configuration,1}      ... List of references configurations, at least 1.\n",
       "+ repType          ::AbstractRepresentationType  ... Specifies the particular representation.\n",
       "\\end{verbatim}\n",
       "\\rule{\\textwidth}{1pt}\n",
       "\\texttt{Atomic.Representation()}  ... constructor for an 'empty' instance of the a variable::Atomic.Representation\n",
       "\n"
      ],
      "text/markdown": [
       "`struct  Atomic.Representation`       ... a struct for defining an atomic representation. Such representations often refer to approximate wave function approximations of         one or several levels but may concern also a mean-field basis (for some multiplet of some given configurations) or Green functions,         etc.\n",
       "\n",
       "```\n",
       "+ name             ::String                      ... to assign a name to the given model.\n",
       "+ nuclearModel     ::Nuclear.Model               ... Model, charge and parameters of the nucleus.\n",
       "+ grid             ::Radial.Grid                 ... The radial grid to be used for the computation.\n",
       "+ refConfigs       ::Array{Configuration,1}      ... List of references configurations, at least 1.\n",
       "+ repType          ::AbstractRepresentationType  ... Specifies the particular representation.\n",
       "```\n",
       "\n",
       "---\n",
       "\n",
       "`Atomic.Representation()`  ... constructor for an 'empty' instance of the a variable::Atomic.Representation\n"
      ],
      "text/plain": [
       "  \u001b[36mstruct  Atomic.Representation\u001b[39m ... a struct for defining an atomic\n",
       "  representation. Such representations often refer to approximate wave\n",
       "  function approximations of one or several levels but may concern also a\n",
       "  mean-field basis (for some multiplet of some given configurations) or Green\n",
       "  functions, etc.\n",
       "\n",
       "\u001b[36m  + name             ::String                      ... to assign a name to the given model.\u001b[39m\n",
       "\u001b[36m  + nuclearModel     ::Nuclear.Model               ... Model, charge and parameters of the nucleus.\u001b[39m\n",
       "\u001b[36m  + grid             ::Radial.Grid                 ... The radial grid to be used for the computation.\u001b[39m\n",
       "\u001b[36m  + refConfigs       ::Array{Configuration,1}      ... List of references configurations, at least 1.\u001b[39m\n",
       "\u001b[36m  + repType          ::AbstractRepresentationType  ... Specifies the particular representation.\u001b[39m\n",
       "\n",
       "  ────────────────────────────────────────────────────────────────────────────\n",
       "\n",
       "  \u001b[36mAtomic.Representation()\u001b[39m ... constructor for an 'empty' instance of the a\n",
       "  variable::Atomic.Representation"
      ]
     },
     "execution_count": 2,
     "metadata": {},
     "output_type": "execute_result"
    }
   ],
   "source": [
    "? Atomic.Representation"
   ]
  },
  {
   "cell_type": "markdown",
   "metadata": {},
   "source": [
    "The particular choice of an atomic representation is made by the `repType::AbstractRepresentationType` which presently may take the following parameters:"
   ]
  },
  {
   "cell_type": "code",
   "execution_count": 3,
   "metadata": {},
   "outputs": [
    {
     "data": {
      "text/latex": [
       "\\texttt{abstract type Atomic.AbstractRepresentationType}      ... defines an abstract type and a number of data types to work with and distinguish different atomic representations; see also:\n",
       "\n",
       "\\begin{verbatim}\n",
       "+ struct MeanFieldBasis       ... to represent (and generate) a mean-field basis and, especially, a set of (mean-field) orbitals.\n",
       "+ struct CiExpansion          ... to represent (and generate) a configuration-interaction representation.\n",
       "+ struct RasExpansion         ... to represent (and generate) a restricted active-space representation.\n",
       "+ struct GreenFunction        ... to represent (and generate) an approximate (many-electron) Green functions.\n",
       "\\end{verbatim}\n"
      ],
      "text/markdown": [
       "`abstract type Atomic.AbstractRepresentationType`      ... defines an abstract type and a number of data types to work with and distinguish different atomic representations; see also:\n",
       "\n",
       "```\n",
       "+ struct MeanFieldBasis       ... to represent (and generate) a mean-field basis and, especially, a set of (mean-field) orbitals.\n",
       "+ struct CiExpansion          ... to represent (and generate) a configuration-interaction representation.\n",
       "+ struct RasExpansion         ... to represent (and generate) a restricted active-space representation.\n",
       "+ struct GreenFunction        ... to represent (and generate) an approximate (many-electron) Green functions.\n",
       "```\n"
      ],
      "text/plain": [
       "  \u001b[36mabstract type Atomic.AbstractRepresentationType\u001b[39m ... defines an abstract type\n",
       "  and a number of data types to work with and distinguish different atomic\n",
       "  representations; see also:\n",
       "\n",
       "\u001b[36m  + struct MeanFieldBasis       ... to represent (and generate) a mean-field basis and, especially, a set of (mean-field) orbitals.\u001b[39m\n",
       "\u001b[36m  + struct CiExpansion          ... to represent (and generate) a configuration-interaction representation.\u001b[39m\n",
       "\u001b[36m  + struct RasExpansion         ... to represent (and generate) a restricted active-space representation.\u001b[39m\n",
       "\u001b[36m  + struct GreenFunction        ... to represent (and generate) an approximate (many-electron) Green functions.\u001b[39m"
      ]
     },
     "execution_count": 3,
     "metadata": {},
     "output_type": "execute_result"
    }
   ],
   "source": [
    "?Atomic.AbstractRepresentationType"
   ]
  },
  {
   "cell_type": "markdown",
   "metadata": {},
   "source": [
    "Since this is an *abstract type*, we must always specify on of the explicit types together with its parameters as, for instance, a `MeanFieldBasis`, and which is purely determined by its settings:"
   ]
  },
  {
   "cell_type": "code",
   "execution_count": 4,
   "metadata": {},
   "outputs": [
    {
     "name": "stdout",
     "output_type": "stream",
     "text": [
      "search: \u001b[0m\u001b[1mM\u001b[22m\u001b[0m\u001b[1me\u001b[22m\u001b[0m\u001b[1ma\u001b[22m\u001b[0m\u001b[1mn\u001b[22m\u001b[0m\u001b[1mF\u001b[22m\u001b[0m\u001b[1mi\u001b[22m\u001b[0m\u001b[1me\u001b[22m\u001b[0m\u001b[1ml\u001b[22m\u001b[0m\u001b[1md\u001b[22m\u001b[0m\u001b[1mB\u001b[22m\u001b[0m\u001b[1ma\u001b[22m\u001b[0m\u001b[1ms\u001b[22m\u001b[0m\u001b[1mi\u001b[22m\u001b[0m\u001b[1ms\u001b[22m\n",
      "\n"
     ]
    },
    {
     "data": {
      "text/latex": [
       "\\texttt{struct  Atomic.MeanFieldBasis  <:  AbstractRepresentationType}       ... a struct to represent (and generate) a mean-field orbital basis.\n",
       "\n",
       "\\begin{verbatim}\n",
       "+ settings         ::Atomic.MeanFieldSettings      ... Settings for the given mean-field orbital basis\n",
       "\\end{verbatim}\n"
      ],
      "text/markdown": [
       "`struct  Atomic.MeanFieldBasis  <:  AbstractRepresentationType`       ... a struct to represent (and generate) a mean-field orbital basis.\n",
       "\n",
       "```\n",
       "+ settings         ::Atomic.MeanFieldSettings      ... Settings for the given mean-field orbital basis\n",
       "```\n"
      ],
      "text/plain": [
       "  \u001b[36mstruct  Atomic.MeanFieldBasis  <:  AbstractRepresentationType\u001b[39m ... a struct\n",
       "  to represent (and generate) a mean-field orbital basis.\n",
       "\n",
       "\u001b[36m  + settings         ::Atomic.MeanFieldSettings      ... Settings for the given mean-field orbital basis\u001b[39m"
      ]
     },
     "execution_count": 4,
     "metadata": {},
     "output_type": "execute_result"
    }
   ],
   "source": [
    "?MeanFieldBasis"
   ]
  },
  {
   "cell_type": "code",
   "execution_count": 5,
   "metadata": {},
   "outputs": [
    {
     "data": {
      "text/latex": [
       "\\texttt{struct  Atomic.MeanFieldSettings}       ... a struct for defining the settings for a mean-field basis (orbital) representation.\n",
       "\n",
       "\\begin{verbatim}\n",
       "+ methodScf            ::String             ... Specify the SCF method: [\"meanDFS\", \"meanHS\"].\n",
       "\\end{verbatim}\n",
       "\\rule{\\textwidth}{1pt}\n",
       "\\texttt{Atomic.MeanFieldSettings()}  ... constructor for setting the default values.\n",
       "\n"
      ],
      "text/markdown": [
       "`struct  Atomic.MeanFieldSettings`       ... a struct for defining the settings for a mean-field basis (orbital) representation.\n",
       "\n",
       "```\n",
       "+ methodScf            ::String             ... Specify the SCF method: [\"meanDFS\", \"meanHS\"].\n",
       "```\n",
       "\n",
       "---\n",
       "\n",
       "`Atomic.MeanFieldSettings()`  ... constructor for setting the default values.\n"
      ],
      "text/plain": [
       "  \u001b[36mstruct  Atomic.MeanFieldSettings\u001b[39m ... a struct for defining the settings for\n",
       "  a mean-field basis (orbital) representation.\n",
       "\n",
       "\u001b[36m  + methodScf            ::String             ... Specify the SCF method: [\"meanDFS\", \"meanHS\"].\u001b[39m\n",
       "\n",
       "  ────────────────────────────────────────────────────────────────────────────\n",
       "\n",
       "  \u001b[36mAtomic.MeanFieldSettings()\u001b[39m ... constructor for setting the default values."
      ]
     },
     "execution_count": 5,
     "metadata": {},
     "output_type": "execute_result"
    }
   ],
   "source": [
    "?Atomic.MeanFieldSettings"
   ]
  },
  {
   "cell_type": "markdown",
   "metadata": {},
   "source": [
    "With this background, we can now readily compute a mean-field (orbital) basis for the oxygen ground configuration by:"
   ]
  },
  {
   "cell_type": "code",
   "execution_count": 6,
   "metadata": {},
   "outputs": [
    {
     "data": {
      "text/plain": [
       "methodScf:                meanDFS  \n"
      ]
     },
     "execution_count": 6,
     "metadata": {},
     "output_type": "execute_result"
    }
   ],
   "source": [
    "name        = \"Oxygen 1s^2 2s^2 2p^4 ground configuration\"\n",
    "refConfigs  = [Configuration(\"[He] 2s^2 2p^4\")]\n",
    "mfSettings  = MeanFieldSettings()"
   ]
  },
  {
   "cell_type": "code",
   "execution_count": 7,
   "metadata": {
    "scrolled": true
   },
   "outputs": [
    {
     "data": {
      "text/plain": [
       "Atomic representation:   Oxygen 1s^2 2s^2 2p^4 ground configuration for Z = 8.0 and with reference configurations: \n",
       "   1s^2 2s^2 2p^4 ,  \n",
       "representation type:   Mean-field orbital basis for a meanDFS SCF field:\n",
       "  \n",
       "nuclearModel:          Fermi nuclear model for Z = 8.0 with mass = 16.32, radius R = 2.6905393158807427 fm and nuclear spin I = 0, dipole moment mu = 0.0 and quadrupole moment Q = 0.0.  \n",
       "grid:                  Radial grid:  rnt = 2.0e-6,  h = 0.05,  hp = 0.0,  NoPoints = 390, orderL = 7,  orderS = 8,  nsL = 56,  nsS = 57,  mesh = JAC.Radial.MeshGL(), ...  \n",
       "r:    [0.0, 2.13272e-8, 1.08316e-7]  ...  [842.031, 887.781, 916.071]\n",
       "wr:   [0.0, 5.42629e-8, 1.17215e-7]  ...  [52.0386, 38.1203, 17.6472]\n",
       "t:    [0.0, 0.0, 0.0]  ...  [39.5528, 56.1281, 79.6496]  \n"
      ]
     },
     "execution_count": 7,
     "metadata": {},
     "output_type": "execute_result"
    }
   ],
   "source": [
    "wa          = Representation(name, Nuclear.Model(8.), Radial.Grid(true), refConfigs, MeanFieldBasis(mfSettings) )"
   ]
  },
  {
   "cell_type": "markdown",
   "metadata": {},
   "source": [
    "In JAC, an atomic representation is always *generate*'d:"
   ]
  },
  {
   "cell_type": "code",
   "execution_count": 8,
   "metadata": {
    "scrolled": true
   },
   "outputs": [
    {
     "name": "stdout",
     "output_type": "stream",
     "text": [
      "\n",
      "... in performSCF ...\n",
      ">> include Configuration: 1s_1/2^2 2s_1/2^2 2p_1/2^0 2p_3/2^4 \n",
      ">> include Configuration: 1s_1/2^2 2s_1/2^2 2p_1/2^1 2p_3/2^3 \n",
      ">> include Configuration: 1s_1/2^2 2s_1/2^2 2p_1/2^2 2p_3/2^2 \n",
      "(Re-) Define a new standard subshell list.\n",
      "Start SCF process with hydrogenic orbitals.\n",
      "(Re-) Define a storage array for various B-spline matrices:\n",
      "Nuclear model = Fermi nuclear model for Z = 8.0 with mass = 16.32, radius R = 2.6905393158807427 fm and nuclear spin I = 0, dipole moment mu = 0.0 and quadrupole moment Q = 0.0. \n",
      "Generate hydrogenic orbital for subshell 1s_1/2 \n",
      "  -----------------------------------------------------------------------------\n",
      "   Index    Subshell     Energies [a.u.]    Dirac-E  [a.u.]     Delta-E / |E|    \n",
      "  -----------------------------------------------------------------------------\n",
      "      1      1s_1/2      -3.20273042e+01    -3.20273113e+01    +2.20440921e-07    \n",
      "      2      2s_1/2      -8.00853682e+00    -8.00853549e+00    -1.65615927e-07    \n",
      "      3      3s_1/2      -3.55862828e+00    -3.55858988e+00    -1.07892974e-05    \n",
      "      4      4s_1/2      -2.00168889e+00    -2.00138659e+00    -1.51023169e-04    \n",
      "      5      5s_1/2      -1.28191287e+00    -1.28074263e+00    -9.12884269e-04    \n",
      "      6      6s_1/2      -9.40656006e-01    -8.89331258e-01    -5.45627181e-02    \n",
      "      7      7s_1/2      -8.78217460e-01    -6.53345470e-01    -2.56055021e-01    \n",
      "      8      8s_1/2      -6.43809881e-01    -5.00193270e-01    -2.23073015e-01    \n",
      "      :       :    \n",
      "     51     51s_1/2      +8.45241487e+07    -1.23037712e-02    +1.00000000e+00    \n",
      "     52     52s_1/2      +1.28254798e+08    -1.18350847e-02    +1.00000000e+00    \n",
      "     53     53s_1/2      +2.02569131e+08    -1.13926773e-02    +1.00000000e+00    \n",
      "     54     54s_1/2      +3.44988814e+08    -1.09746205e-02    +1.00000000e+00    \n",
      "     55     55s_1/2      +6.89833505e+08    -1.05791595e-02    +1.00000000e+00    \n",
      "     56     56s_1/2      +2.35260046e+09    -1.02046949e-02    +1.00000000e+00    \n",
      "  -----------------------------------------------------------------------------\n",
      ">> Use hydrogenic orbital from this symmetry block also for 1s_1/2.\n",
      ">> Use hydrogenic orbital from this symmetry block also for 2s_1/2.\n",
      "Generate hydrogenic orbital for subshell 2p_1/2 \n",
      "  -----------------------------------------------------------------------------\n",
      "   Index    Subshell     Energies [a.u.]    Dirac-E  [a.u.]     Delta-E / |E|    \n",
      "  -----------------------------------------------------------------------------\n",
      "      1      2p_1/2      -8.00853601e+00    -8.00853549e+00    -6.37564265e-08    \n",
      "      2      3p_1/2      -3.55860409e+00    -3.55858988e+00    -3.99268115e-06    \n",
      "      3      4p_1/2      -2.00147807e+00    -2.00138659e+00    -4.57056332e-05    \n",
      "      4      5p_1/2      -1.28092896e+00    -1.28074263e+00    -1.45466894e-04    \n",
      "      5      6p_1/2      -8.89790203e-01    -8.89331258e-01    -5.15790401e-04    \n",
      "      6      7p_1/2      -6.87771436e-01    -6.53345470e-01    -5.00543700e-02    \n",
      "      7      8p_1/2      -6.27176134e-01    -5.00193270e-01    -2.02467628e-01    \n",
      "      8      9p_1/2      -4.69927442e-01    -3.95199023e-01    -1.59021185e-01    \n",
      "      :       :    \n",
      "     50     51p_1/2      +7.03183133e+07    -1.23037712e-02    +1.00000000e+00    \n",
      "     51     52p_1/2      +1.05468426e+08    -1.18350847e-02    +1.00000000e+00    \n",
      "     52     53p_1/2      +1.63178244e+08    -1.13926773e-02    +1.00000000e+00    \n",
      "     53     54p_1/2      +2.67010258e+08    -1.09746205e-02    +1.00000000e+00    \n",
      "     54     55p_1/2      +4.88028483e+08    -1.05791595e-02    +1.00000000e+00    \n",
      "     55     56p_1/2      +1.16225731e+09    -1.02046949e-02    +1.00000000e+00    \n",
      "  -----------------------------------------------------------------------------\n",
      ">> Use hydrogenic orbital from this symmetry block also for 2p_1/2.\n",
      "Generate hydrogenic orbital for subshell 2p_3/2 \n",
      "  -----------------------------------------------------------------------------\n",
      "   Index    Subshell     Energies [a.u.]    Dirac-E  [a.u.]     Delta-E / |E|    \n",
      "  -----------------------------------------------------------------------------\n",
      "      1      2p_3/2      -8.00170572e+00    -8.00170477e+00    -1.18557262e-07    \n",
      "      2      3p_3/2      -3.55658725e+00    -3.55656582e+00    -6.02597008e-06    \n",
      "      3      4p_3/2      -2.00087454e+00    -2.00053275e+00    -1.70818169e-04    \n",
      "      4      5p_3/2      -1.28394087e+00    -1.28030549e+00    -2.83142177e-03    \n",
      "      5      6p_3/2      -1.10773076e+00    -8.89078304e-01    -1.97387725e-01    \n",
      "      6      7p_3/2      -8.82919305e-01    -6.53186184e-01    -2.60197189e-01    \n",
      "      7      8p_3/2      -6.42056179e-01    -5.00086566e-01    -2.21117121e-01    \n",
      "      8      9p_3/2      -4.72865419e-01    -3.95124084e-01    -1.64404780e-01    \n",
      "      :       :    \n",
      "     51     52p_3/2      +1.00194511e+08    -1.18346962e-02    +1.00000000e+00    \n",
      "     52     53p_3/2      +1.53865889e+08    -1.13923104e-02    +1.00000000e+00    \n",
      "     53     54p_3/2      +2.48334099e+08    -1.09742737e-02    +1.00000000e+00    \n",
      "     54     55p_3/2      +4.40967649e+08    -1.05788313e-02    +1.00000000e+00    \n",
      "     55     56p_3/2      +9.65468693e+08    -1.02043839e-02    +1.00000000e+00    \n",
      "     56     57p_3/2      +3.73450075e+09    -9.84947113e-03    +1.00000000e+00    \n",
      "  -----------------------------------------------------------------------------\n",
      ">> Use hydrogenic orbital from this symmetry block also for 2p_3/2.\n",
      "(Re-) Define the standard grid with 390 grid points.\n",
      "(Re-) Define a storage array for various B-spline matrices:\n",
      "\n",
      "Iteration 1 for symmetries ... \n",
      "  1s_1/2::  en [a.u.] = -1.4209733e+01;   self-cons'cy = 3.8535e-01  [1.0000e+02 for sym-block kappa = -1]\n",
      "  2s_1/2::  en [a.u.] = -4.1871307e-03;   self-cons'cy = 9.9895e-01  [1.0000e+02 for sym-block kappa = -1]\n",
      "  2p_1/2::  en [a.u.] = -3.8071941e-01;   self-cons'cy = 9.0924e-01  [1.0000e+02 for sym-block kappa = 1]\n",
      "  2p_3/2::  en [a.u.] = -7.8270847e-01;   self-cons'cy = 8.2180e-01  [1.0000e+02 for sym-block kappa = -2]\n",
      "\n",
      "Iteration 2 for symmetries ... \n",
      "  1s_1/2::  en [a.u.] = -2.0724873e+01;   self-cons'cy = 1.8650e-01  [1.1688e+00 for sym-block kappa = -1]\n",
      "  2s_1/2::  en [a.u.] = -1.9264795e+00;   self-cons'cy = 9.9566e-01  [1.1688e+00 for sym-block kappa = -1]\n",
      "  2p_1/2::  en [a.u.] = -2.8300242e-01;   self-cons'cy = 1.4723e-01  [1.0672e+00 for sym-block kappa = 1]\n",
      "  2p_3/2::  en [a.u.] = -1.5120971e-01;   self-cons'cy = 6.7618e-01  [1.9400e+01 for sym-block kappa = -2]\n",
      "\n",
      "Iteration 3 for symmetries ... \n",
      "  1s_1/2::  en [a.u.] = -1.8681245e+01;   self-cons'cy = 5.1861e-02  [1.0896e+00 for sym-block kappa = -1]\n",
      "  2s_1/2::  en [a.u.] = -8.5476677e-01;   self-cons'cy = 3.8534e-01  [1.0896e+00 for sym-block kappa = -1]\n",
      "  2p_1/2::  en [a.u.] = -4.2636429e-01;   self-cons'cy = 2.0210e-01  [2.0210e-01 for sym-block kappa = 1]\n",
      "  2p_3/2::  en [a.u.] = -3.7833871e-01;   self-cons'cy = 4.2891e-01  [4.2891e-01 for sym-block kappa = -2]\n",
      "\n",
      "Iteration 4 for symmetries ... \n",
      "  1s_1/2::  en [a.u.] = -1.8477817e+01;   self-cons'cy = 5.4745e-03  [1.0106e+00 for sym-block kappa = -1]\n",
      "  2s_1/2::  en [a.u.] = -7.2652313e-01;   self-cons'cy = 8.1101e-02  [1.0106e+00 for sym-block kappa = -1]\n",
      "  2p_1/2::  en [a.u.] = -2.1956656e-01;   self-cons'cy = 3.2015e-01  [3.2015e-01 for sym-block kappa = 1]\n",
      "  2p_3/2::  en [a.u.] = -2.8692671e-01;   self-cons'cy = 1.3741e-01  [1.3741e-01 for sym-block kappa = -2]\n",
      "\n",
      "Iteration 5 for symmetries ... \n",
      "  1s_1/2::  en [a.u.] = -1.8833735e+01;   self-cons'cy = 9.5391e-03  [1.0507e+00 for sym-block kappa = -1]\n",
      "  2s_1/2::  en [a.u.] = -8.7407925e-01;   self-cons'cy = 9.2188e-02  [1.0507e+00 for sym-block kappa = -1]\n",
      "  2p_1/2::  en [a.u.] = -3.1025542e-01;   self-cons'cy = 1.7117e-01  [1.7117e-01 for sym-block kappa = 1]\n",
      "  2p_3/2::  en [a.u.] = -2.7227467e-01;   self-cons'cy = 2.6202e-02  [2.6202e-02 for sym-block kappa = -2]\n",
      "\n",
      "Iteration 6 for symmetries ... \n",
      "  1s_1/2::  en [a.u.] = -1.8688312e+01;   self-cons'cy = 3.8757e-03  [7.2007e-01 for sym-block kappa = -1]\n",
      "  2s_1/2::  en [a.u.] = -8.1676180e-01;   self-cons'cy = 3.3899e-02  [7.2007e-01 for sym-block kappa = -1]\n",
      "  2p_1/2::  en [a.u.] = -2.9606255e-01;   self-cons'cy = 2.3408e-02  [2.3408e-02 for sym-block kappa = 1]\n",
      "  2p_3/2::  en [a.u.] = -2.9927127e-01;   self-cons'cy = 4.7234e-02  [4.7234e-02 for sym-block kappa = -2]\n",
      "\n",
      "Iteration 7 for symmetries ... \n",
      "  1s_1/2::  en [a.u.] = -1.8684739e+01;   self-cons'cy = 9.5594e-05  [5.7246e-01 for sym-block kappa = -1]\n",
      "  2s_1/2::  en [a.u.] = -8.1261950e-01;   self-cons'cy = 2.5423e-03  [5.7246e-01 for sym-block kappa = -1]\n",
      "  2p_1/2::  en [a.u.] = -2.8142952e-01;   self-cons'cy = 2.5339e-02  [2.5339e-02 for sym-block kappa = 1]\n",
      "  2p_3/2::  en [a.u.] = -2.8557048e-01;   self-cons'cy = 2.3426e-02  [2.3426e-02 for sym-block kappa = -2]\n",
      "\n",
      "Iteration 8 for symmetries ... \n",
      "  1s_1/2::  en [a.u.] = -1.8722081e+01;   self-cons'cy = 9.9826e-04  [6.3573e-01 for sym-block kappa = -1]\n",
      "  2s_1/2::  en [a.u.] = -8.2855735e-01;   self-cons'cy = 9.7112e-03  [6.3573e-01 for sym-block kappa = -1]\n",
      "  2p_1/2::  en [a.u.] = -2.9319535e-01;   self-cons'cy = 2.0476e-02  [2.0476e-02 for sym-block kappa = 1]\n",
      "  2p_3/2::  en [a.u.] = -2.8750826e-01;   self-cons'cy = 3.3813e-03  [3.3813e-03 for sym-block kappa = -2]\n",
      "\n",
      "Iteration 9 for symmetries ... \n",
      "  1s_1/2::  en [a.u.] = -1.8699832e+01;   self-cons'cy = 5.9453e-04  [2.5720e-01 for sym-block kappa = -1]\n",
      "  2s_1/2::  en [a.u.] = -8.1964571e-01;   self-cons'cy = 5.4069e-03  [2.5720e-01 for sym-block kappa = -1]\n",
      "  2p_1/2::  en [a.u.] = -2.8943416e-01;   self-cons'cy = 6.4555e-03  [6.4555e-03 for sym-block kappa = 1]\n",
      "  2p_3/2::  en [a.u.] = -2.8943569e-01;   self-cons'cy = 3.3407e-03  [3.3407e-03 for sym-block kappa = -2]\n",
      "\n",
      "Iteration 10 for symmetries ... \n",
      "  1s_1/2::  en [a.u.] = -1.8704709e+01;   self-cons'cy = 1.3038e-04  [2.1195e-02 for sym-block kappa = -1]\n",
      "  2s_1/2::  en [a.u.] = -8.2135012e-01;   self-cons'cy = 1.0386e-03  [2.1195e-02 for sym-block kappa = -1]\n",
      "  2p_1/2::  en [a.u.] = -2.8894634e-01;   self-cons'cy = 8.4342e-04  [8.4342e-04 for sym-block kappa = 1]\n",
      "  2p_3/2::  en [a.u.] = -2.8781175e-01;   self-cons'cy = 2.8132e-03  [2.8132e-03 for sym-block kappa = -2]\n",
      "\n",
      "Iteration 11 for symmetries ... \n",
      "  1s_1/2::  en [a.u.] = -1.8706896e+01;   self-cons'cy = 5.8451e-05  [5.3461e-02 for sym-block kappa = -1]\n",
      "  2s_1/2::  en [a.u.] = -8.2237312e-01;   self-cons'cy = 6.2237e-04  [5.3461e-02 for sym-block kappa = -1]\n",
      "  2p_1/2::  en [a.u.] = -2.9011167e-01;   self-cons'cy = 2.0124e-03  [2.0124e-03 for sym-block kappa = 1]\n",
      "  2p_3/2::  en [a.u.] = -2.8834519e-01;   self-cons'cy = 9.2586e-04  [9.2586e-04 for sym-block kappa = -2]\n",
      "\n",
      "Iteration 12 for symmetries ... \n",
      "  1s_1/2::  en [a.u.] = -1.8704442e+01;   self-cons'cy = 6.5598e-05  [3.7052e-02 for sym-block kappa = -1]\n",
      "  2s_1/2::  en [a.u.] = -8.2135767e-01;   self-cons'cy = 6.1777e-04  [3.7052e-02 for sym-block kappa = -1]\n",
      "  2p_1/2::  en [a.u.] = -2.8951804e-01;   self-cons'cy = 1.0242e-03  [1.0242e-03 for sym-block kappa = 1]\n",
      "  2p_3/2::  en [a.u.] = -2.8839929e-01;   self-cons'cy = 9.3805e-05  [9.3805e-05 for sym-block kappa = -2]\n",
      "\n",
      "Iteration 13 for symmetries ... \n",
      "  1s_1/2::  en [a.u.] = -1.8705419e+01;   self-cons'cy = 2.6114e-05  [1.0214e-02 for sym-block kappa = -1]\n",
      "  2s_1/2::  en [a.u.] = -8.2173435e-01;   self-cons'cy = 2.2925e-04  [1.0214e-02 for sym-block kappa = -1]\n",
      "  2p_1/2::  en [a.u.] = -2.8960656e-01;   self-cons'cy = 1.5286e-04  [1.5286e-04 for sym-block kappa = 1]\n",
      "  2p_3/2::  en [a.u.] = -2.8824215e-01;   self-cons'cy = 2.7252e-04  [2.7252e-04 for sym-block kappa = -2]\n",
      "\n",
      "Iteration 14 for symmetries ... \n",
      "  1s_1/2::  en [a.u.] = -1.8705398e+01;   self-cons'cy = 5.5801e-07  [2.5246e-03 for sym-block kappa = -1]\n",
      "  2s_1/2::  en [a.u.] = -8.2174233e-01;   self-cons'cy = 4.8573e-06  [2.5246e-03 for sym-block kappa = -1]\n",
      "  2p_1/2::  en [a.u.] = -2.8969091e-01;   self-cons'cy = 1.4560e-04  [1.4560e-04 for sym-block kappa = 1]\n",
      "  2p_3/2::  en [a.u.] = -2.8832481e-01;   self-cons'cy = 1.4337e-04  [1.4337e-04 for sym-block kappa = -2]\n",
      "\n",
      "Iteration 15 for symmetries ... \n",
      "  1s_1/2::  en [a.u.] = -1.8705183e+01;   self-cons'cy = 5.7402e-06  [3.8972e-03 for sym-block kappa = -1]\n",
      "  2s_1/2::  en [a.u.] = -8.2164980e-01;   self-cons'cy = 5.6303e-05  [3.8972e-03 for sym-block kappa = -1]\n",
      "  2p_1/2::  en [a.u.] = -2.8961918e-01;   self-cons'cy = 1.2382e-04  [1.2382e-04 for sym-block kappa = 1]\n",
      "  2p_3/2::  en [a.u.] = -2.8831126e-01;   self-cons'cy = 2.3504e-05  [2.3504e-05 for sym-block kappa = -2]\n",
      "\n",
      "Iteration 16 for symmetries ... \n",
      "  1s_1/2::  en [a.u.] = -1.8705318e+01;   self-cons'cy = 3.6097e-06  [1.7761e-03 for sym-block kappa = -1]\n",
      "  2s_1/2::  en [a.u.] = -8.2170403e-01;   self-cons'cy = 3.3001e-05  [1.7761e-03 for sym-block kappa = -1]\n",
      "  2p_1/2::  en [a.u.] = -2.8964303e-01;   self-cons'cy = 4.1173e-05  [4.1173e-05 for sym-block kappa = 1]\n",
      "  2p_3/2::  en [a.u.] = -2.8830024e-01;   self-cons'cy = 1.9108e-05  [1.9108e-05 for sym-block kappa = -2]\n",
      "\n",
      "Iteration 17 for symmetries ... \n",
      "  1s_1/2::  en [a.u.] = -1.8705286e+01;   self-cons'cy = 8.5264e-07  [1.6875e-04 for sym-block kappa = -1]\n",
      "  2s_1/2::  en [a.u.] = -8.2169269e-01;   self-cons'cy = 6.9048e-06  [1.6875e-04 for sym-block kappa = -1]\n",
      "  2p_1/2::  en [a.u.] = -2.8964526e-01;   self-cons'cy = 3.8513e-06  [3.8513e-06 for sym-block kappa = 1]\n",
      "  2p_3/2::  en [a.u.] = -2.8831007e-01;   self-cons'cy = 1.7049e-05  [1.7049e-05 for sym-block kappa = -2]\n",
      "\n",
      "Iteration 18 for symmetries ... \n",
      "  1s_1/2::  en [a.u.] = -1.8705274e+01;   self-cons'cy = 3.2297e-07  [3.1081e-04 for sym-block kappa = -1]\n",
      "  2s_1/2::  en [a.u.] = -8.2168695e-01;   self-cons'cy = 3.4922e-06  [3.1081e-04 for sym-block kappa = -1]\n",
      "  2p_1/2::  en [a.u.] = -2.8963836e-01;   self-cons'cy = 1.1913e-05  [1.1913e-05 for sym-block kappa = 1]\n",
      "  2p_3/2::  en [a.u.] = -2.8830667e-01;   self-cons'cy = 5.8881e-06  [5.8881e-06 for sym-block kappa = -2]\n",
      "\n",
      "Iteration 19 for symmetries ... \n",
      "  1s_1/2::  en [a.u.] = -1.8705289e+01;   self-cons'cy = 3.9411e-07  [2.2765e-04 for sym-block kappa = -1]\n",
      "  2s_1/2::  en [a.u.] = -8.2169307e-01;   self-cons'cy = 3.7229e-06  [2.2765e-04 for sym-block kappa = -1]\n",
      "  2p_1/2::  en [a.u.] = -2.8964203e-01;   self-cons'cy = 6.3250e-06  [6.3250e-06 for sym-block kappa = 1]\n",
      "  2p_3/2::  en [a.u.] = -2.8830644e-01;   self-cons'cy = 3.9756e-07  [3.9756e-07 for sym-block kappa = -2]\n",
      "\n",
      "Iteration 20 for symmetries ... \n",
      "  1s_1/2::  en [a.u.] = -1.8705283e+01;   self-cons'cy = 1.6374e-07  [6.5635e-05 for sym-block kappa = -1]\n",
      "  2s_1/2::  en [a.u.] = -8.2169069e-01;   self-cons'cy = 1.4441e-06  [6.5635e-05 for sym-block kappa = -1]\n",
      "  2p_1/2::  en [a.u.] = -2.8964141e-01;   self-cons'cy = 1.0620e-06  [1.0620e-06 for sym-block kappa = 1]\n",
      "  2p_3/2::  en [a.u.] = -2.8830737e-01;   self-cons'cy = 1.6108e-06  [1.6108e-06 for sym-block kappa = -2]\n",
      "\n",
      "Iteration 21 for symmetries ... \n",
      "  1s_1/2::  en [a.u.] = -1.8705283e+01;   self-cons'cy = 7.5548e-09  [1.3122e-05 for sym-block kappa = -1]\n",
      "  2s_1/2::  en [a.u.] = -8.2169071e-01;   self-cons'cy = 9.1534e-09  [1.3122e-05 for sym-block kappa = -1]\n",
      "  2p_1/2::  en [a.u.] = -2.8964093e-01;   self-cons'cy = 8.2776e-07  [8.2776e-07 for sym-block kappa = 1]\n",
      "  2p_3/2::  en [a.u.] = -2.8830686e-01;   self-cons'cy = 8.8383e-07  [8.8383e-07 for sym-block kappa = -2]\n",
      "\n",
      "Iteration 22 for symmetries ... \n",
      "  1s_1/2::  en [a.u.] = -1.8705284e+01;   self-cons'cy = 3.3515e-08  [2.3228e-05 for sym-block kappa = -1]\n",
      "  2s_1/2::  en [a.u.] = -8.2169125e-01;   self-cons'cy = 3.3041e-07  [2.3228e-05 for sym-block kappa = -1]\n",
      "  2p_1/2::  en [a.u.] = -2.8964137e-01;   self-cons'cy = 7.4878e-07  [7.4878e-07 for sym-block kappa = 1]\n",
      "  2p_3/2::  en [a.u.] = -2.8830696e-01;   self-cons'cy = 1.6098e-07  [4.3653e-07 for sym-block kappa = -2]\n",
      "\n",
      "Iteration 23 for symmetries ... \n",
      "  1s_1/2::  en [a.u.] = -1.8705284e+01;   self-cons'cy = 2.2073e-08  [1.1166e-05 for sym-block kappa = -1]\n",
      "  2s_1/2::  en [a.u.] = -8.2169092e-01;   self-cons'cy = 2.0241e-07  [1.1166e-05 for sym-block kappa = -1]\n",
      "  2p_1/2::  en [a.u.] = -2.8964121e-01;   self-cons'cy = 2.6128e-07  [2.7500e-07 for sym-block kappa = 1]\n",
      "  2p_3/2::  en [a.u.] = -2.8830702e-01;   self-cons'cy = 1.0801e-07  [3.8265e-07 for sym-block kappa = -2]\n",
      "\n",
      "Iteration 24 for symmetries ... \n",
      "  1s_1/2::  en [a.u.] = -1.8705284e+01;   self-cons'cy = 5.5827e-09  [1.3671e-06 for sym-block kappa = -1]\n",
      "  2s_1/2::  en [a.u.] = -8.2169099e-01;   self-cons'cy = 4.5821e-08  [1.3671e-06 for sym-block kappa = -1]\n",
      "  2p_1/2::  en [a.u.] = -2.8964121e-01;   self-cons'cy = 1.5799e-08  [2.2129e-07 for sym-block kappa = 1]\n",
      "  2p_3/2::  en [a.u.] = -2.8830696e-01;   self-cons'cy = 1.0288e-07  [3.2815e-07 for sym-block kappa = -2]\n",
      "Maximum number of SCF iterations = 24 is reached ... computations proceed.\n",
      "\u001b[95mConstants.warn():  Reset global array GBL_WARNINGS.\u001b[39m \n"
     ]
    },
    {
     "data": {
      "text/plain": [
       "Dict{String,Any} with 1 entry:\n",
       "  \"mean-field basis\" => Atomic basis:  5 CSF defined for 8 elecrons.…"
      ]
     },
     "execution_count": 8,
     "metadata": {},
     "output_type": "execute_result"
    }
   ],
   "source": [
    "wb = generate(wa, output=true)"
   ]
  },
  {
   "cell_type": "markdown",
   "metadata": {},
   "source": [
    "As seen from the last line of this printout, the outcome::Dict{String,Any} just contains the requested basis and, hence, set of orbital:"
   ]
  },
  {
   "cell_type": "code",
   "execution_count": 9,
   "metadata": {},
   "outputs": [
    {
     "data": {
      "text/plain": [
       "Dict{Subshell,Orbital} with 4 entries:\n",
       "  2s_1/2 => Bound-state orbital 2s_1/2 with energy -0.8216909939585607 a.u. is …\n",
       "  2p_1/2 => Bound-state orbital 2p_1/2 with energy -0.28964120578908725 a.u. is…\n",
       "  2p_3/2 => Bound-state orbital 2p_3/2 with energy -0.2883069592711447 a.u. is …\n",
       "  1s_1/2 => Bound-state orbital 1s_1/2 with energy -18.705283830406817 a.u. is …"
      ]
     },
     "execution_count": 9,
     "metadata": {},
     "output_type": "execute_result"
    }
   ],
   "source": [
    "orbitals    = wb[\"mean-field basis\"].orbitals"
   ]
  },
  {
   "cell_type": "markdown",
   "metadata": {},
   "source": [
    "We can apply this *mean-field basis* in order to generate a CI representations for all levels of the $1s^2 2s^2 2p^4$ ground configuration of oxygen; to this end, we first define the corresponding *settings* and (no further) *excitations*,"
   ]
  },
  {
   "cell_type": "code",
   "execution_count": 10,
   "metadata": {},
   "outputs": [
    {
     "data": {
      "text/plain": [
       "breitCI:                  true  \n",
       "selectLevelsCI:           false  \n",
       "selectedLevelsCI:         Int64[]  \n",
       "selectSymmetriesCI:       false  \n",
       "selectedSymmetriesCI:     LevelSymmetry[]  \n"
      ]
     },
     "execution_count": 10,
     "metadata": {},
     "output_type": "execute_result"
    }
   ],
   "source": [
    "ciSettings  = CiSettings(true, false, Int64[], false, LevelSymmetry[] )"
   ]
  },
  {
   "cell_type": "code",
   "execution_count": 11,
   "metadata": {},
   "outputs": [
    {
     "data": {
      "text/plain": [
       "\n",
       "CI or RAS step with 0 (explicitly) frozen shell(s): Shell[]  ... and virtual excitations\n"
      ]
     },
     "execution_count": 11,
     "metadata": {},
     "output_type": "execute_result"
    }
   ],
   "source": [
    "excitations = RasStep()"
   ]
  },
  {
   "cell_type": "markdown",
   "metadata": {},
   "source": [
    "and before we follow very similar lines as above:"
   ]
  },
  {
   "cell_type": "code",
   "execution_count": 12,
   "metadata": {
    "scrolled": true
   },
   "outputs": [
    {
     "data": {
      "text/plain": [
       "Atomic representation:   Oxygen 1s^2 2s^2 2p^4 ground configuration for Z = 8.0 and with reference configurations: \n",
       "   1s^2 2s^2 2p^4 ,  \n",
       "representation type:   CI expansion with (additional) excitations:\n",
       "\n",
       "CI or RAS step with 0 (explicitly) frozen shell(s): Shell[]  ... and virtual excitations\n",
       "  \n",
       "... and the current settings:\n",
       "breitCI:                  true  \n",
       "selectLevelsCI:           false  \n",
       "selectedLevelsCI:         Int64[]  \n",
       "selectSymmetriesCI:       false  \n",
       "selectedSymmetriesCI:     LevelSymmetry[]  \n",
       "  \n",
       "  \n",
       "nuclearModel:          Fermi nuclear model for Z = 8.0 with mass = 16.32, radius R = 2.6905393158807427 fm and nuclear spin I = 0, dipole moment mu = 0.0 and quadrupole moment Q = 0.0.  \n",
       "grid:                  Radial grid:  rnt = 2.0e-6,  h = 0.05,  hp = 0.0,  NoPoints = 390, orderL = 7,  orderS = 8,  nsL = 56,  nsS = 57,  mesh = JAC.Radial.MeshGL(), ...  \n",
       "r:    [0.0, 2.13272e-8, 1.08316e-7]  ...  [842.031, 887.781, 916.071]\n",
       "wr:   [0.0, 5.42629e-8, 1.17215e-7]  ...  [52.0386, 38.1203, 17.6472]\n",
       "t:    [0.0, 0.0, 0.0]  ...  [39.5528, 56.1281, 79.6496]  \n"
      ]
     },
     "execution_count": 12,
     "metadata": {},
     "output_type": "execute_result"
    }
   ],
   "source": [
    "wc          = Representation(name, Nuclear.Model(8.), Radial.Grid(true), refConfigs, \n",
    "                             CiExpansion(orbitals, excitations, ciSettings) )"
   ]
  },
  {
   "cell_type": "code",
   "execution_count": 13,
   "metadata": {
    "scrolled": true
   },
   "outputs": [
    {
     "name": "stdout",
     "output_type": "stream",
     "text": [
      "*** Level symmetries = LevelSymmetry[0 +, 1 +, 2 +] \n",
      ">> include Configuration: 1s^2 2s^2 2p^4 \n",
      "(Re-) Define a new standard subshell list.\n",
      "Construct a basis with 5 CSF for J^P = LevelSymmetry[0 +, 1 +, 2 +] with 4 subshells: 1s_1/2  2s_1/2 ...  2p_1/2  2p_3/2\n",
      "Compute CI matrix of dimension 2 x 2 for the symmetry 0^+ ...   ... done.\n",
      "Compute CI matrix of dimension 1 x 1 for the symmetry 1^+ ...   ... done.\n",
      "Compute CI matrix of dimension 2 x 2 for the symmetry 2^+ ...   ... done.\n",
      "\n",
      "  Eigenenergies:\n",
      "\n",
      "  Level  J Parity          Hartrees                    eV                   [eV]\n",
      "\n",
      "     1    2 +     -7.484030990301846e+01    -2.036508562627464e+03    -2.036508562627464e+03 \n",
      "     2    1 +     -7.483958197648447e+01    -2.036488754737553e+03    -2.036488754737553e+03 \n",
      "     3    0 +     -7.483926015247478e+01    -2.036479997460195e+03    -2.036479997460195e+03 \n",
      "     4    2 +     -7.476281511712232e+01    -2.034399822093907e+03    -2.034399822093907e+03 \n",
      "     5    0 +     -7.464699371606233e+01    -2.031248161240286e+03    -2.031248161240286e+03 \n",
      "\n",
      "  Energy of each level relative to immediately lower level:\n",
      "\n",
      "  Level  J Parity          Hartrees                    eV                   [eV]\n",
      "\n",
      "     2    1 +     7.279265339974472e-04    1.980788991080519e-02    1.980788991080519e-02 \n",
      "     3    0 +     3.218240096884983e-04    8.757277358137947e-03    8.757277358137947e-03 \n",
      "     4    2 +     7.644503535246372e-02    2.080175366288437e+00    2.080175366288437e+00 \n",
      "     5    0 +     1.158214010599892e-01    3.151660853620602e+00    3.151660853620602e+00 \n",
      "\n",
      "  Energy of each level relative to lowest level:\n",
      "\n",
      "  Level  J Parity          Hartrees                    eV                   [eV]\n",
      "\n",
      "     2    1 +     7.279265339974472e-04    1.980788991080519e-02    1.980788991080519e-02 \n",
      "     3    0 +     1.049750543685946e-03    2.856516726894314e-02    2.856516726894314e-02 \n",
      "     4    2 +     7.749478589614966e-02    2.108740533557380e+00    2.108740533557380e+00 \n",
      "     5    0 +     1.933161869561388e-01    5.260401387177983e+00    5.260401387177983e+00 \n",
      "\u001b[95mConstants.warn():  Reset global array GBL_WARNINGS.\u001b[39m \n"
     ]
    },
    {
     "data": {
      "text/plain": [
       "Dict{String,Any} with 1 entry:\n",
       "  \"CI multiplet\" => name:        CI multiplet:  …"
      ]
     },
     "execution_count": 13,
     "metadata": {},
     "output_type": "execute_result"
    }
   ],
   "source": [
    "wd = generate(wc, output=true)"
   ]
  },
  {
   "cell_type": "markdown",
   "metadata": {},
   "source": [
    "In this case, the outcome::Dict{String,Any} describes the requested (ground configuration) multiplet with the levels:"
   ]
  },
  {
   "cell_type": "code",
   "execution_count": 14,
   "metadata": {
    "scrolled": true
   },
   "outputs": [
    {
     "data": {
      "text/plain": [
       "5-element Array{Level,1}:\n",
       " Level: J = 2, M = 2, parity = plus, index = 1 \n",
       "energy:         -74.84030990301846  \n",
       "relativeOcc:    0.0  \n",
       "hasStateRep:    true  \n",
       "basis:           (level.basis)  \n",
       "mc:             [0.0, 0.0, 0.572421, 0.0, 0.81996]  \n",
       "   \n",
       " Level: J = 1, M = 1, parity = plus, index = 2 \n",
       "energy:         -74.83958197648447  \n",
       "relativeOcc:    0.0  \n",
       "hasStateRep:    true  \n",
       "basis:           (level.basis)  \n",
       "mc:             [0.0, 1.0, 0.0, 0.0, 0.0]  \n",
       "            \n",
       " Level: J = 0, M = 0, parity = plus, index = 3 \n",
       "energy:         -74.83926015247478  \n",
       "relativeOcc:    0.0  \n",
       "hasStateRep:    true  \n",
       "basis:           (level.basis)  \n",
       "mc:             [-0.813494, 0.0, 0.0, 0.581573, 0.0]  \n",
       " \n",
       " Level: J = 2, M = 2, parity = plus, index = 4 \n",
       "energy:         -74.76281511712232  \n",
       "relativeOcc:    0.0  \n",
       "hasStateRep:    true  \n",
       "basis:           (level.basis)  \n",
       "mc:             [0.0, 0.0, 0.81996, 0.0, -0.572421]  \n",
       "  \n",
       " Level: J = 0, M = 0, parity = plus, index = 5 \n",
       "energy:         -74.64699371606233  \n",
       "relativeOcc:    0.0  \n",
       "hasStateRep:    true  \n",
       "basis:           (level.basis)  \n",
       "mc:             [-0.581573, 0.0, 0.0, -0.813494, 0.0]  \n"
      ]
     },
     "execution_count": 14,
     "metadata": {},
     "output_type": "execute_result"
    }
   ],
   "source": [
    "levels     = wd[\"CI multiplet\"].levels"
   ]
  },
  {
   "cell_type": "code",
   "execution_count": null,
   "metadata": {},
   "outputs": [],
   "source": []
  },
  {
   "cell_type": "markdown",
   "metadata": {},
   "source": [
    "# **This nootebook is still under construction !!!**"
   ]
  },
  {
   "cell_type": "code",
   "execution_count": null,
   "metadata": {},
   "outputs": [],
   "source": []
  }
 ],
 "metadata": {
  "@webio": {
   "lastCommId": null,
   "lastKernelId": null
  },
  "kernelspec": {
   "display_name": "Julia 1.0.3",
   "language": "julia",
   "name": "julia-1.0"
  },
  "language_info": {
   "file_extension": ".jl",
   "mimetype": "application/julia",
   "name": "julia",
   "version": "1.0.3"
  }
 },
 "nbformat": 4,
 "nbformat_minor": 4
}
