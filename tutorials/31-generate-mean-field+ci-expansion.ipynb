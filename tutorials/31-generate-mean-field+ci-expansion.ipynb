{
 "cells": [
  {
   "cell_type": "markdown",
   "metadata": {},
   "source": [
    "# Generate a mean-field (orbital) and CI representation for the oxygen ground configuration"
   ]
  },
  {
   "cell_type": "code",
   "execution_count": 15,
   "metadata": {},
   "outputs": [],
   "source": [
    "using JAC"
   ]
  },
  {
   "cell_type": "markdown",
   "metadata": {},
   "source": [
    "Various *ab-initio* many-electron methods have been developed over the years to describe the level structure and properties of atoms and ions with -- more or less -- simple shell structures. These methods include configurations interaction (CI), many-body perturbation theory (MBPT), coupled-cluster (CC) theory, correlation potential (CP), the multiconfigurational Dirac-Hartree Fock (MCDF) representations and are all typically based on some *self-consistent-field* (SCF).  In JAC, we distinguish between different representations of atomic wave (and Green) functions to facilitate the access to the different methods. For the sake of convinience, we here include also the concept of a self-consistent orbital set as perhaps the most basic *representation* of atomic levels and multiplets.\n",
    "\n",
    "In this tutorial, we shall show how one can easily generate a mean-field (orbital) representation as well as a CI representation, making use of these orbitals. We shall consider the levels of the $1s^2 2s^2 2p^4$ ground configuration of oxygen as a simple but typical example and shall later extent this concept to perform a CI expansion with (virtual) excitations into the $n=3$ shells.\n",
    "\n",
    "The computations of all *atomic representations* are controlled by the `struct Atomic.Representation` which is based on a name, nuclear model, (radial) grid as well as set of *reference configurations*. Let us first consider how such a representation is defined inernally:"
   ]
  },
  {
   "cell_type": "code",
   "execution_count": 2,
   "metadata": {},
   "outputs": [
    {
     "data": {
      "text/latex": [
       "\\texttt{struct  AtomicState.Representation}       ... a struct for defining an atomic state representation. Such representations often refer to approximate wave function approximations of         one or several levels but may concern also a mean-field basis (for some multiplet of some given configurations) or Green functions,         etc.\n",
       "\n",
       "\\begin{verbatim}\n",
       "+ name             ::String                      ... to assign a name to the given model.\n",
       "+ nuclearModel     ::Nuclear.Model               ... Model, charge and parameters of the nucleus.\n",
       "+ grid             ::Radial.Grid                 ... The radial grid to be used for the computation.\n",
       "+ refConfigs       ::Array{Configuration,1}      ... List of references configurations, at least 1.\n",
       "+ repType          ::AbstractRepresentationType  ... Specifies the particular representation.\n",
       "\\end{verbatim}\n",
       "\\rule{\\textwidth}{1pt}\n",
       "\\texttt{AtomicState.Representation()}  ... constructor for an 'empty' instance of the a variable::AtomicState.Representation\n",
       "\n"
      ],
      "text/markdown": [
       "`struct  AtomicState.Representation`       ... a struct for defining an atomic state representation. Such representations often refer to approximate wave function approximations of         one or several levels but may concern also a mean-field basis (for some multiplet of some given configurations) or Green functions,         etc.\n",
       "\n",
       "```\n",
       "+ name             ::String                      ... to assign a name to the given model.\n",
       "+ nuclearModel     ::Nuclear.Model               ... Model, charge and parameters of the nucleus.\n",
       "+ grid             ::Radial.Grid                 ... The radial grid to be used for the computation.\n",
       "+ refConfigs       ::Array{Configuration,1}      ... List of references configurations, at least 1.\n",
       "+ repType          ::AbstractRepresentationType  ... Specifies the particular representation.\n",
       "```\n",
       "\n",
       "---\n",
       "\n",
       "`AtomicState.Representation()`  ... constructor for an 'empty' instance of the a variable::AtomicState.Representation\n"
      ],
      "text/plain": [
       "  \u001b[36mstruct  AtomicState.Representation\u001b[39m ... a struct for defining an atomic state\n",
       "  representation. Such representations often refer to approximate wave\n",
       "  function approximations of one or several levels but may concern also a\n",
       "  mean-field basis (for some multiplet of some given configurations) or Green\n",
       "  functions, etc.\n",
       "\n",
       "\u001b[36m  + name             ::String                      ... to assign a name to the given model.\u001b[39m\n",
       "\u001b[36m  + nuclearModel     ::Nuclear.Model               ... Model, charge and parameters of the nucleus.\u001b[39m\n",
       "\u001b[36m  + grid             ::Radial.Grid                 ... The radial grid to be used for the computation.\u001b[39m\n",
       "\u001b[36m  + refConfigs       ::Array{Configuration,1}      ... List of references configurations, at least 1.\u001b[39m\n",
       "\u001b[36m  + repType          ::AbstractRepresentationType  ... Specifies the particular representation.\u001b[39m\n",
       "\n",
       "  ────────────────────────────────────────────────────────────────────────────\n",
       "\n",
       "  \u001b[36mAtomicState.Representation()\u001b[39m ... constructor for an 'empty' instance of the\n",
       "  a variable::AtomicState.Representation"
      ]
     },
     "execution_count": 2,
     "metadata": {},
     "output_type": "execute_result"
    }
   ],
   "source": [
    "? AtomicState.Representation"
   ]
  },
  {
   "cell_type": "markdown",
   "metadata": {},
   "source": [
    "The particular choice of an atomic representation is made by the `repType::AbstractRepresentationType` which presently may take the following parameters:"
   ]
  },
  {
   "cell_type": "code",
   "execution_count": 3,
   "metadata": {},
   "outputs": [
    {
     "data": {
      "text/latex": [
       "\\texttt{abstract type AtomicState.AbstractRepresentationType}      ... defines an abstract type and a number of data types to work with and distinguish different atomic representations; see also:\n",
       "\n",
       "\\begin{verbatim}\n",
       "+ struct MeanFieldBasis       ... to represent (and generate) a mean-field basis and, especially, a set of (mean-field) orbitals.\n",
       "+ struct CiExpansion          ... to represent (and generate) a configuration-interaction representation.\n",
       "+ struct RasExpansion         ... to represent (and generate) a restricted active-space representation.\n",
       "+ struct GreenFunction        ... to represent (and generate) an approximate (many-electron) Green functions.\n",
       "\\end{verbatim}\n"
      ],
      "text/markdown": [
       "`abstract type AtomicState.AbstractRepresentationType`      ... defines an abstract type and a number of data types to work with and distinguish different atomic representations; see also:\n",
       "\n",
       "```\n",
       "+ struct MeanFieldBasis       ... to represent (and generate) a mean-field basis and, especially, a set of (mean-field) orbitals.\n",
       "+ struct CiExpansion          ... to represent (and generate) a configuration-interaction representation.\n",
       "+ struct RasExpansion         ... to represent (and generate) a restricted active-space representation.\n",
       "+ struct GreenFunction        ... to represent (and generate) an approximate (many-electron) Green functions.\n",
       "```\n"
      ],
      "text/plain": [
       "  \u001b[36mabstract type AtomicState.AbstractRepresentationType\u001b[39m ... defines an abstract\n",
       "  type and a number of data types to work with and distinguish different\n",
       "  atomic representations; see also:\n",
       "\n",
       "\u001b[36m  + struct MeanFieldBasis       ... to represent (and generate) a mean-field basis and, especially, a set of (mean-field) orbitals.\u001b[39m\n",
       "\u001b[36m  + struct CiExpansion          ... to represent (and generate) a configuration-interaction representation.\u001b[39m\n",
       "\u001b[36m  + struct RasExpansion         ... to represent (and generate) a restricted active-space representation.\u001b[39m\n",
       "\u001b[36m  + struct GreenFunction        ... to represent (and generate) an approximate (many-electron) Green functions.\u001b[39m"
      ]
     },
     "execution_count": 3,
     "metadata": {},
     "output_type": "execute_result"
    }
   ],
   "source": [
    "?AtomicState.AbstractRepresentationType"
   ]
  },
  {
   "cell_type": "markdown",
   "metadata": {},
   "source": [
    "Since this is an *abstract type*, we must always specify on of the explicit types together with its parameters as, for instance, a `MeanFieldBasis`, and which is purely determined by its settings:"
   ]
  },
  {
   "cell_type": "code",
   "execution_count": 4,
   "metadata": {},
   "outputs": [
    {
     "name": "stdout",
     "output_type": "stream",
     "text": [
      "search: \u001b[0m\u001b[1mM\u001b[22m\u001b[0m\u001b[1me\u001b[22m\u001b[0m\u001b[1ma\u001b[22m\u001b[0m\u001b[1mn\u001b[22m\u001b[0m\u001b[1mF\u001b[22m\u001b[0m\u001b[1mi\u001b[22m\u001b[0m\u001b[1me\u001b[22m\u001b[0m\u001b[1ml\u001b[22m\u001b[0m\u001b[1md\u001b[22m\u001b[0m\u001b[1mB\u001b[22m\u001b[0m\u001b[1ma\u001b[22m\u001b[0m\u001b[1ms\u001b[22m\u001b[0m\u001b[1mi\u001b[22m\u001b[0m\u001b[1ms\u001b[22m\n",
      "\n"
     ]
    },
    {
     "data": {
      "text/latex": [
       "\\texttt{struct  AtomicState.MeanFieldBasis  <:  AbstractRepresentationType}       ... a struct to represent (and generate) a mean-field orbital basis.\n",
       "\n",
       "\\begin{verbatim}\n",
       "+ settings         ::AtomicState.MeanFieldSettings      ... Settings for the given mean-field orbital basis\n",
       "\\end{verbatim}\n"
      ],
      "text/markdown": [
       "`struct  AtomicState.MeanFieldBasis  <:  AbstractRepresentationType`       ... a struct to represent (and generate) a mean-field orbital basis.\n",
       "\n",
       "```\n",
       "+ settings         ::AtomicState.MeanFieldSettings      ... Settings for the given mean-field orbital basis\n",
       "```\n"
      ],
      "text/plain": [
       "  \u001b[36mstruct  AtomicState.MeanFieldBasis  <:  AbstractRepresentationType\u001b[39m ... a\n",
       "  struct to represent (and generate) a mean-field orbital basis.\n",
       "\n",
       "\u001b[36m  + settings         ::AtomicState.MeanFieldSettings      ... Settings for the given mean-field orbital basis\u001b[39m"
      ]
     },
     "execution_count": 4,
     "metadata": {},
     "output_type": "execute_result"
    }
   ],
   "source": [
    "?MeanFieldBasis"
   ]
  },
  {
   "cell_type": "code",
   "execution_count": 5,
   "metadata": {},
   "outputs": [
    {
     "data": {
      "text/latex": [
       "\\texttt{struct  AtomicState.MeanFieldSettings}       ... a struct for defining the settings for a mean-field basis (orbital) representation.\n",
       "\n",
       "\\begin{verbatim}\n",
       "+ scField           ::AbstractScField   \n",
       "    ... Specify the (mean) self-consistent field as DFSField() or HSField(); note that not all AbstractScField's \n",
       "        allowed here.\n",
       "\\end{verbatim}\n",
       "\\rule{\\textwidth}{1pt}\n",
       "\\texttt{AtomicState.MeanFieldSettings()}  ... constructor for setting the default values.\n",
       "\n"
      ],
      "text/markdown": [
       "`struct  AtomicState.MeanFieldSettings`       ... a struct for defining the settings for a mean-field basis (orbital) representation.\n",
       "\n",
       "```\n",
       "+ scField           ::AbstractScField   \n",
       "    ... Specify the (mean) self-consistent field as DFSField() or HSField(); note that not all AbstractScField's \n",
       "        allowed here.\n",
       "```\n",
       "\n",
       "---\n",
       "\n",
       "`AtomicState.MeanFieldSettings()`  ... constructor for setting the default values.\n"
      ],
      "text/plain": [
       "  \u001b[36mstruct  AtomicState.MeanFieldSettings\u001b[39m ... a struct for defining the settings\n",
       "  for a mean-field basis (orbital) representation.\n",
       "\n",
       "\u001b[36m  + scField           ::AbstractScField   \u001b[39m\n",
       "\u001b[36m      ... Specify the (mean) self-consistent field as DFSField() or HSField(); note that not all AbstractScField's \u001b[39m\n",
       "\u001b[36m          allowed here.\u001b[39m\n",
       "\n",
       "  ────────────────────────────────────────────────────────────────────────────\n",
       "\n",
       "  \u001b[36mAtomicState.MeanFieldSettings()\u001b[39m ... constructor for setting the default\n",
       "  values."
      ]
     },
     "execution_count": 5,
     "metadata": {},
     "output_type": "execute_result"
    }
   ],
   "source": [
    "?AtomicState.MeanFieldSettings"
   ]
  },
  {
   "cell_type": "markdown",
   "metadata": {},
   "source": [
    "With this background, we can now readily compute a mean-field (orbital) basis for the oxygen ground configuration by:"
   ]
  },
  {
   "cell_type": "code",
   "execution_count": 6,
   "metadata": {},
   "outputs": [
    {
     "data": {
      "text/plain": [
       "scField:                  JAC.Basics.DFSField()  \n"
      ]
     },
     "execution_count": 6,
     "metadata": {},
     "output_type": "execute_result"
    }
   ],
   "source": [
    "name        = \"Oxygen 1s^2 2s^2 2p^4 ground configuration\"\n",
    "refConfigs  = [Configuration(\"[He] 2s^2 2p^4\")]\n",
    "mfSettings  = MeanFieldSettings()"
   ]
  },
  {
   "cell_type": "code",
   "execution_count": 7,
   "metadata": {},
   "outputs": [
    {
     "data": {
      "text/plain": [
       "Atomic representation:   Oxygen 1s^2 2s^2 2p^4 ground configuration for Z = 8.0 and with reference configurations: \n",
       "   1s^2 2s^2 2p^4 ,  \n",
       "representation type:   Mean-field orbital basis for a JAC.Basics.DFSField() SCF field:\n",
       "  \n",
       "nuclearModel:          Fermi nuclear model for Z = 8.0 with mass = 16.32, radius R = 2.6905393158807427 fm and nuclear spin I = 0, dipole moment mu = 0.0 and quadrupole moment Q = 0.0.  \n",
       "grid:                  Radial grid:  rnt = 2.0e-6,  h = 0.05,  hp = 0.0,  NoPoints = 390, orderL = 7,  orderS = 8,  nsL = 62,  nsS = 63,  mesh = JAC.Radial.MeshGL(), ...  \n",
       "r:    [0.0, 2.1327222417313414e-8, 1.0831589243866754e-7]  ...  [842.0309659341384, 887.7807607122426, 916.0708642050175]\n",
       "wr:   [0.0, 5.426294735206922e-8, 1.1721545273972872e-7]  ...  [52.03864525138362, 38.12033553502283, 17.64717630510041]\n",
       "t:    [0.0, 0.0, 0.0]  ...  [923.0068172348905, 923.0068172348905, 923.0068172348905]  \n"
      ]
     },
     "execution_count": 7,
     "metadata": {},
     "output_type": "execute_result"
    }
   ],
   "source": [
    "wa          = Representation(name, Nuclear.Model(8.), Radial.Grid(true), refConfigs, MeanFieldBasis(mfSettings) )"
   ]
  },
  {
   "cell_type": "markdown",
   "metadata": {},
   "source": [
    "In JAC, an atomic representation is always *generate*'d:"
   ]
  },
  {
   "cell_type": "code",
   "execution_count": 8,
   "metadata": {
    "scrolled": true
   },
   "outputs": [
    {
     "name": "stdout",
     "output_type": "stream",
     "text": [
      "\n",
      "... in performSCF ...\n",
      ">> include Configuration: 1s_1/2^2 2s_1/2^2 2p_1/2^0 2p_3/2^4 \n",
      ">> include Configuration: 1s_1/2^2 2s_1/2^2 2p_1/2^1 2p_3/2^3 \n",
      ">> include Configuration: 1s_1/2^2 2s_1/2^2 2p_1/2^2 2p_3/2^2 \n",
      "(Re-) Define a new standard subshell list.\n",
      "Start SCF process with hydrogenic orbitals.\n",
      ">> (Re-) Define a storage array for various B-spline matrices:\n",
      "Nuclear model = Fermi nuclear model for Z = 8.0 with mass = 16.32, radius R = 2.6905393158807427 fm and nuclear spin I = 0, dipole moment mu = 0.0 and quadrupole moment Q = 0.0. \n",
      "Generate hydrogenic orbital for subshell 1s_1/2 \n",
      "  -----------------------------------------------------------------------------\n",
      "   Index    Subshell     Energies [a.u.]    Dirac-E  [a.u.]     Delta-E / |E|    \n",
      "  -----------------------------------------------------------------------------\n",
      "      1      1s_1/2      -3.20273042e+01    -3.20273113e+01    +2.20440699e-07    \n",
      "      2      2s_1/2      -8.00853682e+00    -8.00853549e+00    -1.65610681e-07    \n",
      "      3      3s_1/2      -3.55862827e+00    -3.55858988e+00    -1.07877102e-05    \n",
      "      4      4s_1/2      -2.00168885e+00    -2.00138659e+00    -1.51003488e-04    \n",
      "      5      5s_1/2      -1.28191257e+00    -1.28074263e+00    -9.12656627e-04    \n",
      "      6      6s_1/2      -9.40366410e-01    -8.89331258e-01    -5.42715607e-02    \n",
      "      7      7s_1/2      -8.78130209e-01    -6.53345470e-01    -2.55981103e-01    \n",
      "      8      8s_1/2      -6.43786054e-01    -5.00193270e-01    -2.23044260e-01    \n",
      "      9      9s_1/2      -4.74634645e-01    -3.95199023e-01    -1.67361616e-01    \n",
      "     10     10s_1/2      -3.46676805e-01    -3.20100995e-01    -7.66587474e-02    \n",
      "     11     11s_1/2      -2.50272004e-01    -2.64539246e-01    +5.70069471e-02    \n",
      "     12     12s_1/2      -1.79230698e-01    -2.22281456e-01    +2.40197456e-01    \n",
      "     13     13s_1/2      -1.27732565e-01    -1.89395939e-01    +4.82753750e-01    \n",
      "     14     14s_1/2      -9.08050409e-02    -1.63302962e-01    +7.98390927e-01    \n",
      "     15     15s_1/2      -6.45465311e-02    -1.42252953e-01    +1.20388223e+00    \n",
      "     16     16s_1/2      -4.60359995e-02    -1.25025404e-01    +1.71581818e+00    \n",
      "     17     17s_1/2      -3.31385151e-02    -1.10747884e-01    +2.34196882e+00    \n",
      "     18     18s_1/2      -2.42914102e-02    -9.87833713e-02    +3.06659681e+00    \n",
      "     19     19s_1/2      -1.83238687e-02    -8.86579472e-02    +3.83838585e+00    \n",
      "     20     20s_1/2      -1.43521372e-02    -8.00131343e-02    +4.57499788e+00    \n",
      "     21     21s_1/2      -1.17303009e-02    -7.25737252e-02    +5.18685965e+00    \n",
      "     22     22s_1/2      -1.00061733e-02    -6.61256053e-02    +5.60848089e+00    \n",
      "     23     23s_1/2      -8.77680705e-03    -6.05001731e-02    +5.89318710e+00    \n",
      "     24     24s_1/2      +6.92418940e-01    -5.55632056e-02    +1.08024507e+00    \n",
      "     25     25s_1/2      +6.89823017e+00    -5.12067770e-02    +1.00742318e+00    \n",
      "     26     26s_1/2      +2.39951331e+01    -4.73433100e-02    +1.00197304e+00    \n",
      "     27     27s_1/2      +6.49739704e+01    -4.39011397e-02    +1.00067567e+00    \n",
      "     28     28s_1/2      +1.56207338e+02    -4.08211662e-02    +1.00026133e+00    \n",
      "     29     29s_1/2      +3.50511813e+02    -3.80543007e-02    +1.00010857e+00    \n",
      "     30     30s_1/2      +7.51514119e+02    -3.55594976e-02    +1.00004732e+00    \n",
      "     31     31s_1/2      +1.55478271e+03    -3.33022229e-02    +1.00002142e+00    \n",
      "     32     32s_1/2      +3.10625342e+03    -3.12532533e-02    +1.00001006e+00    \n",
      "     33     33s_1/2      +5.96107713e+03    -2.93877252e-02    +1.00000493e+00    \n",
      "     34     34s_1/2      +1.09097058e+04    -2.76843770e-02    +1.00000254e+00    \n",
      "     35     35s_1/2      +1.89720572e+04    -2.61249405e-02    +1.00000138e+00    \n",
      "     36     36s_1/2      +3.14349080e+04    -2.46936490e-02    +1.00000079e+00    \n",
      "     37     37s_1/2      +5.00012000e+04    -2.33768375e-02    +1.00000047e+00    \n",
      "     38     38s_1/2      +7.70434396e+04    -2.21626149e-02    +1.00000029e+00    \n",
      "      :       :    \n",
      "     57     57s_1/2      +8.45241487e+07    -9.84976604e-03    +1.00000000e+00    \n",
      "     58     58s_1/2      +1.28254798e+08    -9.51303737e-03    +1.00000000e+00    \n",
      "     59     59s_1/2      +2.02569131e+08    -9.19328544e-03    +1.00000000e+00    \n",
      "     60     60s_1/2      +3.44988814e+08    -8.88938793e-03    +1.00000000e+00    \n",
      "     61     61s_1/2      +6.89833505e+08    -8.60031375e-03    +1.00000000e+00    \n",
      "     62     62s_1/2      +2.35260046e+09    -8.32511428e-03    +1.00000000e+00    \n",
      "  -----------------------------------------------------------------------------\n",
      ">> Use hydrogenic orbital from this symmetry block also for 1s_1/2.\n",
      ">> Use hydrogenic orbital from this symmetry block also for 2s_1/2.\n",
      "Generate hydrogenic orbital for subshell 2p_1/2 \n",
      "  -----------------------------------------------------------------------------\n",
      "   Index    Subshell     Energies [a.u.]    Dirac-E  [a.u.]     Delta-E / |E|    \n",
      "  -----------------------------------------------------------------------------\n",
      "      1      2p_1/2      -8.00853601e+00    -8.00853549e+00    -6.37555579e-08    \n",
      "      2      3p_1/2      -3.55860409e+00    -3.55858988e+00    -3.99221172e-06    \n",
      "      3      4p_1/2      -2.00147807e+00    -2.00138659e+00    -4.57038622e-05    \n",
      "      4      5p_1/2      -1.28092897e+00    -1.28074263e+00    -1.45472266e-04    \n",
      "      5      6p_1/2      -8.89790248e-01    -8.89331258e-01    -5.15841324e-04    \n",
      "      6      7p_1/2      -6.87612973e-01    -6.53345470e-01    -4.98354520e-02    \n",
      "      7      8p_1/2      -6.27052017e-01    -5.00193270e-01    -2.02309766e-01    \n",
      "      8      9p_1/2      -4.69896629e-01    -3.95199023e-01    -1.58966038e-01    \n",
      "      9     10p_1/2      -3.44084614e-01    -3.20100995e-01    -6.97026777e-02    \n",
      "     10     11p_1/2      -2.48893757e-01    -2.64539246e-01    +6.28601134e-02    \n",
      "     11     12p_1/2      -1.78521826e-01    -2.22281456e-01    +2.45122014e-01    \n",
      "     12     13p_1/2      -1.27374054e-01    -1.89395939e-01    +4.86927145e-01    \n",
      "     13     14p_1/2      -9.06253010e-02    -1.63302962e-01    +8.01957729e-01    \n",
      "     14     15p_1/2      -6.44568103e-02    -1.42252953e-01    +1.20694993e+00    \n",
      "     15     16p_1/2      -4.59911753e-02    -1.25025404e-01    +1.71846508e+00    \n",
      "     16     17p_1/2      -3.31158686e-02    -1.10747884e-01    +2.34425425e+00    \n",
      "     17     18p_1/2      -2.42796393e-02    -9.87833713e-02    +3.06856832e+00    \n",
      "     18     19p_1/2      -1.83174428e-02    -8.86579472e-02    +3.84008321e+00    \n",
      "     19     20p_1/2      -1.43483777e-02    -8.00131343e-02    +4.57645862e+00    \n",
      "     20     21p_1/2      -1.17279000e-02    -7.25737252e-02    +5.18812622e+00    \n",
      "     21     22p_1/2      -1.00044747e-02    -6.61256053e-02    +5.60960294e+00    \n",
      "     22     23p_1/2      -8.77542986e-03    -6.05001731e-02    +5.89426890e+00    \n",
      "     23     24p_1/2      +7.92385329e-01    -5.55632056e-02    +1.07012145e+00    \n",
      "     24     25p_1/2      +6.18856881e+00    -5.12067770e-02    +1.00827441e+00    \n",
      "     25     26p_1/2      +2.00323691e+01    -4.73433100e-02    +1.00236334e+00    \n",
      "     26     27p_1/2      +5.16949303e+01    -4.39011397e-02    +1.00084923e+00    \n",
      "     27     28p_1/2      +1.20376998e+02    -4.08211662e-02    +1.00033911e+00    \n",
      "     28     29p_1/2      +2.64825767e+02    -3.80543007e-02    +1.00014370e+00    \n",
      "     29     30p_1/2      +5.61685993e+02    -3.55594976e-02    +1.00006331e+00    \n",
      "     30     31p_1/2      +1.15800602e+03    -3.33022229e-02    +1.00002876e+00    \n",
      "     31     32p_1/2      +2.32193142e+03    -3.12532533e-02    +1.00001346e+00    \n",
      "     32     33p_1/2      +4.50441671e+03    -2.93877252e-02    +1.00000652e+00    \n",
      "     33     34p_1/2      +8.38413044e+03    -2.76843770e-02    +1.00000330e+00    \n",
      "     34     35p_1/2      +1.48723685e+04    -2.61249405e-02    +1.00000176e+00    \n",
      "     35     36p_1/2      +2.51198875e+04    -2.46936490e-02    +1.00000098e+00    \n",
      "     36     37p_1/2      +4.06110148e+04    -2.33768375e-02    +1.00000058e+00    \n",
      "     37     38p_1/2      +6.33717867e+04    -2.21626149e-02    +1.00000035e+00    \n",
      "     38     39p_1/2      +9.62675065e+04    -2.10405951e-02    +1.00000022e+00    \n",
      "      :       :    \n",
      "     56     57p_1/2      +7.03183133e+07    -9.84976604e-03    +1.00000000e+00    \n",
      "     57     58p_1/2      +1.05468426e+08    -9.51303737e-03    +1.00000000e+00    \n",
      "     58     59p_1/2      +1.63178244e+08    -9.19328544e-03    +1.00000000e+00    \n",
      "     59     60p_1/2      +2.67010258e+08    -8.88938793e-03    +1.00000000e+00    \n",
      "     60     61p_1/2      +4.88028483e+08    -8.60031375e-03    +1.00000000e+00    \n",
      "     61     62p_1/2      +1.16225731e+09    -8.32511428e-03    +1.00000000e+00    \n",
      "  -----------------------------------------------------------------------------\n",
      ">> Use hydrogenic orbital from this symmetry block also for 2p_1/2.\n",
      "Generate hydrogenic orbital for subshell 2p_3/2 \n",
      "  -----------------------------------------------------------------------------\n",
      "   Index    Subshell     Energies [a.u.]    Dirac-E  [a.u.]     Delta-E / |E|    \n",
      "  -----------------------------------------------------------------------------\n",
      "      1      2p_3/2      -8.00170572e+00    -8.00170477e+00    -1.18555360e-07    \n",
      "      2      3p_3/2      -3.55658725e+00    -3.55656582e+00    -6.02483425e-06    \n",
      "      3      4p_3/2      -2.00087444e+00    -2.00053275e+00    -1.70767052e-04    \n",
      "      4      5p_3/2      -1.28393445e+00    -1.28030549e+00    -2.82643063e-03    \n",
      "      5      6p_3/2      -1.10731145e+00    -8.89078304e-01    -1.97083799e-01    \n",
      "      6      7p_3/2      -8.82898753e-01    -6.53186184e-01    -2.60179968e-01    \n",
      "      7      8p_3/2      -6.42035668e-01    -5.00086566e-01    -2.21092238e-01    \n",
      "      8      9p_3/2      -4.72846936e-01    -3.95124084e-01    -1.64372116e-01    \n",
      "      9     10p_3/2      -3.45467244e-01    -3.20046366e-01    -7.35840474e-02    \n",
      "     10     11p_3/2      -2.49576769e-01    -2.64498204e-01    +5.97869553e-02    \n",
      "     11     12p_3/2      -1.78853731e-01    -2.22249843e-01    +2.42634651e-01    \n",
      "     12     13p_3/2      -1.27532856e-01    -1.89371076e-01    +4.84880689e-01    \n",
      "     13     14p_3/2      -9.07004251e-02    -1.63283055e-01    +8.00245748e-01    \n",
      "     14     15p_3/2      -6.44919393e-02    -1.42236768e-01    +1.20549683e+00    \n",
      "     15     16p_3/2      -4.60073674e-02    -1.25012068e-01    +1.71721847e+00    \n",
      "     16     17p_3/2      -3.31232296e-02    -1.10736766e-01    +2.34317540e+00    \n",
      "     17     18p_3/2      -2.42829548e-02    -9.87740055e-02    +3.06762712e+00    \n",
      "     18     19p_3/2      -1.83189184e-02    -8.86499838e-02    +3.83925863e+00    \n",
      "     19     20p_3/2      -1.43490128e-02    -8.00063068e-02    +4.57573597e+00    \n",
      "     20     21p_3/2      -1.17281543e-02    -7.25678273e-02    +5.18748912e+00    \n",
      "     21     22p_3/2      -1.00045674e-02    -6.61204757e-02    +5.60902895e+00    \n",
      "     22     23p_3/2      -8.77547894e-03    -6.04956840e-02    +5.89371878e+00    \n",
      "     23     24p_3/2      +2.52111654e-01    -5.55592546e-02    +1.22037559e+00    \n",
      "     24     25p_3/2      +4.91568951e+00    -5.12032814e-02    +1.01041630e+00    \n",
      "     25     26p_3/2      +1.73444096e+01    -4.73402024e-02    +1.00272942e+00    \n",
      "     26     27p_3/2      +4.61579428e+01    -4.38983648e-02    +1.00095105e+00    \n",
      "     27     28p_3/2      +1.09113039e+02    -4.08186781e-02    +1.00037410e+00    \n",
      "     28     29p_3/2      +2.42152168e+02    -3.80520613e-02    +1.00015714e+00    \n",
      "     29     30p_3/2      +5.16629764e+02    -3.55574747e-02    +1.00006883e+00    \n",
      "     30     31p_3/2      +1.07017059e+03    -3.33003895e-02    +1.00003112e+00    \n",
      "     31     32p_3/2      +2.15578128e+03    -3.12515865e-02    +1.00001450e+00    \n",
      "     32     33p_3/2      +4.20392615e+03    -2.93862054e-02    +1.00000699e+00    \n",
      "     33     34p_3/2      +7.87138200e+03    -2.76829874e-02    +1.00000352e+00    \n",
      "     34     35p_3/2      +1.40495924e+04    -2.61236666e-02    +1.00000186e+00    \n",
      "     35     36p_3/2      +2.38661963e+04    -2.46924784e-02    +1.00000103e+00    \n",
      "     36     37p_3/2      +3.87669514e+04    -2.33757592e-02    +1.00000060e+00    \n",
      "     37     38p_3/2      +6.07139006e+04    -2.21616196e-02    +1.00000037e+00    \n",
      "     38     39p_3/2      +9.24756666e+04    -2.10396744e-02    +1.00000023e+00    \n",
      "      :       :    \n",
      "     57     58p_3/2      +1.00194511e+08    -9.51275745e-03    +1.00000000e+00    \n",
      "     58     59p_3/2      +1.53865889e+08    -9.19301952e-03    +1.00000000e+00    \n",
      "     59     60p_3/2      +2.48334099e+08    -8.88913509e-03    +1.00000000e+00    \n",
      "     60     61p_3/2      +4.40967649e+08    -8.60007314e-03    +1.00000000e+00    \n",
      "     61     62p_3/2      +9.65468693e+08    -8.32488513e-03    +1.00000000e+00    \n",
      "     62     63p_3/2      +3.73450075e+09    -8.06269719e-03    +1.00000000e+00    \n",
      "  -----------------------------------------------------------------------------\n",
      ">> Use hydrogenic orbital from this symmetry block also for 2p_3/2.\n",
      "(Re-) Define the standard grid with 390 grid points.\n",
      ">>  for various B-spline matrices:\n",
      "\n",
      "Iteration 1 for symmetries ... \n",
      "  1s_1/2::  en [a.u.] = -1.4209733e+01;   self-cons'cy = 3.8535e-01  [1.0000e+02 for sym-block kappa = -1]\n",
      "  2s_1/2::  en [a.u.] = -4.1871244e-03;   self-cons'cy = 9.9895e-01  [1.0000e+02 for sym-block kappa = -1]\n",
      "  2p_1/2::  en [a.u.] = -3.8071894e-01;   self-cons'cy = 9.0924e-01  [1.0000e+02 for sym-block kappa = 1]\n",
      "  2p_3/2::  en [a.u.] = -7.8270804e-01;   self-cons'cy = 8.2180e-01  [1.0000e+02 for sym-block kappa = -2]\n",
      "\n",
      "Iteration 2 for symmetries ... \n",
      "  1s_1/2::  en [a.u.] = -2.0724872e+01;   self-cons'cy = 1.8650e-01  [1.3793e+00 for sym-block kappa = -1]\n",
      "  2s_1/2::  en [a.u.] = -1.9264791e+00;   self-cons'cy = 9.9566e-01  [1.3793e+00 for sym-block kappa = -1]\n",
      "  2p_1/2::  en [a.u.] = -2.8300254e-01;   self-cons'cy = 1.4723e-01  [1.0115e+00 for sym-block kappa = 1]\n",
      "  2p_3/2::  en [a.u.] = -1.5120967e-01;   self-cons'cy = 6.7618e-01  [1.1207e+01 for sym-block kappa = -2]\n",
      "\n",
      "Iteration 3 for symmetries ... \n",
      "  1s_1/2::  en [a.u.] = -1.8681245e+01;   self-cons'cy = 5.1861e-02  [1.8002e+00 for sym-block kappa = -1]\n",
      "  2s_1/2::  en [a.u.] = -8.5476683e-01;   self-cons'cy = 3.8534e-01  [1.8002e+00 for sym-block kappa = -1]\n",
      "  2p_1/2::  en [a.u.] = -4.2636434e-01;   self-cons'cy = 2.0210e-01  [2.0210e-01 for sym-block kappa = 1]\n",
      "  2p_3/2::  en [a.u.] = -3.7833879e-01;   self-cons'cy = 4.2891e-01  [4.2891e-01 for sym-block kappa = -2]\n",
      "\n",
      "Iteration 4 for symmetries ... \n",
      "  1s_1/2::  en [a.u.] = -1.8477817e+01;   self-cons'cy = 5.4745e-03  [1.0023e+00 for sym-block kappa = -1]\n",
      "  2s_1/2::  en [a.u.] = -7.2652312e-01;   self-cons'cy = 8.1101e-02  [1.0023e+00 for sym-block kappa = -1]\n",
      "  2p_1/2::  en [a.u.] = -2.1956656e-01;   self-cons'cy = 3.2015e-01  [3.2015e-01 for sym-block kappa = 1]\n",
      "  2p_3/2::  en [a.u.] = -2.8692664e-01;   self-cons'cy = 1.3741e-01  [1.3741e-01 for sym-block kappa = -2]\n",
      "\n",
      "Iteration 5 for symmetries ... \n",
      "  1s_1/2::  en [a.u.] = -1.8833735e+01;   self-cons'cy = 9.5391e-03  [1.0110e+00 for sym-block kappa = -1]\n",
      "  2s_1/2::  en [a.u.] = -8.7407933e-01;   self-cons'cy = 9.2188e-02  [1.0110e+00 for sym-block kappa = -1]\n",
      "  2p_1/2::  en [a.u.] = -3.1025547e-01;   self-cons'cy = 1.7117e-01  [1.7117e-01 for sym-block kappa = 1]\n",
      "  2p_3/2::  en [a.u.] = -2.7227479e-01;   self-cons'cy = 2.6201e-02  [2.6201e-02 for sym-block kappa = -2]\n",
      "\n",
      "Iteration 6 for symmetries ... \n",
      "  1s_1/2::  en [a.u.] = -1.8688312e+01;   self-cons'cy = 3.8757e-03  [7.2010e-01 for sym-block kappa = -1]\n",
      "  2s_1/2::  en [a.u.] = -8.1676176e-01;   self-cons'cy = 3.3899e-02  [7.2010e-01 for sym-block kappa = -1]\n",
      "  2p_1/2::  en [a.u.] = -2.9606252e-01;   self-cons'cy = 2.3408e-02  [2.3408e-02 for sym-block kappa = 1]\n",
      "  2p_3/2::  en [a.u.] = -2.9927127e-01;   self-cons'cy = 4.7234e-02  [4.7234e-02 for sym-block kappa = -2]\n",
      "\n",
      "Iteration 7 for symmetries ... \n",
      "  1s_1/2::  en [a.u.] = -1.8684739e+01;   self-cons'cy = 9.5586e-05  [5.7229e-01 for sym-block kappa = -1]\n",
      "  2s_1/2::  en [a.u.] = -8.1261958e-01;   self-cons'cy = 2.5422e-03  [5.7229e-01 for sym-block kappa = -1]\n",
      "  2p_1/2::  en [a.u.] = -2.8142958e-01;   self-cons'cy = 2.5339e-02  [2.5339e-02 for sym-block kappa = 1]\n",
      "  2p_3/2::  en [a.u.] = -2.8557051e-01;   self-cons'cy = 2.3426e-02  [2.3426e-02 for sym-block kappa = -2]\n",
      "\n",
      "Iteration 8 for symmetries ... \n",
      "  1s_1/2::  en [a.u.] = -1.8722081e+01;   self-cons'cy = 9.9826e-04  [6.3558e-01 for sym-block kappa = -1]\n",
      "  2s_1/2::  en [a.u.] = -8.2855737e-01;   self-cons'cy = 9.7112e-03  [6.3558e-01 for sym-block kappa = -1]\n",
      "  2p_1/2::  en [a.u.] = -2.9319538e-01;   self-cons'cy = 2.0476e-02  [2.0476e-02 for sym-block kappa = 1]\n",
      "  2p_3/2::  en [a.u.] = -2.8750830e-01;   self-cons'cy = 3.3814e-03  [3.3814e-03 for sym-block kappa = -2]\n",
      "\n",
      "Iteration 9 for symmetries ... \n",
      "  1s_1/2::  en [a.u.] = -1.8699832e+01;   self-cons'cy = 5.9453e-04  [2.5725e-01 for sym-block kappa = -1]\n",
      "  2s_1/2::  en [a.u.] = -8.1964574e-01;   self-cons'cy = 5.4069e-03  [2.5725e-01 for sym-block kappa = -1]\n",
      "  2p_1/2::  en [a.u.] = -2.8943418e-01;   self-cons'cy = 6.4556e-03  [6.4556e-03 for sym-block kappa = 1]\n",
      "  2p_3/2::  en [a.u.] = -2.8943571e-01;   self-cons'cy = 3.3407e-03  [3.3407e-03 for sym-block kappa = -2]\n",
      "\n",
      "Iteration 10 for symmetries ... \n",
      "  1s_1/2::  en [a.u.] = -1.8704709e+01;   self-cons'cy = 1.3038e-04  [2.1285e-02 for sym-block kappa = -1]\n",
      "  2s_1/2::  en [a.u.] = -8.2135016e-01;   self-cons'cy = 1.0386e-03  [2.1285e-02 for sym-block kappa = -1]\n",
      "  2p_1/2::  en [a.u.] = -2.8894638e-01;   self-cons'cy = 8.4339e-04  [8.4339e-04 for sym-block kappa = 1]\n",
      "  2p_3/2::  en [a.u.] = -2.8781178e-01;   self-cons'cy = 2.8132e-03  [2.8132e-03 for sym-block kappa = -2]\n",
      "\n",
      "Iteration 11 for symmetries ... \n",
      "  1s_1/2::  en [a.u.] = -1.8706896e+01;   self-cons'cy = 5.8451e-05  [5.3391e-02 for sym-block kappa = -1]\n",
      "  2s_1/2::  en [a.u.] = -8.2237315e-01;   self-cons'cy = 6.2236e-04  [5.3391e-02 for sym-block kappa = -1]\n",
      "  2p_1/2::  en [a.u.] = -2.9011170e-01;   self-cons'cy = 2.0124e-03  [2.0124e-03 for sym-block kappa = 1]\n",
      "  2p_3/2::  en [a.u.] = -2.8834522e-01;   self-cons'cy = 9.2587e-04  [9.2587e-04 for sym-block kappa = -2]\n",
      "\n",
      "Iteration 12 for symmetries ... \n",
      "  1s_1/2::  en [a.u.] = -1.8704442e+01;   self-cons'cy = 6.5598e-05  [3.6999e-02 for sym-block kappa = -1]\n",
      "  2s_1/2::  en [a.u.] = -8.2135770e-01;   self-cons'cy = 6.1777e-04  [3.6999e-02 for sym-block kappa = -1]\n",
      "  2p_1/2::  en [a.u.] = -2.8951807e-01;   self-cons'cy = 1.0241e-03  [1.0241e-03 for sym-block kappa = 1]\n",
      "  2p_3/2::  en [a.u.] = -2.8839932e-01;   self-cons'cy = 9.3801e-05  [9.3801e-05 for sym-block kappa = -2]\n",
      "\n",
      "Iteration 13 for symmetries ... \n",
      "  1s_1/2::  en [a.u.] = -1.8705419e+01;   self-cons'cy = 2.6114e-05  [1.0206e-02 for sym-block kappa = -1]\n",
      "  2s_1/2::  en [a.u.] = -8.2173438e-01;   self-cons'cy = 2.2925e-04  [1.0206e-02 for sym-block kappa = -1]\n",
      "  2p_1/2::  en [a.u.] = -2.8960660e-01;   self-cons'cy = 1.5286e-04  [1.5286e-04 for sym-block kappa = 1]\n",
      "  2p_3/2::  en [a.u.] = -2.8824218e-01;   self-cons'cy = 2.7251e-04  [2.7251e-04 for sym-block kappa = -2]\n",
      "\n",
      "Iteration 14 for symmetries ... \n",
      "  1s_1/2::  en [a.u.] = -1.8705398e+01;   self-cons'cy = 5.5808e-07  [2.5225e-03 for sym-block kappa = -1]\n",
      "  2s_1/2::  en [a.u.] = -8.2174236e-01;   self-cons'cy = 4.8566e-06  [2.5225e-03 for sym-block kappa = -1]\n",
      "  2p_1/2::  en [a.u.] = -2.8969094e-01;   self-cons'cy = 1.4560e-04  [1.4560e-04 for sym-block kappa = 1]\n",
      "  2p_3/2::  en [a.u.] = -2.8832484e-01;   self-cons'cy = 1.4337e-04  [1.4337e-04 for sym-block kappa = -2]\n",
      "\n",
      "Iteration 15 for symmetries ... \n",
      "  1s_1/2::  en [a.u.] = -1.8705183e+01;   self-cons'cy = 5.7402e-06  [3.8942e-03 for sym-block kappa = -1]\n",
      "  2s_1/2::  en [a.u.] = -8.2164983e-01;   self-cons'cy = 5.6302e-05  [3.8942e-03 for sym-block kappa = -1]\n",
      "  2p_1/2::  en [a.u.] = -2.8961921e-01;   self-cons'cy = 1.2382e-04  [1.2382e-04 for sym-block kappa = 1]\n",
      "  2p_3/2::  en [a.u.] = -2.8831129e-01;   self-cons'cy = 2.3504e-05  [2.3504e-05 for sym-block kappa = -2]\n",
      "\n",
      "Iteration 16 for symmetries ... \n",
      "  1s_1/2::  en [a.u.] = -1.8705318e+01;   self-cons'cy = 3.6097e-06  [1.7747e-03 for sym-block kappa = -1]\n",
      "  2s_1/2::  en [a.u.] = -8.2170407e-01;   self-cons'cy = 3.3001e-05  [1.7747e-03 for sym-block kappa = -1]\n",
      "  2p_1/2::  en [a.u.] = -2.8964306e-01;   self-cons'cy = 4.1174e-05  [4.1174e-05 for sym-block kappa = 1]\n",
      "  2p_3/2::  en [a.u.] = -2.8830027e-01;   self-cons'cy = 1.9107e-05  [1.9107e-05 for sym-block kappa = -2]\n",
      "\n",
      "Iteration 17 for symmetries ... \n",
      "  1s_1/2::  en [a.u.] = -1.8705286e+01;   self-cons'cy = 8.5264e-07  [1.6870e-04 for sym-block kappa = -1]\n",
      "  2s_1/2::  en [a.u.] = -8.2169272e-01;   self-cons'cy = 6.9048e-06  [1.6870e-04 for sym-block kappa = -1]\n",
      "  2p_1/2::  en [a.u.] = -2.8964530e-01;   self-cons'cy = 3.8511e-06  [3.8511e-06 for sym-block kappa = 1]\n",
      "  2p_3/2::  en [a.u.] = -2.8831010e-01;   self-cons'cy = 1.7049e-05  [1.7049e-05 for sym-block kappa = -2]\n",
      "\n",
      "Iteration 18 for symmetries ... \n",
      "  1s_1/2::  en [a.u.] = -1.8705274e+01;   self-cons'cy = 3.2296e-07  [3.1043e-04 for sym-block kappa = -1]\n",
      "  2s_1/2::  en [a.u.] = -8.2168698e-01;   self-cons'cy = 3.4921e-06  [3.1043e-04 for sym-block kappa = -1]\n",
      "  2p_1/2::  en [a.u.] = -2.8963839e-01;   self-cons'cy = 1.1913e-05  [1.1913e-05 for sym-block kappa = 1]\n",
      "  2p_3/2::  en [a.u.] = -2.8830670e-01;   self-cons'cy = 5.8880e-06  [5.8880e-06 for sym-block kappa = -2]\n",
      "\n",
      "Iteration 19 for symmetries ... \n",
      "  1s_1/2::  en [a.u.] = -1.8705289e+01;   self-cons'cy = 3.9411e-07  [2.2742e-04 for sym-block kappa = -1]\n",
      "  2s_1/2::  en [a.u.] = -8.2169310e-01;   self-cons'cy = 3.7229e-06  [2.2742e-04 for sym-block kappa = -1]\n",
      "  2p_1/2::  en [a.u.] = -2.8964206e-01;   self-cons'cy = 6.3250e-06  [6.3250e-06 for sym-block kappa = 1]\n",
      "  2p_3/2::  en [a.u.] = -2.8830648e-01;   self-cons'cy = 3.9759e-07  [5.1402e-07 for sym-block kappa = -2]\n",
      "\n",
      "Iteration 20 for symmetries ... \n",
      "  1s_1/2::  en [a.u.] = -1.8705283e+01;   self-cons'cy = 1.6374e-07  [6.5591e-05 for sym-block kappa = -1]\n",
      "  2s_1/2::  en [a.u.] = -8.2169072e-01;   self-cons'cy = 1.4441e-06  [6.5591e-05 for sym-block kappa = -1]\n",
      "  2p_1/2::  en [a.u.] = -2.8964144e-01;   self-cons'cy = 1.0620e-06  [1.0620e-06 for sym-block kappa = 1]\n",
      "  2p_3/2::  en [a.u.] = -2.8830740e-01;   self-cons'cy = 1.6108e-06  [1.6108e-06 for sym-block kappa = -2]\n",
      "\n",
      "Iteration 21 for symmetries ... \n",
      "  1s_1/2::  en [a.u.] = -1.8705283e+01;   self-cons'cy = 7.5531e-09  [1.3242e-05 for sym-block kappa = -1]\n",
      "  2s_1/2::  en [a.u.] = -8.2169074e-01;   self-cons'cy = 9.1296e-09  [1.3242e-05 for sym-block kappa = -1]\n",
      "  2p_1/2::  en [a.u.] = -2.8964096e-01;   self-cons'cy = 8.2782e-07  [8.2782e-07 for sym-block kappa = 1]\n",
      "  2p_3/2::  en [a.u.] = -2.8830689e-01;   self-cons'cy = 8.8386e-07  [8.8386e-07 for sym-block kappa = -2]\n",
      "\n",
      "Iteration 22 for symmetries ... \n",
      "  1s_1/2::  en [a.u.] = -1.8705285e+01;   self-cons'cy = 3.3516e-08  [2.3292e-05 for sym-block kappa = -1]\n",
      "  2s_1/2::  en [a.u.] = -8.2169128e-01;   self-cons'cy = 3.3043e-07  [2.3292e-05 for sym-block kappa = -1]\n",
      "  2p_1/2::  en [a.u.] = -2.8964140e-01;   self-cons'cy = 7.4880e-07  [9.0436e-07 for sym-block kappa = 1]\n",
      "  2p_3/2::  en [a.u.] = -2.8830699e-01;   self-cons'cy = 1.6097e-07  [4.8270e-07 for sym-block kappa = -2]\n",
      "\n",
      "Iteration 23 for symmetries ... \n",
      "  1s_1/2::  en [a.u.] = -1.8705284e+01;   self-cons'cy = 2.2072e-08  [1.0975e-05 for sym-block kappa = -1]\n",
      "  2s_1/2::  en [a.u.] = -8.2169095e-01;   self-cons'cy = 2.0241e-07  [1.0975e-05 for sym-block kappa = -1]\n",
      "  2p_1/2::  en [a.u.] = -2.8964125e-01;   self-cons'cy = 2.6127e-07  [5.1417e-07 for sym-block kappa = 1]\n",
      "  2p_3/2::  en [a.u.] = -2.8830705e-01;   self-cons'cy = 1.0807e-07  [7.7887e-07 for sym-block kappa = -2]\n",
      "\n",
      "Iteration 24 for symmetries ... \n",
      "  1s_1/2::  en [a.u.] = -1.8705284e+01;   self-cons'cy = 5.5802e-09  [1.3209e-06 for sym-block kappa = -1]\n",
      "  2s_1/2::  en [a.u.] = -8.2169103e-01;   self-cons'cy = 4.5804e-08  [1.3209e-06 for sym-block kappa = -1]\n",
      "  2p_1/2::  en [a.u.] = -2.8964124e-01;   self-cons'cy = 1.5848e-08  [9.7321e-08 for sym-block kappa = 1]\n",
      "  2p_3/2::  en [a.u.] = -2.8830699e-01;   self-cons'cy = 1.0295e-07  [2.6348e-07 for sym-block kappa = -2]\n",
      "Maximum number of SCF iterations = 24 is reached ... computations proceed.\n",
      "\u001b[95mConstants.warn():  Reset global array GBL_WARNINGS.\u001b[39m \n"
     ]
    },
    {
     "data": {
      "text/plain": [
       "Dict{String,Any} with 1 entry:\n",
       "  \"mean-field basis\" => Atomic basis:  5 CSF defined for 8 elecrons.…"
      ]
     },
     "execution_count": 8,
     "metadata": {},
     "output_type": "execute_result"
    }
   ],
   "source": [
    "wb = generate(wa, output=true)"
   ]
  },
  {
   "cell_type": "markdown",
   "metadata": {},
   "source": [
    "As seen from the last line of this printout, the outcome::Dict{String,Any} just contains the requested basis and, hence, set of orbital:"
   ]
  },
  {
   "cell_type": "code",
   "execution_count": 9,
   "metadata": {},
   "outputs": [
    {
     "data": {
      "text/plain": [
       "Dict{Subshell,Orbital} with 4 entries:\n",
       "  2p_3/2 => \n",
       "  2p_1/2 => \n",
       "  1s_1/2 => \n",
       "  2s_1/2 => "
      ]
     },
     "execution_count": 9,
     "metadata": {},
     "output_type": "execute_result"
    }
   ],
   "source": [
    "orbitals    = wb[\"mean-field basis\"].orbitals"
   ]
  },
  {
   "cell_type": "markdown",
   "metadata": {},
   "source": [
    "We can apply this *mean-field basis* in order to generate a CI representations for all levels of the $1s^2 2s^2 2p^4$ ground configuration of oxygen; to this end, we first define the corresponding *settings* and (no further) *excitations*,"
   ]
  },
  {
   "cell_type": "code",
   "execution_count": 10,
   "metadata": {},
   "outputs": [
    {
     "data": {
      "text/plain": [
       "eeInteractionCI:          CoulombInteraction()  \n",
       "selectLevelsCI:           false  \n",
       "selectedLevelsCI:         Int64[]  \n",
       "selectSymmetriesCI:       false  \n",
       "selectedSymmetriesCI:     LevelSymmetry[]  \n"
      ]
     },
     "execution_count": 10,
     "metadata": {},
     "output_type": "execute_result"
    }
   ],
   "source": [
    "ciSettings  = CiSettings(CoulombInteraction(), false, Int64[], false, LevelSymmetry[] )"
   ]
  },
  {
   "cell_type": "code",
   "execution_count": 11,
   "metadata": {},
   "outputs": [
    {
     "data": {
      "text/plain": [
       "\n",
       "CI or RAS step with 0 (explicitly) frozen shell(s): Shell[]  ... and virtual excitations\n"
      ]
     },
     "execution_count": 11,
     "metadata": {},
     "output_type": "execute_result"
    }
   ],
   "source": [
    "excitations = RasStep()"
   ]
  },
  {
   "cell_type": "markdown",
   "metadata": {},
   "source": [
    "and before we follow very similar lines as above:"
   ]
  },
  {
   "cell_type": "code",
   "execution_count": 12,
   "metadata": {
    "scrolled": true
   },
   "outputs": [
    {
     "data": {
      "text/plain": [
       "Atomic representation:   Oxygen 1s^2 2s^2 2p^4 ground configuration for Z = 8.0 and with reference configurations: \n",
       "   1s^2 2s^2 2p^4 ,  \n",
       "representation type:   CI expansion with (additional) excitations:\n",
       "\n",
       "CI or RAS step with 0 (explicitly) frozen shell(s): Shell[]  ... and virtual excitations\n",
       "  \n",
       "... and the current settings:\n",
       "eeInteractionCI:          CoulombInteraction()  \n",
       "selectLevelsCI:           false  \n",
       "selectedLevelsCI:         Int64[]  \n",
       "selectSymmetriesCI:       false  \n",
       "selectedSymmetriesCI:     LevelSymmetry[]  \n",
       "  \n",
       "  \n",
       "nuclearModel:          Fermi nuclear model for Z = 8.0 with mass = 16.32, radius R = 2.6905393158807427 fm and nuclear spin I = 0, dipole moment mu = 0.0 and quadrupole moment Q = 0.0.  \n",
       "grid:                  Radial grid:  rnt = 2.0e-6,  h = 0.05,  hp = 0.0,  NoPoints = 390, orderL = 7,  orderS = 8,  nsL = 62,  nsS = 63,  mesh = JAC.Radial.MeshGL(), ...  \n",
       "r:    [0.0, 2.1327222417313414e-8, 1.0831589243866754e-7]  ...  [842.0309659341384, 887.7807607122426, 916.0708642050175]\n",
       "wr:   [0.0, 5.426294735206922e-8, 1.1721545273972872e-7]  ...  [52.03864525138362, 38.12033553502283, 17.64717630510041]\n",
       "t:    [0.0, 0.0, 0.0]  ...  [923.0068172348905, 923.0068172348905, 923.0068172348905]  \n"
      ]
     },
     "execution_count": 12,
     "metadata": {},
     "output_type": "execute_result"
    }
   ],
   "source": [
    "wc          = Representation(name, Nuclear.Model(8.), Radial.Grid(true), refConfigs, \n",
    "                             CiExpansion(orbitals, excitations, ciSettings) )"
   ]
  },
  {
   "cell_type": "code",
   "execution_count": 13,
   "metadata": {
    "scrolled": true
   },
   "outputs": [
    {
     "name": "stdout",
     "output_type": "stream",
     "text": [
      "*** Level symmetries = LevelSymmetry[0 +, 1 +, 2 +] \n",
      ">> include Configuration: 1s^2 2s^2 2p^4 \n",
      "(Re-) Define a new standard subshell list.\n",
      "Construct a basis with 5 CSF for J^P = LevelSymmetry[0 +, 1 +, 2 +] with 4 subshells: 1s_1/2  2s_1/2 ...  2p_1/2  2p_3/2\n",
      "Compute CI matrix of dimension 2 x 2 for the symmetry 2^+ ...  reset GBL_Storage_XL_Breit storage ...\n",
      ">> performCI() ...   0.307279 seconds (372.51 k allocations: 17.409 MiB, 4.38% gc time)\n",
      "   ... done.\n",
      "Compute CI matrix of dimension 1 x 1 for the symmetry 1^+ ...  reset GBL_Storage_XL_Breit storage ...\n",
      ">> performCI() ...   0.050249 seconds (29.39 k allocations: 615.266 KiB)\n",
      "   ... done.\n",
      "Compute CI matrix of dimension 2 x 2 for the symmetry 0^+ ...  reset GBL_Storage_XL_Breit storage ...\n",
      ">> performCI() ...   0.082944 seconds (51.25 k allocations: 1.003 MiB)\n",
      "   ... done.\n",
      "\n",
      "  Eigenenergies:\n",
      "\n",
      "  Level  J Parity          Hartrees                    eV                   [eV]\n",
      "\n",
      "     1    2 +     -7.484772847056554e+01    -2.036710432132703e+03    -2.036710432132703e+03 \n",
      "     2    1 +     -7.484696582602183e+01    -2.036689679517628e+03    -2.036689679517628e+03 \n",
      "     3    0 +     -7.484659207066748e+01    -2.036679509116404e+03    -2.036679509116404e+03 \n",
      "     4    2 +     -7.477019426937139e+01    -2.034600619054257e+03    -2.034600619054257e+03 \n",
      "     5    0 +     -7.465447030636336e+01    -2.031451609625081e+03    -2.031451609625081e+03 \n",
      "\n",
      "  Energy of each level relative to immediately lower level:\n",
      "\n",
      "  Level  J Parity          Hartrees                    eV                   [eV]\n",
      "\n",
      "     2    1 +     7.626445437125540e-04    2.075261507500907e-02    2.075261507500907e-02 \n",
      "     3    0 +     3.737553543459171e-04    1.017040122414863e-02    1.017040122414863e-02 \n",
      "     4    2 +     7.639780129609619e-02    2.078890062147330e+00    2.078890062147330e+00 \n",
      "     5    0 +     1.157239630080227e-01    3.149009429175505e+00    3.149009429175505e+00 \n",
      "\n",
      "  Energy of each level relative to lowest level:\n",
      "\n",
      "  Level  J Parity          Hartrees                    eV                   [eV]\n",
      "\n",
      "     2    1 +     7.626445437125540e-04    2.075261507500907e-02    2.075261507500907e-02 \n",
      "     3    0 +     1.136399898058471e-03    3.092301629915770e-02    3.092301629915770e-02 \n",
      "     4    2 +     7.753420119415466e-02    2.109813078446487e+00    2.109813078446487e+00 \n",
      "     5    0 +     1.932581642021773e-01    5.258822507621993e+00    5.258822507621993e+00 \n",
      "\u001b[95mConstants.warn():  Reset global array GBL_WARNINGS.\u001b[39m \n"
     ]
    },
    {
     "data": {
      "text/plain": [
       "Dict{String,Any} with 1 entry:\n",
       "  \"CI multiplet\" => name:        CI multiplet:  …"
      ]
     },
     "execution_count": 13,
     "metadata": {},
     "output_type": "execute_result"
    }
   ],
   "source": [
    "wd = generate(wc, output=true)"
   ]
  },
  {
   "cell_type": "markdown",
   "metadata": {},
   "source": [
    "In this case, the outcome::Dict{String,Any} describes the requested (ground configuration) multiplet with the levels:"
   ]
  },
  {
   "cell_type": "code",
   "execution_count": 14,
   "metadata": {
    "scrolled": true
   },
   "outputs": [
    {
     "data": {
      "text/plain": [
       "5-element Array{Level,1}:\n",
       " Level: J = 2, M = 2, parity = plus, index = 1 \n",
       "energy:         -74.84772847056554  \n",
       "relativeOcc:    0.0  \n",
       "hasStateRep:    true  \n",
       "basis:           (level.basis)  \n",
       "mc:             [0.0, 0.0, 0.5715605783373692, 0.0, 0.8205598730687799]  \n",
       "\n",
       " Level: J = 1, M = 1, parity = plus, index = 2 \n",
       "energy:         -74.84696582602183  \n",
       "relativeOcc:    0.0  \n",
       "hasStateRep:    true  \n",
       "basis:           (level.basis)  \n",
       "mc:             [0.0, 1.0, 0.0, 0.0, 0.0]  \n",
       "\n",
       " Level: J = 0, M = 0, parity = plus, index = 3 \n",
       "energy:         -74.84659207066748  \n",
       "relativeOcc:    0.0  \n",
       "hasStateRep:    true  \n",
       "basis:           (level.basis)  \n",
       "mc:             [-0.8130771722819322, 0.0, 0.0, 0.5821559171854367, 0.0]  \n",
       "\n",
       " Level: J = 2, M = 2, parity = plus, index = 4 \n",
       "energy:         -74.77019426937139  \n",
       "relativeOcc:    0.0  \n",
       "hasStateRep:    true  \n",
       "basis:           (level.basis)  \n",
       "mc:             [0.0, 0.0, 0.8205598730687803, 0.0, -0.5715605783373685]  \n",
       "\n",
       " Level: J = 0, M = 0, parity = plus, index = 5 \n",
       "energy:         -74.65447030636336  \n",
       "relativeOcc:    0.0  \n",
       "hasStateRep:    true  \n",
       "basis:           (level.basis)  \n",
       "mc:             [-0.5821559171854367, 0.0, 0.0, -0.8130771722819322, 0.0]  \n"
      ]
     },
     "execution_count": 14,
     "metadata": {},
     "output_type": "execute_result"
    }
   ],
   "source": [
    "levels     = wd[\"CI multiplet\"].levels"
   ]
  },
  {
   "cell_type": "code",
   "execution_count": null,
   "metadata": {},
   "outputs": [],
   "source": []
  },
  {
   "cell_type": "markdown",
   "metadata": {},
   "source": [
    "# **This nootebook is still under construction !!!**"
   ]
  },
  {
   "cell_type": "code",
   "execution_count": null,
   "metadata": {},
   "outputs": [],
   "source": []
  }
 ],
 "metadata": {
  "@webio": {
   "lastCommId": null,
   "lastKernelId": null
  },
  "kernelspec": {
   "display_name": "Julia 1.4.2",
   "language": "julia",
   "name": "julia-1.4"
  },
  "language_info": {
   "file_extension": ".jl",
   "mimetype": "application/julia",
   "name": "julia",
   "version": "1.4.2"
  }
 },
 "nbformat": 4,
 "nbformat_minor": 4
}
