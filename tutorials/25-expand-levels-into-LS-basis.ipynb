{
 "cells": [
  {
   "cell_type": "markdown",
   "metadata": {},
   "source": [
    "# Expand the atomic state functions in a LS-coupled basis"
   ]
  },
  {
   "cell_type": "code",
   "execution_count": 1,
   "metadata": {},
   "outputs": [],
   "source": [
    "using JAC"
   ]
  },
  {
   "cell_type": "markdown",
   "metadata": {},
   "source": [
    "\n",
    "In atomic spectroscopy, the (standard) LSJ-notation of levels is frequently applied for classifying the low-lying level structures of atoms or ions. This generally requires a *unitary transformation* from a jjJ --> LSJ-coupled basis which critically depend on the shell-structure of the atoms. Since a lack of providing a fast and proper spectroscopic notation from relativistic structure calculations may hamper the interpretation and analysis of many (computed) results, `JAC` readily provides such transformation (though presently restricted to levels with **not more than two open non-relativistic shells**).\n",
    "\n",
    "Let us first consider the low-lying $1s^2 2s 2p\\; ^{1,3}P$ levels of beryllium-like ions, whose LSJ-decompositions quickly changes from a nearly pure LSJ-coupling for neutral beryllium as the nuclear charge increases along the isoelectronic sequence. We can see this, for instance, by considering the $^1P_1 - ^3P_1$ mixing for these ions.\n",
    "\n",
    "Most easily, the transformation of atomic states from a jjJ-coupled into a LSJ-coupled basis is made after the Hamiltonian matrix has been diagonalized. In particular, such a jjJ --> LSJ transformation is performed if we set `LSjj.Settings(true)` in `Asf.Settings(...)`.\n",
    "\n",
    "For this, let us first briefly recall the definion of `AsfSettings(..)`"
   ]
  },
  {
   "cell_type": "code",
   "execution_count": 2,
   "metadata": {},
   "outputs": [
    {
     "name": "stdout",
     "output_type": "stream",
     "text": [
      "search: \u001b[0m\u001b[1mA\u001b[22m\u001b[0m\u001b[1ms\u001b[22m\u001b[0m\u001b[1mf\u001b[22m\u001b[0m\u001b[1mS\u001b[22m\u001b[0m\u001b[1me\u001b[22m\u001b[0m\u001b[1mt\u001b[22m\u001b[0m\u001b[1mt\u001b[22m\u001b[0m\u001b[1mi\u001b[22m\u001b[0m\u001b[1mn\u001b[22m\u001b[0m\u001b[1mg\u001b[22m\u001b[0m\u001b[1ms\u001b[22m\n",
      "\n"
     ]
    },
    {
     "data": {
      "text/latex": [
       "\\texttt{struct  ManyElectron.AsfSettings}       ... a struct for defining the settings for the atomic state functions, i.e. the self-consistent-field (SCF)          and CI computations\n",
       "\n",
       "\\begin{verbatim}\n",
       "+ generateScf          ::Bool               ... True, if a SCF need to be generated, and false otherwise (frozen orbitals).\n",
       "+ breitScf             ::Bool               ... True, if Breit interaction is to be included into the SCF computations.\n",
       "+ methodScf            ::AbstractScField    ... Specify the SCF method, for instance, Basics.ALField(), etc.\n",
       "+ startScf             ::String             ... Specify how the start orbitals are obtained [\"hydrogenic\", \"fromOrbitals\"].\n",
       "+ startOrbitals        ::Dict{Subshell, Orbital}  ... List of start orbitals; hydrogenic orbitals are used \n",
       "                                                      if not found in this list.\n",
       "+ levelsScf            ::Array{Int64,1}     ... Levels on which the optimization need to be carried out.\n",
       "+ maxIterationsScf     ::Int64              ... maximum number of SCF iterations\n",
       "+ accuracyScf          ::Float64            ... convergence criterion for the SCF field.\n",
       "+ shellSequenceScf     ::Array{Subshell,1}  ... Sequence of subshells to be optimized.\n",
       "+ frozenSubshells      ::Array{Subshell,1}  ... Sequence of subshells to be kept frozen.\n",
       "\n",
       "+ coulombCI            ::Bool               ... logical flag to include Coulomb interactions.\n",
       "+ breitCI              ::Bool               ... logical flag to include Breit interactions.\n",
       "+ qedModel             ::AbstractQedModel   ... model for estimating QED corrections {NoneQed(), QedPetersburg(), QedSydney()}.\n",
       "+ methodCI             ::String             ... method for diagonalizing the matrix.\n",
       "+ jjLS                 ::LSjjSettings       ... settings to control a jj-LS transformation of atomic level, if requested.\n",
       "\n",
       "+ selectLevelsCI       ::Bool                          ... true, if specific level (number)s have been selected.\n",
       "+ selectedLevelsCI     ::Array{Int64,1}                ... Level number that have been selected.\n",
       "+ selectSymmetriesCI   ::Bool                          ... true, if specific level symmetries have been selected.\n",
       "+ selectedSymmetriesCI ::Array{LevelSymmetry,1}        ... Level symmetries that have been selected.\n",
       "\\end{verbatim}\n",
       "\\rule{\\textwidth}{1pt}\n",
       "\\texttt{ManyElectron.AsfSettings()}  ... constructor for setting the default values.\n",
       "\n",
       "\\rule{\\textwidth}{1pt}\n",
       "\\texttt{ManyElectron.AsfSettings(settings::AsfSettings;}\n",
       "\n",
       "\\begin{verbatim}\n",
       "        generateScf=..,       breitScf=..,            methodScf=..,          startScf=..,               startOrbitals=..,  \n",
       "        levelsScf=..,         maxIterationsScf=..,    accuracyScf=..,        shellSequenceScf=..,       frozenSubshells=..,         \n",
       "        coulombCI=..,         breitCI=..,             qedModel=..,           methodCI=..,               jjLS=..,  \n",
       "        selectLevelsCI=..,    selectedLevelsCI=..,    selectSymmetriesCI=.., selectedSymmetriesCI=..,   printout::Bool=false)\n",
       "... constructor for re-defining a settings::AsfSettings.\n",
       "\\end{verbatim}\n"
      ],
      "text/markdown": [
       "`struct  ManyElectron.AsfSettings`       ... a struct for defining the settings for the atomic state functions, i.e. the self-consistent-field (SCF)          and CI computations\n",
       "\n",
       "```\n",
       "+ generateScf          ::Bool               ... True, if a SCF need to be generated, and false otherwise (frozen orbitals).\n",
       "+ breitScf             ::Bool               ... True, if Breit interaction is to be included into the SCF computations.\n",
       "+ methodScf            ::AbstractScField    ... Specify the SCF method, for instance, Basics.ALField(), etc.\n",
       "+ startScf             ::String             ... Specify how the start orbitals are obtained [\"hydrogenic\", \"fromOrbitals\"].\n",
       "+ startOrbitals        ::Dict{Subshell, Orbital}  ... List of start orbitals; hydrogenic orbitals are used \n",
       "                                                      if not found in this list.\n",
       "+ levelsScf            ::Array{Int64,1}     ... Levels on which the optimization need to be carried out.\n",
       "+ maxIterationsScf     ::Int64              ... maximum number of SCF iterations\n",
       "+ accuracyScf          ::Float64            ... convergence criterion for the SCF field.\n",
       "+ shellSequenceScf     ::Array{Subshell,1}  ... Sequence of subshells to be optimized.\n",
       "+ frozenSubshells      ::Array{Subshell,1}  ... Sequence of subshells to be kept frozen.\n",
       "\n",
       "+ coulombCI            ::Bool               ... logical flag to include Coulomb interactions.\n",
       "+ breitCI              ::Bool               ... logical flag to include Breit interactions.\n",
       "+ qedModel             ::AbstractQedModel   ... model for estimating QED corrections {NoneQed(), QedPetersburg(), QedSydney()}.\n",
       "+ methodCI             ::String             ... method for diagonalizing the matrix.\n",
       "+ jjLS                 ::LSjjSettings       ... settings to control a jj-LS transformation of atomic level, if requested.\n",
       "\n",
       "+ selectLevelsCI       ::Bool                          ... true, if specific level (number)s have been selected.\n",
       "+ selectedLevelsCI     ::Array{Int64,1}                ... Level number that have been selected.\n",
       "+ selectSymmetriesCI   ::Bool                          ... true, if specific level symmetries have been selected.\n",
       "+ selectedSymmetriesCI ::Array{LevelSymmetry,1}        ... Level symmetries that have been selected.\n",
       "```\n",
       "\n",
       "---\n",
       "\n",
       "`ManyElectron.AsfSettings()`  ... constructor for setting the default values.\n",
       "\n",
       "---\n",
       "\n",
       "`ManyElectron.AsfSettings(settings::AsfSettings;`\n",
       "\n",
       "```\n",
       "        generateScf=..,       breitScf=..,            methodScf=..,          startScf=..,               startOrbitals=..,  \n",
       "        levelsScf=..,         maxIterationsScf=..,    accuracyScf=..,        shellSequenceScf=..,       frozenSubshells=..,         \n",
       "        coulombCI=..,         breitCI=..,             qedModel=..,           methodCI=..,               jjLS=..,  \n",
       "        selectLevelsCI=..,    selectedLevelsCI=..,    selectSymmetriesCI=.., selectedSymmetriesCI=..,   printout::Bool=false)\n",
       "... constructor for re-defining a settings::AsfSettings.\n",
       "```\n"
      ],
      "text/plain": [
       "  \u001b[36mstruct  ManyElectron.AsfSettings\u001b[39m ... a struct for defining the settings for\n",
       "  the atomic state functions, i.e. the self-consistent-field (SCF) and CI\n",
       "  computations\n",
       "\n",
       "\u001b[36m  + generateScf          ::Bool               ... True, if a SCF need to be generated, and false otherwise (frozen orbitals).\u001b[39m\n",
       "\u001b[36m  + breitScf             ::Bool               ... True, if Breit interaction is to be included into the SCF computations.\u001b[39m\n",
       "\u001b[36m  + methodScf            ::AbstractScField    ... Specify the SCF method, for instance, Basics.ALField(), etc.\u001b[39m\n",
       "\u001b[36m  + startScf             ::String             ... Specify how the start orbitals are obtained [\"hydrogenic\", \"fromOrbitals\"].\u001b[39m\n",
       "\u001b[36m  + startOrbitals        ::Dict{Subshell, Orbital}  ... List of start orbitals; hydrogenic orbitals are used \u001b[39m\n",
       "\u001b[36m                                                        if not found in this list.\u001b[39m\n",
       "\u001b[36m  + levelsScf            ::Array{Int64,1}     ... Levels on which the optimization need to be carried out.\u001b[39m\n",
       "\u001b[36m  + maxIterationsScf     ::Int64              ... maximum number of SCF iterations\u001b[39m\n",
       "\u001b[36m  + accuracyScf          ::Float64            ... convergence criterion for the SCF field.\u001b[39m\n",
       "\u001b[36m  + shellSequenceScf     ::Array{Subshell,1}  ... Sequence of subshells to be optimized.\u001b[39m\n",
       "\u001b[36m  + frozenSubshells      ::Array{Subshell,1}  ... Sequence of subshells to be kept frozen.\u001b[39m\n",
       "\u001b[36m  \u001b[39m\n",
       "\u001b[36m  + coulombCI            ::Bool               ... logical flag to include Coulomb interactions.\u001b[39m\n",
       "\u001b[36m  + breitCI              ::Bool               ... logical flag to include Breit interactions.\u001b[39m\n",
       "\u001b[36m  + qedModel             ::AbstractQedModel   ... model for estimating QED corrections {NoneQed(), QedPetersburg(), QedSydney()}.\u001b[39m\n",
       "\u001b[36m  + methodCI             ::String             ... method for diagonalizing the matrix.\u001b[39m\n",
       "\u001b[36m  + jjLS                 ::LSjjSettings       ... settings to control a jj-LS transformation of atomic level, if requested.\u001b[39m\n",
       "\u001b[36m  \u001b[39m\n",
       "\u001b[36m  + selectLevelsCI       ::Bool                          ... true, if specific level (number)s have been selected.\u001b[39m\n",
       "\u001b[36m  + selectedLevelsCI     ::Array{Int64,1}                ... Level number that have been selected.\u001b[39m\n",
       "\u001b[36m  + selectSymmetriesCI   ::Bool                          ... true, if specific level symmetries have been selected.\u001b[39m\n",
       "\u001b[36m  + selectedSymmetriesCI ::Array{LevelSymmetry,1}        ... Level symmetries that have been selected.\u001b[39m\n",
       "\n",
       "  ────────────────────────────────────────────────────────────────────────────\n",
       "\n",
       "  \u001b[36mManyElectron.AsfSettings()\u001b[39m ... constructor for setting the default values.\n",
       "\n",
       "  ────────────────────────────────────────────────────────────────────────────\n",
       "\n",
       "  \u001b[36mManyElectron.AsfSettings(settings::AsfSettings;\u001b[39m\n",
       "\n",
       "\u001b[36m          generateScf=..,       breitScf=..,            methodScf=..,          startScf=..,               startOrbitals=..,  \u001b[39m\n",
       "\u001b[36m          levelsScf=..,         maxIterationsScf=..,    accuracyScf=..,        shellSequenceScf=..,       frozenSubshells=..,         \u001b[39m\n",
       "\u001b[36m          coulombCI=..,         breitCI=..,             qedModel=..,           methodCI=..,               jjLS=..,  \u001b[39m\n",
       "\u001b[36m          selectLevelsCI=..,    selectedLevelsCI=..,    selectSymmetriesCI=.., selectedSymmetriesCI=..,   printout::Bool=false)\u001b[39m\n",
       "\u001b[36m  ... constructor for re-defining a settings::AsfSettings.\u001b[39m"
      ]
     },
     "execution_count": 2,
     "metadata": {},
     "output_type": "execute_result"
    }
   ],
   "source": [
    "? AsfSettings"
   ]
  },
  {
   "cell_type": "markdown",
   "metadata": {},
   "source": [
    "and define it as follows:"
   ]
  },
  {
   "cell_type": "code",
   "execution_count": 3,
   "metadata": {},
   "outputs": [
    {
     "data": {
      "text/plain": [
       "generateScf:          true  \n",
       "breitScf:             false  \n",
       "methodScf:            JAC.Basics.DFSField()  \n",
       "startScf:             hydrogenic  \n",
       "startOrbitals:        Dict{Subshell,Orbital}()  \n",
       "levelsScf:            [1]  \n",
       "maxIterationsScf:     20  \n",
       "accuracyScf:          1.0e-6  \n",
       "shellSequenceScf:     Subshell[]  \n",
       "frozenSubshells:      Subshell[]  \n",
       "coulombCI:            true  \n",
       "breitCI:              false  \n",
       "qedModel :            NoneQed()  \n",
       "methodCI:             eigen  \n",
       "jjLS :                true  \n",
       "selectLevelsCI:       false  \n",
       "selectedLevelsCI:     Int64[]  \n",
       "selectSymmetriesCI:   false  \n",
       "selectedSymmetriesCI: LevelSymmetry[]  \n"
      ]
     },
     "execution_count": 3,
     "metadata": {},
     "output_type": "execute_result"
    }
   ],
   "source": [
    "asfSettings = AsfSettings(AsfSettings(); generateScf=true, maxIterationsScf=20, jjLS=LSjjSettings(true))"
   ]
  },
  {
   "cell_type": "markdown",
   "metadata": {},
   "source": [
    "With these settings, we can calculate the five lowest levels of neutral beryllium due to the $1s^2 (2s^2 + 2s 2p)$ configurations, and which includes the $^1P_1 - ^3P_1$ levels."
   ]
  },
  {
   "cell_type": "code",
   "execution_count": null,
   "metadata": {
    "scrolled": true
   },
   "outputs": [],
   "source": [
    "wa = Atomic.Computation(Atomic.Computation(), name=\"jj-LS level transformation\", \n",
    "                        grid=JAC.Radial.Grid(true), nuclearModel=Nuclear.Model(4.); \n",
    "                        configs=[Configuration(\"[He] 2s^2\"), Configuration(\"[He] 2s 2p\")],  \n",
    "                        asfSettings=asfSettings )\n",
    "perform(wa)"
   ]
  },
  {
   "cell_type": "markdown",
   "metadata": {},
   "source": [
    "\n",
    "Apart from the successfull SCF iteration, the final part of this output shows the LS-expansion of all selected levels. While, in these simple computations, the $2s^2\\; ^1S_0$ and the $2s 2p\\; ^3P_{0,2}$ must be pure, configuation mixing will generally affect the two $2s 2p\\; ^{1,3}P_1$ already in this single-configurations approximation. For neutral beryllium, however, this mixing is so *small* that both these levels appear basically *pure* in LSJ notation.\n",
    "\n",
    "We can repeat analogue computations for beryllium-like argon ($Z=18$) and xenon ($Z=54$), with focus especially to the corresponding LSJ-expansions:"
   ]
  },
  {
   "cell_type": "code",
   "execution_count": null,
   "metadata": {
    "scrolled": true
   },
   "outputs": [],
   "source": [
    "wa = Atomic.Computation(wa, nuclearModel=Nuclear.Model(18.))\n",
    "perform(wa)"
   ]
  },
  {
   "cell_type": "code",
   "execution_count": null,
   "metadata": {
    "scrolled": true
   },
   "outputs": [],
   "source": [
    "wa = Atomic.Computation(wa, nuclearModel=Nuclear.Model(54.))\n",
    "perform(wa)"
   ]
  },
  {
   "cell_type": "markdown",
   "metadata": {},
   "source": [
    "From the last two computations, we see that relative contribution of the $^3P_1$ (non-relativistic LSJ) configuration state of the $2s 2p\\; ^{3}P_1$ level drops from 1.00 ($Z=4$) to 0.85 ($Z=18$) to 0.76 ($Z=54$), and similarly also for the $2s 2p\\; ^{1}P_1$ level. This change in non-relativistic LSJ decomposition is also the main reason why the $2s 2p\\; ^{3}P_1 - 2s^2\\; ^1S_0$ (intercombination) line is very week, when compared with the $2s 2p\\; ^{1}P_1 - 2s^2\\; ^1S_0$ resonance line, for neutral beryllium but become comparable to each other for medium and heavy elements. The transition strength of all these transitions arise from (resonance) decay within the singlett system, while the $2s 2p\\; ^{3}P$ represent the lowest term (levels) of the triplett system.\n",
    "\n",
    "The jjJ --> LSJ transformation is presently restricted to configuration expansions for which all non-relativistic CSF have **not more than two open non-relativistic shells**. This restriction can be released if the re-coupling coefficients are implemented for a larger number of open shells. Since these jjJ --> LSJ transformation can become quite expensive for complex shell structure, they can be further controlled by selecting individual levels (or symmetries of levels) as well as a minimum with which a (relativistic) CSF must contribute to least on the (selected) levels to be taken into account in the expansion.\n",
    "\n",
    "In `JAC`, an improved control about such jjJ --> LSJ transformation is prepared (but not yet realized in all detail) by the parameters of the `LSjjSettings`, and is shown together with its  default settings:"
   ]
  },
  {
   "cell_type": "code",
   "execution_count": null,
   "metadata": {},
   "outputs": [],
   "source": [
    "?LSjjSettings"
   ]
  },
  {
   "cell_type": "code",
   "execution_count": null,
   "metadata": {},
   "outputs": [],
   "source": [
    "LSjjSettings(true)"
   ]
  },
  {
   "cell_type": "markdown",
   "metadata": {},
   "source": [
    "\n",
    "As seen from beryllium-example above, the LS-coupling notation of levels can often be derived for simple shell structure by considering the fine-structure splitting (energies) and the total $J$ values of the atomic levels. For beryllium-like ions, for exmaple, the $^3P_{0,1,2}$ triplet can be identified quite easily by just looking for it fine-structure energies as obtained from a simple CI computations.\n",
    "\n",
    "This identification becomes much less obvious if open $d$-shells or even $f$-shells are involved\n",
    "as, for example, for the levels of $3d^3$ ground configuration of scandium-like iron. Following similar lines as above, we obtain: \n"
   ]
  },
  {
   "cell_type": "code",
   "execution_count": null,
   "metadata": {
    "scrolled": true
   },
   "outputs": [],
   "source": [
    "wa = Atomic.Computation(Atomic.Computation(), name=\"jj-LS level transformation\", \n",
    "                        grid=JAC.Radial.Grid(true), nuclearModel=Nuclear.Model(26.); \n",
    "                        configs=[Configuration(\"[Ar] 3d^3\")], asfSettings=asfSettings )\n",
    "perform(wa)"
   ]
  },
  {
   "cell_type": "markdown",
   "metadata": {},
   "source": [
    "\n",
    "Apparently, there are 19 levels which belong to the single $3d^3$ configuration; although there is usually one dominant CSF in non-relativistic LSJ -coupling, the mixing of different terms can become quite sizeable (see levels 14 and 15).\n",
    "How many levels do we see ... and what can be said about the LS-coupling of the levels in the ground configuration ?? \n",
    "\n",
    "Of course, the complexity increases rapidly if we consider the level structure of the potassium-like iron but with a $2p$ hole:"
   ]
  },
  {
   "cell_type": "code",
   "execution_count": null,
   "metadata": {
    "scrolled": true
   },
   "outputs": [],
   "source": [
    "wa = Atomic.Computation(wa, configs=[Configuration(\"[Ne] 3s^2 3p^5 3d^2\")])\n",
    "perform(wa)"
   ]
  },
  {
   "cell_type": "markdown",
   "metadata": {},
   "source": [
    "\n",
    "This results in 45 fine-structure levels, and which are shown together with their corresponding LSJ expansions. For various applications, it migt be desirable to better recognized the parents terms in this LSJ expansion, a feature that could be implemented quite easily.\n"
   ]
  },
  {
   "cell_type": "code",
   "execution_count": null,
   "metadata": {},
   "outputs": [],
   "source": []
  }
 ],
 "metadata": {
  "@webio": {
   "lastCommId": null,
   "lastKernelId": null
  },
  "kernelspec": {
   "display_name": "Julia 1.0.3",
   "language": "julia",
   "name": "julia-1.0"
  },
  "language_info": {
   "file_extension": ".jl",
   "mimetype": "application/julia",
   "name": "julia",
   "version": "1.0.3"
  }
 },
 "nbformat": 4,
 "nbformat_minor": 4
}
