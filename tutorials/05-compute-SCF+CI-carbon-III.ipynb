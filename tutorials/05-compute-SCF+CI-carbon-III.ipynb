{
 "cells": [
  {
   "cell_type": "markdown",
   "metadata": {},
   "source": [
    "# Compute the low-lying levels of C^2+ 1s^2 (2s^2 + 2s2p + 2p^2): SCF and configuration interaction"
   ]
  },
  {
   "cell_type": "code",
   "execution_count": 1,
   "metadata": {},
   "outputs": [
    {
     "data": {
      "text/html": [
       "    <script class='js-collapse-script'>\n",
       "        var curMatch =\n",
       "            window.location.href\n",
       "            .match(/(.*?)\\/notebooks\\/.*\\.ipynb/);\n",
       "\n",
       "        curMatch = curMatch ||\n",
       "            window.location.href\n",
       "            .match(/(.*?)\\/apps\\/.*\\.ipynb/);\n",
       "\n",
       "        if ( curMatch ) {\n",
       "            $('head').append('<base href=\"' + curMatch[1] + '/\">');\n",
       "        }\n",
       "    </script>\n"
      ],
      "text/plain": [
       "HTML{String}(\"    <script class='js-collapse-script'>\\n        var curMatch =\\n            window.location.href\\n            .match(/(.*?)\\\\/notebooks\\\\/.*\\\\.ipynb/);\\n\\n        curMatch = curMatch ||\\n            window.location.href\\n            .match(/(.*?)\\\\/apps\\\\/.*\\\\.ipynb/);\\n\\n        if ( curMatch ) {\\n            \\$('head').append('<base href=\\\"' + curMatch[1] + '/\\\">');\\n        }\\n    </script>\\n\")"
      ]
     },
     "metadata": {},
     "output_type": "display_data"
    },
    {
     "data": {
      "text/html": [
       "<script class='js-collapse-script' src='/assetserver/b5211b19a5aa56f2c76a4f66df0ec7b35773f4c6-assets/webio/dist/bundle.js'></script>"
      ],
      "text/plain": [
       "HTML{String}(\"<script class='js-collapse-script' src='/assetserver/b5211b19a5aa56f2c76a4f66df0ec7b35773f4c6-assets/webio/dist/bundle.js'></script>\")"
      ]
     },
     "metadata": {},
     "output_type": "display_data"
    },
    {
     "data": {
      "text/html": [
       "<script class='js-collapse-script' src='/assetserver/b5211b19a5aa56f2c76a4f66df0ec7b35773f4c6-assets/providers/ijulia_setup.js'></script>"
      ],
      "text/plain": [
       "HTML{String}(\"<script class='js-collapse-script' src='/assetserver/b5211b19a5aa56f2c76a4f66df0ec7b35773f4c6-assets/providers/ijulia_setup.js'></script>\")"
      ]
     },
     "metadata": {},
     "output_type": "display_data"
    },
    {
     "data": {
      "text/html": [
       "  <script class='js-collapse-script'>\n",
       "    $('.js-collapse-script').parent('.output_subarea').css('padding', '0');\n",
       "  </script>\n"
      ],
      "text/plain": [
       "HTML{String}(\"  <script class='js-collapse-script'>\\n    \\$('.js-collapse-script').parent('.output_subarea').css('padding', '0');\\n  </script>\\n\")"
      ]
     },
     "metadata": {},
     "output_type": "display_data"
    }
   ],
   "source": [
    "using JAC"
   ]
  },
  {
   "cell_type": "markdown",
   "metadata": {},
   "source": [
    "\n",
    "The low-lying levels (level structure) of beryllium-lie ions and especially C^2+ has been considered in many case studies. While these ions are simple, they exhibit a considerable admixture of the 2s^2 2p^2 configuration already into the 1s^2 2s^2  ^1S_0 ground level.\n",
    "\n",
    "We here show how the low-lying levels of C^2+ can be readily calculated by either following the default settings or by specifying further details for both, the SCF and configuration-interaction (CI) computations. As usual, we first need to specify a grid as well as the nuclear model for our computations:\n"
   ]
  },
  {
   "cell_type": "code",
   "execution_count": 4,
   "metadata": {},
   "outputs": [
    {
     "name": "stdout",
     "output_type": "stream",
     "text": [
      "Define a radial grid of type MeshGL with 400 grid points\n",
      " [rnt=2.000e-06, h=5.000e-02, hp=0.000e+00, NoPoints=390, r_max=9.161e+02;\n",
      "  B-splines wit break points at every 7th point, nsL=56, nsS=57, orderL=7, orderS=8, orderGL=7] \n"
     ]
    },
    {
     "data": {
      "text/plain": [
       "Fermi nuclear model for Z = 6.0 with mass = 12.18, radius R = 2.4934845703596404 fm and nuclear spin I = 0, dipole moment mu = 0.0 and quadrupole moment Q = 0.0."
      ]
     },
     "execution_count": 4,
     "metadata": {},
     "output_type": "execute_result"
    }
   ],
   "source": [
    "grid     = JAC.Radial.Grid(\"grid: exponential\")\n",
    "nucModel = Nuclear.Model(6., \"Fermi\")"
   ]
  },
  {
   "cell_type": "markdown",
   "metadata": {},
   "source": [
    "\n",
    "For a *quick* computation of the ground level of C^2+ ions, we can simply use the **standard settings** as given by AsfSettings():\n"
   ]
  },
  {
   "cell_type": "code",
   "execution_count": 6,
   "metadata": {
    "scrolled": true
   },
   "outputs": [
    {
     "name": "stdout",
     "output_type": "stream",
     "text": [
      "\n",
      "... in perform('computation: SCF', ...\n",
      "perform-aa: Configuration: 1s_1/2^2 2s_1/2^2 \n",
      "(Re-) Define a new standard subshell list.\n",
      "(Re-) Define a storage array for various B-spline matrices:\n",
      "Nuclear model = Fermi nuclear model for Z = 6.0 with mass = 12.18, radius R = 2.4934845703596404 fm and nuclear spin I = 0, dipole moment mu = 0.0 and quadrupole moment Q = 0.0. \n",
      "Generate hydrogenic orbital for subshell 1s_1/2 \n",
      "  -----------------------------------------------------------------------------\n",
      "   Index    Subshell     Energies [a.u.]    Dirac-E  [a.u.]     Delta-E / |E|    \n",
      "  -----------------------------------------------------------------------------\n",
      "      1      1s_1/2      -1.80086331e+01    -1.80086350e+01    +1.02976431e-07    \n",
      "      2      2s_1/2      -4.50269994e+00    -4.50269857e+00    -3.04312440e-07    \n",
      "      3      3s_1/2      -2.00097395e+00    -2.00095940e+00    -7.27254410e-06    \n",
      "      4      4s_1/2      -1.12570275e+00    -1.12543844e+00    -2.34794041e-04    \n",
      "      5      5s_1/2      -7.22417687e-01    -7.20234830e-01    -3.02159998e-03    \n",
      "      6      6s_1/2      -5.43499260e-01    -5.00139888e-01    -7.97781626e-02    \n",
      "      7      7s_1/2      -4.77992204e-01    -3.67436826e-01    -2.31291173e-01    \n",
      "      8      8s_1/2      -3.50617308e-01    -2.81311119e-01    -1.97669046e-01    \n",
      "      :       :    \n",
      "     51     51s_1/2      +8.45595432e+07    -6.92067167e-03    +1.00000000e+00    \n",
      "     52     52s_1/2      +1.28290116e+08    -6.65704673e-03    +1.00000000e+00    \n",
      "     53     53s_1/2      +2.02604410e+08    -6.40820299e-03    +1.00000000e+00    \n",
      "     54     54s_1/2      +3.45024075e+08    -6.17305571e-03    +1.00000000e+00    \n",
      "     55     55s_1/2      +6.89868760e+08    -5.95061791e-03    +1.00000000e+00    \n",
      "     56     56s_1/2      +2.35263571e+09    -5.73998987e-03    +1.00000000e+00    \n",
      "  -----------------------------------------------------------------------------\n",
      "Use hydrogenic orbital from this symmetriy block also for 1s_1/2.\n",
      "Use hydrogenic orbital from this symmetriy block also for 2s_1/2.\n",
      "Re-define the standard grid with 390 grid points.\n",
      "(Re-) Define a storage array for various B-spline matrices:\n",
      "\n",
      "Iteration 1 for symmetries ... \n",
      "  1s_1/2::  en [a.u.] = -1.03162299e+01;   self-consistency = 2.715778e-01  [1.000000e+02 for symmetry block kappa = -1]\n",
      "  2s_1/2::  en [a.u.] = -1.22389917e+00;   self-consistency = 5.725564e-01  [1.000000e+02 for symmetry block kappa = -1]\n",
      "\n",
      "Iteration 2 for symmetries ... \n",
      "  1s_1/2::  en [a.u.] = -1.12987257e+01;   self-consistency = 4.545445e-02  [1.737149e-01 for symmetry block kappa = -1]\n",
      "  2s_1/2::  en [a.u.] = -1.45780998e+00;   self-consistency = 8.722453e-02  [1.737149e-01 for symmetry block kappa = -1]\n",
      "\n",
      "Iteration 3 for symmetries ... \n",
      "  1s_1/2::  en [a.u.] = -1.11352962e+01;   self-consistency = 7.284897e-03  [3.660410e-02 for symmetry block kappa = -1]\n",
      "  2s_1/2::  en [a.u.] = -1.41682113e+00;   self-consistency = 1.425882e-02  [3.660410e-02 for symmetry block kappa = -1]\n",
      "\n",
      "Iteration 4 for symmetries ... \n",
      "  1s_1/2::  en [a.u.] = -1.11622902e+01;   self-consistency = 1.210624e-03  [5.677787e-03 for symmetry block kappa = -1]\n",
      "  2s_1/2::  en [a.u.] = -1.42350229e+00;   self-consistency = 2.352252e-03  [5.677787e-03 for symmetry block kappa = -1]\n",
      "\n",
      "Iteration 5 for symmetries ... \n",
      "  1s_1/2::  en [a.u.] = -1.11578254e+01;   self-consistency = 2.000325e-04  [9.472999e-04 for symmetry block kappa = -1]\n",
      "  2s_1/2::  en [a.u.] = -1.42239561e+00;   self-consistency = 3.888663e-04  [9.472999e-04 for symmetry block kappa = -1]\n",
      "\n",
      "Iteration 6 for symmetries ... \n",
      "  1s_1/2::  en [a.u.] = -1.11585637e+01;   self-consistency = 3.308170e-05  [1.563643e-04 for symmetry block kappa = -1]\n",
      "  2s_1/2::  en [a.u.] = -1.42257852e+00;   self-consistency = 6.429104e-05  [1.563643e-04 for symmetry block kappa = -1]\n",
      "\n",
      "Iteration 7 for symmetries ... \n",
      "  1s_1/2::  en [a.u.] = -1.11584416e+01;   self-consistency = 5.470304e-06  [2.586100e-05 for symmetry block kappa = -1]\n",
      "  2s_1/2::  en [a.u.] = -1.42254828e+00;   self-consistency = 1.063057e-05  [2.586100e-05 for symmetry block kappa = -1]\n",
      "\n",
      "Iteration 8 for symmetries ... \n",
      "  1s_1/2::  en [a.u.] = -1.11584618e+01;   self-consistency = 9.045786e-07  [4.276090e-06 for symmetry block kappa = -1]\n",
      "  2s_1/2::  en [a.u.] = -1.42255328e+00;   self-consistency = 1.757837e-06  [4.276090e-06 for symmetry block kappa = -1]\n",
      "\n",
      "Iteration 9 for symmetries ... \n",
      "  1s_1/2::  en [a.u.] = -1.11584585e+01;   self-consistency = 1.495834e-07  [7.071591e-07 for symmetry block kappa = -1]\n",
      "  2s_1/2::  en [a.u.] = -1.42255245e+00;   self-consistency = 2.906818e-07  [7.071591e-07 for symmetry block kappa = -1]\n",
      "Compute CI matrix of dimension 1 x 1 for the symmetry 0^+ ...   ... done.\n",
      "\n",
      "  Eigenenergies:\n",
      "\n",
      "  Level  J Parity          Hartrees                    eV                   [eV]\n",
      "\n",
      "     1    0 +     -3.641932029348349e+01    -9.910201830919990e+02    -9.910201830919990e+02 \n",
      "\n",
      "  Energy of each level relative to immediately lower level:\n",
      "\n",
      "  Level  J Parity          Hartrees                    eV                   [eV]\n",
      "\n",
      "\n",
      "  Energy of each level relative to lowest level:\n",
      "\n",
      "  Level  J Parity          Hartrees                    eV                   [eV]\n",
      "\n"
     ]
    }
   ],
   "source": [
    "basis     = perform(\"computation: SCF\", [Configuration(\"1s^2 2s^2\")], nucModel, grid, AsfSettings())\n",
    "multiplet = perform(\"computation: CI\",  basis, nucModel, grid, AsfSettings());"
   ]
  },
  {
   "cell_type": "markdown",
   "metadata": {},
   "source": [
    "\n",
    "... and, similarly, also for the 10 lowest levels of C^2+ ions:\n"
   ]
  },
  {
   "cell_type": "code",
   "execution_count": 7,
   "metadata": {},
   "outputs": [
    {
     "name": "stdout",
     "output_type": "stream",
     "text": [
      "\n",
      "... in perform('computation: SCF', ...\n",
      "perform-aa: Configuration: 1s_1/2^2 2s_1/2^2 \n",
      "perform-aa: Configuration: 1s_1/2^2 2s_1/2^1 2p_3/2^1 \n",
      "perform-aa: Configuration: 1s_1/2^2 2s_1/2^1 2p_1/2^1 \n",
      "perform-aa: Configuration: 1s_1/2^2 2p_3/2^2 \n",
      "perform-aa: Configuration: 1s_1/2^2 2p_1/2^1 2p_3/2^1 \n",
      "perform-aa: Configuration: 1s_1/2^2 2p_1/2^2 \n",
      "(Re-) Define a new standard subshell list.\n",
      "(Re-) Define a storage array for various B-spline matrices:\n",
      "Nuclear model = Fermi nuclear model for Z = 6.0 with mass = 12.18, radius R = 2.4934845703596404 fm and nuclear spin I = 0, dipole moment mu = 0.0 and quadrupole moment Q = 0.0. \n",
      "Generate hydrogenic orbital for subshell 1s_1/2 \n",
      "  -----------------------------------------------------------------------------\n",
      "   Index    Subshell     Energies [a.u.]    Dirac-E  [a.u.]     Delta-E / |E|    \n",
      "  -----------------------------------------------------------------------------\n",
      "      1      1s_1/2      -1.80086331e+01    -1.80086350e+01    +1.02976431e-07    \n",
      "      2      2s_1/2      -4.50269994e+00    -4.50269857e+00    -3.04312440e-07    \n",
      "      3      3s_1/2      -2.00097395e+00    -2.00095940e+00    -7.27254410e-06    \n",
      "      4      4s_1/2      -1.12570275e+00    -1.12543844e+00    -2.34794041e-04    \n",
      "      5      5s_1/2      -7.22417687e-01    -7.20234830e-01    -3.02159998e-03    \n",
      "      6      6s_1/2      -5.43499260e-01    -5.00139888e-01    -7.97781626e-02    \n",
      "      7      7s_1/2      -4.77992204e-01    -3.67436826e-01    -2.31291173e-01    \n",
      "      8      8s_1/2      -3.50617308e-01    -2.81311119e-01    -1.97669046e-01    \n",
      "      :       :    \n",
      "     51     51s_1/2      +8.45595432e+07    -6.92067167e-03    +1.00000000e+00    \n",
      "     52     52s_1/2      +1.28290116e+08    -6.65704673e-03    +1.00000000e+00    \n",
      "     53     53s_1/2      +2.02604410e+08    -6.40820299e-03    +1.00000000e+00    \n",
      "     54     54s_1/2      +3.45024075e+08    -6.17305571e-03    +1.00000000e+00    \n",
      "     55     55s_1/2      +6.89868760e+08    -5.95061791e-03    +1.00000000e+00    \n",
      "     56     56s_1/2      +2.35263571e+09    -5.73998987e-03    +1.00000000e+00    \n",
      "  -----------------------------------------------------------------------------\n",
      "Use hydrogenic orbital from this symmetriy block also for 1s_1/2.\n",
      "Use hydrogenic orbital from this symmetriy block also for 2s_1/2.\n",
      "Generate hydrogenic orbital for subshell 2p_1/2 \n",
      "  -----------------------------------------------------------------------------\n",
      "   Index    Subshell     Energies [a.u.]    Dirac-E  [a.u.]     Delta-E / |E|    \n",
      "  -----------------------------------------------------------------------------\n",
      "      1      2p_1/2      -4.50269897e+00    -4.50269857e+00    -8.86540654e-08    \n",
      "      2      3p_1/2      -2.00096504e+00    -2.00095940e+00    -2.81855014e-06    \n",
      "      3      4p_1/2      -1.12553178e+00    -1.12543844e+00    -8.29322950e-05    \n",
      "      4      5p_1/2      -7.20764947e-01    -7.20234830e-01    -7.35493432e-04    \n",
      "      5      6p_1/2      -5.03805548e-01    -5.00139888e-01    -7.27594233e-03    \n",
      "      6      7p_1/2      -4.02528567e-01    -3.67436826e-01    -8.71782608e-02    \n",
      "      7      8p_1/2      -3.37562144e-01    -2.81311119e-01    -1.66639019e-01    \n",
      "      8      9p_1/2      -2.51626325e-01    -2.22265641e-01    -1.16683674e-01    \n",
      "      :       :    \n",
      "     50     51p_1/2      +7.03537670e+07    -6.92067167e-03    +1.00000000e+00    \n",
      "     51     52p_1/2      +1.05503779e+08    -6.65704673e-03    +1.00000000e+00    \n",
      "     52     53p_1/2      +1.63213540e+08    -6.40820299e-03    +1.00000000e+00    \n",
      "     53     54p_1/2      +2.67045526e+08    -6.17305571e-03    +1.00000000e+00    \n",
      "     54     55p_1/2      +4.88063740e+08    -5.95061791e-03    +1.00000000e+00    \n",
      "     55     56p_1/2      +1.16229257e+09    -5.73998987e-03    +1.00000000e+00    \n",
      "  -----------------------------------------------------------------------------\n",
      "Use hydrogenic orbital from this symmetriy block also for 2p_1/2.\n",
      "Generate hydrogenic orbital for subshell 2p_3/2 \n",
      "  -----------------------------------------------------------------------------\n",
      "   Index    Subshell     Energies [a.u.]    Dirac-E  [a.u.]     Delta-E / |E|    \n",
      "  -----------------------------------------------------------------------------\n",
      "      1      2p_3/2      -4.50053992e+00    -4.50053930e+00    -1.38182617e-07    \n",
      "      2      3p_3/2      -2.00032651e+00    -2.00031959e+00    -3.45808418e-06    \n",
      "      3      4p_3/2      -1.12540854e+00    -1.12516853e+00    -2.13264705e-04    \n",
      "      4      5p_3/2      -7.24653977e-01    -7.20096642e-01    -6.28898055e-03    \n",
      "      5      6p_3/2      -6.20146099e-01    -5.00059921e-01    -1.93641753e-01    \n",
      "      6      7p_3/2      -4.89006479e-01    -3.67386470e-01    -2.48708379e-01    \n",
      "      7      8p_3/2      -3.52280887e-01    -2.81277385e-01    -2.01553659e-01    \n",
      "      8      9p_3/2      -2.56112113e-01    -2.22241949e-01    -1.32247413e-01    \n",
      "      :       :    \n",
      "     51     52p_3/2      +1.00229880e+08    -6.65692392e-03    +1.00000000e+00    \n",
      "     52     53p_3/2      +1.53901193e+08    -6.40808699e-03    +1.00000000e+00    \n",
      "     53     54p_3/2      +2.48369371e+08    -6.17294605e-03    +1.00000000e+00    \n",
      "     54     55p_3/2      +4.41002908e+08    -5.95051411e-03    +1.00000000e+00    \n",
      "     55     56p_3/2      +9.65503947e+08    -5.73989154e-03    +1.00000000e+00    \n",
      "     56     57p_3/2      +3.73453601e+09    -5.54025693e-03    +1.00000000e+00    \n",
      "  -----------------------------------------------------------------------------\n",
      "Use hydrogenic orbital from this symmetriy block also for 2p_3/2.\n",
      "Re-define the standard grid with 390 grid points.\n",
      "(Re-) Define a storage array for various B-spline matrices:\n",
      "\n",
      "Iteration 1 for symmetries ... \n",
      "  1s_1/2::  en [a.u.] = -1.00256917e+01;   self-consistency = 2.847560e-01  [1.000000e+02 for symmetry block kappa = -1]\n",
      "  2s_1/2::  en [a.u.] = -1.15109931e+00;   self-consistency = 5.928050e-01  [1.000000e+02 for symmetry block kappa = -1]\n",
      "  2p_1/2::  en [a.u.] = -9.02445061e-01;   self-consistency = 6.660792e-01  [1.000000e+02 for symmetry block kappa = 1]\n",
      "  2p_3/2::  en [a.u.] = -9.74389850e-01;   self-consistency = 6.440539e-01  [1.000000e+02 for symmetry block kappa = -2]\n",
      "\n",
      "Iteration 2 for symmetries ... \n",
      "  1s_1/2::  en [a.u.] = -1.13122826e+01;   self-consistency = 6.029583e-02  [2.286663e-01 for symmetry block kappa = -1]\n",
      "  2s_1/2::  en [a.u.] = -1.45658725e+00;   self-consistency = 1.171490e-01  [2.286663e-01 for symmetry block kappa = -1]\n",
      "  2p_1/2::  en [a.u.] = -1.13464705e+00;   self-consistency = 1.139870e-01  [1.500099e-01 for symmetry block kappa = 1]\n",
      "  2p_3/2::  en [a.u.] = -1.11758340e+00;   self-consistency = 6.844903e-02  [9.498542e-02 for symmetry block kappa = -2]\n",
      "\n",
      "Iteration 3 for symmetries ... \n",
      "  1s_1/2::  en [a.u.] = -1.10951862e+01;   self-consistency = 9.688570e-03  [5.164821e-02 for symmetry block kappa = -1]\n",
      "  2s_1/2::  en [a.u.] = -1.40003540e+00;   self-consistency = 1.979675e-02  [5.164821e-02 for symmetry block kappa = -1]\n",
      "  2p_1/2::  en [a.u.] = -1.09392230e+00;   self-consistency = 1.827394e-02  [2.705415e-02 for symmetry block kappa = 1]\n",
      "  2p_3/2::  en [a.u.] = -1.09548883e+00;   self-consistency = 9.983666e-03  [2.254468e-02 for symmetry block kappa = -2]\n",
      "\n",
      "Iteration 4 for symmetries ... \n",
      "  1s_1/2::  en [a.u.] = -1.11258243e+01;   self-consistency = 1.378789e-03  [6.309100e-03 for symmetry block kappa = -1]\n",
      "  2s_1/2::  en [a.u.] = -1.40734797e+00;   self-consistency = 2.604763e-03  [6.309100e-03 for symmetry block kappa = -1]\n",
      "  2p_1/2::  en [a.u.] = -1.09859132e+00;   self-consistency = 2.129531e-03  [3.630178e-03 for symmetry block kappa = 1]\n",
      "  2p_3/2::  en [a.u.] = -1.09780242e+00;   self-consistency = 1.054848e-03  [2.224670e-03 for symmetry block kappa = -2]\n",
      "\n",
      "Iteration 5 for symmetries ... \n",
      "  1s_1/2::  en [a.u.] = -1.11217828e+01;   self-consistency = 1.816610e-04  [7.669784e-04 for symmetry block kappa = -1]\n",
      "  2s_1/2::  en [a.u.] = -1.40645491e+00;   self-consistency = 3.173876e-04  [7.669784e-04 for symmetry block kappa = -1]\n",
      "  2p_1/2::  en [a.u.] = -1.09807701e+00;   self-consistency = 2.341339e-04  [3.908783e-04 for symmetry block kappa = 1]\n",
      "  2p_3/2::  en [a.u.] = -1.09756457e+00;   self-consistency = 1.083396e-04  [2.339116e-04 for symmetry block kappa = -2]\n",
      "\n",
      "Iteration 6 for symmetries ... \n",
      "  1s_1/2::  en [a.u.] = -1.11222885e+01;   self-consistency = 2.273328e-05  [8.685797e-05 for symmetry block kappa = -1]\n",
      "  2s_1/2::  en [a.u.] = -1.40655753e+00;   self-consistency = 3.648031e-05  [8.685797e-05 for symmetry block kappa = -1]\n",
      "  2p_1/2::  en [a.u.] = -1.09812942e+00;   self-consistency = 2.386270e-05  [4.015938e-05 for symmetry block kappa = 1]\n",
      "  2p_3/2::  en [a.u.] = -1.09758718e+00;   self-consistency = 1.029907e-05  [2.253116e-05 for symmetry block kappa = -2]\n",
      "\n",
      "Iteration 7 for symmetries ... \n",
      "  1s_1/2::  en [a.u.] = -1.11222279e+01;   self-consistency = 2.723184e-06  [9.333358e-06 for symmetry block kappa = -1]\n",
      "  2s_1/2::  en [a.u.] = -1.40654633e+00;   self-consistency = 3.980442e-06  [9.333358e-06 for symmetry block kappa = -1]\n",
      "  2p_1/2::  en [a.u.] = -1.09812453e+00;   self-consistency = 2.224559e-06  [3.773210e-06 for symmetry block kappa = 1]\n",
      "  2p_3/2::  en [a.u.] = -1.09758526e+00;   self-consistency = 8.724402e-07  [1.959435e-06 for symmetry block kappa = -2]\n",
      "\n",
      "Iteration 8 for symmetries ... \n"
     ]
    },
    {
     "name": "stdout",
     "output_type": "stream",
     "text": [
      "  1s_1/2::  en [a.u.] = -1.11222349e+01;   self-consistency = 3.130185e-07  [9.429849e-07 for symmetry block kappa = -1]\n",
      "  2s_1/2::  en [a.u.] = -1.40654748e+00;   self-consistency = 4.103302e-07  [9.429849e-07 for symmetry block kappa = -1]\n",
      "  2p_1/2::  en [a.u.] = -1.09812493e+00;   self-consistency = 1.799327e-07  [3.113806e-07 for symmetry block kappa = 1]\n",
      "  2p_3/2::  en [a.u.] = -1.09758539e+00;   self-consistency = 5.819422e-08  [1.388849e-07 for symmetry block kappa = -2]\n",
      "Compute CI matrix of dimension 2 x 2 for the symmetry 1^- ...   ... done.\n",
      "Compute CI matrix of dimension 1 x 1 for the symmetry 1^+ ...   ... done.\n",
      "Compute CI matrix of dimension 2 x 2 for the symmetry 2^+ ...   ... done.\n",
      "Compute CI matrix of dimension 3 x 3 for the symmetry 0^+ ...   ... done.\n",
      "Compute CI matrix of dimension 1 x 1 for the symmetry 0^- ...   ... done.\n",
      "Compute CI matrix of dimension 1 x 1 for the symmetry 2^- ...   ... done.\n",
      "\n",
      "  Eigenenergies:\n",
      "\n",
      "  Level  J Parity          Hartrees                    eV                   [eV]\n",
      "\n",
      "     1    0 +     -3.648596917604380e+01    -9.928337915631492e+02    -9.928337915631492e+02 \n",
      "     2    0 -     -3.624303152917504e+01    -9.862231214754129e+02    -9.862231214754129e+02 \n",
      "     3    1 -     -3.624287324522250e+01    -9.862188143496796e+02    -9.862188143496796e+02 \n",
      "     4    2 -     -3.624255613958493e+01    -9.862101854657665e+02    -9.862101854657665e+02 \n",
      "     5    1 -     -3.597168313486141e+01    -9.788393555718375e+02    -9.788393555718375e+02 \n",
      "     6    0 +     -3.585249814849039e+01    -9.755961668999073e+02    -9.755961668999073e+02 \n",
      "     7    1 +     -3.585234667467825e+01    -9.755920450875333e+02    -9.755920450875333e+02 \n",
      "     8    2 +     -3.585204533623915e+01    -9.755838452509441e+02    -9.755838452509441e+02 \n",
      "     9    2 +     -3.577601912766804e+01    -9.735150667418785e+02    -9.735150667418785e+02 \n",
      "    10    0 +     -3.559491135345312e+01    -9.685868731864934e+02    -9.685868731864934e+02 \n",
      "\n",
      "  Energy of each level relative to immediately lower level:\n",
      "\n",
      "  Level  J Parity          Hartrees                    eV                   [eV]\n",
      "\n",
      "     2    0 -     2.429376468687607e-01    6.610670087736293e+00    6.610670087736293e+00 \n",
      "     3    1 -     1.582839525369195e-04    4.307125733253475e-03    4.307125733253475e-03 \n",
      "     4    2 -     3.171056375776971e-04    8.628883913244931e-03    8.628883913244931e-03 \n",
      "     5    1 -     2.708730047235193e-01    7.370829893928966e+00    7.370829893928966e+00 \n",
      "     6    0 +     1.191849863710175e-01    3.243188671930196e+00    3.243188671930196e+00 \n",
      "     7    1 +     1.514738121386472e-04    4.121812374025690e-03    4.121812374025690e-03 \n",
      "     8    2 +     3.013384391010732e-04    8.199836589043564e-03    8.199836589043564e-03 \n",
      "     9    2 +     7.602620857111475e-02    2.068778509065636e+00    2.068778509065636e+00 \n",
      "    10    0 +     1.811077742149152e-01    4.928193555385060e+00    4.928193555385060e+00 \n",
      "\n",
      "  Energy of each level relative to lowest level:\n",
      "\n",
      "  Level  J Parity          Hartrees                    eV                   [eV]\n",
      "\n",
      "     2    0 -     2.429376468687607e-01    6.610670087736293e+00    6.610670087736293e+00 \n",
      "     3    1 -     2.430959308212977e-01    6.614977213469546e+00    6.614977213469546e+00 \n",
      "     4    2 -     2.434130364588754e-01    6.623606097382791e+00    6.623606097382791e+00 \n",
      "     5    1 -     5.142860411823946e-01    1.399443599131176e+01    1.399443599131176e+01 \n",
      "     6    0 +     6.334710275534121e-01    1.723762466324195e+01    1.723762466324195e+01 \n",
      "     7    1 +     6.336225013655508e-01    1.724174647561598e+01    1.724174647561598e+01 \n",
      "     8    2 +     6.339238398046518e-01    1.724994631220502e+01    1.724994631220502e+01 \n",
      "     9    2 +     7.099500483757666e-01    1.931872482127066e+01    1.931872482127066e+01 \n",
      "    10    0 +     8.910578225906818e-01    2.424691837665572e+01    2.424691837665572e+01 \n"
     ]
    }
   ],
   "source": [
    "basis     = perform(\"computation: SCF\", [Configuration(\"1s^2 2s^2\"), Configuration(\"1s^2 2s 2p\"), \n",
    "                                         Configuration(\"1s^2 2p^2\")], nucModel, grid, AsfSettings())\n",
    "multiplet = perform(\"computation: CI\",  basis, nucModel, grid, AsfSettings());"
   ]
  },
  {
   "cell_type": "markdown",
   "metadata": {},
   "source": [
    "\n",
    "From the comparison of the two ground-state energies, we see that the admixture of the 2p^2 configuration has lowered the (total) ground state energy by about 1.8 eV, a rather remarkable admixture.\n",
    "\n",
    "Further control about these electronic computations can be obtained by modifying their **settings**; we can first have a look at their internal representation:\n"
   ]
  },
  {
   "cell_type": "code",
   "execution_count": 9,
   "metadata": {},
   "outputs": [
    {
     "name": "stdout",
     "output_type": "stream",
     "text": [
      "search: \u001b[0m\u001b[1mA\u001b[22m\u001b[0m\u001b[1ms\u001b[22m\u001b[0m\u001b[1mf\u001b[22m\u001b[0m\u001b[1mS\u001b[22m\u001b[0m\u001b[1me\u001b[22m\u001b[0m\u001b[1mt\u001b[22m\u001b[0m\u001b[1mt\u001b[22m\u001b[0m\u001b[1mi\u001b[22m\u001b[0m\u001b[1mn\u001b[22m\u001b[0m\u001b[1mg\u001b[22m\u001b[0m\u001b[1ms\u001b[22m\n",
      "\n"
     ]
    },
    {
     "data": {
      "text/markdown": [
       "`struct  AsfSettings`  ... a struct for defining the settings for the atomic state functions, i.e. the self-consistent-field (SCF)                             and CI computations\n",
       "\n",
       "```\n",
       "+ generateScf          ::Bool               ... True, if a SCF need to be generated, and false otherwise (frozen orbitals).\n",
       "+ breitScf             ::Bool               ... True, if Breit interaction is to be included into the SCF computations.\n",
       "+ methodScf            ::String             ... Specify the SCF method: [\"AL\", \"OL\", \"EOL\", \"meanDFS\", \"meanHS\"].\n",
       "+ startScf             ::String             ... Specify how the start orbitals are obtained [\"fromNRorbitals\", \"fromGrasp\", \"hydrogenic\"].\n",
       "+ orbitalFileScf       ::String             ... Filename of orbitals, if taken from Grasp.\n",
       "+ levelsScf            ::Array{Int64,1}     ... Levels on which the optimization need to be carried out.\n",
       "+ maxIterationsScf     ::Int64              ... maximum number of SCF iterations\n",
       "+ áccuracyScf          ::Float64            ... convergence criterion for the SCF field.\n",
       "+ shellSequenceScf     ::Array{Subshell,1}  ... Sequence of subshells to be optimized.\n",
       "\n",
       "+ coulombCI\t\t       ::Bool \t\t        ... logical flag to include Coulomb interactions.\n",
       "+ breitCI\t\t       ::Bool \t\t        ... logical flag to include Breit interactions.\n",
       "+ qedCI\t\t\t       ::Bool \t\t        ... logical flag to include QED interactions.\n",
       "+ methodCI             ::String\t\t        ... method for diagonalizing the matrix.\n",
       "+ selectLevelsCI       ::Bool \t\t        ... true, if specific level (number)s have been selected for computation.\n",
       "+ selectedLevelsCI     ::Array{Int64,1}\t    ... Level number that have been selected.\n",
       "+ selectSymmetriesCI   ::Bool \t\t        ... true, if specific level symmetries have been selected for computation.\n",
       "+ selectedSymmetriesCI ::Array{LevelSymmetry,1}       ... Level symmetries that have been selected.\n",
       "```\n",
       "\n",
       "---\n",
       "\n",
       "`JAC.AsfSettings()`  ... constructor for setting the default values.\n"
      ],
      "text/plain": [
       "  \u001b[36mstruct  AsfSettings\u001b[39m ... a struct for defining the settings for the atomic\n",
       "  state functions, i.e. the self-consistent-field (SCF) and CI computations\n",
       "\n",
       "\u001b[36m  + generateScf          ::Bool               ... True, if a SCF need to be generated, and false otherwise (frozen orbitals).\u001b[39m\n",
       "\u001b[36m  + breitScf             ::Bool               ... True, if Breit interaction is to be included into the SCF computations.\u001b[39m\n",
       "\u001b[36m  + methodScf            ::String             ... Specify the SCF method: [\"AL\", \"OL\", \"EOL\", \"meanDFS\", \"meanHS\"].\u001b[39m\n",
       "\u001b[36m  + startScf             ::String             ... Specify how the start orbitals are obtained [\"fromNRorbitals\", \"fromGrasp\", \"hydrogenic\"].\u001b[39m\n",
       "\u001b[36m  + orbitalFileScf       ::String             ... Filename of orbitals, if taken from Grasp.\u001b[39m\n",
       "\u001b[36m  + levelsScf            ::Array{Int64,1}     ... Levels on which the optimization need to be carried out.\u001b[39m\n",
       "\u001b[36m  + maxIterationsScf     ::Int64              ... maximum number of SCF iterations\u001b[39m\n",
       "\u001b[36m  + áccuracyScf          ::Float64            ... convergence criterion for the SCF field.\u001b[39m\n",
       "\u001b[36m  + shellSequenceScf     ::Array{Subshell,1}  ... Sequence of subshells to be optimized.\u001b[39m\n",
       "\u001b[36m  \u001b[39m\n",
       "\u001b[36m  + coulombCI\t\t       ::Bool \t\t        ... logical flag to include Coulomb interactions.\u001b[39m\n",
       "\u001b[36m  + breitCI\t\t       ::Bool \t\t        ... logical flag to include Breit interactions.\u001b[39m\n",
       "\u001b[36m  + qedCI\t\t\t       ::Bool \t\t        ... logical flag to include QED interactions.\u001b[39m\n",
       "\u001b[36m  + methodCI             ::String\t\t        ... method for diagonalizing the matrix.\u001b[39m\n",
       "\u001b[36m  + selectLevelsCI       ::Bool \t\t        ... true, if specific level (number)s have been selected for computation.\u001b[39m\n",
       "\u001b[36m  + selectedLevelsCI     ::Array{Int64,1}\t    ... Level number that have been selected.\u001b[39m\n",
       "\u001b[36m  + selectSymmetriesCI   ::Bool \t\t        ... true, if specific level symmetries have been selected for computation.\u001b[39m\n",
       "\u001b[36m  + selectedSymmetriesCI ::Array{LevelSymmetry,1}       ... Level symmetries that have been selected.\u001b[39m\n",
       "\n",
       "  ────────────────────────────────────────────────────────────────────────────\n",
       "\n",
       "  \u001b[36mJAC.AsfSettings()\u001b[39m ... constructor for setting the default values."
      ]
     },
     "execution_count": 9,
     "metadata": {},
     "output_type": "execute_result"
    }
   ],
   "source": [
    "? AsfSettings"
   ]
  },
  {
   "cell_type": "markdown",
   "metadata": {},
   "source": [
    "\n",
    "... and the standard settings:\n"
   ]
  },
  {
   "cell_type": "code",
   "execution_count": 8,
   "metadata": {},
   "outputs": [
    {
     "data": {
      "text/plain": [
       "generateScf:          false  \n",
       "breitScf:             false  \n",
       "methodScf:            meanDFS  \n",
       "startScf:             hydrogenic  \n",
       "orbitalFileScf:\t       \n",
       "levelsScf:\t         [1]  \n",
       "maxIterationsScf:\t 24  \n",
       "accuracyScf:\t         1.0e-6  \n",
       "shellSequenceScf:\t Subshell[]  \n",
       "coulombCI:\t         true  \n",
       "breitCI:\t             false  \n",
       "qedCI:\t             false  \n",
       "methodCI:\t         eigen  \n",
       "selectLevelsCI:\t     false  \n",
       "selectedLevelsCI:\t Int64[]  \n",
       "selectSymmetriesCI:\t false  \n",
       "selectedSymmetriesCI: LevelSymmetry[]  \n"
      ]
     },
     "execution_count": 8,
     "metadata": {},
     "output_type": "execute_result"
    }
   ],
   "source": [
    "AsfSettings()"
   ]
  },
  {
   "cell_type": "markdown",
   "metadata": {},
   "source": [
    "\n",
    "and see that the self-consistent field is by default based on a *(mean) Dirac-Fock-Slater* potential, a choice which we could overwrite by **meanCH**. At present, however, is no full treatment of the exchange interaction implemented in this first release of the program. The standard settings also show that the SCF is usually based on just the lowest level (cf. levelScf) as well as on the accuracy 1.0e-6 to terminate the SCF computations. Moreover, the individual orbitals are improved due to the standard subshell order (cf. shellSequenceScf).\n",
    "\n",
    "For the CI parameters, the treatment of the Breit and QED interaction is of particular interest. At present, both are set to *false*, and there are no other option supported presently for the QED estimates. We shall check how to incorporate QED contributions in an efficient manner into the computations.\n",
    "\n",
    "As seen from these settings, moreover, there are special features to *select* individual levels into the CI computations, either due to their (relative) level No within the given multiplet or due to their *level symmetry*, i.e. their total angular momentum and parity, respectively. A boolean value selectLevelsCI or\n",
    "selectSymmetriesCI indicates whether (and which) of these selections are made. Selected symmetries, in particular, may affect the computational effort as the Hamiltonian matrix need to be calculated only for the selected symmetries.\n",
    "\n",
    "\n",
    "At present, only the default constructure AsfSettings() and the standard constructor is available, so that all 'changes' to the default values must be (re-) specified together with the default value. We shall work out a number of further constructurs if they will be found helpful for different applications.\n"
   ]
  },
  {
   "cell_type": "markdown",
   "metadata": {},
   "source": [
    "We finish this (simple) tutorial by enlarging the basis for the 10 lowest levels and by selecting only the level symmetries J^P = 0^+ and 1^- for the CI computations."
   ]
  },
  {
   "cell_type": "code",
   "execution_count": 10,
   "metadata": {},
   "outputs": [
    {
     "data": {
      "text/plain": [
       "generateScf:          true  \n",
       "breitScf:             false  \n",
       "methodScf:            meanDFS  \n",
       "startScf:             hydrogenic  \n",
       "orbitalFileScf:\t     xxx  \n",
       "levelsScf:\t         [1]  \n",
       "maxIterationsScf:\t 24  \n",
       "accuracyScf:\t         1.0e-6  \n",
       "shellSequenceScf:\t Subshell[]  \n",
       "coulombCI:\t         true  \n",
       "breitCI:\t             false  \n",
       "qedCI:\t             false  \n",
       "methodCI:\t         no-file  \n",
       "selectLevelsCI:\t     false  \n",
       "selectedLevelsCI:\t Int64[]  \n",
       "selectSymmetriesCI:\t false  \n",
       "selectedSymmetriesCI: LevelSymmetry[0 +, 1 -]  \n"
      ]
     },
     "execution_count": 10,
     "metadata": {},
     "output_type": "execute_result"
    }
   ],
   "source": [
    "asfSettings = AsfSettings(true, false, \"meanDFS\", \"hydrogenic\", \"xxx\", [1], 24, 1.0e-6, JAC.Subshell[], \n",
    "                          true, false, false, \"no-file\", false, Int64[], false, \n",
    "                          [LevelSymmetry(0,\"+\"), LevelSymmetry(1,\"-\"),] )"
   ]
  },
  {
   "cell_type": "code",
   "execution_count": 12,
   "metadata": {},
   "outputs": [
    {
     "name": "stdout",
     "output_type": "stream",
     "text": [
      "\n",
      "... in perform('computation: SCF', ...\n",
      "perform-aa: Configuration: 1s_1/2^2 2s_1/2^2 \n",
      "perform-aa: Configuration: 1s_1/2^2 2s_1/2^1 2p_3/2^1 \n",
      "perform-aa: Configuration: 1s_1/2^2 2s_1/2^1 2p_1/2^1 \n",
      "perform-aa: Configuration: 1s_1/2^2 2p_3/2^2 \n",
      "perform-aa: Configuration: 1s_1/2^2 2p_1/2^1 2p_3/2^1 \n",
      "perform-aa: Configuration: 1s_1/2^2 2p_1/2^2 \n",
      "perform-aa: Configuration: 1s_1/2^2 2s_1/2^2 \n",
      "perform-aa: Configuration: 1s_1/2^2 3p_3/2^2 \n",
      "perform-aa: Configuration: 1s_1/2^2 3p_1/2^1 3p_3/2^1 \n",
      "perform-aa: Configuration: 1s_1/2^2 3p_1/2^2 \n",
      "(Re-) Define a new standard subshell list.\n",
      "(Re-) Define a storage array for various B-spline matrices:\n",
      "Nuclear model = Fermi nuclear model for Z = 6.0 with mass = 12.18, radius R = 2.4934845703596404 fm and nuclear spin I = 0, dipole moment mu = 0.0 and quadrupole moment Q = 0.0. \n",
      "Generate hydrogenic orbital for subshell 1s_1/2 \n",
      "  -----------------------------------------------------------------------------\n",
      "   Index    Subshell     Energies [a.u.]    Dirac-E  [a.u.]     Delta-E / |E|    \n",
      "  -----------------------------------------------------------------------------\n",
      "      1      1s_1/2      -1.80086331e+01    -1.80086350e+01    +1.02976431e-07    \n",
      "      2      2s_1/2      -4.50269994e+00    -4.50269857e+00    -3.04312440e-07    \n",
      "      3      3s_1/2      -2.00097395e+00    -2.00095940e+00    -7.27254410e-06    \n",
      "      4      4s_1/2      -1.12570275e+00    -1.12543844e+00    -2.34794041e-04    \n",
      "      5      5s_1/2      -7.22417687e-01    -7.20234830e-01    -3.02159998e-03    \n",
      "      6      6s_1/2      -5.43499260e-01    -5.00139888e-01    -7.97781626e-02    \n",
      "      7      7s_1/2      -4.77992204e-01    -3.67436826e-01    -2.31291173e-01    \n",
      "      8      8s_1/2      -3.50617308e-01    -2.81311119e-01    -1.97669046e-01    \n",
      "      :       :    \n",
      "     51     51s_1/2      +8.45595432e+07    -6.92067167e-03    +1.00000000e+00    \n",
      "     52     52s_1/2      +1.28290116e+08    -6.65704673e-03    +1.00000000e+00    \n",
      "     53     53s_1/2      +2.02604410e+08    -6.40820299e-03    +1.00000000e+00    \n",
      "     54     54s_1/2      +3.45024075e+08    -6.17305571e-03    +1.00000000e+00    \n",
      "     55     55s_1/2      +6.89868760e+08    -5.95061791e-03    +1.00000000e+00    \n",
      "     56     56s_1/2      +2.35263571e+09    -5.73998987e-03    +1.00000000e+00    \n",
      "  -----------------------------------------------------------------------------\n",
      "Use hydrogenic orbital from this symmetriy block also for 1s_1/2.\n",
      "Use hydrogenic orbital from this symmetriy block also for 2s_1/2.\n",
      "Generate hydrogenic orbital for subshell 2p_1/2 \n",
      "  -----------------------------------------------------------------------------\n",
      "   Index    Subshell     Energies [a.u.]    Dirac-E  [a.u.]     Delta-E / |E|    \n",
      "  -----------------------------------------------------------------------------\n",
      "      1      2p_1/2      -4.50269897e+00    -4.50269857e+00    -8.86540654e-08    \n",
      "      2      3p_1/2      -2.00096504e+00    -2.00095940e+00    -2.81855014e-06    \n",
      "      3      4p_1/2      -1.12553178e+00    -1.12543844e+00    -8.29322950e-05    \n",
      "      4      5p_1/2      -7.20764947e-01    -7.20234830e-01    -7.35493432e-04    \n",
      "      5      6p_1/2      -5.03805548e-01    -5.00139888e-01    -7.27594233e-03    \n",
      "      6      7p_1/2      -4.02528567e-01    -3.67436826e-01    -8.71782608e-02    \n",
      "      7      8p_1/2      -3.37562144e-01    -2.81311119e-01    -1.66639019e-01    \n",
      "      8      9p_1/2      -2.51626325e-01    -2.22265641e-01    -1.16683674e-01    \n",
      "      :       :    \n",
      "     50     51p_1/2      +7.03537670e+07    -6.92067167e-03    +1.00000000e+00    \n",
      "     51     52p_1/2      +1.05503779e+08    -6.65704673e-03    +1.00000000e+00    \n",
      "     52     53p_1/2      +1.63213540e+08    -6.40820299e-03    +1.00000000e+00    \n",
      "     53     54p_1/2      +2.67045526e+08    -6.17305571e-03    +1.00000000e+00    \n",
      "     54     55p_1/2      +4.88063740e+08    -5.95061791e-03    +1.00000000e+00    \n",
      "     55     56p_1/2      +1.16229257e+09    -5.73998987e-03    +1.00000000e+00    \n",
      "  -----------------------------------------------------------------------------\n",
      "Use hydrogenic orbital from this symmetriy block also for 2p_1/2.\n",
      "Use hydrogenic orbital from this symmetriy block also for 3p_1/2.\n",
      "Generate hydrogenic orbital for subshell 2p_3/2 \n",
      "  -----------------------------------------------------------------------------\n",
      "   Index    Subshell     Energies [a.u.]    Dirac-E  [a.u.]     Delta-E / |E|    \n",
      "  -----------------------------------------------------------------------------\n",
      "      1      2p_3/2      -4.50053992e+00    -4.50053930e+00    -1.38182617e-07    \n",
      "      2      3p_3/2      -2.00032651e+00    -2.00031959e+00    -3.45808418e-06    \n",
      "      3      4p_3/2      -1.12540854e+00    -1.12516853e+00    -2.13264705e-04    \n",
      "      4      5p_3/2      -7.24653977e-01    -7.20096642e-01    -6.28898055e-03    \n",
      "      5      6p_3/2      -6.20146099e-01    -5.00059921e-01    -1.93641753e-01    \n",
      "      6      7p_3/2      -4.89006479e-01    -3.67386470e-01    -2.48708379e-01    \n",
      "      7      8p_3/2      -3.52280887e-01    -2.81277385e-01    -2.01553659e-01    \n",
      "      8      9p_3/2      -2.56112113e-01    -2.22241949e-01    -1.32247413e-01    \n",
      "      :       :    \n",
      "     51     52p_3/2      +1.00229880e+08    -6.65692392e-03    +1.00000000e+00    \n",
      "     52     53p_3/2      +1.53901193e+08    -6.40808699e-03    +1.00000000e+00    \n",
      "     53     54p_3/2      +2.48369371e+08    -6.17294605e-03    +1.00000000e+00    \n",
      "     54     55p_3/2      +4.41002908e+08    -5.95051411e-03    +1.00000000e+00    \n",
      "     55     56p_3/2      +9.65503947e+08    -5.73989154e-03    +1.00000000e+00    \n",
      "     56     57p_3/2      +3.73453601e+09    -5.54025693e-03    +1.00000000e+00    \n",
      "  -----------------------------------------------------------------------------\n",
      "Use hydrogenic orbital from this symmetriy block also for 2p_3/2.\n",
      "Use hydrogenic orbital from this symmetriy block also for 3p_3/2.\n",
      "Re-define the standard grid with 390 grid points.\n",
      "(Re-) Define a storage array for various B-spline matrices:\n",
      "\n",
      "Iteration 1 for symmetries ... \n",
      "  1s_1/2::  en [a.u.] = -1.05507472e+01;   self-consistency = 2.611361e-01  [1.000000e+02 for symmetry block kappa = -1]\n",
      "  2s_1/2::  en [a.u.] = -1.33970223e+00;   self-consistency = 5.413865e-01  [1.000000e+02 for symmetry block kappa = -1]\n",
      "  2p_1/2::  en [a.u.] = -1.07318918e+00;   self-consistency = 6.150607e-01  [1.000000e+02 for symmetry block kappa = 1]\n",
      "  3p_1/2::  en [a.u.] = -3.50121590e-01;   self-consistency = 7.021619e-01  [1.000000e+02 for symmetry block kappa = 1]\n",
      "  2p_3/2::  en [a.u.] = -1.15102296e+00;   self-consistency = 5.926709e-01  [1.000000e+02 for symmetry block kappa = -2]\n",
      "  3p_3/2::  en [a.u.] = -3.85276843e-01;   self-consistency = 6.769984e-01  [1.000000e+02 for symmetry block kappa = -2]\n",
      "\n",
      "Iteration 2 for symmetries ... \n",
      "  1s_1/2::  en [a.u.] = -1.16046544e+01;   self-consistency = 4.756886e-02  [4.678585e-01 for symmetry block kappa = -1]\n",
      "  2s_1/2::  en [a.u.] = -1.64186833e+00;   self-consistency = 1.013446e-01  [4.678585e-01 for symmetry block kappa = -1]\n",
      "  2p_1/2::  en [a.u.] = -1.33497122e+00;   self-consistency = 1.087062e-01  [2.503576e-01 for symmetry block kappa = 1]\n",
      "  3p_1/2::  en [a.u.] = -4.40844332e-01;   self-consistency = 1.146987e-01  [2.503576e-01 for symmetry block kappa = 1]\n",
      "  2p_3/2::  en [a.u.] = -1.32227597e+00;   self-consistency = 6.924072e-02  [2.573629e-01 for symmetry block kappa = -2]\n",
      "  3p_3/2::  en [a.u.] = -4.37423133e-01;   self-consistency = 6.338433e-02  [2.573629e-01 for symmetry block kappa = -2]\n",
      "\n",
      "Iteration 3 for symmetries ... \n",
      "  1s_1/2::  en [a.u.] = -1.14565404e+01;   self-consistency = 6.422653e-03  [9.395183e-02 for symmetry block kappa = -1]\n",
      "  2s_1/2::  en [a.u.] = -1.59971004e+00;   self-consistency = 1.300548e-02  [9.395183e-02 for symmetry block kappa = -1]\n",
      "  2p_1/2::  en [a.u.] = -1.30313145e+00;   self-consistency = 1.206919e-02  [3.635876e-02 for symmetry block kappa = 1]\n",
      "  3p_1/2::  en [a.u.] = -4.31920589e-01;   self-consistency = 1.022468e-02  [3.635876e-02 for symmetry block kappa = 1]\n",
      "  2p_3/2::  en [a.u.] = -1.30365663e+00;   self-consistency = 7.090561e-03  [4.527799e-02 for symmetry block kappa = -2]\n",
      "  3p_3/2::  en [a.u.] = -4.32121278e-01;   self-consistency = 6.097279e-03  [4.527799e-02 for symmetry block kappa = -2]\n",
      "\n",
      "Iteration 4 for symmetries ... \n",
      "  1s_1/2::  en [a.u.] = -1.14731724e+01;   self-consistency = 7.253475e-04  [7.041847e-03 for symmetry block kappa = -1]\n",
      "  2s_1/2::  en [a.u.] = -1.60364969e+00;   self-consistency = 1.229849e-03  [7.041847e-03 for symmetry block kappa = -1]\n"
     ]
    },
    {
     "name": "stdout",
     "output_type": "stream",
     "text": [
      "  2p_1/2::  en [a.u.] = -1.30574954e+00;   self-consistency = 1.003527e-03  [2.645843e-03 for symmetry block kappa = 1]\n",
      "  3p_1/2::  en [a.u.] = -4.32665369e-01;   self-consistency = 8.614295e-04  [2.645843e-03 for symmetry block kappa = 1]\n",
      "  2p_3/2::  en [a.u.] = -1.30503103e+00;   self-consistency = 5.268555e-04  [2.804878e-03 for symmetry block kappa = -2]\n",
      "  3p_3/2::  en [a.u.] = -4.32514990e-01;   self-consistency = 4.553499e-04  [2.804878e-03 for symmetry block kappa = -2]\n",
      "\n",
      "Iteration 5 for symmetries ... \n",
      "  1s_1/2::  en [a.u.] = -1.14713453e+01;   self-consistency = 7.963192e-05  [6.550929e-04 for symmetry block kappa = -1]\n",
      "  2s_1/2::  en [a.u.] = -1.60328369e+00;   self-consistency = 1.141278e-04  [6.550929e-04 for symmetry block kappa = -1]\n",
      "  2p_1/2::  en [a.u.] = -1.30554524e+00;   self-consistency = 7.823646e-05  [2.226812e-04 for symmetry block kappa = 1]\n",
      "  3p_1/2::  en [a.u.] = -4.32606311e-01;   self-consistency = 6.825290e-05  [2.226812e-04 for symmetry block kappa = 1]\n",
      "  2p_3/2::  en [a.u.] = -1.30493042e+00;   self-consistency = 3.854990e-05  [2.299557e-04 for symmetry block kappa = -2]\n",
      "  3p_3/2::  en [a.u.] = -4.32485196e-01;   self-consistency = 3.444409e-05  [2.299557e-04 for symmetry block kappa = -2]\n",
      "\n",
      "Iteration 6 for symmetries ... \n",
      "  1s_1/2::  en [a.u.] = -1.14715392e+01;   self-consistency = 8.452346e-06  [5.183957e-05 for symmetry block kappa = -1]\n",
      "  2s_1/2::  en [a.u.] = -1.60331565e+00;   self-consistency = 9.968657e-06  [5.183957e-05 for symmetry block kappa = -1]\n",
      "  2p_1/2::  en [a.u.] = -1.30555877e+00;   self-consistency = 5.183324e-06  [1.478833e-05 for symmetry block kappa = 1]\n",
      "  3p_1/2::  en [a.u.] = -4.32610324e-01;   self-consistency = 4.637319e-06  [1.478833e-05 for symmetry block kappa = 1]\n",
      "  2p_3/2::  en [a.u.] = -1.30493637e+00;   self-consistency = 2.278641e-06  [1.409573e-05 for symmetry block kappa = -2]\n",
      "  3p_3/2::  en [a.u.] = -4.32487058e-01;   self-consistency = 2.152769e-06  [1.409573e-05 for symmetry block kappa = -2]\n",
      "\n",
      "Iteration 7 for symmetries ... \n",
      "  1s_1/2::  en [a.u.] = -1.14715190e+01;   self-consistency = 8.813565e-07  [4.024545e-06 for symmetry block kappa = -1]\n",
      "  2s_1/2::  en [a.u.] = -1.60331294e+00;   self-consistency = 8.451877e-07  [4.024545e-06 for symmetry block kappa = -1]\n",
      "  2p_1/2::  en [a.u.] = -1.30555810e+00;   self-consistency = 2.587554e-07  [8.317717e-07 for symmetry block kappa = 1]\n",
      "  3p_1/2::  en [a.u.] = -4.32610105e-01;   self-consistency = 2.532542e-07  [8.317717e-07 for symmetry block kappa = 1]\n",
      "  2p_3/2::  en [a.u.] = -1.30493616e+00;   self-consistency = 7.944508e-08  [6.831319e-07 for symmetry block kappa = -2]\n",
      "  3p_3/2::  en [a.u.] = -4.32486975e-01;   self-consistency = 9.673880e-08  [6.831319e-07 for symmetry block kappa = -2]\n",
      "\n",
      "Iteration 8 for symmetries ... \n",
      "  1s_1/2::  en [a.u.] = -1.14715210e+01;   self-consistency = 9.035104e-08  [2.709428e-07 for symmetry block kappa = -1]\n",
      "  2s_1/2::  en [a.u.] = -1.60331316e+00;   self-consistency = 6.793691e-08  [2.709428e-07 for symmetry block kappa = -1]\n",
      "  2p_1/2::  en [a.u.] = -1.30555809e+00;   self-consistency = 4.399549e-10  [1.354916e-08 for symmetry block kappa = 1]\n",
      "  3p_1/2::  en [a.u.] = -4.32610108e-01;   self-consistency = 3.677115e-09  [1.354916e-08 for symmetry block kappa = 1]\n",
      "  2p_3/2::  en [a.u.] = -1.30493614e+00;   self-consistency = 6.853090e-09  [9.214279e-09 for symmetry block kappa = -2]\n",
      "  3p_3/2::  en [a.u.] = -4.32486973e-01;   self-consistency = 2.337864e-09  [9.214279e-09 for symmetry block kappa = -2]\n",
      "Compute CI matrix of dimension 2 x 2 for the symmetry 1^- ...   ... done.\n",
      "Compute CI matrix of dimension 2 x 2 for the symmetry 1^+ ...   ... done.\n",
      "Compute CI matrix of dimension 4 x 4 for the symmetry 2^+ ...   ... done.\n",
      "Compute CI matrix of dimension 6 x 6 for the symmetry 0^+ ...   ... done.\n",
      "Compute CI matrix of dimension 1 x 1 for the symmetry 0^- ...   ... done.\n",
      "Compute CI matrix of dimension 1 x 1 for the symmetry 2^- ...   ... done.\n",
      "\n",
      "  Eigenenergies:\n",
      "\n",
      "  Level  J Parity          Hartrees                    eV                   [eV]\n",
      "\n",
      "     1    0 +     -7.283806857406498e+01    -1.982024800920113e+03    -1.982024800920113e+03 \n",
      "     2    0 -     -3.624436011286343e+01    -9.862592740790174e+02    -9.862592740790174e+02 \n",
      "     3    1 -     -3.624421169772390e+01    -9.862552354973645e+02    -9.862552354973645e+02 \n",
      "     4    2 -     -3.624391440445444e+01    -9.862471457354483e+02    -9.862471457354483e+02 \n",
      "     5    1 -     -3.596255432390478e+01    -9.785909479729929e+02    -9.785909479729929e+02 \n",
      "     6    0 +     -3.584854851057104e+01    -9.754886917778445e+02    -9.754886917778445e+02 \n",
      "     7    1 +     -3.584840794015444e+01    -9.754848666619754e+02    -9.754848666619754e+02 \n",
      "     8    2 +     -3.584812855231797e+01    -9.754772641317081e+02    -9.754772641317081e+02 \n",
      "     9    2 +     -3.576715450431186e+01    -9.732738480538118e+02    -9.732738480538118e+02 \n",
      "    10    0 +     -3.564245241263009e+01    -9.698805312995578e+02    -9.698805312995578e+02 \n",
      "    11    0 +     -3.390375078434968e+01    -9.225680501188168e+02    -9.225680501188168e+02 \n",
      "    12    1 +     -3.390369975861024e+01    -9.225666616377241e+02    -9.225666616377241e+02 \n",
      "    13    2 +     -3.390359839475001e+01    -9.225639033865949e+02    -9.225639033865949e+02 \n",
      "    14    2 +     -3.387404563795776e+01    -9.217597319135658e+02    -9.217597319135658e+02 \n",
      "    15    0 +     -3.382946638709739e+01    -9.205466687099218e+02    -9.205466687099218e+02 \n",
      "    16    0 +     5.765353476455029e-15    1.568832589895668e-13    1.568832589895668e-13 \n",
      "\n",
      "  Energy of each level relative to immediately lower level:\n",
      "\n",
      "  Level  J Parity          Hartrees                    eV                   [eV]\n",
      "\n",
      "     2    0 -     3.659370846120155e+01    9.957655268410956e+02    9.957655268410956e+02 \n",
      "     3    1 -     1.484151395274580e-04    4.038581652893820e-03    4.038581652893820e-03 \n",
      "     4    2 -     2.972932694547126e-04    8.089761916280058e-03    8.089761916280058e-03 \n",
      "     5    1 -     2.813600805496677e-01    7.656197762455300e+00    7.656197762455300e+00 \n",
      "     6    0 +     1.140058133337405e-01    3.102256195148475e+00    3.102256195148475e+00 \n",
      "     7    1 +     1.405704165975408e-04    3.825115869027897e-03    3.825115869027897e-03 \n",
      "     8    2 +     2.793878364641955e-04    7.602530267319856e-03    7.602530267319856e-03 \n",
      "     9    2 +     8.097404800611230e-02    2.203416077896333e+00    2.203416077896333e+00 \n",
      "    10    0 +     1.247020916817689e-01    3.393316754254045e+00    3.393316754254045e+00 \n",
      "    11    0 +     1.738701628280417e+00    4.731248118074097e+01    4.731248118074097e+01 \n",
      "    12    1 +     5.102573943105426e-05    1.388481092614353e-03    1.388481092614353e-03 \n",
      "    13    2 +     1.013638602316291e-04    2.758251129240187e-03    2.758251129240187e-03 \n",
      "    14    2 +     2.955275679224911e-02    8.041714730290676e-01    8.041714730290676e-01 \n",
      "    15    0 +     4.457925086037307e-02    1.213063203644029e+00    1.213063203644029e+00 \n",
      "    16    0 +     3.382946638709740e+01    9.205466687099220e+02    9.205466687099220e+02 \n",
      "\n",
      "  Energy of each level relative to lowest level:\n",
      "\n",
      "  Level  J Parity          Hartrees                    eV                   [eV]\n",
      "\n",
      "     2    0 -     3.659370846120155e+01    9.957655268410956e+02    9.957655268410956e+02 \n",
      "     3    1 -     3.659385687634108e+01    9.957695654227484e+02    9.957695654227484e+02 \n",
      "     4    2 -     3.659415416961053e+01    9.957776551846647e+02    9.957776551846647e+02 \n",
      "     5    1 -     3.687551425016020e+01    1.003433852947120e+03    1.003433852947120e+03 \n",
      "     6    0 +     3.698952006349394e+01    1.006536109142269e+03    1.006536109142269e+03 \n",
      "     7    1 +     3.698966063391054e+01    1.006539934258138e+03    1.006539934258138e+03 \n",
      "     8    2 +     3.698994002174700e+01    1.006547536788405e+03    1.006547536788405e+03 \n",
      "     9    2 +     3.707091406975312e+01    1.008750952866301e+03    1.008750952866301e+03 \n",
      "    10    0 +     3.719561616143488e+01    1.012144269620555e+03    1.012144269620555e+03 \n",
      "    11    0 +     3.893431778971530e+01    1.059456750801296e+03    1.059456750801296e+03 \n",
      "    12    1 +     3.893436881545473e+01    1.059458139282389e+03    1.059458139282389e+03 \n",
      "    13    2 +     3.893447017931496e+01    1.059460897533518e+03    1.059460897533518e+03 \n",
      "    14    2 +     3.896402293610721e+01    1.060265069006547e+03    1.060265069006547e+03 \n",
      "    15    0 +     3.900860218696759e+01    1.061478132210191e+03    1.061478132210191e+03 \n",
      "    16    0 +     7.283806857406498e+01    1.982024800920113e+03    1.982024800920113e+03 \n"
     ]
    }
   ],
   "source": [
    "basis     = perform(\"computation: SCF\", [Configuration(\"1s^2 2s^2\"), Configuration(\"1s^2 2s 2p\"), \n",
    "             Configuration(\"1s^2 2p^2\"), Configuration(\"1s^2 2s^2\"), Configuration(\"1s^2 3p^2\")], \n",
    "                                               nucModel, grid, asfSettings)\n",
    "multiplet = perform(\"computation: CI\",  basis, nucModel, grid, asfSettings);"
   ]
  },
  {
   "cell_type": "code",
   "execution_count": null,
   "metadata": {},
   "outputs": [],
   "source": []
  }
 ],
 "metadata": {
  "@webio": {
   "lastCommId": "5b62c02954df449d80992277d173db00",
   "lastKernelId": "5ff1a417-05dd-41e4-90a9-4eae8dc54ae9"
  },
  "kernelspec": {
   "display_name": "Julia 1.0.3",
   "language": "julia",
   "name": "julia-1.0"
  },
  "language_info": {
   "file_extension": ".jl",
   "mimetype": "application/julia",
   "name": "julia",
   "version": "1.0.3"
  }
 },
 "nbformat": 4,
 "nbformat_minor": 2
}
